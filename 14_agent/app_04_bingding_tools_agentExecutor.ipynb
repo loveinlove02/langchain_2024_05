{
 "cells": [
  {
   "cell_type": "code",
   "execution_count": 1,
   "metadata": {},
   "outputs": [],
   "source": [
    "from dotenv import load_dotenv\n",
    "import os\n",
    "\n",
    "load_dotenv(verbose=True)\n",
    "key = os.getenv('OPENAI_API_KEY')"
   ]
  },
  {
   "cell_type": "code",
   "execution_count": 2,
   "metadata": {},
   "outputs": [],
   "source": [
    "from langchain_openai import ChatOpenAI\n",
    "from langchain_core.prompts import ChatPromptTemplate\n",
    "from langchain_core.prompts import MessagesPlaceholder"
   ]
  },
  {
   "cell_type": "code",
   "execution_count": 3,
   "metadata": {},
   "outputs": [],
   "source": [
    "from langchain.agents import create_tool_calling_agent\n",
    "from langchain.agents import AgentExecutor"
   ]
  },
  {
   "cell_type": "code",
   "execution_count": 4,
   "metadata": {},
   "outputs": [],
   "source": [
    "from langchain_core.output_parsers.openai_tools import JsonOutputToolsParser\n",
    "from langchain_teddynote.tools import GoogleNews\n",
    "from langchain.agents import tool\n",
    "from typing import List, Dict\n",
    "from bs4 import BeautifulSoup\n",
    "import requests\n",
    "import re"
   ]
  },
  {
   "cell_type": "code",
   "execution_count": 5,
   "metadata": {},
   "outputs": [],
   "source": [
    "@tool\n",
    "def get_word_length(word: str) -> int: \n",
    "    \"\"\"Returns the length of a word.\"\"\"\n",
    "    return len(word)"
   ]
  },
  {
   "cell_type": "code",
   "execution_count": 6,
   "metadata": {},
   "outputs": [],
   "source": [
    "@tool\n",
    "def add_function(a: float, b: float) -> float:\n",
    "    \"\"\"Adds two numbers together.\"\"\"\n",
    "    return a + b"
   ]
  },
  {
   "cell_type": "code",
   "execution_count": 7,
   "metadata": {},
   "outputs": [],
   "source": [
    "@tool\n",
    "def naver_news_crawl(news_url: str) -> str:\n",
    "    \"\"\"Crawls a 네이버 (naver.com) news article and returns the body content.\"\"\"\n",
    "    \n",
    "    response = requests.get(news_url)           # HTTP GET 요청 보내기\n",
    "\n",
    "    if response.status_code == 200:             # 요청 성공\n",
    "        # BeautifulSoup을 사용하여 HTML 파싱\n",
    "        soup = BeautifulSoup(response.text, \"html.parser\")\n",
    "\n",
    "        # 원하는 정보 추출\n",
    "        title = soup.find(\"h2\", id=\"title_area\").get_text()\n",
    "        content = soup.find(\"div\", id=\"contents\").get_text()\n",
    "        cleaned_title = re.sub(r\"\\n{2,}\", \"\\n\", title)      # \\n 이 2번이상 반복되는 것을 찾아서 \\n으로 바꾼다.\n",
    "        cleaned_content = re.sub(r\"\\n{2,}\", \"\\n\", content)\n",
    "    else:\n",
    "        print(f\"HTTP 요청 실패. 응답 코드: {response.status_code}\")\n",
    "\n",
    "    return f\"{cleaned_title}\\n{cleaned_content}\""
   ]
  },
  {
   "cell_type": "code",
   "execution_count": 8,
   "metadata": {},
   "outputs": [],
   "source": [
    "@tool\n",
    "def search_keyword(query: str) -> List[Dict[str, str]]:\n",
    "    # 키워드로 뉴스 검색하는 도구 생성     \n",
    "    \"\"\"Look up news by keyword\"\"\"\n",
    "    print(query)\n",
    "    news_tool = GoogleNews()\n",
    "    return news_tool.search_by_keyword(query, k=5)"
   ]
  },
  {
   "cell_type": "code",
   "execution_count": 9,
   "metadata": {},
   "outputs": [],
   "source": [
    "# Agent 프롬프트 생성\n",
    "prompt = ChatPromptTemplate.from_messages(\n",
    "    [\n",
    "        (\n",
    "            \"system\",\n",
    "            \"You are very powerful assistant, but don't know current events\",\n",
    "        ),\n",
    "        (\"user\", \"{input}\"),\n",
    "        MessagesPlaceholder(variable_name=\"agent_scratchpad\"),\n",
    "    ]\n",
    ")"
   ]
  },
  {
   "cell_type": "code",
   "execution_count": 10,
   "metadata": {},
   "outputs": [],
   "source": [
    "# 모델 생성\n",
    "llm = ChatOpenAI(model=\"gpt-4o-mini\", temperature=0)"
   ]
  },
  {
   "cell_type": "code",
   "execution_count": 11,
   "metadata": {},
   "outputs": [],
   "source": [
    "tools = [get_word_length, add_function, naver_news_crawl, search_keyword]"
   ]
  },
  {
   "cell_type": "code",
   "execution_count": 12,
   "metadata": {},
   "outputs": [],
   "source": [
    "# Agent 생성\n",
    "agent = create_tool_calling_agent(llm, tools, prompt)"
   ]
  },
  {
   "cell_type": "code",
   "execution_count": 16,
   "metadata": {},
   "outputs": [],
   "source": [
    "# AgentExecutor 생성\n",
    "agent_executor = AgentExecutor(\n",
    "    agent=agent,\n",
    "    tools=tools,\n",
    "    verbose=True,\n",
    "    handle_parsing_errors=True,\n",
    ")"
   ]
  },
  {
   "cell_type": "code",
   "execution_count": 17,
   "metadata": {},
   "outputs": [
    {
     "name": "stdout",
     "output_type": "stream",
     "text": [
      "\n",
      "\n",
      "\u001b[1m> Entering new AgentExecutor chain...\u001b[0m\n",
      "\u001b[32;1m\u001b[1;3m\n",
      "Invoking: `get_word_length` with `{'word': 'LEEINHWAN'}`\n",
      "\n",
      "\n",
      "\u001b[0m\u001b[36;1m\u001b[1;3m9\u001b[0m\u001b[32;1m\u001b[1;3mThe word \"LEEINHWAN\" has 9 letters.\u001b[0m\n",
      "\n",
      "\u001b[1m> Finished chain.\u001b[0m\n"
     ]
    }
   ],
   "source": [
    "# Agent 실행\n",
    "result = agent_executor.invoke({\"input\": \"How many letters in the word `LEEINHWAN`?\"})"
   ]
  },
  {
   "cell_type": "code",
   "execution_count": 18,
   "metadata": {},
   "outputs": [
    {
     "name": "stdout",
     "output_type": "stream",
     "text": [
      "The word \"LEEINHWAN\" has 9 letters.\n"
     ]
    }
   ],
   "source": [
    "print(result[\"output\"])"
   ]
  },
  {
   "cell_type": "code",
   "execution_count": 21,
   "metadata": {},
   "outputs": [
    {
     "name": "stdout",
     "output_type": "stream",
     "text": [
      "\n",
      "\n",
      "\u001b[1m> Entering new AgentExecutor chain...\u001b[0m\n",
      "\u001b[32;1m\u001b[1;3m\n",
      "Invoking: `search_keyword` with `{'query': '대한민국 계엄령'}`\n",
      "\n",
      "\n",
      "\u001b[0m대한민국 계엄령\n",
      "\u001b[36;1m\u001b[1;3m[{'url': 'https://news.google.com/rss/articles/CBMiW0FVX3lxTE9nUDFxLTk5N2Z4cWV2ZUpVejE4ZG5aY1VKSjNIRmdmVDk1RHp3YXVHdTNwbGNfa0g5SXlISk9NVUUxTjVPbWdDMHNhZUpaYTFMaVQtUEVVbXpmQjDSAV5BVV95cUxQUERleWdRM1dqTmtFejVLN3N2ZkdvaEdnelA4amtySjljdFN4TllISGhKVFU0b3M5aDVKUVRHOWZ6VE52TG5RQnJET1lpdWpjYkd5VnBxNTllLXFlN2xR?oc=5', 'content': '북한, 尹계엄령·탄핵 사태 첫 보도…\"괴뢰한국 땅 아비규환\" - 연합뉴스'}, {'url': 'https://news.google.com/rss/articles/CBMiXEFVX3lxTE5BcDBjMEc4Mkc4dG0zVzgxU1J0dDh2MFBRLTh2b2Jndl9RaEtWUVBwWXVwNmlrTjlBQ2tOWE1oN0NxamVWUjJCRmgzMENUUlRPdXl3bFdONjNUOXJj0gFiQVVfeXFMTlNZWENPNmNRalJaclBPR1N1ak16M1JxVll1Rm1Yem1OWDdpSUVIR3ZPcWhkOTFGNk1oRmtXMmctN2wyWlU1dExSaEdNTVh4aE9MTnhyVUpzMVR5emhQU1MtYkE?oc=5', 'content': \"두 번째 담화 낸 윤석열 대통령 '탄핵하든 수사하든 맞서겠다' - BBC.com\"}, {'url': 'https://news.google.com/rss/articles/CBMiWkFVX3lxTE5YWHpjYUltRnBIZ1BiUzN6SDQyZlRFZFhLb0Y4WS02MmRyMDFWVGZ2MTd3WlpOak1GWmxmWlVEdlgtTW82MW44Vk9iMW9scWNYcmlaNmk2QnFzUdIBVEFVX3lxTFAyZ0Q1d2t5NFpjRXg3cE56VXlEampHaVhIcDRTZFRhbW5vbmVWQVhTSXUtczhjNVFLY29VTzE1amNzdTZoWXJNdHByeDBjSTI5SXJ3Rg?oc=5', 'content': '김어준, 계엄 해제 후에도 36시간 은신…\"죽는 줄 알았다\" - 한국경제'}, {'url': 'https://news.google.com/rss/articles/CBMickFVX3lxTE9TOFN5bXE3bTFtbWZlWWRoSUlPWXhJWlFxR3YxV0t5WFU1OUxrN095RHVRZ04wNkhYVWFyS09HRlBhRGR2WHAyaFJoLVVQZjN1RmNNMjNWc0FnVUNwT292b2lUTlRxYjQ1eXkyZHVQd215dw?oc=5', 'content': '‘계엄의 밤’ 겪은 시민들, 윤석열에 위자료 청구 가능할까? - 한겨레'}, {'url': 'https://news.google.com/rss/articles/CBMiWkFVX3lxTE5kWDZJTUVWVUliS3lMMUlUZUJqSndwT3NmdlVMU2ZpMDJZY2VWTUdNdVJzcTJIb3pKUFViT2d6ZWxlTWYzZl9lMTdvSVpEQXlfa1VDZGxsclNkQdIBXEFVX3lxTE1HSXA5bDBUX0xrXzliSHVid0NGRFIwRjlYT2xSYmdENFpud2lHcjJVZ3h6RUJEUlR5U0pUQnIzOEotMjV1bTlEYjZIYWs5MVRkNlJ6SXljU2JzUUZa?oc=5', 'content': '[기고]검찰 국가의 권력 사유화가 낳은 비상계엄 사태 - 경향신문'}]\u001b[0m\u001b[32;1m\u001b[1;3m다음은 대한민국 계엄령에 대한 최근 뉴스 기사들입니다:\n",
      "\n",
      "1. [북한, 尹계엄령·탄핵 사태 첫 보도…\\\"괴뢰한국 땅 아비규환\\\" - 연합뉴스](https://news.google.com/rss/articles/CBMiW0FVX3lxTE9nUDFxLTk5N2Z4cWV2ZUpVejE4ZG5aY1VKSjNIRmdmVDk1RHp3YXVHdTNwbGNfa0g5SXlISk9NVUUxTjVPbWdDMHNhZUpaYTFMaVQtUEVVbXpmQjDSAV5BVV95cUxQUERleWdRM1dqTmtFejVLN3N2ZkdvaEdnelA4amtySjljdFN4TllISGhKVFU0b3M5aDVKUVRHOWZ6VE52TG5RQnJET1lpdWpjYkd5VnBxNTllLXFlN2xR?oc=5)\n",
      "\n",
      "2. [두 번째 담화 낸 윤석열 대통령 '탄핵하든 수사하든 맞서겠다' - BBC.com](https://news.google.com/rss/articles/CBMiXEFVX3lxTE5BcDBjMEc4Mkc4dG0zVzgxU1J0dDh2MFBRLTh2b2Jndl9RaEtWUVBwWXVwNmlrTjlBQ2tOWE1oN0NxamVWUjJCRmgzMENUUlRPdXl3bFdONjNUOXJj0gFiQVVfeXFMTlNZWENPNmNRalJaclBPR1N1ak16M1JxVll1Rm1Yem1OWDdpSUVIR3ZPcWhkOTFGNk1oRmtXMmctN2wyWlU1dExSaEdNTVh4aE9MTnhyVUpzMVR5emhQU1MtYkE?oc=5)\n",
      "\n",
      "3. [김어준, 계엄 해제 후에도 36시간 은신…\\\"죽는 줄 알았다\\\" - 한국경제](https://news.google.com/rss/articles/CBMiWkFVX3lxTE5YWHpjYUltRnBIZ1BiUzN6SDQyZlRFZFhLb0Y4WS02MmRyMDFWVGZ2MTd3WlpOak1GWmxmWlVEdlgtTW82MW44Vk9iMW9scWNYcmlaNmk2QnFzUdIBVEFVX3lxTFAyZ0Q1d2t5NFpjRXg3cE56VXlEampHaVhIcDRTZFRhbW5vbmVWQVhTSXUtczhjNVFLY29VTzE1amNzdTZoWXJNdHByeDBjSTI5SXJ3Rg?oc=5)\n",
      "\n",
      "4. [‘계엄의 밤’ 겪은 시민들, 윤석열에 위자료 청구 가능할까? - 한겨레](https://news.google.com/rss/articles/CBMickFVX3lxTE9TOFN5bXE3bTFtbWZlWWRoSUlPWXhJWlFxR3YxV0t5WFU1OUxrN095RHVRZ04wNkhYVWFyS09HRlBhRGR2WHAyaFJoLVVQZjN1RmNNMjNWc0FnVUNwT292b2lUTlRxYjQ1eXkyZHVQd215dw?oc=5)\n",
      "\n",
      "5. [[기고]검찰 국가의 권력 사유화가 낳은 비상계엄 사태 - 경향신문](https://news.google.com/rss/articles/CBMiWkFVX3lxTE5kWDZJTUVWVUliS3lMMUlUZUJqSndwT3NmdlVMU2ZpMDJZY2VWTUdNdVJzcTJIb3pKUFViT2d6ZWxlTWYzZl9lMTdvSVpEQXlfa1VDZGxsclNkQdIBXEFVX3lxTE1HSXA5bDBUX0xrXzliSHVid0NGRFIwRjlYT2xSYmdENFpud2lHcjJVZ3h6RUJEUlR5U0pUQnIzOEotMjV1bTlEYjZIYWs5MVRkNlJ6SXljU2JzUUZa?oc=5)\n",
      "\n",
      "이 기사들을 통해 대한민국 계엄령에 대한 다양한 관점과 정보를 확인할 수 있습니다.\u001b[0m\n",
      "\n",
      "\u001b[1m> Finished chain.\u001b[0m\n"
     ]
    }
   ],
   "source": [
    "result = agent_executor.invoke({\"input\": \"대한민국 계엄령에대해서 네이버 뉴스에서 찾아줘\"})"
   ]
  },
  {
   "cell_type": "code",
   "execution_count": 22,
   "metadata": {},
   "outputs": [
    {
     "name": "stdout",
     "output_type": "stream",
     "text": [
      "다음은 대한민국 계엄령에 대한 최근 뉴스 기사들입니다:\n",
      "\n",
      "1. [북한, 尹계엄령·탄핵 사태 첫 보도…\\\"괴뢰한국 땅 아비규환\\\" - 연합뉴스](https://news.google.com/rss/articles/CBMiW0FVX3lxTE9nUDFxLTk5N2Z4cWV2ZUpVejE4ZG5aY1VKSjNIRmdmVDk1RHp3YXVHdTNwbGNfa0g5SXlISk9NVUUxTjVPbWdDMHNhZUpaYTFMaVQtUEVVbXpmQjDSAV5BVV95cUxQUERleWdRM1dqTmtFejVLN3N2ZkdvaEdnelA4amtySjljdFN4TllISGhKVFU0b3M5aDVKUVRHOWZ6VE52TG5RQnJET1lpdWpjYkd5VnBxNTllLXFlN2xR?oc=5)\n",
      "\n",
      "2. [두 번째 담화 낸 윤석열 대통령 '탄핵하든 수사하든 맞서겠다' - BBC.com](https://news.google.com/rss/articles/CBMiXEFVX3lxTE5BcDBjMEc4Mkc4dG0zVzgxU1J0dDh2MFBRLTh2b2Jndl9RaEtWUVBwWXVwNmlrTjlBQ2tOWE1oN0NxamVWUjJCRmgzMENUUlRPdXl3bFdONjNUOXJj0gFiQVVfeXFMTlNZWENPNmNRalJaclBPR1N1ak16M1JxVll1Rm1Yem1OWDdpSUVIR3ZPcWhkOTFGNk1oRmtXMmctN2wyWlU1dExSaEdNTVh4aE9MTnhyVUpzMVR5emhQU1MtYkE?oc=5)\n",
      "\n",
      "3. [김어준, 계엄 해제 후에도 36시간 은신…\\\"죽는 줄 알았다\\\" - 한국경제](https://news.google.com/rss/articles/CBMiWkFVX3lxTE5YWHpjYUltRnBIZ1BiUzN6SDQyZlRFZFhLb0Y4WS02MmRyMDFWVGZ2MTd3WlpOak1GWmxmWlVEdlgtTW82MW44Vk9iMW9scWNYcmlaNmk2QnFzUdIBVEFVX3lxTFAyZ0Q1d2t5NFpjRXg3cE56VXlEampHaVhIcDRTZFRhbW5vbmVWQVhTSXUtczhjNVFLY29VTzE1amNzdTZoWXJNdHByeDBjSTI5SXJ3Rg?oc=5)\n",
      "\n",
      "4. [‘계엄의 밤’ 겪은 시민들, 윤석열에 위자료 청구 가능할까? - 한겨레](https://news.google.com/rss/articles/CBMickFVX3lxTE9TOFN5bXE3bTFtbWZlWWRoSUlPWXhJWlFxR3YxV0t5WFU1OUxrN095RHVRZ04wNkhYVWFyS09HRlBhRGR2WHAyaFJoLVVQZjN1RmNNMjNWc0FnVUNwT292b2lUTlRxYjQ1eXkyZHVQd215dw?oc=5)\n",
      "\n",
      "5. [[기고]검찰 국가의 권력 사유화가 낳은 비상계엄 사태 - 경향신문](https://news.google.com/rss/articles/CBMiWkFVX3lxTE5kWDZJTUVWVUliS3lMMUlUZUJqSndwT3NmdlVMU2ZpMDJZY2VWTUdNdVJzcTJIb3pKUFViT2d6ZWxlTWYzZl9lMTdvSVpEQXlfa1VDZGxsclNkQdIBXEFVX3lxTE1HSXA5bDBUX0xrXzliSHVid0NGRFIwRjlYT2xSYmdENFpud2lHcjJVZ3h6RUJEUlR5U0pUQnIzOEotMjV1bTlEYjZIYWs5MVRkNlJ6SXljU2JzUUZa?oc=5)\n",
      "\n",
      "이 기사들을 통해 대한민국 계엄령에 대한 다양한 관점과 정보를 확인할 수 있습니다.\n"
     ]
    }
   ],
   "source": [
    "print(result[\"output\"])"
   ]
  },
  {
   "cell_type": "code",
   "execution_count": 23,
   "metadata": {},
   "outputs": [
    {
     "name": "stdout",
     "output_type": "stream",
     "text": [
      "\n",
      "\n",
      "\u001b[1m> Entering new AgentExecutor chain...\u001b[0m\n",
      "\u001b[32;1m\u001b[1;3m\n",
      "Invoking: `add_function` with `{'a': 114.5, 'b': 121.2}`\n",
      "\n",
      "\n",
      "\u001b[0m\u001b[33;1m\u001b[1;3m235.7\u001b[0m\u001b[32;1m\u001b[1;3m114.5 + 121.2의 계산 결과는 235.7입니다.\u001b[0m\n",
      "\n",
      "\u001b[1m> Finished chain.\u001b[0m\n",
      "114.5 + 121.2의 계산 결과는 235.7입니다.\n"
     ]
    }
   ],
   "source": [
    "# Agent 실행\n",
    "result = agent_executor.invoke({\"input\": \"114.5 + 121.2 의 계산 결과는?\"})\n",
    "\n",
    "# 결과 확인\n",
    "print(result[\"output\"])"
   ]
  },
  {
   "cell_type": "code",
   "execution_count": 24,
   "metadata": {},
   "outputs": [
    {
     "name": "stdout",
     "output_type": "stream",
     "text": [
      "\n",
      "\n",
      "\u001b[1m> Entering new AgentExecutor chain...\u001b[0m\n",
      "\u001b[32;1m\u001b[1;3m\n",
      "Invoking: `add_function` with `{'a': 114.5, 'b': 121.2}`\n",
      "\n",
      "\n",
      "\u001b[0m\u001b[33;1m\u001b[1;3m235.7\u001b[0m\u001b[32;1m\u001b[1;3m\n",
      "Invoking: `add_function` with `{'a': 235.7, 'b': 34.2}`\n",
      "\n",
      "\n",
      "\u001b[0m\u001b[33;1m\u001b[1;3m269.9\u001b[0m\u001b[32;1m\u001b[1;3m\n",
      "Invoking: `add_function` with `{'a': 269.9, 'b': 110.1}`\n",
      "\n",
      "\n",
      "\u001b[0m\u001b[33;1m\u001b[1;3m380.0\u001b[0m\u001b[32;1m\u001b[1;3m114.5 + 121.2 + 34.2 + 110.1의 계산 결과는 380.0입니다.\u001b[0m\n",
      "\n",
      "\u001b[1m> Finished chain.\u001b[0m\n"
     ]
    }
   ],
   "source": [
    "# Agent 실행\n",
    "result = agent_executor.invoke(\n",
    "    {\"input\": \"114.5 + 121.2 + 34.2 + 110.1 의 계산 결과는?\"}\n",
    ")"
   ]
  },
  {
   "cell_type": "code",
   "execution_count": 25,
   "metadata": {},
   "outputs": [
    {
     "name": "stdout",
     "output_type": "stream",
     "text": [
      "\n",
      "\n",
      "\u001b[1m> Entering new AgentExecutor chain...\u001b[0m\n",
      "\u001b[32;1m\u001b[1;3m\n",
      "Invoking: `naver_news_crawl` with `{'news_url': 'https://n.news.naver.com/mnews/hotissue/article/092/0002347672?type=series&cid=2000065'}`\n",
      "\n",
      "\n",
      "\u001b[0m\u001b[38;5;200m\u001b[1;3m[미장브리핑] 9월 미국 CPI 주목…3분기 S&P500 실적 발표\n",
      "\n",
      "\t\t\t▲10일(현지시간) 미국 9월 소비자물가지수(CPI) 발표 예정. 고용 지표가 양호하게 나온 가운데 물가 지표 주목. 9월 미국 비농업고용 25만4천명 증가해 시장 예상치 14만명 크게 상회. 이는 6개월 래 최대 규모로 지난 12개월 평균값 20만3천명 증가한 것보다도 높은 수치. 9월 실업률은 4.1%로 2개월 연속 하락했으며, 평균 시간당 임금은 전년 동월 대비 4% 증가해 5월 이후 최고 수준.▲시장에서 9월 헤드라인 CPI는 8월 전년 동월 대비 2.6% 로 5개월 연속 둔화하고 9월에는 2.3% 증가로 추가 하락 예상. 전월 대비도 8월 0.2% 둔화 예상. 근원 CPI는 지난 8월 3.2%와 비슷한 수준 관측.▲11일에는 미국 9월 제조업물가지수(PPI) 발표. 지난 6월 부터 8월까지 반등 추세 꺾여. 8월은 1.7% 증가.\n",
      "(사진=이미지투데이)▲11월 미국 연방준비제도(연준) 공개시장위원회(FOMC) 에서 0.50%p 인하 기대가 크케 후퇴한 가운데, 9일에는 FOMC 의사록 공개. 지난 9월 회의에서 빅컷(0.50%p) 단행한 배경과 인플레이션 전망에 대한 논의를 알 수 있을 것으로 보여.▲미국 스탠다드앤푸어스(S&P) 500 기업의 3분기 실적 발표 시작. 평균 이익증가율 추정치는 전년 동기 대비 4.6%로 5개분기 연속 플러스이나 증가폭은 둔화 예상. 11일부터 JP모건체이스, 웰스파고 등 대형은행들의 실적 발표.▲FTSE 러셀은 8일 정례 시장분류 결과를 발표. 한국은 2022년 관찰대상국 지정 이후 금번 시장접근성 등급(L1) 상향으로 세계국채지수(WGBI) 에 편입될 지 관심. 주식의 경우 지난 2009년부터 선진국 지수에 편입돼 있는 한국 증시에 대해 공매도 제한 등을 이유로 관찰 대상국으로 지정할지 관심. 지정되더라도 검토 기간이 있어 즉각 제외되지는 않음.\n",
      "손희연 기자(kunst@zdnet.co.kr)\n",
      "기자 프로필\n",
      "지디넷코리아\n",
      "지디넷코리아\n",
      "손희연 기자\n",
      "구독\n",
      "구독중\n",
      "구독자 0\n",
      "응원수\n",
      "0\n",
      "디지털이 접목되는 금융·식음료업계를 취재합니다 \n",
      "탄핵 불발 후폭풍…코스피·코스닥 52주 신저가 경신\n",
      "[속보] 코스닥 5% 폭락…630선 붕괴\n",
      "지디넷코리아의 구독 많은 기자를 구독해보세요!\n",
      "닫기\n",
      "Copyright ⓒ ZDNet Korea. All rights reserved. 무단 전재 및 재배포 금지.\n",
      " \n",
      "이 기사는 언론사에서 IT 섹션으로 분류했습니다.\n",
      "기사 섹션 분류 안내\n",
      "기사의 섹션 정보는 해당 언론사의 분류를 따르고 있습니다. 언론사는 개별 기사를 2개 이상 섹션으로 중복 분류할 수 있습니다.\n",
      "닫기\n",
      "구독\n",
      "메인에서 바로 보는 언론사 편집 뉴스 지금 바로 구독해보세요!\n",
      "구독중\n",
      "메인에서 바로 보는 언론사 편집 뉴스 지금 바로 확인해보세요!\n",
      "지디넷코리아 '홈페이지'\n",
      "QR 코드를 클릭하면 크게 볼 수 있어요.\n",
      "QR을 촬영해보세요.\n",
      "지디넷코리아 '홈페이지'\n",
      "닫기\n",
      "네이버 채널 구독하기\n",
      "지디넷코리아\n",
      "지디넷코리아\n",
      "\t\t\t주요뉴스해당 언론사에서 선정하며 언론사 페이지(아웃링크)로 이동해 볼 수 있습니다.\n",
      "KB금융, 광주 1인 여성 자영업자에 월 100만원 지원\n",
      "아파트만? 이제 빌라 주담대도 갈아타자\n",
      "카카오뱅크, 6일 새벽 금융거래 일시 중단\n",
      "우리은행 올해만 세 번째 금융사고…\"허위서류로 55억 대출\"\n",
      "이 기사를 추천합니다\n",
      "기사 추천은 24시간 내 50회까지 참여할 수 있습니다.\n",
      "닫기\n",
      "쏠쏠정보\n",
      "0\n",
      "흥미진진\n",
      "0\n",
      "공감백배\n",
      "0\n",
      "분석탁월\n",
      "0\n",
      "후속강추\n",
      "0\n",
      " \n",
      "모두에게 보여주고 싶은 기사라면?beta\n",
      "이 기사를 추천합니다 버튼을 눌러주세요.  집계 기간 동안 추천을 많이 받은 기사는 네이버 자동 기사배열 영역에 추천 요소로 활용됩니다.\n",
      "레이어 닫기\n",
      " \n",
      "지디넷코리아 언론사가 직접 선정한 이슈\n",
      "\t\t\t\n",
      "이슈\n",
      "트럼프가 다시 온다\n",
      "트럼프, 전기차 보조금 없앤다는데…공화당 '글쎄'\n",
      "이슈\n",
      "AI 핫트렌드\n",
      "AWS-오비탈, 지속 가능한 데이터 센터 구축 나선다\n",
      "이슈\n",
      "고려아연 경영권 분쟁\n",
      "영풍정밀, 영풍 경영진 5인 상대로 주주대표 손해배상 제기\n",
      "이슈\n",
      "반도체 전쟁\n",
      "인텔 임시 CEO \"파운드리 사업 분사 여부 미정\"\n",
      "이전\n",
      "다음\n",
      "연재\n",
      "미장브리핑\n",
      "구독 명\n",
      "구독\n",
      "구독중\n",
      "구독해주셔서 감사합니다\n",
      "구독한 연재는 설정 페이지에서확인할 수 있습니다\n",
      "닫기\n",
      "더보기\n",
      "중동발 위기 고조…국제유가 급등\n",
      "9월 미국 CPI 주목…3분기 S&P500 실적 발표\n",
      "중동발 긴장 고조…한 때 원유값 급등\n",
      "지디넷코리아 언론사홈 바로가기\n",
      " \n",
      "기자 구독 후 기사보기\n",
      "구독 없이 계속 보기\n",
      "연재 구독 후 기사보기\n",
      "구독 없이 계속 보기\n",
      "\u001b[0m\u001b[32;1m\u001b[1;3m기사 요약:\n",
      "\n",
      "9월 10일(현지시간) 미국의 소비자물가지수(CPI) 발표가 예정되어 있으며, 고용 지표가 양호한 가운데 물가 지표에 주목하고 있다. 9월 비농업 고용은 25만4천명 증가하여 시장 예상치를 크게 상회했으며, 실업률은 4.1%로 하락했다. 9월 헤드라인 CPI는 8월 대비 2.3% 증가할 것으로 예상되며, 근원 CPI는 3.2% 수준을 유지할 것으로 보인다.\n",
      "\n",
      "11일에는 제조업 물가지수(PPI) 발표가 예정되어 있으며, S&P 500 기업의 3분기 실적 발표도 시작된다. 평균 이익 증가율은 4.6%로 예상되지만 증가폭은 둔화될 것으로 보인다. 한국은 FTSE 러셀의 시장접근성 등급이 상향 조정될 가능성이 있어 주목받고 있다.\u001b[0m\n",
      "\n",
      "\u001b[1m> Finished chain.\u001b[0m\n"
     ]
    }
   ],
   "source": [
    "result = agent_executor.invoke(\n",
    "    {\n",
    "        \"input\": \"뉴스 기사를 요약해 줘: https://n.news.naver.com/mnews/hotissue/article/092/0002347672?type=series&cid=2000065\"\n",
    "    }\n",
    ")"
   ]
  },
  {
   "cell_type": "code",
   "execution_count": 26,
   "metadata": {},
   "outputs": [
    {
     "name": "stdout",
     "output_type": "stream",
     "text": [
      "기사 요약:\n",
      "\n",
      "9월 10일(현지시간) 미국의 소비자물가지수(CPI) 발표가 예정되어 있으며, 고용 지표가 양호한 가운데 물가 지표에 주목하고 있다. 9월 비농업 고용은 25만4천명 증가하여 시장 예상치를 크게 상회했으며, 실업률은 4.1%로 하락했다. 9월 헤드라인 CPI는 8월 대비 2.3% 증가할 것으로 예상되며, 근원 CPI는 3.2% 수준을 유지할 것으로 보인다.\n",
      "\n",
      "11일에는 제조업 물가지수(PPI) 발표가 예정되어 있으며, S&P 500 기업의 3분기 실적 발표도 시작된다. 평균 이익 증가율은 4.6%로 예상되지만 증가폭은 둔화될 것으로 보인다. 한국은 FTSE 러셀의 시장접근성 등급이 상향 조정될 가능성이 있어 주목받고 있다.\n"
     ]
    }
   ],
   "source": [
    "print(result[\"output\"])"
   ]
  }
 ],
 "metadata": {
  "kernelspec": {
   "display_name": "venv",
   "language": "python",
   "name": "python3"
  },
  "language_info": {
   "codemirror_mode": {
    "name": "ipython",
    "version": 3
   },
   "file_extension": ".py",
   "mimetype": "text/x-python",
   "name": "python",
   "nbconvert_exporter": "python",
   "pygments_lexer": "ipython3",
   "version": "3.11.9"
  }
 },
 "nbformat": 4,
 "nbformat_minor": 2
}
