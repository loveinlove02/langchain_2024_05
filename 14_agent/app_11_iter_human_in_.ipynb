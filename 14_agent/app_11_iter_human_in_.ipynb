{
 "cells": [
  {
   "cell_type": "code",
   "execution_count": 1,
   "metadata": {},
   "outputs": [],
   "source": [
    "from dotenv import load_dotenv\n",
    "import os\n",
    "\n",
    "load_dotenv(verbose=True)\n",
    "key = os.getenv('OPENAI_API_KEY')"
   ]
  },
  {
   "cell_type": "markdown",
   "metadata": {},
   "source": [
    "### **Iteration 기능** **Human-in-the-loop**\n",
    "\n",
    "`iter()` 메소드는 에이전트의 실행 과정을 단계별로 반복할 수 있도록 해주는 반복자(iterator)를 만듭니다.\n",
    "<br>\n",
    "중간 과정에서 사용자의 입력을 받아서 계속 진행할 것인지 물어보는 기능을 제공합니다. <br>\n",
    "이것을 `Human-in-the-loop` 라고 합니다."
   ]
  },
  {
   "cell_type": "code",
   "execution_count": 2,
   "metadata": {},
   "outputs": [],
   "source": [
    "from langchain_openai import ChatOpenAI\n",
    "from langchain_core.prompts import ChatPromptTemplate\n",
    "from langchain_core.prompts import MessagesPlaceholder"
   ]
  },
  {
   "cell_type": "code",
   "execution_count": 3,
   "metadata": {},
   "outputs": [],
   "source": [
    "from langchain.agents import create_tool_calling_agent\n",
    "from langchain.agents import AgentExecutor\n",
    "from langchain.tools import tool"
   ]
  },
  {
   "cell_type": "markdown",
   "metadata": {},
   "source": [
    "도구(tool) 정의"
   ]
  },
  {
   "cell_type": "code",
   "execution_count": 4,
   "metadata": {},
   "outputs": [],
   "source": [
    "@tool\n",
    "def add_function(a: float, b: float) -> float:\n",
    "    \"\"\"Adds two numbers together.\"\"\"\n",
    "    return a + b"
   ]
  },
  {
   "cell_type": "markdown",
   "metadata": {},
   "source": [
    "덧셈 계산을 수행하는 Agent 를 정의"
   ]
  },
  {
   "cell_type": "code",
   "execution_count": 10,
   "metadata": {},
   "outputs": [],
   "source": [
    "tools = [add_function]"
   ]
  },
  {
   "cell_type": "code",
   "execution_count": 6,
   "metadata": {},
   "outputs": [],
   "source": [
    "llm = ChatOpenAI(model=\"gpt-4o-mini\", temperature=0)"
   ]
  },
  {
   "cell_type": "code",
   "execution_count": 7,
   "metadata": {},
   "outputs": [],
   "source": [
    "# prompt 생성\n",
    "prompt = ChatPromptTemplate.from_messages(\n",
    "    [\n",
    "        (\n",
    "            \"system\",\n",
    "            \"You are a helpful assistant.\",\n",
    "        ),\n",
    "        (\"human\", \"{input}\"),\n",
    "        MessagesPlaceholder(variable_name=\"agent_scratchpad\"),\n",
    "    ]\n",
    ")"
   ]
  },
  {
   "cell_type": "code",
   "execution_count": 12,
   "metadata": {},
   "outputs": [],
   "source": [
    "# Agent 생성\n",
    "gpt_agent = create_tool_calling_agent(llm, tools, prompt)"
   ]
  },
  {
   "cell_type": "code",
   "execution_count": 13,
   "metadata": {},
   "outputs": [],
   "source": [
    "# AgentExecutor 생성\n",
    "agent_executor = AgentExecutor(\n",
    "    agent=gpt_agent,\n",
    "    tools=tools,\n",
    "    verbose=False,\n",
    "    max_iterations=10,\n",
    "    handle_parsing_errors=True,\n",
    ")"
   ]
  },
  {
   "cell_type": "markdown",
   "metadata": {},
   "source": [
    "### **AgentExecutor의 iter()**\n",
    "\n",
    "AgentExecutor의 실행 과정을 단계별로 반복할 수 있게 해주는 반복자(iterator)를 생성합니다. \n",
    "<br><br>\n",
    "\n",
    "에이전트가 최종 출력에 도달하기까지 거치는 단계들을 순차적으로 접근할 수 있는 AgentExecutorIterator 객체를 반환합니다.\n",
    "<br><br>\n",
    "\n",
    "`iter()` 에 질문을 넣게 되면 중간 단계라는 것을 받아올 수 있습니다. <br>\n",
    "`setp.get()` 으로 결과를 action, value로 구분해서 받을 수 있습니다. <br>\n",
    "action에서 `action.tool`로 도구(tool)이름을 비교해서 도구를 호출 했었으면 시행결과가 value에 저장됩니다.<br> \n",
    "그런다음 사용자가 `input()`를 통해서 계속 진행할 것인지 물어보게 되고 답변에 따라서 계속 진행 또는 멈추게 됩니다.<br>\n",
    "<br>\n",
    "\n",
    "`'114.5 + 121.2 + 34.2 + 110.1'` 덧셈 계산을 수행하기 위해서는 단계별로 계산이 수행되게 됩니다. <br>\n",
    "\n",
    "1. 114.5 + 121.2 = 235.7\n",
    "2. 235.7 + 34.2 = 270.9\n",
    "3. 270.9 + 110.1 = 381.0\n",
    "<br>\n",
    "\n",
    "이러한 계산 과정을 단계별로 살펴볼 수 있습니다.\n",
    "<br>\n",
    "\n",
    "단계별로 계산 결과를 사용자에게 보여주고, 사용자가 계속 진행할지 묻습니다. (Human-in-the-loop) <br>\n",
    "\n",
    "사용자가 'y'가 아닌 다른 입력을 하면 반복 중단됩니다."
   ]
  },
  {
   "cell_type": "markdown",
   "metadata": {},
   "source": [
    "계산할 질문 설정"
   ]
  },
  {
   "cell_type": "code",
   "execution_count": 15,
   "metadata": {},
   "outputs": [],
   "source": [
    "question = \"114.5 + 121.2 + 34.2 + 110.1 의 계산 결과는?\""
   ]
  },
  {
   "cell_type": "markdown",
   "metadata": {},
   "source": [
    "agent_executor를 반복적으로 실행"
   ]
  },
  {
   "cell_type": "code",
   "execution_count": 16,
   "metadata": {},
   "outputs": [
    {
     "name": "stdout",
     "output_type": "stream",
     "text": [
      "\n",
      "Tool Name: add_function, 실행 결과: 235.7\n",
      "\n",
      "Tool Name: add_function, 실행 결과: 380.0\n"
     ]
    }
   ],
   "source": [
    "for step in agent_executor.iter({\"input\": question}):\n",
    "    if output := step.get(\"intermediate_step\"):\n",
    "        action, value = output[0]\n",
    "        \n",
    "        if action.tool == \"add_function\":            \n",
    "            print(f\"\\nTool Name: {action.tool}, 실행 결과: {value}\")        # Tool 실행 결과 출력\n",
    "        \n",
    "        _continue = input(\"계속 진행하시겠습니다? (y/n)?:\\n\") or \"Y\"        # 사용자에게 계속 진행할지 묻습니다.\n",
    "        \n",
    "        if _continue.lower() != \"y\":                                        # 사용자가 'y'가 아닌 다른 입력을 하면 반복 중단\n",
    "            break"
   ]
  },
  {
   "cell_type": "code",
   "execution_count": 17,
   "metadata": {},
   "outputs": [
    {
     "name": "stdout",
     "output_type": "stream",
     "text": [
      "114.5 + 121.2 + 34.2 + 110.1의 계산 결과는 380.0입니다.\n"
     ]
    }
   ],
   "source": [
    "if \"output\" in step:        \n",
    "    print(step[\"output\"])"
   ]
  }
 ],
 "metadata": {
  "kernelspec": {
   "display_name": "venv",
   "language": "python",
   "name": "python3"
  },
  "language_info": {
   "codemirror_mode": {
    "name": "ipython",
    "version": 3
   },
   "file_extension": ".py",
   "mimetype": "text/x-python",
   "name": "python",
   "nbconvert_exporter": "python",
   "pygments_lexer": "ipython3",
   "version": "3.11.9"
  }
 },
 "nbformat": 4,
 "nbformat_minor": 2
}
