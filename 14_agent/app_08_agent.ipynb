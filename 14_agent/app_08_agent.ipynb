{
 "cells": [
  {
   "cell_type": "code",
   "execution_count": 2,
   "metadata": {},
   "outputs": [],
   "source": [
    "from dotenv import load_dotenv\n",
    "import os\n",
    "\n",
    "load_dotenv(verbose=True)\n",
    "key = os.getenv('OPENAI_API_KEY')"
   ]
  },
  {
   "cell_type": "code",
   "execution_count": 3,
   "metadata": {},
   "outputs": [],
   "source": [
    "from langchain_openai import ChatOpenAI\n",
    "from langchain_core.prompts import ChatPromptTemplate\n",
    "from langchain_core.prompts import MessagesPlaceholder"
   ]
  },
  {
   "cell_type": "code",
   "execution_count": 19,
   "metadata": {},
   "outputs": [],
   "source": [
    "from langchain_teddynote.tools import GoogleNews\n",
    "from langchain_experimental.utilities import PythonREPL\n",
    "from typing import List, Dict, Annotated\n",
    "from langchain.tools import tool\n",
    "from bs4 import BeautifulSoup\n",
    "import requests\n",
    "import re\n",
    "\n",
    "from langchain.agents import create_tool_calling_agent\n",
    "from langchain.agents import AgentExecutor\n",
    "\n",
    "from langchain_teddynote.messages import AgentCallbacks\n",
    "from langchain_teddynote.messages import AgentStreamParser\n",
    "\n",
    "from langchain_community.chat_message_histories import ChatMessageHistory\n",
    "from langchain_core.runnables.history import RunnableWithMessageHistory"
   ]
  },
  {
   "cell_type": "code",
   "execution_count": 5,
   "metadata": {},
   "outputs": [],
   "source": [
    "@tool\n",
    "def search_news(query: str) -> List[Dict[str, str]]:\n",
    "    \"\"\"Search Google News by input keyword\"\"\"\n",
    "    news_tool = GoogleNews()\n",
    "    return news_tool.search_by_keyword(query, k=5)"
   ]
  },
  {
   "cell_type": "code",
   "execution_count": 6,
   "metadata": {},
   "outputs": [],
   "source": [
    "@tool\n",
    "def naver_news_crawl(news_url: str) -> str:\n",
    "    \"\"\"Crawls a 네이버 (naver.com) news article and returns the body content.\"\"\"\n",
    "    \n",
    "    response = requests.get(news_url)           # HTTP GET 요청 보내기\n",
    "\n",
    "    if response.status_code == 200:             # 요청 성공\n",
    "        # BeautifulSoup을 사용하여 HTML 파싱\n",
    "        soup = BeautifulSoup(response.text, \"html.parser\")\n",
    "\n",
    "        # 원하는 정보 추출\n",
    "        title = soup.find(\"h2\", id=\"title_area\").get_text()\n",
    "        content = soup.find(\"div\", id=\"contents\").get_text()\n",
    "        cleaned_title = re.sub(r\"\\n{2,}\", \"\\n\", title)      # \\n 이 2번이상 반복되는 것을 찾아서 \\n으로 바꾼다.\n",
    "        cleaned_content = re.sub(r\"\\n{2,}\", \"\\n\", content)\n",
    "    else:\n",
    "        print(f\"HTTP 요청 실패. 응답 코드: {response.status_code}\")\n",
    "\n",
    "    return f\"{cleaned_title}\\n{cleaned_content}\""
   ]
  },
  {
   "cell_type": "code",
   "execution_count": 7,
   "metadata": {},
   "outputs": [],
   "source": [
    "@tool\n",
    "def python_repl_tool(\n",
    "    code: Annotated[str, \"The python code to execute to generate your chart.\"],\n",
    "):\n",
    "    \"\"\"Use this to execute python code. If you want to see the output of a value,\n",
    "    you should print it out with `print(...)`. This is visible to the user.\"\"\"\n",
    "    result = \"\"\n",
    "    try:\n",
    "        result = PythonREPL().run(code)\n",
    "    except BaseException as e:\n",
    "        print(f\"Failed to execute. Error: {repr(e)}\")\n",
    "    finally:\n",
    "        return result"
   ]
  },
  {
   "cell_type": "code",
   "execution_count": 8,
   "metadata": {},
   "outputs": [],
   "source": [
    "tools = [search_news, naver_news_crawl, python_repl_tool]"
   ]
  },
  {
   "cell_type": "code",
   "execution_count": 11,
   "metadata": {},
   "outputs": [],
   "source": [
    "# Agent 프롬프트 생성\n",
    "prompt = ChatPromptTemplate.from_messages(\n",
    "    [\n",
    "        (                                           \n",
    "            \"system\",\n",
    "            \"You are a helpful assistant.\"             \n",
    "            \"Make sure to use the `search_news` tool for searching keyword related news.\",\n",
    "        ),\n",
    "        (\"placeholder\", \"{chat_history}\"),          # 이전 대화 내용을 넣을 곳을 잡아둔다.\n",
    "        (\"human\", \"{input}\"),                       # 사용자 입력\n",
    "\n",
    "        # 에이전트가 검색하는 과정들이나 내용 등을 끄적이는 메모장 같은 공간을 플레이스 홀더로 만들어준다\n",
    "        (\"placeholder\", \"{agent_scratchpad}\"),       \n",
    "    ]\n",
    ")"
   ]
  },
  {
   "cell_type": "code",
   "execution_count": 14,
   "metadata": {},
   "outputs": [],
   "source": [
    "llm = ChatOpenAI(model=\"gpt-4o-mini\", temperature=0)"
   ]
  },
  {
   "cell_type": "code",
   "execution_count": 15,
   "metadata": {},
   "outputs": [],
   "source": [
    "agent = create_tool_calling_agent(llm, tools, prompt)"
   ]
  },
  {
   "cell_type": "code",
   "execution_count": 16,
   "metadata": {},
   "outputs": [],
   "source": [
    "agent_executor = AgentExecutor(\n",
    "    agent=agent,\n",
    "    tools=tools,\n",
    "    verbose=True,\n",
    "    max_iterations=10,\n",
    "    max_execution_time=10,\n",
    "    handle_parsing_errors=True,\n",
    ")"
   ]
  },
  {
   "cell_type": "code",
   "execution_count": 20,
   "metadata": {},
   "outputs": [],
   "source": [
    "# 도구 호출 시 실행되는 콜백 함수입니다.\n",
    "def tool_callback(tool) -> None:\n",
    "    print(\"<<<<<<< 도구 호출 >>>>>>\")\n",
    "    print(f\"Tool: {tool.get('tool')}\")  # 사용된 도구의 이름을 출력합니다.\n",
    "    print(\"<<<<<<< 도구 호출 >>>>>>\")\n",
    "\n",
    "\n",
    "# 관찰 결과를 출력하는 콜백 함수입니다.\n",
    "def observation_callback(observation) -> None:\n",
    "    print(\"<<<<<<< 관찰 내용 >>>>>>\")\n",
    "    print(\n",
    "        f\"Observation: {observation.get('observation')[0]}\"\n",
    "    )  # 관찰 내용을 출력합니다.\n",
    "    print(\"<<<<<<< 관찰 내용 >>>>>>\")\n",
    "\n",
    "\n",
    "# 최종 결과를 출력하는 콜백 함수입니다.\n",
    "def result_callback(result: str) -> None:\n",
    "    print(\"<<<<<<< 최종 답변 >>>>>>\")\n",
    "    print(result)  # 최종 답변을 출력합니다.\n",
    "    print(\"<<<<<<< 최종 답변 >>>>>>\")\n",
    "\n",
    "\n",
    "# AgentCallbacks 객체를 생성하여 각 단계별 콜백 함수를 설정합니다.\n",
    "agent_callbacks = AgentCallbacks(\n",
    "    tool_callback=tool_callback,\n",
    "    observation_callback=observation_callback,\n",
    "    result_callback=result_callback,\n",
    ")\n",
    "\n",
    "# AgentStreamParser 객체를 생성하여 에이전트의 실행 과정을 파싱합니다.\n",
    "agent_stream_parser = AgentStreamParser(agent_callbacks)"
   ]
  },
  {
   "cell_type": "code",
   "execution_count": 21,
   "metadata": {},
   "outputs": [
    {
     "name": "stdout",
     "output_type": "stream",
     "text": [
      "\n",
      "\n",
      "\u001b[1m> Entering new None chain...\u001b[0m\n",
      "<<<<<<< 도구 호출 >>>>>>\n",
      "Tool: search_news\n",
      "<<<<<<< 도구 호출 >>>>>>\n",
      "\u001b[32;1m\u001b[1;3m\n",
      "Invoking: `search_news` with `{'query': 'AI 투자'}`\n",
      "\n",
      "\n",
      "\u001b[0m\u001b[36;1m\u001b[1;3m[{'url': 'https://news.google.com/rss/articles/CBMiVkFVX3lxTE9HMzNkMXZaZ0k2ekVETmtLNVI2bVVrQlBkbVE3Ry1IenhrWkR1d2pCeHk1ZnNIVjVSVWx4VDRTdjZxcWtsdlhLYTJ4aFVzQzkyNHhsa2pB?oc=5', 'content': '\"투자·인재·제도 열악한데 AI 3강?\"…韓, 마이너리그 전락 \\'우려\\' - ZD넷 코리아'}, {'url': 'https://news.google.com/rss/articles/CBMiVkFVX3lxTE5Xd2VwektIS1FFd29uU2hHNzNUQnQ4QVlhekR0YWlSZmk1c2lialRURy1Rd2xFT2lnM3ZEeTdvUVBRY2ltd204NXFpTEM4UE1Hb1NjalpB?oc=5', 'content': \"트웰브랩스, '430억' 투자 유치…영상 AI 혁신 '가속화' - ZD넷 코리아\"}, {'url': 'https://news.google.com/rss/articles/CBMickFVX3lxTFA4T3ZXMmM5VUVTSUxsYzhPaktQMWtzcE5VUHlUaUNMV0FpSmVacTRFWjd0TlhYTXVpdWdZNExFcUxWZTZMRmk5RDh0TXVkeVhfcjdXT3JnZzRNWXNkZFRrTkNTbDc3Skx3SHBacW9KeENvQQ?oc=5', 'content': '오픈AI가 픽한 유니콘…‘스픽’ 1100억 투자 유치 - 마켓인'}, {'url': 'https://news.google.com/rss/articles/CBMicEFVX3lxTE0wenpQNDRGXzM3clotcG1jSU91YTNlYThLSVJxN2RzME5ldlhsdFBvQmZmN3ZaZ3BnWlNSVlY3V1JXWFhaUjI1R0huQmVWT0FQdkhXS0lvVFB5bHdGSlFNa2tBNEpYbEFFNGtzaHpZRGPSAXRBVV95cUxOMjB3NXcxU01pUlpIRU8xNXBqTXpYZFY2Y2lDUFZSS1hBaTVmXzVYX05tenNDMlFabU92c01RdG1PV2FUM29BeTBWdGlpNDc0U0gxWFB4SFBOdEFUZVQwLWFOWHhfME5UQUt4WGJDdGF1bnVXUg?oc=5', 'content': '현대차 투자받은 보스반도체, 차량용 AI 가속기 공개 - IT조선'}, {'url': 'https://news.google.com/rss/articles/CBMi2gJBVV95cUxQYzQxQXJTdFNIVkVjYXlNTDVtRHJqUm1hOEl4NWVFSG1hVjZURFJOWFV4elB1dDZ3NVFWSHU1MGc3WnJTUjFwM3hGVnZlcUljNzZDYTVWMDNka2MxMjY0bmdNV3pFQjRuNHRKOGpNang5TjZrdmZqTUlFSkNwZnRhNGhHMGRhem53TnVscnRQekZRUnZkZTlLbml2aXNGc2hLaGZGMVRGVWl0LXNhRm1WSWFJUkNmQnZXLVhJODI0QjhnUTN0ZktoWU0xSVpVbGtFTFpVUllwb1VEMUtXWkt6cnpVd2xjTW5yaFYxWHhlc3htTzJfaG9ra1h1MVhNT0JmZk9jOVd1eFB0UnJ5c1ZMQ1pyU0Q2VmpNVjVsb2VUN00xTzJuVi1LNS1NbzFFajBNTFBLbHlfVnBZcDVhYS1DZ1pyaGZjYlNYVm1JZVV1TDhoRVhrN21YRE1n0gHaAkFVX3lxTFBjNDFBclN0U0hWRWNheU1MNW1EcmpSbWE4SXg1ZUVIbWFWNlREUk5YVXh6UHV0Nnc1UVZIdTUwZzdaclNSMXAzeEZWdmVxSWM3NkNhNVYwM2RrYzEyNjRuZ01XekVCNG40dEo4ak1qeDlONmt2ZmpNSUVKQ3BmdGE0aEcwZGF6bndOdWxydFB6RlFSdmRlOUtuaXZpc0ZzaEtoZkYxVEZVaXQtc2FGbVZJYUlSQ2ZCdlctWEk4MjRCOGdRM3RmS2hZTTFJWlVsa0VMWlVSWXBvVUQxS1daS3pyelV3bGNNbnJoVjFYeGVzeG1PMl9ob2trWHUxWE1PQmZmT2M5V3V4UHRScnlzVkxDWnJTRDZWak1WNWxvZVQ3TTFPMm5WLUs1LU1vMUVqME1MUEtseV9WcFlwNWFhLUNnWnJoZmNiU1hWbUllVXVMOGhFWGs3bVhETWc?oc=5', 'content': '칼럼 | 이제는 수익을 고민할 때··· 생성형 AI의 비즈니스 가치를 높이는 팁 5가지 - CIO.com'}]\u001b[0m<<<<<<< 관찰 내용 >>>>>>\n",
      "Observation: {'url': 'https://news.google.com/rss/articles/CBMiVkFVX3lxTE9HMzNkMXZaZ0k2ekVETmtLNVI2bVVrQlBkbVE3Ry1IenhrWkR1d2pCeHk1ZnNIVjVSVWx4VDRTdjZxcWtsdlhLYTJ4aFVzQzkyNHhsa2pB?oc=5', 'content': '\"투자·인재·제도 열악한데 AI 3강?\"…韓, 마이너리그 전락 \\'우려\\' - ZD넷 코리아'}\n",
      "<<<<<<< 관찰 내용 >>>>>>\n",
      "\u001b[32;1m\u001b[1;3m다음은 AI 투자와 관련된 최근 뉴스입니다:\n",
      "\n",
      "1. **[투자·인재·제도 열악한데 AI 3강?…韓, 마이너리그 전락 '우려'](https://news.google.com/rss/articles/CBMiVkFVX3lxTE9HMzNkMXZaZ0k2ekVETmtLNVI2bVVrQlBkbVE3Ry1IenhrWkR1d2pCeHk1ZnNIVjVSVWx4VDRTdjZxcWtsdlhLYTJ4aFVzQzkyNHhsa2pB?oc=5) - ZD넷 코리아**\n",
      "\n",
      "2. **[트웰브랩스, '430억' 투자 유치…영상 AI 혁신 '가속화'](https://news.google.com/rss/articles/CBMiVkFVX3lxTE5Xd2VwektIS1FFd29uU2hHNzNUQnQ4QVlhekR0YWlSZmk1c2lialRURy1Rd2xFT2lnM3ZEeTdvUVBRY2ltd204NXFpTEM4UE1Hb1NjalpB?oc=5) - ZD넷 코리아**\n",
      "\n",
      "3. **[오픈AI가 픽한 유니콘…‘스픽’ 1100억 투자 유치](https://news.google.com/rss/articles/CBMicFVX3lxTFA4T3ZXMmM5VUVTSUxsYzhPaktQMWtzcE5VUHlUaUNMV0FpSmVacTRFWjd0TlhYTXVpdWdZNExFcUxWZTZMRmk5RDh0TXVkeVhfcjdXT3JnZzRNWXNkZFRrTkNTbDc3Skx3SHBacW9KeENvQQ?oc=5) - 마켓인**\n",
      "\n",
      "4. **[현대차 투자받은 보스반도체, 차량용 AI 가속기 공개](https://news.google.com/rss/articles/CBMicEFVX3lxTE0wenpQNDRGXzM3clotcG1jSU91YTNlYThLSVJxN2RzME5ldlhsdFBvQmZmN3ZaZ3BnWlNSVlY3V1JXWFhaUjI1R0huQmVWT0FQdkhXS0lvVFB5bHdGSlFNa2tBNEpYbEFFNGtzaHpZRGPSAXRBVV95cUxOMjB3NXcxU01pUlpIRU8xNXBqTXpYZFY2Y2lDUFZSS1hBaTVmXzVYX05tenNDMlFabU92c01RdG1PV2FUM29BeTBWdGlpNDc0U0gxWFB4SFBOdEFUZVQwLWFOWHhfME5UQUt4WGJDdGF1bnVXUg?oc=5) - IT조선**\n",
      "\n",
      "5. **[칼럼 | 이제는 수익을 고민할 때··· 생성형 AI의 비즈니스 가치를 높이는 팁 5가지](https://news.google.com/rss/articles/CBMi2gJBVV95cUxQYzQxQXJTdFNIVkVjYXlNTDVtRHJqUm1hOEl4NWVFSG1hVjZURFJOWFV4elB1dDZ3NVFWSHU1MGc3WnJTUjFwM3hGVnZlcUljNzZDYTVWMDNka2MxMjY0bmdNV3pFQjRuNHRKOGpNang5TjZrdmZqTUlFSkNwZnRhNGhHMGRhem53TnVscnRQekZRUnZkZTlLbml2aXNGc2hLaGZGMVRGVWl0LXNhRm1WSWFJUkNmQnZXLVhJODI0QjhnUTN0ZktoWU0xSVpVbGtFTFpVUllwb1VEMUtXWkt6cnpVd2xjTW5yaFYxWHhlc3htTzJfaG9ra1h1MVhNT0JmZk9jOVd1eFB0UnJ5c1ZMQ1pyU0Q2VmpNVjVsb2VUN00xTzJuVi1LNS1NbzFFajBNTFBLbHlfVnBZcDVhYS1DZ1pyaGZjYlNYVm1JZVV1TDhoRVhrN21YRE1n0gHaAkFVX3lxTFBjNDFBclN0U0hWRWNheU1MNW1EcmpSbWE4SXg1ZUVIbWFWNlREUk5YVXh6UHV0Nnc1UVZIdTUwZzdaclNSMXAzeEZWdmVxSWM3NkNhNVYwM2RrYzEyNjRuZ01XekVCNG40dEo4ak1qeDlONmt2ZmpNSUVKQ3BmdGE0aEcwZGF6bndOdWxydFB6RlFSdmRlOUtuaXZpc0ZzaEtoZkYxVEZVaXQtc2FGbVZJYUlSQ2ZCdlctWEk4MjRCOGdRM3RmS2hZTTFJWlVsa0VMWlVSWXBvVUQxS1daS3pyelV3bGNNbnJoVjFYeGVzeG1PMl9ob2trWHUxWE1PQmZmT2M5V3V4UHRScnlzVkxDWnJTRDZWak1WNWxvZVQ3TTFPMm5WLUs1LU1vMUVqME1MUEtseV9WcFlwNWFhLUNnWnJoZmNiU1hWbUllVXVMOGhFWGs3bVhETWc?oc=5) - CIO.com**\n",
      "\n",
      "이 뉴스들은 AI 투자와 관련된 다양한 주제를 다루고 있습니다. 관심 있는 기사를 클릭하여 더 자세한 내용을 확인해 보세요.\u001b[0m\n",
      "\n",
      "\u001b[1m> Finished chain.\u001b[0m\n",
      "<<<<<<< 최종 답변 >>>>>>\n",
      "다음은 AI 투자와 관련된 최근 뉴스입니다:\n",
      "\n",
      "1. **[투자·인재·제도 열악한데 AI 3강?…韓, 마이너리그 전락 '우려'](https://news.google.com/rss/articles/CBMiVkFVX3lxTE9HMzNkMXZaZ0k2ekVETmtLNVI2bVVrQlBkbVE3Ry1IenhrWkR1d2pCeHk1ZnNIVjVSVWx4VDRTdjZxcWtsdlhLYTJ4aFVzQzkyNHhsa2pB?oc=5) - ZD넷 코리아**\n",
      "\n",
      "2. **[트웰브랩스, '430억' 투자 유치…영상 AI 혁신 '가속화'](https://news.google.com/rss/articles/CBMiVkFVX3lxTE5Xd2VwektIS1FFd29uU2hHNzNUQnQ4QVlhekR0YWlSZmk1c2lialRURy1Rd2xFT2lnM3ZEeTdvUVBRY2ltd204NXFpTEM4UE1Hb1NjalpB?oc=5) - ZD넷 코리아**\n",
      "\n",
      "3. **[오픈AI가 픽한 유니콘…‘스픽’ 1100억 투자 유치](https://news.google.com/rss/articles/CBMicFVX3lxTFA4T3ZXMmM5VUVTSUxsYzhPaktQMWtzcE5VUHlUaUNMV0FpSmVacTRFWjd0TlhYTXVpdWdZNExFcUxWZTZMRmk5RDh0TXVkeVhfcjdXT3JnZzRNWXNkZFRrTkNTbDc3Skx3SHBacW9KeENvQQ?oc=5) - 마켓인**\n",
      "\n",
      "4. **[현대차 투자받은 보스반도체, 차량용 AI 가속기 공개](https://news.google.com/rss/articles/CBMicEFVX3lxTE0wenpQNDRGXzM3clotcG1jSU91YTNlYThLSVJxN2RzME5ldlhsdFBvQmZmN3ZaZ3BnWlNSVlY3V1JXWFhaUjI1R0huQmVWT0FQdkhXS0lvVFB5bHdGSlFNa2tBNEpYbEFFNGtzaHpZRGPSAXRBVV95cUxOMjB3NXcxU01pUlpIRU8xNXBqTXpYZFY2Y2lDUFZSS1hBaTVmXzVYX05tenNDMlFabU92c01RdG1PV2FUM29BeTBWdGlpNDc0U0gxWFB4SFBOdEFUZVQwLWFOWHhfME5UQUt4WGJDdGF1bnVXUg?oc=5) - IT조선**\n",
      "\n",
      "5. **[칼럼 | 이제는 수익을 고민할 때··· 생성형 AI의 비즈니스 가치를 높이는 팁 5가지](https://news.google.com/rss/articles/CBMi2gJBVV95cUxQYzQxQXJTdFNIVkVjYXlNTDVtRHJqUm1hOEl4NWVFSG1hVjZURFJOWFV4elB1dDZ3NVFWSHU1MGc3WnJTUjFwM3hGVnZlcUljNzZDYTVWMDNka2MxMjY0bmdNV3pFQjRuNHRKOGpNang5TjZrdmZqTUlFSkNwZnRhNGhHMGRhem53TnVscnRQekZRUnZkZTlLbml2aXNGc2hLaGZGMVRGVWl0LXNhRm1WSWFJUkNmQnZXLVhJODI0QjhnUTN0ZktoWU0xSVpVbGtFTFpVUllwb1VEMUtXWkt6cnpVd2xjTW5yaFYxWHhlc3htTzJfaG9ra1h1MVhNT0JmZk9jOVd1eFB0UnJ5c1ZMQ1pyU0Q2VmpNVjVsb2VUN00xTzJuVi1LNS1NbzFFajBNTFBLbHlfVnBZcDVhYS1DZ1pyaGZjYlNYVm1JZVV1TDhoRVhrN21YRE1n0gHaAkFVX3lxTFBjNDFBclN0U0hWRWNheU1MNW1EcmpSbWE4SXg1ZUVIbWFWNlREUk5YVXh6UHV0Nnc1UVZIdTUwZzdaclNSMXAzeEZWdmVxSWM3NkNhNVYwM2RrYzEyNjRuZ01XekVCNG40dEo4ak1qeDlONmt2ZmpNSUVKQ3BmdGE0aEcwZGF6bndOdWxydFB6RlFSdmRlOUtuaXZpc0ZzaEtoZkYxVEZVaXQtc2FGbVZJYUlSQ2ZCdlctWEk4MjRCOGdRM3RmS2hZTTFJWlVsa0VMWlVSWXBvVUQxS1daS3pyelV3bGNNbnJoVjFYeGVzeG1PMl9ob2trWHUxWE1PQmZmT2M5V3V4UHRScnlzVkxDWnJTRDZWak1WNWxvZVQ3TTFPMm5WLUs1LU1vMUVqME1MUEtseV9WcFlwNWFhLUNnWnJoZmNiU1hWbUllVXVMOGhFWGs3bVhETWc?oc=5) - CIO.com**\n",
      "\n",
      "이 뉴스들은 AI 투자와 관련된 다양한 주제를 다루고 있습니다. 관심 있는 기사를 클릭하여 더 자세한 내용을 확인해 보세요.\n",
      "<<<<<<< 최종 답변 >>>>>>\n"
     ]
    }
   ],
   "source": [
    "result = agent_executor.stream({\"input\": \"AI 투자관련 뉴스를 검색해 주세요.\"})\n",
    "\n",
    "for step in result:\n",
    "    # 중간 단계를 parser 를 사용하여 단계별로 출력\n",
    "    agent_stream_parser.process_agent_steps(step)"
   ]
  },
  {
   "cell_type": "code",
   "execution_count": 27,
   "metadata": {},
   "outputs": [],
   "source": [
    "store = {}\n",
    "\n",
    "# session_id 를 기반으로 세션 기록을 가져오는 함수\n",
    "def get_session_history(session_ids):\n",
    "    if session_ids not in store:                    # session_id 가 store에 없는 경우\n",
    "        store[session_ids] = ChatMessageHistory()   # 새로운 ChatMessageHistory 객체를 생성하여 store에 저장\n",
    "        \n",
    "    return store[session_ids]                       # 해당 세션 ID에 대한 세션 기록 반환"
   ]
  },
  {
   "cell_type": "code",
   "execution_count": 28,
   "metadata": {},
   "outputs": [],
   "source": [
    "# 채팅 메시지 기록이 추가된 에이전트를 생성합니다.\n",
    "agent_with_chat_history = RunnableWithMessageHistory(\n",
    "    agent_executor,    \n",
    "    get_session_history,                        # 대화 session_id    \n",
    "    input_messages_key=\"input\",                 # 프롬프트의 질문이 입력되는 key: \"input\"    \n",
    "    history_messages_key=\"chat_history\",        # 프롬프트의 메시지가 입력되는 key: \"chat_history\"\n",
    ")"
   ]
  },
  {
   "cell_type": "code",
   "execution_count": 29,
   "metadata": {},
   "outputs": [
    {
     "name": "stdout",
     "output_type": "stream",
     "text": [
      "\n",
      "\n",
      "\u001b[1m> Entering new None chain...\u001b[0m\n",
      "\u001b[32;1m\u001b[1;3m안녕하세요, 이인환님! 어떻게 도와드릴까요?\u001b[0m\n",
      "\n",
      "\u001b[1m> Finished chain.\u001b[0m\n",
      "<<<<<<< 최종 답변 >>>>>>\n",
      "안녕하세요, 이인환님! 어떻게 도와드릴까요?\n",
      "<<<<<<< 최종 답변 >>>>>>\n"
     ]
    }
   ],
   "source": [
    "# 질의에 대한 답변을 스트리밍으로 출력 요청\n",
    "response = agent_with_chat_history.stream(\n",
    "    {\"input\": \"안녕? 내 이름은 이인환이야!\"},    \n",
    "    config={\n",
    "        \"configurable\": {\"session_id\": \"abc123\"}    # session_id 설정\n",
    "    },      \n",
    ")\n",
    "\n",
    "# 출력 확인\n",
    "for step in response:\n",
    "    agent_stream_parser.process_agent_steps(step)"
   ]
  },
  {
   "cell_type": "code",
   "execution_count": 30,
   "metadata": {},
   "outputs": [
    {
     "name": "stdout",
     "output_type": "stream",
     "text": [
      "\n",
      "\n",
      "\u001b[1m> Entering new None chain...\u001b[0m\n",
      "\u001b[32;1m\u001b[1;3m이인환님이라고 하셨습니다! 맞나요?\u001b[0m\n",
      "\n",
      "\u001b[1m> Finished chain.\u001b[0m\n",
      "<<<<<<< 최종 답변 >>>>>>\n",
      "이인환님이라고 하셨습니다! 맞나요?\n",
      "<<<<<<< 최종 답변 >>>>>>\n"
     ]
    }
   ],
   "source": [
    "# 질의에 대한 답변을 스트리밍으로 출력 요청\n",
    "response = agent_with_chat_history.stream(\n",
    "    {\"input\": \"내 이름이 뭐라고 했어?\"},    \n",
    "    config={\n",
    "        \"configurable\": {\"session_id\": \"abc123\"}    # session_id 설정\n",
    "    },      \n",
    ")\n",
    "\n",
    "# 출력 확인\n",
    "for step in response:\n",
    "    agent_stream_parser.process_agent_steps(step)"
   ]
  },
  {
   "cell_type": "code",
   "execution_count": 31,
   "metadata": {},
   "outputs": [
    {
     "name": "stdout",
     "output_type": "stream",
     "text": [
      "\n",
      "\n",
      "\u001b[1m> Entering new None chain...\u001b[0m\n",
      "\u001b[32;1m\u001b[1;3m알겠습니다, 이인환님! 이메일 주소와 회사 이름을 기억하겠습니다. 어떤 도움을 드릴까요?\u001b[0m\n",
      "\n",
      "\u001b[1m> Finished chain.\u001b[0m\n",
      "<<<<<<< 최종 답변 >>>>>>\n",
      "알겠습니다, 이인환님! 이메일 주소와 회사 이름을 기억하겠습니다. 어떤 도움을 드릴까요?\n",
      "<<<<<<< 최종 답변 >>>>>>\n"
     ]
    }
   ],
   "source": [
    "# 질의에 대한 답변을 스트리밍으로 출력 요청\n",
    "response = agent_with_chat_history.stream(\n",
    "    {\"input\": \"내 이메일 주소는 loveinlove02@naver.com 이야. 회사 이름은 소프트웨어놀이터.\"},    \n",
    "    config={\n",
    "        \"configurable\": {\"session_id\": \"abc123\"}    # session_id 설정\n",
    "    },      \n",
    ")\n",
    "\n",
    "# 출력 확인\n",
    "for step in response:\n",
    "    agent_stream_parser.process_agent_steps(step)"
   ]
  },
  {
   "cell_type": "code",
   "execution_count": 32,
   "metadata": {},
   "outputs": [
    {
     "name": "stdout",
     "output_type": "stream",
     "text": [
      "\n",
      "\n",
      "\u001b[1m> Entering new None chain...\u001b[0m\n",
      "<<<<<<< 도구 호출 >>>>>>\n",
      "Tool: search_news\n",
      "<<<<<<< 도구 호출 >>>>>>\n",
      "\u001b[32;1m\u001b[1;3m\n",
      "Invoking: `search_news` with `{'query': '최신 뉴스'}`\n",
      "\n",
      "\n",
      "\u001b[0m\u001b[36;1m\u001b[1;3m[{'url': 'https://news.google.com/rss/articles/CBMiakFVX3lxTFB6b3FPREFINURLSy1pVUZDbXB4X3JwaW1fVGNCRks1RklJMDFNTWxCbURTbGMwU05kWVRRLU9xNnVFUkNPVFNLaUlTOThQaDRoQzlKQWtsQnVETnFqbEhGc2hIQnU2RERoS3c?oc=5', 'content': '인사이드 구글 - The Keyword'}, {'url': 'https://news.google.com/rss/articles/CBMiaEFVX3lxTE5ZMFp6LVRhUG9hamNMVkZTMnM5ajdWbjFMWkdMSk1oZDZVODFKc1hKT3RyUmpRakp4SnlJZ0FkbEJCWFdQaFZjcFozbFZiMlJwMnZKUDFUb3hSWkhxQU54NnJpZGlrdTFl0gFsQVVfeXFMUDZqbks3RG1Pcnp5cy1iY3BReTRpdnp6UjNBQTh4NVFMZWtQMUN1Z0E5ZDllcGo5MmtKY3VyU0JSYlc1NVRUdzdMdmZYNVBFTDVtNmlVMGloUm1BdVRtX29kNk5NVXpJSV9hSTV4?oc=5', 'content': '세탁기 안 들어가는 아파트 세탁실···하자분쟁, 어떻게 해결했나 - 대한전문건설신문'}, {'url': 'https://news.google.com/rss/articles/CBMiV0FVX3lxTE45MnItRDB5X3poVlBIbEtyTVhoZE9fYVUxdFVfR2NMNHNCZW5QRnVWbXNkbmxCMkxCQlo5QW5wRVVTSFk5UE1Rem1lQ2JkS0pteVpWMS1rUQ?oc=5', 'content': '[주요 뉴스] 도지코인, 노드 최신 버전 업그레이드 촉구 - 블록미디어'}, {'url': 'https://news.google.com/rss/articles/CBMiZ0FVX3lxTE5PUXR6bVEzN05TZkNldnduMTZsNmU2YXc4NlFabnlrQVJRMVR4YmVwTkNLdi1lblZ0NWl3YlF0ZF9ZbDYtaU96emlXRlBqeXVsaGRxbElnU1gtN3IxYVBtZ0RoWFVPQ2s?oc=5', 'content': '한국 대한항공 아시아나항공을 인수하기 위한 절차 완료 - nhk.or.jp'}, {'url': 'https://news.google.com/rss/articles/CBMickFVX3lxTE9OWVJiVll3M081T1BWTlNHY3NfX0ItSXZTQzIxXy1hVHNjMVlPV2lkYXhQel9HUjdVQWlMVWlFTHFKRmRmcW9BQldkcFQwMGdTNDFiRWpUUDRJUzkzV2hzMkxSano5bDEyMFhBSG41cGZmUdIBdkFVX3lxTE4xLVdwVGV2Ui1TRW5EYWRPWlZ1dDVWd0JyWGNGaFk0bW5vMmJpSlBjUkxXN2RWU1VwZXUzOEI2RkRkNnQ4d0dfTkRuRGN6ZzFncGdVZUxXQlhrOFpDSHZOVDJQNElZcFJxbzBGanJzTzc3akxESWc?oc=5', 'content': 'ESMO Asia서 ‘바벤시오’ 최신 리얼월드 데이터 공개 - 메디팜뉴스'}]\u001b[0m<<<<<<< 관찰 내용 >>>>>>\n",
      "Observation: {'url': 'https://news.google.com/rss/articles/CBMiakFVX3lxTFB6b3FPREFINURLSy1pVUZDbXB4X3JwaW1fVGNCRks1RklJMDFNTWxCbURTbGMwU05kWVRRLU9xNnVFUkNPVFNLaUlTOThQaDRoQzlKQWtsQnVETnFqbEhGc2hIQnU2RERoS3c?oc=5', 'content': '인사이드 구글 - The Keyword'}\n",
      "<<<<<<< 관찰 내용 >>>>>>\n",
      "\u001b[32;1m\u001b[1;3m아래는 윤정 팀장님께 보낼 이메일 본문입니다.\n",
      "\n",
      "---\n",
      "\n",
      "**제목: 최신 뉴스 업데이트**\n",
      "\n",
      "안녕하세요, 윤정 팀장님.\n",
      "\n",
      "최근의 주요 뉴스를 아래와 같이 정리하였습니다. 확인해 주시기 바랍니다.\n",
      "\n",
      "1. **[인사이드 구글 - The Keyword](https://news.google.com/rss/articles/CBMiakFVX3lxTFB6b3FPREFINURLSy1pVUZDbXB4X3JwaW1fVGNCRks1RklJMDFNTWxCbURTbGMwU05kWVRRLU9xNnVFUkNPVFNLaUlTOThQaDRoQzlKQWtsQnVETnFqbEhGc2hIQnU2RERoS3c?oc=5)**  \n",
      "   구글의 최신 동향에 대한 기사입니다.\n",
      "\n",
      "2. **[세탁기 안 들어가는 아파트 세탁실···하자분쟁, 어떻게 해결했나 - 대한전문건설신문](https://news.google.com/rss/articles/CBMiaEFVX3lxTE5ZMFp6LVRhUG9hamNMVkZTMnM5ajdWbjFMWkdMSk1oZDZVODFKc1hKT3RyUmpRakp4SnlJZ0FkbEJCWFdQaFZjcFozbFZiMlJwMnZKUDFUb3hSWkhxQU54NnJpZGlrdTFl0gFsQVVfeXFMUDZqbks3RG1Pcnp5cy1iY3BReTRpdnp6UjNBQTh4NVFMZWtQMUN1Z0E5ZDllcGo5MmtKY3VyU0JSYlc1NVRUdzdMdmZYNVBFTDVtNmlVMGloUm1BdVRtX29kNk5NVXpJSV9hSTV4?oc=5)**  \n",
      "   아파트 세탁실의 하자분쟁 해결 사례에 대한 기사입니다.\n",
      "\n",
      "3. **[주요 뉴스] 도지코인, 노드 최신 버전 업그레이드 촉구 - 블록미디어](https://news.google.com/rss/articles/CBMiV0FVX3lxTE45MnItRDB5X3poVlBIbEtyTVhoZE9fYVUxdFVfR2NMNHNCZW5QRnVWbXNkbmxCMkxCQlo5QW5wRVVTSFk5UE1Rem1lQ2JkS0pteVpWMS1rUQ?oc=5)**  \n",
      "   도지코인의 최신 버전 업그레이드에 대한 내용입니다.\n",
      "\n",
      "4. **[한국 대한항공 아시아나항공을 인수하기 위한 절차 완료 - nhk.or.jp](https://news.google.com/rss/articles/CBMiZ0FVX3lxTE5PUXR6bVEzN05TZkNldnduMTZsNmU2YXc4NlFabnlrQVJRMVR4YmVwTkNLdi1lblZ0NWl3YlF0ZF9ZbDYtaU96emlXRlBqeXVsaGRxbElnU1gtN3IxYVBtZ0RoWFVPQ2s?oc=5)**  \n",
      "   대한항공의 아시아나항공 인수 절차에 대한 기사입니다.\n",
      "\n",
      "5. **[ESMO Asia서 ‘바벤시오’ 최신 리얼월드 데이터 공개 - 메디팜뉴스](https://news.google.com/rss/articles/CBMickFVX3lxTE9OWVJiVll3M081T1BWTlNHY3NfX0ItSXZTQzIxXy1hVHNjMVlPV2lkYXhQel9HUjdVQWlMVWlFTHFKRmRmcW9BQldkcFQwMGdTNDFiRWpUUDRJUzkzV2hzMkxSano5bDEyMFhBSG41cGZmUdIBdkFVX3lxTE4xLVdwVGV2Ui1TRW5EYWRPWlZ1dDVWd0JyWGNGaFk0bW5vMmJpSlBjUkxXN2RWU1VwZXUzOEI2RkRkNnQ4d0dfTkRuRGN6ZzFncGdVZUxXQlhrOFpDSHZOVDJQNElZcFJxbzBGanJzTzc3akxESWc?oc=5)**  \n",
      "   ESMO Asia에서 발표된 최신 리얼월드 데이터에 대한 내용입니다.\n",
      "\n",
      "이 정보가 팀장님께 도움이 되길 바랍니다. 추가적인 질문이나 요청이 있으시면 언제든지 말씀해 주세요.\n",
      "\n",
      "감사합니다.\n",
      "\n",
      "이인환 드림  \n",
      "loveinlove02@naver.com  \n",
      "소프트웨어놀이터\n",
      "\n",
      "--- \n",
      "\n",
      "이메일 내용이 마음에 드시나요? 수정할 부분이 있으면 말씀해 주세요!\u001b[0m\n",
      "\n",
      "\u001b[1m> Finished chain.\u001b[0m\n",
      "<<<<<<< 최종 답변 >>>>>>\n",
      "아래는 윤정 팀장님께 보낼 이메일 본문입니다.\n",
      "\n",
      "---\n",
      "\n",
      "**제목: 최신 뉴스 업데이트**\n",
      "\n",
      "안녕하세요, 윤정 팀장님.\n",
      "\n",
      "최근의 주요 뉴스를 아래와 같이 정리하였습니다. 확인해 주시기 바랍니다.\n",
      "\n",
      "1. **[인사이드 구글 - The Keyword](https://news.google.com/rss/articles/CBMiakFVX3lxTFB6b3FPREFINURLSy1pVUZDbXB4X3JwaW1fVGNCRks1RklJMDFNTWxCbURTbGMwU05kWVRRLU9xNnVFUkNPVFNLaUlTOThQaDRoQzlKQWtsQnVETnFqbEhGc2hIQnU2RERoS3c?oc=5)**  \n",
      "   구글의 최신 동향에 대한 기사입니다.\n",
      "\n",
      "2. **[세탁기 안 들어가는 아파트 세탁실···하자분쟁, 어떻게 해결했나 - 대한전문건설신문](https://news.google.com/rss/articles/CBMiaEFVX3lxTE5ZMFp6LVRhUG9hamNMVkZTMnM5ajdWbjFMWkdMSk1oZDZVODFKc1hKT3RyUmpRakp4SnlJZ0FkbEJCWFdQaFZjcFozbFZiMlJwMnZKUDFUb3hSWkhxQU54NnJpZGlrdTFl0gFsQVVfeXFMUDZqbks3RG1Pcnp5cy1iY3BReTRpdnp6UjNBQTh4NVFMZWtQMUN1Z0E5ZDllcGo5MmtKY3VyU0JSYlc1NVRUdzdMdmZYNVBFTDVtNmlVMGloUm1BdVRtX29kNk5NVXpJSV9hSTV4?oc=5)**  \n",
      "   아파트 세탁실의 하자분쟁 해결 사례에 대한 기사입니다.\n",
      "\n",
      "3. **[주요 뉴스] 도지코인, 노드 최신 버전 업그레이드 촉구 - 블록미디어](https://news.google.com/rss/articles/CBMiV0FVX3lxTE45MnItRDB5X3poVlBIbEtyTVhoZE9fYVUxdFVfR2NMNHNCZW5QRnVWbXNkbmxCMkxCQlo5QW5wRVVTSFk5UE1Rem1lQ2JkS0pteVpWMS1rUQ?oc=5)**  \n",
      "   도지코인의 최신 버전 업그레이드에 대한 내용입니다.\n",
      "\n",
      "4. **[한국 대한항공 아시아나항공을 인수하기 위한 절차 완료 - nhk.or.jp](https://news.google.com/rss/articles/CBMiZ0FVX3lxTE5PUXR6bVEzN05TZkNldnduMTZsNmU2YXc4NlFabnlrQVJRMVR4YmVwTkNLdi1lblZ0NWl3YlF0ZF9ZbDYtaU96emlXRlBqeXVsaGRxbElnU1gtN3IxYVBtZ0RoWFVPQ2s?oc=5)**  \n",
      "   대한항공의 아시아나항공 인수 절차에 대한 기사입니다.\n",
      "\n",
      "5. **[ESMO Asia서 ‘바벤시오’ 최신 리얼월드 데이터 공개 - 메디팜뉴스](https://news.google.com/rss/articles/CBMickFVX3lxTE9OWVJiVll3M081T1BWTlNHY3NfX0ItSXZTQzIxXy1hVHNjMVlPV2lkYXhQel9HUjdVQWlMVWlFTHFKRmRmcW9BQldkcFQwMGdTNDFiRWpUUDRJUzkzV2hzMkxSano5bDEyMFhBSG41cGZmUdIBdkFVX3lxTE4xLVdwVGV2Ui1TRW5EYWRPWlZ1dDVWd0JyWGNGaFk0bW5vMmJpSlBjUkxXN2RWU1VwZXUzOEI2RkRkNnQ4d0dfTkRuRGN6ZzFncGdVZUxXQlhrOFpDSHZOVDJQNElZcFJxbzBGanJzTzc3akxESWc?oc=5)**  \n",
      "   ESMO Asia에서 발표된 최신 리얼월드 데이터에 대한 내용입니다.\n",
      "\n",
      "이 정보가 팀장님께 도움이 되길 바랍니다. 추가적인 질문이나 요청이 있으시면 언제든지 말씀해 주세요.\n",
      "\n",
      "감사합니다.\n",
      "\n",
      "이인환 드림  \n",
      "loveinlove02@naver.com  \n",
      "소프트웨어놀이터\n",
      "\n",
      "--- \n",
      "\n",
      "이메일 내용이 마음에 드시나요? 수정할 부분이 있으면 말씀해 주세요!\n",
      "<<<<<<< 최종 답변 >>>>>>\n"
     ]
    }
   ],
   "source": [
    "response = agent_with_chat_history.stream(\n",
    "    {\n",
    "        \"input\": \"최신 뉴스 5개를 검색해서 이메일의 본문으로 작성해줘. \"\n",
    "        \"수신인에는 `윤정 팀장님` 그리고, 발신인에는 내 인적정보를 적어줘.\"\n",
    "        \"정중한 어조로 작성하고, 메일의 시작과 끝에는 적절한 인사말과 맺음말을 적어줘.\"\n",
    "    },\n",
    "    # session_id 설정\n",
    "    config={\"configurable\": {\"session_id\": \"abc123\"}},\n",
    ")\n",
    "\n",
    "# 출력 확인\n",
    "for step in response:\n",
    "    agent_stream_parser.process_agent_steps(step)"
   ]
  }
 ],
 "metadata": {
  "kernelspec": {
   "display_name": "venv",
   "language": "python",
   "name": "python3"
  },
  "language_info": {
   "codemirror_mode": {
    "name": "ipython",
    "version": 3
   },
   "file_extension": ".py",
   "mimetype": "text/x-python",
   "name": "python",
   "nbconvert_exporter": "python",
   "pygments_lexer": "ipython3",
   "version": "3.11.9"
  }
 },
 "nbformat": 4,
 "nbformat_minor": 2
}
