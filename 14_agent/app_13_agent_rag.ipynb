{
 "cells": [
  {
   "cell_type": "code",
   "execution_count": 1,
   "metadata": {},
   "outputs": [],
   "source": [
    "from dotenv import load_dotenv\n",
    "import os\n",
    "\n",
    "load_dotenv(verbose=True)\n",
    "key = os.getenv('OPENAI_API_KEY')"
   ]
  },
  {
   "cell_type": "code",
   "execution_count": 2,
   "metadata": {},
   "outputs": [],
   "source": [
    "from langchain_openai import ChatOpenAI\n",
    "from langchain_core.prompts import ChatPromptTemplate"
   ]
  },
  {
   "cell_type": "code",
   "execution_count": 3,
   "metadata": {},
   "outputs": [],
   "source": [
    "from langchain.text_splitter import RecursiveCharacterTextSplitter\n",
    "from langchain.document_loaders import PyMuPDFLoader\n",
    "from langchain_community.vectorstores import FAISS\n",
    "from langchain_openai import OpenAIEmbeddings\n",
    "\n",
    "from langchain_community.chat_message_histories import ChatMessageHistory\n",
    "from langchain_core.runnables.history import RunnableWithMessageHistory"
   ]
  },
  {
   "cell_type": "code",
   "execution_count": 4,
   "metadata": {},
   "outputs": [],
   "source": [
    "from langchain_community.tools.tavily_search import TavilySearchResults\n",
    "from langchain.tools.retriever import create_retriever_tool\n",
    "from langchain.agents import create_tool_calling_agent\n",
    "from langchain.agents import AgentExecutor\n",
    "from langchain_teddynote.messages import AgentStreamParser"
   ]
  },
  {
   "cell_type": "code",
   "execution_count": 7,
   "metadata": {},
   "outputs": [],
   "source": [
    "# 1. 도구를 정의합니다\n",
    "\n",
    "### 1-1. Search 도구 ###\n",
    "# TavilySearchResults 클래스의 인스턴스를 생성합니다\n",
    "# k=6은 검색 결과를 6개까지 가져오겠다는 의미입니다\n",
    "search = TavilySearchResults(k=6)"
   ]
  },
  {
   "cell_type": "code",
   "execution_count": 9,
   "metadata": {},
   "outputs": [],
   "source": [
    "### 1-2. PDF 문서 검색 도구 (Retriever) ###\n",
    "# PDF 파일 로드. 파일의 경로 입력\n",
    "loader = PyMuPDFLoader(\"data/SPRI_AI_Brief_2023년12월호_F.pdf\")"
   ]
  },
  {
   "cell_type": "code",
   "execution_count": 11,
   "metadata": {},
   "outputs": [],
   "source": [
    "# 텍스트 분할기를 사용하여 문서를 분할합니다.\n",
    "text_splitter = RecursiveCharacterTextSplitter(chunk_size=1000, chunk_overlap=100)"
   ]
  },
  {
   "cell_type": "code",
   "execution_count": 12,
   "metadata": {},
   "outputs": [],
   "source": [
    "# 문서를 로드하고 분할합니다.\n",
    "split_docs = loader.load_and_split(text_splitter)"
   ]
  },
  {
   "cell_type": "code",
   "execution_count": 14,
   "metadata": {},
   "outputs": [],
   "source": [
    "# VectorStore를 생성합니다.\n",
    "vector = FAISS.from_documents(split_docs, OpenAIEmbeddings(model=\"text-embedding-3-small\"))"
   ]
  },
  {
   "cell_type": "code",
   "execution_count": 15,
   "metadata": {},
   "outputs": [],
   "source": [
    "# Retriever를 생성합니다.\n",
    "retriever = vector.as_retriever()"
   ]
  },
  {
   "cell_type": "code",
   "execution_count": 16,
   "metadata": {},
   "outputs": [],
   "source": [
    "# create_retriever_tool() 로 retriever를 도구로 변환합니다.\n",
    "retriever_tool = create_retriever_tool(\n",
    "    retriever,\n",
    "    name=\"pdf_search\",                                                        # 도구의 이름을 입력합니다.\n",
    "    description=\"use this tool to search information from the PDF document\",  # 도구에 대한 설명을 자세히 기입해야 합니다!!\n",
    ")"
   ]
  },
  {
   "cell_type": "code",
   "execution_count": 17,
   "metadata": {},
   "outputs": [],
   "source": [
    "### 1-3. tools 리스트에 도구 목록을 추가합니다 ###\n",
    "# tools 리스트에 search와 retriever_tool을 추가합니다.\n",
    "tools = [search, retriever_tool]"
   ]
  },
  {
   "cell_type": "code",
   "execution_count": 18,
   "metadata": {},
   "outputs": [],
   "source": [
    "# 2. LLM 을 정의합니다 \n",
    "\n",
    "# LLM 모델을 생성합니다.\n",
    "llm = ChatOpenAI(model=\"gpt-4o-mini\", temperature=0)"
   ]
  },
  {
   "cell_type": "code",
   "execution_count": 19,
   "metadata": {},
   "outputs": [],
   "source": [
    "# 3. Prompt 를 정의합니다 \n",
    "\n",
    "# Prompt 를 정의합니다\n",
    "prompt = ChatPromptTemplate.from_messages(\n",
    "    [\n",
    "        (\n",
    "            \"system\",\n",
    "            \"You are a helpful assistant. \"\n",
    "            \"Make sure to use the `pdf_search` tool for searching information from the PDF document. \"\n",
    "            \"If you can't find the information from the PDF document, use the `search` tool for searching information from the web.\",\n",
    "        ),\n",
    "        (\"placeholder\", \"{chat_history}\"),\n",
    "        (\"human\", \"{input}\"),\n",
    "        (\"placeholder\", \"{agent_scratchpad}\"),\n",
    "    ]\n",
    ")"
   ]
  },
  {
   "cell_type": "code",
   "execution_count": 21,
   "metadata": {},
   "outputs": [],
   "source": [
    "# 4. Agent 를 정의합니다 \n",
    "\n",
    "# 에이전트를 생성합니다.\n",
    "agent = create_tool_calling_agent(llm, tools, prompt)     # llm, tools, prompt를 인자로 사용합니다."
   ]
  },
  {
   "cell_type": "code",
   "execution_count": 23,
   "metadata": {},
   "outputs": [],
   "source": [
    "# 5. AgentExecutor 를 정의합니다 \n",
    "\n",
    "# AgentExecutor 클래스를 사용하여 agent와 tools를 설정합니다.\n",
    "agent_executor = AgentExecutor(agent=agent, tools=tools, verbose=False)"
   ]
  },
  {
   "cell_type": "code",
   "execution_count": 24,
   "metadata": {},
   "outputs": [],
   "source": [
    "#6. 채팅 기록을 수행하는 메모리를 추가합니다. \n",
    "\n",
    "store = {}                                          # session_id 를 저장할 딕셔너리 생성\n",
    "\n",
    "def get_session_history(session_ids):               # session_id 를 기반으로 세션 기록을 가져오는 함수\n",
    "    if session_ids not in store:                    # session_id 가 store에 없는 경우        \n",
    "        store[session_ids] = ChatMessageHistory()   # 새로운 ChatMessageHistory 객체를 생성하여 store에 저장\n",
    "\n",
    "    return store[session_ids]                       # 해당 세션 ID에 대한 세션 기록 반환"
   ]
  },
  {
   "cell_type": "code",
   "execution_count": 25,
   "metadata": {},
   "outputs": [],
   "source": [
    "# 채팅 메시지 기록이 추가된 에이전트를 생성합니다.\n",
    "agent_with_chat_history = RunnableWithMessageHistory(\n",
    "    agent_executor,    \n",
    "    get_session_history,                    # 대화 session_id    \n",
    "    input_messages_key=\"input\",             # 프롬프트의 질문이 입력되는 key: \"input\"                                \n",
    "    history_messages_key=\"chat_history\",    # 프롬프트의 메시지가 입력되는 key: \"chat_history\"\n",
    ")"
   ]
  },
  {
   "cell_type": "code",
   "execution_count": 26,
   "metadata": {},
   "outputs": [],
   "source": [
    "#7. Agent 파서를 정의합니다.\n",
    "\n",
    "agent_stream_parser = AgentStreamParser()"
   ]
  },
  {
   "cell_type": "code",
   "execution_count": 28,
   "metadata": {},
   "outputs": [
    {
     "name": "stdout",
     "output_type": "stream",
     "text": [
      "[도구 호출]\n",
      "Tool: pdf_search\n",
      "query: 구글 앤스로픽 투자 금액\n",
      "Log: \n",
      "Invoking: `pdf_search` with `{'query': '구글 앤스로픽 투자 금액'}`\n",
      "\n",
      "\n",
      "\n",
      "[관찰 내용]\n",
      "Observation: 1. 정책/법제  \n",
      "2. 기업/산업 \n",
      "3. 기술/연구 \n",
      " 4. 인력/교육\n",
      "구글, 앤스로픽에 20억 달러 투자로 생성 AI 협력 강화 \n",
      "n 구글이 앤스로픽에 최대 20억 달러 투자에 합의하고 5억 달러를 우선 투자했으며, 앤스로픽은 \n",
      "구글과 클라우드 서비스 사용 계약도 체결\n",
      "n 3대 클라우드 사업자인 구글, 마이크로소프트, 아마존은 차세대 AI 모델의 대표 기업인 \n",
      "앤스로픽 및 오픈AI와 협력을 확대하는 추세\n",
      "KEY Contents\n",
      "£ 구글, 앤스로픽에 최대 20억 달러 투자 합의 및 클라우드 서비스 제공\n",
      "n 구글이 2023년 10월 27일 앤스로픽에 최대 20억 달러를 투자하기로 합의했으며, 이 중 5억 \n",
      "달러를 우선 투자하고 향후 15억 달러를 추가로 투자할 방침\n",
      "∙구글은 2023년 2월 앤스로픽에 이미 5억 5,000만 달러를 투자한 바 있으며, 아마존도 지난 9월 \n",
      "앤스로픽에 최대 40억 달러의 투자 계획을 공개\n",
      "∙한편, 2023년 11월 8일 블룸버그 보도에 따르면 앤스로픽은 구글의 클라우드 서비스 사용을 위해 \n",
      "4년간 30억 달러 규모의 계약을 체결\n",
      "∙오픈AI 창업자 그룹의 일원이었던 다리오(Dario Amodei)와 다니엘라 아모데이(Daniela Amodei) \n",
      "남매가 2021년 설립한 앤스로픽은 챗GPT의 대항마 ‘클로드(Claude)’ LLM을 개발\n",
      "n 아마존과 구글의 앤스로픽 투자에 앞서, 마이크로소프트는 차세대 AI 모델의 대표 주자인 오픈\n",
      "AI와 협력을 확대\n",
      "∙마이크로소프트는 오픈AI에 앞서 투자한 30억 달러에 더해 2023년 1월 추가로 100억 달러를 \n",
      "투자하기로 하면서 오픈AI의 지분 49%를 확보했으며, 오픈AI는 마이크로소프트의 애저(Azure) \n",
      "클라우드 플랫폼을 사용해 AI 모델을 훈련\n",
      "£ 구글, 클라우드 경쟁력 강화를 위해 생성 AI 투자 확대\n",
      "n 구글은 수익률이 높은 클라우드 컴퓨팅 시장에서 아마존과 마이크로소프트를 따라잡고자 생성 AI를 \n",
      "통한 기업 고객의 클라우드 지출 확대를 위해 AI 투자를 지속\n",
      "\n",
      "n 구글은 수익률이 높은 클라우드 컴퓨팅 시장에서 아마존과 마이크로소프트를 따라잡고자 생성 AI를 \n",
      "통한 기업 고객의 클라우드 지출 확대를 위해 AI 투자를 지속  \n",
      "∙구글은 앤스로픽 외에도 AI 동영상 제작 도구를 개발하는 런웨이(Runway)와 오픈소스 소프트웨어 \n",
      "기업 허깅 페이스(Hugging Face)에도 투자\n",
      "∙구글은 챗GPT의 기반 기술과 직접 경쟁할 수 있는 차세대 LLM ‘제미니(Gemini)’를 포함한 자체 AI \n",
      "시스템 개발에도 수십억 달러를 투자했으며, 2024년 제미니를 출시할 계획\n",
      "☞ 출처 : The Wall Street Journal, Google Commits $2 Billion in Funding to AI Startup Anthropic, 2023.10.27.\n",
      "Bloomberg, AI Startup Anthropic to Use Google Chips in Expanded Partnership, 2023.11.09.\n",
      "\n",
      "1. 정책/법제  \n",
      "2. 기업/산업 \n",
      "3. 기술/연구 \n",
      " 4. 인력/교육\n",
      "미국 프런티어 모델 포럼, 1,000만 달러 규모의 AI 안전 기금 조성\n",
      "n 구글, 앤스로픽, 마이크로소프트, 오픈AI가 참여하는 프런티어 모델 포럼이 자선단체와 함께 AI \n",
      "안전 연구를 위한 1,000만 달러 규모의 AI 안전 기금을 조성\n",
      "n 프런티어 모델 포럼은 AI 모델의 취약점을 발견하고 검증하는 레드팀 활동을 지원하기 위한 \n",
      "모델 평가 기법 개발에 자금을 중점 지원할 계획\n",
      "KEY Contents\n",
      "£ 프런티어 모델 포럼, 자선단체와 함께 AI 안전 연구를 위한 기금 조성\n",
      "n 구글, 앤스로픽, 마이크로소프트, 오픈AI가 출범한 프런티어 모델 포럼이 2023년 10월 25일 AI 안전 \n",
      "연구를 위한 기금을 조성한다고 발표\n",
      "∙참여사들은 맥거번 재단(Patrick J. McGovern Foundation), 데이비드 앤 루실 패커드 재단(The \n",
      "David and Lucile Packard Foundation) 등의 자선단체와 함께 AI 안전 연구를 위한 기금에 \n",
      "1,000만 달러 이상을 기부 \n",
      "∙또한 신기술의 거버넌스와 안전 분야에서 전문성을 갖춘 브루킹스 연구소 출신의 크리스 메서롤(Chris \n",
      "Meserole)을 포럼의 상무이사로 임명\n",
      "n 최근 AI 기술이 급속히 발전하면서 AI 안전에 관한 연구가 부족한 시점에, 포럼은 이러한 격차를 해소\n",
      "하기 위해 AI 안전 기금을 조성\n",
      "∙참여사들은 지난 7월 백악관 주재의 AI 안전 서약에서 외부자의 AI 시스템 취약점 발견과 신고를 \n",
      "촉진하기로 약속했으며, 약속을 이행하기 위해 기금을 활용해 외부 연구집단의 AI 시스템 평가에 \n",
      "자금을 지원할 계획\n",
      "£ AI 안전 기금으로 AI 레드팀을 위한 모델 평가 기법 개발을 중점 지원할 계획\n",
      "n 프런티어 모델 포럼은 AI 안전 기금을 통해 AI 레드팀 활동을 위한 새로운 모델 평가 기법의 개발을 \n",
      "중점 지원할 예정\n",
      "\n",
      "▹ 구글, 앤스로픽에 20억 달러 투자로 생성 AI 협력 강화 ················································ 11\n",
      "   ▹ IDC, 2027년 AI 소프트웨어 매출 2,500억 달러 돌파 전망··········································· 12\n",
      "   ▹ 빌 게이츠, AI 에이전트로 인한 컴퓨터 사용의 패러다임 변화 전망································ 13\n",
      "   ▹ 유튜브, 2024년부터 AI 생성 콘텐츠 표시 의무화···························································· 14\n",
      " 3. 기술/연구\n",
      "   ▹ 영국 과학혁신기술부, AI 안전 연구소 설립 발표······························································ 15\n",
      "   ▹ 구글 딥마인드, 범용 AI 모델의 기능과 동작에 대한 분류 체계 발표······························ 16\n",
      "   ▹ 갈릴레오의 LLM 환각 지수 평가에서 GPT-4가 가장 우수 ··········································· 17\n",
      "   \n",
      " 4. 인력/교육     \n",
      "   ▹ 영국 옥스퍼드 인터넷 연구소, AI 기술자의 임금이 평균 21% 높아······························· 18\n",
      "   \n",
      "   \n",
      " \n",
      "Ⅱ. 주요 행사\n",
      "   ▹CES 2024 ····························································································································· 19\n",
      "[최종 답변]\n",
      "구글이 앤스로픽에 투자한 금액은 최대 20억 달러로, 이 중 5억 달러를 우선 투자했습니다. 나머지 15억 달러는 향후 추가로 투자할 계획입니다.\n"
     ]
    }
   ],
   "source": [
    "#8. 에이전트를 실행하고 결과를 확인합니다.\n",
    "\n",
    "# 질의에 대한 답변을 출력합니다.\n",
    "response = agent_with_chat_history.stream(      \n",
    "    {\"input\": \"구글이 앤스로픽에 투자한 금액을 문서에서 찾아줘\"},\n",
    "    config={\"configurable\": {\"session_id\": \"abc123\"}},\n",
    ")\n",
    "\n",
    "for step in response:\n",
    "    agent_stream_parser.process_agent_steps(step)"
   ]
  },
  {
   "cell_type": "code",
   "execution_count": 29,
   "metadata": {},
   "outputs": [
    {
     "name": "stdout",
     "output_type": "stream",
     "text": [
      "[최종 답변]\n",
      "Google has invested a total of up to $2 billion in Anthropic, with an initial investment of $500 million. The remaining $1.5 billion is planned for future investment.\n"
     ]
    }
   ],
   "source": [
    "#8. 에이전트를 실행하고 결과를 확인합니다.\n",
    "\n",
    "# 질의에 대한 답변을 출력합니다.\n",
    "response = agent_with_chat_history.stream(      \n",
    "    {\"input\": \"이전의 답변을 영어로 번역해 주세요\"},\n",
    "    config={\"configurable\": {\"session_id\": \"abc123\"}},\n",
    ")\n",
    "\n",
    "for step in response:\n",
    "    agent_stream_parser.process_agent_steps(step)"
   ]
  },
  {
   "cell_type": "code",
   "execution_count": 30,
   "metadata": {},
   "outputs": [
    {
     "name": "stdout",
     "output_type": "stream",
     "text": [
      "[도구 호출]\n",
      "Tool: tavily_search_results_json\n",
      "query: 2024년 프로야구 플레이오프 진출 팀\n",
      "Log: \n",
      "Invoking: `tavily_search_results_json` with `{'query': '2024년 프로야구 플레이오프 진출 팀'}`\n",
      "\n",
      "\n",
      "\n",
      "[관찰 내용]\n",
      "Observation: [{'url': 'https://m.blog.naver.com/hoga1201/223571117829', 'content': '2024년 프로야구 포스트시즌 가을야구 플레이오프 진출팀 예상 분석 상대팀 별 잔여경기 : 네이버 블로그 2024년 프로야구 포스트시즌 가을야구 플레이오프 진출팀 예상 분석 상대팀 별 잔여경기 그래서 오늘은 KBO 남은 상대팀 경기 수와 우승 및 와일드카드 진출 가능성에 대한 경우의 수에 대해서 분석해 보도록 하겠습니다. 모든 팀이 가을야구에 대한 가능성이 남아있는 상황이라서, 남은 한 경기한 경기가 정말 피 말리는 승부가 될 것 같습니다. - KIA의 매직넘버는 현재 2등 삼성이 남은 17경기를 전승을 해도 11승 7패만 하면 자력 우승이 가능해질 것 같습니다. 위 순위표에서 각 구단별로 거둔 승수와 남은 경기 승패율 비교해서 내 팀이 가을야구 진출하려면 몇 승 이상을 해야 하는지 따져보면 될 것 같습니다. {\"title\":\"2024년 프로야구 포스트시즌 가을야구 플레이오프 진출팀 예상 분석 상대팀 별 잔여경기\",\"source\":\"https://blog.naver.com/hoga1201/223571117829\",\"blogName\":\"호가의 일..\",\"blogId\":\"god1986\",\"domainIdOrBlogId\":\"hoga1201\",\"nicknameOrBlogId\":\"호가\",\"logNo\":223571117829,\"smartEditorVersion\":4,\"lineDisplay\":true,\"outsideDisplay\":false,\"meDisplay\":true,\"cafeDisplay\":true,\"blogDisplay\":true}'}, {'url': 'https://blog.naver.com/PostView.naver?blogId=hoga1201&logNo=223571117829', 'content': '블로그 2024년 프로야구 포스트시즌 가을야구 플레이오프 진출팀 예상 분석 상대팀 별 잔여경기 오늘은 오랜 야구팬인 남편이 2024 가을 야구 포스트시즌 진출 가능성을 분석해 주셨어요:) 그래서 오늘은 KBO 남은 상대팀 경기 수와 우승 및 와일드카드 진출 가능성에 대한 경우의 수에 대해서 분석해 보도록 하겠습니다. 24년 9월 3일 프로야구 팀 별 잔여 경기 수입니다. 2024 프로야구 포스트시즌 삼성이 1 패할 때마다 확률이 훨씬 올라가기 때문에 2024 프로야구 포스트시즌 한국시리즈 일정은 아래 포스팅을 참고해 주세요:) {FILENAME} 이용제한 파일 : {FILENAME} 네이버는 블로그를 통해 저작물이 무단으로 공유되는 것을 막기 위해, 네이버는 블로그를 통해 저작물이 무단으로 공유되는 것을 막기 위해, 스팸 게시물이 확대 생성되는 것을 방지하기 위하여 문구 및 사용 제한기간을상세하게 안내해 드리지 못하는 점 양해 부탁 드립니다. 블로그 마켓 가입 완료 내 상품 관리에서 배송비 설정 후 상품 판매를 시작해보세요!'}, {'url': 'https://m.blog.naver.com/twins2346/223603897496', 'content': '2024 KBO 프로 야구 포스트시즌 진출팀, 경기 일정, 경기 방식, 예매 방법 총정리 : 네이버 블로그 2024 KBO 프로 야구 포스트시즌 진출팀, 경기 일정, 경기 방식, 예매 방법 총정리 오늘은 2024년 KBO 프로 야구 포스트 시즌 진출팀과 경기 일정, 방식에 대해 상위권 다섯 팀은 가을 야구를 하게 됩니다 ㅎㅎ ⚾️ 포스트 시즌 진출팀 팬들의 가을 야구 꿈을 이뤄 준 포스트 시즌 진출팀은 정규 시즌 최종 순위는 1위 기아 타이거즈, 2위 삼성 라이온즈, 3위 엘지 트윈스, 와일드카드 경기는 5위 팀인 KT 위즈와 4위 팀인 두산 베어스가 참여하게 됩니다 이 때 4위 팀인 두산 베어스가 1승을 먼저 챙기고 시작하며, 정규리그 3위 팀인 엘지 트윈스와 여기서 승리한 팀이 KBO 한국시리즈에 진출하게 됩니다! {\"title\":\"2024 KBO 프로 야구 포스트시즌 진출팀, 경기 일정, 경기 방식, 예매 방법 총정리\",\"source\":\"https://blog.naver.com/twins2346/223603897496\",\"blogName\":\"소담소담 ..\",\"blogId\":\"twins2346\",\"domainIdOrBlogId\":\"twins2346\",\"nicknameOrBlogId\":\"밍스\",\"logNo\":223603897496,\"smartEditorVersion\":4,\"lineDisplay\":true,\"outsideDisplay\":false,\"cafeDisplay\":true,\"blogDisplay\":true,\"meDisplay\":true}'}, {'url': 'https://narooya.com/entry/2024-프로야구-포스트시즌-일정-티켓-예매-플레이오프-일정-총정리', 'content': '2024 프로야구 포스트시즌 일정 티켓 예매 플레이오프 일정 총정리 2024 프로야구 포스트시즌 일정 티켓 예매 플레이오프 일정 총정리 2024 프로야구 포스트시즌 일정 티켓 예매 플레이오프 일정 총정리 2024 프로야구 플레이오프 일정 팀별 정보 티켓 예매 방법 정보 총정 이번 포스팅에서는 2024 KBO 포스트시즌 일정과 티켓 예매 정보, 와일드카드, 준플레이오프, 플레이오프, 한국시리즈 일정을 표로 정리하여 알아보겠습니다. 서울세계불꽃축제 2024 티켓 예매 일정 생중계 바로보기 서울세계불꽃축제 티켓예매 명당자리 꿀팁 공연시간 생중계 바로보기 정보 까지 총정리2024년 10월 5일 토요일, 서울 여의도 한강공원에서 한화그룹이 주최하는 서울 세계불꽃축제가 화려하게 narooya.com 경기 팀: LG 트윈스(정규 3위) vs 와일드카드 승리팀 2024 프로야구 포스트시즌 준플레이오프는 10월 5일부터 LG 트윈스와 와일드카드 승리팀 간의 경기가 펼쳐지며, 5전 3선승제로 진행됩니다. 경기 팀: 삼성 라이온즈(정규 2위) vs 준플레이오프 승리팀 경기 팀: 기아 타이거즈(정규 1위) vs 플레이오프 승리팀'}, {'url': 'https://mykth1991.com/entry/2024-KBO-프로야구-순위-및-2024-가을야구-포스트시즌-일정-총정리', 'content': '2024 KBO 프로야구 순위 및 2024 가을야구 포스트시즌 일정 총정리! 2024 KBO 포스트시즌 가을야구 일정, 가을야구 티켓 예매 이번 글에서는 2024 KBO 포스트시즌 가을야구 일정, 티켓 예매, 와일드카드 결정전, 준플레이오프 일정, 플레이오프 일정, 한국시리즈 일정에 대해서 알아보겠습니다. >> 2024 포스트시즌 가을야구 일정 바로 확인하기 << 1위 KIA 86승 2무 55패(0) : 포스트시즌 진출확정 2위 삼성 78승 2무 64패(8.5) : 포스트시즌 진출확정 3위 LG 76승 2무 66패(10.5) : 포스트시즌 진출확정 4위 두산 74승 2무 68패(12.5) : 포스트시즌 진출확정 2024 KBO 포스트시즌 가을야구 일정, 가을야구 티켓 예매 2024 KBO 프로야구 포스트시즌 일정 2024 KBO 포스트시즌 일정, 가을야구 일정, 한국시리즈 일정 2024 포스트시즌 일정, 가을야구 일정, 와일드카드 결정전 일정 2024 포스트시즌 일정, 가을야구 일정, 가을야구 티켓 예매, 준플레이오프 일정'}]\n",
      "[최종 답변]\n",
      "2024년 프로야구 플레이오프에 진출한 5개 팀은 다음과 같습니다:\n",
      "\n",
      "1. 기아 타이거즈 (1위)\n",
      "2. 삼성 라이온즈 (2위)\n",
      "3. LG 트윈스 (3위)\n",
      "4. 두산 베어스 (4위)\n",
      "5. KT 위즈 (와일드카드)\n"
     ]
    }
   ],
   "source": [
    "#8. 에이전트를 실행하고 결과를 확인합니다.\n",
    "\n",
    "# 질의에 대한 답변을 출력합니다.\n",
    "response = agent_with_chat_history.stream(      \n",
    "    {\"input\": \"2024년 프로야구 플레이오프 진출 5개팀을 검색해서 알려주세요. 한글로 답변하세요\"},\n",
    "    config={\"configurable\": {\"session_id\": \"abc123\"}},\n",
    ")\n",
    "\n",
    "for step in response:\n",
    "    agent_stream_parser.process_agent_steps(step)"
   ]
  },
  {
   "cell_type": "code",
   "execution_count": 31,
   "metadata": {},
   "outputs": [
    {
     "name": "stdout",
     "output_type": "stream",
     "text": [
      "[최종 답변]\n",
      "2024년 프로야구 플레이오프 진출 팀은 기아, 삼성, LG, 두산, KT입니다! 치열한 경쟁 속에서 어떤 팀이 우승할지 기대됩니다! ⚾️🔥 #프로야구 #플레이오프\n"
     ]
    }
   ],
   "source": [
    "#8. 에이전트를 실행하고 결과를 확인합니다.\n",
    "\n",
    "# 질의에 대한 답변을 출력합니다.\n",
    "response = agent_with_chat_history.stream(      \n",
    "    {\"input\": \"이전의 답변을 SNS 게시글 형태로 100자 내외로 작성하세요.\"},\n",
    "    config={\"configurable\": {\"session_id\": \"abc123\"}},\n",
    ")\n",
    "\n",
    "for step in response:\n",
    "    agent_stream_parser.process_agent_steps(step)"
   ]
  },
  {
   "cell_type": "code",
   "execution_count": 32,
   "metadata": {},
   "outputs": [
    {
     "name": "stdout",
     "output_type": "stream",
     "text": [
      "[도구 호출]\n",
      "Tool: tavily_search_results_json\n",
      "query: 2024 한국 시리즈 일정\n",
      "Log: \n",
      "Invoking: `tavily_search_results_json` with `{'query': '2024 한국 시리즈 일정'}`\n",
      "\n",
      "\n",
      "\n",
      "[관찰 내용]\n",
      "Observation: [{'url': 'https://m.blog.naver.com/baekhw1/223600397138?isInf=true', 'content': '2024 KBO 프로야구 한국시리즈 일정 총정리!(방식 구장 우승팀 뜻 우승상금 룰 경기수) : 네이버 블로그 2024 KBO 프로야구 한국시리즈 일정 총정리!(방식 구장 우승팀 뜻 우승상금 룰 경기수) 2024 KBO 프로야구 포스트시즌 한국시리즈는 10월 21일부터 29일로 10월 13일부터 19일까지 진행된다. 승리한 팀이 3위 LG트윈스와 준플레이오프(5전 3선승제)를 치룬다. 여기서 승리한 팀이 2위 삼성 라이온즈와 플레이오프(5전 3선승제)를 치룰 예정이다. 1차전 10월 21일 월요일 18시 30분 2차전 10월 22일 화요일 18시 30분 3차전 10월 24일 목요일 18시 30분 4차전 10월 25일 금요일 18시 30분 5차전 10월 27일 일요일 14시 6차전 10월 28일 월요일 18시 30분 7차전 10월 29일 화요일 18시 30분 한국시리즈 경기수 룰 한국시리즈 우승팀 우승상금 한국시리즈 일정 총정리!(방식 구장 #한국시리즈 {\"title\":\"2024 KBO 프로야구 한국시리즈 일정 총정리!(방식 구장 우승팀 뜻 우승상금 룰 경기수)\",\"source\":\"https://blog.naver.com/baekhw1/223600397138\",\"blogName\":\"빠게룽\",\"blogId\":\"baekhw1\",\"domainIdOrBlogId\":\"baekhw1\",\"nicknameOrBlogId\":\"빠게룽\",\"logNo\":223600397138,\"smartEditorVersion\":4,\"meDisplay\":true,\"lineDisplay\":true,\"outsideDisplay\":true,\"cafeDisplay\":true,\"blogDisplay\":true}'}, {'url': 'https://namu.wiki/w/2024년+한국시리즈', 'content': '예매 일정 2.2. 각 구장 티켓 가격 / 좌석배치도 ... 2024 신한은행 SOL KBO 한국시리즈 4차전 2024 Shinhan Bank SOL KBO KOREAN SERIES Game 4. 10월 23일 18:30 ~ 00:00 (0시간 0분)'}, {'url': 'https://m.blog.naver.com/gee_blog/223596232437', 'content': '2024 프로야구 포스트시즌 한국시리즈 일정 확정!(연장전, 우천취소, 무승부, 비디오판독 횟수) : 네이버 블로그 [공지] 2024 프로야구 포스트시즌 한국시리즈 일정 확정!(연장전, 우천취소, 무승부, 비디오판독 횟수) KBO 야구 포스트시즌 한국시리즈 경기일정 📌야구 포스트시즌 한국시리즈 경기일정 WC 승리팀 홈구장 준PO 승리팀 PO 승리팀 홈구장 하지만, 5위팀은 2경기 모두 이겨야지만 준플레이오프에 진출 할 수 있어서 혹여나 우천취소 등 경기가 취소 될경우 다음 날로 순연되는데, 경기가 미뤄져도 정해진 일정에 한 시리즈에서 2경기 이상 무승부가 나올 경우, 다음 날이 동일 대진이면 그 날 경기 이전에 진행, 다음 날이 이동일이면 이동일에 경기를 진행한 후 지금까지 한국시리즈 포스트시즌 확정 일정과 한국시리즈 포스트시즌시 연장전, 우천취소, 한국시리즈 포스트시즌 야구 룰을 잘 확인하시면 {\"title\":\"2024 프로야구 포스트시즌 한국시리즈 일정 확정!(연장전, 우천취소, 무승부, 비디오판독 횟수)\",\"source\":\"https://blog.naver.com/gee_blog/223596232437\",\"blogName\":\"먹고놀고 ..\",\"blogId\":\"kmj6951\",\"domainIdOrBlogId\":\"gee_blog\",\"nicknameOrBlogId\":\"지블 GEE BLOG\",\"logNo\":223596232437,\"smartEditorVersion\":4,\"cafeDisplay\":true,\"blogDisplay\":true,\"meDisplay\":true,\"lineDisplay\":true,\"outsideDisplay\":false}'}, {'url': 'https://outdoorbooks.co.kr/2024-한국시리즈-일정과-중계-채널-티켓-예매-가격-총정/', 'content': '또한, 2024 한국시리즈는 KBO리그의 여러 구단들이 치열한 경쟁을 통해 선발된 팀들이 맞붙기 때문에, 팬들은 각 팀의 플레이오프 진출 여부에 따라 경기 일정이 달라질 수 있다는 점도 염두에 두어야 합니다. 위의 표를 통해 각 티켓 종류에 따른 가격을 확인할 수 있습니다. 중계 채널 외에도 팬들은 각종 SNS를 통해 경기 정보를 확인하고, 실시간으로 반응하는 커뮤니티와 소통할 수 있습니다. 2024 한국시리즈 경기 일정은 원래 계획한 대로 진행되는 것이 가장 이상적이지만, 불가피하게 우천으로 인해 일정이 변경될 수 있습니다. 경기 일정 변경 시 팬들은 예매한 티켓을 손쉽게 변경하거나 취소할 수 있는 권리를 갖게 됩니다. 팬들은 미리 경기 일정과 중계 채널, 티켓팅 정보를 잘 숙지하여 놓치는 경기가 없도록 해야 합니다. 경기가 연기될 경우, 관련 정보는 KBO 공지를 통해 확인할 수 있습니다.'}, {'url': 'https://www.yna.co.kr/view/GYH20241019000200044', 'content': '[그래픽] 2024 프로야구 한국시리즈 일정 | 연합뉴스 연합뉴스 본문 바로가기 메뉴 바로가기 하단 메뉴 바로가기 국가기간뉴스통신사 연합뉴스 뉴스, 포토, 영상, 그래픽을 검색하실 수 있습니다. 북한 검색 열기 검색 닫기 [그래픽] 2024 프로야구 한국시리즈 일정 이 뉴스 공유하기 닫기 카카오톡 페이스북 X 카카오 메신저 네이버 밴드 네이버 (서울=연합뉴스) 이재윤 김영은 기자 = 삼성 라이온즈가 9년 만에 프로야구 한국시리즈(7전 4승제)에 진출했다. X(트위터) @yonhap_graphics 페이스북 tuney.kr/LeYN1 제보는 카카오톡 okjebo <저작권자(c) 연합뉴스, 무단 전재-재배포, AI 학습 및 활용 금지> 2024/10/19 18:03 송고 #한국시리즈 #프로야구 뉴스 홈 북한 재난/북한 포털 모바일 뉴스 뉴스 상품 보도자료 해외배포 보도자료 국내배포 모바일 연합뉴스 연합뉴스 서울시 종로구 율곡로2길 25 | 등록번호 문화, 나00009 | 등록일자 1980.12.29 | 발행일자 1980.12.29 | Tel. 02-398-3114 연합뉴스 페이스북 연합뉴스 트위터 연합뉴스 연합뉴스TV 인포맥스'}]\n",
      "[최종 답변]\n",
      "2024년 프로야구 플레이오프 진출 팀은 기아, 삼성, LG, 두산, KT입니다! 한국 시리즈는 10월 21일부터 29일까지 진행됩니다. 어떤 팀이 우승할지 기대됩니다! ⚾️🔥 #프로야구 #플레이오프 #한국시리즈\n"
     ]
    }
   ],
   "source": [
    "#8. 에이전트를 실행하고 결과를 확인합니다.\n",
    "\n",
    "# 질의에 대한 답변을 출력합니다.\n",
    "response = agent_with_chat_history.stream(      \n",
    "    {\"input\": \"이전의 답변에 한국 시리즈 일정을 추가하세요.\"},\n",
    "    config={\"configurable\": {\"session_id\": \"abc123\"}},\n",
    ")\n",
    "\n",
    "for step in response:\n",
    "    agent_stream_parser.process_agent_steps(step)"
   ]
  }
 ],
 "metadata": {
  "kernelspec": {
   "display_name": "venv",
   "language": "python",
   "name": "python3"
  },
  "language_info": {
   "codemirror_mode": {
    "name": "ipython",
    "version": 3
   },
   "file_extension": ".py",
   "mimetype": "text/x-python",
   "name": "python",
   "nbconvert_exporter": "python",
   "pygments_lexer": "ipython3",
   "version": "3.11.9"
  }
 },
 "nbformat": 4,
 "nbformat_minor": 2
}
