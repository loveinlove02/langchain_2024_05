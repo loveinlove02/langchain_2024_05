{
 "cells": [
  {
   "cell_type": "code",
   "execution_count": 1,
   "metadata": {},
   "outputs": [],
   "source": [
    "from dotenv import load_dotenv\n",
    "import os\n",
    "\n",
    "load_dotenv(verbose=True)\n",
    "key = os.getenv('OPENAI_API_KEY')\n",
    "google_key = os.getenv('GOOGLE_API_KEY')"
   ]
  },
  {
   "cell_type": "code",
   "execution_count": 2,
   "metadata": {},
   "outputs": [],
   "source": [
    "from langchain_google_genai import ChatGoogleGenerativeAI"
   ]
  },
  {
   "cell_type": "code",
   "execution_count": 3,
   "metadata": {},
   "outputs": [],
   "source": [
    "from langchain_teddynote.messages import stream_response"
   ]
  },
  {
   "cell_type": "code",
   "execution_count": 4,
   "metadata": {},
   "outputs": [],
   "source": [
    "llm = ChatGoogleGenerativeAI(\n",
    "    api_key=google_key, \n",
    "    model=\"gemini-1.5-pro-latest\"\n",
    ")"
   ]
  },
  {
   "cell_type": "code",
   "execution_count": 5,
   "metadata": {},
   "outputs": [],
   "source": [
    "answer = llm.stream(\"자연어처리에 대해서 간략히 설명해 줘\")"
   ]
  },
  {
   "cell_type": "code",
   "execution_count": 6,
   "metadata": {},
   "outputs": [
    {
     "name": "stdout",
     "output_type": "stream",
     "text": [
      "자연어 처리(Natural Language Processing, NLP)는 컴퓨터가 인간의 언어를 이해하고 처리하며 생성할 수 있도록 하는 인공지능의 한 분야입니다.  쉽게 말해, 컴퓨터와 사람이 언어를 통해 소통할 수 있도록 하는 기술이죠.\n",
      "\n",
      "NLP는 다음과 같은 다양한 작업을 수행할 수 있습니다.\n",
      "\n",
      "* **텍스트 분류:** 스팸 메일 필터링, 감정 분석, 뉴스 기사 분류 등\n",
      "* **기계 번역:**  한 언어를 다른 언어로 자동 번역\n",
      "* **정보 추출:** 텍스트에서 특정 정보(예: 날짜, 장소, 사람 이름) 추출\n",
      "* **질의응답:** 질문에 대한 답변 제공\n",
      "* **텍스트 요약:** 긴 텍스트를 짧게 요약\n",
      "* **챗봇:** 사람과 자연스러운 대화를 나누는 프로그램\n",
      "* **텍스트 생성:** 기사, 시, 코드 등 새로운 텍스트 생성\n",
      "\n",
      "NLP는 다양한 기술과 알고리즘을 사용합니다.  \n",
      "\n",
      "* **통계적 모델:** 대량의 텍스트 데이터에서 패턴을 학습\n",
      "* **기계 학습:**  데이터를 통해 모델을 훈련하여 예측 및 분류 수행\n",
      "* **딥 러닝:**  복잡한 패턴을 학습하는 데 효과적인 심층 신경망 사용\n",
      "* **언어학적 규칙:** 문법, 구문 등 언어학적 지식 활용\n",
      "\n",
      "\n",
      "NLP는 우리 주변에서 이미 널리 사용되고 있습니다.  검색 엔진, 음성 비서, 번역기, 챗봇 등이 대표적인 예입니다. 앞으로 NLP 기술은 더욱 발전하여 인간과 컴퓨터의 상호작용을 더욱 자연스럽고 풍부하게 만들어줄 것으로 기대됩니다.\n"
     ]
    }
   ],
   "source": [
    "stream_response(answer)"
   ]
  },
  {
   "cell_type": "code",
   "execution_count": 7,
   "metadata": {},
   "outputs": [],
   "source": [
    "from langchain_teddynote.messages import stream_response\n",
    "from langchain_core.prompts import PromptTemplate"
   ]
  },
  {
   "cell_type": "code",
   "execution_count": 8,
   "metadata": {},
   "outputs": [
    {
     "name": "stdout",
     "output_type": "stream",
     "text": [
      "네."
     ]
    }
   ],
   "source": [
    "# ChatGoogleGenerativeAI 언어 모델을 초기화합니다.\n",
    "model = ChatGoogleGenerativeAI(\n",
    "    api_key=google_key, \n",
    "    model=\"gemini-1.5-pro-latest\"\n",
    ")\n",
    "\n",
    "# 프롬프트를 생성합니다.\n",
    "prompt = PromptTemplate.from_template(\n",
    "    \"예/아니오 질문에 대답하세요. {question}는 과일입니까?\"\n",
    ")\n",
    "\n",
    "# 체인을 생성합니다.\n",
    "chain = prompt | model\n",
    "\n",
    "# 결과를 출력합니다.\n",
    "stream_response(chain.stream({\"question\": \"사과\"}))"
   ]
  }
 ],
 "metadata": {
  "kernelspec": {
   "display_name": "venv",
   "language": "python",
   "name": "python3"
  },
  "language_info": {
   "codemirror_mode": {
    "name": "ipython",
    "version": 3
   },
   "file_extension": ".py",
   "mimetype": "text/x-python",
   "name": "python",
   "nbconvert_exporter": "python",
   "pygments_lexer": "ipython3",
   "version": "3.11.9"
  }
 },
 "nbformat": 4,
 "nbformat_minor": 2
}
