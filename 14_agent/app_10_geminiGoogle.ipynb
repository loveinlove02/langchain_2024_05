{
 "cells": [
  {
   "cell_type": "code",
   "execution_count": 4,
   "metadata": {},
   "outputs": [],
   "source": [
    "from dotenv import load_dotenv\n",
    "import os\n",
    "\n",
    "load_dotenv(verbose=True)\n",
    "key = os.getenv('OPENAI_API_KEY')\n",
    "google_key = os.getenv('GOOGLE_API_KEY')"
   ]
  },
  {
   "cell_type": "code",
   "execution_count": 5,
   "metadata": {},
   "outputs": [],
   "source": [
    "from langchain_google_genai import ChatGoogleGenerativeAI"
   ]
  },
  {
   "cell_type": "code",
   "execution_count": 19,
   "metadata": {},
   "outputs": [],
   "source": [
    "from langchain_teddynote.messages import stream_response"
   ]
  },
  {
   "cell_type": "code",
   "execution_count": 7,
   "metadata": {},
   "outputs": [],
   "source": [
    "llm = ChatGoogleGenerativeAI(\n",
    "    api_key=google_key, \n",
    "    model=\"gemini-1.5-pro-latest\"\n",
    ")"
   ]
  },
  {
   "cell_type": "code",
   "execution_count": 20,
   "metadata": {},
   "outputs": [],
   "source": [
    "answer = llm.stream(\"자연어처리에 대해서 간략히 설명해 줘\")"
   ]
  },
  {
   "cell_type": "code",
   "execution_count": 23,
   "metadata": {},
   "outputs": [
    {
     "name": "stdout",
     "output_type": "stream",
     "text": [
      "자연어 처리(Natural Language Processing, NLP)는 컴퓨터가 인간의 언어를 이해하고 처리하며, 생성할 수 있도록 하는 인공지능의 한 분야입니다.  쉽게 말해, 컴퓨터와 사람이 언어를 통해 소통할 수 있도록 하는 기술이죠.\n",
      "\n",
      "NLP는 다음과 같은 다양한 작업을 수행하는 데 사용됩니다.\n",
      "\n",
      "* **텍스트 분류:** 스팸 메일 필터링, 감정 분석, 주제 분류 등\n",
      "* **기계 번역:**  한 언어를 다른 언어로 자동 번역\n",
      "* **질문 응답:** 질문에 대한 답변을 자동으로 생성\n",
      "* **텍스트 요약:** 긴 텍스트를 짧게 요약\n",
      "* **챗봇:** 사용자와 자연스러운 대화를 나누는 프로그램\n",
      "* **음성 인식 및 합성:** 음성을 텍스트로 변환하거나 텍스트를 음성으로 변환\n",
      "* **정보 추출:** 텍스트에서 특정 정보를 추출 (예: 날짜, 장소, 사람 이름)\n",
      "\n",
      "\n",
      "NLP는 복잡한 언어 현상을 다루기 위해 다양한 기술을 사용합니다. 규칙 기반 접근, 통계적 모델, 최근에는 딥러닝 기반의 모델이 활발하게 활용되고 있습니다.  특히, 대규모 데이터를 학습하여 언어의 패턴을 파악하는 딥러닝 모델은 NLP 분야에 혁신적인 발전을 가져왔습니다.\n",
      "\n",
      "인간의 언어는 모호하고 복잡하기 때문에 NLP는 여전히 어려운 과제입니다. 하지만 기술의 발전으로 NLP는 점점 더 정교해지고 있으며, 우리의 일상생활에서 다양한 방식으로 활용되고 있습니다.\n"
     ]
    }
   ],
   "source": [
    "stream_response(answer)"
   ]
  },
  {
   "cell_type": "code",
   "execution_count": 16,
   "metadata": {},
   "outputs": [],
   "source": [
    "from langchain_teddynote.messages import stream_response\n",
    "from langchain_core.prompts import PromptTemplate"
   ]
  },
  {
   "cell_type": "code",
   "execution_count": 17,
   "metadata": {},
   "outputs": [
    {
     "name": "stdout",
     "output_type": "stream",
     "text": [
      "네."
     ]
    }
   ],
   "source": [
    "# ChatGoogleGenerativeAI 언어 모델을 초기화합니다.\n",
    "model = ChatGoogleGenerativeAI(\n",
    "    api_key=google_key, \n",
    "    model=\"gemini-1.5-pro-latest\"\n",
    ")\n",
    "\n",
    "# 프롬프트를 생성합니다.\n",
    "prompt = PromptTemplate.from_template(\n",
    "    \"예/아니오 질문에 대답하세요. {question}는 과일입니까?\"\n",
    ")\n",
    "\n",
    "# 체인을 생성합니다.\n",
    "chain = prompt | model\n",
    "\n",
    "# 결과를 출력합니다.\n",
    "stream_response(chain.stream({\"question\": \"사과\"}))"
   ]
  }
 ],
 "metadata": {
  "kernelspec": {
   "display_name": "venv",
   "language": "python",
   "name": "python3"
  },
  "language_info": {
   "codemirror_mode": {
    "name": "ipython",
    "version": 3
   },
   "file_extension": ".py",
   "mimetype": "text/x-python",
   "name": "python",
   "nbconvert_exporter": "python",
   "pygments_lexer": "ipython3",
   "version": "3.11.9"
  }
 },
 "nbformat": 4,
 "nbformat_minor": 2
}
