{
 "cells": [
  {
   "cell_type": "code",
   "execution_count": 13,
   "metadata": {},
   "outputs": [],
   "source": [
    "from dotenv import load_dotenv\n",
    "import os\n",
    "\n",
    "load_dotenv(verbose=True)\n",
    "key = os.getenv('OPENAI_API_KEY')"
   ]
  },
  {
   "cell_type": "code",
   "execution_count": 14,
   "metadata": {},
   "outputs": [],
   "source": [
    "from langchain_openai import ChatOpenAI\n",
    "from langchain_core.output_parsers.openai_tools import JsonOutputToolsParser\n",
    "from langchain.tools import tool"
   ]
  },
  {
   "cell_type": "code",
   "execution_count": 15,
   "metadata": {},
   "outputs": [],
   "source": [
    "@tool\n",
    "def add_numbers(a: int, b: int) -> int:     \n",
    "    \"\"\"Add two numbers\"\"\"\n",
    "    return a + b                            \n",
    "\n",
    "@tool\n",
    "def multiply_numbers(a: int, b: int) -> int:\n",
    "    \"\"\"Multiply two numbers\"\"\"\n",
    "    return a * b"
   ]
  },
  {
   "cell_type": "code",
   "execution_count": 16,
   "metadata": {},
   "outputs": [],
   "source": [
    "tools = [add_numbers, multiply_numbers]"
   ]
  },
  {
   "cell_type": "code",
   "execution_count": 17,
   "metadata": {},
   "outputs": [],
   "source": [
    "llm = ChatOpenAI(model=\"gpt-4o-mini\", temperature=0)\n",
    "llm_with_tools = llm.bind_tools(tools)"
   ]
  },
  {
   "cell_type": "code",
   "execution_count": 21,
   "metadata": {},
   "outputs": [],
   "source": [
    "answer = llm_with_tools.invoke('1 + 2 = ?')"
   ]
  },
  {
   "cell_type": "code",
   "execution_count": 22,
   "metadata": {},
   "outputs": [
    {
     "data": {
      "text/plain": [
       "AIMessage(content='', additional_kwargs={'tool_calls': [{'id': 'call_Uu1LbADCf30ez4gL0hBy7yEy', 'function': {'arguments': '{\"a\":1,\"b\":2}', 'name': 'add_numbers'}, 'type': 'function'}], 'refusal': None}, response_metadata={'token_usage': {'completion_tokens': 18, 'prompt_tokens': 73, 'total_tokens': 91, 'completion_tokens_details': {'accepted_prediction_tokens': 0, 'audio_tokens': 0, 'reasoning_tokens': 0, 'rejected_prediction_tokens': 0}, 'prompt_tokens_details': {'audio_tokens': 0, 'cached_tokens': 0}}, 'model_name': 'gpt-4o-mini-2024-07-18', 'system_fingerprint': 'fp_39a40c96a0', 'finish_reason': 'tool_calls', 'logprobs': None}, id='run-37b950a6-4975-4a34-8369-8f551c72ced9-0', tool_calls=[{'name': 'add_numbers', 'args': {'a': 1, 'b': 2}, 'id': 'call_Uu1LbADCf30ez4gL0hBy7yEy', 'type': 'tool_call'}], usage_metadata={'input_tokens': 73, 'output_tokens': 18, 'total_tokens': 91, 'input_token_details': {'audio': 0, 'cache_read': 0}, 'output_token_details': {'audio': 0, 'reasoning': 0}})"
      ]
     },
     "execution_count": 22,
     "metadata": {},
     "output_type": "execute_result"
    }
   ],
   "source": [
    "answer"
   ]
  },
  {
   "cell_type": "code",
   "execution_count": 23,
   "metadata": {},
   "outputs": [
    {
     "data": {
      "text/plain": [
       "[{'name': 'add_numbers',\n",
       "  'args': {'a': 1, 'b': 2},\n",
       "  'id': 'call_Uu1LbADCf30ez4gL0hBy7yEy',\n",
       "  'type': 'tool_call'}]"
      ]
     },
     "execution_count": 23,
     "metadata": {},
     "output_type": "execute_result"
    }
   ],
   "source": [
    "answer.tool_calls"
   ]
  },
  {
   "cell_type": "code",
   "execution_count": 24,
   "metadata": {},
   "outputs": [],
   "source": [
    "# llm_with_tools으로 도구를 실행해서 나온 결과를 도구 목록이 정의 된 JsonOutputToolsParser(tools=tools)에 연결\n",
    "chain = llm_with_tools | JsonOutputToolsParser(tools=tools)"
   ]
  },
  {
   "cell_type": "code",
   "execution_count": 25,
   "metadata": {},
   "outputs": [],
   "source": [
    "tool_call_results = chain.invoke('1 + 2 = ?')"
   ]
  },
  {
   "cell_type": "code",
   "execution_count": 26,
   "metadata": {},
   "outputs": [
    {
     "data": {
      "text/plain": [
       "[{'args': {'a': 1, 'b': 2}, 'type': 'add_numbers'}]"
      ]
     },
     "execution_count": 26,
     "metadata": {},
     "output_type": "execute_result"
    }
   ],
   "source": [
    "tool_call_results"
   ]
  },
  {
   "cell_type": "code",
   "execution_count": 28,
   "metadata": {},
   "outputs": [],
   "source": [
    "single_result = tool_call_results[0]"
   ]
  },
  {
   "cell_type": "code",
   "execution_count": 30,
   "metadata": {},
   "outputs": [
    {
     "name": "stdout",
     "output_type": "stream",
     "text": [
      "{'args': {'a': 1, 'b': 2}, 'type': 'add_numbers'}\n"
     ]
    }
   ],
   "source": [
    "print(single_result)"
   ]
  },
  {
   "cell_type": "code",
   "execution_count": 31,
   "metadata": {},
   "outputs": [
    {
     "name": "stdout",
     "output_type": "stream",
     "text": [
      "add_numbers\n"
     ]
    }
   ],
   "source": [
    "print(single_result[\"type\"])    # 도구 이름"
   ]
  },
  {
   "cell_type": "code",
   "execution_count": 32,
   "metadata": {},
   "outputs": [
    {
     "name": "stdout",
     "output_type": "stream",
     "text": [
      "{'a': 1, 'b': 2}\n"
     ]
    }
   ],
   "source": [
    "print(single_result[\"args\"])    # 도구 인자"
   ]
  },
  {
   "cell_type": "code",
   "execution_count": 37,
   "metadata": {},
   "outputs": [
    {
     "name": "stdout",
     "output_type": "stream",
     "text": [
      "[실행도구] add_numbers [Argument] {'a': 1, 'b': 2}\n",
      "[실행결과] 3\n"
     ]
    }
   ],
   "source": [
    "for tool_call_result in tool_call_results:\n",
    "    tool_name = tool_call_result[\"type\"]  # 도구의 이름(함수명)\n",
    "    tool_args = tool_call_result[\"args\"]  # 도구에 전달되는 인자\n",
    "\n",
    "    # print(tool_name)\n",
    "    # print(tool_args)\n",
    "\n",
    "    # 도구 이름과 일치하는 도구를 찾아 실행합니다.\n",
    "    matching_tool = None\n",
    "\n",
    "    for tool in tools:\n",
    "        if tool.name == tool_name:\n",
    "            matching_tool = tool\n",
    "            break\n",
    "\n",
    "    if matching_tool:       # 일치하는 도구를 찾은경우.   \n",
    "        result = matching_tool.invoke(tool_args)    # 해당 도구를 실행합니다.       \n",
    "        print(f\"[실행도구] {tool_name} [Argument] {tool_args}\\n[실행결과] {result}\")    # 실행 결과를 출력합니다.\n",
    "    else:                   # 일치하는 도구를 찾지 못 찾은경우.        \n",
    "        print(f\"경고: {tool_name}에 해당하는 도구를 찾을 수 없습니다.\")"
   ]
  }
 ],
 "metadata": {
  "kernelspec": {
   "display_name": "venv",
   "language": "python",
   "name": "python3"
  },
  "language_info": {
   "codemirror_mode": {
    "name": "ipython",
    "version": 3
   },
   "file_extension": ".py",
   "mimetype": "text/x-python",
   "name": "python",
   "nbconvert_exporter": "python",
   "pygments_lexer": "ipython3",
   "version": "3.11.9"
  }
 },
 "nbformat": 4,
 "nbformat_minor": 2
}
