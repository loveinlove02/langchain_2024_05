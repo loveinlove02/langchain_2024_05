{
 "cells": [
  {
   "cell_type": "code",
   "execution_count": 1,
   "metadata": {},
   "outputs": [],
   "source": [
    "from dotenv import load_dotenv\n",
    "import os\n",
    "\n",
    "load_dotenv(verbose=True)\n",
    "key = os.getenv('OPENAI_API_KEY')\n",
    "google_key = os.getenv('GOOGLE_API_KEY')"
   ]
  },
  {
   "cell_type": "code",
   "execution_count": 2,
   "metadata": {},
   "outputs": [],
   "source": [
    "from langchain_community.tools.tavily_search import TavilySearchResults"
   ]
  },
  {
   "cell_type": "code",
   "execution_count": 7,
   "metadata": {},
   "outputs": [],
   "source": [
    "# 도구 생성\n",
    "search  = TavilySearchResults(\n",
    "    max_results=6,\n",
    "    include_answer=True,\n",
    "    include_raw_content=True,\n",
    "    # include_images=True,\n",
    "    # search_depth=\"advanced\", # or \"basic\"\n",
    "    # include_domains=[\"github.io\", \"wikidocs.net\"],\n",
    "    exclude_domains = []\n",
    ")"
   ]
  },
  {
   "cell_type": "code",
   "execution_count": 8,
   "metadata": {},
   "outputs": [
    {
     "data": {
      "text/plain": [
       "[{'url': 'https://m.blog.naver.com/red__delay/222926499819',\n",
       "  'content': '판교 카카오아지트 / 카카오프렌즈샵 ... 위치 카카오프렌즈 판교아지트점 판교 카카오 아지트에. 드디어 프렌즈샵이 오픈했다! 춘식이가 로비에서 춘식이가 방향을 알려줌!ㅋㅋ ㄱㅇㅇ 카카오 프렌즈샵 입구는 . 건물 안쪽에 있다.'},\n",
       " {'url': 'https://blog.naver.com/PostView.naver?blogId=twsilver0&logNo=223614680235',\n",
       "  'content': '판교 카카오 아지트 :: 귀여움 가득한 판교역 카카오 프렌즈샵 방문기 건물이 너무 화려해서 완전 제 취향이였네요 카카오 아지트 한번 구경해줘야죠 카카오 아지트 입성 카카오 아지트 구경을 해줘요 곳곳에 카카오 프렌즈 캐릭터가 있어서 카카오 아지트 1층에 카카오 프렌즈 판교아지트점 죠르디 랜덤 미니 키링 인형 카카오 아지트 들리실 일 있으면  카카오 프렌즈 샵은 꼭 가주세요  카카오 아지트 구경해보는거 추천 드립니다 고객님의 PC가 악성코드에 감염될 경우 시스템성능 저하,개인정보 유출등의 피해를 입을 수 있으니 주의하시기 바랍니다. 저작권을 침해하는 컨텐츠가 포함되어 있는 게시물의 경우 글보내기 기능을 제한하고 있습니다. 건강한 인터넷 환경을 만들어 나갈 수 있도록 고객님의 많은 관심과 협조를 부탁드립니다. 저작권을 침해하는 컨텐츠가 포함되어 있는 게시물의 경우 주제 분류 기능을 제한하고 있습니다. 건강한 인터넷 환경을 만들어 나갈 수 있도록 고객님의 많은 관심과 협조를 부탁드립니다.'},\n",
       " {'url': 'https://blog.naver.com/PostView.naver?blogId=amour1115&logNo=223386213560',\n",
       "  'content': '카카오 프렌즈샵 판교 카카오 아지트점 후기: 판교역 카카오 본사 1층 귀여운 거 다 모인 대장 프렌즈샵 다녀왔어요☆ ... 카카오 프렌즈샵 판교 아지트점을 . 한 바퀴 구경해 봤어요! 잘 가고 또 오라냥♡'},\n",
       " {'url': 'https://blog.naver.com/PostView.naver?blogId=0_0hy&logNo=222982732699',\n",
       "  'content': '새해 목표 예쁜 쓰레기 구매하지 않기 잘 실천중\\n춘식이가 쓰레기라는건 아니지만^__ㅠ\\n\\u200b\\n바라만봐도 행복해진다\\n\\u200b\\n애견용품까지 춘식이 버전ㅋㅋㅋㅋㅋㅋㅋㅋ\\n\\u200b\\n♥ ♥ ♥\\n\\u200b\\n\\u200b\\n\\u200b\\n\\u200b\\n2m 대왕 춘식이랑 ~~♥\\n\\u200b\\n진짜 사려다가 참았다 .\\n \\u200b\\n\\u200b\\n춘식이 랜덤 피규어 ♥\\n카카오프렌즈 최애 캐릭터가 춘식이라 보자마자 구매해야 겠다고 생각했다\\n\\u200b\\n\\u200b\\n젤 갖고싶었던 만년달력.. 가격은 사악 그잡채\\n\\u200b\\n춘식이 x 최고심 콜라보 *__*\\n\\u200b\\n\\u200b\\n두번째로 좋아하는 죠르디\\n앉은모습 졸귀야 ..\\n 갖고 싶단 말이지\\n\\u200b\\n\\u200b\\n에어팟 꽂은 라이언ㅋㅋㅋㅋㅋㅋㅋㅋㅋㅋㅋㅋㅋ\\n\\u200b\\n\\u200b\\n춘식러버는 춘식이 천국이라 행복\\n\\u200b\\n\\u200b\\n\\u200b\\n랜드마크 브릭피규어\\n우리나라 랜드마크도 출시 예정이라고 하던데 언제 나오는지..?\\n \\u200b\\n\\u200b\\n\\u200b\\n\\u200b\\n카카오프렌즈 판교아지트점\\n경기 성남시 분당구 판교역로 166 카카오판교아지트 1층 카카오프렌즈\\n평일 10:00 - 21:00, 토일 12:00 - 20:00\\n031-601-7225\\n판교 카카오 본사 건물 1층에 있음 !\\n \\u200b\\n\\u200b\\n\\u200b\\n\\u200b\\n\\u200b\\n\\u200b\\n\\u200b\\n앙꼬 / 루피 / 무직타이거 까지 !!\\n'},\n",
       " {'url': 'https://blog.naver.com/PostView.naver?blogId=mmno&logNo=223315998458',\n",
       "  'content': '검색\\n블로그\\n경기도 가볼 만한 곳 카카오 프렌즈 판교 아지트점 방문기\\n\\u200b\\n경기도 가볼 만한 곳 판교\\n카카오 빌딩 투어\\n카카오 아지트 위치\\n주소 : 경기도 성남시 판교역로 166\\n\\u200b\\n안녕하세요. ^^\\n\\u200b\\n\\u200b\\n경기도 성남시 분당구 판교역로 166 카카오판교아지트 1층 카카오프렌즈\\n저녁 먹어주고 맥주 한잔 마실때 배안부르게 자꾸만 손이가는 먹태 고소한 마요네즈 청양고추 간장 소스랑 ...\\nblog.naver.com\\n안녕하셔요 미니레인 이여요!! 작성자 이외의 방문자에게는 이용이 제한되었습니다.\\n{ALERTMESSAGE}\\n이용제한 파일 : {FILENAME}\\n네이버는 블로그를 통해 저작물이 무단으로 공유되는 것을 막기 위해,\\n저작권을 침해하는 컨텐츠가 포함되어 있는 게시물의 경우 글보내기 기능을 제한하고 있습니다.\\n 2. 블로그 아이디는 한번 변경하면\\n다시 변경이 불가능합니다.\\n변경하시겠습니까?\\n블로그 아이디는 한번 정하면\\n다시 변경이 불가능합니다.\\n \\u200b\\n\\u200b\\n경기도 가볼 만한 곳\\n카카오 프렌즈 판교 아지트\\n드디어 도착한 카카오 프렌즈 판교 아지트.'},\n",
       " {'url': 'https://www.placeview.co.kr/id/MTQzNzc5NTQ0MiAg',\n",
       "  'content': '성남시 카카오판교아지트에 대한 장소정보(전화번호,주소,오시는길안내,지도,로드뷰,홈페이지,교통정보,리뷰등) ... 카카오판교아지트. 부동산 > 빌딩 . 업데이트:2024-07-08.'}]"
      ]
     },
     "execution_count": 8,
     "metadata": {},
     "output_type": "execute_result"
    }
   ],
   "source": [
    "search.invoke(\"판교 카카오 프렌즈샵 아지트점의 전화번호는 무엇인가요?\")"
   ]
  }
 ],
 "metadata": {
  "kernelspec": {
   "display_name": "venv",
   "language": "python",
   "name": "python3"
  },
  "language_info": {
   "codemirror_mode": {
    "name": "ipython",
    "version": 3
   },
   "file_extension": ".py",
   "mimetype": "text/x-python",
   "name": "python",
   "nbconvert_exporter": "python",
   "pygments_lexer": "ipython3",
   "version": "3.11.9"
  }
 },
 "nbformat": 4,
 "nbformat_minor": 2
}
