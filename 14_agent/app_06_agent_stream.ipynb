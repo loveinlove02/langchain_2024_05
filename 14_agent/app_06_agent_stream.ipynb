{
 "cells": [
  {
   "cell_type": "code",
   "execution_count": 1,
   "metadata": {},
   "outputs": [],
   "source": [
    "from dotenv import load_dotenv\n",
    "import os\n",
    "\n",
    "load_dotenv(verbose=True)\n",
    "key = os.getenv('OPENAI_API_KEY')"
   ]
  },
  {
   "cell_type": "code",
   "execution_count": 2,
   "metadata": {},
   "outputs": [],
   "source": [
    "from langchain_openai import ChatOpenAI\n",
    "from langchain_core.prompts import ChatPromptTemplate"
   ]
  },
  {
   "cell_type": "code",
   "execution_count": 3,
   "metadata": {},
   "outputs": [],
   "source": [
    "from langchain_teddynote.tools import GoogleNews\n",
    "from langchain_experimental.utilities import PythonREPL\n",
    "from typing import List, Dict, Annotated\n",
    "from langchain.tools import tool\n",
    "\n",
    "from langchain.agents import create_tool_calling_agent\n",
    "from langchain.agents import AgentExecutor\n",
    "from langchain_teddynote.messages import AgentStreamParser"
   ]
  },
  {
   "cell_type": "code",
   "execution_count": 4,
   "metadata": {},
   "outputs": [],
   "source": [
    "@tool\n",
    "def search_news(query: str) -> List[Dict[str, str]]:\n",
    "    \"\"\"Search Google News by input keyword\"\"\"\n",
    "    news_tool = GoogleNews()\n",
    "    return news_tool.search_by_keyword(query, k=5)"
   ]
  },
  {
   "cell_type": "code",
   "execution_count": 5,
   "metadata": {},
   "outputs": [],
   "source": [
    "@tool\n",
    "def python_repl_tool(\n",
    "    code: Annotated[str, \"The python code to execute to generate your chart.\"],\n",
    "):\n",
    "    \"\"\"Use this to execute python code. If you want to see the output of a value,\n",
    "    you should print it out with `print(...)`. This is visible to the user.\"\"\"\n",
    "    result = \"\"\n",
    "    try:\n",
    "        result = PythonREPL().run(code)\n",
    "    except BaseException as e:\n",
    "        print(f\"Failed to execute. Error: {repr(e)}\")\n",
    "    finally:\n",
    "        return result"
   ]
  },
  {
   "cell_type": "code",
   "execution_count": 6,
   "metadata": {},
   "outputs": [],
   "source": [
    "tools = [search_news, python_repl_tool]"
   ]
  },
  {
   "cell_type": "code",
   "execution_count": 7,
   "metadata": {},
   "outputs": [],
   "source": [
    "# 프롬프트는 에이전트에게 모델이 수행할 작업을 설명하는 텍스트를 제공합니다. (도구의 이름과 역할을 입력)\n",
    "prompt = ChatPromptTemplate.from_messages(\n",
    "    [\n",
    "        (                                           \n",
    "            \"system\",\n",
    "            \"You are a helpful assistant. \"             \n",
    "            \"Make sure to use the `search_news` tool for searching keyword related news.\",\n",
    "        ),\n",
    "        (\"placeholder\", \"{chat_history}\"),          # 이전 대화 내용을 넣을 곳을 잡아둔다.\n",
    "        (\"human\", \"{input}\"),                       # 사용자 입력\n",
    "\n",
    "        # 에이전트가 검색하는 과정들이나 내용 등을 끄적이는 메모장 같은 공간을 플레이스 홀더로 만들어준다\n",
    "        (\"placeholder\", \"{agent_scratchpad}\"),       \n",
    "    ]\n",
    ")"
   ]
  },
  {
   "cell_type": "code",
   "execution_count": 8,
   "metadata": {},
   "outputs": [],
   "source": [
    "llm = ChatOpenAI(model=\"gpt-4o-mini\", temperature=0)"
   ]
  },
  {
   "cell_type": "code",
   "execution_count": 9,
   "metadata": {},
   "outputs": [],
   "source": [
    "agent = create_tool_calling_agent(llm, tools, prompt)"
   ]
  },
  {
   "cell_type": "code",
   "execution_count": 10,
   "metadata": {},
   "outputs": [],
   "source": [
    "agent_executor = AgentExecutor(\n",
    "    agent=agent,\n",
    "    tools=tools,\n",
    "    verbose=True,\n",
    "    max_iterations=10,\n",
    "    max_execution_time=10,\n",
    "    handle_parsing_errors=True,\n",
    ")"
   ]
  },
  {
   "cell_type": "code",
   "execution_count": 11,
   "metadata": {},
   "outputs": [
    {
     "name": "stdout",
     "output_type": "stream",
     "text": [
      "\n",
      "\n",
      "\u001b[1m> Entering new None chain...\u001b[0m\n",
      "{'actions': [ToolAgentAction(tool='search_news', tool_input={'query': 'AI 투자'}, log=\"\\nInvoking: `search_news` with `{'query': 'AI 투자'}`\\n\\n\\n\", message_log=[AIMessageChunk(content='', additional_kwargs={'tool_calls': [{'index': 0, 'id': 'call_GdQ5PKCoX0PYiLTpPIVSrjq5', 'function': {'arguments': '{\"query\":\"AI 투자\"}', 'name': 'search_news'}, 'type': 'function'}]}, response_metadata={'finish_reason': 'tool_calls', 'model_name': 'gpt-4o-mini-2024-07-18', 'system_fingerprint': 'fp_0aa8d3e20b'}, id='run-ceeaff63-ba18-481b-8848-bcb59ea60066', tool_calls=[{'name': 'search_news', 'args': {'query': 'AI 투자'}, 'id': 'call_GdQ5PKCoX0PYiLTpPIVSrjq5', 'type': 'tool_call'}], tool_call_chunks=[{'name': 'search_news', 'args': '{\"query\":\"AI 투자\"}', 'id': 'call_GdQ5PKCoX0PYiLTpPIVSrjq5', 'index': 0, 'type': 'tool_call_chunk'}])], tool_call_id='call_GdQ5PKCoX0PYiLTpPIVSrjq5')], 'messages': [AIMessageChunk(content='', additional_kwargs={'tool_calls': [{'index': 0, 'id': 'call_GdQ5PKCoX0PYiLTpPIVSrjq5', 'function': {'arguments': '{\"query\":\"AI 투자\"}', 'name': 'search_news'}, 'type': 'function'}]}, response_metadata={'finish_reason': 'tool_calls', 'model_name': 'gpt-4o-mini-2024-07-18', 'system_fingerprint': 'fp_0aa8d3e20b'}, id='run-ceeaff63-ba18-481b-8848-bcb59ea60066', tool_calls=[{'name': 'search_news', 'args': {'query': 'AI 투자'}, 'id': 'call_GdQ5PKCoX0PYiLTpPIVSrjq5', 'type': 'tool_call'}], tool_call_chunks=[{'name': 'search_news', 'args': '{\"query\":\"AI 투자\"}', 'id': 'call_GdQ5PKCoX0PYiLTpPIVSrjq5', 'index': 0, 'type': 'tool_call_chunk'}])]}\n",
      "============================================================\n",
      "\u001b[32;1m\u001b[1;3m\n",
      "Invoking: `search_news` with `{'query': 'AI 투자'}`\n",
      "\n",
      "\n",
      "\u001b[0m\u001b[36;1m\u001b[1;3m[{'url': 'https://news.google.com/rss/articles/CBMiZkFVX3lxTE9mVlA5NHBMelFnN2xXbHJFSmY4MjZ4Q012SjZubEVPeE1Oek9VcTByVWd6c1NhUURFX3V6aVJEa01wUjJnSnFTcEZqX2daXzZRNWtUUTlOQ2UycWdud0ljRnk5SXAtQdIBbkFVX3lxTE8tOE9lZTVScXotZVlpcGlEY0p4SXhSdENMMmhtWi03MFF0dkVzNUVaNkF2Ukw4Z2pVUFRYczBDNTJVaENHRDByRnpfUmgzNWlTVnNoOGt6dFg5N2w5TWNyWjZJTXZPRVZ5VnJzTFVB?oc=5', 'content': 'AI에 살거나 죽거나…돈 퍼부은 글로벌 빅테크, 이젠 거품 공포 - 머니투데이'}, {'url': 'https://news.google.com/rss/articles/CBMiZkFVX3lxTE9RcnRDV1l2ekhBdzZWTTFoWUo0YkdqU084WHN1V21JUUJzYm9mOFJrMzMtZUFXZ3lTWmtOd3pQSkN4RlJzaEdIMU5kOTNfZV81TmZXR1FMZW1HT0gzcEo0Y1JaVUxpQdIBbkFVX3lxTE1kWWp4dmZvUjdBek52alNERVZQOFZMQ2FDMmVWWW5FNExiYzhUcXBSaDBKaTZCb0k2TXhrcHQ2THVHYmhDZFF4d3oxeENOZjI0cTZpS2dtZmtweF8weWVvMHpnUDhYaVRDQ2xJWTln?oc=5', 'content': '기업 10곳 중 8곳 \"재무분야 AI 투자성과, 기대 이상\" - 머니투데이'}, {'url': 'https://news.google.com/rss/articles/CBMiVkFVX3lxTE5qUnZqMGRCZnBVSGxqQVV0UDE1UXZmcFZvUWMyS2FfNFN0TWUtZ3c3T0hFS0RYSkY0TWtsWlh0S3dmeVNoOHI2b0MyRGtVaW5adzVWMHFR?oc=5', 'content': '5G-A 도입 속도 낸다...AI 투자도 본격화 - ZD넷 코리아'}, {'url': 'https://news.google.com/rss/articles/CBMiVkFVX3lxTE1xVWQ1WGNLY2F4dlYtd0RFV0NFUFBMLXVrY0NfaDVfbG50Q19yNWNBRWtacEVLZk9tWXNVSnNha1pfcjFoVG4yNGZyRjhuam8zbmtQemRB0gFXQVVfeXFMTTBDdDJQRTFNeGdNWkplZkIyZ0Z2eFN1SWdnQWZXaUZydUY1QVdNSjgycWZoYlFvc3dBODFtQ3JTMkxVaFFoNk91NWpvck50WEFZVUx4cHJj?oc=5', 'content': '[투자의 창] AI 혁명 시대 재생 에너지의 역할 - 서울경제신문'}, {'url': 'https://news.google.com/rss/articles/CBMieEFVX3lxTFAzV2IzaHA3ZVU0dzIxQllVRWk3VjdBdkFCdklGaGF3djhhTkhXX2dlUWZEYkIxZDB5bjc2dXRyV0FvenFZOEU2UnpUcmhpTFBEcEF6VS02dDVBOThfUzBzemlGcXcyTUpTX1lUOFU1bmRRcC1ab0hQUA?oc=5', 'content': \"[GAM] '광학 기술 선두주자' 코히런트, AI 시대 핵심 기업으로 도약② - 네이트 뉴스\"}]\u001b[0m{'steps': [AgentStep(action=ToolAgentAction(tool='search_news', tool_input={'query': 'AI 투자'}, log=\"\\nInvoking: `search_news` with `{'query': 'AI 투자'}`\\n\\n\\n\", message_log=[AIMessageChunk(content='', additional_kwargs={'tool_calls': [{'index': 0, 'id': 'call_GdQ5PKCoX0PYiLTpPIVSrjq5', 'function': {'arguments': '{\"query\":\"AI 투자\"}', 'name': 'search_news'}, 'type': 'function'}]}, response_metadata={'finish_reason': 'tool_calls', 'model_name': 'gpt-4o-mini-2024-07-18', 'system_fingerprint': 'fp_0aa8d3e20b'}, id='run-ceeaff63-ba18-481b-8848-bcb59ea60066', tool_calls=[{'name': 'search_news', 'args': {'query': 'AI 투자'}, 'id': 'call_GdQ5PKCoX0PYiLTpPIVSrjq5', 'type': 'tool_call'}], tool_call_chunks=[{'name': 'search_news', 'args': '{\"query\":\"AI 투자\"}', 'id': 'call_GdQ5PKCoX0PYiLTpPIVSrjq5', 'index': 0, 'type': 'tool_call_chunk'}])], tool_call_id='call_GdQ5PKCoX0PYiLTpPIVSrjq5'), observation=[{'url': 'https://news.google.com/rss/articles/CBMiZkFVX3lxTE9mVlA5NHBMelFnN2xXbHJFSmY4MjZ4Q012SjZubEVPeE1Oek9VcTByVWd6c1NhUURFX3V6aVJEa01wUjJnSnFTcEZqX2daXzZRNWtUUTlOQ2UycWdud0ljRnk5SXAtQdIBbkFVX3lxTE8tOE9lZTVScXotZVlpcGlEY0p4SXhSdENMMmhtWi03MFF0dkVzNUVaNkF2Ukw4Z2pVUFRYczBDNTJVaENHRDByRnpfUmgzNWlTVnNoOGt6dFg5N2w5TWNyWjZJTXZPRVZ5VnJzTFVB?oc=5', 'content': 'AI에 살거나 죽거나…돈 퍼부은 글로벌 빅테크, 이젠 거품 공포 - 머니투데이'}, {'url': 'https://news.google.com/rss/articles/CBMiZkFVX3lxTE9RcnRDV1l2ekhBdzZWTTFoWUo0YkdqU084WHN1V21JUUJzYm9mOFJrMzMtZUFXZ3lTWmtOd3pQSkN4RlJzaEdIMU5kOTNfZV81TmZXR1FMZW1HT0gzcEo0Y1JaVUxpQdIBbkFVX3lxTE1kWWp4dmZvUjdBek52alNERVZQOFZMQ2FDMmVWWW5FNExiYzhUcXBSaDBKaTZCb0k2TXhrcHQ2THVHYmhDZFF4d3oxeENOZjI0cTZpS2dtZmtweF8weWVvMHpnUDhYaVRDQ2xJWTln?oc=5', 'content': '기업 10곳 중 8곳 \"재무분야 AI 투자성과, 기대 이상\" - 머니투데이'}, {'url': 'https://news.google.com/rss/articles/CBMiVkFVX3lxTE5qUnZqMGRCZnBVSGxqQVV0UDE1UXZmcFZvUWMyS2FfNFN0TWUtZ3c3T0hFS0RYSkY0TWtsWlh0S3dmeVNoOHI2b0MyRGtVaW5adzVWMHFR?oc=5', 'content': '5G-A 도입 속도 낸다...AI 투자도 본격화 - ZD넷 코리아'}, {'url': 'https://news.google.com/rss/articles/CBMiVkFVX3lxTE1xVWQ1WGNLY2F4dlYtd0RFV0NFUFBMLXVrY0NfaDVfbG50Q19yNWNBRWtacEVLZk9tWXNVSnNha1pfcjFoVG4yNGZyRjhuam8zbmtQemRB0gFXQVVfeXFMTTBDdDJQRTFNeGdNWkplZkIyZ0Z2eFN1SWdnQWZXaUZydUY1QVdNSjgycWZoYlFvc3dBODFtQ3JTMkxVaFFoNk91NWpvck50WEFZVUx4cHJj?oc=5', 'content': '[투자의 창] AI 혁명 시대 재생 에너지의 역할 - 서울경제신문'}, {'url': 'https://news.google.com/rss/articles/CBMieEFVX3lxTFAzV2IzaHA3ZVU0dzIxQllVRWk3VjdBdkFCdklGaGF3djhhTkhXX2dlUWZEYkIxZDB5bjc2dXRyV0FvenFZOEU2UnpUcmhpTFBEcEF6VS02dDVBOThfUzBzemlGcXcyTUpTX1lUOFU1bmRRcC1ab0hQUA?oc=5', 'content': \"[GAM] '광학 기술 선두주자' 코히런트, AI 시대 핵심 기업으로 도약② - 네이트 뉴스\"}])], 'messages': [FunctionMessage(content='[{\"url\": \"https://news.google.com/rss/articles/CBMiZkFVX3lxTE9mVlA5NHBMelFnN2xXbHJFSmY4MjZ4Q012SjZubEVPeE1Oek9VcTByVWd6c1NhUURFX3V6aVJEa01wUjJnSnFTcEZqX2daXzZRNWtUUTlOQ2UycWdud0ljRnk5SXAtQdIBbkFVX3lxTE8tOE9lZTVScXotZVlpcGlEY0p4SXhSdENMMmhtWi03MFF0dkVzNUVaNkF2Ukw4Z2pVUFRYczBDNTJVaENHRDByRnpfUmgzNWlTVnNoOGt6dFg5N2w5TWNyWjZJTXZPRVZ5VnJzTFVB?oc=5\", \"content\": \"AI에 살거나 죽거나…돈 퍼부은 글로벌 빅테크, 이젠 거품 공포 - 머니투데이\"}, {\"url\": \"https://news.google.com/rss/articles/CBMiZkFVX3lxTE9RcnRDV1l2ekhBdzZWTTFoWUo0YkdqU084WHN1V21JUUJzYm9mOFJrMzMtZUFXZ3lTWmtOd3pQSkN4RlJzaEdIMU5kOTNfZV81TmZXR1FMZW1HT0gzcEo0Y1JaVUxpQdIBbkFVX3lxTE1kWWp4dmZvUjdBek52alNERVZQOFZMQ2FDMmVWWW5FNExiYzhUcXBSaDBKaTZCb0k2TXhrcHQ2THVHYmhDZFF4d3oxeENOZjI0cTZpS2dtZmtweF8weWVvMHpnUDhYaVRDQ2xJWTln?oc=5\", \"content\": \"기업 10곳 중 8곳 \\\\\"재무분야 AI 투자성과, 기대 이상\\\\\" - 머니투데이\"}, {\"url\": \"https://news.google.com/rss/articles/CBMiVkFVX3lxTE5qUnZqMGRCZnBVSGxqQVV0UDE1UXZmcFZvUWMyS2FfNFN0TWUtZ3c3T0hFS0RYSkY0TWtsWlh0S3dmeVNoOHI2b0MyRGtVaW5adzVWMHFR?oc=5\", \"content\": \"5G-A 도입 속도 낸다...AI 투자도 본격화 - ZD넷 코리아\"}, {\"url\": \"https://news.google.com/rss/articles/CBMiVkFVX3lxTE1xVWQ1WGNLY2F4dlYtd0RFV0NFUFBMLXVrY0NfaDVfbG50Q19yNWNBRWtacEVLZk9tWXNVSnNha1pfcjFoVG4yNGZyRjhuam8zbmtQemRB0gFXQVVfeXFMTTBDdDJQRTFNeGdNWkplZkIyZ0Z2eFN1SWdnQWZXaUZydUY1QVdNSjgycWZoYlFvc3dBODFtQ3JTMkxVaFFoNk91NWpvck50WEFZVUx4cHJj?oc=5\", \"content\": \"[투자의 창] AI 혁명 시대 재생 에너지의 역할 - 서울경제신문\"}, {\"url\": \"https://news.google.com/rss/articles/CBMieEFVX3lxTFAzV2IzaHA3ZVU0dzIxQllVRWk3VjdBdkFCdklGaGF3djhhTkhXX2dlUWZEYkIxZDB5bjc2dXRyV0FvenFZOEU2UnpUcmhpTFBEcEF6VS02dDVBOThfUzBzemlGcXcyTUpTX1lUOFU1bmRRcC1ab0hQUA?oc=5\", \"content\": \"[GAM] \\'광학 기술 선두주자\\' 코히런트, AI 시대 핵심 기업으로 도약② - 네이트 뉴스\"}]', additional_kwargs={}, response_metadata={}, name='search_news')]}\n",
      "============================================================\n",
      "\u001b[32;1m\u001b[1;3m다음은 AI 투자와 관련된 최근 뉴스 기사들입니다:\n",
      "\n",
      "1. [AI에 살거나 죽거나…돈 퍼부은 글로벌 빅테크, 이젠 거품 공포 - 머니투데이](https://news.google.com/rss/articles/CBMiZkFVX3lxTE9mVlA5NHBMelFnN2xXbHJFSmY4MjZ4Q012SjZubEVPeE1Oek9VcTByVWd6c1NhUURFX3V6aVJEa01wUjJnSnFTcEZqX2daXzZRNWtUUTlOQ2UycWdud0ljRnk5SXAtQdIBbkFVX3lxTE8tOE9lZTVScXotZVlpcGlEY0p4SXhSdENMMmhtWi03MFF0dkVzNUVaNkF2Ukw4Z2pVUFRYczBDNTJVaENHRDByRnpfUmgzNWlTVnNoOGt6dFg5N2w5TWNyWjZJTXZPRVZ5VnJzTFVB?oc=5)\n",
      "\n",
      "2. [기업 10곳 중 8곳 \"재무분야 AI 투자성과, 기대 이상\" - 머니투데이](https://news.google.com/rss/articles/CBMiZkFVX3lxTE9RcnRDV1l2ekhBdzZWTTFoWUo0YkdqU084WHN1V21JUUJzYm9mOFJrMzMtZUFXZ3lTWmtOd3pQSkN4RlJzaEdIMU5kOTNfZV81TmZXR1FMZW1HT0gzcEo0Y1JaVUxpQdIBbkFVX3lxTE1kWWp4dmZvUjdBek52alNERVZQOFZMQ2FDMmVWWW5FNExiYzhUcXBSaDBKaTZCb0k2TXhrcHQ2THVHYmhDZFF4d3oxeENOZjI0cTZpS2dtZmtweF8weWVvMHpnUDhYaVRDQ2xJWTln?oc=5)\n",
      "\n",
      "3. [5G-A 도입 속도 낸다...AI 투자도 본격화 - ZD넷 코리아](https://news.google.com/rss/articles/CBMiVkFVX3lxTE5qUnZqMGRCZnBVSGxqQVV0UDE1UXZmcFZvUWMyS2FfNFN0TWUtZ3c3T0hFS0RYSkY0TWtsWlh0S3dmeVNoOHI2b0MyRGtVaW5adzVWMHFR?oc=5)\n",
      "\n",
      "4. [AI 혁명 시대 재생 에너지의 역할 - 서울경제신문](https://news.google.com/rss/articles/CBMiVkFVX3lxTE1xVWQ1WGNLY2F4dlYtd0RFV0NFUFBMLXVrY0NfaDVfbG50Q19yNWNBRWtacEVLZk9tWXNVSnNha1pfcjFoVG4yNGZyRjhuam8zbmtQemRB0gFXQVVfeXFMTTBDdDJQRTFNeGdNWkplZkIyZ0Z2eFN1SWdnQWZXaUZydUY1QVdNSjgycWZoYlFvc3dBODFtQ3JTMkxVaFFoNk91NWpvck50WEFZVUx4cHJj?oc=5)\n",
      "\n",
      "5. [‘광학 기술 선두주자’ 코히런트, AI 시대 핵심 기업으로 도약② - 네이트 뉴스](https://news.google.com/rss/articles/CBMieEFVX3lxTFAzV2IzaHA3ZVU0dzIxQllVRWk3VjdBdkFCdklGaGF3djhhTkhXX2dlUWZEYkIxZDB5bjc2dXRyV0FvenFZOEU2UnpUcmhpTFBEcEF6VS02dDVBOThfUzBzemlGcXcyTUpTX1lUOFU1bmRRcC1ab0hQUA?oc=5)\n",
      "\n",
      "이 기사들은 AI 투자와 관련된 다양한 주제를 다루고 있습니다. 관심 있는 내용을 클릭하여 자세히 읽어보세요!\u001b[0m\n",
      "\n",
      "\u001b[1m> Finished chain.\u001b[0m\n",
      "{'output': '다음은 AI 투자와 관련된 최근 뉴스 기사들입니다:\\n\\n1. [AI에 살거나 죽거나…돈 퍼부은 글로벌 빅테크, 이젠 거품 공포 - 머니투데이](https://news.google.com/rss/articles/CBMiZkFVX3lxTE9mVlA5NHBMelFnN2xXbHJFSmY4MjZ4Q012SjZubEVPeE1Oek9VcTByVWd6c1NhUURFX3V6aVJEa01wUjJnSnFTcEZqX2daXzZRNWtUUTlOQ2UycWdud0ljRnk5SXAtQdIBbkFVX3lxTE8tOE9lZTVScXotZVlpcGlEY0p4SXhSdENMMmhtWi03MFF0dkVzNUVaNkF2Ukw4Z2pVUFRYczBDNTJVaENHRDByRnpfUmgzNWlTVnNoOGt6dFg5N2w5TWNyWjZJTXZPRVZ5VnJzTFVB?oc=5)\\n\\n2. [기업 10곳 중 8곳 \"재무분야 AI 투자성과, 기대 이상\" - 머니투데이](https://news.google.com/rss/articles/CBMiZkFVX3lxTE9RcnRDV1l2ekhBdzZWTTFoWUo0YkdqU084WHN1V21JUUJzYm9mOFJrMzMtZUFXZ3lTWmtOd3pQSkN4RlJzaEdIMU5kOTNfZV81TmZXR1FMZW1HT0gzcEo0Y1JaVUxpQdIBbkFVX3lxTE1kWWp4dmZvUjdBek52alNERVZQOFZMQ2FDMmVWWW5FNExiYzhUcXBSaDBKaTZCb0k2TXhrcHQ2THVHYmhDZFF4d3oxeENOZjI0cTZpS2dtZmtweF8weWVvMHpnUDhYaVRDQ2xJWTln?oc=5)\\n\\n3. [5G-A 도입 속도 낸다...AI 투자도 본격화 - ZD넷 코리아](https://news.google.com/rss/articles/CBMiVkFVX3lxTE5qUnZqMGRCZnBVSGxqQVV0UDE1UXZmcFZvUWMyS2FfNFN0TWUtZ3c3T0hFS0RYSkY0TWtsWlh0S3dmeVNoOHI2b0MyRGtVaW5adzVWMHFR?oc=5)\\n\\n4. [AI 혁명 시대 재생 에너지의 역할 - 서울경제신문](https://news.google.com/rss/articles/CBMiVkFVX3lxTE1xVWQ1WGNLY2F4dlYtd0RFV0NFUFBMLXVrY0NfaDVfbG50Q19yNWNBRWtacEVLZk9tWXNVSnNha1pfcjFoVG4yNGZyRjhuam8zbmtQemRB0gFXQVVfeXFMTTBDdDJQRTFNeGdNWkplZkIyZ0Z2eFN1SWdnQWZXaUZydUY1QVdNSjgycWZoYlFvc3dBODFtQ3JTMkxVaFFoNk91NWpvck50WEFZVUx4cHJj?oc=5)\\n\\n5. [‘광학 기술 선두주자’ 코히런트, AI 시대 핵심 기업으로 도약② - 네이트 뉴스](https://news.google.com/rss/articles/CBMieEFVX3lxTFAzV2IzaHA3ZVU0dzIxQllVRWk3VjdBdkFCdklGaGF3djhhTkhXX2dlUWZEYkIxZDB5bjc2dXRyV0FvenFZOEU2UnpUcmhpTFBEcEF6VS02dDVBOThfUzBzemlGcXcyTUpTX1lUOFU1bmRRcC1ab0hQUA?oc=5)\\n\\n이 기사들은 AI 투자와 관련된 다양한 주제를 다루고 있습니다. 관심 있는 내용을 클릭하여 자세히 읽어보세요!', 'messages': [AIMessage(content='다음은 AI 투자와 관련된 최근 뉴스 기사들입니다:\\n\\n1. [AI에 살거나 죽거나…돈 퍼부은 글로벌 빅테크, 이젠 거품 공포 - 머니투데이](https://news.google.com/rss/articles/CBMiZkFVX3lxTE9mVlA5NHBMelFnN2xXbHJFSmY4MjZ4Q012SjZubEVPeE1Oek9VcTByVWd6c1NhUURFX3V6aVJEa01wUjJnSnFTcEZqX2daXzZRNWtUUTlOQ2UycWdud0ljRnk5SXAtQdIBbkFVX3lxTE8tOE9lZTVScXotZVlpcGlEY0p4SXhSdENMMmhtWi03MFF0dkVzNUVaNkF2Ukw4Z2pVUFRYczBDNTJVaENHRDByRnpfUmgzNWlTVnNoOGt6dFg5N2w5TWNyWjZJTXZPRVZ5VnJzTFVB?oc=5)\\n\\n2. [기업 10곳 중 8곳 \"재무분야 AI 투자성과, 기대 이상\" - 머니투데이](https://news.google.com/rss/articles/CBMiZkFVX3lxTE9RcnRDV1l2ekhBdzZWTTFoWUo0YkdqU084WHN1V21JUUJzYm9mOFJrMzMtZUFXZ3lTWmtOd3pQSkN4RlJzaEdIMU5kOTNfZV81TmZXR1FMZW1HT0gzcEo0Y1JaVUxpQdIBbkFVX3lxTE1kWWp4dmZvUjdBek52alNERVZQOFZMQ2FDMmVWWW5FNExiYzhUcXBSaDBKaTZCb0k2TXhrcHQ2THVHYmhDZFF4d3oxeENOZjI0cTZpS2dtZmtweF8weWVvMHpnUDhYaVRDQ2xJWTln?oc=5)\\n\\n3. [5G-A 도입 속도 낸다...AI 투자도 본격화 - ZD넷 코리아](https://news.google.com/rss/articles/CBMiVkFVX3lxTE5qUnZqMGRCZnBVSGxqQVV0UDE1UXZmcFZvUWMyS2FfNFN0TWUtZ3c3T0hFS0RYSkY0TWtsWlh0S3dmeVNoOHI2b0MyRGtVaW5adzVWMHFR?oc=5)\\n\\n4. [AI 혁명 시대 재생 에너지의 역할 - 서울경제신문](https://news.google.com/rss/articles/CBMiVkFVX3lxTE1xVWQ1WGNLY2F4dlYtd0RFV0NFUFBMLXVrY0NfaDVfbG50Q19yNWNBRWtacEVLZk9tWXNVSnNha1pfcjFoVG4yNGZyRjhuam8zbmtQemRB0gFXQVVfeXFMTTBDdDJQRTFNeGdNWkplZkIyZ0Z2eFN1SWdnQWZXaUZydUY1QVdNSjgycWZoYlFvc3dBODFtQ3JTMkxVaFFoNk91NWpvck50WEFZVUx4cHJj?oc=5)\\n\\n5. [‘광학 기술 선두주자’ 코히런트, AI 시대 핵심 기업으로 도약② - 네이트 뉴스](https://news.google.com/rss/articles/CBMieEFVX3lxTFAzV2IzaHA3ZVU0dzIxQllVRWk3VjdBdkFCdklGaGF3djhhTkhXX2dlUWZEYkIxZDB5bjc2dXRyV0FvenFZOEU2UnpUcmhpTFBEcEF6VS02dDVBOThfUzBzemlGcXcyTUpTX1lUOFU1bmRRcC1ab0hQUA?oc=5)\\n\\n이 기사들은 AI 투자와 관련된 다양한 주제를 다루고 있습니다. 관심 있는 내용을 클릭하여 자세히 읽어보세요!', additional_kwargs={}, response_metadata={})]}\n",
      "============================================================\n"
     ]
    }
   ],
   "source": [
    "# 스트리밍 모드로 실행.\n",
    "result = agent_executor.stream({\"input\": \"AI 투자와 관련된 뉴스를 검색해 주세요.\"})\n",
    "\n",
    "# 중간 단계 출력\n",
    "for step in result:    \n",
    "    print(step)\n",
    "    print(\"===\" * 20)"
   ]
  },
  {
   "cell_type": "code",
   "execution_count": 12,
   "metadata": {},
   "outputs": [],
   "source": [
    "agent_stream_parser = AgentStreamParser()"
   ]
  },
  {
   "cell_type": "code",
   "execution_count": 13,
   "metadata": {},
   "outputs": [
    {
     "name": "stdout",
     "output_type": "stream",
     "text": [
      "\n",
      "\n",
      "\u001b[1m> Entering new None chain...\u001b[0m\n"
     ]
    },
    {
     "name": "stderr",
     "output_type": "stream",
     "text": [
      "Python REPL can execute arbitrary code. Use with caution.\n"
     ]
    },
    {
     "name": "stdout",
     "output_type": "stream",
     "text": [
      "[도구 호출]\n",
      "Tool: python_repl_tool\n",
      "code: import matplotlib.pyplot as plt\n",
      "\n",
      "# 데이터\n",
      "sizes = [15, 30, 45, 10]\n",
      "labels = ['A', 'B', 'C', 'D']\n",
      "colors = ['gold', 'lightcoral', 'lightskyblue', 'lightgreen']\n",
      "\n",
      "# 파이 차트 그리기\n",
      "plt.figure(figsize=(8, 6))\n",
      "plt.pie(sizes, labels=labels, colors=colors, autopct='%1.1f%%', startangle=140)\n",
      "plt.axis('equal')  # Equal aspect ratio ensures that pie is drawn as a circle.\n",
      "plt.title('Sample Pie Chart')\n",
      "plt.show()\n",
      "Log: \n",
      "Invoking: `python_repl_tool` with `{'code': \"import matplotlib.pyplot as plt\\n\\n# 데이터\\nsizes = [15, 30, 45, 10]\\nlabels = ['A', 'B', 'C', 'D']\\ncolors = ['gold', 'lightcoral', 'lightskyblue', 'lightgreen']\\n\\n# 파이 차트 그리기\\nplt.figure(figsize=(8, 6))\\nplt.pie(sizes, labels=labels, colors=colors, autopct='%1.1f%%', startangle=140)\\nplt.axis('equal')  # Equal aspect ratio ensures that pie is drawn as a circle.\\nplt.title('Sample Pie Chart')\\nplt.show()\"}`\n",
      "\n",
      "\n",
      "\n",
      "\u001b[32;1m\u001b[1;3m\n",
      "Invoking: `python_repl_tool` with `{'code': \"import matplotlib.pyplot as plt\\n\\n# 데이터\\nsizes = [15, 30, 45, 10]\\nlabels = ['A', 'B', 'C', 'D']\\ncolors = ['gold', 'lightcoral', 'lightskyblue', 'lightgreen']\\n\\n# 파이 차트 그리기\\nplt.figure(figsize=(8, 6))\\nplt.pie(sizes, labels=labels, colors=colors, autopct='%1.1f%%', startangle=140)\\nplt.axis('equal')  # Equal aspect ratio ensures that pie is drawn as a circle.\\nplt.title('Sample Pie Chart')\\nplt.show()\"}`\n",
      "\n",
      "\n",
      "\u001b[0m"
     ]
    },
    {
     "data": {
      "image/png": "[encoded data removed]",
      "text/plain": [
       "<Figure size 800x600 with 1 Axes>"
      ]
     },
     "metadata": {},
     "output_type": "display_data"
    },
    {
     "name": "stdout",
     "output_type": "stream",
     "text": [
      "\u001b[33;1m\u001b[1;3m\u001b[0m[관찰 내용]\n",
      "Observation: \n",
      "\u001b[32;1m\u001b[1;3m파이 차트가 성공적으로 그려졌습니다. 차트에는 A, B, C, D의 네 가지 카테고리가 포함되어 있으며, 각 카테고리의 비율이 표시되어 있습니다. 차트의 제목은 \"Sample Pie Chart\"입니다. \n",
      "\n",
      "추가적으로 다른 차트를 그리거나 다른 데이터로 작업하고 싶으신가요?\u001b[0m\n",
      "\n",
      "\u001b[1m> Finished chain.\u001b[0m\n",
      "[최종 답변]\n",
      "파이 차트가 성공적으로 그려졌습니다. 차트에는 A, B, C, D의 네 가지 카테고리가 포함되어 있으며, 각 카테고리의 비율이 표시되어 있습니다. 차트의 제목은 \"Sample Pie Chart\"입니다. \n",
      "\n",
      "추가적으로 다른 차트를 그리거나 다른 데이터로 작업하고 싶으신가요?\n"
     ]
    }
   ],
   "source": [
    " # 질의에 대한 답변을 스트리밍으로 출력 요청\n",
    "result = agent_executor.stream(\n",
    "    {\"input\": \"matplotlib 을 사용하여 pie 차트를 그리는 코드를 작성하고 실행하세요.\"}\n",
    ")\n",
    "\n",
    "for step in result:\n",
    "    # 중간 단계를 agent_stream_parser 를 사용하여 단계별로 출력\n",
    "    # print(step)\n",
    "    agent_stream_parser.process_agent_steps(step)"
   ]
  },
  {
   "cell_type": "code",
   "execution_count": 14,
   "metadata": {},
   "outputs": [],
   "source": [
    "from langchain_teddynote.messages import AgentCallbacks, AgentStreamParser\n",
    "\n",
    "# 도구 호출 시 실행되는 콜백 함수입니다.\n",
    "def tool_callback(tool) -> None:\n",
    "    print(\"<<<<<<< 도구 호출 >>>>>>\")\n",
    "    print(f\"Tool: {tool.get('tool')}\")  # 사용된 도구의 이름을 출력합니다.\n",
    "    print(\"<<<<<<< 도구 호출 >>>>>>\")\n",
    "\n",
    "\n",
    "# 관찰 결과를 출력하는 콜백 함수입니다.\n",
    "def observation_callback(observation) -> None:\n",
    "    print(\"<<<<<<< 관찰 내용 >>>>>>\")\n",
    "    print(\n",
    "        f\"Observation: {observation.get('observation')[0]}\"\n",
    "    )  # 관찰 내용을 출력합니다.\n",
    "    print(\"<<<<<<< 관찰 내용 >>>>>>\")\n",
    "\n",
    "\n",
    "# 최종 결과를 출력하는 콜백 함수입니다.\n",
    "def result_callback(result: str) -> None:\n",
    "    print(\"<<<<<<< 최종 답변 >>>>>>\")\n",
    "    print(result)  # 최종 답변을 출력합니다.\n",
    "    print(\"<<<<<<< 최종 답변 >>>>>>\")\n",
    "\n",
    "\n",
    "# AgentCallbacks 객체를 생성하여 각 단계별 콜백 함수를 설정합니다.\n",
    "agent_callbacks = AgentCallbacks(\n",
    "    tool_callback=tool_callback,\n",
    "    observation_callback=observation_callback,\n",
    "    result_callback=result_callback,\n",
    ")\n",
    "\n",
    "# AgentStreamParser 객체를 생성하여 에이전트의 실행 과정을 파싱합니다.\n",
    "agent_stream_parser = AgentStreamParser(agent_callbacks)"
   ]
  },
  {
   "cell_type": "code",
   "execution_count": 15,
   "metadata": {},
   "outputs": [
    {
     "name": "stdout",
     "output_type": "stream",
     "text": [
      "\n",
      "\n",
      "\u001b[1m> Entering new None chain...\u001b[0m\n",
      "<<<<<<< 도구 호출 >>>>>>\n",
      "Tool: search_news\n",
      "<<<<<<< 도구 호출 >>>>>>\n",
      "\u001b[32;1m\u001b[1;3m\n",
      "Invoking: `search_news` with `{'query': 'AI 투자'}`\n",
      "\n",
      "\n",
      "\u001b[0m\u001b[36;1m\u001b[1;3m[{'url': 'https://news.google.com/rss/articles/CBMiZkFVX3lxTE9mVlA5NHBMelFnN2xXbHJFSmY4MjZ4Q012SjZubEVPeE1Oek9VcTByVWd6c1NhUURFX3V6aVJEa01wUjJnSnFTcEZqX2daXzZRNWtUUTlOQ2UycWdud0ljRnk5SXAtQdIBbkFVX3lxTE8tOE9lZTVScXotZVlpcGlEY0p4SXhSdENMMmhtWi03MFF0dkVzNUVaNkF2Ukw4Z2pVUFRYczBDNTJVaENHRDByRnpfUmgzNWlTVnNoOGt6dFg5N2w5TWNyWjZJTXZPRVZ5VnJzTFVB?oc=5', 'content': 'AI에 살거나 죽거나…돈 퍼부은 글로벌 빅테크, 이젠 거품 공포 - 머니투데이'}, {'url': 'https://news.google.com/rss/articles/CBMiX0FVX3lxTE5HOVF0WEZFTmpRcjU2Sk9mUEk0cktlX052NTF2ZzFOdDdFUHFNVVMwcWxkQkRfMTRxS0E2VGxZNFMxcEIwZDJtNi1WTmV4MW5KOHUzZXZackVxM3RGczgw?oc=5', 'content': '기업 84% \"재무 분야 AI 투자로 기대 이상 수익률\" - 아시아경제'}, {'url': 'https://news.google.com/rss/articles/CBMiU0FVX3lxTE1Ia2MxcngyeUdOM0tWUjJ3STdENnVxa3ZKWVFSdzE5blBlRWRNZVBDNHpKU1EzM2pjVDBNZUhtQzhFd2s5Z3lvR0ExNFh4WFlRQ2Fj?oc=5', 'content': '기업 10곳 중 8곳 \"재무분야 AI 투자성과, 기대 이상\" - 네이트 뉴스'}, {'url': 'https://news.google.com/rss/articles/CBMiUkFVX3lxTE9pcDlGY1YzMUp1aHg1WHNLeTV1YTNYUVJDbTRYQV9UMzZIb09IeXk4Z2dwY3pZWEkyUjVjZVZlNm5DbU5IMDlSQkR5WjZPWmJoSlE?oc=5', 'content': '기업 84% 호평 “재무 분야 AI 투자로 기대 이상 수익률” - 매일경제'}, {'url': 'https://news.google.com/rss/articles/CBMiVkFVX3lxTE5qUnZqMGRCZnBVSGxqQVV0UDE1UXZmcFZvUWMyS2FfNFN0TWUtZ3c3T0hFS0RYSkY0TWtsWlh0S3dmeVNoOHI2b0MyRGtVaW5adzVWMHFR?oc=5', 'content': '5G-A 도입 속도 낸다...AI 투자도 본격화 - ZD넷 코리아'}]\u001b[0m<<<<<<< 관찰 내용 >>>>>>\n",
      "Observation: {'url': 'https://news.google.com/rss/articles/CBMiZkFVX3lxTE9mVlA5NHBMelFnN2xXbHJFSmY4MjZ4Q012SjZubEVPeE1Oek9VcTByVWd6c1NhUURFX3V6aVJEa01wUjJnSnFTcEZqX2daXzZRNWtUUTlOQ2UycWdud0ljRnk5SXAtQdIBbkFVX3lxTE8tOE9lZTVScXotZVlpcGlEY0p4SXhSdENMMmhtWi03MFF0dkVzNUVaNkF2Ukw4Z2pVUFRYczBDNTJVaENHRDByRnpfUmgzNWlTVnNoOGt6dFg5N2w5TWNyWjZJTXZPRVZ5VnJzTFVB?oc=5', 'content': 'AI에 살거나 죽거나…돈 퍼부은 글로벌 빅테크, 이젠 거품 공포 - 머니투데이'}\n",
      "<<<<<<< 관찰 내용 >>>>>>\n",
      "\u001b[32;1m\u001b[1;3m다음은 AI 투자와 관련된 최근 뉴스 기사들입니다:\n",
      "\n",
      "1. [AI에 살거나 죽거나…돈 퍼부은 글로벌 빅테크, 이젠 거품 공포 - 머니투데이](https://news.google.com/rss/articles/CBMiZkFVX3lxTE9mVlA5NHBMelFnN2xXbHJFSmY4MjZ4Q012SjZubEVPeE1Oek9VcTByVWd6c1NhUURFX3V6aVJEa01wUjJnSnFTcEZqX2daXzZRNWtUUTlOQ2UycWdud0ljRnk5SXAtQdIBbkFVX3lxTE8tOE9lZTVScXotZVlpcGlEY0p4SXhSdENMMmhtWi03MFF0dkVzNUVaNkF2Ukw4Z2pVUFRYczBDNTJVaENHRDByRnpfUmgzNWlTVnNoOGt6dFg5N2w5TWNyWjZJTXZPRVZ5VnJzTFVB?oc=5)\n",
      "\n",
      "2. [기업 84% \"재무 분야 AI 투자로 기대 이상 수익률\" - 아시아경제](https://news.google.com/rss/articles/CBMiX0FVX3lxTE5HOVF0WEZFTmpRcjU2Sk9mUEk0cktlX052NTF2ZzFOdDdFUHFNVVMwcWxkQkRfMTRxS0E2VGxZNFMxcEIwZDJtNi1WTmV4MW5KOHUzZXZackVxM3RGczgw?oc=5)\n",
      "\n",
      "3. [기업 10곳 중 8곳 \"재무분야 AI 투자성과, 기대 이상\" - 네이트 뉴스](https://news.google.com/rss/articles/CBMiU0FVX3lxTE1Ia2MxcngyeUdOM0tWUjJ3STdENnVxa3ZKWVFSdzE5blBlRWRNZVBDNHpKU1EzM2pjVDBNZUhtQzhFd2s5Z3lvR0ExNFh4WFlRQ2Fj?oc=5)\n",
      "\n",
      "4. [기업 84% 호평 “재무 분야 AI 투자로 기대 이상 수익률” - 매일경제](https://news.google.com/rss/articles/CBMiUkFVX3lxTE9pcDlGY1YzMUp1aHg1WHNLeTV1YTNYUVJDbTRYQV9UMzZIb09IeXk4Z2dwY3pZWEkyUjVjZVZlNm5DbU5IMDlSQkR5WjZPWmJoSlE?oc=5)\n",
      "\n",
      "5. [5G-A 도입 속도 낸다...AI 투자도 본격화 - ZD넷 코리아](https://news.google.com/rss/articles/CBMiVkFVX3lxTE5qUnZqMGRCZnBVSGxqQVV0UDE1UXZmcFZvUWMyS2FfNFN0TWUtZ3c3T0hFS0RYSkY0TWtsWlh0S3dmeVNoOHI2b0MyRGtVaW5adzVWMHFR?oc=5)\n",
      "\n",
      "이 기사를 통해 AI 투자에 대한 최신 동향과 기업들의 의견을 확인할 수 있습니다.\u001b[0m\n",
      "\n",
      "\u001b[1m> Finished chain.\u001b[0m\n",
      "<<<<<<< 최종 답변 >>>>>>\n",
      "다음은 AI 투자와 관련된 최근 뉴스 기사들입니다:\n",
      "\n",
      "1. [AI에 살거나 죽거나…돈 퍼부은 글로벌 빅테크, 이젠 거품 공포 - 머니투데이](https://news.google.com/rss/articles/CBMiZkFVX3lxTE9mVlA5NHBMelFnN2xXbHJFSmY4MjZ4Q012SjZubEVPeE1Oek9VcTByVWd6c1NhUURFX3V6aVJEa01wUjJnSnFTcEZqX2daXzZRNWtUUTlOQ2UycWdud0ljRnk5SXAtQdIBbkFVX3lxTE8tOE9lZTVScXotZVlpcGlEY0p4SXhSdENMMmhtWi03MFF0dkVzNUVaNkF2Ukw4Z2pVUFRYczBDNTJVaENHRDByRnpfUmgzNWlTVnNoOGt6dFg5N2w5TWNyWjZJTXZPRVZ5VnJzTFVB?oc=5)\n",
      "\n",
      "2. [기업 84% \"재무 분야 AI 투자로 기대 이상 수익률\" - 아시아경제](https://news.google.com/rss/articles/CBMiX0FVX3lxTE5HOVF0WEZFTmpRcjU2Sk9mUEk0cktlX052NTF2ZzFOdDdFUHFNVVMwcWxkQkRfMTRxS0E2VGxZNFMxcEIwZDJtNi1WTmV4MW5KOHUzZXZackVxM3RGczgw?oc=5)\n",
      "\n",
      "3. [기업 10곳 중 8곳 \"재무분야 AI 투자성과, 기대 이상\" - 네이트 뉴스](https://news.google.com/rss/articles/CBMiU0FVX3lxTE1Ia2MxcngyeUdOM0tWUjJ3STdENnVxa3ZKWVFSdzE5blBlRWRNZVBDNHpKU1EzM2pjVDBNZUhtQzhFd2s5Z3lvR0ExNFh4WFlRQ2Fj?oc=5)\n",
      "\n",
      "4. [기업 84% 호평 “재무 분야 AI 투자로 기대 이상 수익률” - 매일경제](https://news.google.com/rss/articles/CBMiUkFVX3lxTE9pcDlGY1YzMUp1aHg1WHNLeTV1YTNYUVJDbTRYQV9UMzZIb09IeXk4Z2dwY3pZWEkyUjVjZVZlNm5DbU5IMDlSQkR5WjZPWmJoSlE?oc=5)\n",
      "\n",
      "5. [5G-A 도입 속도 낸다...AI 투자도 본격화 - ZD넷 코리아](https://news.google.com/rss/articles/CBMiVkFVX3lxTE5qUnZqMGRCZnBVSGxqQVV0UDE1UXZmcFZvUWMyS2FfNFN0TWUtZ3c3T0hFS0RYSkY0TWtsWlh0S3dmeVNoOHI2b0MyRGtVaW5adzVWMHFR?oc=5)\n",
      "\n",
      "이 기사를 통해 AI 투자에 대한 최신 동향과 기업들의 의견을 확인할 수 있습니다.\n",
      "<<<<<<< 최종 답변 >>>>>>\n"
     ]
    }
   ],
   "source": [
    "# 질의에 대한 답변을 스트리밍으로 출력 요청\n",
    "result = agent_executor.stream({\"input\": \"AI 투자관련 뉴스를 검색해 주세요.\"})\n",
    "\n",
    "for step in result:\n",
    "    # 중간 단계를 parser 를 사용하여 단계별로 출력\n",
    "    agent_stream_parser.process_agent_steps(step)"
   ]
  }
 ],
 "metadata": {
  "kernelspec": {
   "display_name": "venv",
   "language": "python",
   "name": "python3"
  },
  "language_info": {
   "codemirror_mode": {
    "name": "ipython",
    "version": 3
   },
   "file_extension": ".py",
   "mimetype": "text/x-python",
   "name": "python",
   "nbconvert_exporter": "python",
   "pygments_lexer": "ipython3",
   "version": "3.11.9"
  }
 },
 "nbformat": 4,
 "nbformat_minor": 2
}
