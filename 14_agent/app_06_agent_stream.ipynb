{
 "cells": [
  {
   "cell_type": "code",
   "execution_count": 2,
   "metadata": {},
   "outputs": [],
   "source": [
    "from dotenv import load_dotenv\n",
    "import os\n",
    "\n",
    "load_dotenv(verbose=True)\n",
    "key = os.getenv('OPENAI_API_KEY')"
   ]
  },
  {
   "cell_type": "code",
   "execution_count": 4,
   "metadata": {},
   "outputs": [],
   "source": [
    "from langchain_openai import ChatOpenAI\n",
    "from langchain_core.prompts import ChatPromptTemplate"
   ]
  },
  {
   "cell_type": "code",
   "execution_count": 5,
   "metadata": {},
   "outputs": [],
   "source": [
    "from langchain_teddynote.tools import GoogleNews\n",
    "from langchain_experimental.utilities import PythonREPL\n",
    "from typing import List, Dict, Annotated\n",
    "from langchain.tools import tool\n",
    "\n",
    "from langchain.agents import create_tool_calling_agent\n",
    "from langchain.agents import AgentExecutor\n",
    "from langchain_teddynote.messages import AgentStreamParser"
   ]
  },
  {
   "cell_type": "code",
   "execution_count": 6,
   "metadata": {},
   "outputs": [],
   "source": [
    "@tool\n",
    "def search_news(query: str) -> List[Dict[str, str]]:\n",
    "    \"\"\"Search Google News by input keyword\"\"\"\n",
    "    news_tool = GoogleNews()\n",
    "    return news_tool.search_by_keyword(query, k=5)"
   ]
  },
  {
   "cell_type": "code",
   "execution_count": 7,
   "metadata": {},
   "outputs": [],
   "source": [
    "@tool\n",
    "def python_repl_tool(\n",
    "    code: Annotated[str, \"The python code to execute to generate your chart.\"],\n",
    "):\n",
    "    \"\"\"Use this to execute python code. If you want to see the output of a value,\n",
    "    you should print it out with `print(...)`. This is visible to the user.\"\"\"\n",
    "    result = \"\"\n",
    "    try:\n",
    "        result = PythonREPL().run(code)\n",
    "    except BaseException as e:\n",
    "        print(f\"Failed to execute. Error: {repr(e)}\")\n",
    "    finally:\n",
    "        return result"
   ]
  },
  {
   "cell_type": "code",
   "execution_count": 8,
   "metadata": {},
   "outputs": [],
   "source": [
    "tools = [search_news, python_repl_tool]"
   ]
  },
  {
   "cell_type": "code",
   "execution_count": 9,
   "metadata": {},
   "outputs": [],
   "source": [
    "# 프롬프트는 에이전트에게 모델이 수행할 작업을 설명하는 텍스트를 제공합니다. (도구의 이름과 역할을 입력)\n",
    "prompt = ChatPromptTemplate.from_messages(\n",
    "    [\n",
    "        (                                           \n",
    "            \"system\",\n",
    "            \"You are a helpful assistant. \"             \n",
    "            \"Make sure to use the `search_news` tool for searching keyword related news.\",\n",
    "        ),\n",
    "        (\"placeholder\", \"{chat_history}\"),          # 이전 대화 내용을 넣을 곳을 잡아둔다.\n",
    "        (\"human\", \"{input}\"),                       # 사용자 입력\n",
    "\n",
    "        # 에이전트가 검색하는 과정들이나 내용 등을 끄적이는 메모장 같은 공간을 플레이스 홀더로 만들어준다\n",
    "        (\"placeholder\", \"{agent_scratchpad}\"),       \n",
    "    ]\n",
    ")"
   ]
  },
  {
   "cell_type": "code",
   "execution_count": 10,
   "metadata": {},
   "outputs": [],
   "source": [
    "llm = ChatOpenAI(model=\"gpt-4o-mini\", temperature=0)"
   ]
  },
  {
   "cell_type": "code",
   "execution_count": 11,
   "metadata": {},
   "outputs": [],
   "source": [
    "agent = create_tool_calling_agent(llm, tools, prompt)"
   ]
  },
  {
   "cell_type": "code",
   "execution_count": 12,
   "metadata": {},
   "outputs": [],
   "source": [
    "agent_executor = AgentExecutor(\n",
    "    agent=agent,\n",
    "    tools=tools,\n",
    "    verbose=True,\n",
    "    max_iterations=10,\n",
    "    max_execution_time=10,\n",
    "    handle_parsing_errors=True,\n",
    ")"
   ]
  },
  {
   "cell_type": "code",
   "execution_count": 13,
   "metadata": {},
   "outputs": [
    {
     "name": "stdout",
     "output_type": "stream",
     "text": [
      "\n",
      "\n",
      "\u001b[1m> Entering new None chain...\u001b[0m\n",
      "{'actions': [ToolAgentAction(tool='search_news', tool_input={'query': 'AI 투자'}, log=\"\\nInvoking: `search_news` with `{'query': 'AI 투자'}`\\n\\n\\n\", message_log=[AIMessageChunk(content='', additional_kwargs={'tool_calls': [{'index': 0, 'id': 'call_xQSzwGvatrbvIP9x3zFfrcnh', 'function': {'arguments': '{\"query\":\"AI 투자\"}', 'name': 'search_news'}, 'type': 'function'}]}, response_metadata={'finish_reason': 'tool_calls', 'model_name': 'gpt-4o-mini-2024-07-18', 'system_fingerprint': 'fp_6fc10e10eb'}, id='run-431fa48e-9237-45bd-85c3-c7c186dbfbba', tool_calls=[{'name': 'search_news', 'args': {'query': 'AI 투자'}, 'id': 'call_xQSzwGvatrbvIP9x3zFfrcnh', 'type': 'tool_call'}], tool_call_chunks=[{'name': 'search_news', 'args': '{\"query\":\"AI 투자\"}', 'id': 'call_xQSzwGvatrbvIP9x3zFfrcnh', 'index': 0, 'type': 'tool_call_chunk'}])], tool_call_id='call_xQSzwGvatrbvIP9x3zFfrcnh')], 'messages': [AIMessageChunk(content='', additional_kwargs={'tool_calls': [{'index': 0, 'id': 'call_xQSzwGvatrbvIP9x3zFfrcnh', 'function': {'arguments': '{\"query\":\"AI 투자\"}', 'name': 'search_news'}, 'type': 'function'}]}, response_metadata={'finish_reason': 'tool_calls', 'model_name': 'gpt-4o-mini-2024-07-18', 'system_fingerprint': 'fp_6fc10e10eb'}, id='run-431fa48e-9237-45bd-85c3-c7c186dbfbba', tool_calls=[{'name': 'search_news', 'args': {'query': 'AI 투자'}, 'id': 'call_xQSzwGvatrbvIP9x3zFfrcnh', 'type': 'tool_call'}], tool_call_chunks=[{'name': 'search_news', 'args': '{\"query\":\"AI 투자\"}', 'id': 'call_xQSzwGvatrbvIP9x3zFfrcnh', 'index': 0, 'type': 'tool_call_chunk'}])]}\n",
      "============================================================\n",
      "\u001b[32;1m\u001b[1;3m\n",
      "Invoking: `search_news` with `{'query': 'AI 투자'}`\n",
      "\n",
      "\n",
      "\u001b[0m\u001b[36;1m\u001b[1;3m[{'url': 'https://news.google.com/rss/articles/CBMiVkFVX3lxTE9HMzNkMXZaZ0k2ekVETmtLNVI2bVVrQlBkbVE3Ry1IenhrWkR1d2pCeHk1ZnNIVjVSVWx4VDRTdjZxcWtsdlhLYTJ4aFVzQzkyNHhsa2pB?oc=5', 'content': '\"투자·인재·제도 열악한데 AI 3강?\"…韓, 마이너리그 전락 \\'우려\\' - ZD넷 코리아'}, {'url': 'https://news.google.com/rss/articles/CBMickFVX3lxTFA4T3ZXMmM5VUVTSUxsYzhPaktQMWtzcE5VUHlUaUNMV0FpSmVacTRFWjd0TlhYTXVpdWdZNExFcUxWZTZMRmk5RDh0TXVkeVhfcjdXT3JnZzRNWXNkZFRrTkNTbDc3Skx3SHBacW9KeENvQQ?oc=5', 'content': '오픈AI가 픽한 유니콘…‘스픽’ 1100억 투자 유치 - 마켓인'}, {'url': 'https://news.google.com/rss/articles/CBMiZkFVX3lxTE93b21ZV0twWUxEMW1IRk1OQlFmY251Nk0xYlBwblZyTE0wSlRtbzl4N3NHTmJDR1puQ2hoWi1IT2otVEFvNkRzY0t4S0lCSGJGV2l4UFYtNHRDeS0wTGVnbFRnRko5Zw?oc=5', 'content': \"SKT, AI 영상분석 '트웰브랩스'에 300만달러 투자 - 머니투데이\"}, {'url': 'https://news.google.com/rss/articles/CBMi2gJBVV95cUxQYzQxQXJTdFNIVkVjYXlNTDVtRHJqUm1hOEl4NWVFSG1hVjZURFJOWFV4elB1dDZ3NVFWSHU1MGc3WnJTUjFwM3hGVnZlcUljNzZDYTVWMDNka2MxMjY0bmdNV3pFQjRuNHRKOGpNang5TjZrdmZqTUlFSkNwZnRhNGhHMGRhem53TnVscnRQekZRUnZkZTlLbml2aXNGc2hLaGZGMVRGVWl0LXNhRm1WSWFJUkNmQnZXLVhJODI0QjhnUTN0ZktoWU0xSVpVbGtFTFpVUllwb1VEMUtXWkt6cnpVd2xjTW5yaFYxWHhlc3htTzJfaG9ra1h1MVhNT0JmZk9jOVd1eFB0UnJ5c1ZMQ1pyU0Q2VmpNVjVsb2VUN00xTzJuVi1LNS1NbzFFajBNTFBLbHlfVnBZcDVhYS1DZ1pyaGZjYlNYVm1JZVV1TDhoRVhrN21YRE1n0gHaAkFVX3lxTFBjNDFBclN0U0hWRWNheU1MNW1EcmpSbWE4SXg1ZUVIbWFWNlREUk5YVXh6UHV0Nnc1UVZIdTUwZzdaclNSMXAzeEZWdmVxSWM3NkNhNVYwM2RrYzEyNjRuZ01XekVCNG40dEo4ak1qeDlONmt2ZmpNSUVKQ3BmdGE0aEcwZGF6bndOdWxydFB6RlFSdmRlOUtuaXZpc0ZzaEtoZkYxVEZVaXQtc2FGbVZJYUlSQ2ZCdlctWEk4MjRCOGdRM3RmS2hZTTFJWlVsa0VMWlVSWXBvVUQxS1daS3pyelV3bGNNbnJoVjFYeGVzeG1PMl9ob2trWHUxWE1PQmZmT2M5V3V4UHRScnlzVkxDWnJTRDZWak1WNWxvZVQ3TTFPMm5WLUs1LU1vMUVqME1MUEtseV9WcFlwNWFhLUNnWnJoZmNiU1hWbUllVXVMOGhFWGs3bVhETWc?oc=5', 'content': '칼럼 | 이제는 수익을 고민할 때··· 생성형 AI의 비즈니스 가치를 높이는 팁 5가지 - CIO.com'}, {'url': 'https://news.google.com/rss/articles/CBMicEFVX3lxTE0wenpQNDRGXzM3clotcG1jSU91YTNlYThLSVJxN2RzME5ldlhsdFBvQmZmN3ZaZ3BnWlNSVlY3V1JXWFhaUjI1R0huQmVWT0FQdkhXS0lvVFB5bHdGSlFNa2tBNEpYbEFFNGtzaHpZRGPSAXRBVV95cUxOMjB3NXcxU01pUlpIRU8xNXBqTXpYZFY2Y2lDUFZSS1hBaTVmXzVYX05tenNDMlFabU92c01RdG1PV2FUM29BeTBWdGlpNDc0U0gxWFB4SFBOdEFUZVQwLWFOWHhfME5UQUt4WGJDdGF1bnVXUg?oc=5', 'content': '현대차 투자받은 보스반도체, 차량용 AI 가속기 공개 - IT조선'}]\u001b[0m{'steps': [AgentStep(action=ToolAgentAction(tool='search_news', tool_input={'query': 'AI 투자'}, log=\"\\nInvoking: `search_news` with `{'query': 'AI 투자'}`\\n\\n\\n\", message_log=[AIMessageChunk(content='', additional_kwargs={'tool_calls': [{'index': 0, 'id': 'call_xQSzwGvatrbvIP9x3zFfrcnh', 'function': {'arguments': '{\"query\":\"AI 투자\"}', 'name': 'search_news'}, 'type': 'function'}]}, response_metadata={'finish_reason': 'tool_calls', 'model_name': 'gpt-4o-mini-2024-07-18', 'system_fingerprint': 'fp_6fc10e10eb'}, id='run-431fa48e-9237-45bd-85c3-c7c186dbfbba', tool_calls=[{'name': 'search_news', 'args': {'query': 'AI 투자'}, 'id': 'call_xQSzwGvatrbvIP9x3zFfrcnh', 'type': 'tool_call'}], tool_call_chunks=[{'name': 'search_news', 'args': '{\"query\":\"AI 투자\"}', 'id': 'call_xQSzwGvatrbvIP9x3zFfrcnh', 'index': 0, 'type': 'tool_call_chunk'}])], tool_call_id='call_xQSzwGvatrbvIP9x3zFfrcnh'), observation=[{'url': 'https://news.google.com/rss/articles/CBMiVkFVX3lxTE9HMzNkMXZaZ0k2ekVETmtLNVI2bVVrQlBkbVE3Ry1IenhrWkR1d2pCeHk1ZnNIVjVSVWx4VDRTdjZxcWtsdlhLYTJ4aFVzQzkyNHhsa2pB?oc=5', 'content': '\"투자·인재·제도 열악한데 AI 3강?\"…韓, 마이너리그 전락 \\'우려\\' - ZD넷 코리아'}, {'url': 'https://news.google.com/rss/articles/CBMickFVX3lxTFA4T3ZXMmM5VUVTSUxsYzhPaktQMWtzcE5VUHlUaUNMV0FpSmVacTRFWjd0TlhYTXVpdWdZNExFcUxWZTZMRmk5RDh0TXVkeVhfcjdXT3JnZzRNWXNkZFRrTkNTbDc3Skx3SHBacW9KeENvQQ?oc=5', 'content': '오픈AI가 픽한 유니콘…‘스픽’ 1100억 투자 유치 - 마켓인'}, {'url': 'https://news.google.com/rss/articles/CBMiZkFVX3lxTE93b21ZV0twWUxEMW1IRk1OQlFmY251Nk0xYlBwblZyTE0wSlRtbzl4N3NHTmJDR1puQ2hoWi1IT2otVEFvNkRzY0t4S0lCSGJGV2l4UFYtNHRDeS0wTGVnbFRnRko5Zw?oc=5', 'content': \"SKT, AI 영상분석 '트웰브랩스'에 300만달러 투자 - 머니투데이\"}, {'url': 'https://news.google.com/rss/articles/CBMi2gJBVV95cUxQYzQxQXJTdFNIVkVjYXlNTDVtRHJqUm1hOEl4NWVFSG1hVjZURFJOWFV4elB1dDZ3NVFWSHU1MGc3WnJTUjFwM3hGVnZlcUljNzZDYTVWMDNka2MxMjY0bmdNV3pFQjRuNHRKOGpNang5TjZrdmZqTUlFSkNwZnRhNGhHMGRhem53TnVscnRQekZRUnZkZTlLbml2aXNGc2hLaGZGMVRGVWl0LXNhRm1WSWFJUkNmQnZXLVhJODI0QjhnUTN0ZktoWU0xSVpVbGtFTFpVUllwb1VEMUtXWkt6cnpVd2xjTW5yaFYxWHhlc3htTzJfaG9ra1h1MVhNT0JmZk9jOVd1eFB0UnJ5c1ZMQ1pyU0Q2VmpNVjVsb2VUN00xTzJuVi1LNS1NbzFFajBNTFBLbHlfVnBZcDVhYS1DZ1pyaGZjYlNYVm1JZVV1TDhoRVhrN21YRE1n0gHaAkFVX3lxTFBjNDFBclN0U0hWRWNheU1MNW1EcmpSbWE4SXg1ZUVIbWFWNlREUk5YVXh6UHV0Nnc1UVZIdTUwZzdaclNSMXAzeEZWdmVxSWM3NkNhNVYwM2RrYzEyNjRuZ01XekVCNG40dEo4ak1qeDlONmt2ZmpNSUVKQ3BmdGE0aEcwZGF6bndOdWxydFB6RlFSdmRlOUtuaXZpc0ZzaEtoZkYxVEZVaXQtc2FGbVZJYUlSQ2ZCdlctWEk4MjRCOGdRM3RmS2hZTTFJWlVsa0VMWlVSWXBvVUQxS1daS3pyelV3bGNNbnJoVjFYeGVzeG1PMl9ob2trWHUxWE1PQmZmT2M5V3V4UHRScnlzVkxDWnJTRDZWak1WNWxvZVQ3TTFPMm5WLUs1LU1vMUVqME1MUEtseV9WcFlwNWFhLUNnWnJoZmNiU1hWbUllVXVMOGhFWGs3bVhETWc?oc=5', 'content': '칼럼 | 이제는 수익을 고민할 때··· 생성형 AI의 비즈니스 가치를 높이는 팁 5가지 - CIO.com'}, {'url': 'https://news.google.com/rss/articles/CBMicEFVX3lxTE0wenpQNDRGXzM3clotcG1jSU91YTNlYThLSVJxN2RzME5ldlhsdFBvQmZmN3ZaZ3BnWlNSVlY3V1JXWFhaUjI1R0huQmVWT0FQdkhXS0lvVFB5bHdGSlFNa2tBNEpYbEFFNGtzaHpZRGPSAXRBVV95cUxOMjB3NXcxU01pUlpIRU8xNXBqTXpYZFY2Y2lDUFZSS1hBaTVmXzVYX05tenNDMlFabU92c01RdG1PV2FUM29BeTBWdGlpNDc0U0gxWFB4SFBOdEFUZVQwLWFOWHhfME5UQUt4WGJDdGF1bnVXUg?oc=5', 'content': '현대차 투자받은 보스반도체, 차량용 AI 가속기 공개 - IT조선'}])], 'messages': [FunctionMessage(content='[{\"url\": \"https://news.google.com/rss/articles/CBMiVkFVX3lxTE9HMzNkMXZaZ0k2ekVETmtLNVI2bVVrQlBkbVE3Ry1IenhrWkR1d2pCeHk1ZnNIVjVSVWx4VDRTdjZxcWtsdlhLYTJ4aFVzQzkyNHhsa2pB?oc=5\", \"content\": \"\\\\\"투자·인재·제도 열악한데 AI 3강?\\\\\"…韓, 마이너리그 전락 \\'우려\\' - ZD넷 코리아\"}, {\"url\": \"https://news.google.com/rss/articles/CBMickFVX3lxTFA4T3ZXMmM5VUVTSUxsYzhPaktQMWtzcE5VUHlUaUNMV0FpSmVacTRFWjd0TlhYTXVpdWdZNExFcUxWZTZMRmk5RDh0TXVkeVhfcjdXT3JnZzRNWXNkZFRrTkNTbDc3Skx3SHBacW9KeENvQQ?oc=5\", \"content\": \"오픈AI가 픽한 유니콘…‘스픽’ 1100억 투자 유치 - 마켓인\"}, {\"url\": \"https://news.google.com/rss/articles/CBMiZkFVX3lxTE93b21ZV0twWUxEMW1IRk1OQlFmY251Nk0xYlBwblZyTE0wSlRtbzl4N3NHTmJDR1puQ2hoWi1IT2otVEFvNkRzY0t4S0lCSGJGV2l4UFYtNHRDeS0wTGVnbFRnRko5Zw?oc=5\", \"content\": \"SKT, AI 영상분석 \\'트웰브랩스\\'에 300만달러 투자 - 머니투데이\"}, {\"url\": \"https://news.google.com/rss/articles/CBMi2gJBVV95cUxQYzQxQXJTdFNIVkVjYXlNTDVtRHJqUm1hOEl4NWVFSG1hVjZURFJOWFV4elB1dDZ3NVFWSHU1MGc3WnJTUjFwM3hGVnZlcUljNzZDYTVWMDNka2MxMjY0bmdNV3pFQjRuNHRKOGpNang5TjZrdmZqTUlFSkNwZnRhNGhHMGRhem53TnVscnRQekZRUnZkZTlLbml2aXNGc2hLaGZGMVRGVWl0LXNhRm1WSWFJUkNmQnZXLVhJODI0QjhnUTN0ZktoWU0xSVpVbGtFTFpVUllwb1VEMUtXWkt6cnpVd2xjTW5yaFYxWHhlc3htTzJfaG9ra1h1MVhNT0JmZk9jOVd1eFB0UnJ5c1ZMQ1pyU0Q2VmpNVjVsb2VUN00xTzJuVi1LNS1NbzFFajBNTFBLbHlfVnBZcDVhYS1DZ1pyaGZjYlNYVm1JZVV1TDhoRVhrN21YRE1n0gHaAkFVX3lxTFBjNDFBclN0U0hWRWNheU1MNW1EcmpSbWE4SXg1ZUVIbWFWNlREUk5YVXh6UHV0Nnc1UVZIdTUwZzdaclNSMXAzeEZWdmVxSWM3NkNhNVYwM2RrYzEyNjRuZ01XekVCNG40dEo4ak1qeDlONmt2ZmpNSUVKQ3BmdGE0aEcwZGF6bndOdWxydFB6RlFSdmRlOUtuaXZpc0ZzaEtoZkYxVEZVaXQtc2FGbVZJYUlSQ2ZCdlctWEk4MjRCOGdRM3RmS2hZTTFJWlVsa0VMWlVSWXBvVUQxS1daS3pyelV3bGNNbnJoVjFYeGVzeG1PMl9ob2trWHUxWE1PQmZmT2M5V3V4UHRScnlzVkxDWnJTRDZWak1WNWxvZVQ3TTFPMm5WLUs1LU1vMUVqME1MUEtseV9WcFlwNWFhLUNnWnJoZmNiU1hWbUllVXVMOGhFWGs3bVhETWc?oc=5\", \"content\": \"칼럼 | 이제는 수익을 고민할 때··· 생성형 AI의 비즈니스 가치를 높이는 팁 5가지 - CIO.com\"}, {\"url\": \"https://news.google.com/rss/articles/CBMicEFVX3lxTE0wenpQNDRGXzM3clotcG1jSU91YTNlYThLSVJxN2RzME5ldlhsdFBvQmZmN3ZaZ3BnWlNSVlY3V1JXWFhaUjI1R0huQmVWT0FQdkhXS0lvVFB5bHdGSlFNa2tBNEpYbEFFNGtzaHpZRGPSAXRBVV95cUxOMjB3NXcxU01pUlpIRU8xNXBqTXpYZFY2Y2lDUFZSS1hBaTVmXzVYX05tenNDMlFabU92c01RdG1PV2FUM29BeTBWdGlpNDc0U0gxWFB4SFBOdEFUZVQwLWFOWHhfME5UQUt4WGJDdGF1bnVXUg?oc=5\", \"content\": \"현대차 투자받은 보스반도체, 차량용 AI 가속기 공개 - IT조선\"}]', additional_kwargs={}, response_metadata={}, name='search_news')]}\n",
      "============================================================\n",
      "\u001b[32;1m\u001b[1;3m다음은 AI 투자와 관련된 최근 뉴스입니다:\n",
      "\n",
      "1. **[투자·인재·제도 열악한데 AI 3강?…韓, 마이너리그 전락 '우려'](https://news.google.com/rss/articles/CBMiVkFVX3lxTE9HMzNkMXZaZ0k2ekVETmtLNVI2bVVrQlBkbVE3Ry1IenhrWkR1d2pCeHk1ZnNIVjVSVWx4VDRTdjZxcWtsdlhLYTJ4aFVzQzkyNHhsa2pB?oc=5) - ZD넷 코리아**\n",
      "   - 한국의 AI 투자 환경에 대한 우려를 다룬 기사입니다.\n",
      "\n",
      "2. **[오픈AI가 픽한 유니콘…‘스픽’ 1100억 투자 유치](https://news.google.com/rss/articles/CBMickFVX3lxTFA4T3ZXMmM5VUVTSUxsYzhPaktQMWtzcE5VUHlUaUNMV0FpSmVacTRFWjd0TlhYTXVpdWdZNExFcUxWZTZMRmk5RDh0TXVkeVhfcjdXT3JnZzRNWXNkZFRrTkNTbDc3Skx3SHBacW9KeENvQQ?oc=5) - 마켓인**\n",
      "   - 오픈AI가 투자한 유니콘 기업 '스픽'에 대한 소식입니다.\n",
      "\n",
      "3. **[SKT, AI 영상분석 '트웰브랩스'에 300만달러 투자](https://news.google.com/rss/articles/CBMiZkFVX3lxTE93b21ZV0twWUxEMW1IRk1OQlFmY251Nk0xYlBwblZyTE0wSlRtbzl4N3NHTmJDR1puQ2hoWi1IT2otVEFvNkRzY0t4S0lCSGJGV2l4UFYtNHRDeS0wTGVnbFRnRko5Zw?oc=5) - 머니투데이**\n",
      "   - SKT가 AI 영상 분석 스타트업 '트웰브랩스'에 대한 투자를 발표했습니다.\n",
      "\n",
      "4. **[칼럼 | 이제는 수익을 고민할 때··· 생성형 AI의 비즈니스 가치를 높이는 팁 5가지](https://news.google.com/rss/articles/CBMi2gJBVV95cUxQYzQxQXJTdFNIVkVjYXlNTDVtRHJqUm1hOEl4NWVFSG1hVjZURFJOWFV4elB1dDZ3NVFWSHU1MGc3WnJTUjFwM3hGVnZlcUljNzZDYTVWMDNka2MxMjY0bmdNV3pFQjRuNHRKOGpNang5TjZrdmZqTUlFSkNwZnRhNGhHMGRhem53TnVscnRQekZRUnZkZTlLbml2aXNGc2hLaGZGMVRGVWl0LXNhRm1WSWFJUkNmQnZXLVhJODI0QjhnUTN0ZktoWU0xSVpVbGtFTFpVUllwb1VEMUtXWkt6cnpVd2xjTW5yaFYxWHhlc3htTzJfaG9ra1h1MVhNT0JmZk9jOVd1eFB0UnJ5c1ZMQ1pyU0Q2VmpNVjVsb2VUN00xTzJuVi1LNS1NbzFFajBNTFBLbHlfVnBZcDVhYS1DZ1pyaGZjYlNYVm1JZVV1TDhoRVhrN21YRE1n0gHaAkFVX3lxTFBjNDFBclN0U0hWRWNheU1MNW1EcmpSbWE4SXg1ZUVIbWFWNlREUk5YVXh6UHV0Nnc1UVZIdTUwZzdaclNSMXAzeEZWdmVxSWM3NkNhNVYwM2RrYzEyNjRuZ01XekVCNG40dEo4ak1qeDlONmt2ZmpNSUVKQ3BmdGE0aEcwZGF6bndOdWxydFB6RlFSdmRlOUtuaXZpc0ZzaEtoZkYxVEZVaXQtc2FGbVZJYUlSQ2ZCdlctWEk4MjRCOGdRM3RmS2hZTTFJWlVsa0VMWlVSWXBvVUQxS1daS3pyelV3bGNNbnJoVjFYeGVzeG1PMl9ob2trWHUxWE1PQmZmT2M5V3V4UHRScnlzVkxDWnJTRDZWak1WNWxvZVQ3TTFPMm5WLUs1LU1vMUVqME1MUEtseV9WcFlwNWFhLUNnWnJoZmNiU1hWbUllVXVMOGhFWGs3bVhETWc?oc=5) - CIO.com**\n",
      "   - 생성형 AI의 비즈니스 가치를 높이는 방법에 대한 칼럼입니다.\n",
      "\n",
      "5. **[현대차 투자받은 보스반도체, 차량용 AI 가속기 공개](https://news.google.com/rss/articles/CBMicEFVX3lxTE0wenpQNDRGXzM3clotcG1jSU91YTNlYThLSVJxN2RzME5ldlhsdFBvQmZmN3ZaZ3BnWlNSVlY3V1JXWFhaUjI1R0huQmVWT0FQdkhXS0lvVFB5bHdGSlFNa2tBNEpYbEFFNGtzaHpZRGPSAXRBVV95cUxOMjB3NXcxU01pUlpIRU8xNXBqTXpYZFY2Y2lDUFZSS1hBaTVmXzVYX05tenNDMlFabU92c01RdG1PV2FUM29BeTBWdGlpNDc0U0gxWFB4SFBOdEFUZVQwLWFOWHhfME5UQUt4WGJDdGF1bnVXUg?oc=5) - IT조선**\n",
      "   - 현대차의 투자를 받은 보스반도체가 차량용 AI 가속기를 공개했습니다.\n",
      "\n",
      "이 뉴스들은 AI 투자와 관련된 다양한 주제를 다루고 있습니다.\u001b[0m\n",
      "\n",
      "\u001b[1m> Finished chain.\u001b[0m\n",
      "{'output': \"다음은 AI 투자와 관련된 최근 뉴스입니다:\\n\\n1. **[투자·인재·제도 열악한데 AI 3강?…韓, 마이너리그 전락 '우려'](https://news.google.com/rss/articles/CBMiVkFVX3lxTE9HMzNkMXZaZ0k2ekVETmtLNVI2bVVrQlBkbVE3Ry1IenhrWkR1d2pCeHk1ZnNIVjVSVWx4VDRTdjZxcWtsdlhLYTJ4aFVzQzkyNHhsa2pB?oc=5) - ZD넷 코리아**\\n   - 한국의 AI 투자 환경에 대한 우려를 다룬 기사입니다.\\n\\n2. **[오픈AI가 픽한 유니콘…‘스픽’ 1100억 투자 유치](https://news.google.com/rss/articles/CBMickFVX3lxTFA4T3ZXMmM5VUVTSUxsYzhPaktQMWtzcE5VUHlUaUNMV0FpSmVacTRFWjd0TlhYTXVpdWdZNExFcUxWZTZMRmk5RDh0TXVkeVhfcjdXT3JnZzRNWXNkZFRrTkNTbDc3Skx3SHBacW9KeENvQQ?oc=5) - 마켓인**\\n   - 오픈AI가 투자한 유니콘 기업 '스픽'에 대한 소식입니다.\\n\\n3. **[SKT, AI 영상분석 '트웰브랩스'에 300만달러 투자](https://news.google.com/rss/articles/CBMiZkFVX3lxTE93b21ZV0twWUxEMW1IRk1OQlFmY251Nk0xYlBwblZyTE0wSlRtbzl4N3NHTmJDR1puQ2hoWi1IT2otVEFvNkRzY0t4S0lCSGJGV2l4UFYtNHRDeS0wTGVnbFRnRko5Zw?oc=5) - 머니투데이**\\n   - SKT가 AI 영상 분석 스타트업 '트웰브랩스'에 대한 투자를 발표했습니다.\\n\\n4. **[칼럼 | 이제는 수익을 고민할 때··· 생성형 AI의 비즈니스 가치를 높이는 팁 5가지](https://news.google.com/rss/articles/CBMi2gJBVV95cUxQYzQxQXJTdFNIVkVjYXlNTDVtRHJqUm1hOEl4NWVFSG1hVjZURFJOWFV4elB1dDZ3NVFWSHU1MGc3WnJTUjFwM3hGVnZlcUljNzZDYTVWMDNka2MxMjY0bmdNV3pFQjRuNHRKOGpNang5TjZrdmZqTUlFSkNwZnRhNGhHMGRhem53TnVscnRQekZRUnZkZTlLbml2aXNGc2hLaGZGMVRGVWl0LXNhRm1WSWFJUkNmQnZXLVhJODI0QjhnUTN0ZktoWU0xSVpVbGtFTFpVUllwb1VEMUtXWkt6cnpVd2xjTW5yaFYxWHhlc3htTzJfaG9ra1h1MVhNT0JmZk9jOVd1eFB0UnJ5c1ZMQ1pyU0Q2VmpNVjVsb2VUN00xTzJuVi1LNS1NbzFFajBNTFBLbHlfVnBZcDVhYS1DZ1pyaGZjYlNYVm1JZVV1TDhoRVhrN21YRE1n0gHaAkFVX3lxTFBjNDFBclN0U0hWRWNheU1MNW1EcmpSbWE4SXg1ZUVIbWFWNlREUk5YVXh6UHV0Nnc1UVZIdTUwZzdaclNSMXAzeEZWdmVxSWM3NkNhNVYwM2RrYzEyNjRuZ01XekVCNG40dEo4ak1qeDlONmt2ZmpNSUVKQ3BmdGE0aEcwZGF6bndOdWxydFB6RlFSdmRlOUtuaXZpc0ZzaEtoZkYxVEZVaXQtc2FGbVZJYUlSQ2ZCdlctWEk4MjRCOGdRM3RmS2hZTTFJWlVsa0VMWlVSWXBvVUQxS1daS3pyelV3bGNNbnJoVjFYeGVzeG1PMl9ob2trWHUxWE1PQmZmT2M5V3V4UHRScnlzVkxDWnJTRDZWak1WNWxvZVQ3TTFPMm5WLUs1LU1vMUVqME1MUEtseV9WcFlwNWFhLUNnWnJoZmNiU1hWbUllVXVMOGhFWGs3bVhETWc?oc=5) - CIO.com**\\n   - 생성형 AI의 비즈니스 가치를 높이는 방법에 대한 칼럼입니다.\\n\\n5. **[현대차 투자받은 보스반도체, 차량용 AI 가속기 공개](https://news.google.com/rss/articles/CBMicEFVX3lxTE0wenpQNDRGXzM3clotcG1jSU91YTNlYThLSVJxN2RzME5ldlhsdFBvQmZmN3ZaZ3BnWlNSVlY3V1JXWFhaUjI1R0huQmVWT0FQdkhXS0lvVFB5bHdGSlFNa2tBNEpYbEFFNGtzaHpZRGPSAXRBVV95cUxOMjB3NXcxU01pUlpIRU8xNXBqTXpYZFY2Y2lDUFZSS1hBaTVmXzVYX05tenNDMlFabU92c01RdG1PV2FUM29BeTBWdGlpNDc0U0gxWFB4SFBOdEFUZVQwLWFOWHhfME5UQUt4WGJDdGF1bnVXUg?oc=5) - IT조선**\\n   - 현대차의 투자를 받은 보스반도체가 차량용 AI 가속기를 공개했습니다.\\n\\n이 뉴스들은 AI 투자와 관련된 다양한 주제를 다루고 있습니다.\", 'messages': [AIMessage(content=\"다음은 AI 투자와 관련된 최근 뉴스입니다:\\n\\n1. **[투자·인재·제도 열악한데 AI 3강?…韓, 마이너리그 전락 '우려'](https://news.google.com/rss/articles/CBMiVkFVX3lxTE9HMzNkMXZaZ0k2ekVETmtLNVI2bVVrQlBkbVE3Ry1IenhrWkR1d2pCeHk1ZnNIVjVSVWx4VDRTdjZxcWtsdlhLYTJ4aFVzQzkyNHhsa2pB?oc=5) - ZD넷 코리아**\\n   - 한국의 AI 투자 환경에 대한 우려를 다룬 기사입니다.\\n\\n2. **[오픈AI가 픽한 유니콘…‘스픽’ 1100억 투자 유치](https://news.google.com/rss/articles/CBMickFVX3lxTFA4T3ZXMmM5VUVTSUxsYzhPaktQMWtzcE5VUHlUaUNMV0FpSmVacTRFWjd0TlhYTXVpdWdZNExFcUxWZTZMRmk5RDh0TXVkeVhfcjdXT3JnZzRNWXNkZFRrTkNTbDc3Skx3SHBacW9KeENvQQ?oc=5) - 마켓인**\\n   - 오픈AI가 투자한 유니콘 기업 '스픽'에 대한 소식입니다.\\n\\n3. **[SKT, AI 영상분석 '트웰브랩스'에 300만달러 투자](https://news.google.com/rss/articles/CBMiZkFVX3lxTE93b21ZV0twWUxEMW1IRk1OQlFmY251Nk0xYlBwblZyTE0wSlRtbzl4N3NHTmJDR1puQ2hoWi1IT2otVEFvNkRzY0t4S0lCSGJGV2l4UFYtNHRDeS0wTGVnbFRnRko5Zw?oc=5) - 머니투데이**\\n   - SKT가 AI 영상 분석 스타트업 '트웰브랩스'에 대한 투자를 발표했습니다.\\n\\n4. **[칼럼 | 이제는 수익을 고민할 때··· 생성형 AI의 비즈니스 가치를 높이는 팁 5가지](https://news.google.com/rss/articles/CBMi2gJBVV95cUxQYzQxQXJTdFNIVkVjYXlNTDVtRHJqUm1hOEl4NWVFSG1hVjZURFJOWFV4elB1dDZ3NVFWSHU1MGc3WnJTUjFwM3hGVnZlcUljNzZDYTVWMDNka2MxMjY0bmdNV3pFQjRuNHRKOGpNang5TjZrdmZqTUlFSkNwZnRhNGhHMGRhem53TnVscnRQekZRUnZkZTlLbml2aXNGc2hLaGZGMVRGVWl0LXNhRm1WSWFJUkNmQnZXLVhJODI0QjhnUTN0ZktoWU0xSVpVbGtFTFpVUllwb1VEMUtXWkt6cnpVd2xjTW5yaFYxWHhlc3htTzJfaG9ra1h1MVhNT0JmZk9jOVd1eFB0UnJ5c1ZMQ1pyU0Q2VmpNVjVsb2VUN00xTzJuVi1LNS1NbzFFajBNTFBLbHlfVnBZcDVhYS1DZ1pyaGZjYlNYVm1JZVV1TDhoRVhrN21YRE1n0gHaAkFVX3lxTFBjNDFBclN0U0hWRWNheU1MNW1EcmpSbWE4SXg1ZUVIbWFWNlREUk5YVXh6UHV0Nnc1UVZIdTUwZzdaclNSMXAzeEZWdmVxSWM3NkNhNVYwM2RrYzEyNjRuZ01XekVCNG40dEo4ak1qeDlONmt2ZmpNSUVKQ3BmdGE0aEcwZGF6bndOdWxydFB6RlFSdmRlOUtuaXZpc0ZzaEtoZkYxVEZVaXQtc2FGbVZJYUlSQ2ZCdlctWEk4MjRCOGdRM3RmS2hZTTFJWlVsa0VMWlVSWXBvVUQxS1daS3pyelV3bGNNbnJoVjFYeGVzeG1PMl9ob2trWHUxWE1PQmZmT2M5V3V4UHRScnlzVkxDWnJTRDZWak1WNWxvZVQ3TTFPMm5WLUs1LU1vMUVqME1MUEtseV9WcFlwNWFhLUNnWnJoZmNiU1hWbUllVXVMOGhFWGs3bVhETWc?oc=5) - CIO.com**\\n   - 생성형 AI의 비즈니스 가치를 높이는 방법에 대한 칼럼입니다.\\n\\n5. **[현대차 투자받은 보스반도체, 차량용 AI 가속기 공개](https://news.google.com/rss/articles/CBMicEFVX3lxTE0wenpQNDRGXzM3clotcG1jSU91YTNlYThLSVJxN2RzME5ldlhsdFBvQmZmN3ZaZ3BnWlNSVlY3V1JXWFhaUjI1R0huQmVWT0FQdkhXS0lvVFB5bHdGSlFNa2tBNEpYbEFFNGtzaHpZRGPSAXRBVV95cUxOMjB3NXcxU01pUlpIRU8xNXBqTXpYZFY2Y2lDUFZSS1hBaTVmXzVYX05tenNDMlFabU92c01RdG1PV2FUM29BeTBWdGlpNDc0U0gxWFB4SFBOdEFUZVQwLWFOWHhfME5UQUt4WGJDdGF1bnVXUg?oc=5) - IT조선**\\n   - 현대차의 투자를 받은 보스반도체가 차량용 AI 가속기를 공개했습니다.\\n\\n이 뉴스들은 AI 투자와 관련된 다양한 주제를 다루고 있습니다.\", additional_kwargs={}, response_metadata={})]}\n",
      "============================================================\n"
     ]
    }
   ],
   "source": [
    "# 스트리밍 모드로 실행.\n",
    "result = agent_executor.stream({\"input\": \"AI 투자와 관련된 뉴스를 검색해 주세요.\"})\n",
    "\n",
    "# 중간 단계 출력\n",
    "for step in result:    \n",
    "    print(step)\n",
    "    print(\"===\" * 20)"
   ]
  },
  {
   "cell_type": "code",
   "execution_count": 14,
   "metadata": {},
   "outputs": [],
   "source": [
    "agent_stream_parser = AgentStreamParser()"
   ]
  },
  {
   "cell_type": "code",
   "execution_count": 15,
   "metadata": {},
   "outputs": [
    {
     "name": "stdout",
     "output_type": "stream",
     "text": [
      "\n",
      "\n",
      "\u001b[1m> Entering new None chain...\u001b[0m\n"
     ]
    },
    {
     "name": "stderr",
     "output_type": "stream",
     "text": [
      "Python REPL can execute arbitrary code. Use with caution.\n"
     ]
    },
    {
     "name": "stdout",
     "output_type": "stream",
     "text": [
      "[도구 호출]\n",
      "Tool: python_repl_tool\n",
      "code: import matplotlib.pyplot as plt\n",
      "\n",
      "# 데이터\n",
      "sizes = [15, 30, 45, 10]\n",
      "labels = ['A', 'B', 'C', 'D']\n",
      "colors = ['gold', 'yellowgreen', 'lightcoral', 'lightskyblue']\n",
      "\n",
      "# 파이 차트 그리기\n",
      "plt.pie(sizes, labels=labels, colors=colors, autopct='%1.1f%%', startangle=140)\n",
      "plt.axis('equal')  # Equal aspect ratio ensures that pie is drawn as a circle.\n",
      "plt.title('Pie Chart Example')\n",
      "\n",
      "# 차트 보여주기\n",
      "plt.show()\n",
      "Log: \n",
      "Invoking: `python_repl_tool` with `{'code': \"import matplotlib.pyplot as plt\\n\\n# 데이터\\nsizes = [15, 30, 45, 10]\\nlabels = ['A', 'B', 'C', 'D']\\ncolors = ['gold', 'yellowgreen', 'lightcoral', 'lightskyblue']\\n\\n# 파이 차트 그리기\\nplt.pie(sizes, labels=labels, colors=colors, autopct='%1.1f%%', startangle=140)\\nplt.axis('equal')  # Equal aspect ratio ensures that pie is drawn as a circle.\\nplt.title('Pie Chart Example')\\n\\n# 차트 보여주기\\nplt.show()\"}`\n",
      "\n",
      "\n",
      "\n",
      "\u001b[32;1m\u001b[1;3m\n",
      "Invoking: `python_repl_tool` with `{'code': \"import matplotlib.pyplot as plt\\n\\n# 데이터\\nsizes = [15, 30, 45, 10]\\nlabels = ['A', 'B', 'C', 'D']\\ncolors = ['gold', 'yellowgreen', 'lightcoral', 'lightskyblue']\\n\\n# 파이 차트 그리기\\nplt.pie(sizes, labels=labels, colors=colors, autopct='%1.1f%%', startangle=140)\\nplt.axis('equal')  # Equal aspect ratio ensures that pie is drawn as a circle.\\nplt.title('Pie Chart Example')\\n\\n# 차트 보여주기\\nplt.show()\"}`\n",
      "\n",
      "\n",
      "\u001b[0m"
     ]
    },
    {
     "data": {
      "image/png": "[encoded data removed]",
      "text/plain": [
       "<Figure size 640x480 with 1 Axes>"
      ]
     },
     "metadata": {},
     "output_type": "display_data"
    },
    {
     "name": "stdout",
     "output_type": "stream",
     "text": [
      "\u001b[33;1m\u001b[1;3m\u001b[0m[관찰 내용]\n",
      "Observation: \n",
      "\u001b[32;1m\u001b[1;3m차트가 성공적으로 그려졌습니다. 위 코드는 Matplotlib을 사용하여 파이 차트를 생성하는 예제입니다. 데이터는 4개의 카테고리(A, B, C, D)로 나누어져 있으며, 각 카테고리의 비율을 시각적으로 표현합니다. \n",
      "\n",
      "차트는 다음과 같은 요소를 포함합니다:\n",
      "- 각 카테고리의 비율을 퍼센트로 표시\n",
      "- 색상으로 각 카테고리를 구분\n",
      "- 원형 비율을 유지하여 차트를 원으로 표시\n",
      "\n",
      "추가적인 질문이 있으시면 말씀해 주세요!\u001b[0m\n",
      "\n",
      "\u001b[1m> Finished chain.\u001b[0m\n",
      "[최종 답변]\n",
      "차트가 성공적으로 그려졌습니다. 위 코드는 Matplotlib을 사용하여 파이 차트를 생성하는 예제입니다. 데이터는 4개의 카테고리(A, B, C, D)로 나누어져 있으며, 각 카테고리의 비율을 시각적으로 표현합니다. \n",
      "\n",
      "차트는 다음과 같은 요소를 포함합니다:\n",
      "- 각 카테고리의 비율을 퍼센트로 표시\n",
      "- 색상으로 각 카테고리를 구분\n",
      "- 원형 비율을 유지하여 차트를 원으로 표시\n",
      "\n",
      "추가적인 질문이 있으시면 말씀해 주세요!\n"
     ]
    }
   ],
   "source": [
    " # 질의에 대한 답변을 스트리밍으로 출력 요청\n",
    "result = agent_executor.stream(\n",
    "    {\"input\": \"matplotlib 을 사용하여 pie 차트를 그리는 코드를 작성하고 실행하세요.\"}\n",
    ")\n",
    "\n",
    "for step in result:\n",
    "    # 중간 단계를 agent_stream_parser 를 사용하여 단계별로 출력\n",
    "    # print(step)\n",
    "    agent_stream_parser.process_agent_steps(step)"
   ]
  },
  {
   "cell_type": "code",
   "execution_count": 16,
   "metadata": {},
   "outputs": [],
   "source": [
    "from langchain_teddynote.messages import AgentCallbacks, AgentStreamParser\n",
    "\n",
    "# 도구 호출 시 실행되는 콜백 함수입니다.\n",
    "def tool_callback(tool) -> None:\n",
    "    print(\"<<<<<<< 도구 호출 >>>>>>\")\n",
    "    print(f\"Tool: {tool.get('tool')}\")  # 사용된 도구의 이름을 출력합니다.\n",
    "    print(\"<<<<<<< 도구 호출 >>>>>>\")\n",
    "\n",
    "\n",
    "# 관찰 결과를 출력하는 콜백 함수입니다.\n",
    "def observation_callback(observation) -> None:\n",
    "    print(\"<<<<<<< 관찰 내용 >>>>>>\")\n",
    "    print(\n",
    "        f\"Observation: {observation.get('observation')[0]}\"\n",
    "    )  # 관찰 내용을 출력합니다.\n",
    "    print(\"<<<<<<< 관찰 내용 >>>>>>\")\n",
    "\n",
    "\n",
    "# 최종 결과를 출력하는 콜백 함수입니다.\n",
    "def result_callback(result: str) -> None:\n",
    "    print(\"<<<<<<< 최종 답변 >>>>>>\")\n",
    "    print(result)  # 최종 답변을 출력합니다.\n",
    "    print(\"<<<<<<< 최종 답변 >>>>>>\")\n",
    "\n",
    "\n",
    "# AgentCallbacks 객체를 생성하여 각 단계별 콜백 함수를 설정합니다.\n",
    "agent_callbacks = AgentCallbacks(\n",
    "    tool_callback=tool_callback,\n",
    "    observation_callback=observation_callback,\n",
    "    result_callback=result_callback,\n",
    ")\n",
    "\n",
    "# AgentStreamParser 객체를 생성하여 에이전트의 실행 과정을 파싱합니다.\n",
    "agent_stream_parser = AgentStreamParser(agent_callbacks)"
   ]
  },
  {
   "cell_type": "code",
   "execution_count": 17,
   "metadata": {},
   "outputs": [
    {
     "name": "stdout",
     "output_type": "stream",
     "text": [
      "\n",
      "\n",
      "\u001b[1m> Entering new None chain...\u001b[0m\n",
      "<<<<<<< 도구 호출 >>>>>>\n",
      "Tool: search_news\n",
      "<<<<<<< 도구 호출 >>>>>>\n",
      "\u001b[32;1m\u001b[1;3m\n",
      "Invoking: `search_news` with `{'query': 'AI 투자'}`\n",
      "\n",
      "\n",
      "\u001b[0m\u001b[36;1m\u001b[1;3m[{'url': 'https://news.google.com/rss/articles/CBMiVkFVX3lxTE9HMzNkMXZaZ0k2ekVETmtLNVI2bVVrQlBkbVE3Ry1IenhrWkR1d2pCeHk1ZnNIVjVSVWx4VDRTdjZxcWtsdlhLYTJ4aFVzQzkyNHhsa2pB?oc=5', 'content': '\"투자·인재·제도 열악한데 AI 3강?\"…韓, 마이너리그 전락 \\'우려\\' - ZD넷 코리아'}, {'url': 'https://news.google.com/rss/articles/CBMickFVX3lxTFA4T3ZXMmM5VUVTSUxsYzhPaktQMWtzcE5VUHlUaUNMV0FpSmVacTRFWjd0TlhYTXVpdWdZNExFcUxWZTZMRmk5RDh0TXVkeVhfcjdXT3JnZzRNWXNkZFRrTkNTbDc3Skx3SHBacW9KeENvQQ?oc=5', 'content': '오픈AI가 픽한 유니콘…‘스픽’ 1100억 투자 유치 - 마켓인'}, {'url': 'https://news.google.com/rss/articles/CBMiZkFVX3lxTE93b21ZV0twWUxEMW1IRk1OQlFmY251Nk0xYlBwblZyTE0wSlRtbzl4N3NHTmJDR1puQ2hoWi1IT2otVEFvNkRzY0t4S0lCSGJGV2l4UFYtNHRDeS0wTGVnbFRnRko5Zw?oc=5', 'content': \"SKT, AI 영상분석 '트웰브랩스'에 300만달러 투자 - 머니투데이\"}, {'url': 'https://news.google.com/rss/articles/CBMi2gJBVV95cUxQYzQxQXJTdFNIVkVjYXlNTDVtRHJqUm1hOEl4NWVFSG1hVjZURFJOWFV4elB1dDZ3NVFWSHU1MGc3WnJTUjFwM3hGVnZlcUljNzZDYTVWMDNka2MxMjY0bmdNV3pFQjRuNHRKOGpNang5TjZrdmZqTUlFSkNwZnRhNGhHMGRhem53TnVscnRQekZRUnZkZTlLbml2aXNGc2hLaGZGMVRGVWl0LXNhRm1WSWFJUkNmQnZXLVhJODI0QjhnUTN0ZktoWU0xSVpVbGtFTFpVUllwb1VEMUtXWkt6cnpVd2xjTW5yaFYxWHhlc3htTzJfaG9ra1h1MVhNT0JmZk9jOVd1eFB0UnJ5c1ZMQ1pyU0Q2VmpNVjVsb2VUN00xTzJuVi1LNS1NbzFFajBNTFBLbHlfVnBZcDVhYS1DZ1pyaGZjYlNYVm1JZVV1TDhoRVhrN21YRE1n0gHaAkFVX3lxTFBjNDFBclN0U0hWRWNheU1MNW1EcmpSbWE4SXg1ZUVIbWFWNlREUk5YVXh6UHV0Nnc1UVZIdTUwZzdaclNSMXAzeEZWdmVxSWM3NkNhNVYwM2RrYzEyNjRuZ01XekVCNG40dEo4ak1qeDlONmt2ZmpNSUVKQ3BmdGE0aEcwZGF6bndOdWxydFB6RlFSdmRlOUtuaXZpc0ZzaEtoZkYxVEZVaXQtc2FGbVZJYUlSQ2ZCdlctWEk4MjRCOGdRM3RmS2hZTTFJWlVsa0VMWlVSWXBvVUQxS1daS3pyelV3bGNNbnJoVjFYeGVzeG1PMl9ob2trWHUxWE1PQmZmT2M5V3V4UHRScnlzVkxDWnJTRDZWak1WNWxvZVQ3TTFPMm5WLUs1LU1vMUVqME1MUEtseV9WcFlwNWFhLUNnWnJoZmNiU1hWbUllVXVMOGhFWGs3bVhETWc?oc=5', 'content': '칼럼 | 이제는 수익을 고민할 때··· 생성형 AI의 비즈니스 가치를 높이는 팁 5가지 - CIO.com'}, {'url': 'https://news.google.com/rss/articles/CBMicEFVX3lxTE0wenpQNDRGXzM3clotcG1jSU91YTNlYThLSVJxN2RzME5ldlhsdFBvQmZmN3ZaZ3BnWlNSVlY3V1JXWFhaUjI1R0huQmVWT0FQdkhXS0lvVFB5bHdGSlFNa2tBNEpYbEFFNGtzaHpZRGPSAXRBVV95cUxOMjB3NXcxU01pUlpIRU8xNXBqTXpYZFY2Y2lDUFZSS1hBaTVmXzVYX05tenNDMlFabU92c01RdG1PV2FUM29BeTBWdGlpNDc0U0gxWFB4SFBOdEFUZVQwLWFOWHhfME5UQUt4WGJDdGF1bnVXUg?oc=5', 'content': '현대차 투자받은 보스반도체, 차량용 AI 가속기 공개 - IT조선'}]\u001b[0m<<<<<<< 관찰 내용 >>>>>>\n",
      "Observation: {'url': 'https://news.google.com/rss/articles/CBMiVkFVX3lxTE9HMzNkMXZaZ0k2ekVETmtLNVI2bVVrQlBkbVE3Ry1IenhrWkR1d2pCeHk1ZnNIVjVSVWx4VDRTdjZxcWtsdlhLYTJ4aFVzQzkyNHhsa2pB?oc=5', 'content': '\"투자·인재·제도 열악한데 AI 3강?\"…韓, 마이너리그 전락 \\'우려\\' - ZD넷 코리아'}\n",
      "<<<<<<< 관찰 내용 >>>>>>\n",
      "\u001b[32;1m\u001b[1;3m다음은 최근 AI 투자와 관련된 뉴스입니다:\n",
      "\n",
      "1. **[투자·인재·제도 열악한데 AI 3강?…韓, 마이너리그 전락 '우려'](https://news.google.com/rss/articles/CBMiVkFVX3lxTE9HMzNkMXZaZ0k2ekVETmtLNVI2bVVrQlBkbVE3Ry1IenhrWkR1d2pCeHk1ZnNIVjVSVWx4VDRTdjZxcWtsdlhLYTJ4aFVzQzkyNHhsa2pB?oc=5) - ZD넷 코리아**\n",
      "   - 한국의 AI 산업이 투자와 인재, 제도가 열악한 상황에서 마이너리그로 전락할 우려가 있다는 내용입니다.\n",
      "\n",
      "2. **[오픈AI가 픽한 유니콘…‘스픽’ 1100억 투자 유치](https://news.google.com/rss/articles/CBMickFVX3lxTFA4T3ZXMmM5VUVTSUxsYzhPaktQMWtzcE5VUHlUaUNMV0FpSmVacTRFWjd0TlhYTXVpdWdZNExFcUxWZTZMRmk5RDh0TXVkeVhfcjdXT3JnZzRNWXNkZFRrTkNTbDc3Skx3SHBacW9KeENvQQ?oc=5) - 마켓인**\n",
      "   - 오픈AI가 선정한 유니콘 기업 '스픽'이 1100억 원의 투자를 유치했다는 소식입니다.\n",
      "\n",
      "3. **[SKT, AI 영상분석 '트웰브랩스'에 300만달러 투자](https://news.google.com/rss/articles/CBMiZkFVX3lxTE93b21ZV0twWUxEMW1IRk1OQlFmY251Nk0xYlBwblZyTE0wSlRtbzl4N3NHTmJDR1puQ2hoWi1IT2otVEFvNkRzY0t4S0lCSGJGV2l4UFYtNHRDeS0wTGVnbFRnRko5Zw?oc=5) - 머니투데이**\n",
      "   - SK텔레콤이 AI 영상 분석 스타트업 '트웰브랩스'에 300만 달러를 투자했다는 뉴스입니다.\n",
      "\n",
      "4. **[칼럼 | 이제는 수익을 고민할 때··· 생성형 AI의 비즈니스 가치를 높이는 팁 5가지](https://news.google.com/rss/articles/CBMi2gJBVV95cUxQYzQxQXJTdFNIVkVjYXlNTDVtRHJqUm1hOEl4NWVFSG1hVjZURFJOWFV4elB1dDZ3NVFWSHU1MGc3WnJTUjFwM3hGVnZlcUljNzZDYTVWMDNka2MxMjY0bmdNV3pFQjRuNHRKOGpNang5TjZrdmZqTUlFSkNwZnRhNGhHMGRhem53TnVscnRQekZRUnZkZTlLbml2aXNGc2hLaGZGMVRGVWl0LXNhRm1WSWFJUkNmQnZXLVhJODI0QjhnUTN0ZktoWU0xSVpVbGtFTFpVUllwb1VEMUtXWkt6cnpVd2xjTW5yaFYxWHhlc3htTzJfaG9ra1h1MVhNT0JmZk9jOVd1eFB0UnJ5c1ZMQ1pyU0Q2VmpNVjVsb2VUN00xTzJuVi1LNS1NbzFFajBNTFBLbHlfVnBZcDVhYS1DZ1pyaGZjYlNYVm1JZVV1TDhoRVhrN21YRE1n0gHaAkFVX3lxTFBjNDFBclN0U0hWRWNheU1MNW1EcmpSbWE4SXg1ZUVIbWFWNlREUk5YVXh6UHV0Nnc1UVZIdTUwZzdaclNSMXAzeEZWdmVxSWM3NkNhNVYwM2RrYzEyNjRuZ01XekVCNG40dEo4ak1qeDlONmt2ZmpNSUVKQ3BmdGE0aEcwZGF6bndOdWxydFB6RlFSdmRlOUtuaXZpc0ZzaEtoZkYxVEZVaXQtc2FGbVZJYUlSQ2ZCdlctWEk4MjRCOGdRM3RmS2hZTTFJWlVsa0VMWlVSWXBvVUQxS1daS3pyelV3bGNNbnJoVjFYeGVzeG1PMl9ob2trWHUxWE1PQmZmT2M5V3V4UHRScnlzVkxDWnJTRDZWak1WNWxvZVQ3TTFPMm5WLUs1LU1vMUVqME1MUEtseV9WcFlwNWFhLUNnWnJoZmNiU1hWbUllVXVMOGhFWGs3bVhETWc?oc=5) - CIO.com**\n",
      "   - 생성형 AI의 비즈니스 가치를 높이는 방법에 대한 칼럼입니다.\n",
      "\n",
      "5. **[현대차 투자받은 보스반도체, 차량용 AI 가속기 공개](https://news.google.com/rss/articles/CBMicEFVX3lxTE0wenpQNDRGXzM3clotcG1jSU91YTNlYThLSVJxN2RzME5ldlhsdFBvQmZmN3ZaZ3BnWlNSVlY3V1JXWFhaUjI1R0huQmVWT0FQdkhXS0lvVFB5bHdGSlFNa2tBNEpYbEFFNGtzaHpZRGPSAXRBVV95cUxOMjB3NXcxU01pUlpIRU8xNXBqTXpYZFY2Y2lDUFZSS1hBaTVmXzVYX05tenNDMlFabU92c01RdG1PV2FUM29BeTBWdGlpNDc0U0gxWFB4SFBOdEFUZVQwLWFOWHhfME5UQUt4WGJDdGF1bnVXUg?oc=5) - IT조선**\n",
      "   - 현대차의 투자를 받은 보스반도체가 차량용 AI 가속기를 공개했다는 소식입니다.\n",
      "\n",
      "이 뉴스들은 AI 투자와 관련된 다양한 주제를 다루고 있습니다.\u001b[0m\n",
      "\n",
      "\u001b[1m> Finished chain.\u001b[0m\n",
      "<<<<<<< 최종 답변 >>>>>>\n",
      "다음은 최근 AI 투자와 관련된 뉴스입니다:\n",
      "\n",
      "1. **[투자·인재·제도 열악한데 AI 3강?…韓, 마이너리그 전락 '우려'](https://news.google.com/rss/articles/CBMiVkFVX3lxTE9HMzNkMXZaZ0k2ekVETmtLNVI2bVVrQlBkbVE3Ry1IenhrWkR1d2pCeHk1ZnNIVjVSVWx4VDRTdjZxcWtsdlhLYTJ4aFVzQzkyNHhsa2pB?oc=5) - ZD넷 코리아**\n",
      "   - 한국의 AI 산업이 투자와 인재, 제도가 열악한 상황에서 마이너리그로 전락할 우려가 있다는 내용입니다.\n",
      "\n",
      "2. **[오픈AI가 픽한 유니콘…‘스픽’ 1100억 투자 유치](https://news.google.com/rss/articles/CBMickFVX3lxTFA4T3ZXMmM5VUVTSUxsYzhPaktQMWtzcE5VUHlUaUNMV0FpSmVacTRFWjd0TlhYTXVpdWdZNExFcUxWZTZMRmk5RDh0TXVkeVhfcjdXT3JnZzRNWXNkZFRrTkNTbDc3Skx3SHBacW9KeENvQQ?oc=5) - 마켓인**\n",
      "   - 오픈AI가 선정한 유니콘 기업 '스픽'이 1100억 원의 투자를 유치했다는 소식입니다.\n",
      "\n",
      "3. **[SKT, AI 영상분석 '트웰브랩스'에 300만달러 투자](https://news.google.com/rss/articles/CBMiZkFVX3lxTE93b21ZV0twWUxEMW1IRk1OQlFmY251Nk0xYlBwblZyTE0wSlRtbzl4N3NHTmJDR1puQ2hoWi1IT2otVEFvNkRzY0t4S0lCSGJGV2l4UFYtNHRDeS0wTGVnbFRnRko5Zw?oc=5) - 머니투데이**\n",
      "   - SK텔레콤이 AI 영상 분석 스타트업 '트웰브랩스'에 300만 달러를 투자했다는 뉴스입니다.\n",
      "\n",
      "4. **[칼럼 | 이제는 수익을 고민할 때··· 생성형 AI의 비즈니스 가치를 높이는 팁 5가지](https://news.google.com/rss/articles/CBMi2gJBVV95cUxQYzQxQXJTdFNIVkVjYXlNTDVtRHJqUm1hOEl4NWVFSG1hVjZURFJOWFV4elB1dDZ3NVFWSHU1MGc3WnJTUjFwM3hGVnZlcUljNzZDYTVWMDNka2MxMjY0bmdNV3pFQjRuNHRKOGpNang5TjZrdmZqTUlFSkNwZnRhNGhHMGRhem53TnVscnRQekZRUnZkZTlLbml2aXNGc2hLaGZGMVRGVWl0LXNhRm1WSWFJUkNmQnZXLVhJODI0QjhnUTN0ZktoWU0xSVpVbGtFTFpVUllwb1VEMUtXWkt6cnpVd2xjTW5yaFYxWHhlc3htTzJfaG9ra1h1MVhNT0JmZk9jOVd1eFB0UnJ5c1ZMQ1pyU0Q2VmpNVjVsb2VUN00xTzJuVi1LNS1NbzFFajBNTFBLbHlfVnBZcDVhYS1DZ1pyaGZjYlNYVm1JZVV1TDhoRVhrN21YRE1n0gHaAkFVX3lxTFBjNDFBclN0U0hWRWNheU1MNW1EcmpSbWE4SXg1ZUVIbWFWNlREUk5YVXh6UHV0Nnc1UVZIdTUwZzdaclNSMXAzeEZWdmVxSWM3NkNhNVYwM2RrYzEyNjRuZ01XekVCNG40dEo4ak1qeDlONmt2ZmpNSUVKQ3BmdGE0aEcwZGF6bndOdWxydFB6RlFSdmRlOUtuaXZpc0ZzaEtoZkYxVEZVaXQtc2FGbVZJYUlSQ2ZCdlctWEk4MjRCOGdRM3RmS2hZTTFJWlVsa0VMWlVSWXBvVUQxS1daS3pyelV3bGNNbnJoVjFYeGVzeG1PMl9ob2trWHUxWE1PQmZmT2M5V3V4UHRScnlzVkxDWnJTRDZWak1WNWxvZVQ3TTFPMm5WLUs1LU1vMUVqME1MUEtseV9WcFlwNWFhLUNnWnJoZmNiU1hWbUllVXVMOGhFWGs3bVhETWc?oc=5) - CIO.com**\n",
      "   - 생성형 AI의 비즈니스 가치를 높이는 방법에 대한 칼럼입니다.\n",
      "\n",
      "5. **[현대차 투자받은 보스반도체, 차량용 AI 가속기 공개](https://news.google.com/rss/articles/CBMicEFVX3lxTE0wenpQNDRGXzM3clotcG1jSU91YTNlYThLSVJxN2RzME5ldlhsdFBvQmZmN3ZaZ3BnWlNSVlY3V1JXWFhaUjI1R0huQmVWT0FQdkhXS0lvVFB5bHdGSlFNa2tBNEpYbEFFNGtzaHpZRGPSAXRBVV95cUxOMjB3NXcxU01pUlpIRU8xNXBqTXpYZFY2Y2lDUFZSS1hBaTVmXzVYX05tenNDMlFabU92c01RdG1PV2FUM29BeTBWdGlpNDc0U0gxWFB4SFBOdEFUZVQwLWFOWHhfME5UQUt4WGJDdGF1bnVXUg?oc=5) - IT조선**\n",
      "   - 현대차의 투자를 받은 보스반도체가 차량용 AI 가속기를 공개했다는 소식입니다.\n",
      "\n",
      "이 뉴스들은 AI 투자와 관련된 다양한 주제를 다루고 있습니다.\n",
      "<<<<<<< 최종 답변 >>>>>>\n"
     ]
    }
   ],
   "source": [
    "# 질의에 대한 답변을 스트리밍으로 출력 요청\n",
    "result = agent_executor.stream({\"input\": \"AI 투자관련 뉴스를 검색해 주세요.\"})\n",
    "\n",
    "for step in result:\n",
    "    # 중간 단계를 parser 를 사용하여 단계별로 출력\n",
    "    agent_stream_parser.process_agent_steps(step)"
   ]
  }
 ],
 "metadata": {
  "kernelspec": {
   "display_name": "venv",
   "language": "python",
   "name": "python3"
  },
  "language_info": {
   "codemirror_mode": {
    "name": "ipython",
    "version": 3
   },
   "file_extension": ".py",
   "mimetype": "text/x-python",
   "name": "python",
   "nbconvert_exporter": "python",
   "pygments_lexer": "ipython3",
   "version": "3.11.9"
  }
 },
 "nbformat": 4,
 "nbformat_minor": 2
}
