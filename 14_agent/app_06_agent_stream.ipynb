{
 "cells": [
  {
   "cell_type": "code",
   "execution_count": 66,
   "metadata": {},
   "outputs": [],
   "source": [
    "from dotenv import load_dotenv\n",
    "import os\n",
    "\n",
    "load_dotenv(verbose=True)\n",
    "key = os.getenv('OPENAI_API_KEY')"
   ]
  },
  {
   "cell_type": "code",
   "execution_count": 67,
   "metadata": {},
   "outputs": [],
   "source": [
    "from langchain_openai import ChatOpenAI\n",
    "from langchain_core.prompts import ChatPromptTemplate"
   ]
  },
  {
   "cell_type": "code",
   "execution_count": 68,
   "metadata": {},
   "outputs": [],
   "source": [
    "from langchain_teddynote.tools import GoogleNews\n",
    "from langchain_experimental.utilities import PythonREPL\n",
    "from typing import List, Dict, Annotated\n",
    "from langchain.tools import tool\n",
    "\n",
    "from langchain.agents import create_tool_calling_agent\n",
    "from langchain.agents import AgentExecutor\n",
    "from langchain_teddynote.messages import AgentStreamParser"
   ]
  },
  {
   "cell_type": "code",
   "execution_count": 69,
   "metadata": {},
   "outputs": [],
   "source": [
    "@tool\n",
    "def search_news(query: str) -> List[Dict[str, str]]:\n",
    "    \"\"\"Search Google News by input keyword\"\"\"\n",
    "    news_tool = GoogleNews()\n",
    "    return news_tool.search_by_keyword(query, k=5)"
   ]
  },
  {
   "cell_type": "code",
   "execution_count": 70,
   "metadata": {},
   "outputs": [],
   "source": [
    "@tool\n",
    "def python_repl_tool(\n",
    "    code: Annotated[str, \"The python code to execute to generate your chart.\"],\n",
    "):\n",
    "    \"\"\"Use this to execute python code. If you want to see the output of a value,\n",
    "    you should print it out with `print(...)`. This is visible to the user.\"\"\"\n",
    "    result = \"\"\n",
    "    try:\n",
    "        result = PythonREPL().run(code)\n",
    "    except BaseException as e:\n",
    "        print(f\"Failed to execute. Error: {repr(e)}\")\n",
    "    finally:\n",
    "        return result"
   ]
  },
  {
   "cell_type": "code",
   "execution_count": 71,
   "metadata": {},
   "outputs": [],
   "source": [
    "tools = [search_news, python_repl_tool]"
   ]
  },
  {
   "cell_type": "code",
   "execution_count": 72,
   "metadata": {},
   "outputs": [],
   "source": [
    "# 프롬프트는 에이전트에게 모델이 수행할 작업을 설명하는 텍스트를 제공합니다. (도구의 이름과 역할을 입력)\n",
    "prompt = ChatPromptTemplate.from_messages(\n",
    "    [\n",
    "        (                                           \n",
    "            \"system\",\n",
    "            \"You are a helpful assistant. \"             \n",
    "            \"Make sure to use the `search_news` tool for searching keyword related news.\"\n",
    "            \"Be sure to use the 'add_function' tool when adding two numbers.\",\n",
    "        ),\n",
    "        (\"placeholder\", \"{chat_history}\"),          # 이전 대화 내용을 넣을 곳을 잡아둔다.\n",
    "        (\"human\", \"{input}\"),                       # 사용자 입력\n",
    "\n",
    "        # 에이전트가 검색하는 과정들이나 내용 등을 끄적이는 메모장 같은 공간을 플레이스 홀더로 만들어준다\n",
    "        (\"placeholder\", \"{agent_scratchpad}\"),       \n",
    "    ]\n",
    ")"
   ]
  },
  {
   "cell_type": "code",
   "execution_count": 73,
   "metadata": {},
   "outputs": [],
   "source": [
    "llm = ChatOpenAI(model=\"gpt-4o-mini\", temperature=0)"
   ]
  },
  {
   "cell_type": "code",
   "execution_count": 74,
   "metadata": {},
   "outputs": [],
   "source": [
    "agent = create_tool_calling_agent(llm, tools, prompt)"
   ]
  },
  {
   "cell_type": "code",
   "execution_count": 75,
   "metadata": {},
   "outputs": [],
   "source": [
    "agent_executor = AgentExecutor(\n",
    "    agent=agent,\n",
    "    tools=tools,\n",
    "    verbose=True,\n",
    "    max_iterations=10,\n",
    "    max_execution_time=10,\n",
    "    handle_parsing_errors=True,\n",
    ")"
   ]
  },
  {
   "cell_type": "code",
   "execution_count": 76,
   "metadata": {},
   "outputs": [
    {
     "name": "stdout",
     "output_type": "stream",
     "text": [
      "\n",
      "\n",
      "\u001b[1m> Entering new None chain...\u001b[0m\n",
      "{'actions': [ToolAgentAction(tool='search_news', tool_input={'query': 'AI 투자'}, log=\"\\nInvoking: `search_news` with `{'query': 'AI 투자'}`\\n\\n\\n\", message_log=[AIMessageChunk(content='', additional_kwargs={'tool_calls': [{'index': 0, 'id': 'call_Gp68QV9JgWSyzgiCt2Q2xFsQ', 'function': {'arguments': '{\"query\":\"AI 투자\"}', 'name': 'search_news'}, 'type': 'function'}]}, response_metadata={'finish_reason': 'tool_calls', 'model_name': 'gpt-4o-mini-2024-07-18', 'system_fingerprint': 'fp_0aa8d3e20b'}, id='run-b8055eb1-cc3f-420e-a9c2-3406199344a1', tool_calls=[{'name': 'search_news', 'args': {'query': 'AI 투자'}, 'id': 'call_Gp68QV9JgWSyzgiCt2Q2xFsQ', 'type': 'tool_call'}], tool_call_chunks=[{'name': 'search_news', 'args': '{\"query\":\"AI 투자\"}', 'id': 'call_Gp68QV9JgWSyzgiCt2Q2xFsQ', 'index': 0, 'type': 'tool_call_chunk'}])], tool_call_id='call_Gp68QV9JgWSyzgiCt2Q2xFsQ')], 'messages': [AIMessageChunk(content='', additional_kwargs={'tool_calls': [{'index': 0, 'id': 'call_Gp68QV9JgWSyzgiCt2Q2xFsQ', 'function': {'arguments': '{\"query\":\"AI 투자\"}', 'name': 'search_news'}, 'type': 'function'}]}, response_metadata={'finish_reason': 'tool_calls', 'model_name': 'gpt-4o-mini-2024-07-18', 'system_fingerprint': 'fp_0aa8d3e20b'}, id='run-b8055eb1-cc3f-420e-a9c2-3406199344a1', tool_calls=[{'name': 'search_news', 'args': {'query': 'AI 투자'}, 'id': 'call_Gp68QV9JgWSyzgiCt2Q2xFsQ', 'type': 'tool_call'}], tool_call_chunks=[{'name': 'search_news', 'args': '{\"query\":\"AI 투자\"}', 'id': 'call_Gp68QV9JgWSyzgiCt2Q2xFsQ', 'index': 0, 'type': 'tool_call_chunk'}])]}\n",
      "============================================================\n",
      "\u001b[32;1m\u001b[1;3m\n",
      "Invoking: `search_news` with `{'query': 'AI 투자'}`\n",
      "\n",
      "\n",
      "\u001b[0m\u001b[36;1m\u001b[1;3m[{'url': 'https://news.google.com/rss/articles/CBMiVkFVX3lxTFAwaHQyLXo3anlpZ3RjY1BtenFYTkZXaGdqSFlpRDhDeFdoVHJXbl94cU53SklZQWQ4V05mOV82aWhBSDdnRThLbDJTNFpxSE1vQkVQM1pR?oc=5', 'content': \"올해는 AI 혁신 확산의 해…新기술로 새해 투자 '청신호' - ZD넷 코리아\"}, {'url': 'https://news.google.com/rss/articles/CBMiZkFVX3lxTE93UHhjaC1nWjFLUk9vNDBjd2otWUs3Q1VHNVc5OGVERENVV25hcUgtUnVwaERKRU9xaUhPaTE3aVEyb0MxaEtHOVhzSnNxQy1BaWR4ckxfVDRYWDNUUEU0eTJ5c1QtZw?oc=5', 'content': \"[단독]AI가 벤처투자 심사했다…SBVA, '알파미' 국내 첫 도입 - 머니투데이\"}, {'url': 'https://news.google.com/rss/articles/CBMicEFVX3lxTE1jSFNpRWx4YUZKcGUwdWlRUnZyLWJUOUJibTlENDY2UF9HcGJlMy03OXVHYnNyYWowVlpjRGQ4N2xMYkw0R2JoU1BvVXJTMnZBeWkzMFJUNWhUZHdBOVBUNkNHNHREUmxqbHN5WnJZUkjSAXRBVV95cUxOVV9xbjYtbmZiZ3gwU1VCRFpDYU1Ta0ZHMmh2S0ZSb2ZKR2VaQ2FlOGpEOEk5MHlRbTFHXzRFZ2Zrak9OOENGT1R1VE5uUkRtS3ZReWRjeElkQWNQdTc5enhtOVdJRUx0azhVbENHQnlQN0xVWQ?oc=5', 'content': \"반도체 업계, AI 투자 둔화 시 '악순환' 가능성 경고 - 연합인포맥스\"}, {'url': 'https://news.google.com/rss/articles/CBMiVkFVX3lxTE5GWTEtdllpZUxzRnljRVk0UUcxNUZNWnhjUE1XNFk4bnN6TVBvQmZfcTc1RU41RGxOYTFUWWNxV1VHWEhYY3RxU3FfeUNNanNmWkdkRy1R?oc=5', 'content': '올해 美 증시 수익률 1위는 758% ‘이 주식’…‘엔비디아 183%’ AI·코인이 달궜다 [투자360] - 헤럴드경제'}, {'url': 'https://news.google.com/rss/articles/CBMiWkFVX3lxTFBqUEo3c1JPWTd6VU0xV0JqMUhQTVNDVnNjOHRIeDE1OGdmMGdjMTRsS0hQZFkzRDdCd2VLWV9NUEI3dVA4XzU3R19QZ3VVaDA5WFZ0aTNNV05rZ9IBVkFVX3lxTE1FbVNKYnlJMXJYQnh3eUt1MUlmMDlMa0paN2xtUGVsX3ZfX18tOGY4QTFrVE81ZFdXZjZrZXgwcGRPRXpoNm1RU0tNYmdIRlBJUGpibjR3?oc=5', 'content': '[韓 AI연말결산] 투자는 58분의 1, 활용은 4분의 1...AI 2군 국가의 현실 - 아주경제'}]\u001b[0m{'steps': [AgentStep(action=ToolAgentAction(tool='search_news', tool_input={'query': 'AI 투자'}, log=\"\\nInvoking: `search_news` with `{'query': 'AI 투자'}`\\n\\n\\n\", message_log=[AIMessageChunk(content='', additional_kwargs={'tool_calls': [{'index': 0, 'id': 'call_Gp68QV9JgWSyzgiCt2Q2xFsQ', 'function': {'arguments': '{\"query\":\"AI 투자\"}', 'name': 'search_news'}, 'type': 'function'}]}, response_metadata={'finish_reason': 'tool_calls', 'model_name': 'gpt-4o-mini-2024-07-18', 'system_fingerprint': 'fp_0aa8d3e20b'}, id='run-b8055eb1-cc3f-420e-a9c2-3406199344a1', tool_calls=[{'name': 'search_news', 'args': {'query': 'AI 투자'}, 'id': 'call_Gp68QV9JgWSyzgiCt2Q2xFsQ', 'type': 'tool_call'}], tool_call_chunks=[{'name': 'search_news', 'args': '{\"query\":\"AI 투자\"}', 'id': 'call_Gp68QV9JgWSyzgiCt2Q2xFsQ', 'index': 0, 'type': 'tool_call_chunk'}])], tool_call_id='call_Gp68QV9JgWSyzgiCt2Q2xFsQ'), observation=[{'url': 'https://news.google.com/rss/articles/CBMiVkFVX3lxTFAwaHQyLXo3anlpZ3RjY1BtenFYTkZXaGdqSFlpRDhDeFdoVHJXbl94cU53SklZQWQ4V05mOV82aWhBSDdnRThLbDJTNFpxSE1vQkVQM1pR?oc=5', 'content': \"올해는 AI 혁신 확산의 해…新기술로 새해 투자 '청신호' - ZD넷 코리아\"}, {'url': 'https://news.google.com/rss/articles/CBMiZkFVX3lxTE93UHhjaC1nWjFLUk9vNDBjd2otWUs3Q1VHNVc5OGVERENVV25hcUgtUnVwaERKRU9xaUhPaTE3aVEyb0MxaEtHOVhzSnNxQy1BaWR4ckxfVDRYWDNUUEU0eTJ5c1QtZw?oc=5', 'content': \"[단독]AI가 벤처투자 심사했다…SBVA, '알파미' 국내 첫 도입 - 머니투데이\"}, {'url': 'https://news.google.com/rss/articles/CBMicEFVX3lxTE1jSFNpRWx4YUZKcGUwdWlRUnZyLWJUOUJibTlENDY2UF9HcGJlMy03OXVHYnNyYWowVlpjRGQ4N2xMYkw0R2JoU1BvVXJTMnZBeWkzMFJUNWhUZHdBOVBUNkNHNHREUmxqbHN5WnJZUkjSAXRBVV95cUxOVV9xbjYtbmZiZ3gwU1VCRFpDYU1Ta0ZHMmh2S0ZSb2ZKR2VaQ2FlOGpEOEk5MHlRbTFHXzRFZ2Zrak9OOENGT1R1VE5uUkRtS3ZReWRjeElkQWNQdTc5enhtOVdJRUx0azhVbENHQnlQN0xVWQ?oc=5', 'content': \"반도체 업계, AI 투자 둔화 시 '악순환' 가능성 경고 - 연합인포맥스\"}, {'url': 'https://news.google.com/rss/articles/CBMiVkFVX3lxTE5GWTEtdllpZUxzRnljRVk0UUcxNUZNWnhjUE1XNFk4bnN6TVBvQmZfcTc1RU41RGxOYTFUWWNxV1VHWEhYY3RxU3FfeUNNanNmWkdkRy1R?oc=5', 'content': '올해 美 증시 수익률 1위는 758% ‘이 주식’…‘엔비디아 183%’ AI·코인이 달궜다 [투자360] - 헤럴드경제'}, {'url': 'https://news.google.com/rss/articles/CBMiWkFVX3lxTFBqUEo3c1JPWTd6VU0xV0JqMUhQTVNDVnNjOHRIeDE1OGdmMGdjMTRsS0hQZFkzRDdCd2VLWV9NUEI3dVA4XzU3R19QZ3VVaDA5WFZ0aTNNV05rZ9IBVkFVX3lxTE1FbVNKYnlJMXJYQnh3eUt1MUlmMDlMa0paN2xtUGVsX3ZfX18tOGY4QTFrVE81ZFdXZjZrZXgwcGRPRXpoNm1RU0tNYmdIRlBJUGpibjR3?oc=5', 'content': '[韓 AI연말결산] 투자는 58분의 1, 활용은 4분의 1...AI 2군 국가의 현실 - 아주경제'}])], 'messages': [FunctionMessage(content='[{\"url\": \"https://news.google.com/rss/articles/CBMiVkFVX3lxTFAwaHQyLXo3anlpZ3RjY1BtenFYTkZXaGdqSFlpRDhDeFdoVHJXbl94cU53SklZQWQ4V05mOV82aWhBSDdnRThLbDJTNFpxSE1vQkVQM1pR?oc=5\", \"content\": \"올해는 AI 혁신 확산의 해…新기술로 새해 투자 \\'청신호\\' - ZD넷 코리아\"}, {\"url\": \"https://news.google.com/rss/articles/CBMiZkFVX3lxTE93UHhjaC1nWjFLUk9vNDBjd2otWUs3Q1VHNVc5OGVERENVV25hcUgtUnVwaERKRU9xaUhPaTE3aVEyb0MxaEtHOVhzSnNxQy1BaWR4ckxfVDRYWDNUUEU0eTJ5c1QtZw?oc=5\", \"content\": \"[단독]AI가 벤처투자 심사했다…SBVA, \\'알파미\\' 국내 첫 도입 - 머니투데이\"}, {\"url\": \"https://news.google.com/rss/articles/CBMicEFVX3lxTE1jSFNpRWx4YUZKcGUwdWlRUnZyLWJUOUJibTlENDY2UF9HcGJlMy03OXVHYnNyYWowVlpjRGQ4N2xMYkw0R2JoU1BvVXJTMnZBeWkzMFJUNWhUZHdBOVBUNkNHNHREUmxqbHN5WnJZUkjSAXRBVV95cUxOVV9xbjYtbmZiZ3gwU1VCRFpDYU1Ta0ZHMmh2S0ZSb2ZKR2VaQ2FlOGpEOEk5MHlRbTFHXzRFZ2Zrak9OOENGT1R1VE5uUkRtS3ZReWRjeElkQWNQdTc5enhtOVdJRUx0azhVbENHQnlQN0xVWQ?oc=5\", \"content\": \"반도체 업계, AI 투자 둔화 시 \\'악순환\\' 가능성 경고 - 연합인포맥스\"}, {\"url\": \"https://news.google.com/rss/articles/CBMiVkFVX3lxTE5GWTEtdllpZUxzRnljRVk0UUcxNUZNWnhjUE1XNFk4bnN6TVBvQmZfcTc1RU41RGxOYTFUWWNxV1VHWEhYY3RxU3FfeUNNanNmWkdkRy1R?oc=5\", \"content\": \"올해 美 증시 수익률 1위는 758% ‘이 주식’…‘엔비디아 183%’ AI·코인이 달궜다 [투자360] - 헤럴드경제\"}, {\"url\": \"https://news.google.com/rss/articles/CBMiWkFVX3lxTFBqUEo3c1JPWTd6VU0xV0JqMUhQTVNDVnNjOHRIeDE1OGdmMGdjMTRsS0hQZFkzRDdCd2VLWV9NUEI3dVA4XzU3R19QZ3VVaDA5WFZ0aTNNV05rZ9IBVkFVX3lxTE1FbVNKYnlJMXJYQnh3eUt1MUlmMDlMa0paN2xtUGVsX3ZfX18tOGY4QTFrVE81ZFdXZjZrZXgwcGRPRXpoNm1RU0tNYmdIRlBJUGpibjR3?oc=5\", \"content\": \"[韓 AI연말결산] 투자는 58분의 1, 활용은 4분의 1...AI 2군 국가의 현실 - 아주경제\"}]', additional_kwargs={}, response_metadata={}, name='search_news')]}\n",
      "============================================================\n",
      "\u001b[32;1m\u001b[1;3m다음은 AI 투자와 관련된 최근 뉴스입니다:\n",
      "\n",
      "1. [올해는 AI 혁신 확산의 해…新기술로 새해 투자 '청신호'](https://news.google.com/rss/articles/CBMiVkFVX3lxTFAwaHQyLXo3anlpZ3RjY1BtenFYTkZXaGdqSFlpRDhDeFdoVHJXbl94cU53SklZQWQ4V05mOV82aWhBSDdnRThLbDJTNFpxSE1vQkVQM1pR?oc=5) - ZD넷 코리아\n",
      "\n",
      "2. [[단독]AI가 벤처투자 심사했다…SBVA, '알파미' 국내 첫 도입](https://news.google.com/rss/articles/CBMiZkFVX3lxTE93UHhjaC1nWjFLUk9vNDBjd2otWUs3Q1VHNVc5OGVERENVV25hcUgtUnVwaERKRU9xaUhPaTE3aVEyb0MxaEtHOVhzSnNxQy1BaWR4ckxfVDRYWDNUUEU0eTJ5c1QtZw?oc=5) - 머니투데이\n",
      "\n",
      "3. [반도체 업계, AI 투자 둔화 시 '악순환' 가능성 경고](https://news.google.com/rss/articles/CBMicEFVX3lxTE1jSFNpRWx4YUZKcGUwdWlRUnZyLWJUOUJibTlENDY2UF9HcGJlMy03OXVHYnNyYWowVlpjRGQ4N2xMYkw0R2JoU1BvVXJTMnZBeWkzMFJUNWhUZHdBOVBUNkNHNHREUmxqbHN5WnJZUkjSAXRBVV95cUxOVV9xbjYtbmZiZ3gwU1VCRFpDYU1Ta0ZHMmh2S0ZSb2ZKR2VaQ2FlOGpEOEk5MHlRbTFHXzRFZ2Zrak9OOENGT1R1VE5uUkRtS3ZReWRjeElkQWNQdTc5enhtOVdJRUx0azhVbENHQnlQN0xVWQ?oc=5) - 연합인포맥스\n",
      "\n",
      "4. [올해 美 증시 수익률 1위는 758% ‘이 주식’…‘엔비디아 183%’ AI·코인이 달궜다 [투자360]](https://news.google.com/rss/articles/CBMiVkFVX3lxTE5GWTEtdllpZUxzRnljRVk0UUcxNUZNWnhjUE1XNFk4bnN6TVBvQmZfcTc1RU41RGxOYTFUWWNxV1VHWEhYY3RxU3FfeUNNanNmWkdkRy1R?oc=5) - 헤럴드경제\n",
      "\n",
      "5. [[韓 AI연말결산] 투자는 58분의 1, 활용은 4분의 1...AI 2군 국가의 현실](https://news.google.com/rss/articles/CBMiWkFVX3lxTFBqUEo3c1JPWTd6VU0xV0JqMUhQTVNDVnNjOHRIeDE1OGdmMGdjMTRsS0hQZFkzRDdCd2VLWV9NUEI3dVA4XzU3R19QZ3VVaDA5WFZ0aTNNV05rZ9IBVkFVX3lxTE1FbVNKYnlJMXJYQnh3eUt1MUlmMDlMa0paN2xtUGVsX3ZfX18tOGY4QTFrVE81ZFdXZjZrZXgwcGRPRXpoNm1RU0tNYmdIRlBJUGpibjR3?oc=5) - 아주경제\n",
      "\n",
      "이 뉴스들은 AI 투자와 관련된 다양한 주제를 다루고 있습니다.\u001b[0m\n",
      "\n",
      "\u001b[1m> Finished chain.\u001b[0m\n",
      "{'output': \"다음은 AI 투자와 관련된 최근 뉴스입니다:\\n\\n1. [올해는 AI 혁신 확산의 해…新기술로 새해 투자 '청신호'](https://news.google.com/rss/articles/CBMiVkFVX3lxTFAwaHQyLXo3anlpZ3RjY1BtenFYTkZXaGdqSFlpRDhDeFdoVHJXbl94cU53SklZQWQ4V05mOV82aWhBSDdnRThLbDJTNFpxSE1vQkVQM1pR?oc=5) - ZD넷 코리아\\n\\n2. [[단독]AI가 벤처투자 심사했다…SBVA, '알파미' 국내 첫 도입](https://news.google.com/rss/articles/CBMiZkFVX3lxTE93UHhjaC1nWjFLUk9vNDBjd2otWUs3Q1VHNVc5OGVERENVV25hcUgtUnVwaERKRU9xaUhPaTE3aVEyb0MxaEtHOVhzSnNxQy1BaWR4ckxfVDRYWDNUUEU0eTJ5c1QtZw?oc=5) - 머니투데이\\n\\n3. [반도체 업계, AI 투자 둔화 시 '악순환' 가능성 경고](https://news.google.com/rss/articles/CBMicEFVX3lxTE1jSFNpRWx4YUZKcGUwdWlRUnZyLWJUOUJibTlENDY2UF9HcGJlMy03OXVHYnNyYWowVlpjRGQ4N2xMYkw0R2JoU1BvVXJTMnZBeWkzMFJUNWhUZHdBOVBUNkNHNHREUmxqbHN5WnJZUkjSAXRBVV95cUxOVV9xbjYtbmZiZ3gwU1VCRFpDYU1Ta0ZHMmh2S0ZSb2ZKR2VaQ2FlOGpEOEk5MHlRbTFHXzRFZ2Zrak9OOENGT1R1VE5uUkRtS3ZReWRjeElkQWNQdTc5enhtOVdJRUx0azhVbENHQnlQN0xVWQ?oc=5) - 연합인포맥스\\n\\n4. [올해 美 증시 수익률 1위는 758% ‘이 주식’…‘엔비디아 183%’ AI·코인이 달궜다 [투자360]](https://news.google.com/rss/articles/CBMiVkFVX3lxTE5GWTEtdllpZUxzRnljRVk0UUcxNUZNWnhjUE1XNFk4bnN6TVBvQmZfcTc1RU41RGxOYTFUWWNxV1VHWEhYY3RxU3FfeUNNanNmWkdkRy1R?oc=5) - 헤럴드경제\\n\\n5. [[韓 AI연말결산] 투자는 58분의 1, 활용은 4분의 1...AI 2군 국가의 현실](https://news.google.com/rss/articles/CBMiWkFVX3lxTFBqUEo3c1JPWTd6VU0xV0JqMUhQTVNDVnNjOHRIeDE1OGdmMGdjMTRsS0hQZFkzRDdCd2VLWV9NUEI3dVA4XzU3R19QZ3VVaDA5WFZ0aTNNV05rZ9IBVkFVX3lxTE1FbVNKYnlJMXJYQnh3eUt1MUlmMDlMa0paN2xtUGVsX3ZfX18tOGY4QTFrVE81ZFdXZjZrZXgwcGRPRXpoNm1RU0tNYmdIRlBJUGpibjR3?oc=5) - 아주경제\\n\\n이 뉴스들은 AI 투자와 관련된 다양한 주제를 다루고 있습니다.\", 'messages': [AIMessage(content=\"다음은 AI 투자와 관련된 최근 뉴스입니다:\\n\\n1. [올해는 AI 혁신 확산의 해…新기술로 새해 투자 '청신호'](https://news.google.com/rss/articles/CBMiVkFVX3lxTFAwaHQyLXo3anlpZ3RjY1BtenFYTkZXaGdqSFlpRDhDeFdoVHJXbl94cU53SklZQWQ4V05mOV82aWhBSDdnRThLbDJTNFpxSE1vQkVQM1pR?oc=5) - ZD넷 코리아\\n\\n2. [[단독]AI가 벤처투자 심사했다…SBVA, '알파미' 국내 첫 도입](https://news.google.com/rss/articles/CBMiZkFVX3lxTE93UHhjaC1nWjFLUk9vNDBjd2otWUs3Q1VHNVc5OGVERENVV25hcUgtUnVwaERKRU9xaUhPaTE3aVEyb0MxaEtHOVhzSnNxQy1BaWR4ckxfVDRYWDNUUEU0eTJ5c1QtZw?oc=5) - 머니투데이\\n\\n3. [반도체 업계, AI 투자 둔화 시 '악순환' 가능성 경고](https://news.google.com/rss/articles/CBMicEFVX3lxTE1jSFNpRWx4YUZKcGUwdWlRUnZyLWJUOUJibTlENDY2UF9HcGJlMy03OXVHYnNyYWowVlpjRGQ4N2xMYkw0R2JoU1BvVXJTMnZBeWkzMFJUNWhUZHdBOVBUNkNHNHREUmxqbHN5WnJZUkjSAXRBVV95cUxOVV9xbjYtbmZiZ3gwU1VCRFpDYU1Ta0ZHMmh2S0ZSb2ZKR2VaQ2FlOGpEOEk5MHlRbTFHXzRFZ2Zrak9OOENGT1R1VE5uUkRtS3ZReWRjeElkQWNQdTc5enhtOVdJRUx0azhVbENHQnlQN0xVWQ?oc=5) - 연합인포맥스\\n\\n4. [올해 美 증시 수익률 1위는 758% ‘이 주식’…‘엔비디아 183%’ AI·코인이 달궜다 [투자360]](https://news.google.com/rss/articles/CBMiVkFVX3lxTE5GWTEtdllpZUxzRnljRVk0UUcxNUZNWnhjUE1XNFk4bnN6TVBvQmZfcTc1RU41RGxOYTFUWWNxV1VHWEhYY3RxU3FfeUNNanNmWkdkRy1R?oc=5) - 헤럴드경제\\n\\n5. [[韓 AI연말결산] 투자는 58분의 1, 활용은 4분의 1...AI 2군 국가의 현실](https://news.google.com/rss/articles/CBMiWkFVX3lxTFBqUEo3c1JPWTd6VU0xV0JqMUhQTVNDVnNjOHRIeDE1OGdmMGdjMTRsS0hQZFkzRDdCd2VLWV9NUEI3dVA4XzU3R19QZ3VVaDA5WFZ0aTNNV05rZ9IBVkFVX3lxTE1FbVNKYnlJMXJYQnh3eUt1MUlmMDlMa0paN2xtUGVsX3ZfX18tOGY4QTFrVE81ZFdXZjZrZXgwcGRPRXpoNm1RU0tNYmdIRlBJUGpibjR3?oc=5) - 아주경제\\n\\n이 뉴스들은 AI 투자와 관련된 다양한 주제를 다루고 있습니다.\", additional_kwargs={}, response_metadata={})]}\n",
      "============================================================\n"
     ]
    }
   ],
   "source": [
    "# 스트리밍 모드로 실행.\n",
    "result = agent_executor.stream({\"input\": \"AI 투자와 관련된 뉴스를 검색해 주세요.\"})\n",
    "\n",
    "# 중간 단계 출력\n",
    "for step in result:    \n",
    "    print(step)\n",
    "    print(\"===\" * 20)"
   ]
  },
  {
   "cell_type": "code",
   "execution_count": 77,
   "metadata": {},
   "outputs": [],
   "source": [
    "agent_stream_parser = AgentStreamParser()"
   ]
  },
  {
   "cell_type": "code",
   "execution_count": 78,
   "metadata": {},
   "outputs": [
    {
     "name": "stdout",
     "output_type": "stream",
     "text": [
      "\n",
      "\n",
      "\u001b[1m> Entering new None chain...\u001b[0m\n"
     ]
    },
    {
     "data": {
      "image/png": "[encoded data removed]",
      "text/plain": [
       "<Figure size 800x600 with 1 Axes>"
      ]
     },
     "metadata": {},
     "output_type": "display_data"
    },
    {
     "name": "stdout",
     "output_type": "stream",
     "text": [
      "[도구 호출]\n",
      "Tool: python_repl_tool\n",
      "code: import matplotlib.pyplot as plt\n",
      "\n",
      "# 데이터\n",
      "sizes = [15, 30, 45, 10]\n",
      "labels = ['A', 'B', 'C', 'D']\n",
      "colors = ['gold', 'lightcoral', 'lightskyblue', 'yellowgreen']\n",
      "\n",
      "# 파이 차트 그리기\n",
      "plt.figure(figsize=(8, 6))\n",
      "plt.pie(sizes, labels=labels, colors=colors, autopct='%1.1f%%', startangle=140)\n",
      "plt.axis('equal')  # Equal aspect ratio ensures that pie is drawn as a circle.\n",
      "plt.title('Pie Chart Example')\n",
      "plt.show()\n",
      "Log: \n",
      "Invoking: `python_repl_tool` with `{'code': \"import matplotlib.pyplot as plt\\n\\n# 데이터\\nsizes = [15, 30, 45, 10]\\nlabels = ['A', 'B', 'C', 'D']\\ncolors = ['gold', 'lightcoral', 'lightskyblue', 'yellowgreen']\\n\\n# 파이 차트 그리기\\nplt.figure(figsize=(8, 6))\\nplt.pie(sizes, labels=labels, colors=colors, autopct='%1.1f%%', startangle=140)\\nplt.axis('equal')  # Equal aspect ratio ensures that pie is drawn as a circle.\\nplt.title('Pie Chart Example')\\nplt.show()\"}`\n",
      "\n",
      "\n",
      "\n",
      "\u001b[32;1m\u001b[1;3m\n",
      "Invoking: `python_repl_tool` with `{'code': \"import matplotlib.pyplot as plt\\n\\n# 데이터\\nsizes = [15, 30, 45, 10]\\nlabels = ['A', 'B', 'C', 'D']\\ncolors = ['gold', 'lightcoral', 'lightskyblue', 'yellowgreen']\\n\\n# 파이 차트 그리기\\nplt.figure(figsize=(8, 6))\\nplt.pie(sizes, labels=labels, colors=colors, autopct='%1.1f%%', startangle=140)\\nplt.axis('equal')  # Equal aspect ratio ensures that pie is drawn as a circle.\\nplt.title('Pie Chart Example')\\nplt.show()\"}`\n",
      "\n",
      "\n",
      "\u001b[0m\u001b[33;1m\u001b[1;3m\u001b[0m[관찰 내용]\n",
      "Observation: \n",
      "\u001b[32;1m\u001b[1;3m코드 실행 결과로 파이 차트가 생성되었습니다. 차트는 다음과 같은 데이터로 구성되어 있습니다:\n",
      "\n",
      "- A: 15%\n",
      "- B: 30%\n",
      "- C: 45%\n",
      "- D: 10%\n",
      "\n",
      "각 섹션은 서로 다른 색상으로 표시되며, 전체 비율이 원형으로 나타납니다. 차트의 제목은 \"Pie Chart Example\"입니다.\u001b[0m\n",
      "\n",
      "\u001b[1m> Finished chain.\u001b[0m\n",
      "[최종 답변]\n",
      "코드 실행 결과로 파이 차트가 생성되었습니다. 차트는 다음과 같은 데이터로 구성되어 있습니다:\n",
      "\n",
      "- A: 15%\n",
      "- B: 30%\n",
      "- C: 45%\n",
      "- D: 10%\n",
      "\n",
      "각 섹션은 서로 다른 색상으로 표시되며, 전체 비율이 원형으로 나타납니다. 차트의 제목은 \"Pie Chart Example\"입니다.\n"
     ]
    }
   ],
   "source": [
    " # 질의에 대한 답변을 스트리밍으로 출력 요청\n",
    "result = agent_executor.stream(\n",
    "    {\"input\": \"matplotlib 을 사용하여 pie 차트를 그리는 코드를 작성하고 실행하세요.\"}\n",
    ")\n",
    "\n",
    "for step in result:\n",
    "    # 중간 단계를 agent_stream_parser 를 사용하여 단계별로 출력\n",
    "    # print(step)\n",
    "    agent_stream_parser.process_agent_steps(step)"
   ]
  },
  {
   "cell_type": "code",
   "execution_count": 79,
   "metadata": {},
   "outputs": [],
   "source": [
    "from langchain_teddynote.messages import AgentCallbacks, AgentStreamParser\n",
    "\n",
    "# 도구 호출 시 실행되는 콜백 함수입니다.\n",
    "def tool_callback(tool) -> None:\n",
    "    print(\"<<<<<<< 도구 호출 >>>>>>\")\n",
    "    print(f\"Tool: {tool.get('tool')}\")  # 사용된 도구의 이름을 출력합니다.\n",
    "    print(\"<<<<<<< 도구 호출 >>>>>>\")\n",
    "\n",
    "\n",
    "# 관찰 결과를 출력하는 콜백 함수입니다.\n",
    "def observation_callback(observation) -> None:\n",
    "    print(\"<<<<<<< 관찰 내용 >>>>>>\")\n",
    "    print(\n",
    "        f\"Observation: {observation.get('observation')[0]}\"\n",
    "    )  # 관찰 내용을 출력합니다.\n",
    "\n",
    "    print(\"<<<<<<< 관찰 내용 >>>>>>\")\n",
    "\n",
    "\n",
    "# 최종 결과를 출력하는 콜백 함수입니다.\n",
    "def result_callback(result: str) -> None:\n",
    "    print(\"<<<<<<< 최종 답변 >>>>>>\")\n",
    "    print(result)  # 최종 답변을 출력합니다.\n",
    "    print(\"<<<<<<< 최종 답변 >>>>>>\")\n",
    "\n",
    "\n",
    "# AgentCallbacks 객체를 생성하여 각 단계별 콜백 함수를 설정합니다.\n",
    "agent_callbacks = AgentCallbacks(\n",
    "    tool_callback=tool_callback,\n",
    "    observation_callback=observation_callback,\n",
    "    result_callback=result_callback,\n",
    ")\n",
    "\n",
    "# AgentStreamParser 객체를 생성하여 에이전트의 실행 과정을 파싱합니다.\n",
    "agent_stream_parser = AgentStreamParser(agent_callbacks)"
   ]
  },
  {
   "cell_type": "code",
   "execution_count": 80,
   "metadata": {},
   "outputs": [
    {
     "name": "stdout",
     "output_type": "stream",
     "text": [
      "\n",
      "\n",
      "\u001b[1m> Entering new None chain...\u001b[0m\n",
      "<<<<<<< 도구 호출 >>>>>>\n",
      "Tool: search_news\n",
      "<<<<<<< 도구 호출 >>>>>>\n",
      "\u001b[32;1m\u001b[1;3m\n",
      "Invoking: `search_news` with `{'query': 'AI 투자'}`\n",
      "\n",
      "\n",
      "\u001b[0m\u001b[36;1m\u001b[1;3m[{'url': 'https://news.google.com/rss/articles/CBMiVkFVX3lxTFAwaHQyLXo3anlpZ3RjY1BtenFYTkZXaGdqSFlpRDhDeFdoVHJXbl94cU53SklZQWQ4V05mOV82aWhBSDdnRThLbDJTNFpxSE1vQkVQM1pR?oc=5', 'content': \"올해는 AI 혁신 확산의 해…新기술로 새해 투자 '청신호' - ZD넷 코리아\"}, {'url': 'https://news.google.com/rss/articles/CBMiZkFVX3lxTE93UHhjaC1nWjFLUk9vNDBjd2otWUs3Q1VHNVc5OGVERENVV25hcUgtUnVwaERKRU9xaUhPaTE3aVEyb0MxaEtHOVhzSnNxQy1BaWR4ckxfVDRYWDNUUEU0eTJ5c1QtZw?oc=5', 'content': \"[단독]AI가 벤처투자 심사했다…SBVA, '알파미' 국내 첫 도입 - 머니투데이\"}, {'url': 'https://news.google.com/rss/articles/CBMicEFVX3lxTE1jSFNpRWx4YUZKcGUwdWlRUnZyLWJUOUJibTlENDY2UF9HcGJlMy03OXVHYnNyYWowVlpjRGQ4N2xMYkw0R2JoU1BvVXJTMnZBeWkzMFJUNWhUZHdBOVBUNkNHNHREUmxqbHN5WnJZUkjSAXRBVV95cUxOVV9xbjYtbmZiZ3gwU1VCRFpDYU1Ta0ZHMmh2S0ZSb2ZKR2VaQ2FlOGpEOEk5MHlRbTFHXzRFZ2Zrak9OOENGT1R1VE5uUkRtS3ZReWRjeElkQWNQdTc5enhtOVdJRUx0azhVbENHQnlQN0xVWQ?oc=5', 'content': \"반도체 업계, AI 투자 둔화 시 '악순환' 가능성 경고 - 연합인포맥스\"}, {'url': 'https://news.google.com/rss/articles/CBMiVkFVX3lxTE5GWTEtdllpZUxzRnljRVk0UUcxNUZNWnhjUE1XNFk4bnN6TVBvQmZfcTc1RU41RGxOYTFUWWNxV1VHWEhYY3RxU3FfeUNNanNmWkdkRy1R?oc=5', 'content': '올해 美 증시 수익률 1위는 758% ‘이 주식’…‘엔비디아 183%’ AI·코인이 달궜다 [투자360] - 헤럴드경제'}, {'url': 'https://news.google.com/rss/articles/CBMiWkFVX3lxTFBqUEo3c1JPWTd6VU0xV0JqMUhQTVNDVnNjOHRIeDE1OGdmMGdjMTRsS0hQZFkzRDdCd2VLWV9NUEI3dVA4XzU3R19QZ3VVaDA5WFZ0aTNNV05rZ9IBVkFVX3lxTE1FbVNKYnlJMXJYQnh3eUt1MUlmMDlMa0paN2xtUGVsX3ZfX18tOGY4QTFrVE81ZFdXZjZrZXgwcGRPRXpoNm1RU0tNYmdIRlBJUGpibjR3?oc=5', 'content': '[韓 AI연말결산] 투자는 58분의 1, 활용은 4분의 1...AI 2군 국가의 현실 - 아주경제'}]\u001b[0m<<<<<<< 관찰 내용 >>>>>>\n",
      "Observation: {'url': 'https://news.google.com/rss/articles/CBMiVkFVX3lxTFAwaHQyLXo3anlpZ3RjY1BtenFYTkZXaGdqSFlpRDhDeFdoVHJXbl94cU53SklZQWQ4V05mOV82aWhBSDdnRThLbDJTNFpxSE1vQkVQM1pR?oc=5', 'content': \"올해는 AI 혁신 확산의 해…新기술로 새해 투자 '청신호' - ZD넷 코리아\"}\n",
      "<<<<<<< 관찰 내용 >>>>>>\n",
      "\u001b[32;1m\u001b[1;3m다음은 AI 투자와 관련된 최근 뉴스 기사들입니다:\n",
      "\n",
      "1. [올해는 AI 혁신 확산의 해…新기술로 새해 투자 '청신호' - ZD넷 코리아](https://news.google.com/rss/articles/CBMiVkFVX3lxTFAwaHQyLXo3anlpZ3RjY1BtenFYTkZXaGdqSFlpRDhDeFdoVHJXbl94cU53SklZQWQ4V05mOV82aWhBSDdnRThLbDJTNFpxSE1vQkVQM1pR?oc=5)\n",
      "\n",
      "2. [[단독]AI가 벤처투자 심사했다…SBVA, '알파미' 국내 첫 도입 - 머니투데이](https://news.google.com/rss/articles/CBMiZkFVX3lxTE93UHhjaC1nWjFLUk9vNDBjd2otWUs3Q1VHNVc5OGVERENVV25hcUgtUnVwaERKRU9xaUhPaTE3aVEyb0MxaEtHOVhzSnNxQy1BaWR4ckxfVDRYWDNUUEU0eTJ5c1QtZw?oc=5)\n",
      "\n",
      "3. [반도체 업계, AI 투자 둔화 시 '악순환' 가능성 경고 - 연합인포맥스](https://news.google.com/rss/articles/CBMicEFVX3lxTE1jSFNpRWx4YUZKcGUwdWlRUnZyLWJUOUJibTlENDY2UF9HcGJlMy03OXVHYnNyYWowVlpjRGQ4N2xMYkw0R2JoU1BvVXJTMnZBeWkzMFJUNWhUZHdBOVBUNkNHNHREUmxqbHN5WnJZUkjSAXRBVV95cUxOVV9xbjYtbmZiZ3gwU1VCRFpDYU1Ta0ZHMmh2S0ZSb2ZKR2VaQ2FlOGpEOEk5MHlRbTFHXzRFZ2Zrak9OOENGT1R1VE5uUkRtS3ZReWRjeElkQWNQdTc5enhtOVdJRUx0azhVbENHQnlQN0xVWQ?oc=5)\n",
      "\n",
      "4. [올해 美 증시 수익률 1위는 758% ‘이 주식’…‘엔비디아 183%’ AI·코인이 달궜다 [투자360] - 헤럴드경제](https://news.google.com/rss/articles/CBMiVkFVX3lxTE5GWTEtdllpZUxzRnljRVk0UUcxNUZNWnhjUE1XNFk4bnN6TVBvQmZfcTc1RU41RGxOYTFUWWNxV1VHWEhYY3RxU3FfeUNNanNmWkdkRy1R?oc=5)\n",
      "\n",
      "5. [[韓 AI연말결산] 투자는 58분의 1, 활용은 4분의 1...AI 2군 국가의 현실 - 아주경제](https://news.google.com/rss/articles/CBMiWkFVX3lxTFBqUEo3c1JPWTd6VU0xV0JqMUhQTVNDVnNjOHRIeDE1OGdmMGdjMTRsS0hQZFkzRDdCd2VLWV9NUEI3dVA4XzU3R19QZ3VVaDA5WFZ0aTNNV05rZ9IBVkFVX3lxTE1FbVNKYnlJMXJYQnh3eUt1MUlmMDlMa0paN2xtUGVsX3ZfX18tOGY4QTFrVE81ZFdXZjZrZXgwcGRPRXpoNm1RU0tNYmdIRlBJUGpibjR3?oc=5)\n",
      "\n",
      "이 기사들을 통해 AI 투자에 대한 다양한 관점과 최신 동향을 확인할 수 있습니다.\u001b[0m\n",
      "\n",
      "\u001b[1m> Finished chain.\u001b[0m\n",
      "<<<<<<< 최종 답변 >>>>>>\n",
      "다음은 AI 투자와 관련된 최근 뉴스 기사들입니다:\n",
      "\n",
      "1. [올해는 AI 혁신 확산의 해…新기술로 새해 투자 '청신호' - ZD넷 코리아](https://news.google.com/rss/articles/CBMiVkFVX3lxTFAwaHQyLXo3anlpZ3RjY1BtenFYTkZXaGdqSFlpRDhDeFdoVHJXbl94cU53SklZQWQ4V05mOV82aWhBSDdnRThLbDJTNFpxSE1vQkVQM1pR?oc=5)\n",
      "\n",
      "2. [[단독]AI가 벤처투자 심사했다…SBVA, '알파미' 국내 첫 도입 - 머니투데이](https://news.google.com/rss/articles/CBMiZkFVX3lxTE93UHhjaC1nWjFLUk9vNDBjd2otWUs3Q1VHNVc5OGVERENVV25hcUgtUnVwaERKRU9xaUhPaTE3aVEyb0MxaEtHOVhzSnNxQy1BaWR4ckxfVDRYWDNUUEU0eTJ5c1QtZw?oc=5)\n",
      "\n",
      "3. [반도체 업계, AI 투자 둔화 시 '악순환' 가능성 경고 - 연합인포맥스](https://news.google.com/rss/articles/CBMicEFVX3lxTE1jSFNpRWx4YUZKcGUwdWlRUnZyLWJUOUJibTlENDY2UF9HcGJlMy03OXVHYnNyYWowVlpjRGQ4N2xMYkw0R2JoU1BvVXJTMnZBeWkzMFJUNWhUZHdBOVBUNkNHNHREUmxqbHN5WnJZUkjSAXRBVV95cUxOVV9xbjYtbmZiZ3gwU1VCRFpDYU1Ta0ZHMmh2S0ZSb2ZKR2VaQ2FlOGpEOEk5MHlRbTFHXzRFZ2Zrak9OOENGT1R1VE5uUkRtS3ZReWRjeElkQWNQdTc5enhtOVdJRUx0azhVbENHQnlQN0xVWQ?oc=5)\n",
      "\n",
      "4. [올해 美 증시 수익률 1위는 758% ‘이 주식’…‘엔비디아 183%’ AI·코인이 달궜다 [투자360] - 헤럴드경제](https://news.google.com/rss/articles/CBMiVkFVX3lxTE5GWTEtdllpZUxzRnljRVk0UUcxNUZNWnhjUE1XNFk4bnN6TVBvQmZfcTc1RU41RGxOYTFUWWNxV1VHWEhYY3RxU3FfeUNNanNmWkdkRy1R?oc=5)\n",
      "\n",
      "5. [[韓 AI연말결산] 투자는 58분의 1, 활용은 4분의 1...AI 2군 국가의 현실 - 아주경제](https://news.google.com/rss/articles/CBMiWkFVX3lxTFBqUEo3c1JPWTd6VU0xV0JqMUhQTVNDVnNjOHRIeDE1OGdmMGdjMTRsS0hQZFkzRDdCd2VLWV9NUEI3dVA4XzU3R19QZ3VVaDA5WFZ0aTNNV05rZ9IBVkFVX3lxTE1FbVNKYnlJMXJYQnh3eUt1MUlmMDlMa0paN2xtUGVsX3ZfX18tOGY4QTFrVE81ZFdXZjZrZXgwcGRPRXpoNm1RU0tNYmdIRlBJUGpibjR3?oc=5)\n",
      "\n",
      "이 기사들을 통해 AI 투자에 대한 다양한 관점과 최신 동향을 확인할 수 있습니다.\n",
      "<<<<<<< 최종 답변 >>>>>>\n"
     ]
    }
   ],
   "source": [
    "# 질의에 대한 답변을 스트리밍으로 출력 요청\n",
    "result = agent_executor.stream({\"input\": \"AI 투자관련 뉴스를 검색해 주세요.\"})\n",
    "\n",
    "for step in result:\n",
    "    # 중간 단계를 parser 를 사용하여 단계별로 출력\n",
    "    agent_stream_parser.process_agent_steps(step)"
   ]
  }
 ],
 "metadata": {
  "kernelspec": {
   "display_name": "venv",
   "language": "python",
   "name": "python3"
  },
  "language_info": {
   "codemirror_mode": {
    "name": "ipython",
    "version": 3
   },
   "file_extension": ".py",
   "mimetype": "text/x-python",
   "name": "python",
   "nbconvert_exporter": "python",
   "pygments_lexer": "ipython3",
   "version": "3.11.9"
  }
 },
 "nbformat": 4,
 "nbformat_minor": 2
}
