{
 "cells": [
  {
   "cell_type": "code",
   "execution_count": 1,
   "metadata": {},
   "outputs": [],
   "source": [
    "from dotenv import load_dotenv\n",
    "import os\n",
    "\n",
    "load_dotenv(verbose=True)\n",
    "key = os.getenv('OPENAI_API_KEY')"
   ]
  },
  {
   "cell_type": "code",
   "execution_count": 2,
   "metadata": {},
   "outputs": [],
   "source": [
    "import os\n",
    "\n",
    "if not os.path.exists(\"tmp\"):\n",
    "    os.mkdir(\"tmp\")"
   ]
  },
  {
   "cell_type": "markdown",
   "metadata": {},
   "source": [
    "### ***FileManagementToolkit***\n",
    "\n",
    "`FileManagementToolkit` 은 사용자 컴퓨터의 파일 관리를 위한 도구 모음입니다. <br>\n",
    "\n",
    "**파일 관리 도구들** \n",
    "\n",
    "- CopyFileTool: 파일 복사\n",
    "- DeleteFileTool: 파일 삭제\n",
    "- FileSearchTool: 파일 검색\n",
    "- MoveFileTool: 파일 이동\n",
    "- ReadFileTool: 파일 읽기\n",
    "- WriteFileTool: 파일 쓰기\n",
    "- ListDirectoryTool: 디렉토리 목록 조회\n",
    "\n",
    "**설정**\n",
    "\n",
    "- root_dir: 파일 작업의 루트 디렉토리 설정 가능\n",
    "- selected_tools: 특정 도구만 선택적으로 사용 가능\n",
    "\n",
    "**동적 도구 생성**\n",
    "\n",
    "- get_tools 메서드로 선택된 도구들의 인스턴스 생성"
   ]
  },
  {
   "cell_type": "code",
   "execution_count": 3,
   "metadata": {},
   "outputs": [],
   "source": [
    "# FileManagementToolkit을 가져옵니다. 이 도구는 파일 관리 작업을 수행하는 데 사용됩니다.\n",
    "from langchain_community.agent_toolkits import FileManagementToolkit"
   ]
  },
  {
   "cell_type": "code",
   "execution_count": 4,
   "metadata": {},
   "outputs": [],
   "source": [
    "# 작업 디렉토리로 설정\n",
    "working_directory = 'tmp'"
   ]
  },
  {
   "cell_type": "code",
   "execution_count": 5,
   "metadata": {},
   "outputs": [],
   "source": [
    "# FileManagementToolkit 객체를 생성합니다.\n",
    "# root_dir 매개변수에 작업 디렉토리를 지정하여 모든 파일 작업이 이 디렉토리 내에서 이루어지도록 합니다.\n",
    "toolkit = FileManagementToolkit(root_dir=str(working_directory))"
   ]
  },
  {
   "cell_type": "code",
   "execution_count": 6,
   "metadata": {},
   "outputs": [],
   "source": [
    "# toolkit.get_tools() 메소드를 호출하여 사용 가능한 모든 파일 관리 도구를 가져옵니다.\n",
    "# 이 도구들은 파일 복사, 삭제, 검색, 이동, 읽기, 쓰기, 디렉토리 목록 조회 등의 기능을 제공합니다.\n",
    "available_tools = toolkit.get_tools()"
   ]
  },
  {
   "cell_type": "code",
   "execution_count": 7,
   "metadata": {},
   "outputs": [
    {
     "name": "stdout",
     "output_type": "stream",
     "text": [
      "[사용 가능한 파일 관리 도구들]\n",
      "- copy_file: Create a copy of a file in a specified location\n",
      "- file_delete: Delete a file\n",
      "- file_search: Recursively search for files in a subdirectory that match the regex pattern\n",
      "- move_file: Move or rename a file from one location to another\n",
      "- read_file: Read file from disk\n",
      "- write_file: Write file to disk\n",
      "- list_directory: List files and directories in a specified folder\n"
     ]
    }
   ],
   "source": [
    "print(\"[사용 가능한 파일 관리 도구들]\")     \n",
    "\n",
    "for tool in available_tools:    # 사용 가능한 도구들의 이름을 출력합니다.\n",
    "    print(f\"- {tool.name}: {tool.description}\")"
   ]
  },
  {
   "cell_type": "code",
   "execution_count": 8,
   "metadata": {},
   "outputs": [],
   "source": [
    "# 도구 중 일부만 지정하여 선택하는 것도 가능합니다\n",
    "tools = FileManagementToolkit(\n",
    "    root_dir=str(working_directory),\n",
    "    selected_tools=[\"read_file\", \"file_delete\", \"write_file\", \"list_directory\"],\n",
    ").get_tools()"
   ]
  },
  {
   "cell_type": "code",
   "execution_count": 9,
   "metadata": {},
   "outputs": [],
   "source": [
    "read_tool, delete_tool, write_tool, list_tool = tools"
   ]
  },
  {
   "cell_type": "code",
   "execution_count": 10,
   "metadata": {},
   "outputs": [
    {
     "data": {
      "text/plain": [
       "'File written successfully to example.txt.'"
      ]
     },
     "execution_count": 10,
     "metadata": {},
     "output_type": "execute_result"
    }
   ],
   "source": [
    "# 파일 쓰기\n",
    "write_tool.invoke({\"file_path\": \"example.txt\", 'encoding':'utf-8',\"text\": \"안녕하세요.\"})"
   ]
  },
  {
   "cell_type": "code",
   "execution_count": 11,
   "metadata": {},
   "outputs": [
    {
     "name": "stdout",
     "output_type": "stream",
     "text": [
      "example.txt\n",
      "⚖️_윤_대통령_불출석에_대응_고심.txt\n",
      "📜_헌재_尹_포고령_국무회의_회의록_제출_안했다.txt\n",
      "📢_김동연_韓권한대행_내란_연장_선언.txt\n",
      "📰_내란대행_한덕수_석달_전_본심_인터뷰.txt\n",
      "🔍_단독_노상원_장군_못될_이름_개명.txt\n"
     ]
    }
   ],
   "source": [
    "print(list_tool.invoke({}))     # 파일 목록 조회"
   ]
  },
  {
   "cell_type": "code",
   "execution_count": 12,
   "metadata": {},
   "outputs": [
    {
     "name": "stdout",
     "output_type": "stream",
     "text": [
      "File deleted successfully: example.txt.\n"
     ]
    }
   ],
   "source": [
    "print(delete_tool.invoke({\"file_path\": \"example.txt\"}))     # 파일 삭제"
   ]
  },
  {
   "cell_type": "code",
   "execution_count": 13,
   "metadata": {},
   "outputs": [
    {
     "name": "stdout",
     "output_type": "stream",
     "text": [
      "⚖️_윤_대통령_불출석에_대응_고심.txt\n",
      "📜_헌재_尹_포고령_국무회의_회의록_제출_안했다.txt\n",
      "📢_김동연_韓권한대행_내란_연장_선언.txt\n",
      "📰_내란대행_한덕수_석달_전_본심_인터뷰.txt\n",
      "🔍_단독_노상원_장군_못될_이름_개명.txt\n"
     ]
    }
   ],
   "source": [
    "print(list_tool.invoke({}))     # 파일 목록 조회"
   ]
  }
 ],
 "metadata": {
  "kernelspec": {
   "display_name": "venv",
   "language": "python",
   "name": "python3"
  },
  "language_info": {
   "codemirror_mode": {
    "name": "ipython",
    "version": 3
   },
   "file_extension": ".py",
   "mimetype": "text/x-python",
   "name": "python",
   "nbconvert_exporter": "python",
   "pygments_lexer": "ipython3",
   "version": "3.11.9"
  }
 },
 "nbformat": 4,
 "nbformat_minor": 2
}
