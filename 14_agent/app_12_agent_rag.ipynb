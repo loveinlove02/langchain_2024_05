{
 "cells": [
  {
   "cell_type": "code",
   "execution_count": 44,
   "metadata": {},
   "outputs": [],
   "source": [
    "from dotenv import load_dotenv\n",
    "import os\n",
    "\n",
    "load_dotenv(verbose=True)\n",
    "key = os.getenv('OPENAI_API_KEY')"
   ]
  },
  {
   "cell_type": "markdown",
   "metadata": {},
   "source": [
    "### **Agentic Rag**\n",
    "\n",
    "**질문에 따라 문서를 검색하여 답변하거나, 인터넷 검색 도구를 활용하여 답변하는 에이전트**\n",
    "\n",
    " Agent 를 활용하여 RAG 를 수행해서 Agentic RAG \n",
    " \n",
    " <br>\n",
    "\n",
    " ### **도구(tools)**\n",
    "\n",
    "Tavily Search 는 Agent 가 활용할 도구를 정의하여 Agent 가 추론(reasoning)을 수행할 때 활용할수 있는 검색 도구입니다. <br>\n",
    "검색을 통해 최신 정보에 접근하여 검색 결과를 가지고 답변을 생성할 수 있습니다. <br><br>\n",
    "도구는 이처럼 Tavily Search 와 같은 검색 도구 뿐만아니라 Python 코드를 실행할 수 있는 도구, 직접 정의한 함수를 실행하는 도구 등이 있습니다. <br><br>"
   ]
  },
  {
   "cell_type": "markdown",
   "metadata": {},
   "source": [
    "### **웹 검색도구: Tavily Search**"
   ]
  },
  {
   "cell_type": "code",
   "execution_count": 45,
   "metadata": {},
   "outputs": [],
   "source": [
    "from langchain_community.tools.tavily_search import TavilySearchResults"
   ]
  },
  {
   "cell_type": "markdown",
   "metadata": {},
   "source": [
    "도구 생성"
   ]
  },
  {
   "cell_type": "code",
   "execution_count": 46,
   "metadata": {},
   "outputs": [],
   "source": [
    "search  = TavilySearchResults(k=6)      # 검색 결과를 6개까지 가져오겠다"
   ]
  },
  {
   "cell_type": "markdown",
   "metadata": {},
   "source": [
    "`search.invoke()` 는 주어진 문자열에 대한 검색을 실행합니다."
   ]
  },
  {
   "cell_type": "code",
   "execution_count": 47,
   "metadata": {},
   "outputs": [
    {
     "data": {
      "text/plain": [
       "[{'url': 'http://www.dealbada.com/bbs/board.php?bo_table=forum_golf&wr_id=1213729',\n",
       "  'content': '폐업예정 카카오프렌즈골프 아지트 다녀온후기 ... 네이버에 전화번호 나오는데, 031-7967508 요거로나옵니다~~ 0 0 . 궁그미님의 댓글. 궁그미'},\n",
       " {'url': 'https://m.blog.naver.com/jsm12368/222621770154',\n",
       "  'content': '카카오 프렌즈 샵 (신세계 8층) 대구 신세계백화점 / 대구 카카오 프렌즈샵. 영업시간. 금,토,일요일 10:30~20:30. 월~목요일 10:30~20:00. 전화'},\n",
       " {'url': 'https://www.tiendeo.co.kr/매장/대구광역시/카카오프렌즈',\n",
       "  'content': '관심 있는 지점을 클릭하면 지점의 주소, 전화번호와 영업시간과 온라인에서 제공되는 모든 정보를 한눈에 볼 수 있습니다. 또한 대구광역시에서 최신 카카오프렌즈 카탈로그를 살펴보고 \"블랙프렌즈데이\" 기간 28/11에서~ 3/12까지 유효합니다 할인 혜택을 받으세요!'},\n",
       " {'url': 'https://www.tiendeo.co.kr/매장/중구-대구광역시/카카오프렌즈',\n",
       "  'content': '중구 - 대구광역시 카카오프렌즈 영업시간,전화번호 및 주소 보기 ⌕ 원하시는 생활용품·서비스·가구 브랜드를 Tiendeo에서 확인하세요! ... 전화번호와 영업시간과 온라인에서 제공되는 모든 정보를 한눈에 볼 수 있습니다. 뉴스레터에 가입하여 중구 - 대구'},\n",
       " {'url': 'https://m.blog.naver.com/celina_827/222924602339',\n",
       "  'content': '너무 귀여운 카카오 속 세상이예요ㅠㅠ\\n\\u200b\\n경기도 성남시 분당구 판교역로 166\\n💬카카오프렌즈샵 아지트점은\\n판교역 1번 출구, 4번 출구를 이용하셔도 되고,\\n지하통로로도 연결되어있으니 참고 하세요!\\n\\u200b\\n💬영업시간\\n월 -금 10 : 00 ~ 21 : 00\\n토 - 일 12 : 00 ~ 20 : 00\\n\\u200b\\n\\u200b\\n소소한 episode가 있는 일상, 정보, 맛집을 포스팅하는 셀리나 입니다 ( ੭ ･ᴗ･ )੭\\n이 블로그\\nPANGYO LIFE\\n카테고리 글\\n카테고리\\n이 블로그\\nPANGYO LIFE\\n카테고리 글 \\u200b\\n근데 저 손잡은 춘식이 너무 귀여운거 아니냐구요 ㅠㅠ\\n크리스마스 맞이 산타 라이언🎄\\n폭신한 라이언 바디 필로우 사고싶지만\\n99.000원💸\\n핳 너무 비싸당 ㅎㅎㅎㅎ\\n아이패드파우치, 폰 거치대, 에어팟케이스 많지만\\n전...ㅎ 마우스 패드 살까 말까 고민 엄청했어요\\n\\u200b\\n근데 과연 사이즈가 괜찮을까 싶고...\\n근데 너무 귀엽다...\\n(ﾉ◕ヮ◕)ﾉ\\n\\u200b\\n그리고 카카오 프렌즈샵에\\n차량 아이템이 생각보다 많아서 놀랬어요!\\n피규어가 들어가있어서 그런지\\n주차번호판도 비싸다 ㅎㅎㅎ\\n차량 내부 송풍다는 송풍구 방향제!!\\n \\u200b\\n이걸 대체 어디다 써?싶었지만\\n요즘 정말 젊은 사람들도 골프를 많이 치니까\\n채를 보호하는 커버나 보호대같은걸 귀여운 캐릭터로\\n사는 사람이 있겠구나 싶더라구요🫣\\n골프용품이 있는곳에 있는 이 인형들은\\n도대체 어디다 쓰는거지 싶었는데\\n\\u200b\\n요렇게 쓰더라구요 ᕙ༼◕ ᴥ ◕༽ᕗ\\n👇🏻👇🏻\\n아니 이러면 커버 뚜껑은 어케 잠그지....?\\n 🔖혀땳은앙꼬\\n\\u200b\\n앙꼬 이모티콘을 너무 좋아해서 사서 쓰곤 했는데\\n이렇게 캐릭터 굿즈가 나오다니\\n너무 반갑더라구요 😍😍\\n스티커는 진작 품절이더라구요◡̈\\n역시 앙꼬는 귀여운 아이였어 ∑ദ്ദി˙◡･)\\n\\u200b\\n🔖인스타에서 핫하다는 목욕하는 춘식이◡̈\\n지금 카카오 프랜즈들의 대세는 춘식이인가봐요.\\n 🔖소주디스펜서죠르디 39,000원\\n🔖전동와인오프너치얼스라이언\\n23,000원\\n🔖라이언크리미맥주거품기 29,000원\\n🔖턴테이블 스피커\\n55,000원\\n여긴 스텐드들의 집합?💡\\n캬아 춘식이 피큐어예요!!!\\n'}]"
      ]
     },
     "execution_count": 47,
     "metadata": {},
     "output_type": "execute_result"
    }
   ],
   "source": [
    "# invoke() 함수에 검색하고 싶은 검색어를 넣습니다.\n",
    "search.invoke(\"대구에 카카오 프렌즈샵 아지트점의 전화번호는 무엇인가요?\")"
   ]
  },
  {
   "cell_type": "markdown",
   "metadata": {},
   "source": [
    "## **Retriever**\n",
    "\n",
    "PDF 문서를 FAISS DB 에 저장하고 조회하는 retriever 를 생성합니다."
   ]
  },
  {
   "cell_type": "code",
   "execution_count": 48,
   "metadata": {},
   "outputs": [],
   "source": [
    "from langchain.text_splitter import RecursiveCharacterTextSplitter\n",
    "from langchain_community.vectorstores import FAISS\n",
    "from langchain_openai import OpenAIEmbeddings\n",
    "from langchain.document_loaders import PyMuPDFLoader"
   ]
  },
  {
   "cell_type": "code",
   "execution_count": 49,
   "metadata": {},
   "outputs": [],
   "source": [
    "# PDF 파일 로드. 파일의 경로 입력\n",
    "loader = PyMuPDFLoader(\"data/SPRI_AI_Brief_2023년12월호_F.pdf\")"
   ]
  },
  {
   "cell_type": "code",
   "execution_count": 50,
   "metadata": {},
   "outputs": [],
   "source": [
    "# 텍스트 분할기를 사용하여 문서를 분할합니다.\n",
    "text_splitter = RecursiveCharacterTextSplitter(chunk_size=1000, chunk_overlap=100)"
   ]
  },
  {
   "cell_type": "code",
   "execution_count": 51,
   "metadata": {},
   "outputs": [],
   "source": [
    "# 문서를 로드하고 분할합니다.\n",
    "split_docs = loader.load_and_split(text_splitter)"
   ]
  },
  {
   "cell_type": "code",
   "execution_count": 52,
   "metadata": {},
   "outputs": [],
   "source": [
    "# VectorStore를 생성합니다.\n",
    "vector = FAISS.from_documents(split_docs, OpenAIEmbeddings(model=\"text-embedding-3-small\"))"
   ]
  },
  {
   "cell_type": "code",
   "execution_count": 53,
   "metadata": {},
   "outputs": [],
   "source": [
    "# Retriever를 생성합니다.\n",
    "retriever = vector.as_retriever()"
   ]
  },
  {
   "cell_type": "code",
   "execution_count": 54,
   "metadata": {},
   "outputs": [
    {
     "data": {
      "text/plain": [
       "[Document(metadata={'source': 'data/SPRI_AI_Brief_2023년12월호_F.pdf', 'file_path': 'data/SPRI_AI_Brief_2023년12월호_F.pdf', 'page': 12, 'total_pages': 23, 'format': 'PDF 1.4', 'title': '', 'author': 'dj', 'subject': '', 'keywords': '', 'creator': 'Hwp 2018 10.0.0.13462', 'producer': 'Hancom PDF 1.3.0.542', 'creationDate': \"D:20231208132838+09'00'\", 'modDate': \"D:20231208132838+09'00'\", 'trapped': ''}, page_content='SPRi AI Brief |  \\n2023-12월호\\n10\\n삼성전자, 자체 개발 생성 AI ‘삼성 가우스’ 공개\\nn 삼성전자가 온디바이스에서 작동 가능하며 언어, 코드, 이미지의 3개 모델로 구성된 자체 개발 생성 \\nAI 모델 ‘삼성 가우스’를 공개\\nn 삼성전자는 삼성 가우스를 다양한 제품에 단계적으로 탑재할 계획으로, 온디바이스 작동이 가능한 \\n삼성 가우스는 외부로 사용자 정보가 유출될 위험이 없다는 장점을 보유\\nKEY Contents\\n£ 언어, 코드, 이미지의 3개 모델로 구성된 삼성 가우스, 온디바이스 작동 지원\\nn 삼성전자가 2023년 11월 8일 열린 ‘삼성 AI 포럼 2023’ 행사에서 자체 개발한 생성 AI 모델 \\n‘삼성 가우스’를 최초 공개\\n∙정규분포 이론을 정립한 천재 수학자 가우스(Gauss)의 이름을 본뜬 삼성 가우스는 다양한 상황에 \\n최적화된 크기의 모델 선택이 가능\\n∙삼성 가우스는 라이선스나 개인정보를 침해하지 않는 안전한 데이터를 통해 학습되었으며, \\n온디바이스에서 작동하도록 설계되어 외부로 사용자의 정보가 유출되지 않는 장점을 보유\\n∙삼성전자는 삼성 가우스를 활용한 온디바이스 AI 기술도 소개했으며, 생성 AI 모델을 다양한 제품에 \\n단계적으로 탑재할 계획\\nn 삼성 가우스는 △텍스트를 생성하는 언어모델 △코드를 생성하는 코드 모델 △이미지를 생성하는 \\n이미지 모델의 3개 모델로 구성\\n∙언어 모델은 클라우드와 온디바이스 대상 다양한 모델로 구성되며, 메일 작성, 문서 요약, 번역 업무의 \\n처리를 지원\\n∙코드 모델 기반의 AI 코딩 어시스턴트 ‘코드아이(code.i)’는 대화형 인터페이스로 서비스를 제공하며 \\n사내 소프트웨어 개발에 최적화\\n∙이미지 모델은 창의적인 이미지를 생성하고 기존 이미지를 원하는 대로 바꿀 수 있도록 지원하며 \\n저해상도 이미지의 고해상도 전환도 지원\\nn IT 전문지 테크리퍼블릭(TechRepublic)은 온디바이스 AI가 주요 기술 트렌드로 부상했다며,'),\n",
       " Document(metadata={'source': 'data/SPRI_AI_Brief_2023년12월호_F.pdf', 'file_path': 'data/SPRI_AI_Brief_2023년12월호_F.pdf', 'page': 12, 'total_pages': 23, 'format': 'PDF 1.4', 'title': '', 'author': 'dj', 'subject': '', 'keywords': '', 'creator': 'Hwp 2018 10.0.0.13462', 'producer': 'Hancom PDF 1.3.0.542', 'creationDate': \"D:20231208132838+09'00'\", 'modDate': \"D:20231208132838+09'00'\", 'trapped': ''}, page_content='저해상도 이미지의 고해상도 전환도 지원\\nn IT 전문지 테크리퍼블릭(TechRepublic)은 온디바이스 AI가 주요 기술 트렌드로 부상했다며, \\n2024년부터 가우스를 탑재한 삼성 스마트폰이 메타의 라마(Llama)2를 탑재한 퀄컴 기기 및 구글 \\n어시스턴트를 적용한 구글 픽셀(Pixel)과 경쟁할 것으로 예상\\n☞ 출처 : 삼성전자, ‘삼성 AI 포럼’서 자체 개발 생성형 AI ‘삼성 가우스’ 공개, 2023.11.08.\\n삼성전자, ‘삼성 개발자 콘퍼런스 코리아 2023’ 개최, 2023.11.14.\\nTechRepublic, Samsung Gauss: Samsung Research Reveals Generative AI, 2023.11.08.'),\n",
       " Document(metadata={'source': 'data/SPRI_AI_Brief_2023년12월호_F.pdf', 'file_path': 'data/SPRI_AI_Brief_2023년12월호_F.pdf', 'page': 1, 'total_pages': 23, 'format': 'PDF 1.4', 'title': '', 'author': 'dj', 'subject': '', 'keywords': '', 'creator': 'Hwp 2018 10.0.0.13462', 'producer': 'Hancom PDF 1.3.0.542', 'creationDate': \"D:20231208132838+09'00'\", 'modDate': \"D:20231208132838+09'00'\", 'trapped': ''}, page_content='2023년 12월호\\nⅠ. 인공지능 산업 동향 브리프\\n 1. 정책/법제 \\n   ▹ 미국, 안전하고 신뢰할 수 있는 AI 개발과 사용에 관한 행정명령 발표  ························· 1\\n   ▹ G7, 히로시마 AI 프로세스를 통해 AI 기업 대상 국제 행동강령에 합의··························· 2\\n   ▹ 영국 AI 안전성 정상회의에 참가한 28개국, AI 위험에 공동 대응 선언··························· 3\\n   ▹ 미국 법원, 예술가들이 생성 AI 기업에 제기한 저작권 소송 기각····································· 4\\n   ▹ 미국 연방거래위원회, 저작권청에 소비자 보호와 경쟁 측면의 AI 의견서 제출················· 5\\n   ▹ EU AI 법 3자 협상, 기반모델 규제 관련 견해차로 난항··················································· 6\\n \\n 2. 기업/산업 \\n   ▹ 미국 프런티어 모델 포럼, 1,000만 달러 규모의 AI 안전 기금 조성································ 7\\n   ▹ 코히어, 데이터 투명성 확보를 위한 데이터 출처 탐색기 공개  ······································· 8\\n   ▹ 알리바바 클라우드, 최신 LLM ‘통이치엔원 2.0’ 공개 ······················································ 9\\n   ▹ 삼성전자, 자체 개발 생성 AI ‘삼성 가우스’ 공개 ··························································· 10\\n   ▹ 구글, 앤스로픽에 20억 달러 투자로 생성 AI 협력 강화 ················································ 11'),\n",
       " Document(metadata={'source': 'data/SPRI_AI_Brief_2023년12월호_F.pdf', 'file_path': 'data/SPRI_AI_Brief_2023년12월호_F.pdf', 'page': 1, 'total_pages': 23, 'format': 'PDF 1.4', 'title': '', 'author': 'dj', 'subject': '', 'keywords': '', 'creator': 'Hwp 2018 10.0.0.13462', 'producer': 'Hancom PDF 1.3.0.542', 'creationDate': \"D:20231208132838+09'00'\", 'modDate': \"D:20231208132838+09'00'\", 'trapped': ''}, page_content='▹ 구글, 앤스로픽에 20억 달러 투자로 생성 AI 협력 강화 ················································ 11\\n   ▹ IDC, 2027년 AI 소프트웨어 매출 2,500억 달러 돌파 전망··········································· 12\\n   ▹ 빌 게이츠, AI 에이전트로 인한 컴퓨터 사용의 패러다임 변화 전망································ 13\\n   ▹ 유튜브, 2024년부터 AI 생성 콘텐츠 표시 의무화···························································· 14\\n 3. 기술/연구\\n   ▹ 영국 과학혁신기술부, AI 안전 연구소 설립 발표······························································ 15\\n   ▹ 구글 딥마인드, 범용 AI 모델의 기능과 동작에 대한 분류 체계 발표······························ 16\\n   ▹ 갈릴레오의 LLM 환각 지수 평가에서 GPT-4가 가장 우수 ··········································· 17\\n   \\n 4. 인력/교육     \\n   ▹ 영국 옥스퍼드 인터넷 연구소, AI 기술자의 임금이 평균 21% 높아······························· 18\\n   \\n   \\n \\nⅡ. 주요 행사\\n   ▹CES 2024 ····························································································································· 19')]"
      ]
     },
     "execution_count": 54,
     "metadata": {},
     "output_type": "execute_result"
    }
   ],
   "source": [
    "# 문서에서 관련성 높은 문서를 가져옵니다.\n",
    "retriever.invoke(\"삼성전자가 개발한 생성형 AI 관련 내용을 문서에서 찾아줘\")"
   ]
  },
  {
   "cell_type": "markdown",
   "metadata": {},
   "source": [
    "`create_retriever_tool()` 함수로 `retriever` 를 도구로 변환합니다."
   ]
  },
  {
   "cell_type": "code",
   "execution_count": 55,
   "metadata": {},
   "outputs": [],
   "source": [
    "from langchain.tools.retriever import create_retriever_tool"
   ]
  },
  {
   "cell_type": "code",
   "execution_count": 56,
   "metadata": {},
   "outputs": [],
   "source": [
    "retriever_tool = create_retriever_tool(\n",
    "    retriever,              \n",
    "    name=\"pdf_search\",      # 도구의 이름을 입력합니다.\n",
    "    \n",
    "    # 도구에 대한 설명을 자세히 기입해야 합니다!!\n",
    "    description=\"use this tool to search information from the PDF document\", \n",
    ")"
   ]
  },
  {
   "cell_type": "markdown",
   "metadata": {},
   "source": [
    "### **Agent 가 사용할 도구 목록 정의**\n",
    "\n",
    "`tools` 리스트는 `search`와 `retriever_tool`을 포함합니다."
   ]
  },
  {
   "cell_type": "code",
   "execution_count": 57,
   "metadata": {},
   "outputs": [],
   "source": [
    "# tools 리스트에 search와 retriever_tool을 추가합니다.\n",
    "tools = [search, retriever_tool]"
   ]
  },
  {
   "cell_type": "markdown",
   "metadata": {},
   "source": [
    "### **Agent 생성**\n",
    "\n",
    "Agent 가 활용할 LLM을 정의하고, Agent 가 참고할 Prompt 를 정의합니다."
   ]
  },
  {
   "cell_type": "code",
   "execution_count": 58,
   "metadata": {},
   "outputs": [],
   "source": [
    "from langchain_openai import ChatOpenAI\n",
    "from langchain_core.prompts import ChatPromptTemplate"
   ]
  },
  {
   "cell_type": "code",
   "execution_count": 59,
   "metadata": {},
   "outputs": [],
   "source": [
    "llm = ChatOpenAI(model=\"gpt-4o-mini\", temperature=0)    # LLM 정의"
   ]
  },
  {
   "cell_type": "code",
   "execution_count": 60,
   "metadata": {},
   "outputs": [],
   "source": [
    "prompt = ChatPromptTemplate.from_messages(              # Prompt 정의\n",
    "    [\n",
    "        (\n",
    "            \"system\",\n",
    "            \"You are a helpful assistant. \"\n",
    "            \"Make sure to use the `pdf_search` tool for searching information from the PDF document. \"\n",
    "            \"If you can't find the information from the PDF document, use the `search` tool for searching information from the web.\",\n",
    "        ),\n",
    "        (\"placeholder\", \"{chat_history}\"),\n",
    "        (\"human\", \"{input}\"),\n",
    "        (\"placeholder\", \"{agent_scratchpad}\"),\n",
    "    ]\n",
    ")"
   ]
  },
  {
   "cell_type": "markdown",
   "metadata": {},
   "source": [
    "Tool Calling Agent 를 생성합니다."
   ]
  },
  {
   "cell_type": "code",
   "execution_count": 61,
   "metadata": {},
   "outputs": [],
   "source": [
    "from langchain.agents import create_tool_calling_agent"
   ]
  },
  {
   "cell_type": "code",
   "execution_count": 62,
   "metadata": {},
   "outputs": [],
   "source": [
    "# tool calling agent 생성\n",
    "agent = create_tool_calling_agent(llm, tools, prompt)"
   ]
  },
  {
   "cell_type": "markdown",
   "metadata": {},
   "source": [
    "agent 를 실행하는 AgentExecutor 를 생성합니다."
   ]
  },
  {
   "cell_type": "code",
   "execution_count": 63,
   "metadata": {},
   "outputs": [],
   "source": [
    "from langchain.agents import AgentExecutor\n",
    "\n",
    "# AgentExecutor 생성\n",
    "agent_executor = AgentExecutor(agent=agent, tools=tools, verbose=False)"
   ]
  },
  {
   "cell_type": "markdown",
   "metadata": {},
   "source": [
    "### **에이전트 실행하기**\n",
    "\n",
    "agent_executor 객체의 invoke() 메소드는 딕셔너리 형태의 인자를 받아 처리합니다. <br>\n",
    "input 키에 사용자 질문을 값으로 할당한 딕셔너리를 인자로 전달합니다.<br>"
   ]
  },
  {
   "cell_type": "code",
   "execution_count": 64,
   "metadata": {},
   "outputs": [],
   "source": [
    "from langchain_teddynote.messages import AgentStreamParser"
   ]
  },
  {
   "cell_type": "code",
   "execution_count": 65,
   "metadata": {},
   "outputs": [],
   "source": [
    "# 각 단계별 출력을 위한 파서 생성\n",
    "agent_stream_parser = AgentStreamParser()"
   ]
  },
  {
   "cell_type": "code",
   "execution_count": 66,
   "metadata": {},
   "outputs": [
    {
     "name": "stdout",
     "output_type": "stream",
     "text": [
      "[도구 호출]\n",
      "Tool: tavily_search_results_json\n",
      "query: 2024년 프로야구 플레이오프 진출 팀\n",
      "Log: \n",
      "Invoking: `tavily_search_results_json` with `{'query': '2024년 프로야구 플레이오프 진출 팀'}`\n",
      "\n",
      "\n",
      "\n",
      "[관찰 내용]\n",
      "Observation: [{'url': 'https://allgreat.tistory.com/321', 'content': '2024 프로야구 한국시리즈 포스트시즌 일정 진출팀 / 5위 결정전 경기 타이브레이크, 플레이오프 날짜 순위 위 프로야구 순위는 2024년 9월 29일 기준이다. 6.(일) 준플레이오프 2차전 준플레이오프(준PO) 1~2차전은 정규리그 3위 팀인 LG(엘지)의 홈구장인 잠실야구장에서 열린다. 1차전 : 2024년 10월 13일(일) 2차전 : 2024년 10월 14일(월) 3차전 : 2024년 10월 16일(수) 4차전 : 2024년 10월 17일(목) 5차전 : 2024년 10월 19일(토) 5판 3선승제로 치러지는 프로야구 플레이오프(준결승전) 1~2차전은 정규리그 2위팀인 삼성 라이온즈의 홈구장인 대구 라이온즈파크에서 열린다. 1차전 : 10월 21일(월)\\xa0 3차전 : 10월 24일(목) 4차전 : 10월 25일(금) 5차전 : 10월 27일(일) 6차전 : 10월 28일(월) 7차전 : 10월 29일(화) 한국시리즈(코리아시리즈 결승전)는 7전 4선승제로 치러지며, 정규리그 1위팀 기아와 플레이오프 승리팀이 마지막 우승을 놓고 치열한 경기가 펼쳐질 예정이다.'}, {'url': 'https://m.blog.naver.com/hoga1201/223571117829', 'content': '2024년 프로야구 포스트시즌 가을야구 플레이오프 진출팀 예상 분석 상대팀 별 잔여경기 : 네이버 블로그 2024년 프로야구 포스트시즌 가을야구 플레이오프 진출팀 예상 분석 상대팀 별 잔여경기 그래서 오늘은 KBO 남은 상대팀 경기 수와 우승 및 와일드카드 진출 가능성에 대한 경우의 수에 대해서 분석해 보도록 하겠습니다. 모든 팀이 가을야구에 대한 가능성이 남아있는 상황이라서, 남은 한 경기한 경기가 정말 피 말리는 승부가 될 것 같습니다. - KIA의 매직넘버는 현재 2등 삼성이 남은 17경기를 전승을 해도 11승 7패만 하면 자력 우승이 가능해질 것 같습니다. 위 순위표에서 각 구단별로 거둔 승수와 남은 경기 승패율 비교해서 내 팀이 가을야구 진출하려면 몇 승 이상을 해야 하는지 따져보면 될 것 같습니다. {\"title\":\"2024년 프로야구 포스트시즌 가을야구 플레이오프 진출팀 예상 분석 상대팀 별 잔여경기\",\"source\":\"https://blog.naver.com/hoga1201/223571117829\",\"blogName\":\"호가의 일..\",\"blogId\":\"god1986\",\"domainIdOrBlogId\":\"hoga1201\",\"nicknameOrBlogId\":\"호가\",\"logNo\":223571117829,\"smartEditorVersion\":4,\"lineDisplay\":true,\"outsideDisplay\":false,\"meDisplay\":true,\"cafeDisplay\":true,\"blogDisplay\":true}'}, {'url': 'https://blog.naver.com/PostView.naver?blogId=hoga1201&logNo=223571117829', 'content': '블로그 2024년 프로야구 포스트시즌 가을야구 플레이오프 진출팀 예상 분석 상대팀 별 잔여경기 오늘은 오랜 야구팬인 남편이 2024 가을 야구 포스트시즌 진출 가능성을 분석해 주셨어요:) 그래서 오늘은 KBO 남은 상대팀 경기 수와 우승 및 와일드카드 진출 가능성에 대한 경우의 수에 대해서 분석해 보도록 하겠습니다. 24년 9월 3일 프로야구 팀 별 잔여 경기 수입니다. 2024 프로야구 포스트시즌 삼성이 1 패할 때마다 확률이 훨씬 올라가기 때문에 2024 프로야구 포스트시즌 한국시리즈 일정은 아래 포스팅을 참고해 주세요:) {FILENAME} 이용제한 파일 : {FILENAME} 네이버는 블로그를 통해 저작물이 무단으로 공유되는 것을 막기 위해, 네이버는 블로그를 통해 저작물이 무단으로 공유되는 것을 막기 위해, 스팸 게시물이 확대 생성되는 것을 방지하기 위하여 문구 및 사용 제한기간을상세하게 안내해 드리지 못하는 점 양해 부탁 드립니다. 블로그 마켓 가입 완료 내 상품 관리에서 배송비 설정 후 상품 판매를 시작해보세요!'}, {'url': 'https://m.blog.naver.com/twins2346/223603897496', 'content': '2024 KBO 프로 야구 포스트시즌 진출팀, 경기 일정, 경기 방식, 예매 방법 총정리 : 네이버 블로그 2024 KBO 프로 야구 포스트시즌 진출팀, 경기 일정, 경기 방식, 예매 방법 총정리 오늘은 2024년 KBO 프로 야구 포스트 시즌 진출팀과 경기 일정, 방식에 대해 상위권 다섯 팀은 가을 야구를 하게 됩니다 ㅎㅎ ⚾️ 포스트 시즌 진출팀 팬들의 가을 야구 꿈을 이뤄 준 포스트 시즌 진출팀은 정규 시즌 최종 순위는 1위 기아 타이거즈, 2위 삼성 라이온즈, 3위 엘지 트윈스, 와일드카드 경기는 5위 팀인 KT 위즈와 4위 팀인 두산 베어스가 참여하게 됩니다 이 때 4위 팀인 두산 베어스가 1승을 먼저 챙기고 시작하며, 정규리그 3위 팀인 엘지 트윈스와 여기서 승리한 팀이 KBO 한국시리즈에 진출하게 됩니다! {\"title\":\"2024 KBO 프로 야구 포스트시즌 진출팀, 경기 일정, 경기 방식, 예매 방법 총정리\",\"source\":\"https://blog.naver.com/twins2346/223603897496\",\"blogName\":\"소담소담 ..\",\"blogId\":\"twins2346\",\"domainIdOrBlogId\":\"twins2346\",\"nicknameOrBlogId\":\"밍스\",\"logNo\":223603897496,\"smartEditorVersion\":4,\"lineDisplay\":true,\"outsideDisplay\":false,\"cafeDisplay\":true,\"blogDisplay\":true,\"meDisplay\":true}'}, {'url': 'https://narooya.com/entry/2024-프로야구-포스트시즌-일정-티켓-예매-플레이오프-일정-총정리', 'content': '2024 프로야구 포스트시즌 일정 티켓 예매 플레이오프 일정 총정리 2024 프로야구 포스트시즌 일정 티켓 예매 플레이오프 일정 총정리 2024 프로야구 포스트시즌 일정 티켓 예매 플레이오프 일정 총정리 2024 프로야구 플레이오프 일정 팀별 정보 티켓 예매 방법 정보 총정 이번 포스팅에서는 2024 KBO 포스트시즌 일정과 티켓 예매 정보, 와일드카드, 준플레이오프, 플레이오프, 한국시리즈 일정을 표로 정리하여 알아보겠습니다. 서울세계불꽃축제 2024 티켓 예매 일정 생중계 바로보기 서울세계불꽃축제 티켓예매 명당자리 꿀팁 공연시간 생중계 바로보기 정보 까지 총정리2024년 10월 5일 토요일, 서울 여의도 한강공원에서 한화그룹이 주최하는 서울 세계불꽃축제가 화려하게 narooya.com 경기 팀: LG 트윈스(정규 3위) vs 와일드카드 승리팀 2024 프로야구 포스트시즌 준플레이오프는 10월 5일부터 LG 트윈스와 와일드카드 승리팀 간의 경기가 펼쳐지며, 5전 3선승제로 진행됩니다. 경기 팀: 삼성 라이온즈(정규 2위) vs 준플레이오프 승리팀 경기 팀: 기아 타이거즈(정규 1위) vs 플레이오프 승리팀'}]\n",
      "[최종 답변]\n",
      "2024년 프로야구 플레이오프에 진출한 팀은 다음과 같습니다:\n",
      "\n",
      "1. **기아 타이거즈** (정규리그 1위)\n",
      "2. **삼성 라이온즈** (정규리그 2위)\n",
      "3. **LG 트윈스** (정규리그 3위)\n",
      "4. **두산 베어스** (정규리그 4위)\n",
      "5. **KT 위즈** (와일드카드 팀)\n",
      "\n",
      "플레이오프는 정규리그 3위 팀인 LG 트윈스와 와일드카드 승리팀 간의 경기가 진행되며, 두산 베어스는 4위로 준플레이오프에 진출합니다. 기아 타이거즈는 플레이오프 승리팀과 맞붙게 됩니다.\n"
     ]
    }
   ],
   "source": [
    "# 질의에 대한 답변을 스트리밍으로 출력 요청\n",
    "result = agent_executor.stream(\n",
    "    {\"input\": \"2024년 프로야구 플레이오프 진출한 5개 팀을 검색하여 알려주세요.\"}\n",
    ")\n",
    "\n",
    "for step in result:\n",
    "    # 중간 단계를 parser 를 사용하여 단계별로 출력\n",
    "    agent_stream_parser.process_agent_steps(step)"
   ]
  },
  {
   "cell_type": "code",
   "execution_count": 67,
   "metadata": {},
   "outputs": [
    {
     "name": "stdout",
     "output_type": "stream",
     "text": [
      "[도구 호출]\n",
      "Tool: pdf_search\n",
      "query: 삼성전자 생성형 AI\n",
      "Log: \n",
      "Invoking: `pdf_search` with `{'query': '삼성전자 생성형 AI'}`\n",
      "\n",
      "\n",
      "\n",
      "[관찰 내용]\n",
      "Observation: SPRi AI Brief |  \n",
      "2023-12월호\n",
      "10\n",
      "삼성전자, 자체 개발 생성 AI ‘삼성 가우스’ 공개\n",
      "n 삼성전자가 온디바이스에서 작동 가능하며 언어, 코드, 이미지의 3개 모델로 구성된 자체 개발 생성 \n",
      "AI 모델 ‘삼성 가우스’를 공개\n",
      "n 삼성전자는 삼성 가우스를 다양한 제품에 단계적으로 탑재할 계획으로, 온디바이스 작동이 가능한 \n",
      "삼성 가우스는 외부로 사용자 정보가 유출될 위험이 없다는 장점을 보유\n",
      "KEY Contents\n",
      "£ 언어, 코드, 이미지의 3개 모델로 구성된 삼성 가우스, 온디바이스 작동 지원\n",
      "n 삼성전자가 2023년 11월 8일 열린 ‘삼성 AI 포럼 2023’ 행사에서 자체 개발한 생성 AI 모델 \n",
      "‘삼성 가우스’를 최초 공개\n",
      "∙정규분포 이론을 정립한 천재 수학자 가우스(Gauss)의 이름을 본뜬 삼성 가우스는 다양한 상황에 \n",
      "최적화된 크기의 모델 선택이 가능\n",
      "∙삼성 가우스는 라이선스나 개인정보를 침해하지 않는 안전한 데이터를 통해 학습되었으며, \n",
      "온디바이스에서 작동하도록 설계되어 외부로 사용자의 정보가 유출되지 않는 장점을 보유\n",
      "∙삼성전자는 삼성 가우스를 활용한 온디바이스 AI 기술도 소개했으며, 생성 AI 모델을 다양한 제품에 \n",
      "단계적으로 탑재할 계획\n",
      "n 삼성 가우스는 △텍스트를 생성하는 언어모델 △코드를 생성하는 코드 모델 △이미지를 생성하는 \n",
      "이미지 모델의 3개 모델로 구성\n",
      "∙언어 모델은 클라우드와 온디바이스 대상 다양한 모델로 구성되며, 메일 작성, 문서 요약, 번역 업무의 \n",
      "처리를 지원\n",
      "∙코드 모델 기반의 AI 코딩 어시스턴트 ‘코드아이(code.i)’는 대화형 인터페이스로 서비스를 제공하며 \n",
      "사내 소프트웨어 개발에 최적화\n",
      "∙이미지 모델은 창의적인 이미지를 생성하고 기존 이미지를 원하는 대로 바꿀 수 있도록 지원하며 \n",
      "저해상도 이미지의 고해상도 전환도 지원\n",
      "n IT 전문지 테크리퍼블릭(TechRepublic)은 온디바이스 AI가 주요 기술 트렌드로 부상했다며,\n",
      "\n",
      "저해상도 이미지의 고해상도 전환도 지원\n",
      "n IT 전문지 테크리퍼블릭(TechRepublic)은 온디바이스 AI가 주요 기술 트렌드로 부상했다며, \n",
      "2024년부터 가우스를 탑재한 삼성 스마트폰이 메타의 라마(Llama)2를 탑재한 퀄컴 기기 및 구글 \n",
      "어시스턴트를 적용한 구글 픽셀(Pixel)과 경쟁할 것으로 예상\n",
      "☞ 출처 : 삼성전자, ‘삼성 AI 포럼’서 자체 개발 생성형 AI ‘삼성 가우스’ 공개, 2023.11.08.\n",
      "삼성전자, ‘삼성 개발자 콘퍼런스 코리아 2023’ 개최, 2023.11.14.\n",
      "TechRepublic, Samsung Gauss: Samsung Research Reveals Generative AI, 2023.11.08.\n",
      "\n",
      "2023년 12월호\n",
      "Ⅰ. 인공지능 산업 동향 브리프\n",
      " 1. 정책/법제 \n",
      "   ▹ 미국, 안전하고 신뢰할 수 있는 AI 개발과 사용에 관한 행정명령 발표  ························· 1\n",
      "   ▹ G7, 히로시마 AI 프로세스를 통해 AI 기업 대상 국제 행동강령에 합의··························· 2\n",
      "   ▹ 영국 AI 안전성 정상회의에 참가한 28개국, AI 위험에 공동 대응 선언··························· 3\n",
      "   ▹ 미국 법원, 예술가들이 생성 AI 기업에 제기한 저작권 소송 기각····································· 4\n",
      "   ▹ 미국 연방거래위원회, 저작권청에 소비자 보호와 경쟁 측면의 AI 의견서 제출················· 5\n",
      "   ▹ EU AI 법 3자 협상, 기반모델 규제 관련 견해차로 난항··················································· 6\n",
      " \n",
      " 2. 기업/산업 \n",
      "   ▹ 미국 프런티어 모델 포럼, 1,000만 달러 규모의 AI 안전 기금 조성································ 7\n",
      "   ▹ 코히어, 데이터 투명성 확보를 위한 데이터 출처 탐색기 공개  ······································· 8\n",
      "   ▹ 알리바바 클라우드, 최신 LLM ‘통이치엔원 2.0’ 공개 ······················································ 9\n",
      "   ▹ 삼성전자, 자체 개발 생성 AI ‘삼성 가우스’ 공개 ··························································· 10\n",
      "   ▹ 구글, 앤스로픽에 20억 달러 투자로 생성 AI 협력 강화 ················································ 11\n",
      "\n",
      "가치 있게 여기는 실질적인 작업을 대상으로 성능 평가 필요\n",
      "∙(종점이 아닌 AGI를 향한 경로에 중점) 단계별 접근방식을 통해 AGI의 발전 상태를 점진적으로 측정\n",
      "n 연구진은 상기 원칙에 따라 AI를 성능에 따라 0~5단계와 광범위한 목적에 활용될 수 있는 범용 AI 및 특정 \n",
      "과업에 활용되는 특수 AI로 분류했으며, 특수 AI에서는 5단계까지 달성되었으나, 범용 AI는 현재 1단계 수준\n",
      "성능\n",
      "특수 AI 예시\n",
      "범용 AI 예시\n",
      "0단계: AI 아님\n",
      "계산기 소프트웨어, 컴파일러\n",
      "아마존 메커니컬 터크\n",
      "1단계: 신진(숙련되지 않은 인간)\n",
      "GOFAI(Good Old Fashioned Artificial Intelligence) \n",
      "챗GPT, 바드, 라마2\n",
      "2단계: 유능(숙련된 인간의 50% 이상)\n",
      "스마트 스피커(애플 시리, 아마존 알렉사, 구글 \n",
      "어시스턴트), IBM 왓슨 \n",
      "미달성\n",
      "3단계: 전문가(숙련된 인간의 90% 이상)\n",
      "문법 교정기(그래머리), 생성 이미지 모델(달리2)\n",
      "미달성\n",
      "4단계: 거장(숙련된 인간의 99% 이상) \n",
      "딥블루, 알파고\n",
      "미달성\n",
      "5단계: 초인간(인간을 100% 능가)\n",
      "알파폴드, 알파제로, 스톡피시\n",
      "미달성\n",
      "<구글 딥마인드의 범용 AI 분류 프레임워크> \n",
      "☞ 출처 : Arxiv.org, Levels of AGI: Operationalizing Progress on the Path to AGI, 2023.11.04.\n",
      "[최종 답변]\n",
      "삼성전자가 자체 개발한 생성형 AI 모델인 '삼성 가우스'에 대한 정보는 다음과 같습니다:\n",
      "\n",
      "- **모델 구성**: 삼성 가우스는 언어, 코드, 이미지의 3개 모델로 구성되어 있으며, 온디바이스에서 작동할 수 있도록 설계되었습니다.\n",
      "- **안전성**: 이 모델은 외부로 사용자 정보가 유출될 위험이 없으며, 라이선스나 개인정보를 침해하지 않는 안전한 데이터를 통해 학습되었습니다.\n",
      "- **기능**:\n",
      "  - **언어 모델**: 메일 작성, 문서 요약, 번역 업무 등을 지원합니다.\n",
      "  - **코드 모델**: AI 코딩 어시스턴트 '코드아이(code.i)'를 통해 대화형 인터페이스로 서비스를 제공하며, 사내 소프트웨어 개발에 최적화되어 있습니다.\n",
      "  - **이미지 모델**: 창의적인 이미지를 생성하고 기존 이미지를 원하는 대로 변경할 수 있으며, 저해상도 이미지를 고해상도로 전환하는 기능도 지원합니다.\n",
      "- **출시 계획**: 삼성전자는 삼성 가우스를 다양한 제품에 단계적으로 탑재할 계획입니다. 2024년부터 가우스를 탑재한 삼성 스마트폰이 메타의 라마(Llama)2를 탑재한 퀄컴 기기 및 구글 어시스턴트를 적용한 구글 픽셀(Pixel)과 경쟁할 것으로 예상하고 있습니다.\n",
      "\n",
      "이 정보는 2023년 11월 8일 열린 '삼성 AI 포럼 2023'에서 공개된 내용입니다.\n"
     ]
    }
   ],
   "source": [
    "# 질의에 대한 답변을 스트리밍으로 출력 요청\n",
    "result = agent_executor.stream(\n",
    "    {\"input\": \"삼성전자가 자체 개발한 생성형 AI 관련된 정보를 문서에서 찾아주세요.\"}\n",
    ")\n",
    "\n",
    "for step in result:\n",
    "    # 중간 단계를 parser 를 사용하여 단계별로 출력\n",
    "    agent_stream_parser.process_agent_steps(step)"
   ]
  },
  {
   "cell_type": "markdown",
   "metadata": {},
   "source": [
    "### **이전 대화내용 기억하는 Agent**\n",
    "\n",
    "`RunnableWithMessageHistory` 를 사용하여 `AgentExecutor` 를 감싸줍니다."
   ]
  },
  {
   "cell_type": "code",
   "execution_count": 68,
   "metadata": {},
   "outputs": [],
   "source": [
    "from langchain_community.chat_message_histories import ChatMessageHistory\n",
    "from langchain_core.runnables.history import RunnableWithMessageHistory\n",
    "\n",
    "store = {}                                          # session_id 를 저장할 딕셔너리 생성\n",
    "\n",
    "def get_session_history(session_ids):               # session_id 를 기반으로 세션 기록을 가져오는 함수\n",
    "    if session_ids not in store:                    # session_id 가 store에 없는 경우        \n",
    "        store[session_ids] = ChatMessageHistory()   # 새로운 ChatMessageHistory 객체를 생성하여 store에 저장\n",
    "\n",
    "    return store[session_ids]  # 해당 세션 ID에 대한 세션 기록 반환\n",
    "\n",
    "\n",
    "# 채팅 메시지 기록이 추가된 에이전트를 생성합니다.\n",
    "agent_with_chat_history = RunnableWithMessageHistory(\n",
    "    agent_executor,    \n",
    "    get_session_history,                    # 대화 session_id    \n",
    "    input_messages_key=\"input\",             # 프롬프트의 질문이 입력되는 key: \"input\"    \n",
    "    history_messages_key=\"chat_history\",    # 프롬프트의 메시지가 입력되는 key: \"chat_history\"\n",
    ")"
   ]
  },
  {
   "cell_type": "code",
   "execution_count": 69,
   "metadata": {},
   "outputs": [
    {
     "name": "stdout",
     "output_type": "stream",
     "text": [
      "[도구 호출]\n",
      "Tool: pdf_search\n",
      "query: 삼성전자 생성형 AI\n",
      "Log: \n",
      "Invoking: `pdf_search` with `{'query': '삼성전자 생성형 AI'}`\n",
      "\n",
      "\n",
      "\n",
      "[관찰 내용]\n",
      "Observation: SPRi AI Brief |  \n",
      "2023-12월호\n",
      "10\n",
      "삼성전자, 자체 개발 생성 AI ‘삼성 가우스’ 공개\n",
      "n 삼성전자가 온디바이스에서 작동 가능하며 언어, 코드, 이미지의 3개 모델로 구성된 자체 개발 생성 \n",
      "AI 모델 ‘삼성 가우스’를 공개\n",
      "n 삼성전자는 삼성 가우스를 다양한 제품에 단계적으로 탑재할 계획으로, 온디바이스 작동이 가능한 \n",
      "삼성 가우스는 외부로 사용자 정보가 유출될 위험이 없다는 장점을 보유\n",
      "KEY Contents\n",
      "£ 언어, 코드, 이미지의 3개 모델로 구성된 삼성 가우스, 온디바이스 작동 지원\n",
      "n 삼성전자가 2023년 11월 8일 열린 ‘삼성 AI 포럼 2023’ 행사에서 자체 개발한 생성 AI 모델 \n",
      "‘삼성 가우스’를 최초 공개\n",
      "∙정규분포 이론을 정립한 천재 수학자 가우스(Gauss)의 이름을 본뜬 삼성 가우스는 다양한 상황에 \n",
      "최적화된 크기의 모델 선택이 가능\n",
      "∙삼성 가우스는 라이선스나 개인정보를 침해하지 않는 안전한 데이터를 통해 학습되었으며, \n",
      "온디바이스에서 작동하도록 설계되어 외부로 사용자의 정보가 유출되지 않는 장점을 보유\n",
      "∙삼성전자는 삼성 가우스를 활용한 온디바이스 AI 기술도 소개했으며, 생성 AI 모델을 다양한 제품에 \n",
      "단계적으로 탑재할 계획\n",
      "n 삼성 가우스는 △텍스트를 생성하는 언어모델 △코드를 생성하는 코드 모델 △이미지를 생성하는 \n",
      "이미지 모델의 3개 모델로 구성\n",
      "∙언어 모델은 클라우드와 온디바이스 대상 다양한 모델로 구성되며, 메일 작성, 문서 요약, 번역 업무의 \n",
      "처리를 지원\n",
      "∙코드 모델 기반의 AI 코딩 어시스턴트 ‘코드아이(code.i)’는 대화형 인터페이스로 서비스를 제공하며 \n",
      "사내 소프트웨어 개발에 최적화\n",
      "∙이미지 모델은 창의적인 이미지를 생성하고 기존 이미지를 원하는 대로 바꿀 수 있도록 지원하며 \n",
      "저해상도 이미지의 고해상도 전환도 지원\n",
      "n IT 전문지 테크리퍼블릭(TechRepublic)은 온디바이스 AI가 주요 기술 트렌드로 부상했다며,\n",
      "\n",
      "저해상도 이미지의 고해상도 전환도 지원\n",
      "n IT 전문지 테크리퍼블릭(TechRepublic)은 온디바이스 AI가 주요 기술 트렌드로 부상했다며, \n",
      "2024년부터 가우스를 탑재한 삼성 스마트폰이 메타의 라마(Llama)2를 탑재한 퀄컴 기기 및 구글 \n",
      "어시스턴트를 적용한 구글 픽셀(Pixel)과 경쟁할 것으로 예상\n",
      "☞ 출처 : 삼성전자, ‘삼성 AI 포럼’서 자체 개발 생성형 AI ‘삼성 가우스’ 공개, 2023.11.08.\n",
      "삼성전자, ‘삼성 개발자 콘퍼런스 코리아 2023’ 개최, 2023.11.14.\n",
      "TechRepublic, Samsung Gauss: Samsung Research Reveals Generative AI, 2023.11.08.\n",
      "\n",
      "2023년 12월호\n",
      "Ⅰ. 인공지능 산업 동향 브리프\n",
      " 1. 정책/법제 \n",
      "   ▹ 미국, 안전하고 신뢰할 수 있는 AI 개발과 사용에 관한 행정명령 발표  ························· 1\n",
      "   ▹ G7, 히로시마 AI 프로세스를 통해 AI 기업 대상 국제 행동강령에 합의··························· 2\n",
      "   ▹ 영국 AI 안전성 정상회의에 참가한 28개국, AI 위험에 공동 대응 선언··························· 3\n",
      "   ▹ 미국 법원, 예술가들이 생성 AI 기업에 제기한 저작권 소송 기각····································· 4\n",
      "   ▹ 미국 연방거래위원회, 저작권청에 소비자 보호와 경쟁 측면의 AI 의견서 제출················· 5\n",
      "   ▹ EU AI 법 3자 협상, 기반모델 규제 관련 견해차로 난항··················································· 6\n",
      " \n",
      " 2. 기업/산업 \n",
      "   ▹ 미국 프런티어 모델 포럼, 1,000만 달러 규모의 AI 안전 기금 조성································ 7\n",
      "   ▹ 코히어, 데이터 투명성 확보를 위한 데이터 출처 탐색기 공개  ······································· 8\n",
      "   ▹ 알리바바 클라우드, 최신 LLM ‘통이치엔원 2.0’ 공개 ······················································ 9\n",
      "   ▹ 삼성전자, 자체 개발 생성 AI ‘삼성 가우스’ 공개 ··························································· 10\n",
      "   ▹ 구글, 앤스로픽에 20억 달러 투자로 생성 AI 협력 강화 ················································ 11\n",
      "\n",
      "가치 있게 여기는 실질적인 작업을 대상으로 성능 평가 필요\n",
      "∙(종점이 아닌 AGI를 향한 경로에 중점) 단계별 접근방식을 통해 AGI의 발전 상태를 점진적으로 측정\n",
      "n 연구진은 상기 원칙에 따라 AI를 성능에 따라 0~5단계와 광범위한 목적에 활용될 수 있는 범용 AI 및 특정 \n",
      "과업에 활용되는 특수 AI로 분류했으며, 특수 AI에서는 5단계까지 달성되었으나, 범용 AI는 현재 1단계 수준\n",
      "성능\n",
      "특수 AI 예시\n",
      "범용 AI 예시\n",
      "0단계: AI 아님\n",
      "계산기 소프트웨어, 컴파일러\n",
      "아마존 메커니컬 터크\n",
      "1단계: 신진(숙련되지 않은 인간)\n",
      "GOFAI(Good Old Fashioned Artificial Intelligence) \n",
      "챗GPT, 바드, 라마2\n",
      "2단계: 유능(숙련된 인간의 50% 이상)\n",
      "스마트 스피커(애플 시리, 아마존 알렉사, 구글 \n",
      "어시스턴트), IBM 왓슨 \n",
      "미달성\n",
      "3단계: 전문가(숙련된 인간의 90% 이상)\n",
      "문법 교정기(그래머리), 생성 이미지 모델(달리2)\n",
      "미달성\n",
      "4단계: 거장(숙련된 인간의 99% 이상) \n",
      "딥블루, 알파고\n",
      "미달성\n",
      "5단계: 초인간(인간을 100% 능가)\n",
      "알파폴드, 알파제로, 스톡피시\n",
      "미달성\n",
      "<구글 딥마인드의 범용 AI 분류 프레임워크> \n",
      "☞ 출처 : Arxiv.org, Levels of AGI: Operationalizing Progress on the Path to AGI, 2023.11.04.\n",
      "[최종 답변]\n",
      "삼성전자가 개발한 생성형 AI에 대한 정보는 다음과 같습니다:\n",
      "\n",
      "- **모델 이름**: 삼성 가우스(Samsung Gauss)\n",
      "- **발표일**: 2023년 11월 8일, 삼성 AI 포럼 2023에서 최초 공개\n",
      "- **구성**: 삼성 가우스는 언어, 코드, 이미지의 3개 모델로 구성되어 있습니다.\n",
      "  - **언어 모델**: 메일 작성, 문서 요약, 번역 업무 등을 지원하며, 클라우드와 온디바이스에서 작동할 수 있는 다양한 모델이 포함됩니다.\n",
      "  - **코드 모델**: AI 코딩 어시스턴트인 '코드아이(code.i)'를 통해 대화형 인터페이스로 서비스를 제공하며, 사내 소프트웨어 개발에 최적화되어 있습니다.\n",
      "  - **이미지 모델**: 창의적인 이미지를 생성하고 기존 이미지를 수정할 수 있으며, 저해상도 이미지를 고해상도로 변환하는 기능도 지원합니다.\n",
      "\n",
      "- **온디바이스 작동**: 삼성 가우스는 온디바이스에서 작동하도록 설계되어 있어, 사용자 정보가 외부로 유출될 위험이 없습니다. 이는 안전한 데이터로 학습되었음을 의미합니다.\n",
      "\n",
      "- **향후 계획**: 삼성전자는 삼성 가우스를 다양한 제품에 단계적으로 탑재할 계획을 가지고 있습니다. 2024년부터 가우스를 탑재한 삼성 스마트폰이 메타의 라마(Llama)2를 탑재한 퀄컴 기기 및 구글 어시스턴트를 적용한 구글 픽셀(Pixel)과 경쟁할 것으로 예상됩니다.\n",
      "\n",
      "이 정보는 삼성전자가 AI 기술을 발전시키고 있으며, 특히 생성형 AI 분야에서의 혁신을 보여줍니다.\n"
     ]
    }
   ],
   "source": [
    "# 질의에 대한 답변을 스트리밍으로 출력 요청\n",
    "response = agent_with_chat_history.stream(\n",
    "    {\"input\": \"삼성전자가 개발한 생성형 AI 관련된 정보를 문서에서 찾아주세요.\"},\n",
    "    # session_id 설정\n",
    "    config={\"configurable\": {\"session_id\": \"abc123\"}},\n",
    ")\n",
    "\n",
    "# 출력 확인\n",
    "for step in response:\n",
    "    agent_stream_parser.process_agent_steps(step)"
   ]
  },
  {
   "cell_type": "code",
   "execution_count": 70,
   "metadata": {},
   "outputs": [
    {
     "name": "stdout",
     "output_type": "stream",
     "text": [
      "[최종 답변]\n",
      "Here is the translation of the previous response into English:\n",
      "\n",
      "- **Model Name**: Samsung Gauss\n",
      "- **Announcement Date**: First unveiled on November 8, 2023, at the Samsung AI Forum 2023.\n",
      "- **Components**: Samsung Gauss consists of three models: language, code, and image.\n",
      "  - **Language Model**: Supports tasks such as email writing, document summarization, and translation, with various models that can operate in the cloud and on-device.\n",
      "  - **Code Model**: Provides a coding assistant called 'code.i' through an interactive interface, optimized for in-house software development.\n",
      "  - **Image Model**: Capable of generating creative images and modifying existing ones, as well as converting low-resolution images to high-resolution.\n",
      "\n",
      "- **On-Device Operation**: Samsung Gauss is designed to operate on-device, ensuring that user information is not at risk of being leaked externally. This means it has been trained on secure data.\n",
      "\n",
      "- **Future Plans**: Samsung plans to gradually integrate Samsung Gauss into various products. It is expected that smartphones equipped with Gauss will compete with Qualcomm devices featuring Meta's Llama 2 and Google Pixel devices using Google Assistant starting in 2024.\n",
      "\n",
      "This information demonstrates that Samsung is advancing AI technology, particularly in the field of generative AI.\n"
     ]
    }
   ],
   "source": [
    "response = agent_with_chat_history.stream(\n",
    "    {\"input\": \"이전의 답변을 영어로 번역해 주세요.\"},\n",
    "    # session_id 설정\n",
    "    config={\"configurable\": {\"session_id\": \"abc123\"}},\n",
    ")\n",
    "\n",
    "# 출력 확인\n",
    "for step in response:\n",
    "    agent_stream_parser.process_agent_steps(step)"
   ]
  }
 ],
 "metadata": {
  "kernelspec": {
   "display_name": "venv",
   "language": "python",
   "name": "python3"
  },
  "language_info": {
   "codemirror_mode": {
    "name": "ipython",
    "version": 3
   },
   "file_extension": ".py",
   "mimetype": "text/x-python",
   "name": "python",
   "nbconvert_exporter": "python",
   "pygments_lexer": "ipython3",
   "version": "3.11.9"
  }
 },
 "nbformat": 4,
 "nbformat_minor": 2
}
