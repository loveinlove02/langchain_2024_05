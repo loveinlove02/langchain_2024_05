{
 "cells": [
  {
   "cell_type": "code",
   "execution_count": 16,
   "metadata": {},
   "outputs": [],
   "source": [
    "from dotenv import load_dotenv\n",
    "import os\n",
    "\n",
    "load_dotenv(verbose=True)\n",
    "key = os.getenv('OPENAI_API_KEY')"
   ]
  },
  {
   "cell_type": "code",
   "execution_count": 17,
   "metadata": {},
   "outputs": [],
   "source": [
    "from typing import List, Dict, Annotated\n",
    "from langchain_teddynote.tools import GoogleNews\n",
    "from langchain_experimental.utilities import PythonREPL\n",
    "from langchain.tools import tool"
   ]
  },
  {
   "cell_type": "code",
   "execution_count": 18,
   "metadata": {},
   "outputs": [],
   "source": [
    "@tool\n",
    "def search_news(query: str) -> List[Dict[str, str]]:\n",
    "    \"\"\"Search Google News by input keyword\"\"\"\n",
    "    news_tool = GoogleNews()\n",
    "    return news_tool.search_by_keyword(query, k=5)"
   ]
  },
  {
   "cell_type": "code",
   "execution_count": 19,
   "metadata": {},
   "outputs": [],
   "source": [
    "@tool\n",
    "def python_repl_tool(\n",
    "    # 매개변수 이름은 code \n",
    "    # str은 매개 변수의 타입.\n",
    "    # \"The python ~~ your chart.\" 는 매개변수에 대한 설명.\n",
    "    code: Annotated[str, \"The python code to execute to generate your chart.\"],\n",
    "):\n",
    "    \"\"\"Use this to execute python code. If you want to see the output of a value,\n",
    "    you should print it out with `print(...)`. This is visible to the user.\"\"\"\n",
    "    result = \"\"\n",
    "    try:\n",
    "        result = PythonREPL().run(code)\n",
    "    except BaseException as e:\n",
    "        print(f\"Failed to execute. Error: {repr(e)}\")\n",
    "    finally:\n",
    "        return result"
   ]
  },
  {
   "cell_type": "code",
   "execution_count": 20,
   "metadata": {},
   "outputs": [
    {
     "name": "stdout",
     "output_type": "stream",
     "text": [
      "도구 이름: search_news\n",
      "도구 설명: Search Google News by input keyword\n",
      "도구 이름: python_repl_tool\n",
      "도구 설명: Use this to execute python code. If you want to see the output of a value,\n",
      "    you should print it out with `print(...)`. This is visible to the user.\n"
     ]
    }
   ],
   "source": [
    "print(f\"도구 이름: {search_news.name}\")\n",
    "print(f\"도구 설명: {search_news.description}\")\n",
    "print(f\"도구 이름: {python_repl_tool.name}\")\n",
    "print(f\"도구 설명: {python_repl_tool.description}\")"
   ]
  },
  {
   "cell_type": "code",
   "execution_count": 21,
   "metadata": {},
   "outputs": [],
   "source": [
    "tools = [search_news, python_repl_tool]"
   ]
  },
  {
   "cell_type": "markdown",
   "metadata": {},
   "source": [
    "### **Agent 프롬프트 생성**\n",
    "\n",
    "- `chat_history` : 이전 대화 내용을 저장하는 변수\n",
    "- `agent_scratchpad` : 에이전트가 검색하는 과정들이나 내용 등을 임시로 저장하는 변수\n",
    "- `input` : 사용자의 입력"
   ]
  },
  {
   "cell_type": "code",
   "execution_count": 22,
   "metadata": {},
   "outputs": [],
   "source": [
    "from langchain_core.prompts import ChatPromptTemplate"
   ]
  },
  {
   "cell_type": "code",
   "execution_count": 8,
   "metadata": {},
   "outputs": [],
   "source": [
    "# 프롬프트 생성. 프롬프트는 에이전트에게 모델이 수행할 작업을 설명하는 텍스트를 제공합니다. (도구의 이름과 역할을 입력)\n",
    "prompt = ChatPromptTemplate.from_messages(\n",
    "    [\n",
    "        (                                           \n",
    "            \"system\",\n",
    "            \"You are a helpful assistant. \"             \n",
    "            \"Make sure to use the `search_news` tool for searching keyword related news.\",\n",
    "        ),\n",
    "        (\"placeholder\", \"{chat_history}\"),          # 이전 대화 내용을 넣을 곳을 잡아둔다.\n",
    "        (\"human\", \"{input}\"),                       # 사용자 입력\n",
    "\n",
    "        # 에이전트가 검색하는 과정들이나 내용 등을 끄적이는 메모장 같은 공간을 플레이스 홀더로 만들어준다\n",
    "        (\"placeholder\", \"{agent_scratchpad}\"),       \n",
    "    ]\n",
    ")"
   ]
  },
  {
   "cell_type": "markdown",
   "metadata": {},
   "source": [
    "### **Agent 생성**"
   ]
  },
  {
   "cell_type": "code",
   "execution_count": 9,
   "metadata": {},
   "outputs": [],
   "source": [
    "from langchain_openai import ChatOpenAI\n",
    "from langchain.agents import create_tool_calling_agent"
   ]
  },
  {
   "cell_type": "code",
   "execution_count": 10,
   "metadata": {},
   "outputs": [],
   "source": [
    "# LLM 정의\n",
    "llm = ChatOpenAI(model=\"gpt-4o-mini\", temperature=0)"
   ]
  },
  {
   "cell_type": "code",
   "execution_count": 11,
   "metadata": {},
   "outputs": [],
   "source": [
    "# Agent 생성\n",
    "agent = create_tool_calling_agent(llm, tools, prompt)"
   ]
  },
  {
   "cell_type": "markdown",
   "metadata": {},
   "source": [
    "### **AgentExecutor**\n",
    "\n",
    "`AgentExecutor`는 도구를 사용하는 에이전트를 실행하는 클래스입니다.\n",
    "<br>\n",
    "\n",
    "**속성**\n",
    "\n",
    "- `agent`: 실행 루프의 각 단계에서 계획을 생성하고 행동을 결정하는 에이전트\n",
    "- `tools`: 에이전트가 사용할 수 있는 유효한 도구 목록\n",
    "- `return_intermediate_steps`: 최종 출력과 함께 에이전트의 중간 단계 경로를 반환할지 여부\n",
    "- `max_iterations`: 실행 루프를 종료하기 전 최대 단계 수\n",
    "- `max_execution_time`: 실행 루프에 소요될 수 있는 최대 시간 \n",
    "- `early_stopping_method`: 에이전트가 AgentFinish를 반환하지 않을 때 사용할 조기 종료 방법. (\"force\" or \"generate\")\n",
    "    - `\"force\"` 는 시간 또는 반복 제한에 도달하여 중지되었다는 문자열을 반환합니다.\n",
    "    - `\"generate\"` 는 에이전트의 LLM 체인을 마지막으로 한 번 호출하여 이전 단계에 따라 최종 답변을 생성합니다.\n",
    "- `handle_parsing_errors`: 에이전트의 출력 파서에서 발생한 오류 처리 방법. (True, False, 또는 오류 처리 함수)\n",
    "- `trim_intermediate_steps`: 중간 단계를 트리밍하는 방법. (-1 trim 하지 않음, 또는 트리밍 함수)\n",
    "\n",
    "**메소드**\n",
    "\n",
    "1. `invoke`: 에이전트 실행\n",
    "2. `stream`: 최종 출력에 도달하는 데 필요한 단계를 스트리밍"
   ]
  },
  {
   "cell_type": "code",
   "execution_count": 12,
   "metadata": {},
   "outputs": [],
   "source": [
    "from langchain.agents import AgentExecutor"
   ]
  },
  {
   "cell_type": "code",
   "execution_count": 13,
   "metadata": {},
   "outputs": [],
   "source": [
    "# AgentExecutor 생성\n",
    "agent_executor = AgentExecutor(\n",
    "    agent=agent,\n",
    "    tools=tools,\n",
    "    verbose=True,\n",
    "    max_iterations=10,\n",
    "    max_execution_time=10,\n",
    "    handle_parsing_errors=True,\n",
    ")"
   ]
  },
  {
   "cell_type": "code",
   "execution_count": 14,
   "metadata": {},
   "outputs": [
    {
     "name": "stdout",
     "output_type": "stream",
     "text": [
      "\n",
      "\n",
      "\u001b[1m> Entering new AgentExecutor chain...\u001b[0m\n",
      "\u001b[32;1m\u001b[1;3m\n",
      "Invoking: `search_news` with `{'query': 'AI 투자'}`\n",
      "\n",
      "\n",
      "\u001b[0m\u001b[36;1m\u001b[1;3m[{'url': 'https://news.google.com/rss/articles/CBMiVkFVX3lxTE9HMzNkMXZaZ0k2ekVETmtLNVI2bVVrQlBkbVE3Ry1IenhrWkR1d2pCeHk1ZnNIVjVSVWx4VDRTdjZxcWtsdlhLYTJ4aFVzQzkyNHhsa2pB?oc=5', 'content': '\"투자·인재·제도 열악한데 AI 3강?\"…韓, 마이너리그 전락 \\'우려\\' - ZD넷 코리아'}, {'url': 'https://news.google.com/rss/articles/CBMiWkFVX3lxTE4wakVoSDRYZkVkc2plSk9seVRQWkxOVnRNcWVObzEzT1ZtU3FPTzJ6SnRYZk5WbEhDUTFacXVPdjFpYzR4SXM3SG9LN2pyTE5xXzk2T2tPX0NCUdIBVEFVX3lxTE1FVHBlQ2hSOHV6NmxPbVFRaWpYd3doN0dEMXA2UmwteWo0a2J2UVloV3d3NUY0YzRkLUpzXzhCMmkzSFF1UGNCejFaeDFrMDJIVWNuRg?oc=5', 'content': '엔비디아가 투자한 AI 스타트업, 430억원 추가 확보 [긱스 플러스] - 한국경제'}, {'url': 'https://news.google.com/rss/articles/CBMiU0FVX3lxTE54ZmNPOXRVVmV3VFVxeExUX0I2Q29FeURuYjczV1hUSzVGb0VlMWJ2Z0g5MlhxdklSR2FVTzhDWEt2R3J3ZnJHR0d0eHVDVi10SnZB?oc=5', 'content': \"멀티모달 AI 영상 전문 '트웰브랩스' 3000만달러 전략투자 유치 - 네이트 뉴스\"}, {'url': 'https://news.google.com/rss/articles/CBMi2gJBVV95cUxQYzQxQXJTdFNIVkVjYXlNTDVtRHJqUm1hOEl4NWVFSG1hVjZURFJOWFV4elB1dDZ3NVFWSHU1MGc3WnJTUjFwM3hGVnZlcUljNzZDYTVWMDNka2MxMjY0bmdNV3pFQjRuNHRKOGpNang5TjZrdmZqTUlFSkNwZnRhNGhHMGRhem53TnVscnRQekZRUnZkZTlLbml2aXNGc2hLaGZGMVRGVWl0LXNhRm1WSWFJUkNmQnZXLVhJODI0QjhnUTN0ZktoWU0xSVpVbGtFTFpVUllwb1VEMUtXWkt6cnpVd2xjTW5yaFYxWHhlc3htTzJfaG9ra1h1MVhNT0JmZk9jOVd1eFB0UnJ5c1ZMQ1pyU0Q2VmpNVjVsb2VUN00xTzJuVi1LNS1NbzFFajBNTFBLbHlfVnBZcDVhYS1DZ1pyaGZjYlNYVm1JZVV1TDhoRVhrN21YRE1n0gHaAkFVX3lxTFBjNDFBclN0U0hWRWNheU1MNW1EcmpSbWE4SXg1ZUVIbWFWNlREUk5YVXh6UHV0Nnc1UVZIdTUwZzdaclNSMXAzeEZWdmVxSWM3NkNhNVYwM2RrYzEyNjRuZ01XekVCNG40dEo4ak1qeDlONmt2ZmpNSUVKQ3BmdGE0aEcwZGF6bndOdWxydFB6RlFSdmRlOUtuaXZpc0ZzaEtoZkYxVEZVaXQtc2FGbVZJYUlSQ2ZCdlctWEk4MjRCOGdRM3RmS2hZTTFJWlVsa0VMWlVSWXBvVUQxS1daS3pyelV3bGNNbnJoVjFYeGVzeG1PMl9ob2trWHUxWE1PQmZmT2M5V3V4UHRScnlzVkxDWnJTRDZWak1WNWxvZVQ3TTFPMm5WLUs1LU1vMUVqME1MUEtseV9WcFlwNWFhLUNnWnJoZmNiU1hWbUllVXVMOGhFWGs3bVhETWc?oc=5', 'content': '칼럼 | 이제는 수익을 고민할 때··· 생성형 AI의 비즈니스 가치를 높이는 팁 5가지 - CIO.com'}, {'url': 'https://news.google.com/rss/articles/CBMiVkFVX3lxTE5lV08yNm9yVkxpb0hlbGNsTUlGSkwyUjdhNTBqbV9tc0FQM1VvcENMV21aczRDQkR1ck9qR0EtaS1vQVpmdjVINkVMQXQyelZ5YU5CSURn?oc=5', 'content': '“AI 투자했더니 경영진 맘대로 2차전지行”…‘유증 강행’ 이수페타시스 8%대 급락 [투자360] - 헤럴드경제'}]\u001b[0m\u001b[32;1m\u001b[1;3m다음은 AI 투자와 관련된 최근 뉴스입니다:\n",
      "\n",
      "1. **[투자·인재·제도 열악한데 AI 3강?…韓, 마이너리그 전락 '우려'](https://news.google.com/rss/articles/CBMiVkFVX3lxTE9HMzNkMXZaZ0k2ekVETmtLNVI2bVVrQlBkbVE3Ry1IenhrWkR1d2pCeHk1ZnNIVjVSVWx4VDRTdjZxcWtsdlhLYTJ4aFVzQzkyNHhsa2pB?oc=5)** - ZD넷 코리아\n",
      "\n",
      "2. **[엔비디아가 투자한 AI 스타트업, 430억원 추가 확보](https://news.google.com/rss/articles/CBMiWkFVX3lxTE4wakVoSDRYZkVkc2plSk9seVRQWkxOVnRNcWVObzEzT1ZtU3FPTzJ6SnRYZk5WbEhDUTFacXVPdjFpYzR4SXM3SG9LN2pyTE5xXzk2T2tPX0NCUdIBVEFVX3lxTE1FVHBlQ2hSOHV6NmxPbVFRaWpYd3doN0dEMXA2UmwteWo0a2J2UVloV3d3NUY0YzRkLUpzXzhCMmkzSFF1UGNCejFaeDFrMDJIVWNuRg?oc=5)** - 한국경제\n",
      "\n",
      "3. **[멀티모달 AI 영상 전문 '트웰브랩스' 3000만달러 전략투자 유치](https://news.google.com/rss/articles/CBMiU0FVX3lxTE54ZmNPOXRVVmV3VFVxeExUX0I2Q29FeURuYjczV1hUSzVGb0VlMWJ2Z0g5MlhxdklSR2FVTzhDWEt2R3J3ZnJHR0d0eHVDVi10SnZB?oc=5)** - 네이트 뉴스\n",
      "\n",
      "4. **[칼럼 | 이제는 수익을 고민할 때··· 생성형 AI의 비즈니스 가치를 높이는 팁 5가지](https://news.google.com/rss/articles/CBMi2gJBVV95cUxQYzQxQXJTdFNIVkVjYXlNTDVtRHJqUm1hOEl4NWVFSG1hVjZURFJOWFV4elB1dDZ3NVFWSHU1MGc3WnJTUjFwM3hGVnZlcUljNzZDYTVWMDNka2MxMjY0bmdNV3pFQjRuNHRKOGpNang5TjZrdmZqTUlFSkNwZnRhNGhHMGRhem53TnVscnRQekZRUnZkZTlLbml2aXNGc2hLaGZGMVRGVWl0LXNhRm1WSWFJUkNmQnZXLVhJODI0QjhnUTN0ZktoWU0xSVpVbGtFTFpVUllwb1VEMUtXWkt6cnpVd2xjTW5yaFYxWHhlc3htTzJfaG9ra1h1MVhNT0JmZk9jOVd1eFB0UnJ5c1ZMQ1pyU0Q2VmpNVjVsb2VUN00xTzJuVi1LNS1NbzFFajBNTFBLbHlfVnBZcDVhYS1DZ1pyaGZjYlNYVm1JZVV1TDhoRVhrN21YRE1n0gHaAkFVX3lxTFBjNDFBclN0U0hWRWNheU1MNW1EcmpSbWE4SXg1ZUVIbWFWNlREUk5YVXh6UHV0Nnc1UVZIdTUwZzdaclNSMXAzeEZWdmVxSWM3NkNhNVYwM2RrYzEyNjRuZ01XekVCNG40dEo4ak1qeDlONmt2ZmpNSUVKQ3BmdGE0aEcwZGF6bndOdWxydFB6RlFSdmRlOUtuaXZpc0ZzaEtoZkYxVEZVaXQtc2FGbVZJYUlSQ2ZCdlctWEk4MjRCOGdRM3RmS2hZTTFJWlVsa0VMWlVSWXBvVUQxS1daS3pyelV3bGNNbnJoVjFYeGVzeG1PMl9ob2trWHUxWE1PQmZmT2M5V3V4UHRScnlzVkxDWnJTRDZWak1WNWxvZVQ3TTFPMm5WLUs1LU1vMUVqME1MUEtseV9WcFlwNWFhLUNnWnJoZmNiU1hWbUllVXVMOGhFWGs3bVhETWc?oc=5)** - CIO.com\n",
      "\n",
      "5. **[“AI 투자했더니 경영진 맘대로 2차전지行”…‘유증 강행’ 이수페타시스 8%대 급락](https://news.google.com/rss/articles/CBMiVkFVX3lxTE5lV08yNm9yVkxpb0hlbGNsTUlGSkwyUjdhNTBqbV9tc0FQM1VvcENMV21aczRDQkR1ck9qR0EtaS1vQVpmdjVINkVMQXQyelZ5YU5CSURn?oc=5)** - 헤럴드경제\n",
      "\n",
      "이 뉴스들은 AI 투자와 관련된 다양한 주제를 다루고 있습니다.\u001b[0m\n",
      "\n",
      "\u001b[1m> Finished chain.\u001b[0m\n"
     ]
    }
   ],
   "source": [
    "# AgentExecutor 실행\n",
    "result = agent_executor.invoke({\"input\": \"AI 투자와 관련된 뉴스를 검색해 주세요.\"})"
   ]
  },
  {
   "cell_type": "code",
   "execution_count": 15,
   "metadata": {},
   "outputs": [
    {
     "name": "stdout",
     "output_type": "stream",
     "text": [
      "Agent 실행 결과:\n",
      "다음은 AI 투자와 관련된 최근 뉴스입니다:\n",
      "\n",
      "1. **[투자·인재·제도 열악한데 AI 3강?…韓, 마이너리그 전락 '우려'](https://news.google.com/rss/articles/CBMiVkFVX3lxTE9HMzNkMXZaZ0k2ekVETmtLNVI2bVVrQlBkbVE3Ry1IenhrWkR1d2pCeHk1ZnNIVjVSVWx4VDRTdjZxcWtsdlhLYTJ4aFVzQzkyNHhsa2pB?oc=5)** - ZD넷 코리아\n",
      "\n",
      "2. **[엔비디아가 투자한 AI 스타트업, 430억원 추가 확보](https://news.google.com/rss/articles/CBMiWkFVX3lxTE4wakVoSDRYZkVkc2plSk9seVRQWkxOVnRNcWVObzEzT1ZtU3FPTzJ6SnRYZk5WbEhDUTFacXVPdjFpYzR4SXM3SG9LN2pyTE5xXzk2T2tPX0NCUdIBVEFVX3lxTE1FVHBlQ2hSOHV6NmxPbVFRaWpYd3doN0dEMXA2UmwteWo0a2J2UVloV3d3NUY0YzRkLUpzXzhCMmkzSFF1UGNCejFaeDFrMDJIVWNuRg?oc=5)** - 한국경제\n",
      "\n",
      "3. **[멀티모달 AI 영상 전문 '트웰브랩스' 3000만달러 전략투자 유치](https://news.google.com/rss/articles/CBMiU0FVX3lxTE54ZmNPOXRVVmV3VFVxeExUX0I2Q29FeURuYjczV1hUSzVGb0VlMWJ2Z0g5MlhxdklSR2FVTzhDWEt2R3J3ZnJHR0d0eHVDVi10SnZB?oc=5)** - 네이트 뉴스\n",
      "\n",
      "4. **[칼럼 | 이제는 수익을 고민할 때··· 생성형 AI의 비즈니스 가치를 높이는 팁 5가지](https://news.google.com/rss/articles/CBMi2gJBVV95cUxQYzQxQXJTdFNIVkVjYXlNTDVtRHJqUm1hOEl4NWVFSG1hVjZURFJOWFV4elB1dDZ3NVFWSHU1MGc3WnJTUjFwM3hGVnZlcUljNzZDYTVWMDNka2MxMjY0bmdNV3pFQjRuNHRKOGpNang5TjZrdmZqTUlFSkNwZnRhNGhHMGRhem53TnVscnRQekZRUnZkZTlLbml2aXNGc2hLaGZGMVRGVWl0LXNhRm1WSWFJUkNmQnZXLVhJODI0QjhnUTN0ZktoWU0xSVpVbGtFTFpVUllwb1VEMUtXWkt6cnpVd2xjTW5yaFYxWHhlc3htTzJfaG9ra1h1MVhNT0JmZk9jOVd1eFB0UnJ5c1ZMQ1pyU0Q2VmpNVjVsb2VUN00xTzJuVi1LNS1NbzFFajBNTFBLbHlfVnBZcDVhYS1DZ1pyaGZjYlNYVm1JZVV1TDhoRVhrN21YRE1n0gHaAkFVX3lxTFBjNDFBclN0U0hWRWNheU1MNW1EcmpSbWE4SXg1ZUVIbWFWNlREUk5YVXh6UHV0Nnc1UVZIdTUwZzdaclNSMXAzeEZWdmVxSWM3NkNhNVYwM2RrYzEyNjRuZ01XekVCNG40dEo4ak1qeDlONmt2ZmpNSUVKQ3BmdGE0aEcwZGF6bndOdWxydFB6RlFSdmRlOUtuaXZpc0ZzaEtoZkYxVEZVaXQtc2FGbVZJYUlSQ2ZCdlctWEk4MjRCOGdRM3RmS2hZTTFJWlVsa0VMWlVSWXBvVUQxS1daS3pyelV3bGNNbnJoVjFYeGVzeG1PMl9ob2trWHUxWE1PQmZmT2M5V3V4UHRScnlzVkxDWnJTRDZWak1WNWxvZVQ3TTFPMm5WLUs1LU1vMUVqME1MUEtseV9WcFlwNWFhLUNnWnJoZmNiU1hWbUllVXVMOGhFWGs3bVhETWc?oc=5)** - CIO.com\n",
      "\n",
      "5. **[“AI 투자했더니 경영진 맘대로 2차전지行”…‘유증 강행’ 이수페타시스 8%대 급락](https://news.google.com/rss/articles/CBMiVkFVX3lxTE5lV08yNm9yVkxpb0hlbGNsTUlGSkwyUjdhNTBqbV9tc0FQM1VvcENMV21aczRDQkR1ck9qR0EtaS1vQVpmdjVINkVMQXQyelZ5YU5CSURn?oc=5)** - 헤럴드경제\n",
      "\n",
      "이 뉴스들은 AI 투자와 관련된 다양한 주제를 다루고 있습니다.\n"
     ]
    }
   ],
   "source": [
    "print(\"Agent 실행 결과:\")\n",
    "print(result[\"output\"])"
   ]
  }
 ],
 "metadata": {
  "kernelspec": {
   "display_name": "venv",
   "language": "python",
   "name": "python3"
  },
  "language_info": {
   "codemirror_mode": {
    "name": "ipython",
    "version": 3
   },
   "file_extension": ".py",
   "mimetype": "text/x-python",
   "name": "python",
   "nbconvert_exporter": "python",
   "pygments_lexer": "ipython3",
   "version": "3.11.9"
  }
 },
 "nbformat": 4,
 "nbformat_minor": 2
}
