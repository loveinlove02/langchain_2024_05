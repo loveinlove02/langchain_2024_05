{
 "cells": [
  {
   "cell_type": "code",
   "execution_count": 1,
   "metadata": {},
   "outputs": [],
   "source": [
    "from dotenv import load_dotenv\n",
    "import os\n",
    "\n",
    "load_dotenv(verbose=True)\n",
    "key = os.getenv('OPENAI_API_KEY')"
   ]
  },
  {
   "cell_type": "code",
   "execution_count": 2,
   "metadata": {},
   "outputs": [],
   "source": [
    "from typing import List, Dict, Annotated\n",
    "from langchain_teddynote.tools import GoogleNews\n",
    "from langchain_experimental.utilities import PythonREPL\n",
    "from langchain.tools import tool"
   ]
  },
  {
   "cell_type": "code",
   "execution_count": 3,
   "metadata": {},
   "outputs": [],
   "source": [
    "@tool\n",
    "def search_news(query: str) -> List[Dict[str, str]]:\n",
    "    \"\"\"Search Google News by input keyword\"\"\"\n",
    "    news_tool = GoogleNews()    \n",
    "    return news_tool.search_by_keyword(query, k=5)"
   ]
  },
  {
   "cell_type": "code",
   "execution_count": 4,
   "metadata": {},
   "outputs": [],
   "source": [
    "@tool\n",
    "def python_repl_tool(\n",
    "    # 매개변수 이름은 code \n",
    "    # str은 매개 변수의 타입.\n",
    "    # \"The python ~~ your chart.\" 는 매개변수에 대한 설명.\n",
    "    code: Annotated[str, \"The python code to execute to generate your chart.\"],\n",
    "):\n",
    "    \"\"\"Use this to execute python code. If you want to see the output of a value,\n",
    "    you should print it out with `print(...)`. This is visible to the user.\"\"\"\n",
    "    result = \"\"\n",
    "    try:\n",
    "        result = PythonREPL().run(code)\n",
    "    except BaseException as e:\n",
    "        print(f\"Failed to execute. Error: {repr(e)}\")\n",
    "    finally:\n",
    "        return result"
   ]
  },
  {
   "cell_type": "code",
   "execution_count": 5,
   "metadata": {},
   "outputs": [
    {
     "name": "stdout",
     "output_type": "stream",
     "text": [
      "도구 이름: search_news\n",
      "도구 설명: Search Google News by input keyword\n",
      "도구 이름: python_repl_tool\n",
      "도구 설명: Use this to execute python code. If you want to see the output of a value,\n",
      "    you should print it out with `print(...)`. This is visible to the user.\n"
     ]
    }
   ],
   "source": [
    "print(f\"도구 이름: {search_news.name}\")\n",
    "print(f\"도구 설명: {search_news.description}\")\n",
    "print(f\"도구 이름: {python_repl_tool.name}\")\n",
    "print(f\"도구 설명: {python_repl_tool.description}\")"
   ]
  },
  {
   "cell_type": "code",
   "execution_count": 6,
   "metadata": {},
   "outputs": [],
   "source": [
    "tools = [search_news, python_repl_tool]"
   ]
  },
  {
   "cell_type": "markdown",
   "metadata": {},
   "source": [
    "### **Agent 프롬프트 생성**\n",
    "\n",
    "- `chat_history` : 이전 대화 내용을 저장하는 변수\n",
    "- `agent_scratchpad` : 에이전트가 검색하는 과정들이나 내용 등을 임시로 저장하는 변수\n",
    "- `input` : 사용자의 입력"
   ]
  },
  {
   "cell_type": "code",
   "execution_count": 8,
   "metadata": {},
   "outputs": [],
   "source": [
    "from langchain_core.prompts import ChatPromptTemplate"
   ]
  },
  {
   "cell_type": "code",
   "execution_count": 9,
   "metadata": {},
   "outputs": [],
   "source": [
    "# 프롬프트 생성. 프롬프트는 에이전트에게 모델이 수행할 작업을 설명하는 텍스트를 제공합니다. (도구의 이름과 역할을 입력)\n",
    "prompt = ChatPromptTemplate.from_messages(\n",
    "    [\n",
    "        (                                           \n",
    "            \"system\",\n",
    "            \"You are a helpful assistant. \"             \n",
    "            \"Make sure to use the `search_news` tool for searching keyword related news.\",\n",
    "        ),\n",
    "        (\"placeholder\", \"{chat_history}\"),          # 이전 대화 내용을 넣기위해서 chat_history 변수\n",
    "        (\"human\", \"{input}\"),                       # 사용자 입력\n",
    "\n",
    "        # 에이전트가 검색하는 과정들이나 내용 등을 끄적이는 메모장 같은 공간을 플레이스 홀더로 만들어준다\n",
    "        (\"placeholder\", \"{agent_scratchpad}\"),       \n",
    "    ]\n",
    ")"
   ]
  },
  {
   "cell_type": "markdown",
   "metadata": {},
   "source": [
    "### **Agent 생성**"
   ]
  },
  {
   "cell_type": "code",
   "execution_count": 10,
   "metadata": {},
   "outputs": [],
   "source": [
    "from langchain_openai import ChatOpenAI\n",
    "from langchain.agents import create_tool_calling_agent"
   ]
  },
  {
   "cell_type": "code",
   "execution_count": 13,
   "metadata": {},
   "outputs": [],
   "source": [
    "# LLM 정의\n",
    "llm = ChatOpenAI(model=\"gpt-4o-mini\", temperature=0)"
   ]
  },
  {
   "cell_type": "code",
   "execution_count": 12,
   "metadata": {},
   "outputs": [],
   "source": [
    "# Agent 생성\n",
    "agent = create_tool_calling_agent(llm, tools, prompt)"
   ]
  },
  {
   "cell_type": "markdown",
   "metadata": {},
   "source": [
    "### **AgentExecutor**\n",
    "\n",
    "`AgentExecutor`는 도구를 사용하는 에이전트를 실행하는 클래스입니다.\n",
    "<br>\n",
    "\n",
    "**속성**\n",
    "\n",
    "- `agent`: 실행 루프의 각 단계에서 계획을 생성하고 행동을 결정하는 에이전트\n",
    "- `tools`: 에이전트가 사용할 수 있는 유효한 도구 목록\n",
    "- `return_intermediate_steps`: 최종 출력과 함께 에이전트의 중간 단계 경로를 반환할지 여부\n",
    "- `max_iterations`: 실행 루프를 종료하기 전 최대 단계 수\n",
    "- `max_execution_time`: 실행 루프에 소요될 수 있는 최대 시간 \n",
    "- `early_stopping_method`: 에이전트가 AgentFinish를 반환하지 않을 때 사용할 조기 종료 방법. (\"force\" or \"generate\")\n",
    "    - `\"force\"` 는 시간 또는 반복 제한에 도달하여 중지되었다는 문자열을 반환합니다.\n",
    "    - `\"generate\"` 는 에이전트의 LLM 체인을 마지막으로 한 번 호출하여 이전 단계에 따라 최종 답변을 생성합니다.\n",
    "- `handle_parsing_errors`: 에이전트의 출력 파서에서 발생한 오류 처리 방법. (True, False, 또는 오류 처리 함수)\n",
    "- `trim_intermediate_steps`: 중간 단계를 트리밍하는 방법. (-1 trim 하지 않음, 또는 트리밍 함수)\n",
    "\n",
    "**메소드**\n",
    "\n",
    "1. `invoke`: 에이전트 실행\n",
    "2. `stream`: 최종 출력에 도달하는 데 필요한 단계를 스트리밍"
   ]
  },
  {
   "cell_type": "code",
   "execution_count": 14,
   "metadata": {},
   "outputs": [],
   "source": [
    "from langchain.agents import AgentExecutor"
   ]
  },
  {
   "cell_type": "code",
   "execution_count": 19,
   "metadata": {},
   "outputs": [],
   "source": [
    "# AgentExecutor 생성\n",
    "agent_executor = AgentExecutor(\n",
    "    agent=agent,    \n",
    "    tools=tools,    \n",
    "    verbose=True,   \n",
    "    max_iterations=10,      \n",
    "    max_execution_time=10,\n",
    "    handle_parsing_errors=True,\n",
    ")"
   ]
  },
  {
   "cell_type": "code",
   "execution_count": 20,
   "metadata": {},
   "outputs": [
    {
     "name": "stdout",
     "output_type": "stream",
     "text": [
      "\n",
      "\n",
      "\u001b[1m> Entering new AgentExecutor chain...\u001b[0m\n",
      "\u001b[32;1m\u001b[1;3m\n",
      "Invoking: `search_news` with `{'query': 'AI 투자'}`\n",
      "\n",
      "\n",
      "\u001b[0m\u001b[36;1m\u001b[1;3m[{'url': 'https://news.google.com/rss/articles/CBMiZkFVX3lxTE9mVlA5NHBMelFnN2xXbHJFSmY4MjZ4Q012SjZubEVPeE1Oek9VcTByVWd6c1NhUURFX3V6aVJEa01wUjJnSnFTcEZqX2daXzZRNWtUUTlOQ2UycWdud0ljRnk5SXAtQdIBbkFVX3lxTE8tOE9lZTVScXotZVlpcGlEY0p4SXhSdENMMmhtWi03MFF0dkVzNUVaNkF2Ukw4Z2pVUFRYczBDNTJVaENHRDByRnpfUmgzNWlTVnNoOGt6dFg5N2w5TWNyWjZJTXZPRVZ5VnJzTFVB?oc=5', 'content': 'AI에 살거나 죽거나…돈 퍼부은 글로벌 빅테크, 이젠 거품 공포 - 머니투데이'}, {'url': 'https://news.google.com/rss/articles/CBMiZkFVX3lxTE9RcnRDV1l2ekhBdzZWTTFoWUo0YkdqU084WHN1V21JUUJzYm9mOFJrMzMtZUFXZ3lTWmtOd3pQSkN4RlJzaEdIMU5kOTNfZV81TmZXR1FMZW1HT0gzcEo0Y1JaVUxpQdIBbkFVX3lxTE1kWWp4dmZvUjdBek52alNERVZQOFZMQ2FDMmVWWW5FNExiYzhUcXBSaDBKaTZCb0k2TXhrcHQ2THVHYmhDZFF4d3oxeENOZjI0cTZpS2dtZmtweF8weWVvMHpnUDhYaVRDQ2xJWTln?oc=5', 'content': '기업 10곳 중 8곳 \"재무분야 AI 투자성과, 기대 이상\" - 머니투데이'}, {'url': 'https://news.google.com/rss/articles/CBMiVkFVX3lxTE5qUnZqMGRCZnBVSGxqQVV0UDE1UXZmcFZvUWMyS2FfNFN0TWUtZ3c3T0hFS0RYSkY0TWtsWlh0S3dmeVNoOHI2b0MyRGtVaW5adzVWMHFR?oc=5', 'content': '5G-A 도입 속도 낸다...AI 투자도 본격화 - ZD넷 코리아'}, {'url': 'https://news.google.com/rss/articles/CBMiVkFVX3lxTE1xVWQ1WGNLY2F4dlYtd0RFV0NFUFBMLXVrY0NfaDVfbG50Q19yNWNBRWtacEVLZk9tWXNVSnNha1pfcjFoVG4yNGZyRjhuam8zbmtQemRB0gFXQVVfeXFMTTBDdDJQRTFNeGdNWkplZkIyZ0Z2eFN1SWdnQWZXaUZydUY1QVdNSjgycWZoYlFvc3dBODFtQ3JTMkxVaFFoNk91NWpvck50WEFZVUx4cHJj?oc=5', 'content': '[투자의 창] AI 혁명 시대 재생 에너지의 역할 - 서울경제신문'}, {'url': 'https://news.google.com/rss/articles/CBMieEFVX3lxTFAzV2IzaHA3ZVU0dzIxQllVRWk3VjdBdkFCdklGaGF3djhhTkhXX2dlUWZEYkIxZDB5bjc2dXRyV0FvenFZOEU2UnpUcmhpTFBEcEF6VS02dDVBOThfUzBzemlGcXcyTUpTX1lUOFU1bmRRcC1ab0hQUA?oc=5', 'content': \"[GAM] '광학 기술 선두주자' 코히런트, AI 시대 핵심 기업으로 도약② - 네이트 뉴스\"}]\u001b[0m\u001b[32;1m\u001b[1;3m다음은 AI 투자와 관련된 최근 뉴스 기사들입니다:\n",
      "\n",
      "1. [AI에 살거나 죽거나…돈 퍼부은 글로벌 빅테크, 이젠 거품 공포 - 머니투데이](https://news.google.com/rss/articles/CBMiZkFVX3lxTE9mVlA5NHBMelFnN2xXbHJFSmY4MjZ4Q012SjZubEVPeE1Oek9VcTByVWd6c1NhUURFX3V6aVJEa01wUjJnSnFTcEZqX2daXzZRNWtUUTlOQ2UycWdud0ljRnk5SXAtQdIBbkFVX3lxTE8tOE9lZTVScXotZVlpcGlEY0p4SXhSdENMMmhtWi03MFF0dkVzNUVaNkF2Ukw4Z2pVUFRYczBDNTJVaENHRDByRnpfUmgzNWlTVnNoOGt6dFg5N2w5TWNyWjZJTXZPRVZ5VnJzTFVB?oc=5)\n",
      "\n",
      "2. [기업 10곳 중 8곳 \"재무분야 AI 투자성과, 기대 이상\" - 머니투데이](https://news.google.com/rss/articles/CBMiZkFVX3lxTE9RcnRDV1l2ekhBdzZWTTFoWUo0YkdqU084WHN1V21JUUJzYm9mOFJrMzMtZUFXZ3lTWmtOd3pQSkN4RlJzaEdIMU5kOTNfZV81TmZXR1FMZW1HT0gzcEo0Y1JaVUxpQdIBbkFVX3lxTE1kWWp4dmZvUjdBek52alNERVZQOFZMQ2FDMmVWWW5FNExiYzhUcXBSaDBKaTZCb0k2TXhrcHQ2THVHYmhDZFF4d3oxeENOZjI0cTZpS2dtZmtweF8weWVvMHpnUDhYaVRDQ2xJWTln?oc=5)\n",
      "\n",
      "3. [5G-A 도입 속도 낸다...AI 투자도 본격화 - ZD넷 코리아](https://news.google.com/rss/articles/CBMiVkFVX3lxTE5qUnZqMGRCZnBVSGxqQVV0UDE1UXZmcFZvUWMyS2FfNFN0TWUtZ3c3T0hFS0RYSkY0TWtsWlh0S3dmeVNoOHI2b0MyRGtVaW5adzVWMHFR?oc=5)\n",
      "\n",
      "4. [AI 혁명 시대 재생 에너지의 역할 - 서울경제신문](https://news.google.com/rss/articles/CBMiVkFVX3lxTE1xVWQ1WGNLY2F4dlYtd0RFV0NFUFBMLXVrY0NfaDVfbG50Q19yNWNBRWtacEVLZk9tWXNVSnNha1pfcjFoVG4yNGZyRjhuam8zbmtQemRB0gFXQVVfeXFMTTBDdDJQRTFNeGdNWkplZkIyZ0Z2eFN1SWdnQWZXaUZydUY1QVdNSjgycWZoYlFvc3dBODFtQ3JTMkxVaFFoNk91NWpvck50WEFZVUx4cHJj?oc=5)\n",
      "\n",
      "5. [코히런트, AI 시대 핵심 기업으로 도약② - 네이트 뉴스](https://news.google.com/rss/articles/CBMieEFVX3lxTFAzV2IzaHA3ZVU0dzIxQllVRWk3VjdBdkFCdklGaGF3djhhTkhXX2dlUWZEYkIxZDB5bjc2dXRyV0FvenFZOEU2UnpUcmhpTFBEcEF6VS02dDVBOThfUzBzemlGcXcyTUpTX1lUOFU1bmRRcC1ab0hQUA?oc=5)\n",
      "\n",
      "이 기사를 통해 AI 투자에 대한 다양한 관점과 최근 동향을 확인할 수 있습니다.\u001b[0m\n",
      "\n",
      "\u001b[1m> Finished chain.\u001b[0m\n"
     ]
    }
   ],
   "source": [
    "# AgentExecutor 실행\n",
    "result = agent_executor.invoke({\"input\": \"AI 투자와 관련된 뉴스를 검색해 주세요.\"})"
   ]
  },
  {
   "cell_type": "code",
   "execution_count": 21,
   "metadata": {},
   "outputs": [
    {
     "name": "stdout",
     "output_type": "stream",
     "text": [
      "Agent 실행 결과:\n",
      "다음은 AI 투자와 관련된 최근 뉴스 기사들입니다:\n",
      "\n",
      "1. [AI에 살거나 죽거나…돈 퍼부은 글로벌 빅테크, 이젠 거품 공포 - 머니투데이](https://news.google.com/rss/articles/CBMiZkFVX3lxTE9mVlA5NHBMelFnN2xXbHJFSmY4MjZ4Q012SjZubEVPeE1Oek9VcTByVWd6c1NhUURFX3V6aVJEa01wUjJnSnFTcEZqX2daXzZRNWtUUTlOQ2UycWdud0ljRnk5SXAtQdIBbkFVX3lxTE8tOE9lZTVScXotZVlpcGlEY0p4SXhSdENMMmhtWi03MFF0dkVzNUVaNkF2Ukw4Z2pVUFRYczBDNTJVaENHRDByRnpfUmgzNWlTVnNoOGt6dFg5N2w5TWNyWjZJTXZPRVZ5VnJzTFVB?oc=5)\n",
      "\n",
      "2. [기업 10곳 중 8곳 \"재무분야 AI 투자성과, 기대 이상\" - 머니투데이](https://news.google.com/rss/articles/CBMiZkFVX3lxTE9RcnRDV1l2ekhBdzZWTTFoWUo0YkdqU084WHN1V21JUUJzYm9mOFJrMzMtZUFXZ3lTWmtOd3pQSkN4RlJzaEdIMU5kOTNfZV81TmZXR1FMZW1HT0gzcEo0Y1JaVUxpQdIBbkFVX3lxTE1kWWp4dmZvUjdBek52alNERVZQOFZMQ2FDMmVWWW5FNExiYzhUcXBSaDBKaTZCb0k2TXhrcHQ2THVHYmhDZFF4d3oxeENOZjI0cTZpS2dtZmtweF8weWVvMHpnUDhYaVRDQ2xJWTln?oc=5)\n",
      "\n",
      "3. [5G-A 도입 속도 낸다...AI 투자도 본격화 - ZD넷 코리아](https://news.google.com/rss/articles/CBMiVkFVX3lxTE5qUnZqMGRCZnBVSGxqQVV0UDE1UXZmcFZvUWMyS2FfNFN0TWUtZ3c3T0hFS0RYSkY0TWtsWlh0S3dmeVNoOHI2b0MyRGtVaW5adzVWMHFR?oc=5)\n",
      "\n",
      "4. [AI 혁명 시대 재생 에너지의 역할 - 서울경제신문](https://news.google.com/rss/articles/CBMiVkFVX3lxTE1xVWQ1WGNLY2F4dlYtd0RFV0NFUFBMLXVrY0NfaDVfbG50Q19yNWNBRWtacEVLZk9tWXNVSnNha1pfcjFoVG4yNGZyRjhuam8zbmtQemRB0gFXQVVfeXFMTTBDdDJQRTFNeGdNWkplZkIyZ0Z2eFN1SWdnQWZXaUZydUY1QVdNSjgycWZoYlFvc3dBODFtQ3JTMkxVaFFoNk91NWpvck50WEFZVUx4cHJj?oc=5)\n",
      "\n",
      "5. [코히런트, AI 시대 핵심 기업으로 도약② - 네이트 뉴스](https://news.google.com/rss/articles/CBMieEFVX3lxTFAzV2IzaHA3ZVU0dzIxQllVRWk3VjdBdkFCdklGaGF3djhhTkhXX2dlUWZEYkIxZDB5bjc2dXRyV0FvenFZOEU2UnpUcmhpTFBEcEF6VS02dDVBOThfUzBzemlGcXcyTUpTX1lUOFU1bmRRcC1ab0hQUA?oc=5)\n",
      "\n",
      "이 기사를 통해 AI 투자에 대한 다양한 관점과 최근 동향을 확인할 수 있습니다.\n"
     ]
    }
   ],
   "source": [
    "print(\"Agent 실행 결과:\")\n",
    "print(result[\"output\"])"
   ]
  }
 ],
 "metadata": {
  "kernelspec": {
   "display_name": "venv",
   "language": "python",
   "name": "python3"
  },
  "language_info": {
   "codemirror_mode": {
    "name": "ipython",
    "version": 3
   },
   "file_extension": ".py",
   "mimetype": "text/x-python",
   "name": "python",
   "nbconvert_exporter": "python",
   "pygments_lexer": "ipython3",
   "version": "3.11.9"
  }
 },
 "nbformat": 4,
 "nbformat_minor": 2
}
