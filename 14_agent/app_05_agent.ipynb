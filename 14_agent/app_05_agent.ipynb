{
 "cells": [
  {
   "cell_type": "code",
   "execution_count": 1,
   "metadata": {},
   "outputs": [],
   "source": [
    "from dotenv import load_dotenv\n",
    "import os\n",
    "\n",
    "load_dotenv(verbose=True)\n",
    "key = os.getenv('OPENAI_API_KEY')"
   ]
  },
  {
   "cell_type": "code",
   "execution_count": 2,
   "metadata": {},
   "outputs": [],
   "source": [
    "from typing import List, Dict, Annotated\n",
    "from langchain_teddynote.tools import GoogleNews\n",
    "from langchain_experimental.utilities import PythonREPL\n",
    "from langchain.tools import tool"
   ]
  },
  {
   "cell_type": "code",
   "execution_count": 3,
   "metadata": {},
   "outputs": [],
   "source": [
    "@tool\n",
    "def search_news(query: str) -> List[Dict[str, str]]:\n",
    "    \"\"\"Search Google News by input keyword\"\"\"\n",
    "    news_tool = GoogleNews()    \n",
    "    return news_tool.search_by_keyword(query, k=5)"
   ]
  },
  {
   "cell_type": "code",
   "execution_count": 4,
   "metadata": {},
   "outputs": [],
   "source": [
    "@tool\n",
    "def python_repl_tool(\n",
    "    # 매개변수 이름은 code \n",
    "    # str은 매개 변수의 타입.\n",
    "    # \"The python ~~ your chart.\" 는 매개변수에 대한 설명.\n",
    "    code: Annotated[str, \"The python code to execute to generate your chart.\"],\n",
    "):\n",
    "    \"\"\"Use this to execute python code. If you want to see the output of a value,\n",
    "    you should print it out with `print(...)`. This is visible to the user.\"\"\"\n",
    "    result = \"\"\n",
    "    try:\n",
    "        result = PythonREPL().run(code)\n",
    "    except BaseException as e:\n",
    "        print(f\"Failed to execute. Error: {repr(e)}\")\n",
    "    finally:\n",
    "        return result"
   ]
  },
  {
   "cell_type": "code",
   "execution_count": 5,
   "metadata": {},
   "outputs": [],
   "source": [
    "@tool\n",
    "def add_function(a: float, b: float) -> float:\n",
    "    \"\"\"Adds two numbers together.\"\"\"\n",
    "    return a + b"
   ]
  },
  {
   "cell_type": "code",
   "execution_count": 10,
   "metadata": {},
   "outputs": [
    {
     "name": "stdout",
     "output_type": "stream",
     "text": [
      "도구 이름: search_news\n",
      "도구 설명: Search Google News by input keyword\n",
      "도구 이름: python_repl_tool\n",
      "도구 설명: Use this to execute python code. If you want to see the output of a value,\n",
      "    you should print it out with `print(...)`. This is visible to the user.\n"
     ]
    }
   ],
   "source": [
    "print(f\"도구 이름: {search_news.name}\")\n",
    "print(f\"도구 설명: {search_news.description}\")\n",
    "print(f\"도구 이름: {python_repl_tool.name}\")\n",
    "print(f\"도구 설명: {python_repl_tool.description}\")"
   ]
  },
  {
   "cell_type": "code",
   "execution_count": 11,
   "metadata": {},
   "outputs": [
    {
     "name": "stdout",
     "output_type": "stream",
     "text": [
      "도구 이름: add_function\n",
      "도구 설명: Adds two numbers together.\n"
     ]
    }
   ],
   "source": [
    "print(f\"도구 이름: {add_function.name}\")\n",
    "print(f\"도구 설명: {add_function.description}\")"
   ]
  },
  {
   "cell_type": "code",
   "execution_count": 12,
   "metadata": {},
   "outputs": [],
   "source": [
    "tools = [search_news, python_repl_tool, add_function]"
   ]
  },
  {
   "cell_type": "markdown",
   "metadata": {},
   "source": [
    "### **Agent 프롬프트 생성**\n",
    "\n",
    "- `chat_history` : 이전 대화 내용을 저장하는 변수\n",
    "- `agent_scratchpad` : 에이전트가 검색하는 과정들이나 내용 등을 임시로 저장하는 변수\n",
    "- `input` : 사용자의 입력"
   ]
  },
  {
   "cell_type": "code",
   "execution_count": 13,
   "metadata": {},
   "outputs": [],
   "source": [
    "from langchain_core.prompts import ChatPromptTemplate"
   ]
  },
  {
   "cell_type": "code",
   "execution_count": 14,
   "metadata": {},
   "outputs": [],
   "source": [
    "# 프롬프트 생성. 프롬프트는 에이전트에게 모델이 수행할 작업을 설명하는 텍스트를 제공합니다. (도구의 이름과 역할을 입력)\n",
    "prompt = ChatPromptTemplate.from_messages(\n",
    "    [\n",
    "        (                                           \n",
    "            \"system\",\n",
    "            \"You are a helpful assistant. \"\n",
    "            \"Make sure to use the `add_function` tool for searching keyword related news.\"             \n",
    "            \"Be sure to use the 'add_function' tool when adding two numbers.\",\n",
    "        ),\n",
    "        (\"placeholder\", \"{chat_history}\"),          # 이전 대화 내용을 넣기위해서 chat_history 변수\n",
    "        (\"human\", \"{input}\"),                       # 사용자 입력\n",
    "\n",
    "        # 에이전트가 검색하는 과정들이나 내용 등을 끄적이는 메모장 같은 공간을 플레이스 홀더로 만들어준다\n",
    "        (\"placeholder\", \"{agent_scratchpad}\"),       \n",
    "    ]\n",
    ")"
   ]
  },
  {
   "cell_type": "markdown",
   "metadata": {},
   "source": [
    "### **Agent 생성**"
   ]
  },
  {
   "cell_type": "code",
   "execution_count": 15,
   "metadata": {},
   "outputs": [],
   "source": [
    "from langchain_openai import ChatOpenAI\n",
    "from langchain.agents import create_tool_calling_agent"
   ]
  },
  {
   "cell_type": "code",
   "execution_count": 16,
   "metadata": {},
   "outputs": [],
   "source": [
    "# LLM 정의\n",
    "llm = ChatOpenAI(model=\"gpt-4o-mini\", temperature=0)"
   ]
  },
  {
   "cell_type": "code",
   "execution_count": 17,
   "metadata": {},
   "outputs": [],
   "source": [
    "# Agent 생성\n",
    "agent = create_tool_calling_agent(llm, tools, prompt)"
   ]
  },
  {
   "cell_type": "markdown",
   "metadata": {},
   "source": [
    "### **AgentExecutor**\n",
    "\n",
    "`AgentExecutor`는 도구를 사용하는 에이전트를 실행하는 클래스입니다.\n",
    "<br>\n",
    "\n",
    "**속성**\n",
    "\n",
    "- `agent`: 실행 루프의 각 단계에서 계획을 생성하고 행동을 결정하는 에이전트\n",
    "- `tools`: 에이전트가 사용할 수 있는 유효한 도구 목록\n",
    "- `return_intermediate_steps`: 최종 출력과 함께 에이전트의 중간 단계 경로를 반환할지 여부\n",
    "- `max_iterations`: 실행 루프를 종료하기 전 최대 단계 수\n",
    "- `max_execution_time`: 실행 루프에 소요될 수 있는 최대 시간 \n",
    "- `early_stopping_method`: 에이전트가 AgentFinish를 반환하지 않을 때 사용할 조기 종료 방법. (\"force\" or \"generate\")\n",
    "    - `\"force\"` 는 시간 또는 반복 제한에 도달하여 중지되었다는 문자열을 반환합니다.\n",
    "    - `\"generate\"` 는 에이전트의 LLM 체인을 마지막으로 한 번 호출하여 이전 단계에 따라 최종 답변을 생성합니다.\n",
    "- `handle_parsing_errors`: 에이전트의 출력 파서에서 발생한 오류 처리 방법. (True, False, 또는 오류 처리 함수)\n",
    "- `trim_intermediate_steps`: 중간 단계를 트리밍하는 방법. (-1 trim 하지 않음, 또는 트리밍 함수)\n",
    "\n",
    "**메소드**\n",
    "\n",
    "1. `invoke`: 에이전트 실행\n",
    "2. `stream`: 최종 출력에 도달하는 데 필요한 단계를 스트리밍"
   ]
  },
  {
   "cell_type": "code",
   "execution_count": 18,
   "metadata": {},
   "outputs": [],
   "source": [
    "from langchain.agents import AgentExecutor"
   ]
  },
  {
   "cell_type": "code",
   "execution_count": 19,
   "metadata": {},
   "outputs": [],
   "source": [
    "# AgentExecutor 생성\n",
    "agent_executor = AgentExecutor(\n",
    "    agent=agent,    \n",
    "    tools=tools,    \n",
    "    verbose=True,   \n",
    "    max_iterations=10,      \n",
    "    max_execution_time=10,\n",
    "    handle_parsing_errors=True,\n",
    ")"
   ]
  },
  {
   "cell_type": "code",
   "execution_count": 20,
   "metadata": {},
   "outputs": [
    {
     "name": "stdout",
     "output_type": "stream",
     "text": [
      "\n",
      "\n",
      "\u001b[1m> Entering new AgentExecutor chain...\u001b[0m\n",
      "\u001b[32;1m\u001b[1;3m\n",
      "Invoking: `search_news` with `{'query': 'AI 투자'}`\n",
      "\n",
      "\n",
      "\u001b[0m\u001b[36;1m\u001b[1;3m[{'url': 'https://news.google.com/rss/articles/CBMiVkFVX3lxTFAwaHQyLXo3anlpZ3RjY1BtenFYTkZXaGdqSFlpRDhDeFdoVHJXbl94cU53SklZQWQ4V05mOV82aWhBSDdnRThLbDJTNFpxSE1vQkVQM1pR?oc=5', 'content': \"올해는 AI 혁신 확산의 해…新기술로 새해 투자 '청신호' - ZD넷 코리아\"}, {'url': 'https://news.google.com/rss/articles/CBMiZkFVX3lxTE93UHhjaC1nWjFLUk9vNDBjd2otWUs3Q1VHNVc5OGVERENVV25hcUgtUnVwaERKRU9xaUhPaTE3aVEyb0MxaEtHOVhzSnNxQy1BaWR4ckxfVDRYWDNUUEU0eTJ5c1QtZw?oc=5', 'content': \"[단독]AI가 벤처투자 심사했다…SBVA, '알파미' 국내 첫 도입 - 머니투데이\"}, {'url': 'https://news.google.com/rss/articles/CBMicEFVX3lxTE1jSFNpRWx4YUZKcGUwdWlRUnZyLWJUOUJibTlENDY2UF9HcGJlMy03OXVHYnNyYWowVlpjRGQ4N2xMYkw0R2JoU1BvVXJTMnZBeWkzMFJUNWhUZHdBOVBUNkNHNHREUmxqbHN5WnJZUkjSAXRBVV95cUxOVV9xbjYtbmZiZ3gwU1VCRFpDYU1Ta0ZHMmh2S0ZSb2ZKR2VaQ2FlOGpEOEk5MHlRbTFHXzRFZ2Zrak9OOENGT1R1VE5uUkRtS3ZReWRjeElkQWNQdTc5enhtOVdJRUx0azhVbENHQnlQN0xVWQ?oc=5', 'content': \"반도체 업계, AI 투자 둔화 시 '악순환' 가능성 경고 - 연합인포맥스\"}, {'url': 'https://news.google.com/rss/articles/CBMiVkFVX3lxTE5GWTEtdllpZUxzRnljRVk0UUcxNUZNWnhjUE1XNFk4bnN6TVBvQmZfcTc1RU41RGxOYTFUWWNxV1VHWEhYY3RxU3FfeUNNanNmWkdkRy1R?oc=5', 'content': '올해 美 증시 수익률 1위는 758% ‘이 주식’…‘엔비디아 183%’ AI·코인이 달궜다 [투자360] - 헤럴드경제'}, {'url': 'https://news.google.com/rss/articles/CBMijAFBVV95cUxOOEcxODVpaXJYY01EQUVKNGR5NGdidHdTRnBqRmZQWWJwU1FxTjVxZWlZMXhaWmMzUl92dWE5RjdBbnZOdjlrWXBNT0luaklwcTJ4QWg5bEg2TElJZE9hTXo3Q0NfaDFhOU5BRWNvRTgzck80M1VWWWFEeFBPNnA4TE1ZZ2k4aEZQbUl3aw?oc=5', 'content': 'AI 대장주 변했다…\"내년 뜬다\" 엔비디아 다음 대박은 여기 - 미주중앙일보'}]\u001b[0m\u001b[32;1m\u001b[1;3m다음은 AI 투자와 관련된 최근 뉴스입니다:\n",
      "\n",
      "1. [올해는 AI 혁신 확산의 해…新기술로 새해 투자 '청신호'](https://news.google.com/rss/articles/CBMiVkFVX3lxTFAwaHQyLXo3anlpZ3RjY1BtenFYTkZXaGdqSFlpRDhDeFdoVHJXbl94cU53SklZQWQ4V05mOV82aWhBSDdnRThLbDJTNFpxSE1vQkVQM1pR?oc=5) - ZD넷 코리아\n",
      "\n",
      "2. [[단독]AI가 벤처투자 심사했다…SBVA, '알파미' 국내 첫 도입](https://news.google.com/rss/articles/CBMiZkFVX3lxTE93UHhjaC1nWjFLUk9vNDBjd2otWUs3Q1VHNVc5OGVERENVV25hcUgtUnVwaERKRU9xaUhPaTE3aVEyb0MxaEtHOVhzSnNxQy1BaWR4ckxfVDRYWDNUUEU0eTJ5c1QtZw?oc=5) - 머니투데이\n",
      "\n",
      "3. [반도체 업계, AI 투자 둔화 시 '악순환' 가능성 경고](https://news.google.com/rss/articles/CBMicEFVX3lxTE1jSFNpRWx4YUZKcGUwdWlRUnZyLWJUOUJibTlENDY2UF9HcGJlMy03OXVHYnNyYWowVlpjRGQ4N2xMYkw0R2JoU1BvVXJTMnZBeWkzMFJUNWhUZHdBOVBUNkNHNHREUmxqbHN5WnJZUkjSAXRBVV95cUxOVV9xbjYtbmZiZ3gwU1VCRFpDYU1Ta0ZHMmh2S0ZSb2ZKR2VaQ2FlOGpEOEk5MHlRbTFHXzRFZ2Zrak9OOENGT1R1VE5uUkRtS3ZReWRjeElkQWNQdTc5enhtOVdJRUx0azhVbENHQnlQN0xVWQ?oc=5) - 연합인포맥스\n",
      "\n",
      "4. [올해 美 증시 수익률 1위는 758% ‘이 주식’…‘엔비디아 183%’ AI·코인이 달궜다 [투자360]](https://news.google.com/rss/articles/CBMiVkFVX3lxTE5GWTEtdllpZUxzRnljRVk0UUcxNUZNWnhjUE1XNFk4bnN6TVBvQmZfcTc1RU41RGxOYTFUWWNxV1VHWEhYY3RxU3FfeUNNanNmWkdkRy1R?oc=5) - 헤럴드경제\n",
      "\n",
      "5. [AI 대장주 변했다…\\\"내년 뜬다\\\" 엔비디아 다음 대박은 여기](https://news.google.com/rss/articles/CBMijAFBVV95cUxOOEcxODVpaXJYY01EQUVKNGR5NGdidHdTRnBqRmZQWWJwU1FxTjVxZWlZMXhaWmMzUl92dWE5RjdBbnZOdjlrWXBNT0luaklwcTJ4QWg5bEg2TElJZE9hTXo3Q0NfaDFhOU5BRWNvRTgzck80M1VWWWFEeFBPNnA4TE1ZZ2k4aEZQbUl3aw?oc=5) - 미주중앙일보\n",
      "\n",
      "이 뉴스들은 AI 투자와 관련된 다양한 주제를 다루고 있습니다.\u001b[0m\n",
      "\n",
      "\u001b[1m> Finished chain.\u001b[0m\n"
     ]
    }
   ],
   "source": [
    "# AgentExecutor 실행\n",
    "result = agent_executor.invoke({\"input\": \"AI 투자와 관련된 뉴스를 검색해 주세요.\"})"
   ]
  },
  {
   "cell_type": "code",
   "execution_count": 21,
   "metadata": {},
   "outputs": [
    {
     "name": "stdout",
     "output_type": "stream",
     "text": [
      "Agent 실행 결과:\n",
      "다음은 AI 투자와 관련된 최근 뉴스입니다:\n",
      "\n",
      "1. [올해는 AI 혁신 확산의 해…新기술로 새해 투자 '청신호'](https://news.google.com/rss/articles/CBMiVkFVX3lxTFAwaHQyLXo3anlpZ3RjY1BtenFYTkZXaGdqSFlpRDhDeFdoVHJXbl94cU53SklZQWQ4V05mOV82aWhBSDdnRThLbDJTNFpxSE1vQkVQM1pR?oc=5) - ZD넷 코리아\n",
      "\n",
      "2. [[단독]AI가 벤처투자 심사했다…SBVA, '알파미' 국내 첫 도입](https://news.google.com/rss/articles/CBMiZkFVX3lxTE93UHhjaC1nWjFLUk9vNDBjd2otWUs3Q1VHNVc5OGVERENVV25hcUgtUnVwaERKRU9xaUhPaTE3aVEyb0MxaEtHOVhzSnNxQy1BaWR4ckxfVDRYWDNUUEU0eTJ5c1QtZw?oc=5) - 머니투데이\n",
      "\n",
      "3. [반도체 업계, AI 투자 둔화 시 '악순환' 가능성 경고](https://news.google.com/rss/articles/CBMicEFVX3lxTE1jSFNpRWx4YUZKcGUwdWlRUnZyLWJUOUJibTlENDY2UF9HcGJlMy03OXVHYnNyYWowVlpjRGQ4N2xMYkw0R2JoU1BvVXJTMnZBeWkzMFJUNWhUZHdBOVBUNkNHNHREUmxqbHN5WnJZUkjSAXRBVV95cUxOVV9xbjYtbmZiZ3gwU1VCRFpDYU1Ta0ZHMmh2S0ZSb2ZKR2VaQ2FlOGpEOEk5MHlRbTFHXzRFZ2Zrak9OOENGT1R1VE5uUkRtS3ZReWRjeElkQWNQdTc5enhtOVdJRUx0azhVbENHQnlQN0xVWQ?oc=5) - 연합인포맥스\n",
      "\n",
      "4. [올해 美 증시 수익률 1위는 758% ‘이 주식’…‘엔비디아 183%’ AI·코인이 달궜다 [투자360]](https://news.google.com/rss/articles/CBMiVkFVX3lxTE5GWTEtdllpZUxzRnljRVk0UUcxNUZNWnhjUE1XNFk4bnN6TVBvQmZfcTc1RU41RGxOYTFUWWNxV1VHWEhYY3RxU3FfeUNNanNmWkdkRy1R?oc=5) - 헤럴드경제\n",
      "\n",
      "5. [AI 대장주 변했다…\\\"내년 뜬다\\\" 엔비디아 다음 대박은 여기](https://news.google.com/rss/articles/CBMijAFBVV95cUxOOEcxODVpaXJYY01EQUVKNGR5NGdidHdTRnBqRmZQWWJwU1FxTjVxZWlZMXhaWmMzUl92dWE5RjdBbnZOdjlrWXBNT0luaklwcTJ4QWg5bEg2TElJZE9hTXo3Q0NfaDFhOU5BRWNvRTgzck80M1VWWWFEeFBPNnA4TE1ZZ2k4aEZQbUl3aw?oc=5) - 미주중앙일보\n",
      "\n",
      "이 뉴스들은 AI 투자와 관련된 다양한 주제를 다루고 있습니다.\n"
     ]
    }
   ],
   "source": [
    "print(\"Agent 실행 결과:\")\n",
    "print(result[\"output\"])"
   ]
  },
  {
   "cell_type": "code",
   "execution_count": 22,
   "metadata": {},
   "outputs": [
    {
     "name": "stdout",
     "output_type": "stream",
     "text": [
      "\n",
      "\n",
      "\u001b[1m> Entering new None chain...\u001b[0m\n",
      "{'actions': [ToolAgentAction(tool='add_function', tool_input={'a': 2, 'b': 3}, log=\"\\nInvoking: `add_function` with `{'a': 2, 'b': 3}`\\n\\n\\n\", message_log=[AIMessageChunk(content='', additional_kwargs={'tool_calls': [{'index': 0, 'id': 'call_TIZqd0xcQQJfeE6aAH1073qG', 'function': {'arguments': '{\"a\":2,\"b\":3}', 'name': 'add_function'}, 'type': 'function'}]}, response_metadata={'finish_reason': 'tool_calls', 'model_name': 'gpt-4o-mini-2024-07-18', 'system_fingerprint': 'fp_0aa8d3e20b'}, id='run-841c87cb-a353-4ce1-83e9-ddbe830409ab', tool_calls=[{'name': 'add_function', 'args': {'a': 2, 'b': 3}, 'id': 'call_TIZqd0xcQQJfeE6aAH1073qG', 'type': 'tool_call'}], tool_call_chunks=[{'name': 'add_function', 'args': '{\"a\":2,\"b\":3}', 'id': 'call_TIZqd0xcQQJfeE6aAH1073qG', 'index': 0, 'type': 'tool_call_chunk'}])], tool_call_id='call_TIZqd0xcQQJfeE6aAH1073qG')], 'messages': [AIMessageChunk(content='', additional_kwargs={'tool_calls': [{'index': 0, 'id': 'call_TIZqd0xcQQJfeE6aAH1073qG', 'function': {'arguments': '{\"a\":2,\"b\":3}', 'name': 'add_function'}, 'type': 'function'}]}, response_metadata={'finish_reason': 'tool_calls', 'model_name': 'gpt-4o-mini-2024-07-18', 'system_fingerprint': 'fp_0aa8d3e20b'}, id='run-841c87cb-a353-4ce1-83e9-ddbe830409ab', tool_calls=[{'name': 'add_function', 'args': {'a': 2, 'b': 3}, 'id': 'call_TIZqd0xcQQJfeE6aAH1073qG', 'type': 'tool_call'}], tool_call_chunks=[{'name': 'add_function', 'args': '{\"a\":2,\"b\":3}', 'id': 'call_TIZqd0xcQQJfeE6aAH1073qG', 'index': 0, 'type': 'tool_call_chunk'}])]}\n",
      "============================================================\n",
      "\u001b[32;1m\u001b[1;3m\n",
      "Invoking: `add_function` with `{'a': 2, 'b': 3}`\n",
      "\n",
      "\n",
      "\u001b[0m\u001b[38;5;200m\u001b[1;3m5.0\u001b[0m{'steps': [AgentStep(action=ToolAgentAction(tool='add_function', tool_input={'a': 2, 'b': 3}, log=\"\\nInvoking: `add_function` with `{'a': 2, 'b': 3}`\\n\\n\\n\", message_log=[AIMessageChunk(content='', additional_kwargs={'tool_calls': [{'index': 0, 'id': 'call_TIZqd0xcQQJfeE6aAH1073qG', 'function': {'arguments': '{\"a\":2,\"b\":3}', 'name': 'add_function'}, 'type': 'function'}]}, response_metadata={'finish_reason': 'tool_calls', 'model_name': 'gpt-4o-mini-2024-07-18', 'system_fingerprint': 'fp_0aa8d3e20b'}, id='run-841c87cb-a353-4ce1-83e9-ddbe830409ab', tool_calls=[{'name': 'add_function', 'args': {'a': 2, 'b': 3}, 'id': 'call_TIZqd0xcQQJfeE6aAH1073qG', 'type': 'tool_call'}], tool_call_chunks=[{'name': 'add_function', 'args': '{\"a\":2,\"b\":3}', 'id': 'call_TIZqd0xcQQJfeE6aAH1073qG', 'index': 0, 'type': 'tool_call_chunk'}])], tool_call_id='call_TIZqd0xcQQJfeE6aAH1073qG'), observation=5.0)], 'messages': [FunctionMessage(content='5.0', additional_kwargs={}, response_metadata={}, name='add_function')]}\n",
      "============================================================\n",
      "\u001b[32;1m\u001b[1;3m2 더하기 3은 5입니다.\u001b[0m\n",
      "\n",
      "\u001b[1m> Finished chain.\u001b[0m\n",
      "{'output': '2 더하기 3은 5입니다.', 'messages': [AIMessage(content='2 더하기 3은 5입니다.', additional_kwargs={}, response_metadata={})]}\n",
      "============================================================\n"
     ]
    }
   ],
   "source": [
    "# 스트리밍 모드로 실행.\n",
    "result = agent_executor.stream({\"input\": \"2 더하기 3을 알려주세요\"})\n",
    "\n",
    "# 중간 단계 출력\n",
    "for step in result:    \n",
    "    print(step)\n",
    "    print(\"===\" * 20)"
   ]
  },
  {
   "cell_type": "code",
   "execution_count": 37,
   "metadata": {},
   "outputs": [],
   "source": [
    "result = agent_executor.stream({\"input\": \"2 더하기 3을 알려주세요\"})"
   ]
  },
  {
   "cell_type": "code",
   "execution_count": 38,
   "metadata": {},
   "outputs": [
    {
     "name": "stdout",
     "output_type": "stream",
     "text": [
      "\n",
      "\n",
      "\u001b[1m> Entering new None chain...\u001b[0m\n",
      "============================================================\n",
      "\u001b[32;1m\u001b[1;3m\n",
      "Invoking: `add_function` with `{'a': 2, 'b': 3}`\n",
      "\n",
      "\n",
      "\u001b[0m\u001b[38;5;200m\u001b[1;3m5.0\u001b[0m============================================================\n",
      "\u001b[32;1m\u001b[1;3m2 더하기 3은 5입니다.\u001b[0m\n",
      "\n",
      "\u001b[1m> Finished chain.\u001b[0m\n",
      "============================================================\n"
     ]
    }
   ],
   "source": [
    "data = []\n",
    "\n",
    "for step in result:    \n",
    "    data.append(step)\n",
    "    print(\"===\" * 20)"
   ]
  },
  {
   "cell_type": "code",
   "execution_count": 39,
   "metadata": {},
   "outputs": [
    {
     "data": {
      "text/plain": [
       "{'actions': [ToolAgentAction(tool='add_function', tool_input={'a': 2, 'b': 3}, log=\"\\nInvoking: `add_function` with `{'a': 2, 'b': 3}`\\n\\n\\n\", message_log=[AIMessageChunk(content='', additional_kwargs={'tool_calls': [{'index': 0, 'id': 'call_mdEPhZ5n2NxlWHggErpIjeQh', 'function': {'arguments': '{\"a\":2,\"b\":3}', 'name': 'add_function'}, 'type': 'function'}]}, response_metadata={'finish_reason': 'tool_calls', 'model_name': 'gpt-4o-mini-2024-07-18', 'system_fingerprint': 'fp_0aa8d3e20b'}, id='run-98ed5694-2723-43c0-b003-cce67ddfe2da', tool_calls=[{'name': 'add_function', 'args': {'a': 2, 'b': 3}, 'id': 'call_mdEPhZ5n2NxlWHggErpIjeQh', 'type': 'tool_call'}], tool_call_chunks=[{'name': 'add_function', 'args': '{\"a\":2,\"b\":3}', 'id': 'call_mdEPhZ5n2NxlWHggErpIjeQh', 'index': 0, 'type': 'tool_call_chunk'}])], tool_call_id='call_mdEPhZ5n2NxlWHggErpIjeQh')],\n",
       " 'messages': [AIMessageChunk(content='', additional_kwargs={'tool_calls': [{'index': 0, 'id': 'call_mdEPhZ5n2NxlWHggErpIjeQh', 'function': {'arguments': '{\"a\":2,\"b\":3}', 'name': 'add_function'}, 'type': 'function'}]}, response_metadata={'finish_reason': 'tool_calls', 'model_name': 'gpt-4o-mini-2024-07-18', 'system_fingerprint': 'fp_0aa8d3e20b'}, id='run-98ed5694-2723-43c0-b003-cce67ddfe2da', tool_calls=[{'name': 'add_function', 'args': {'a': 2, 'b': 3}, 'id': 'call_mdEPhZ5n2NxlWHggErpIjeQh', 'type': 'tool_call'}], tool_call_chunks=[{'name': 'add_function', 'args': '{\"a\":2,\"b\":3}', 'id': 'call_mdEPhZ5n2NxlWHggErpIjeQh', 'index': 0, 'type': 'tool_call_chunk'}])]}"
      ]
     },
     "execution_count": 39,
     "metadata": {},
     "output_type": "execute_result"
    }
   ],
   "source": [
    "data[0]"
   ]
  },
  {
   "cell_type": "code",
   "execution_count": 40,
   "metadata": {},
   "outputs": [
    {
     "data": {
      "text/plain": [
       "{'steps': [AgentStep(action=ToolAgentAction(tool='add_function', tool_input={'a': 2, 'b': 3}, log=\"\\nInvoking: `add_function` with `{'a': 2, 'b': 3}`\\n\\n\\n\", message_log=[AIMessageChunk(content='', additional_kwargs={'tool_calls': [{'index': 0, 'id': 'call_mdEPhZ5n2NxlWHggErpIjeQh', 'function': {'arguments': '{\"a\":2,\"b\":3}', 'name': 'add_function'}, 'type': 'function'}]}, response_metadata={'finish_reason': 'tool_calls', 'model_name': 'gpt-4o-mini-2024-07-18', 'system_fingerprint': 'fp_0aa8d3e20b'}, id='run-98ed5694-2723-43c0-b003-cce67ddfe2da', tool_calls=[{'name': 'add_function', 'args': {'a': 2, 'b': 3}, 'id': 'call_mdEPhZ5n2NxlWHggErpIjeQh', 'type': 'tool_call'}], tool_call_chunks=[{'name': 'add_function', 'args': '{\"a\":2,\"b\":3}', 'id': 'call_mdEPhZ5n2NxlWHggErpIjeQh', 'index': 0, 'type': 'tool_call_chunk'}])], tool_call_id='call_mdEPhZ5n2NxlWHggErpIjeQh'), observation=5.0)],\n",
       " 'messages': [FunctionMessage(content='5.0', additional_kwargs={}, response_metadata={}, name='add_function')]}"
      ]
     },
     "execution_count": 40,
     "metadata": {},
     "output_type": "execute_result"
    }
   ],
   "source": [
    "data[1]"
   ]
  },
  {
   "cell_type": "code",
   "execution_count": 41,
   "metadata": {},
   "outputs": [
    {
     "data": {
      "text/plain": [
       "{'output': '2 더하기 3은 5입니다.',\n",
       " 'messages': [AIMessage(content='2 더하기 3은 5입니다.', additional_kwargs={}, response_metadata={})]}"
      ]
     },
     "execution_count": 41,
     "metadata": {},
     "output_type": "execute_result"
    }
   ],
   "source": [
    "data[2]"
   ]
  },
  {
   "cell_type": "code",
   "execution_count": 43,
   "metadata": {},
   "outputs": [
    {
     "data": {
      "text/plain": [
       "ToolAgentAction(tool='add_function', tool_input={'a': 2, 'b': 3}, log=\"\\nInvoking: `add_function` with `{'a': 2, 'b': 3}`\\n\\n\\n\", message_log=[AIMessageChunk(content='', additional_kwargs={'tool_calls': [{'index': 0, 'id': 'call_mdEPhZ5n2NxlWHggErpIjeQh', 'function': {'arguments': '{\"a\":2,\"b\":3}', 'name': 'add_function'}, 'type': 'function'}]}, response_metadata={'finish_reason': 'tool_calls', 'model_name': 'gpt-4o-mini-2024-07-18', 'system_fingerprint': 'fp_0aa8d3e20b'}, id='run-98ed5694-2723-43c0-b003-cce67ddfe2da', tool_calls=[{'name': 'add_function', 'args': {'a': 2, 'b': 3}, 'id': 'call_mdEPhZ5n2NxlWHggErpIjeQh', 'type': 'tool_call'}], tool_call_chunks=[{'name': 'add_function', 'args': '{\"a\":2,\"b\":3}', 'id': 'call_mdEPhZ5n2NxlWHggErpIjeQh', 'index': 0, 'type': 'tool_call_chunk'}])], tool_call_id='call_mdEPhZ5n2NxlWHggErpIjeQh')"
      ]
     },
     "execution_count": 43,
     "metadata": {},
     "output_type": "execute_result"
    }
   ],
   "source": [
    "data[0]['actions'][0]"
   ]
  },
  {
   "cell_type": "code",
   "execution_count": 44,
   "metadata": {},
   "outputs": [
    {
     "data": {
      "text/plain": [
       "[AIMessageChunk(content='', additional_kwargs={'tool_calls': [{'index': 0, 'id': 'call_mdEPhZ5n2NxlWHggErpIjeQh', 'function': {'arguments': '{\"a\":2,\"b\":3}', 'name': 'add_function'}, 'type': 'function'}]}, response_metadata={'finish_reason': 'tool_calls', 'model_name': 'gpt-4o-mini-2024-07-18', 'system_fingerprint': 'fp_0aa8d3e20b'}, id='run-98ed5694-2723-43c0-b003-cce67ddfe2da', tool_calls=[{'name': 'add_function', 'args': {'a': 2, 'b': 3}, 'id': 'call_mdEPhZ5n2NxlWHggErpIjeQh', 'type': 'tool_call'}], tool_call_chunks=[{'name': 'add_function', 'args': '{\"a\":2,\"b\":3}', 'id': 'call_mdEPhZ5n2NxlWHggErpIjeQh', 'index': 0, 'type': 'tool_call_chunk'}])]"
      ]
     },
     "execution_count": 44,
     "metadata": {},
     "output_type": "execute_result"
    }
   ],
   "source": [
    "data[0]['messages']"
   ]
  }
 ],
 "metadata": {
  "kernelspec": {
   "display_name": "venv",
   "language": "python",
   "name": "python3"
  },
  "language_info": {
   "codemirror_mode": {
    "name": "ipython",
    "version": 3
   },
   "file_extension": ".py",
   "mimetype": "text/x-python",
   "name": "python",
   "nbconvert_exporter": "python",
   "pygments_lexer": "ipython3",
   "version": "3.11.9"
  }
 },
 "nbformat": 4,
 "nbformat_minor": 2
}
