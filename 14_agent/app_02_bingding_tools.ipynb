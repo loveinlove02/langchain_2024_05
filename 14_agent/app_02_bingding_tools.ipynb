{
 "cells": [
  {
   "cell_type": "code",
   "execution_count": 1,
   "metadata": {},
   "outputs": [],
   "source": [
    "from dotenv import load_dotenv\n",
    "import os\n",
    "\n",
    "load_dotenv(verbose=True)\n",
    "key = os.getenv('OPENAI_API_KEY')"
   ]
  },
  {
   "cell_type": "markdown",
   "metadata": {},
   "source": [
    "### **사용자 정의 도구(Custom Tool)**\n",
    "\n",
    "`사용자 정의 함수`를 만들고 `langchain.tools` 모듈에서 제공하는 `tool` 데코레이터를 적용해서 도구로 만듭니다. \n",
    "<br>\n",
    "<br>\n",
    "\n",
    "### **`@tool 데코레이터`**\n",
    "\n",
    "함수를 도구로 변환하는 기능을 제공합니다. <br>\n",
    "\n",
    "**사용**\n",
    "\n",
    "1. 함수 위에 @tool 데코레이터 적용\n",
    "2. 필요에 따라 데코레이터 매개변수 설정\n",
    "\n",
    "일반 Python 함수를 도구로 쉽게 변환할 수 있으며, 자동화된 문서화와 유연한 인터페이스 생성이 가능합니다."
   ]
  },
  {
   "cell_type": "code",
   "execution_count": 2,
   "metadata": {},
   "outputs": [],
   "source": [
    "from langchain.tools import tool\n",
    "\n",
    "@tool\n",
    "def add_numbers(a: int, b: int) -> int:     \n",
    "    \"\"\"Add two numbers\"\"\"\n",
    "    return a + b                            \n",
    "\n",
    "@tool\n",
    "def multiply_numbers(a: int, b: int) -> int:\n",
    "    \"\"\"Multiply two numbers\"\"\"\n",
    "    return a * b"
   ]
  },
  {
   "cell_type": "code",
   "execution_count": 3,
   "metadata": {},
   "outputs": [
    {
     "data": {
      "text/plain": [
       "7"
      ]
     },
     "execution_count": 3,
     "metadata": {},
     "output_type": "execute_result"
    }
   ],
   "source": [
    "add_numbers.invoke({\"a\": 3, \"b\": 4})            #  add_numbers() 도구 실행"
   ]
  },
  {
   "cell_type": "code",
   "execution_count": 4,
   "metadata": {},
   "outputs": [
    {
     "data": {
      "text/plain": [
       "12"
      ]
     },
     "execution_count": 4,
     "metadata": {},
     "output_type": "execute_result"
    }
   ],
   "source": [
    "multiply_numbers.invoke({\"a\": 3, \"b\": 4})       # multiply_numbers() 도구 실행"
   ]
  },
  {
   "cell_type": "markdown",
   "metadata": {},
   "source": [
    "### 구글 뉴스기사 검색 도구\n",
    "\n",
    "langchain-teddynote 패키지에서 제공하는 GoogleNews 도구를 사용하여 구글 뉴스기사를 검색하는 도구입니다. <br>\n",
    "news.google.com 에서 제공하는 뉴스기사를 검색하는 도구입니다. <br>"
   ]
  },
  {
   "cell_type": "code",
   "execution_count": 5,
   "metadata": {},
   "outputs": [],
   "source": [
    "from langchain_teddynote.tools import GoogleNews\n",
    "\n",
    "news_tool = GoogleNews()"
   ]
  },
  {
   "cell_type": "code",
   "execution_count": 6,
   "metadata": {},
   "outputs": [
    {
     "data": {
      "text/plain": [
       "[{'url': 'https://news.google.com/rss/articles/CBMidEFVX3lxTE82dE84QUNyWFRqbVJ2aEhZNjFaVXhkWGtUM2tZZFphMDl2TUx0MnBGN0h3SmpMV3hqbWRGWkh5cFlMZnBIYXhmRjIzdUVTTHJjM1d4aTBjcWF6SURYSW1FMWNUek9tOWhqclNpUEM4SjFISlZB?oc=5',\n",
       "  'content': '[영상] 윤석열 사퇴 거부…“탄핵하든 수사하든 끝까지 싸우겠다” - 한겨레'},\n",
       " {'url': 'https://news.google.com/rss/articles/CBMiVkFVX3lxTE40WFE2UUVtY3dMcWZGT2R4Q2dVUmlwTVdWbm9Va1pFZUxtOHFDRFpFelM2WTBLakxUR1lxY3BPa2ZzdzBZdGp3SFFWMGVPWGZub2d2SU9R?oc=5',\n",
       "  'content': '“국힘 탄핵표결 최소 24명 참석”...공개찬성 5명, 3표만 더 나오면 가결 - 매일경제'},\n",
       " {'url': 'https://news.google.com/rss/articles/CBMid0FVX3lxTE1MdHZSUG5McFllQVdKSFNyR1JBWEZMZ2tiSUV5Q29PX1lua21uNnJfLWx2QU11dTNwQ2NqSWl0SzhBbFQyYmpXTUI5OEd2WXF3WjVpMS0yN296VkFMQndkcUlOMmJUbllVVjBObXlvM1JCcnhHUGtz0gFmQVVfeXFMUFdsV1lUMnd5MkFtUnR0X0xXbkg3TmR2RFhhMG5GUGNaU2N5WkxHb3plTlZwUzBFbnBzVWsxMi1RelNRTEQ1bWVCOEU3bnVQcXd3b0FrRVBpTlRTMWFVNkQ0ajVNSFFn?oc=5',\n",
       "  'content': '[단독]與 ‘탄핵 가결’ 급물살… 한동훈도 ‘찬성’ 돌아섰다 - 동아일보'},\n",
       " {'url': 'https://news.google.com/rss/articles/CBMiekFVX3lxTE5ac0t5b1lvSHRkVUZ5SUdGZ0FiVFdnMkdSeVc3M2U2OUdRV0pZNXNMMEllb3IzSGpYR2xxQzFwejRNQk5wNFQxdVQ0QlJtY1BVU09tcExUNUdYZjdPNVhiaW1kNjV0TXdVc1liOXJpUHBnU3NDX0pWc1NR0gGOAUFVX3lxTE0wZDBhR2VQd1VWUFpQZXRCZ19IenFOeGt5M1FHSjE4aUNNazlzbERfVlBVWE96R3Vaay1wQXRmSG9Pbmo1QW5KVnJXUDBRaDBDaXRuUzJsbm93Z2NxaXJHV3pVbXZXeGh6c2NSNXJGZFFON3hHd2NudG1YbTlVNHlmZ2JMOTh2aGpITUpXMFE?oc=5',\n",
       "  'content': '[단독] “尹, 계엄 3시간 전 경찰 수뇌부에 작전 설명” - 조선일보'},\n",
       " {'url': 'https://news.google.com/rss/articles/CBMiWkFVX3lxTFBlN2pkWEk0UWNxY1ZXODd2bUNMSE1PYU1QWldkOEZzV29Zc0UwZGJiM01wMF9RcV9MOGcwSDBSbzFXai1jLTJzYnNqSDhRVktRaG10U0lCdjhId9IBXEFVX3lxTE1VQi1DRkpNR0JLYk84OWFlY3dwMFl4Q01DOVFSSFJvSnRRZWZXazJudWdnd1B3R2tMYy1mVEFKYTQtMlN2R0toRjBtQXhWNjhoaXdBalQyNlVPdmRr?oc=5',\n",
       "  'content': '나경원·권성동·안철수 등 “탄핵안 상정, 토요일 안돼…신변 위협” 국회의장 항의방문 - 경향신문'}]"
      ]
     },
     "execution_count": 6,
     "metadata": {},
     "output_type": "execute_result"
    }
   ],
   "source": [
    "news_tool.search_latest(k=5)    #  최신 뉴스 검색(5개)"
   ]
  },
  {
   "cell_type": "code",
   "execution_count": 7,
   "metadata": {},
   "outputs": [
    {
     "data": {
      "text/plain": [
       "[{'url': 'https://news.google.com/rss/articles/CBMia0FVX3lxTE91dlpEM0JoTEV0V0lyZVRDZHh1WHZRMU5xdkszQzl1WjlJTzZPLUxIVjByM1d1LUZESFJaaUtEWWhaODlpdGN2WVhCYmtMczFoOHdHSGozRElXa2lMYzFoeWhDa1I5ZXdQNVg0?oc=5',\n",
       "  'content': '“계엄령 선포하고 여의도부터 친다”…3개월 전 예언한 무속인 화제 - 문화일보'},\n",
       " {'url': 'https://news.google.com/rss/articles/CBMiXkFVX3lxTE9Xb1ZpbWxvaG5EWnB4dkpSWE1sLXhlREdubVlhUVhKc2VobTJjd1MwNWZsM3dRWXozeV9ycXhRMnlGaER3TlhmZ3hZcWVPZVlHOXQ4Sld5eHpjU19SZEHSAXZBVV95cUxPdktsWVhlSmpCUzJ5U2ttZVp4N0swV3VYTnVfQWNHdF9vSHFoMDVUaE1rd2Vjam1uQmxvdXJvU1Z6QkJkSkMxWlE3TEtxN29IS0hsa2RkaTBVcTN3WVoxMlpsT2pPSjJ2T0dMNnIybUZkUkQ0MFZ3?oc=5',\n",
       "  'content': '민주, 선관위 방문...\"괴담 가까운 논리로 계엄령 선포\" - YTN'},\n",
       " {'url': 'https://news.google.com/rss/articles/CBMiW0FVX3lxTFBTQlZOS2F4U0drbHJMaGE5NktmdUxqLXBoMm1BVU00c2ZIbVozWXREZ3FQa0QxWDllYlQ1QnV2WnpYcTBvRlRzUzBLOUFjU2o3c1dVTlBCd0VSNE3SAV5BVV95cUxNYUV6RDNVcU5ZQ24zRFBiN0RDc1I1ZzNCeW44RFJuN3UtMjlkYlhGRjdwUVY4ZEJlYnFQRVNPZDk0OHMyUlM5RVBxdkhTcUVDZGxtb1BrUHJTYkg1OHpB?oc=5',\n",
       "  'content': '\"괴뢰한국 땅 아비규환\"…북, 계엄령·탄핵 사태 첫 보도(종합) - 연합뉴스'}]"
      ]
     },
     "execution_count": 7,
     "metadata": {},
     "output_type": "execute_result"
    }
   ],
   "source": [
    "news_tool.search_by_keyword(\"계엄령\", k=3)     # # 키워드로 뉴스 검색"
   ]
  },
  {
   "cell_type": "code",
   "execution_count": 8,
   "metadata": {},
   "outputs": [],
   "source": [
    "from langchain_teddynote.tools import GoogleNews\n",
    "from langchain.tools import tool\n",
    "from typing import List, Dict\n",
    "\n",
    "\n",
    "@tool\n",
    "def search_keyword(query: str) -> List[Dict[str, str]]:\n",
    "    # 키워드로 뉴스 검색하는 도구 생성         \n",
    "    \"\"\"Look up news by keyword\"\"\"\n",
    "    print(query)\n",
    "    news_tool = GoogleNews()\n",
    "    return news_tool.search_by_keyword(query, k=5)"
   ]
  },
  {
   "cell_type": "code",
   "execution_count": 9,
   "metadata": {},
   "outputs": [
    {
     "name": "stdout",
     "output_type": "stream",
     "text": [
      "LangChain AI\n"
     ]
    },
    {
     "data": {
      "text/plain": [
       "[{'url': 'https://news.google.com/rss/articles/CBMieEFVX3lxTE15VWVUMHAxYVdMcmpKWnhHLXVRZnh4LVB5cnd0Vldia2ZlRmNGMnByWVVlWXJMakhyZTJKVlJvMWRIRkRjVTFuUE52WU9oVnN2VkM1UTRnWThFLVRaaE04TDZKM0VzbmNJMkFLLWoyNzc0SktDVXJ4Rw?oc=5',\n",
       "  'content': '가볍게 훑어보는 LangChain (랭체인) | 인사이트리포트 | 삼성SDS - Samsung SDS'},\n",
       " {'url': 'https://news.google.com/rss/articles/CBMizgJBVV95cUxQU1NSVHJ0eng3bzNVZWNibHBfV0txSkkxZDZvZXlsWXVhcHowWWlRVmwya1FnUm1Mc2FIWFFoSXdvdEY3WDVUbkprdnpDbFl2U1Fua3VjaEgtRHlZVnZlQjNIaTl6Um5NZ2dXenVQTjhMRUVDMzh2WUJjazloQUZmV1JfenBYT1EtWklqbkF2cEc2UFlwR1E0ek56Vjdqckc2Q0pESWd2NnlyYlQwcjBLNnpUem5CTzFaQUdWcTN4UUtROFJMV2ZvWXNrVm5hUDVLZ3cwTWZFT1lkZ2htWXl3LXZzQ25aeFI1SC02Ry1LQnU2aXZKTHEtNVZHazZnZHVBN1pSWEh6WFRoTGR2c19NOVBiXzFOUGNEQVRjSlRMRlBvY2lwaFlZcm1FOHNYZk1McVl5Unl3S1h0OHNadERXNVVuVU4yVVBsbV9HWG5n?oc=5',\n",
       "  'content': '대규모 AI 배포: NVIDIA NIM과 LangChain이 AI 통합 및 성능을 혁신하는 방법 - Unite.AI'},\n",
       " {'url': 'https://news.google.com/rss/articles/CBMiiwFBVV95cUxNTF9wdzNISGRrdzdYbDFfeUhMVWFXNnlVQWg0aVAzMFBaOExPNDRZd2Z3ckJua1AyaUZJbmxISXhZX1lGTXZLdDFQb29VTTZFQWV5bzMzc0dYV0JOQzhCMlg5VkdxX29aM0NTM1p1OW51T19Fa1FoZW5FR0lVQWVCb05IRENSZ3pRT2hJ?oc=5',\n",
       "  'content': 'Workers AI, Vectorize, D1에 대한 LangChain 지원 - Cloudflare'},\n",
       " {'url': 'https://news.google.com/rss/articles/CBMipAFBVV95cUxNMTZEUmQ3MTd6Q3BWblRSOHMzZ1N1ekYzamNLbnVlcG13ZXFTUEp2SHZJajMtMWVrNklTSmVwT3dCX3I0YUJBQnBUM3NTdHlUTlVLci1IRWV6X0hhU2lVZURtNEFaVmdQSEpIaHNxOGZzRGJXLUMzQmhsMjlfd0hodWF4X0JBTzJjQ25DV004MDJOUkswbTdrVkJ0bkhTTlhqOWJGUg?oc=5',\n",
       "  'content': '랭체인 아키텍처 및 동작 메커니즘 분석 - 캐드앤그래픽스'},\n",
       " {'url': 'https://news.google.com/rss/articles/CBMiVkFVX3lxTE11aWhNaUVUd091V3BPdVNvMGJsNzNqWGNFQjltUENtbTkxNU1yemNzZXVlcHRWRHgwMXZoZmg3NnJ0V3JXdTRpbEtsZWxLM2pVZWYyMVd3?oc=5',\n",
       "  'content': '생성 AI 혁신은 이제 시작... 질주하는 샌프란시스코 ‘뇌밸리’ - 더밀크 The Miilk'}]"
      ]
     },
     "execution_count": 9,
     "metadata": {},
     "output_type": "execute_result"
    }
   ],
   "source": [
    "search_keyword.invoke({\"query\": \"LangChain AI\"})"
   ]
  },
  {
   "cell_type": "markdown",
   "metadata": {},
   "source": [
    "### **LLM 에 도구 바인딩(Binding Tools)**\n"
   ]
  },
  {
   "cell_type": "code",
   "execution_count": 10,
   "metadata": {},
   "outputs": [],
   "source": [
    "from bs4 import BeautifulSoup\n",
    "from langchain.agents import tool\n",
    "import requests\n",
    "import re"
   ]
  },
  {
   "cell_type": "markdown",
   "metadata": {},
   "source": [
    "`get_word_length` : 단어의 길이를 반환하는 함수"
   ]
  },
  {
   "cell_type": "code",
   "execution_count": 11,
   "metadata": {},
   "outputs": [],
   "source": [
    "@tool\n",
    "def get_word_length(word: str) -> int: \n",
    "    \"\"\"Returns the length of a word.\"\"\"\n",
    "    return len(word)"
   ]
  },
  {
   "cell_type": "markdown",
   "metadata": {},
   "source": [
    "`add_function` : 두 숫자를 더하는 함수"
   ]
  },
  {
   "cell_type": "code",
   "execution_count": 12,
   "metadata": {},
   "outputs": [],
   "source": [
    "@tool\n",
    "def add_function(a: float, b: float) -> float:\n",
    "    \"\"\"Adds two numbers together.\"\"\"\n",
    "    return a + b"
   ]
  },
  {
   "cell_type": "markdown",
   "metadata": {},
   "source": [
    "`naver_news_crawl`: 네이버 뉴스 기사를 크롤링하여 본문 내용을 반환하는 함수"
   ]
  },
  {
   "cell_type": "code",
   "execution_count": 13,
   "metadata": {},
   "outputs": [],
   "source": [
    "@tool\n",
    "def naver_news_crawl(news_url: str) -> str:\n",
    "    \"\"\"Crawls a 네이버 (naver.com) news article and returns the body content.\"\"\"\n",
    "    \n",
    "    response = requests.get(news_url)           # HTTP GET 요청 보내기\n",
    "\n",
    "    if response.status_code == 200:             # 요청 성공\n",
    "        # BeautifulSoup을 사용하여 HTML 파싱\n",
    "        soup = BeautifulSoup(response.text, \"html.parser\")\n",
    "\n",
    "        # 원하는 정보 추출\n",
    "        title = soup.find(\"h2\", id=\"title_area\").get_text()\n",
    "        content = soup.find(\"div\", id=\"contents\").get_text()\n",
    "        cleaned_title = re.sub(r\"\\n{2,}\", \"\\n\", title)\n",
    "        cleaned_content = re.sub(r\"\\n{2,}\", \"\\n\", content)\n",
    "    else:\n",
    "        print(f\"HTTP 요청 실패. 응답 코드: {response.status_code}\")\n",
    "\n",
    "    return f\"{cleaned_title}\\n{cleaned_content}\""
   ]
  },
  {
   "cell_type": "code",
   "execution_count": 14,
   "metadata": {},
   "outputs": [],
   "source": [
    "tools = [get_word_length, add_function, naver_news_crawl]   # 도구 여러 개를 한꺼번에 바인딩 하기 위해서 리스트에 넣는다. "
   ]
  },
  {
   "cell_type": "markdown",
   "metadata": {},
   "source": [
    "llm 모델에 `bind_tools()` 를 사용하여 도구를 바인딩합니다."
   ]
  },
  {
   "cell_type": "code",
   "execution_count": 15,
   "metadata": {},
   "outputs": [],
   "source": [
    "from langchain_openai import ChatOpenAI"
   ]
  },
  {
   "cell_type": "code",
   "execution_count": 16,
   "metadata": {},
   "outputs": [],
   "source": [
    "llm = ChatOpenAI(model=\"gpt-4o-mini\", temperature=0)    # 모델 생성\n",
    "llm_with_tools = llm.bind_tools(tools)                  # 도구 바인딩(llm_with_tools는 도구를 가지고 있다.)"
   ]
  },
  {
   "cell_type": "code",
   "execution_count": 17,
   "metadata": {},
   "outputs": [],
   "source": [
    "# 실행 결과\n",
    "answer = llm_with_tools.invoke(\"What is the length of the word 'LEEINHWAN'?\")"
   ]
  },
  {
   "cell_type": "markdown",
   "metadata": {},
   "source": [
    "`tool_calls` 에 결과가 저장됩니다. <br>\n",
    "\n",
    "- name 은 사용할 도구의 이름을 의미합니다.     \n",
    "    - 'name': 'get_word_length'  get_word_length() 함수를 사용\n",
    "- args 는 도구에 전달되는 인자를 의미합니다. \n",
    "    - 'args': {'word': 'LEEINHWAN'}"
   ]
  },
  {
   "cell_type": "code",
   "execution_count": 18,
   "metadata": {},
   "outputs": [
    {
     "data": {
      "text/plain": [
       "[{'name': 'get_word_length',\n",
       "  'args': {'word': 'LEEINHWAN'},\n",
       "  'id': 'call_E2BFSnDAq2vX3g1ppWNkVvXB',\n",
       "  'type': 'tool_call'}]"
      ]
     },
     "execution_count": 18,
     "metadata": {},
     "output_type": "execute_result"
    }
   ],
   "source": [
    "answer.tool_calls"
   ]
  },
  {
   "cell_type": "code",
   "execution_count": 19,
   "metadata": {},
   "outputs": [],
   "source": [
    "# 실행 결과\n",
    "answer = llm_with_tools.invoke(\"네이버 뉴스에서 대한민국 계엄령을 검색해줘\")"
   ]
  },
  {
   "cell_type": "code",
   "execution_count": 20,
   "metadata": {},
   "outputs": [
    {
     "data": {
      "text/plain": [
       "[{'name': 'naver_news_crawl',\n",
       "  'args': {'news_url': 'https://search.naver.com/search.naver?query=대한민국%20계엄령'},\n",
       "  'id': 'call_S8VMfAo3fTzCURAz7bLZS8lc',\n",
       "  'type': 'tool_call'}]"
      ]
     },
     "execution_count": 20,
     "metadata": {},
     "output_type": "execute_result"
    }
   ],
   "source": [
    "answer.tool_calls"
   ]
  },
  {
   "cell_type": "code",
   "execution_count": 21,
   "metadata": {},
   "outputs": [],
   "source": [
    "# 실행 결과\n",
    "answer = llm_with_tools.invoke(\"1 + 2 = ?\")"
   ]
  },
  {
   "cell_type": "code",
   "execution_count": 22,
   "metadata": {},
   "outputs": [
    {
     "data": {
      "text/plain": [
       "[{'name': 'add_function',\n",
       "  'args': {'a': 1, 'b': 2},\n",
       "  'id': 'call_nKYocYD1kLwJ63w8EWIwRw7T',\n",
       "  'type': 'tool_call'}]"
      ]
     },
     "execution_count": 22,
     "metadata": {},
     "output_type": "execute_result"
    }
   ],
   "source": [
    "answer.tool_calls"
   ]
  },
  {
   "cell_type": "markdown",
   "metadata": {},
   "source": [
    "`llm_with_tools` 와 `JsonOutputToolsParser` 를 연결하여 `tool_calls` 를 `parsing` 하여 결과를 확인합니다."
   ]
  },
  {
   "cell_type": "code",
   "execution_count": 23,
   "metadata": {},
   "outputs": [],
   "source": [
    "from langchain_core.output_parsers.openai_tools import JsonOutputToolsParser"
   ]
  },
  {
   "cell_type": "code",
   "execution_count": 24,
   "metadata": {},
   "outputs": [],
   "source": [
    "# 도구 바인딩 + 도구 파서\n",
    "# llm_with_tools으로 도구를 실행해서 나온 결과를 도구 목록이 정의 된 JsonOutputToolsParser(tools=tools)에 연결\n",
    "chain = llm_with_tools | JsonOutputToolsParser(tools=tools)"
   ]
  },
  {
   "cell_type": "code",
   "execution_count": 25,
   "metadata": {},
   "outputs": [],
   "source": [
    "tool_call_results = chain.invoke(\"What is the length of the word 'LEEINHWAN'?\")"
   ]
  },
  {
   "cell_type": "markdown",
   "metadata": {},
   "source": [
    "`type`: 도구의 이름 \n",
    "<br>\n",
    "`args` : 도구에 전달되는 인자"
   ]
  },
  {
   "cell_type": "code",
   "execution_count": 26,
   "metadata": {},
   "outputs": [
    {
     "data": {
      "text/plain": [
       "[{'args': {'word': 'LEEINHWAN'}, 'type': 'get_word_length'}]"
      ]
     },
     "execution_count": 26,
     "metadata": {},
     "output_type": "execute_result"
    }
   ],
   "source": [
    "tool_call_results"
   ]
  },
  {
   "cell_type": "code",
   "execution_count": 27,
   "metadata": {},
   "outputs": [
    {
     "name": "stdout",
     "output_type": "stream",
     "text": [
      "[{'args': {'word': 'LEEINHWAN'}, 'type': 'get_word_length'}]\n",
      "\n",
      "==========\n",
      "\n",
      "get_word_length\n",
      "{'word': 'LEEINHWAN'}\n"
     ]
    }
   ],
   "source": [
    "print(tool_call_results, end=\"\\n\\n==========\\n\\n\")\n",
    "\n",
    "single_result = tool_call_results[0]    # 첫 번째 도구 호출 결과\n",
    "print(single_result[\"type\"])            # 도구 이름\n",
    "print(single_result[\"args\"])            # 도구 인자"
   ]
  },
  {
   "cell_type": "markdown",
   "metadata": {},
   "source": [
    "도구 이름과 일치하는 도구를 찾아 실행합니다."
   ]
  },
  {
   "cell_type": "code",
   "execution_count": 30,
   "metadata": {},
   "outputs": [
    {
     "data": {
      "text/plain": [
       "('get_word_length', 'get_word_length')"
      ]
     },
     "execution_count": 30,
     "metadata": {},
     "output_type": "execute_result"
    }
   ],
   "source": [
    "(tool_call_results[0][\"type\"], tools[0].name)"
   ]
  },
  {
   "cell_type": "markdown",
   "metadata": {},
   "source": [
    "`execute_tool_calls()` 함수는 도구를 찾아 `args` 를 전달하여 도구를 실행합니다. <br>\n",
    "- `type` : 도구의 이름\n",
    "- `args` : 도구에 전달되는 인자"
   ]
  },
  {
   "cell_type": "code",
   "execution_count": 31,
   "metadata": {},
   "outputs": [],
   "source": [
    "def execute_tool_calls(tool_call_results):\n",
    "    \"\"\"\n",
    "    도구 호출 결과를 실행하는 함수\n",
    "\n",
    "    :param tool_call_results: 도구 호출 결과 리스트\n",
    "    :param tools: 사용 가능한 도구 리스트\n",
    "    \"\"\"\n",
    "    # 도구 호출 결과 리스트를 순회합니다.\n",
    "    for tool_call_result in tool_call_results:\n",
    "        # 도구의 이름과 인자를 추출합니다.\n",
    "        tool_name = tool_call_result[\"type\"]  # 도구의 이름(함수명)\n",
    "        tool_args = tool_call_result[\"args\"]  # 도구에 전달되는 인자\n",
    "\n",
    "        print(tool_name)\n",
    "        print(tool_args)\n",
    "\n",
    "        \n",
    "        # 도구 이름과 일치하는 도구를 찾아 실행합니다.\n",
    "        # next() 함수를 사용하여 일치하는 첫 번째 도구를 찾습니다.\n",
    "        matching_tool = None\n",
    "\n",
    "        for tool in tools:\n",
    "            if tool.name == tool_name:\n",
    "                matching_tool = tool\n",
    "                break\n",
    "\n",
    "        # matching_tool = next((tool for tool in tools if tool.name == tool_name), None)\n",
    "        # print(matching_tool)\n",
    "        # name='get_word_length' description='Returns the length of a word.' args_schema=<class 'langchain_core.utils.pydantic.get_word_length'> func=<function get_word_length at 0x0000022DB7051940>\n",
    "        \n",
    "        if matching_tool:\n",
    "            # 일치하는 도구를 찾았다면 해당 도구를 실행합니다.\n",
    "            result = matching_tool.invoke(tool_args)\n",
    "            # 실행 결과를 출력합니다.\n",
    "            print(f\"[실행도구] {tool_name} [Argument] {tool_args}\\n[실행결과] {result}\")\n",
    "        else:\n",
    "            # 일치하는 도구를 찾지 못했다면 경고 메시지를 출력합니다.\n",
    "            print(f\"경고: {tool_name}에 해당하는 도구를 찾을 수 없습니다.\")\n",
    "        "
   ]
  },
  {
   "cell_type": "code",
   "execution_count": 32,
   "metadata": {},
   "outputs": [
    {
     "data": {
      "text/plain": [
       "[{'args': {'word': 'LEEINHWAN'}, 'type': 'get_word_length'}]"
      ]
     },
     "execution_count": 32,
     "metadata": {},
     "output_type": "execute_result"
    }
   ],
   "source": [
    "tool_call_results"
   ]
  },
  {
   "cell_type": "code",
   "execution_count": 33,
   "metadata": {},
   "outputs": [
    {
     "name": "stdout",
     "output_type": "stream",
     "text": [
      "get_word_length\n",
      "{'word': 'LEEINHWAN'}\n",
      "[실행도구] get_word_length [Argument] {'word': 'LEEINHWAN'}\n",
      "[실행결과] 9\n"
     ]
    }
   ],
   "source": [
    "execute_tool_calls(tool_call_results)"
   ]
  }
 ],
 "metadata": {
  "kernelspec": {
   "display_name": "venv",
   "language": "python",
   "name": "python3"
  },
  "language_info": {
   "codemirror_mode": {
    "name": "ipython",
    "version": 3
   },
   "file_extension": ".py",
   "mimetype": "text/x-python",
   "name": "python",
   "nbconvert_exporter": "python",
   "pygments_lexer": "ipython3",
   "version": "3.11.9"
  }
 },
 "nbformat": 4,
 "nbformat_minor": 2
}
