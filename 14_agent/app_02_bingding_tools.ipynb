{
 "cells": [
  {
   "cell_type": "code",
   "execution_count": 5,
   "metadata": {},
   "outputs": [],
   "source": [
    "from dotenv import load_dotenv\n",
    "import os\n",
    "\n",
    "load_dotenv(verbose=True)\n",
    "key = os.getenv('OPENAI_API_KEY')"
   ]
  },
  {
   "cell_type": "markdown",
   "metadata": {},
   "source": [
    "### **사용자 정의 도구(Custom Tool)**\n",
    "\n",
    "`사용자 정의 함수`를 만들고 `langchain.tools` 모듈에서 제공하는 `tool` 데코레이터를 적용해서 도구로 만듭니다. \n",
    "<br>\n",
    "<br>\n",
    "\n",
    "### **`@tool 데코레이터`**\n",
    "\n",
    "함수를 도구로 변환하는 기능을 제공합니다. <br>\n",
    "\n",
    "**사용**\n",
    "\n",
    "1. 함수 위에 @tool 데코레이터 적용\n",
    "2. 필요에 따라 데코레이터 매개변수 설정\n",
    "\n",
    "일반 Python 함수를 도구로 쉽게 변환할 수 있으며, 자동화된 문서화와 유연한 인터페이스 생성이 가능합니다."
   ]
  },
  {
   "cell_type": "code",
   "execution_count": 6,
   "metadata": {},
   "outputs": [],
   "source": [
    "from langchain.tools import tool\n",
    "\n",
    "@tool\n",
    "def add_numbers(a: int, b: int) -> int:     \n",
    "    \"\"\"Add two numbers\"\"\"\n",
    "    return a + b                            \n",
    "\n",
    "@tool\n",
    "def multiply_numbers(a: int, b: int) -> int:\n",
    "    \"\"\"Multiply two numbers\"\"\"\n",
    "    return a * b"
   ]
  },
  {
   "cell_type": "code",
   "execution_count": 7,
   "metadata": {},
   "outputs": [
    {
     "data": {
      "text/plain": [
       "7"
      ]
     },
     "execution_count": 7,
     "metadata": {},
     "output_type": "execute_result"
    }
   ],
   "source": [
    "add_numbers.invoke({\"a\": 3, \"b\": 4})            #  add_numbers() 도구 실행"
   ]
  },
  {
   "cell_type": "code",
   "execution_count": 8,
   "metadata": {},
   "outputs": [
    {
     "data": {
      "text/plain": [
       "12"
      ]
     },
     "execution_count": 8,
     "metadata": {},
     "output_type": "execute_result"
    }
   ],
   "source": [
    "multiply_numbers.invoke({\"a\": 3, \"b\": 4})       # multiply_numbers() 도구 실행"
   ]
  },
  {
   "cell_type": "markdown",
   "metadata": {},
   "source": [
    "### 구글 뉴스기사 검색 도구\n",
    "\n",
    "langchain-teddynote 패키지에서 제공하는 GoogleNews 도구를 사용하여 구글 뉴스기사를 검색하는 도구입니다. <br>\n",
    "news.google.com 에서 제공하는 뉴스기사를 검색하는 도구입니다. <br>"
   ]
  },
  {
   "cell_type": "code",
   "execution_count": 9,
   "metadata": {},
   "outputs": [],
   "source": [
    "from langchain_teddynote.tools import GoogleNews\n",
    "\n",
    "news_tool = GoogleNews()"
   ]
  },
  {
   "cell_type": "code",
   "execution_count": 10,
   "metadata": {},
   "outputs": [
    {
     "data": {
      "text/plain": [
       "[{'url': 'https://news.google.com/rss/articles/CBMihwFBVV95cUxPbjE3RTM3Y1Byb0ZkM3pzTUszVVBjNTlvbFYzVDNpV1Nsc3ZtTFNYc1ZabzlSRFc1bVVram1NaEN5Z0pZWE1qLVd3LTVuN0FrZk5xWmRyYlZmMDNtQVJlb0FfOHZtRDJyTThEalg0T0hEOW1GaGRhTTJna19oZ0Q0OUJDRThCSUXSAZsBQVVfeXFMTlZCRFZ6Qi1aOFNhM2d6QkRzNFItdjhpdGFvaHNya3k5dWxGMFplcEJ1STMzOWtQOGFUdGhCampuT1oza1JRMWtQVWhmLXpaa19WX2RfQUpWZHU1aWU3dU1ScnZVejJlM3BLbU1ndGpGb09taE1LRDdTd0poLVhfc3drQVBSaU04UE4wT0g0QWFNUHhiWVI4dnpaeUU?oc=5',\n",
       "  'content': '[속보] ‘롯데리아 회동’ 문상호 정보사령관 구속 - 조선일보'},\n",
       " {'url': 'https://news.google.com/rss/articles/CBMickFVX3lxTE1pY0ozUndJa1lYVGZiMzcwLS1JUWJ0cWVVeTcxTjQ4a3RRVFNnVDZCcGl6UmFvNllzZXJoUUZyblBzTnM1aXBzYnk5WWpiM19zT1g0MFJOLU80Ykd4S1F1Ry0xRkVVMUstZk5TWk1GQTdGdw?oc=5',\n",
       "  'content': '공조본, 윤석열 25일 출석 불응 시 체포영장 검토 - 한겨레'},\n",
       " {'url': 'https://news.google.com/rss/articles/CBMid0FVX3lxTE8wSG40eVI0alhVejdJT05VTXFPb0dwWDZkUVhBTmpueG1RS0QxMmFYNFRtenVybVNiOHQ2aXJ6YUJJbC1pVUNDV1ZCTFN0ZV8wWnNPZ002czZIZEtuTF9PRDYwWHRnZC1TTEJCU2RzOFA4YVEzNmNZ?oc=5',\n",
       "  'content': '민주 “韓대행 선제적 탄핵도 가능…다음주부터 비상행동 재개” - 동아일보'},\n",
       " {'url': 'https://news.google.com/rss/articles/CBMiWkFVX3lxTE5rM3JhXzY4VHV4TFozS0VDWmZiNWxjQ3RQUzRmQm9SVUJNTFlxc2oxMXI3cjBRcjY0MFhxa19mZmlNcS16c0k3dFhMd0c0TjFYT3piMFhMVDJVd9IBVEFVX3lxTFBfaFNuNFhHMUF2dnRCdnB0Z041ZUZCVWNVc2x6OUVUZzk5RGo2U1NTNFBkRHdmajBwaThsSDVPQ1BmMkhBMklQV2trQ2lhTlg0M3R2Uw?oc=5',\n",
       "  'content': \"'尹탄핵심판 서류' 아직 미배달…헌재, '송달 간주' 검토 - 한국경제\"},\n",
       " {'url': 'https://news.google.com/rss/articles/CBMieEFVX3lxTE9BcmpOM1pWZFh3SlB5TF9fTlVfdG83cjFybXZmV0lUa3FPbzJSaU5QdWZmZHd4R0hLSlZHMzFsWkJQdllMb2hQVmdkYTRZMUNjMjVzZU91dzI2dlZrNjB3WTJjenVady1OR0hOS3dGWDlOOFRvOG1VZtIBeEFVX3lxTE9WdXdoMjUzY05XX3ZscVdJUWtqNXFlTlJCeUVTeFhFQzRsUnhJUmJRVlV0S2RHZmFpaGJVUkJPOV9jTjExd1YzNW1uMkxYYVd5RFZ3ZnpfZGtQY0lzVWdSSkhaeHkyUllDdTRzVTdlTGJWZi1XbFB6Qw?oc=5',\n",
       "  'content': '국민의힘 권성동 \"우원식 의장 제안 국회·정부 국정협의체 참여\" - MBC 뉴스'}]"
      ]
     },
     "execution_count": 10,
     "metadata": {},
     "output_type": "execute_result"
    }
   ],
   "source": [
    "news_tool.search_latest(k=5)    #  최신 뉴스를 검색합니다.(5개)"
   ]
  },
  {
   "cell_type": "code",
   "execution_count": 11,
   "metadata": {},
   "outputs": [
    {
     "data": {
      "text/plain": [
       "[{'url': 'https://news.google.com/rss/articles/CBMiVkFVX3lxTE0wUDVvRDE0eURHcWFXTUF5dEozSy0wQjVoMExBQ18yT0NrQ1NuclM2THVtcDl0bjZjYUUwZ3NKLTBOYmZUVU45dXlodGdkeXV2dndMMjZB?oc=5',\n",
       "  'content': '\"국민 목숨 오가는 계엄이 우습나\"…이 시국에 \\'계엄령 공모전\\' 충격 - 중앙일보'},\n",
       " {'url': 'https://news.google.com/rss/articles/CBMickFVX3lxTE1zS20tTjRLSVNOWFpuSThveVVXWDl3NEFoNVptME5YaHB3MDdSMjdrMnlqcnAyZWkyaWRKQy0tMmxmWENoQ21veTdXNjB1YjMwU19GdUhoajdScDZ5eHczYnpMemp5dDdYTXFwenJJeVFPZw?oc=5',\n",
       "  'content': '[웁스구라] 소년과 계엄령 - 한겨레'},\n",
       " {'url': 'https://news.google.com/rss/articles/CBMiWkFVX3lxTE00b1hvLXQxLTlQZzhzMVp4ZDVkTG5qZjRqektsZVI4T3Z2ajZmM08yVjY2My1XR0FHdmtMczFFVFpYQWxZUFR1ZVpHLTZKVTdFYlgzNktnczBhZ9IBXEFVX3lxTE1zZXJDQ1ZORG5LdGQyeDJvblBZcGEzNFdFNEhLU1RMQjh1S1ZzLTF1d05XdmdDSWVFQVNpWHVac1o1WExwWlpmd2hGdDA3VlJwVHhCRmM2T1dUZl84?oc=5',\n",
       "  'content': '이주호 “계엄령 선포 이후 사회수석과 통화, 탄핵은 이야기할 위치 아냐” - 경향신문'}]"
      ]
     },
     "execution_count": 11,
     "metadata": {},
     "output_type": "execute_result"
    }
   ],
   "source": [
    "news_tool.search_by_keyword(\"계엄령\", k=3)     # 키워드로 뉴스 검색"
   ]
  },
  {
   "cell_type": "code",
   "execution_count": 12,
   "metadata": {},
   "outputs": [],
   "source": [
    "from langchain_teddynote.tools import GoogleNews\n",
    "from langchain.tools import tool\n",
    "from typing import List, Dict\n",
    "\n",
    "@tool\n",
    "def search_keyword(query: str) -> List[Dict[str, str]]:\n",
    "    # 키워드로 뉴스 검색하는 도구 생성  \n",
    "    \"\"\"Look up news by keyword\"\"\"\n",
    "    print(query)\n",
    "    news_tool = GoogleNews()\n",
    "    return news_tool.search_by_keyword(query, k=5)"
   ]
  },
  {
   "cell_type": "code",
   "execution_count": 13,
   "metadata": {},
   "outputs": [
    {
     "name": "stdout",
     "output_type": "stream",
     "text": [
      "2024년 대한민국 계엄령 \n"
     ]
    },
    {
     "data": {
      "text/plain": [
       "[{'url': 'https://news.google.com/rss/articles/CBMiYEFVX3lxTE9fQjQ1V2toM2JpSG5vT0dUV2k2ZVE0YUU3TFVtOGN4YUcwQVJKZXB1X1hRbmZGaVNkcWpHUTNORFUxdVFZSzVkT000enhJN09tbllNRWVHb2FsMTJZVERyRQ?oc=5',\n",
       "  'content': '강기정 \"비상계엄, 80년 5월 광주는 고립됐지만 2024년 대한민국은 연대해 싸웠다\" [와이드이슈] - KBC광주방송'},\n",
       " {'url': 'https://news.google.com/rss/articles/CBMitwFBVV95cUxPZ2ZBNVdlMHl1Mkl3U0ZmUHNrZi10OTJJNEJBX2ViWDlLcEdXY3NCNko3QTZjcmZEQkZrTU5YQ294UklXQWxoSG95Yk15dXdJVnZaYmxaN2hoZ1NwNXJoUnZ1THBsMnloUnkzVGJQN185RUJmR0ZFeHNudnZlR0ZMbEJ2bTlWN1ZZemx3Mm9YVzlMMTBURHhlM29HYktrNDhMNUhKQUhkYjlHRkpWel9pV0JXN28xM0nSAcABQVVfeXFMTnQ2X3B6UlctTzYxR1FCd0hwb1V4WEg0WEZZTnFFM194ZWpld29NY2ZpLTc0MVhKTmNkdFh6VzJ2VjF4NW9vNGdxS2U0TWFISWJsbVFya3c0ZEFBa1p4MXNVU2RSaVBLQ1piYWk0QkZ1XzVLTjJNaDhsamdxaEZBOE1wUHlpZ3lwcVVnaXd0SVVjZkF0OERsd0w0SHNZSHptSVhPUmVER0ZHUFQ1aUw1WkVQNGlJQlJwMTd1QmZDWXEw?oc=5',\n",
       "  'content': '[북한 노동당 간부들에게] 남한 계엄사태에서 교훈 얻어야 - 자유아시아방송'},\n",
       " {'url': 'https://news.google.com/rss/articles/CBMiXEFVX3lxTE9ZWkJWQ3FSeEh0OVNVOWQyUGI0V202cEZXMEgxMGhvM2xnMjlYUUtTVXZvOFhQSWp3R0Y2VnhScnB5cE5nMzZsYmUxWkdCejU3X1dlM3RvOVJTWVhu0gFiQVVfeXFMTkFFWkZXQURrazJiVFR1VjFkVFpEeXUwcWpHYVZCNHJCMFNsMDJpVE5MZUNNUnZ1QW5RZXFDLUhUZkVIeXRsc0QxUWljR0N3UVVQNmRhNFduemJzQVdsZmdydVE?oc=5',\n",
       "  'content': '비상계엄: 과거 역사 굴곡 겪었던 세대부터 MZ까지 이들이 보는 2024년 계엄령 - BBC.com'},\n",
       " {'url': 'https://news.google.com/rss/articles/CBMif0FVX3lxTE9ZVk5UNEt4MEtIR3QxYUdOVWQzZzMzSnhjMGVJUjFSQjdzTDlrTHBWYkE2dkRyamVtWkdOTWVsUUhPTklaUmU4MUd0LUgxQTlxQmIzaXMyTllVckt5VkxNSDh5MUEwbTU2bnUwYTNLU1otVU9tYWNmdVlUWUI5RVXSAZMBQVVfeXFMUGJlSGxxQ1pSclVsUFQwVVFGT1MwbTViMUk3VkhnWm0ySXYtX1ZyM1NJWFVySWs5NHhGMnh4SXIwaWxEMnFGd3d1b3BjZ0k4OV80RFdWVlNXdHhWeDBhRWR3cTB0RzhkR01LaXp4Y1J2MFpoUUpZREV4SmhBSTlsVXJuRjJyYkRZVDEyUDcxSUlyMjZr?oc=5',\n",
       "  'content': '[신문은 선생님] [뉴스 속의 한국사] 정부 수립 이후 13번째 비상계엄… 45년 만에 선포됐대요 - 조선일보'},\n",
       " {'url': 'https://news.google.com/rss/articles/CBMickFVX3lxTE9WcDFzZlhxY212STdyblBKODhBbE0xSFoxZjNuZWRSVUt4WUFCVjVkZnFxekM3ampHV2V4V2pkWklVQU51bTdxS2VRblExTHNBVVZHOU9aV0l2YTVKWXc3cTdjZjFsazdqVEJPMHJNLU5rdw?oc=5',\n",
       "  'content': '“2024년에 계엄이 말이 돼?” 가로막힌 국회 정문…시민들 격분 - 한겨레'}]"
      ]
     },
     "execution_count": 13,
     "metadata": {},
     "output_type": "execute_result"
    }
   ],
   "source": [
    "search_keyword.invoke({\"query\": \"2024년 대한민국 계엄령 \"})"
   ]
  },
  {
   "cell_type": "markdown",
   "metadata": {},
   "source": [
    "### **LLM 에 도구 바인딩(Binding Tools)**\n"
   ]
  },
  {
   "cell_type": "code",
   "execution_count": 14,
   "metadata": {},
   "outputs": [],
   "source": [
    "from bs4 import BeautifulSoup\n",
    "from langchain.agents import tool\n",
    "import requests\n",
    "import re"
   ]
  },
  {
   "cell_type": "markdown",
   "metadata": {},
   "source": [
    "`get_word_length` : 단어의 길이를 반환하는 함수"
   ]
  },
  {
   "cell_type": "code",
   "execution_count": 15,
   "metadata": {},
   "outputs": [],
   "source": [
    "@tool\n",
    "def get_word_length(word: str) -> int: \n",
    "    \"\"\"Returns the length of a word.\"\"\"\n",
    "    return len(word)"
   ]
  },
  {
   "cell_type": "markdown",
   "metadata": {},
   "source": [
    "`add_function` : 두 숫자를 더하는 함수"
   ]
  },
  {
   "cell_type": "code",
   "execution_count": 16,
   "metadata": {},
   "outputs": [],
   "source": [
    "@tool\n",
    "def add_function(a: float, b: float) -> float:\n",
    "    \"\"\"Adds two numbers together.\"\"\"\n",
    "    return a + b"
   ]
  },
  {
   "cell_type": "markdown",
   "metadata": {},
   "source": [
    "`naver_news_crawl`: 네이버 뉴스 기사를 크롤링하여 본문 내용을 반환하는 함수"
   ]
  },
  {
   "cell_type": "code",
   "execution_count": 17,
   "metadata": {},
   "outputs": [],
   "source": [
    "@tool\n",
    "def naver_news_crawl(news_url: str) -> str:\n",
    "    \"\"\"Crawls a 네이버 (naver.com) news article and returns the body content.\"\"\"\n",
    "    \n",
    "    response = requests.get(news_url)           # HTTP GET 요청 보내기\n",
    "\n",
    "    if response.status_code == 200:             # 요청 성공\n",
    "\n",
    "        soup = BeautifulSoup(response.text, \"html.parser\")\n",
    "\n",
    "        title = soup.find(\"h2\", id=\"title_area\").get_text()\n",
    "        content = soup.find(\"div\", id=\"contents\").get_text()\n",
    "        cleaned_title = re.sub(r\"\\n{2,}\", \"\\n\", title)\n",
    "        cleaned_content = re.sub(r\"\\n{2,}\", \"\\n\", content)\n",
    "    else:\n",
    "        print(f\"HTTP 요청 실패. 응답 코드: {response.status_code}\")\n",
    "\n",
    "    return f\"{cleaned_title}\\n{cleaned_content}\""
   ]
  },
  {
   "cell_type": "code",
   "execution_count": 20,
   "metadata": {},
   "outputs": [
    {
     "name": "stdout",
     "output_type": "stream",
     "text": [
      "\"잠 줄였더니 수익률 60% 찍었다\"…'국장 탈출' 놀라운 후기\n",
      "\n",
      "\"잠보다 수익\"…새벽마다 주식앱 켜는 서학개미들 美증시 고공행진에…41%가 매일 MTS 심야 접속매일 300만명이 '미장' 본다10명 중 6명이 하루 1~2회 접속10회 이상 '밤샘 투자' 11% 달해지난달 美 주식결제 105만여건거래액은 90조 넘어 '역대 최대'보관액 170조…2년새 2배 이상↑\n",
      "사진=게티이미지뱅크‘서학개미’(해외 주식을 매매하는 개인투자자) 중 41%는 심야와 새벽 시간에 휴대폰을 통해 모바일트레이딩시스템(MTS)에 접속하는 것으로 나타났다. 미국 증시가 뜨거운 랠리를 펼치는 가운데 지난 8월 이후 미국 주식 주간 거래가 중단되자 밤잠을 설쳐가며 투자에 나서는 것이다. 하룻밤에 10회 이상 접속하는 등 사실상 밤을 새우는 투자자도 11%에 달했다.○밤샘 출근 OK “수익 나는데 뭔들”20일 한국경제신문이 키움증권에 의뢰해 이달 1~10일 미국 증시 정규장 개장 시간(오후 11시30분~오전 6시)에 이 증권사 MTS(영웅문S#)를 사용한 투자자를 분석한 결과 하루 최소 한 차례 해외 주식 화면에 접속한 고객 비중이 41%로 집계됐다.\n",
      "서학개미가 약 700만~800만 명에 달하는 점을 감안하면 매일 약 300만 명이 새벽에 1회 이상 휴대폰으로 ‘미장’(미국 증시)을 들여다보거나 거래하는 셈이다. 하루 2회 접속하는 고객 비중은 19%, 10회 이상 접속자 비중은 11%였다. 연령별로 10대 이하 투자자의 비중이 높았다. 이 연령대 투자자의 72%가 1회 이상 접속했다.밤을 온전히 새우다시피 하는 하루 10회 이상 접속자의 비중은 60대 이상이 가장 높았다. 은퇴자가 많다 보니 새벽 시간을 활용할 수 있는 전업 투자자 비중이 다른 연령대보다 높은 것으로 해석된다.미국 주식은 심야에만 거래가 가능하다. 국내 증권사들은 2022년부터 미국 주식 주간 거래 서비스를 지원했으나 올 8월 블랙먼데이를 계기로 4개월째 잠정 중단된 상태다. 한국 시간으로 저녁 이후~이른 오전 잠시 열리는 프리마켓(정규장 개장 전 거래)과 애프터마켓(개장 후 거래)이 있지만 장 중 ‘진짜’ 시세를 반영한 거래를 하려면 정규장을 활용하는 게 유리하다. 그렇다 보니 야간 거래에 뛰어드는 서학개미는 꾸준히 늘고 있다. 국내 주식 거래 활동 계좌(10만원 이상 금액이 들어 있으면서 최근 6개월 동안 한 번 이상 거래가 이뤄진 계좌)는 해외 주식 열풍에 힘입어 지난 19일 기준 8620만 개를 넘어서 신기록을 경신했다.○서학개미 美 주식 170조 보유미국 주식 결제 건수도 급증하고 있다. 한국예탁결제원에 따르면 지난달 미국 주식 결제 건수는 105만6498건으로 전년 동월 81만6768건 대비 29.35% 증가했다. 지난해 11월에는 전년 동기 대비 7.54% 늘어나는 데 그쳤다. 미국 주식을 사고파는 결제액도 사상 최대로 불어났다. 11월 미국 주식 거래액은 634억9525만달러(약 90조8800억원)로 통계 집계 이후 최대치였다. 매수한 종목 주가가 고공행진하면서 보관금액도 폭증하고 있다. 미국 주식 보관액은 16일 기준 1178억1749만달러(약 170조원)로 불어났다. 2022년 11월(528억65만달러)과 비교하면 두 배 이상으로 늘었다.올해 들어 서학개미 인기 종목인 팔란티어(347.59%), 엔비디아(171.29%), 테슬라(75.58%) 등이 폭등한 반면 같은 기간 삼성전자(-33.42%) 등은 부진하면서 미국 주식 쏠림 현상은 더 심화하고 있다. 최근 계엄 정국으로 정치 리스크가 불거진 점 등도 서학개미들의 미국행이 늘어난 배경으로 꼽힌다.한 30대 투자자는 “올해 초부터 미국 증시에 투자했는데 주식·채권 혼합 상장지수펀드(ETF) 등을 통해 보수적으로 운용했는데도 60%가 넘는 수익을 냈다”며 “미국 투자 비중을 점점 늘리다 보니 언제부턴가 새벽마다 MTS에 접속하는 게 일상이 됐다”고 말했다.\n",
      "조아라 기자 rrang123@hankyung.com\n",
      "기자 프로필\n",
      "한국경제\n",
      "한국경제\n",
      "조아라 기자\n",
      "구독\n",
      "구독중\n",
      "구독자 0\n",
      "응원수\n",
      "0\n",
      "증권부 조아라 기자입니다. 매주 [조아라의 차이나스톡]을 연재합니다. 제보 환영합니다.\n",
      "'불닭' 삼양식품 주가 뒷심 무섭네\n",
      "“중국에 투자하세요”…中 빗장 풀고 '러브콜' [조아라의 차이나스톡]\n",
      "한국경제의 구독 많은 기자를 구독해보세요!\n",
      "닫기\n",
      "Copyright ⓒ 한국경제. All rights reserved. 무단 전재 및 재배포 금지.\n",
      " \n",
      "이 기사는 언론사에서 경제 섹션으로 분류했습니다.\n",
      "기사 섹션 분류 안내\n",
      "기사의 섹션 정보는 해당 언론사의 분류를 따르고 있습니다. 언론사는 개별 기사를 2개 이상 섹션으로 중복 분류할 수 있습니다.\n",
      "닫기\n",
      "구독\n",
      "메인에서 바로 보는 언론사 편집 뉴스 지금 바로 구독해보세요!\n",
      "구독중\n",
      "메인에서 바로 보는 언론사 편집 뉴스 지금 바로 확인해보세요!\n",
      "한경 베스트셀러 밀리&티빙 패키지 인기 절정!\n",
      "QR 코드를 클릭하면 크게 볼 수 있어요.\n",
      "QR을 촬영해보세요.\n",
      "한경 베스트셀러 밀리&티빙 패키지 인기 절정!\n",
      "닫기\n",
      "클래식과 미술의 모든 것 '아르떼'에서 확인하세요\n",
      "QR 코드를 클릭하면 크게 볼 수 있어요.\n",
      "QR을 촬영해보세요.\n",
      "클래식과 미술의 모든 것 '아르떼'에서 확인하세요\n",
      "닫기\n",
      "한국경제\n",
      "한국경제\n",
      "\t\t\t주요뉴스해당 언론사에서 선정하며 언론사 페이지(아웃링크)로 이동해 볼 수 있습니다.\n",
      "'잠은 죽어서'…밤새워 수익률 60% 찍었다\n",
      "\"여기가 찐부촌\"…강남 제친 부자 동네 어디\n",
      "'2조 잭팟' 터진지 한 달 만에…1.8조 터졌다\n",
      "\"넷플서 그알 볼 수 있대\"…주가 껑충 뛴 회사\n",
      "기회 노리던 외국기업…믿는 구석은 '韓 규제'\n",
      "이 기사를 추천합니다\n",
      "기사 추천은 24시간 내 50회까지 참여할 수 있습니다.\n",
      "닫기\n",
      "쏠쏠정보\n",
      "0\n",
      "흥미진진\n",
      "0\n",
      "공감백배\n",
      "0\n",
      "분석탁월\n",
      "0\n",
      "후속강추\n",
      "0\n",
      " \n",
      "모두에게 보여주고 싶은 기사라면?beta\n",
      "이 기사를 추천합니다 버튼을 눌러주세요.  집계 기간 동안 추천을 많이 받은 기사는 네이버 자동 기사배열 영역에 추천 요소로 활용됩니다.\n",
      "레이어 닫기\n",
      " \n",
      "한국경제 언론사가 직접 선정한 이슈\n",
      "\t\t\t\n",
      "이슈\n",
      "尹 탄핵 정국\n",
      "계엄사, 비상계엄 당시 외교부에 인력 파견 요청…\"응하지 않아\"\n",
      "이슈\n",
      "트럼프 2.0 시대\n",
      "트럼프 개입에 美예산 대혼전…셧다운 위기\n",
      "이슈\n",
      "北 우크라전 파병\n",
      "'북한군, 항복하고 남조선서 내일을'…한글 전단 뿌린 우크라\n",
      "이슈\n",
      "한국 증시 어디로\n",
      "코스피 장중 2400 붕괴…동시다발 악재 쏟아져\n",
      "이슈\n",
      "美 금리인하 속도조절\n",
      "인플레이션 우려에…미국 장기 국채 금리 6개월 만에 '최고치'\n",
      "이전\n",
      "다음\n",
      "한국경제 언론사홈 바로가기\n",
      " \n",
      "기자 구독 후 기사보기\n",
      "구독 없이 계속 보기\n",
      "\n"
     ]
    }
   ],
   "source": [
    "print(naver_news_crawl.invoke('https://n.news.naver.com/article/015/0005072770?cds=news_media_pc'))"
   ]
  },
  {
   "cell_type": "code",
   "execution_count": 21,
   "metadata": {},
   "outputs": [],
   "source": [
    "tools = [get_word_length, add_function, naver_news_crawl]   # 도구 여러 개를 한꺼번에 바인딩 하기 위해서 리스트에 넣는다. "
   ]
  },
  {
   "cell_type": "markdown",
   "metadata": {},
   "source": [
    "llm 모델에 `bind_tools()` 를 사용하여 도구를 바인딩합니다."
   ]
  },
  {
   "cell_type": "code",
   "execution_count": 22,
   "metadata": {},
   "outputs": [],
   "source": [
    "from langchain_openai import ChatOpenAI"
   ]
  },
  {
   "cell_type": "code",
   "execution_count": 23,
   "metadata": {},
   "outputs": [],
   "source": [
    "llm = ChatOpenAI(model=\"gpt-4o-mini\", temperature=0)    # 모델 생성\n",
    "llm_with_tools = llm.bind_tools(tools)                  # 도구 바인딩(llm_with_tools는 도구를 가지고 있다.)"
   ]
  },
  {
   "cell_type": "code",
   "execution_count": 24,
   "metadata": {},
   "outputs": [],
   "source": [
    "# 실행 결과\n",
    "answer = llm_with_tools.invoke(\"What is the length of the word 'LEEINHWAN'?\")"
   ]
  },
  {
   "cell_type": "markdown",
   "metadata": {},
   "source": [
    "`tool_calls` 에 결과가 저장됩니다. <br>\n",
    "\n",
    "- name 은 사용할 도구의 이름을 의미합니다.     \n",
    "    - 'name': 'get_word_length'  get_word_length() 함수를 사용\n",
    "- args 는 도구에 전달되는 인자를 의미합니다. \n",
    "    - 'args': {'word': 'LEEINHWAN'}"
   ]
  },
  {
   "cell_type": "code",
   "execution_count": 25,
   "metadata": {},
   "outputs": [
    {
     "data": {
      "text/plain": [
       "[{'name': 'get_word_length',\n",
       "  'args': {'word': 'LEEINHWAN'},\n",
       "  'id': 'call_S9fDb53nOCbc010Ibz3xnIHy',\n",
       "  'type': 'tool_call'}]"
      ]
     },
     "execution_count": 25,
     "metadata": {},
     "output_type": "execute_result"
    }
   ],
   "source": [
    "answer.tool_calls"
   ]
  },
  {
   "cell_type": "code",
   "execution_count": 29,
   "metadata": {},
   "outputs": [
    {
     "data": {
      "text/plain": [
       "'get_word_length'"
      ]
     },
     "execution_count": 29,
     "metadata": {},
     "output_type": "execute_result"
    }
   ],
   "source": [
    "answer.tool_calls[0]['name']"
   ]
  },
  {
   "cell_type": "code",
   "execution_count": 33,
   "metadata": {},
   "outputs": [],
   "source": [
    "# 실행 결과\n",
    "answer = llm_with_tools.invoke(\"네이버 뉴스에서 대한민국 계엄령을 검색해줘\")"
   ]
  },
  {
   "cell_type": "code",
   "execution_count": 34,
   "metadata": {},
   "outputs": [
    {
     "data": {
      "text/plain": [
       "[{'name': 'naver_news_crawl',\n",
       "  'args': {'news_url': 'https://search.naver.com/search.naver?query=대한민국+계엄령'},\n",
       "  'id': 'call_IcTcH1m9MTqw8Ov8GBBLpvzi',\n",
       "  'type': 'tool_call'}]"
      ]
     },
     "execution_count": 34,
     "metadata": {},
     "output_type": "execute_result"
    }
   ],
   "source": [
    "answer.tool_calls"
   ]
  },
  {
   "cell_type": "code",
   "execution_count": 35,
   "metadata": {},
   "outputs": [],
   "source": [
    "# 실행 결과\n",
    "answer = llm_with_tools.invoke(\"1 + 2 = ?\")"
   ]
  },
  {
   "cell_type": "code",
   "execution_count": 36,
   "metadata": {},
   "outputs": [
    {
     "data": {
      "text/plain": [
       "[{'name': 'add_function',\n",
       "  'args': {'a': 1, 'b': 2},\n",
       "  'id': 'call_py7BSHGTOL0aPqNsfbPssCFY',\n",
       "  'type': 'tool_call'}]"
      ]
     },
     "execution_count": 36,
     "metadata": {},
     "output_type": "execute_result"
    }
   ],
   "source": [
    "answer.tool_calls"
   ]
  },
  {
   "cell_type": "markdown",
   "metadata": {},
   "source": [
    "`llm_with_tools` 와 `JsonOutputToolsParser` 를 연결하여 `tool_calls` 를 `parsing` 하여 결과를 확인합니다."
   ]
  },
  {
   "cell_type": "code",
   "execution_count": 37,
   "metadata": {},
   "outputs": [],
   "source": [
    "from langchain_core.output_parsers.openai_tools import JsonOutputToolsParser"
   ]
  },
  {
   "cell_type": "code",
   "execution_count": 38,
   "metadata": {},
   "outputs": [],
   "source": [
    "# 도구 바인딩 + 도구 파서\n",
    "# llm_with_tools으로 도구를 실행해서 나온 결과를 도구 목록이 정의 된 JsonOutputToolsParser(tools=tools)에 연결\n",
    "chain = llm_with_tools | JsonOutputToolsParser(tools=tools)"
   ]
  },
  {
   "cell_type": "code",
   "execution_count": 39,
   "metadata": {},
   "outputs": [],
   "source": [
    "tool_call_results = chain.invoke(\"What is the length of the word 'LEEINHWAN'?\")"
   ]
  },
  {
   "cell_type": "markdown",
   "metadata": {},
   "source": [
    "`type`: 도구의 이름 \n",
    "<br>\n",
    "`args` : 도구에 전달되는 인자"
   ]
  },
  {
   "cell_type": "code",
   "execution_count": 40,
   "metadata": {},
   "outputs": [
    {
     "data": {
      "text/plain": [
       "[{'args': {'word': 'LEEINHWAN'}, 'type': 'get_word_length'}]"
      ]
     },
     "execution_count": 40,
     "metadata": {},
     "output_type": "execute_result"
    }
   ],
   "source": [
    "tool_call_results"
   ]
  },
  {
   "cell_type": "code",
   "execution_count": 41,
   "metadata": {},
   "outputs": [
    {
     "name": "stdout",
     "output_type": "stream",
     "text": [
      "[{'args': {'word': 'LEEINHWAN'}, 'type': 'get_word_length'}]\n",
      "\n",
      "==========\n",
      "\n",
      "get_word_length\n",
      "{'word': 'LEEINHWAN'}\n"
     ]
    }
   ],
   "source": [
    "print(tool_call_results, end=\"\\n\\n==========\\n\\n\")\n",
    "\n",
    "single_result = tool_call_results[0]    # 첫 번째 도구 호출 결과\n",
    "print(single_result[\"type\"])            # 도구 이름\n",
    "print(single_result[\"args\"])            # 도구 인자"
   ]
  },
  {
   "cell_type": "markdown",
   "metadata": {},
   "source": [
    "도구 이름과 일치하는 도구를 찾아 실행합니다."
   ]
  },
  {
   "cell_type": "code",
   "execution_count": 42,
   "metadata": {},
   "outputs": [
    {
     "data": {
      "text/plain": [
       "('get_word_length', 'get_word_length')"
      ]
     },
     "execution_count": 42,
     "metadata": {},
     "output_type": "execute_result"
    }
   ],
   "source": [
    "(tool_call_results[0][\"type\"], tools[0].name)"
   ]
  },
  {
   "cell_type": "markdown",
   "metadata": {},
   "source": [
    "`execute_tool_calls()` 함수는 도구를 찾아 `args` 를 전달하여 도구를 실행합니다. <br>\n",
    "- `type` : 도구의 이름\n",
    "- `args` : 도구에 전달되는 인자"
   ]
  },
  {
   "cell_type": "code",
   "execution_count": 43,
   "metadata": {},
   "outputs": [],
   "source": [
    "def execute_tool_calls(tool_call_results):\n",
    "    \"\"\"\n",
    "    도구 호출 결과를 실행하는 함수\n",
    "\n",
    "    :param tool_call_results: 도구 호출 결과 리스트\n",
    "    :param tools: 사용 가능한 도구 리스트\n",
    "    \"\"\"\n",
    "    # 도구 호출 결과 리스트를 순회합니다.\n",
    "    for tool_call_result in tool_call_results:\n",
    "        # 도구의 이름과 인자를 추출합니다.\n",
    "        tool_name = tool_call_result[\"type\"]  # 도구의 이름(함수명)\n",
    "        tool_args = tool_call_result[\"args\"]  # 도구에 전달되는 인자\n",
    "\n",
    "        print(tool_name)\n",
    "        print(tool_args)\n",
    "\n",
    "        \n",
    "        # 도구 이름과 일치하는 첫 번째 도구를 습니다.\n",
    "        matching_tool = None\n",
    "\n",
    "        for tool in tools:      \n",
    "            if tool.name == tool_name:\n",
    "                matching_tool = tool\n",
    "                break\n",
    "            \n",
    "        \n",
    "        if matching_tool:                   \n",
    "            result = matching_tool.invoke(tool_args)                        # 일치하는 도구를 찾은 경우. 해당 도구를 실행        \n",
    "            print(f\"[실행도구] {tool_name} [Argument] {tool_args}\\n[실행결과] {result}\")\n",
    "        else:                       \n",
    "            print(f\"경고: {tool_name}에 해당하는 도구를 찾을 수 없습니다.\") # 일치하는 도구를 찾지 못한 경우\n",
    "        "
   ]
  },
  {
   "cell_type": "code",
   "execution_count": 44,
   "metadata": {},
   "outputs": [
    {
     "data": {
      "text/plain": [
       "[{'args': {'word': 'LEEINHWAN'}, 'type': 'get_word_length'}]"
      ]
     },
     "execution_count": 44,
     "metadata": {},
     "output_type": "execute_result"
    }
   ],
   "source": [
    "tool_call_results"
   ]
  },
  {
   "cell_type": "code",
   "execution_count": 45,
   "metadata": {},
   "outputs": [
    {
     "name": "stdout",
     "output_type": "stream",
     "text": [
      "get_word_length\n",
      "{'word': 'LEEINHWAN'}\n",
      "[실행도구] get_word_length [Argument] {'word': 'LEEINHWAN'}\n",
      "[실행결과] 9\n"
     ]
    }
   ],
   "source": [
    "execute_tool_calls(tool_call_results)"
   ]
  }
 ],
 "metadata": {
  "kernelspec": {
   "display_name": "venv",
   "language": "python",
   "name": "python3"
  },
  "language_info": {
   "codemirror_mode": {
    "name": "ipython",
    "version": 3
   },
   "file_extension": ".py",
   "mimetype": "text/x-python",
   "name": "python",
   "nbconvert_exporter": "python",
   "pygments_lexer": "ipython3",
   "version": "3.11.9"
  }
 },
 "nbformat": 4,
 "nbformat_minor": 2
}
