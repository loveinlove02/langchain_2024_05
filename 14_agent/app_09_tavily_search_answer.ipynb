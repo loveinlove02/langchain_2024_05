{
 "cells": [
  {
   "cell_type": "code",
   "execution_count": 1,
   "metadata": {},
   "outputs": [],
   "source": [
    "from dotenv import load_dotenv\n",
    "import os\n",
    "\n",
    "load_dotenv(verbose=True)\n",
    "key = os.getenv('OPENAI_API_KEY')"
   ]
  },
  {
   "cell_type": "code",
   "execution_count": 2,
   "metadata": {},
   "outputs": [],
   "source": [
    "from langchain_community.tools.tavily_search import TavilySearchResults"
   ]
  },
  {
   "cell_type": "code",
   "execution_count": 3,
   "metadata": {},
   "outputs": [],
   "source": [
    "# 도구 생성\n",
    "tool = TavilySearchResults(\n",
    "    max_results=6,                  # 반환할 최대 검색 결과 수 (기본값: 5)\n",
    "    include_answer=True,            # 원본 쿼리에 대한 짧은 답변 포함 여부\n",
    "    include_raw_content=True,       # 각 사이트의 정제된 HTML 콘텐츠 포함 여부\n",
    "    # include_images=True,          # 쿼리 관련 이미지 목록 포함 여부\n",
    "    # search_depth=\"advanced\",      # 검색 깊이 (\"basic\" 또는 \"advanced\")\n",
    "    include_domains=[\"github.io\", \"wikidocs.net\"],  # 검색 결과에 포함할 도메인 목록\n",
    "    # exclude_domains = []\n",
    ")"
   ]
  },
  {
   "cell_type": "code",
   "execution_count": 4,
   "metadata": {},
   "outputs": [
    {
     "data": {
      "text/plain": [
       "[{'url': 'https://wikidocs.net/262582',\n",
       "  'content': \"LangChain 에서 기본 제공하는 도구를 사용하여 쉽게 도구를 활용할 수 있으며, 사용자 정의 도구(Custom Tool) 를 쉽게 구축하는 것도 가능합니다. LangChain 한국어 튜토리얼\\\\n바로가기 👀\\\\n[LangChain] 에이전트(Agent)와 도구(tools)를 활용한 지능형 검색 시스템 구축 가이드\\\\n2024년 02월 09일\\\\n41 분 소요\\\\n이 글에서는 LangChain 의 Agent 프레임워크를 활용하여 복잡한 검색과 📍 전체 템플릿 코드\\\\n다음의 추적 링크에서 자세한 단계별 수행 결과를 확인할 수 있습니다\\\\nLangSmith 추적\\\\n마무리입니다!\\\\n 문서 기반 QA 시스템 설계 방법 - 심화편\\\\n2024년 02월 06일\\\\n22 분 소요\\\\nLangChain의 RAG 시스템을 통해 문서(PDF, txt, 웹페이지 등)에 대한 질문-답변을 찾는 과정을 정리하였습니다.\\\\n'},  {'url': 'https://wikidocs.net/234282',  'content': 'Mar 19, 2024 · langchain 은 언어 모델과 관련된 다양한 기능을 제공하는 라이브러리로, 이 중 검색 도구 생성 기능은 데이터 검색 및 처리 작업을 용이하게 한다.'}] 이 도구를 사용하면 DALL-E API를 쉽게 통합하여 텍스트 기반 이미지 생성 기능을 구현할 수 있습니다.\"},\n",
       " {'url': 'https://wikidocs.net/231152',\n",
       "  'content': '필수 라이브러리 설치 - 랭체인(LangChain) 입문부터 응용까지 랭체인(LangChain) 입문부터 응용까지 Part 0. LangChain 기초 1-1. LangChain 이란? 프롬프트(Prompt) 1-3-1. LangChain 모델 유형 1-4-1-1. PDF 문서 2-2-5-1. RAG - Retriever 2-6-1. 올라마(Ollama) 모델에 랭체인(LangChain) 적용 3-2. Groq API 모델을 랭체인(LangChain) 적용 3-2-1. 랭체인(LangChain) 입문부터 응용까지 LangChain 기초 LangChain 이란? 1. 랭체인(Langchain) 예를 들면, OpenAI에서 제공하는 LLM을 사용하려면 langchain-openai 의존성 라이브러리를 설치해야 합니다. Copypip install langchain Copyconda install langchain -c conda-forge 2. OpenAI 의존성 패키지(langchain-openai ) langchain-openai 라이브러리: GPT-3.5, GPT-4 등 LLM 모델과 기타 보조 도구를 포함 Copypip install langchain-openai [저자 주] 구글 코랩에서 설치할 때는 !pip install langchain 와 같이 설치 명령어 앞에 느낌표(!)를 붙여줘야 합니다. Report a comment. Do you want to report this comment? Report a comment is available for the following situations:'},\n",
       " {'url': 'https://wikidocs.net/231608',\n",
       "  'content': '기본 LLM 체인 (Prompt + LLM) 1-2-2. RAG - Retriever 2-6-1. RAG - Retriever 기본 검색기(Base Retriever) 설정 base_retriever.get_relevant_documents(question) 함수를 사용하여 주어진 쿼리에 대한 관련 문서를 검색합니다. docs = base_retriever.get_relevant_documents(question) LLMChainExtractor.from_llm(llm)를 사용하여 문서 압축기를 설정합니다. 언어 모델(llm)을 사용하여 문서 내용을 압축합니다. compression_retriever.get_relevant_documents(question) 함수를 사용하여 주어진 쿼리에 대한 압축된 문서들을 검색합니다. 기본 검색기를 통해 얻은 문서들을 문서 압축기를 사용하여 내용을 압축하고, 쿼리와 가장 관련된 내용만을 추려냅니다. from langchain.retrievers import ContextualCompressionRetriever from langchain.retrievers.document_compressors import LLMChainExtractor compressed_docs = compression_retriever.get_relevant_documents(question) Copy[Document(page_content=\\'카카오뱅크는 IT 시스템 및 데이터를 복구하는 IT 영역 관리뿐 아니라, 고객에게 끊임없이\\\\n서비스와 상품을 제공하기 위해 비즈니스 전반에 걸친 통합적인 BCP 관리를 시행하고 있습니다.\\', metadata={\\'source\\': \\'323410_카카오뱅크_2023.pdf\\', \\'file_path\\': \\'323410_카카오뱅크_2023.pdf\\', \\'page\\': 46, \\'total_pages\\': 99, \\'format\\': \\'PDF 1.4\\', \\'title\\': \\'\\', \\'author\\': \\'\\', \\'subject\\': \\'\\', \\'keywords\\': \\'\\', \\'creator\\': \\'Adobe InDesign 18.1 (Macintosh)\\', \\'producer\\': \\'Adobe PDF Library 17.0\\', \\'creationDate\\': \"D:20230621170154+09\\'00\\'\", \\'modDate\\': \"D:20230621170234+09\\'00\\'\", \\'trapped\\': \\'\\'}), Do you want to report this comment?'},\n",
       " {'url': 'https://forum.wikidocs.net/',\n",
       "  'content': '글 댓글 조회수 활동; 홈 ; 카테고리 ; 가이드라인 ; Discourse를 사용합니다.JavaScript가 활성화된 상태에서 가장 잘 보입니다.'},\n",
       " {'url': 'https://wikidocs.net/book/14314',\n",
       "  'content': '... 개인화된 프롬프트(Hub에 업로드) CH03 출력 파서(Output Parsers) 01. Pydantic 출력 파서(PydanticOutputParser ... 01. 도구(Tools) 02. 도구 바인딩(Binding Tools) 03. 에이전트(Agent)'},\n",
       " {'url': 'https://wikidocs.net/book/5011',\n",
       "  'content': 'Matplotlib 막대 그래프 그리기 17. Matplotlib 산점도 그리기 19. Matplotlib 히스토그램 그리기 21. Matplotlib 히트맵 그리기 24. Matplotlib 두 종류의 그래프 그리기 35. Matplotlib 박스 플롯 그리기 36. Matplotlib 소개 Matplotlib 막대 그래프 그리기 Matplotlib 산점도 그리기 Matplotlib 에러바 그리기 Matplotlib 두 종류의 그래프 그리기 Matplotlib 박스 플롯 그리기 Matplotlib 기본 사용 - Dardao, Jan. 26, 2021, 11:43 p.m. Matplotlib 그래프 영역 채우기 - June 29, 2022, 1:40 a.m. Matplotlib 기본 사용 - Aug. 19, 2021, 1:55 p.m. Matplotlib 다양한 패턴 채우기 - Aug. 19, 2021, 11:19 a.m. Matplotlib 바이올린 플롯 그리기 - Aug. 19, 2021, 10:50 a.m. Matplotlib 박스 플롯 그리기 - Aug. 18, 2021, 11:27 a.m. Matplotlib 두 종류의 그래프 그리기 - Aug. 18, 2021, 11:06 a.m.'}]"
      ]
     },
     "execution_count": 4,
     "metadata": {},
     "output_type": "execute_result"
    }
   ],
   "source": [
    "tool.invoke({\"query\": \"LangChain Tools 에 대해서 알려주세요\"})"
   ]
  }
 ],
 "metadata": {
  "kernelspec": {
   "display_name": "venv",
   "language": "python",
   "name": "python3"
  },
  "language_info": {
   "codemirror_mode": {
    "name": "ipython",
    "version": 3
   },
   "file_extension": ".py",
   "mimetype": "text/x-python",
   "name": "python",
   "nbconvert_exporter": "python",
   "pygments_lexer": "ipython3",
   "version": "3.11.9"
  }
 },
 "nbformat": 4,
 "nbformat_minor": 2
}
