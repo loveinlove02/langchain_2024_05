{
 "cells": [
  {
   "cell_type": "code",
   "execution_count": 1,
   "metadata": {},
   "outputs": [],
   "source": [
    "from dotenv import load_dotenv\n",
    "import os\n",
    "\n",
    "load_dotenv(verbose=True)\n",
    "key = os.getenv('OPENAI_API_KEY')"
   ]
  },
  {
   "cell_type": "code",
   "execution_count": 2,
   "metadata": {},
   "outputs": [],
   "source": [
    "from langchain_community.tools.tavily_search import TavilySearchResults"
   ]
  },
  {
   "cell_type": "code",
   "execution_count": 3,
   "metadata": {},
   "outputs": [],
   "source": [
    "# 도구 생성\n",
    "tool = TavilySearchResults(\n",
    "    max_results=6,                  # 반환할 최대 검색 결과 수 (기본값: 5)\n",
    "    include_answer=True,            # 원본 쿼리에 대한 짧은 답변 포함 여부\n",
    "    include_raw_content=True,       # 각 사이트의 정제된 HTML 콘텐츠 포함 여부\n",
    "    # include_images=True,          # 쿼리 관련 이미지 목록 포함 여부\n",
    "    # search_depth=\"advanced\",      # 검색 깊이 (\"basic\" 또는 \"advanced\")\n",
    "    include_domains=[\"github.io\", \"wikidocs.net\"],  # 검색 결과에 포함할 도메인 목록\n",
    "    # exclude_domains = []\n",
    ")"
   ]
  },
  {
   "cell_type": "code",
   "execution_count": 4,
   "metadata": {},
   "outputs": [
    {
     "data": {
      "text/plain": [
       "[{'url': 'https://wikidocs.net/book/14314',\n",
       "  'content': ' - LangChain 한국어 튜토리얼🇰🇷 CH01 LangChain 시작하기 01. 설치 영상보고 따라하기 02. OpenAI API 키 발급 및 테스트 03. LangSmith 추적 설정 04.'},\n",
       " {'url': 'https://wikidocs.net/book/2788',\n",
       "  'content': '[DL 입문 🖋️] - 인공 신경망(Artificial Neural Network) - 유원준, March 30, 2024, 11:10 p.m. 오탈자 수정하였습니다. 15-03 허깅페이스 토크나이저(Huggingface Tokenizer) - 유원준, March 1, 2024, 5:12 p.m. https://wikidocs.net/99893 여기서는 멀쩡하니 여기서 보시면 될 것 같네요. 13-02 LSTM을 이용한 네이버 영화 리뷰 분류 - Aug. 24, 2024, 3:26 p.m. 이번에 사용할 데이터는 네이버 영화 리뷰 데이터입니다. 13-03 GRU를 이용한 IMDB 리뷰 분류하기 - Aug. 24, 2024, 3:22 p.m. 1D CNN을 이용하여 IMDB 영화 리뷰 데이터를 분류해보겠습니다. 20-05 BERT를 이용한 다중 레이블 분류 - 하나의 데이터에 다수의 레이블 - Aug. 24, 2024, 3:11 p.m. 한국어 BERT를 이용하여 다중 레이블 분류 문제를 풀어보겠습니다.'},\n",
       " {'url': 'https://wikidocs.net/book/1665',\n",
       "  'content': '이 책은 최근 인기 있는 프로그래밍 언어인 파이썬을 사용하여 국내 3대 거래소(코빗, 빗썸, 업비트) 및 국외 거래소(바이넨스)에서 비트코인을 자동매매하는 프로그램을 개발하는 방…'},\n",
       " {'url': 'https://wikidocs.net/30788',\n",
       "  'content': '예를 들어, 가변저항 구성요소를 가운데 그림과 같이 좌측 단자를 전원에 연결하고 우측 단자를 그라운드로 연결했을 때 가운데 2번 핀을 통해 최대 값 1023의 값을 읽으며 조절바를 우측으로 돌리면 최소 값 0을 읽을 수 있습니다.'},\n",
       " {'url': 'https://wikidocs.net/book/2',\n",
       "  'content': \"3.2.4 연습 문제: 놀이 공원 (1) - 전뇌해커, July 10, 2024, 1:04 p.m. 2.1.1 연습 문제: 입력받은 숫자만큼 반복하기(while) - ko, July 3, 2024, 9:22 a.m. 파이썬 출력 관련 질문드립니다. 3.1.2 연습 문제: 구구단 - 242, July 1, 2024, 6:12 p.m. def MT(): num1 = range(2, 10) num2 = range(1, 10) for a in num1: for b in num2: print(a, '*', b, '=', a * b) MT() 4.2.3 연습 문제: 회문 판별 함수 만들기 - 전뇌해커, May 25, 2024, 7:32 p.m. 4.2.3 연습 문제: 회문 판별 함수 만들기 - 손상혁, May 25, 2024, 1:55 p.m. 1.2.1 연습 문제: 파일 크기 계산 - 우린, May 21, 2024, 1:55 p.m.\"},\n",
       " {'url': 'https://wikidocs.net/33520',\n",
       "  'content': '워드 임베딩(Word Embedding) 09-01 워드 임베딩(Word Embedding) 09-02 워드투벡터(Word2Vec) 09-03 영어/한국어 Word2Vec 실습 09-04 네거티브 샘플링을 이용한 Word2Vec 구현(Skip-Gram with Negative Sampling, SGNS) 09-05) 글로브(GloVe) 09-06 패스트텍스트(FastText) 09-07 자모 단위 한국어 FastText 학습하기 09-08 사전 훈련된 워드 임베딩(Pre-trained Word Embedding) 09-09 엘모(Embeddings from Language Model, ELMo) 09-10 임베딩 벡터의 시각화(Embedding Visualization) 09-11 문서 벡터를 이용한 추천 시스템(Recommendation System using Document Embedding) 09-12 문서 임베딩 : 워드 임베딩의 평균(Average Word Embedding) 09-13 Doc2Vec으로 공시 사업보고서 유사도 계산하기 09-14 실전! NLP를 위한 합성곱 신경망(Convolution Neural Network) 11-01 합성곱 신경망(Convolution Neural Network) 11-02 자연어 처리를 위한 1D CNN(1D Convolutional Neural Networks) 11-03 1D CNN으로 IMDB 리뷰 분류하기 11-04 1D CNN으로 스팸 메일 분류하기 11-05 Multi-Kernel 1D CNN으로 네이버 영화 리뷰 분류하기 11-06 사전 훈련된 워드 임베딩을 이용한 의도 분류(Intent Classification using Pre-trained Word Embedding) 11-07 문자 임베딩(Character Embedding) 12. 단어를 밀집 벡터(dense vector)의 형태로 표현하는 방법을 워드 임베딩(word embedding)이라고 합니다.'}]"
      ]
     },
     "execution_count": 4,
     "metadata": {},
     "output_type": "execute_result"
    }
   ],
   "source": [
    "tool.invoke({\"query\": \"LangChain Tools 에 대해서 알려주세요\"})"
   ]
  }
 ],
 "metadata": {
  "kernelspec": {
   "display_name": "venv",
   "language": "python",
   "name": "python3"
  },
  "language_info": {
   "codemirror_mode": {
    "name": "ipython",
    "version": 3
   },
   "file_extension": ".py",
   "mimetype": "text/x-python",
   "name": "python",
   "nbconvert_exporter": "python",
   "pygments_lexer": "ipython3",
   "version": "3.11.9"
  }
 },
 "nbformat": 4,
 "nbformat_minor": 2
}
