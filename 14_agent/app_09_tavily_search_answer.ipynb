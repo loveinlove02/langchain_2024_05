{
 "cells": [
  {
   "cell_type": "code",
   "execution_count": 1,
   "metadata": {},
   "outputs": [],
   "source": [
    "from dotenv import load_dotenv\n",
    "import os\n",
    "\n",
    "load_dotenv(verbose=True)\n",
    "key = os.getenv('OPENAI_API_KEY')"
   ]
  },
  {
   "cell_type": "code",
   "execution_count": 2,
   "metadata": {},
   "outputs": [],
   "source": [
    "from langchain_community.tools.tavily_search import TavilySearchResults"
   ]
  },
  {
   "cell_type": "code",
   "execution_count": 3,
   "metadata": {},
   "outputs": [],
   "source": [
    "# 도구 생성\n",
    "tool = TavilySearchResults(\n",
    "    max_results=6,                  # 반환할 최대 검색 결과 수 (기본값: 5)\n",
    "    include_answer=True,            # 원본 쿼리에 대한 짧은 답변 포함 여부\n",
    "    include_raw_content=True,       # 각 사이트의 정제된 HTML 콘텐츠 포함 여부\n",
    "    # include_images=True,          # 쿼리 관련 이미지 목록 포함 여부\n",
    "    # search_depth=\"advanced\",      # 검색 깊이 (\"basic\" 또는 \"advanced\")\n",
    "    include_domains=[\"github.io\", \"wikidocs.net\"],  # 검색 결과에 포함할 도메인 목록\n",
    "    # exclude_domains = []\n",
    ")"
   ]
  },
  {
   "cell_type": "code",
   "execution_count": 7,
   "metadata": {},
   "outputs": [
    {
     "data": {
      "text/plain": [
       "[{'url': 'https://wikidocs.net/262582',\n",
       "  'content': \"LangChain 에서 기본 제공하는 도구를 사용하여 쉽게 도구를 활용할 수 있으며, 사용자 정의 도구(Custom Tool) 를 쉽게 구축하는 것도 가능합니다. LangChain 한국어 튜토리얼\\\\n바로가기 👀\\\\n[LangChain] 에이전트(Agent)와 도구(tools)를 활용한 지능형 검색 시스템 구축 가이드\\\\n2024년 02월 09일\\\\n41 분 소요\\\\n이 글에서는 LangChain 의 Agent 프레임워크를 활용하여 복잡한 검색과 📍 전체 템플릿 코드\\\\n다음의 추적 링크에서 자세한 단계별 수행 결과를 확인할 수 있습니다\\\\nLangSmith 추적\\\\n마무리입니다!\\\\n 문서 기반 QA 시스템 설계 방법 - 심화편\\\\n2024년 02월 06일\\\\n22 분 소요\\\\nLangChain의 RAG 시스템을 통해 문서(PDF, txt, 웹페이지 등)에 대한 질문-답변을 찾는 과정을 정리하였습니다.\\\\n'},  {'url': 'https://wikidocs.net/234282',  'content': 'Mar 19, 2024 · langchain 은 언어 모델과 관련된 다양한 기능을 제공하는 라이브러리로, 이 중 검색 도구 생성 기능은 데이터 검색 및 처리 작업을 용이하게 한다.'}] 이 도구를 사용하면 DALL-E API를 쉽게 통합하여 텍스트 기반 이미지 생성 기능을 구현할 수 있습니다.\"},\n",
       " {'url': 'https://forum.wikidocs.net/categories',\n",
       "  'content': '위키독스에 대한 질문을 해 주세요. 주제별로 다음 태그를 사용해 주세요.'},\n",
       " {'url': 'https://wikidocs.net/blog/@TryOncePythonProject/819/',\n",
       "  'content': '* 환경 설정과 보안: .env 파일을 통한 API 키 관리 방법 학습 from langchain_openai import ChatOpenAI def get_openai_apikey() -> Optional[str]: .env 파일에서 OpenAI API 키를 로드하는 함수 Optional[str]: API 키 문자열. api_key: Optional[str] = os.getenv(\"OPENAI_API_KEY\") return api_key print(f\"API 키를 가져오는 중 오류 발생: {str(e)}\") def get_information(text_path: str) -> Optional[str]: Optional[str]: 파일 내용 문자열. # OpenAI API 키 로드 api_key: Optional[str] = get_openai_apikey() input_variables=[\"character\", \"setting\", \"theme\", \"words\"],  words: Optional[str] = get_information(\"words.txt\")  # 파일 경로 지정 필요 정민이는 이빨을 잘 닦는 게 너무 중요하다는 걸 알았지만, 그래도 칫솔과 치약이 무섭게 느껴졌어요. 칫솔질을 끝마친 후에, 거울을 보며 반짝이는 이빨을 확인하니 정민이는 너무 기분이 좋았어요. 정민이는 이제 매일 이빨을 닦는 게 재미있다고 느꼈어요. 그리고 그 후로, 정민이는 매일매일 즐겁게 이빨을 닦았어요.'},\n",
       " {'url': 'https://wikidocs.net/book/2788',\n",
       "  'content': '[DL 입문 🖋️] - 인공 신경망(Artificial Neural Network) - 유원준, March 30, 2024, 11:10 p.m. 오탈자 수정하였습니다. 15-03 허깅페이스 토크나이저(Huggingface Tokenizer) - 유원준, March 1, 2024, 5:12 p.m. https://wikidocs.net/99893 여기서는 멀쩡하니 여기서 보시면 될 것 같네요. 13-02 LSTM을 이용한 네이버 영화 리뷰 분류 - Aug. 24, 2024, 3:26 p.m. 이번에 사용할 데이터는 네이버 영화 리뷰 데이터입니다. 13-03 GRU를 이용한 IMDB 리뷰 분류하기 - Aug. 24, 2024, 3:22 p.m. 1D CNN을 이용하여 IMDB 영화 리뷰 데이터를 분류해보겠습니다. 20-05 BERT를 이용한 다중 레이블 분류 - 하나의 데이터에 다수의 레이블 - Aug. 24, 2024, 3:11 p.m. 한국어 BERT를 이용하여 다중 레이블 분류 문제를 풀어보겠습니다.'},\n",
       " {'url': 'https://wikidocs.net/book/4639',\n",
       "  'content': '데이터 전처리, 추가, 삭제, 변환(with타이타닉호, 공공 데이터) ㄴ연습문제 ㄴ연습문제 해설 06. 판다스(Pandas) 기본 자료구조 - 박응용, Feb. 21, 2023, 1:55 p.m. 안녕하세요, 위키독스 관리자입니다. 1) Line 그래프 - 테디노트, Jan. 31, 2023, 1:54 p.m. ㄴ lmplot - Jan. 31, 2023, 1:50 p.m. ㄴ Violinplot - Jan. 31, 2023, 1:47 p.m. ㄴ Swarm Plot - Jan. 31, 2023, 1:44 p.m. ㄴ Rugplot - Jan. 31, 2023, 1:43 p.m. ㄴ Relplot - Jan. 31, 2023, 1:41 p.m. ㄴ Pairplot - Jan. 31, 2023, 1:38 p.m. ㄴ Kdeplot - Jan. 31, 2023, 1:36 p.m. ㄴ Jointplot - Jan. 31, 2023, 1:35 p.m. ㄴ Histplot - Jan. 31, 2023, 1:33 p.m. ㄴ Heatmap - Jan. 31, 2023, 1:31 p.m.'},\n",
       " {'url': 'https://wikidocs.net/book/4542',\n",
       "  'content': '4, 2024, 10:10 p.m. set FLASK_APP=pybo 를 해줘도 아래 오류가 뜬다면 Error: Could not locate a Flask application. 3-13 마크다운 기능 적용하기 - 박응용, April 15, 2024, 3:12 p.m. 3-13 마크다운 기능 적용하기 - 송재영, April 15, 2024, 3 p.m. 플라스크 3.x 버전 업데이트로 인한 오류 안내 2023년 9월부터 플라스크의 버전이 3.0.0 으로 업데이트 되었다. 3-06 회원가입 - kukuku, Jan. 3, 2024, 10:07 p.m. 안녕하세요 wikidocs 를 통해 많이 배울 수 있어서 감사한 마음을 갖고 있습니다. - 박응용, Nov. 4, 2023, 6:30 p.m. 3-10 게시물 수정 & 삭제 - 박응용, Nov. 8, 2022, 6:15 p.m. 3-13 마크다운 기능 적용하기 - Jan. 26, 2024, 12:51 p.m. 0-05 책 구입 안내 - Nov. 17, 2022, 10:05 a.m. 점프 투 플라스크가 책으로 출간되었습니다.'}]"
      ]
     },
     "execution_count": 7,
     "metadata": {},
     "output_type": "execute_result"
    }
   ],
   "source": [
    "tool.invoke({\"query\": \"LangChain Tools 에 대해서 알려주세요\"})"
   ]
  }
 ],
 "metadata": {
  "kernelspec": {
   "display_name": "venv",
   "language": "python",
   "name": "python3"
  },
  "language_info": {
   "codemirror_mode": {
    "name": "ipython",
    "version": 3
   },
   "file_extension": ".py",
   "mimetype": "text/x-python",
   "name": "python",
   "nbconvert_exporter": "python",
   "pygments_lexer": "ipython3",
   "version": "3.11.9"
  }
 },
 "nbformat": 4,
 "nbformat_minor": 2
}
