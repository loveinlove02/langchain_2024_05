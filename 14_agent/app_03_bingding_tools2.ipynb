{
 "cells": [
  {
   "cell_type": "code",
   "execution_count": 1,
   "metadata": {},
   "outputs": [],
   "source": [
    "from dotenv import load_dotenv\n",
    "import os\n",
    "\n",
    "load_dotenv(verbose=True)\n",
    "key = os.getenv('OPENAI_API_KEY')"
   ]
  },
  {
   "cell_type": "code",
   "execution_count": 2,
   "metadata": {},
   "outputs": [],
   "source": [
    "from langchain_openai import ChatOpenAI\n",
    "from langchain_core.output_parsers.openai_tools import JsonOutputToolsParser\n",
    "from langchain_teddynote.tools import GoogleNews\n",
    "from langchain.agents import tool\n",
    "from typing import List, Dict\n",
    "from bs4 import BeautifulSoup\n",
    "import requests\n",
    "import re"
   ]
  },
  {
   "cell_type": "code",
   "execution_count": 3,
   "metadata": {},
   "outputs": [],
   "source": [
    "@tool\n",
    "def get_word_length(word: str) -> int: \n",
    "    \"\"\"Returns the length of a word.\"\"\"\n",
    "    return len(word)"
   ]
  },
  {
   "cell_type": "code",
   "execution_count": 4,
   "metadata": {},
   "outputs": [],
   "source": [
    "@tool\n",
    "def add_function(a: float, b: float) -> float:\n",
    "    \"\"\"Adds two numbers together.\"\"\"\n",
    "    return a + b"
   ]
  },
  {
   "cell_type": "code",
   "execution_count": 5,
   "metadata": {},
   "outputs": [],
   "source": [
    "@tool\n",
    "def naver_news_crawl(news_url: str) -> str:\n",
    "    \"\"\"Crawls a 네이버 (naver.com) news article and returns the body content.\"\"\"\n",
    "    \n",
    "    response = requests.get(news_url)                           # HTTP GET 요청 보내기\n",
    "\n",
    "    if response.status_code == 200:                             # 요청 성공        \n",
    "        soup = BeautifulSoup(response.text, \"html.parser\")      # BeautifulSoup을 사용하여 HTML 파싱\n",
    "\n",
    "        # 원하는 정보 추출\n",
    "        title = soup.find(\"h2\", id=\"title_area\").get_text()\n",
    "        content = soup.find(\"div\", id=\"contents\").get_text()\n",
    "        cleaned_title = re.sub(r\"\\n{2,}\", \"\\n\", title)\n",
    "        cleaned_content = re.sub(r\"\\n{2,}\", \"\\n\", content)\n",
    "    else:\n",
    "        print(f\"HTTP 요청 실패. 응답 코드: {response.status_code}\")\n",
    "\n",
    "    return f\"{cleaned_title}\\n{cleaned_content}\""
   ]
  },
  {
   "cell_type": "code",
   "execution_count": 6,
   "metadata": {},
   "outputs": [],
   "source": [
    "@tool\n",
    "def search_keyword(query: str) -> List[Dict[str, str]]:\n",
    "    # 키워드로 뉴스 검색하는 도구 생성     \n",
    "    \"\"\"Look up news by keyword\"\"\"\n",
    "    print(query)\n",
    "    news_tool = GoogleNews()\n",
    "    return news_tool.search_by_keyword(query, k=5)"
   ]
  },
  {
   "cell_type": "code",
   "execution_count": 7,
   "metadata": {},
   "outputs": [],
   "source": [
    "tools = [get_word_length, add_function, naver_news_crawl, search_keyword]"
   ]
  },
  {
   "cell_type": "code",
   "execution_count": 8,
   "metadata": {},
   "outputs": [],
   "source": [
    "def execute_tool_calls(tool_call_results):\n",
    "    \"\"\"\n",
    "    도구 호출 결과를 실행하는 함수\n",
    "\n",
    "    :param tool_call_results: 도구 호출 결과 리스트\n",
    "    :param tools: 사용 가능한 도구 리스트\n",
    "    \"\"\"    \n",
    "    for tool_call_result in tool_call_results:          # 도구 호출 결과 리스트를 순회합니다.\n",
    "        # 도구의 이름과 인자를 추출합니다.\n",
    "        tool_name = tool_call_result[\"type\"]            # 도구의 이름(함수명)\n",
    "        tool_args = tool_call_result[\"args\"]            # 도구에 전달되는 인자\n",
    "        \n",
    "        # 도구 이름과 일치하는 도구를 찾아 실행합니다.\n",
    "        matching_tool = None\n",
    "\n",
    "        for tool in tools:\n",
    "            if tool.name == tool_name:\n",
    "                matching_tool = tool\n",
    "                break\n",
    "\n",
    "\n",
    "        \n",
    "        if matching_tool:            \n",
    "            result = matching_tool.invoke(tool_args)                                        # 일치하는 도구를 찾았다면 해당 도구를 실행합니다.            \n",
    "            print(f\"[실행도구] {tool_name} [Argument] {tool_args}\\n[실행결과] {result}\")    # 실행 결과를 출력합니다.\n",
    "        else:            \n",
    "            print(f\"경고: {tool_name}에 해당하는 도구를 찾을 수 없습니다.\")                 # 일치하는 도구를 찾지 못했다면 경고 메시지를 출력합니다.\n",
    "        "
   ]
  },
  {
   "cell_type": "code",
   "execution_count": 9,
   "metadata": {},
   "outputs": [],
   "source": [
    "llm = ChatOpenAI(model=\"gpt-4o-mini\", temperature=0)    # 모델 생성"
   ]
  },
  {
   "cell_type": "code",
   "execution_count": 10,
   "metadata": {},
   "outputs": [],
   "source": [
    "llm_with_tools = llm.bind_tools(tools)                  # 도구 바인딩"
   ]
  },
  {
   "cell_type": "code",
   "execution_count": 11,
   "metadata": {},
   "outputs": [],
   "source": [
    "chain = llm_with_tools | JsonOutputToolsParser(tools=tools) | execute_tool_calls"
   ]
  },
  {
   "cell_type": "code",
   "execution_count": 12,
   "metadata": {},
   "outputs": [
    {
     "name": "stdout",
     "output_type": "stream",
     "text": [
      "[실행도구] get_word_length [Argument] {'word': 'LEEINHWAN'}\n",
      "[실행결과] 9\n"
     ]
    }
   ],
   "source": [
    "chain.invoke(\"What is the length of the word LEEINHWAN?\")"
   ]
  },
  {
   "cell_type": "code",
   "execution_count": 13,
   "metadata": {},
   "outputs": [
    {
     "name": "stdout",
     "output_type": "stream",
     "text": [
      "[실행도구] naver_news_crawl [Argument] {'news_url': 'https://n.news.naver.com/mnews/hotissue/article/092/0002347672?type=series&cid=2000065'}\n",
      "[실행결과] [미장브리핑] 9월 미국 CPI 주목…3분기 S&P500 실적 발표\n",
      "\n",
      "\t\t\t▲10일(현지시간) 미국 9월 소비자물가지수(CPI) 발표 예정. 고용 지표가 양호하게 나온 가운데 물가 지표 주목. 9월 미국 비농업고용 25만4천명 증가해 시장 예상치 14만명 크게 상회. 이는 6개월 래 최대 규모로 지난 12개월 평균값 20만3천명 증가한 것보다도 높은 수치. 9월 실업률은 4.1%로 2개월 연속 하락했으며, 평균 시간당 임금은 전년 동월 대비 4% 증가해 5월 이후 최고 수준.▲시장에서 9월 헤드라인 CPI는 8월 전년 동월 대비 2.6% 로 5개월 연속 둔화하고 9월에는 2.3% 증가로 추가 하락 예상. 전월 대비도 8월 0.2% 둔화 예상. 근원 CPI는 지난 8월 3.2%와 비슷한 수준 관측.▲11일에는 미국 9월 제조업물가지수(PPI) 발표. 지난 6월 부터 8월까지 반등 추세 꺾여. 8월은 1.7% 증가.\n",
      "(사진=이미지투데이)▲11월 미국 연방준비제도(연준) 공개시장위원회(FOMC) 에서 0.50%p 인하 기대가 크케 후퇴한 가운데, 9일에는 FOMC 의사록 공개. 지난 9월 회의에서 빅컷(0.50%p) 단행한 배경과 인플레이션 전망에 대한 논의를 알 수 있을 것으로 보여.▲미국 스탠다드앤푸어스(S&P) 500 기업의 3분기 실적 발표 시작. 평균 이익증가율 추정치는 전년 동기 대비 4.6%로 5개분기 연속 플러스이나 증가폭은 둔화 예상. 11일부터 JP모건체이스, 웰스파고 등 대형은행들의 실적 발표.▲FTSE 러셀은 8일 정례 시장분류 결과를 발표. 한국은 2022년 관찰대상국 지정 이후 금번 시장접근성 등급(L1) 상향으로 세계국채지수(WGBI) 에 편입될 지 관심. 주식의 경우 지난 2009년부터 선진국 지수에 편입돼 있는 한국 증시에 대해 공매도 제한 등을 이유로 관찰 대상국으로 지정할지 관심. 지정되더라도 검토 기간이 있어 즉각 제외되지는 않음.\n",
      "손희연 기자(kunst@zdnet.co.kr)\n",
      "기자 프로필\n",
      "지디넷코리아\n",
      "지디넷코리아\n",
      "손희연 기자\n",
      "구독\n",
      "구독중\n",
      "구독자 0\n",
      "응원수\n",
      "0\n",
      "디지털이 접목되는 금융·식음료업계를 취재합니다 \n",
      "금융·외환 시장 '계엄 후폭풍'…코스닥 연중 최저치\n",
      "탄핵 불발 후폭풍…코스피·코스닥 52주 신저가 경신\n",
      "지디넷코리아의 구독 많은 기자를 구독해보세요!\n",
      "닫기\n",
      "Copyright ⓒ ZDNet Korea. All rights reserved. 무단 전재 및 재배포 금지.\n",
      " \n",
      "이 기사는 언론사에서 IT 섹션으로 분류했습니다.\n",
      "기사 섹션 분류 안내\n",
      "기사의 섹션 정보는 해당 언론사의 분류를 따르고 있습니다. 언론사는 개별 기사를 2개 이상 섹션으로 중복 분류할 수 있습니다.\n",
      "닫기\n",
      "구독\n",
      "메인에서 바로 보는 언론사 편집 뉴스 지금 바로 구독해보세요!\n",
      "구독중\n",
      "메인에서 바로 보는 언론사 편집 뉴스 지금 바로 확인해보세요!\n",
      "지디넷코리아 '홈페이지'\n",
      "QR 코드를 클릭하면 크게 볼 수 있어요.\n",
      "QR을 촬영해보세요.\n",
      "지디넷코리아 '홈페이지'\n",
      "닫기\n",
      "네이버 채널 구독하기\n",
      "지디넷코리아\n",
      "지디넷코리아\n",
      "\t\t\t주요뉴스해당 언론사에서 선정하며 언론사 페이지(아웃링크)로 이동해 볼 수 있습니다.\n",
      "KB금융, 광주 1인 여성 자영업자에 월 100만원 지원\n",
      "아파트만? 이제 빌라 주담대도 갈아타자\n",
      "카카오뱅크, 6일 새벽 금융거래 일시 중단\n",
      "우리은행 올해만 세 번째 금융사고…\"허위서류로 55억 대출\"\n",
      "이 기사를 추천합니다\n",
      "기사 추천은 24시간 내 50회까지 참여할 수 있습니다.\n",
      "닫기\n",
      "쏠쏠정보\n",
      "0\n",
      "흥미진진\n",
      "0\n",
      "공감백배\n",
      "0\n",
      "분석탁월\n",
      "0\n",
      "후속강추\n",
      "0\n",
      " \n",
      "모두에게 보여주고 싶은 기사라면?beta\n",
      "이 기사를 추천합니다 버튼을 눌러주세요.  집계 기간 동안 추천을 많이 받은 기사는 네이버 자동 기사배열 영역에 추천 요소로 활용됩니다.\n",
      "레이어 닫기\n",
      " \n",
      "지디넷코리아 언론사가 직접 선정한 이슈\n",
      "\t\t\t\n",
      "이슈\n",
      "AI 핫트렌드\n",
      "\"안경에 담긴 AI, 일상 혁신 기대\"…시어스랩, 'AI눈' 공개\n",
      "이슈\n",
      "트럼프가 다시 온다\n",
      "\"MBK는 산업자본 아닌 금융자본\"…씨앤엠 등 실패사례 재조명\n",
      "이슈\n",
      "반도체 전쟁\n",
      "애플, 브로드컴과 AI 칩 개발 협력...2026년 양산 목표\n",
      "이슈\n",
      "고려아연 경영권 분쟁\n",
      "MBK \"훼손된 고려아연 가치 3.4조원\"…임시주총 앞두고 신경전↑\n",
      "이전\n",
      "다음\n",
      "연재\n",
      "미장브리핑\n",
      "구독 명\n",
      "구독\n",
      "구독중\n",
      "구독해주셔서 감사합니다\n",
      "구독한 연재는 설정 페이지에서확인할 수 있습니다\n",
      "닫기\n",
      "더보기\n",
      "중동발 위기 고조…국제유가 급등\n",
      "9월 미국 CPI 주목…3분기 S&P500 실적 발표\n",
      "중동발 긴장 고조…한 때 원유값 급등\n",
      "지디넷코리아 언론사홈 바로가기\n",
      " \n",
      "기자 구독 후 기사보기\n",
      "구독 없이 계속 보기\n",
      "연재 구독 후 기사보기\n",
      "구독 없이 계속 보기\n",
      "\n"
     ]
    }
   ],
   "source": [
    "chain.invoke(\"뉴스 기사 내용을 크롤링해줘: https://n.news.naver.com/mnews/hotissue/article/092/0002347672?type=series&cid=2000065\")"
   ]
  }
 ],
 "metadata": {
  "kernelspec": {
   "display_name": "venv",
   "language": "python",
   "name": "python3"
  },
  "language_info": {
   "codemirror_mode": {
    "name": "ipython",
    "version": 3
   },
   "file_extension": ".py",
   "mimetype": "text/x-python",
   "name": "python",
   "nbconvert_exporter": "python",
   "pygments_lexer": "ipython3",
   "version": "3.11.9"
  }
 },
 "nbformat": 4,
 "nbformat_minor": 2
}
