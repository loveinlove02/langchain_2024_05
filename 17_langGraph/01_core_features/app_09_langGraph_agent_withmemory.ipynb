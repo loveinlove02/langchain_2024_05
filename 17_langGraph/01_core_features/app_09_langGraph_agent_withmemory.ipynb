{
 "cells": [
  {
   "cell_type": "code",
   "execution_count": 1,
   "metadata": {},
   "outputs": [],
   "source": [
    "from dotenv import load_dotenv\n",
    "import os\n",
    "\n",
    "load_dotenv(verbose=True)\n",
    "key = os.getenv('OPENAI_API_KEY')"
   ]
  },
  {
   "cell_type": "code",
   "execution_count": 2,
   "metadata": {},
   "outputs": [
    {
     "name": "stdout",
     "output_type": "stream",
     "text": [
      "LangSmith 추적을 시작합니다.\n",
      "[프로젝트명]\n",
      "langchain_study_2024\n"
     ]
    }
   ],
   "source": [
    "from langchain_teddynote import logging\n",
    "\n",
    "# 프로젝트 이름을 입력합니다.\n",
    "logging.langsmith('langchain_study_2024')"
   ]
  },
  {
   "cell_type": "markdown",
   "metadata": {},
   "source": [
    "`MemorySaver` checkpointer"
   ]
  },
  {
   "cell_type": "code",
   "execution_count": 3,
   "metadata": {},
   "outputs": [],
   "source": [
    "from langgraph.checkpoint.memory import MemorySaver\n",
    "\n",
    "# 메모리 저장소 생성\n",
    "memory = MemorySaver()"
   ]
  },
  {
   "cell_type": "code",
   "execution_count": 4,
   "metadata": {},
   "outputs": [],
   "source": [
    "from typing import Annotated\n",
    "from typing_extensions import TypedDict\n",
    "from langchain_openai import ChatOpenAI\n",
    "from langchain_teddynote.tools.tavily import TavilySearch\n",
    "from langgraph.graph import StateGraph, START, END\n",
    "from langgraph.graph.message import add_messages\n",
    "from langgraph.prebuilt import ToolNode, tools_condition"
   ]
  },
  {
   "cell_type": "code",
   "execution_count": 5,
   "metadata": {},
   "outputs": [],
   "source": [
    "########## 1. 상태 정의 ##########\n",
    "# 상태 정의\n",
    "class State(TypedDict):\n",
    "    # 메시지 목록 주석 추가\n",
    "    messages: Annotated[list, add_messages]"
   ]
  },
  {
   "cell_type": "code",
   "execution_count": 6,
   "metadata": {},
   "outputs": [],
   "source": [
    "########## 2. 도구 정의 및 바인딩 ##########\n",
    "# 도구 초기화\n",
    "tool = TavilySearch(max_results=3)\n",
    "tools = [tool]"
   ]
  },
  {
   "cell_type": "code",
   "execution_count": 7,
   "metadata": {},
   "outputs": [],
   "source": [
    "llm = ChatOpenAI(\n",
    "    api_key=key, \n",
    "    model_name='gpt-4o-mini',\n",
    "    temperature=0.1\n",
    ")"
   ]
  },
  {
   "cell_type": "code",
   "execution_count": 8,
   "metadata": {},
   "outputs": [],
   "source": [
    "# 도구와 LLM 결합\n",
    "llm_with_tools = llm.bind_tools(tools)"
   ]
  },
  {
   "cell_type": "code",
   "execution_count": 9,
   "metadata": {},
   "outputs": [],
   "source": [
    "########## 3. 노드 추가 ##########\n",
    "# 챗봇 함수 정의\n",
    "def chatbot(state: State):\n",
    "    # 메시지 호출 및 반환\n",
    "    return {\"messages\": [llm_with_tools.invoke(state[\"messages\"])]}"
   ]
  },
  {
   "cell_type": "code",
   "execution_count": 10,
   "metadata": {},
   "outputs": [],
   "source": [
    "# 상태 그래프 생성\n",
    "graph_builder = StateGraph(State)"
   ]
  },
  {
   "cell_type": "code",
   "execution_count": 11,
   "metadata": {},
   "outputs": [
    {
     "data": {
      "text/plain": [
       "<langgraph.graph.state.StateGraph at 0x18ba0ad9a50>"
      ]
     },
     "execution_count": 11,
     "metadata": {},
     "output_type": "execute_result"
    }
   ],
   "source": [
    "# 챗봇 노드 추가\n",
    "graph_builder.add_node(\"chatbot\", chatbot)"
   ]
  },
  {
   "cell_type": "code",
   "execution_count": 12,
   "metadata": {},
   "outputs": [],
   "source": [
    "# 도구 노드 생성 및 추가\n",
    "tool_node = ToolNode(tools=[tool])"
   ]
  },
  {
   "cell_type": "code",
   "execution_count": 13,
   "metadata": {},
   "outputs": [
    {
     "data": {
      "text/plain": [
       "<langgraph.graph.state.StateGraph at 0x18ba0ad9a50>"
      ]
     },
     "execution_count": 13,
     "metadata": {},
     "output_type": "execute_result"
    }
   ],
   "source": [
    "# 도구 노드 추가\n",
    "graph_builder.add_node(\"tools\", tool_node)"
   ]
  },
  {
   "cell_type": "code",
   "execution_count": 14,
   "metadata": {},
   "outputs": [
    {
     "data": {
      "text/plain": [
       "<langgraph.graph.state.StateGraph at 0x18ba0ad9a50>"
      ]
     },
     "execution_count": 14,
     "metadata": {},
     "output_type": "execute_result"
    }
   ],
   "source": [
    "# 조건부 엣지\n",
    "graph_builder.add_conditional_edges(\n",
    "    \"chatbot\",\n",
    "    tools_condition,\n",
    ")"
   ]
  },
  {
   "cell_type": "code",
   "execution_count": 16,
   "metadata": {},
   "outputs": [
    {
     "data": {
      "text/plain": [
       "<langgraph.graph.state.StateGraph at 0x18ba0ad9a50>"
      ]
     },
     "execution_count": 16,
     "metadata": {},
     "output_type": "execute_result"
    }
   ],
   "source": [
    "########## 4. 엣지 추가 ##########\n",
    "\n",
    "# tools > chatbot\n",
    "graph_builder.add_edge(\"tools\", \"chatbot\")\n",
    "\n",
    "# START > chatbot\n",
    "graph_builder.add_edge(START, \"chatbot\")\n",
    "\n",
    "# chatbot > END\n",
    "graph_builder.add_edge(\"chatbot\", END)"
   ]
  },
  {
   "cell_type": "code",
   "execution_count": 17,
   "metadata": {},
   "outputs": [],
   "source": [
    "# 그래프 빌더 컴파일\n",
    "graph = graph_builder.compile(checkpointer=memory)"
   ]
  },
  {
   "cell_type": "code",
   "execution_count": 18,
   "metadata": {},
   "outputs": [
    {
     "data": {
      "image/png": "[encoded data removed]",
      "text/plain": [
       "<IPython.core.display.Image object>"
      ]
     },
     "metadata": {},
     "output_type": "display_data"
    }
   ],
   "source": [
    "from langchain_teddynote.graphs import visualize_graph\n",
    "\n",
    "# 그래프 시각화\n",
    "visualize_graph(graph)"
   ]
  },
  {
   "cell_type": "code",
   "execution_count": 19,
   "metadata": {},
   "outputs": [],
   "source": [
    "from langchain_core.runnables import RunnableConfig\n",
    "\n",
    "config = RunnableConfig(\n",
    "    recursion_limit=10,         \n",
    "    configurable={\"thread_id\": \"1\"},  # 스레드 ID 설정\n",
    ")"
   ]
  },
  {
   "cell_type": "code",
   "execution_count": 20,
   "metadata": {},
   "outputs": [
    {
     "name": "stdout",
     "output_type": "stream",
     "text": [
      "==================================\u001b[1m Ai Message \u001b[0m==================================\n",
      "\n",
      "안녕하세요, 이인환님! 만나서 반갑습니다. 코딩을 가르치시는 일은 정말 멋진 일입니다. 학생들에게 어떤 언어를 주로 가르치시나요? 또는 특별히 가르치고 싶은 주제가 있으신가요?\n"
     ]
    }
   ],
   "source": [
    "# 첫 질문\n",
    "question = (\n",
    "    \"내 이름은 `이인환` 입니다. 학생들에게 코딩을 가르칩니다. 만나서 반가워요\"\n",
    ")\n",
    "\n",
    "for event in graph.stream({\"messages\": [(\"user\", question)]}, config=config):\n",
    "    for value in event.values():\n",
    "        value[\"messages\"][-1].pretty_print()"
   ]
  },
  {
   "cell_type": "code",
   "execution_count": 21,
   "metadata": {},
   "outputs": [
    {
     "name": "stdout",
     "output_type": "stream",
     "text": [
      "==================================\u001b[1m Ai Message \u001b[0m==================================\n",
      "\n",
      "당신의 이름은 이인환입니다.\n"
     ]
    }
   ],
   "source": [
    "# 이어지는 질문\n",
    "question = \"내 이름이 뭐라고 했지?\"\n",
    "\n",
    "for event in graph.stream({\"messages\": [(\"user\", question)]}, config=config):\n",
    "    for value in event.values():\n",
    "        value[\"messages\"][-1].pretty_print()"
   ]
  },
  {
   "cell_type": "code",
   "execution_count": 22,
   "metadata": {},
   "outputs": [
    {
     "name": "stdout",
     "output_type": "stream",
     "text": [
      "==================================\u001b[1m Ai Message \u001b[0m==================================\n",
      "Tool Calls:\n",
      "  tavily_web_search (call_iCDjy1YHjxeXcSX19hKk2Htj)\n",
      " Call ID: call_iCDjy1YHjxeXcSX19hKk2Htj\n",
      "  Args:\n",
      "    query: 소놀코딩 유튜브\n",
      "=================================\u001b[1m Tool Message \u001b[0m=================================\n",
      "Name: tavily_web_search\n",
      "\n",
      "[\"<document><title>소놀코딩 유튜브 채널로 코딩 배워보세요 : 네이버 블로그</title><url>https://m.blog.naver.com/nasu0210/222428706773</url><content>소놀코딩 유튜브 채널로 코딩 배워보세요 : 네이버 블로그 소놀코딩 유튜브 채널로 코딩 배워보세요 소놀코딩과 함께 하시는 많은 분들이 코딩 학습을 통해 문제해결력과 창의력을 키워 4차 산업혁명시대의 필수 인재로 성장할 수 있도록 돕고자 합니다. 소놀코딩 유튜브 채널에는 다양한 강의가 있습니다. 파이썬 강의입니다. 파이썬 왕기초, 기초, 중급 강의가 있습니다. C언어 강의입니다. 아두이노 강의입니다. 앱인벤터 강의입니다. 여러가지 메이커 프로젝트를 진행하면 코딩에 더욱 재미를 느낄 수 있습니다. 매주 금요일 7시에는 파이썬 왕기초 문제 풀이 강의를 업로드 하고 있습니다. 소프트웨어놀이터(코딩&메이커) : 네이버 카페코딩콘텐츠,SW,스크래치,앱인벤터2,아두이노,C언어, C#, 파이썬,IoT,사물인터넷, 클라우드, 빅데이터,웹 cafe.naver.com 소놀코딩_Sonol Coding소놀코딩은 코딩을 연구하고 공부하며 그 내용을 많은 분들과 나누고자 하는 채널입니다. 소놀코딩과 함께 하시는 많은 분들이 코딩 학습을 통해 문제해결력과 창의력을 키워 4차 산업혁명시대(인공지능, 사물인터넷, 빅데이터, 클라우드 등)의 필수 인재로 성장 할 수 있도록 돕고자 합니다. {\\\\\\\"title\\\\\\\":\\\\\\\"소놀코딩 유튜브 채널로 코딩 배워보세요\\\\\\\",\\\\\\\"source\\\\\\\":\\\\\\\"https://blog.naver.com/nasu0210/222428706773\\\\\\\",\\\\\\\"blogName\\\\\\\":\\\\\\\"소놀코딩[..\\\\\\\",\\\\\\\"domainIdOrBlogId\\\\\\\":\\\\\\\"nasu0210\\\\\\\",\\\\\\\"nicknameOrBlogId\\\\\\\":\\\\\\\"복쌤\\\\\\\",\\\\\\\"logNo\\\\\\\":222428706773,\\\\\\\"smartEditorVersion\\\\\\\":4,\\\\\\\"meDisplay\\\\\\\":true,\\\\\\\"lineDisplay\\\\\\\":true,\\\\\\\"outsideDisplay\\\\\\\":true,\\\\\\\"cafeDisplay\\\\\\\":true,\\\\\\\"blogDisplay\\\\\\\":true}</content><raw>소놀코딩 유튜브 채널로 코딩 배워보세요 : 네이버 블로그\\n \\n본문 바로가기\\n블로그\\n카테고리 이동 소놀코딩[개발자 실무교육 전문]\\n\\n검색 MY메뉴 열기\\nSW교육 소식공간\\n소놀코딩 유튜브 채널로 코딩 배워보세요\\n\\n복쌤\\n2021. 7. 12. 14:58\\n이웃추가\\n본문 기타 기능\\n\\n본문 폰트 크기 조정 본문 폰트 크기 작게 보기 본문 폰트 크기 크게 보기 가\\n\\n공감하기\\n\\n\\n공유하기\\n\\nURL복사\\n신고하기\\n\\n​\\n안녕하세요.\\n장마가 끝나고 본격적으로 찜통 더위가 시작되었습니다.\\n전국에 폭염 특보가 내려졌는데요.\\n밤 사이에도 열대야가 지속된다고 합니다.\\n건강 관리에 각별히 신경쓰시기 바랍니다.\\n​\\n\\n​\\n코딩에 대한 관심과 인기가 날이 갈수록 상승하고 있습니다.\\n그래서 전공자 뿐만 아니라 비전공자도 코딩을 배웁니다.\\n코딩 교육이 의무화 되면서 초등학생, 중학생, 고등학생도 코딩을 배우는데요.\\n오늘은 소프트웨어놀이터에서 운영하고 있는 소놀코딩 유튜브 채널을 소개시켜 드리겠습니다.\\n​\\n\\n​\\n소놀코딩은 코딩을 연구하고 공부하며 그 내용을 많은 분들과 나누고자 개설한 채널입니다.\\n소놀코딩과 함께 하시는 많은 분들이 코딩 학습을 통해 문제해결력과 창의력을 키워 4차 산업혁명시대의 필수 인재로 성장할 수 있도록 돕고자 합니다.\\n우리나라 모든 사람들이 코딩이 기본소양이 되는 그 날까지 소놀코딩은 끊임없이 연구하고 공부하고 공유할 것입니다.\\n​\\n\\n​\\n소놀코딩 유튜브 채널에는 다양한 강의가 있습니다.\\n여러가지 생생한 줌 라이브 영상이 있습니다.\\n​\\n\\n​\\n파이썬 강의입니다.\\n파이썬은 요즘 빅데이터 분석도 가능하기 때문에 인기있는 언어입니다.\\n파이썬은 텍스트 코딩을 처음으로 접하는 사람들이 가장 먼저 배우기 좋은 언어입니다.\\n파이썬 왕기초, 기초, 중급 강의가 있습니다.\\n왕기초 강의는 코딩에 입문하는 사람들에게 추천드립니다.\\n​\\n\\n​\\nC언어 강의입니다.\\nC언어는 코딩 언어 중 가장 먼저 개발된 언어입니다.\\n어렵고 까다롭지만 거의 모든 다른 언어들이 C언어에서 파생된 것이기 때문에 학습해둔다면 다른 언어를 공부할 때도 많은 도움이 될 것입니다.\\nC언어는 운영체제를 개발할 때 사용됩니다.\\n​\\n\\n​\\n자바 강의입니다.\\n자바는 C언어보다는 늦게 나왔지만 간략하고 쉬워 현재 세계에서 가장 많이 쓰이고 있는 언어입니다.\\n그리고 호환성과 생산성도 좋습니다.\\n자바는 웹, 앱 개발에 많이 사용하고 있습니다.\\n​\\n\\n​\\n아두이노 강의입니다.\\n아두이노는 다양한 부품과 센서를 연결하고 소프트웨어를 로드해 동작을 하게 합니다.\\n아두이노 보드는 저렴한 편이고 초보자들이 사용하기 쉽습니다.\\n아두이노를 활용해 로봇, IoT 제품들도 만들 수 있습니다.\\n​\\n\\n​\\n앱인벤터 강의입니다.\\n코딩을 처음 접하는 초등학생이나 중학생이 처음부터 프로그래밍 언어를 이해하는 것은 어려울 수 있습니다.\\n그래서 블록 코딩인 앱인벤터나 스크래치, 마이크로비트를 배우게 됩니다.\\n앱인벤터는 화면을 디자인하고 블럭을 끼워넣어 프로그램을 만들고 안드로이드 폰으로 확인할 수 있습니다.\\n​\\n\\n​\\n메이커 활동 강의입니다.\\n아두이노와 IoT 프로젝트 등의 메이커 과목은 회로와 코드 2가지를 다 알아야합니다.\\n여러가지 메이커 프로젝트를 진행하면 코딩에 더욱 재미를 느낄 수 있습니다.\\n​\\n\\n​\\n지금도 계속 업로드 되고 있는 강의는 두 개 있습니다.\\n매주 월요일, 수요일 7시에는 스크래치 3.0 버전 게임 만들기 강의가 업로드 됩니다.\\n스크래치는 블록 코딩이라 쉽고 게임까지 만들 수 있으니 재미는 두 배가 됩니다.\\n이 강의를 듣기 전에 스크래치 기초 강의를 먼저 듣는 것을 추천합니다.\\n​\\n\\n​\\n매주 금요일 7시에는 파이썬 왕기초 문제 풀이 강의를 업로드 하고 있습니다.\\n이 문제들은 정올 홈페이지에 있는 문제들입니다.\\n이 강의를 듣기 전에 파이썬 기초 강의를 먼저 듣는 것을 추천합니다.\\n​\\n이 외에 다른 강의들도 많이 있습니다.\\n​\\n소프트웨어놀이터(코딩&메이커) : 네이버 카페코딩콘텐츠,SW,스크래치,앱인벤터2,아두이노,C언어, C#, 파이썬,IoT,사물인터넷, 클라우드, 빅데이터,웹 cafe.naver.com\\n​\\n유튜브에 올라온 강의의 교재는 소프트웨어놀이터 카페에 전부 올라가있습니다.\\n​\\n소놀코딩_Sonol Coding소놀코딩은 코딩을 연구하고 공부하며 그 내용을 많은 분들과 나누고자 하는 채널입니다. 소놀코딩과 함께 하시는 많은 분들이 코딩 학습을 통해 문제해결력과 창의력을 키워 4차 산업혁명시대(인공지능, 사물인터넷, 빅데이터, 클라우드 등)의 필수 인재로 성장 할 수 있도록 돕고자 합니다. 그럼 우리나라 모든 사람들이 코딩이 기본소양이 될 그날까지 저희 소놀코딩도 끊임없이 연구하고 공부하고 공유하겠습니다. www.youtube.com\\n​\\n\\n#코딩\\n#코딩독학\\n#코딩유튜브\\n#파이썬\\n#C언어\\n#자바\\n#아두이노\\n#앱인벤터\\n#메이커활동\\n#스크래치\\n#소놀코딩\\n#소프트웨어놀이터\\n\\n\\n공감한 사람 보러가기\\n댓글 6 공유하기\\n{\\\"title\\\":\\\"소놀코딩 유튜브 채널로 코딩 배워보세요\\\",\\\"source\\\":\\\"https://blog.naver.com/nasu0210/222428706773\\\",\\\"blogName\\\":\\\"소놀코딩[..\\\",\\\"domainIdOrBlogId\\\":\\\"nasu0210\\\",\\\"nicknameOrBlogId\\\":\\\"복쌤\\\",\\\"logNo\\\":222428706773,\\\"smartEditorVersion\\\":4,\\\"meDisplay\\\":true,\\\"lineDisplay\\\":true,\\\"outsideDisplay\\\":true,\\\"cafeDisplay\\\":true,\\\"blogDisplay\\\":true}\\n닫기\\n카테고리\\n이 블로그 홈\\n\\n공감한 사람 보러가기\\n댓글 6 공유하기\\n복쌤(nasu0210) 님을 이웃추가하고 새글을 받아보세요\\n취소 이웃추가</raw></document>\", \"<document><title>소놀코딩_Sonol Coding | 두런 - DoLearn | 유튜브 채널소개</title><url>https://www.dolearn.ai/etc/user_introduction?type=youtuber&channel_id=UC576all-JloCWvzLrc2QZxw</url><content>소놀코딩_Sonol Coding | 두런 - DoLearn | 유튜브 채널소개 더 탄탄한 커리어 더 즐거운 키즈 로그인 로그인 창 닫기 *1* 스크래치 예제 강의.3강-무지개 펜 만들기 (SONOL.마술같은 코딩) Play 유튜브 조회수 30711회 두런 좋아요 0회 #스크래치 #국기 *2* [파이썬 기초 강의/20강 완성] 1강 다운로드 및 설치 Play 유튜브 조회수 38915회 두런 좋아요 0회 #파이썬 #설치 *3* [파이썬 기초 강의] 32강 json 다루기 Play 유튜브 조회수 6125회 두런 좋아요 0회 태그없음 10강 mysql활용 조회수 201 두런 좋아요 0 11강 mysql우편번호 넣기 조회수 245 두런 좋아요 0 6강 alter문과 기타 조회수 338 두런 좋아요 0 9강 mysql 관리하기 조회수 357 두런 좋아요 0 [자바 기초 강의] 29강 향상된 for 조회수 369 두런 좋아요 0 5강 delete문과 update문 조회수 370 두런 좋아요 0</content><raw>소놀코딩_Sonol Coding | 두런 - DoLearn | 유튜브 채널소개\\n\\n본문 바로가기\\n주 메뉴 바로가기\\n\\n\\n\\n상단 메뉴\\n주 메뉴\\n주 메뉴 여닫기\\n주 메뉴 닫기\\n\\n\\n클래스\\n\\n\\n라이프스타일\\n\\n재테크\\n집·가족\\n요리·여행\\n뷰티·헬스\\n공예·취미\\n더 색다른 라이프\\n\\n\\n\\nIT개발\\n\\n웹개발\\n모바일개발\\n프로그래밍 언어\\n데이터사이언스\\n더 새로운 개발\\n\\n\\n\\n커리어\\n\\n경영·HR\\n창업·마케팅\\n직무스킬\\n영상제작\\n디자인\\n더 탄탄한 커리어\\n\\n\\n\\n키즈\\n\\n유아교육\\n초등 주요과목\\n초등 예체능\\n더 즐거운 키즈\\n\\n\\n\\n\\n\\n동영상\\n\\n\\n커뮤니티\\n\\n공지사항\\n두런 트렌드\\n두런 랭킹\\nFAQ\\n수강후기 모아보기\\n\\n\\n\\n주 메뉴 닫기\\n검색하기 (검색 박스 여닫기)\\nSEARCH\\n통합 검색  검색\\n검색 박스 닫기\\n로그인\\n회원가입\\n로그인 창 닫기\\n\\n일반회원\\n유튜브회원\\n\\n두런을 찾아주신 여러분! ⭐대환영⭐\\n일반회원 로그인   로그인 하기\\n비밀번호 찾기 회원가입하기\\nSNS계정으로 간편 로그인/회원가입 구글 로그인창 이동 카톡 로그인창 이동\\n구글로 로그인 하기\\n비밀번호 찾기 회원가입하기\\n※ 강사계정은 로그인 후 신청이 가능합니다. Learn More\\n설정\\n관심분야 설정\\n꼭 맞는 클래스와 동영상을 추천해드릴게요!\\n관심있는 분야를 최소 3개 이상 선택하고 별점을 매겨주세요. 관심분야는 대시보드에서 언제든지 수정이 가능해요.\\n\\n\\n재테크\\n별 1점 별 2점 별 3점 별 4점 별 5점 \\n\\n\\n집·가족\\n별 1점 별 2점 별 3점 별 4점 별 5점 \\n\\n\\n요리·여행\\n별 1점 별 2점 별 3점 별 4점 별 5점 \\n\\n\\n뷰티·헬스\\n별 1점 별 2점 별 3점 별 4점 별 5점 \\n\\n\\n공예·취미\\n별 1점 별 2점 별 3점 별 4점 별 5점 \\n\\n\\n웹개발\\n별 1점 별 2점 별 3점 별 4점 별 5점 \\n\\n\\n모바일개발\\n별 1점 별 2점 별 3점 별 4점 별 5점 \\n\\n\\n프로그래밍 언어\\n별 1점 별 2점 별 3점 별 4점 별 5점 \\n\\n\\n데이터사이언스\\n별 1점 별 2점 별 3점 별 4점 별 5점 \\n\\n\\n경영·HR\\n별 1점 별 2점 별 3점 별 4점 별 5점 \\n\\n\\n창업·마케팅\\n별 1점 별 2점 별 3점 별 4점 별 5점 \\n\\n\\n직무스킬\\n별 1점 별 2점 별 3점 별 4점 별 5점 \\n\\n\\n영상제작\\n별 1점 별 2점 별 3점 별 4점 별 5점 \\n\\n\\n디자인\\n별 1점 별 2점 별 3점 별 4점 별 5점 \\n\\n\\n유아교육\\n별 1점 별 2점 별 3점 별 4점 별 5점 \\n\\n\\n초등 주요과목\\n별 1점 별 2점 별 3점 별 4점 별 5점 \\n\\n\\n초등 예체능\\n별 1점 별 2점 별 3점 별 4점 별 5점 \\n\\n\\n설정완료\\n\\n\\n소놀코딩_Sonol Coding 유튜브 채널\\n소놀코딩은 코딩을 연구하고 공부하며 그 내용을 많은 분들과 나누고자 하는 채널입니다. 소놀코딩과 함께 하시는 많은 분들이 코딩 학습을 통해 문제해결력과 창의력을 키워 4차 산업혁명시대(인공지능, 사물인터넷, 빅데이터, 클라우드 등)의 필수 인재로 성장 할 수 있도록 돕고자 합니다. 그럼 우리나라 모든 사람들이 코딩이 기본소양이 될 그날까지 저희 소놀코딩도 끊임없이 연구하고 공부하고 공유하겠습니다.\\n2024-05-17 업데이트\\n\\n유튜브에서 집계되는\\n정보입니다.\\n유튜브 구독자 2.7 만 순위 366th\\n유튜브 조회수 4.23 백만 순위 371th\\n유튜브 동영상 737\\nDoLearn\\n두런에서 집계되는\\n정보입니다.\\n두런 Pick 영상 두런 AI가 선별한 해당 채널의 영상입니다. 185\\n두런 좋아요 0 순위 255th\\n두런 연관 클래스 해당 유튜브 채널의 동영상이 포함된 클래스입니다.8\\n두런 좋아요 Top 3 영상\\n*1* 스크래치 예제 강의.3강-무지개 펜 만들기 (SONOL.마술같은 코딩) Play 유튜브 조회수 30711회 두런 좋아요 0회 #스크래치 #국기\\n*2* [파이썬 기초 강의/20강 완성] 1강 다운로드 및 설치 Play 유튜브 조회수 38915회 두런 좋아요 0회 #파이썬 #설치\\n*3* [파이썬 기초 강의] 32강 json 다루기 Play 유튜브 조회수 6125회 두런 좋아요 0회 태그없음\\n소놀코딩_Sonol Coding 인기 동영상\\n 10강 mysql활용 조회수 201 두런 좋아요 0\\n 11강 mysql우편번호 넣기 조회수 245 두런 좋아요 0\\n 6강 alter문과 기타 조회수 338 두런 좋아요 0\\n 9강 mysql 관리하기 조회수 357 두런 좋아요 0\\n [자바 기초 강의] 29강 향상된 for 조회수 369 두런 좋아요 0\\n 5강 delete문과 update문 조회수 370 두런 좋아요 0\\n더보기\\n\\n하단 정보\\n\\n두런소개\\n이용약관\\n콘텐츠공급자 이용약관\\n개인정보처리방침\\n강사 가이드\\n\\n유튜브 회원 가이드\\n\\n\\n강사계정 신청하기\\n\\n\\ndolearn sns\\n\\n두런 유튜브채널 바로가기\\n두런 인스타그램 바로가기\\n두런 페이스북 바로가기\\n두런 카카오채널 바로가기\\n\\n작성자 (연락처/저작권)\\n두런 사업자 정보\\n| 대표자 : 윤종식 | 사업자번호 : 801-87-01650 | 개인정보보호책임자 : 정대석 | 이메일 : dolearn@dolearn.ai | 주소 : 서울특별시 중구 퇴계로36길 2, 11층 1113호 (필동2가, 동국대학교 충무로관 본관)\\n©DoLearn. ALL RIGHTS RESERVED.\\n\\n홈\\n클래스\\n동영상\\n커뮤니티\\n\\n\\nTOP\\n공유하기\\n공유하기 창 닫기\\n\\nEmail\\n카카오톡\\n링크복사하기\\n</raw></document>\", \"<document><title>[유튜브 소놀코딩] 3강.선, 도형 그리기 - 개발자입니다</title><url>https://breakthedays.tistory.com/277</url><content>[유튜브 소놀코딩] 3강.선, 도형 그리기 본문 pygame.draw.line(화면, 색, 시작 위치, 끝 위치, [선 굵기]) 로 선을 그린다. # pygame.draw.line(화면, 색, 시작 위치, 끝 위치, 선 굵기) # pygame.draw.line(background, (0,0,0), (240,0), (240,360)) # pygame.draw.line(background, (0,0,0), (0,180), (480,180)) # pygame.draw.line(background, (0,0,0), (0,0), (480,360), 5) # pygame.draw.line(background, (0,0,0), (0,360), (480,0), 5) pygame.draw.line(background, (0,0,0), (i,0), (i,360)) pygame.draw.line(background, (0,0,0), (0,i), (480,i)) pygame.draw.circle(background, (255,0,0), (240,180), 50) # pygame.draw.circle(background, (255,0,0), (240,180), 50, 5) # pygame.draw.rect(화면, 색, 위치와 크기, 선 굵기) pygame.draw.rect(background, (0,255,0), (240,180,100,50)) # pygame.draw.rect(background, (0,255,0), (240,180,100,50), 5) # pygame.draw.ellipse(화면, 색, 위치와 크기, 선 굵기) # pygame.draw.ellipse(background, (0,0,255), (240,180,100,50)) pygame.draw.ellipse(background, (0,0,255), (240,180,100,50), 5) # pygame.draw.polygon(화면, 색, 점들의 위치, 선 굵기) # pygame.draw.polygon(background, (255,255,0), [[100,100],[0,200],[200,200]]) # pygame.draw.polygon(background, (255,255,0), [[100,100],[0,200],[200,200]], 5) # pygame.draw.polygon(background, (255,255,0), ((146,0),(291,106),(236,277),(56,277),(0,106))) pygame.draw.polygon(background, (255,255,0), ((146,0),(291,106),(236,277),(56,277),(0,106)), 5)</content><raw>본문 바로가기\\n개발자입니다\\n카테고리\\n검색하기\\n개발자입니다\\n끈기JK\\n관리 메뉴\\n글쓰기\\n방명록\\nRSS\\n관리\\n[유튜브 소놀코딩] 3강.선, 도형 그리기 본문\\n파이게임/파이썬 게임 만들기 강의(유튜브 소놀코딩)\\n[유튜브 소놀코딩] 3강.선, 도형 그리기\\n끈기JK 2023. 8. 30. 19:25\\npygame09.py\\n선 그리기\\npygame.draw.line(화면, 색, 시작 위치, 끝 위치, [선 굵기]) 로 선을 그린다.\\nimport pygame\\npygame.init()\\nbackground = pygame.display.set_mode((480, 360))\\npygame.display.set_caption(\\\"SONOL\\\")\\nplay = True\\nwhile play:\\n    for event in pygame.event.get():\\n        if event.type == pygame.QUIT:\\n            play = False\\n    background.fill((255, 255, 255))\\n    # 선\\n    # pygame.draw.line(화면, 색, 시작 위치, 끝 위치, 선 굵기)\\n    # pygame.draw.line(surface, color, start_pos, end_pos)\\n    # pygame.draw.line(background, (0,0,0), (240,0), (240,360))\\n    # pygame.draw.line(background, (0,0,0), (0,180), (480,180))\\n    # pygame.draw.line(background, (0,0,0), (0,0), (480,360), 5)\\n    # pygame.draw.line(background, (0,0,0), (0,360), (480,0), 5)\\n\\n    for i in range(0,480,30):\\n        pygame.draw.line(background, (0,0,0), (i,0), (i,360))\\n    for i in range(0,480,30):\\n        pygame.draw.line(background, (0,0,0), (0,i), (480,i))\\n\\npygame.display.update()\\n\\npygame.quit()\\npygame10.py\\n도형 그리기\\n모든 도형은 굵기를 입력하면 색깔을 채우지 않고 테두리만 그린다.\\n원은 중심좌표, 반지름으로 그린다.\\n사각형에서 위치와 크기는 (사각형 좌측 위치, 사각형 상단 위치, 가로 크기, 세로 크기) 로 그린다.\\n타원은 사각형 그리기와 입력이 유사하나 사각형에 내접한 타원을 그린다.\\n다각형은 각 꼭지점의 좌표를 리스트나 튜플로 입력한다.\\nimport pygame\\npygame.init()\\nbackground = pygame.display.set_mode((480, 360))\\npygame.display.set_caption(\\\"SONOL\\\")\\nx = background.get_size()[0]//2 #240\\ny = background.get_size()[1]//2 #180\\nplay = True\\nwhile play:\\n    for event in pygame.event.get():\\n        if event.type == pygame.QUIT:\\n            play = False\\n    background.fill((255, 255, 255))\\n\\n    # 원\\n    # pygame.draw.circle(화면, 색, 중심 좌표, 반지름, 선 굵기)\\n    pygame.draw.circle(background, (255,0,0), (240,180), 50)\\n    # pygame.draw.circle(background, (255,0,0), (240,180), 50, 5)\\n\\n    # 사각형\\n    # pygame.draw.rect(화면, 색, 위치와 크기, 선 굵기)\\n    pygame.draw.rect(background, (0,255,0), (240,180,100,50))\\n    # pygame.draw.rect(background, (0,255,0), (240,180,100,50), 5)\\n\\n    # 타원\\n    # pygame.draw.ellipse(화면, 색, 위치와 크기, 선 굵기)\\n    # pygame.draw.ellipse(background, (0,0,255), (240,180,100,50))\\n    pygame.draw.ellipse(background, (0,0,255), (240,180,100,50), 5)\\n\\n    # 다각형\\n    # pygame.draw.polygon(화면, 색, 점들의 위치, 선 굵기)\\n    # pygame.draw.polygon(background, (255,255,0), [[100,100],[0,200],[200,200]])\\n    # pygame.draw.polygon(background, (255,255,0), [[100,100],[0,200],[200,200]], 5)\\n    # pygame.draw.polygon(background, (255,255,0), ((146,0),(291,106),(236,277),(56,277),(0,106)))\\n    pygame.draw.polygon(background, (255,255,0), ((146,0),(291,106),(236,277),(56,277),(0,106)), 5)\\n\\n    pygame.draw.line(background, (0,0,0), (x,0), (x,y*2))\\n    pygame.draw.line(background, (0,0,0), (0,y), (x*2,y))\\n    pygame.display.update()\\n\\npygame.quit()\\n공유하기\\n게시글 관리\\n저작자표시\\n'파이게임 > 파이썬 게임 만들기 강의(유튜브 소놀코딩)' 카테고리의 다른 글\\n[유튜브 소놀코딩] 8강.캐릭터 충돌하기 / 9강.점수 만들기 / 10강.게임 종료하기  (0)   2023.08.31\\n[유튜브 소놀코딩] 6강.벽에 닿았을 때 튕기기 / 7강.캐릭터 추가하기  (0)   2023.08.31\\n[유튜브 소놀코딩] 4강.이미지 사용하기 / 5강.키보드+마우스+이미지 적용하기  (0)   2023.08.31\\n[유튜브 소놀코딩] 2강.마우스로 조종하기  (0)    2023.08.30\\n[유튜브 소놀코딩] 1강.키보드로 조종하기  (0)    2023.08.29\\n'파이게임/파이썬 게임 만들기 강의(유튜브 소놀코딩)' Related Articles\\n[유튜브 소놀코딩] 6강.벽에 닿았을 때 튕기기 / 7강.캐릭터 추가하기\\n2023.08.31\\n[유튜브 소놀코딩] 4강.이미지 사용하기 / 5강.키보드+마우스+이미지 적용하기\\n2023.08.31\\n[유튜브 소놀코딩] 2강.마우스로 조종하기\\n2023.08.30\\n[유튜브 소놀코딩] 1강.키보드로 조종하기\\n2023.08.29\\nmore\\nBlog is powered by kakao / Designed by Tistory</raw></document>\"]\n",
      "==================================\u001b[1m Ai Message \u001b[0m==================================\n",
      "\n",
      "소놀코딩 유튜브 채널에 대한 정보는 다음과 같습니다:\n",
      "\n",
      "1. **소놀코딩 유튜브 채널 소개**:\n",
      "   - 소놀코딩은 코딩을 연구하고 공부하며 그 내용을 많은 사람들과 나누고자 하는 채널입니다. 이 채널은 코딩 학습을 통해 문제 해결력과 창의력을 키우고, 4차 산업혁명 시대의 필수 인재로 성장할 수 있도록 돕고자 합니다.\n",
      "   - 다양한 강의가 제공되며, 파이썬, C언어, 자바, 아두이노, 앱인벤터 등 여러 언어와 주제를 다룹니다.\n",
      "   - 매주 금요일 7시에는 파이썬 왕기초 문제 풀이 강의가 업로드됩니다.\n",
      "   - [자세한 내용은 여기에서 확인할 수 있습니다.](https://m.blog.naver.com/nasu0210/222428706773)\n",
      "\n",
      "2. **두런 - DoLearn에서의 소놀코딩**:\n",
      "   - 소놀코딩은 유튜브에서 2.7만 구독자를 보유하고 있으며, 총 조회수는 4.23백만에 달합니다. 다양한 강의가 포함되어 있으며, 스크래치, 파이썬 기초 강의 등이 인기를 끌고 있습니다.\n",
      "   - [더 많은 정보는 여기에서 확인할 수 있습니다.](https://www.dolearn.ai/etc/user_introduction?type=youtuber&channel_id=UC576all-JloCWvzLrc2QZxw)\n",
      "\n",
      "3. **특정 강의 예시**:\n",
      "   - 예를 들어, \"선, 도형 그리기\"와 같은 강의가 있으며, 파이게임을 사용하여 다양한 도형을 그리는 방법을 배울 수 있습니다.\n",
      "   - [해당 강의에 대한 블로그 포스트는 여기에서 확인할 수 있습니다.](https://breakthedays.tistory.com/277)\n",
      "\n",
      "소놀코딩 채널은 코딩을 배우고자 하는 많은 사람들에게 유용한 자료를 제공하고 있습니다. 관심 있는 주제를 찾아보시면 좋을 것 같습니다!\n"
     ]
    }
   ],
   "source": [
    "# 이어지는 질문\n",
    "question = \"소놀코딩 유튜브에 대해서 검색해주세요\"\n",
    "\n",
    "for event in graph.stream({\"messages\": [(\"user\", question)]}, config=config):\n",
    "    for value in event.values():\n",
    "        value[\"messages\"][-1].pretty_print()"
   ]
  },
  {
   "cell_type": "code",
   "execution_count": 23,
   "metadata": {},
   "outputs": [
    {
     "name": "stdout",
     "output_type": "stream",
     "text": [
      "==================================\u001b[1m Ai Message \u001b[0m==================================\n",
      "\n",
      "당신은 \"소놀코딩 유튜브에 대해서 검색해주세요\"라고 물으셨습니다.\n"
     ]
    }
   ],
   "source": [
    "# 이어지는 질문\n",
    "question = \"방금 내가 뭐라고 물었지?\"\n",
    "\n",
    "for event in graph.stream({\"messages\": [(\"user\", question)]}, config=config):\n",
    "    for value in event.values():\n",
    "        value[\"messages\"][-1].pretty_print()"
   ]
  },
  {
   "cell_type": "code",
   "execution_count": 26,
   "metadata": {},
   "outputs": [
    {
     "data": {
      "text/plain": [
       "[HumanMessage(content='내 이름은 `이인환` 입니다. 학생들에게 코딩을 가르칩니다. 만나서 반가워요', additional_kwargs={}, response_metadata={}, id='e188f712-21fb-41fb-bf56-bb71186666b4'),\n",
       " AIMessage(content='안녕하세요, 이인환님! 만나서 반갑습니다. 코딩을 가르치시는 일은 정말 멋진 일입니다. 학생들에게 어떤 언어를 주로 가르치시나요? 또는 특별히 가르치고 싶은 주제가 있으신가요?', additional_kwargs={'refusal': None}, response_metadata={'token_usage': {'completion_tokens': 61, 'prompt_tokens': 117, 'total_tokens': 178, 'completion_tokens_details': {'accepted_prediction_tokens': 0, 'audio_tokens': 0, 'reasoning_tokens': 0, 'rejected_prediction_tokens': 0}, 'prompt_tokens_details': {'audio_tokens': 0, 'cached_tokens': 0}}, 'model_name': 'gpt-4o-mini-2024-07-18', 'system_fingerprint': 'fp_f2cd28694a', 'finish_reason': 'stop', 'logprobs': None}, id='run-cbd97a11-bf47-496d-a8f3-953c50fc9e31-0', usage_metadata={'input_tokens': 117, 'output_tokens': 61, 'total_tokens': 178, 'input_token_details': {'audio': 0, 'cache_read': 0}, 'output_token_details': {'audio': 0, 'reasoning': 0}}),\n",
       " HumanMessage(content='내 이름이 뭐라고 했지?', additional_kwargs={}, response_metadata={}, id='5d01d7af-b2a6-48b5-9749-14ba058a1791'),\n",
       " AIMessage(content='당신의 이름은 이인환입니다.', additional_kwargs={'refusal': None}, response_metadata={'token_usage': {'completion_tokens': 12, 'prompt_tokens': 192, 'total_tokens': 204, 'completion_tokens_details': {'accepted_prediction_tokens': 0, 'audio_tokens': 0, 'reasoning_tokens': 0, 'rejected_prediction_tokens': 0}, 'prompt_tokens_details': {'audio_tokens': 0, 'cached_tokens': 0}}, 'model_name': 'gpt-4o-mini-2024-07-18', 'system_fingerprint': 'fp_f2cd28694a', 'finish_reason': 'stop', 'logprobs': None}, id='run-5f4395d6-81c5-481e-84e6-215d6d1a0f29-0', usage_metadata={'input_tokens': 192, 'output_tokens': 12, 'total_tokens': 204, 'input_token_details': {'audio': 0, 'cache_read': 0}, 'output_token_details': {'audio': 0, 'reasoning': 0}}),\n",
       " HumanMessage(content='소놀코딩 유튜브에 대해서 검색해주세요', additional_kwargs={}, response_metadata={}, id='1ead41fb-b55d-4bee-b6f5-dc89830bd834'),\n",
       " AIMessage(content='', additional_kwargs={'tool_calls': [{'id': 'call_iCDjy1YHjxeXcSX19hKk2Htj', 'function': {'arguments': '{\"query\":\"소놀코딩 유튜브\"}', 'name': 'tavily_web_search'}, 'type': 'function'}], 'refusal': None}, response_metadata={'token_usage': {'completion_tokens': 24, 'prompt_tokens': 221, 'total_tokens': 245, 'completion_tokens_details': {'accepted_prediction_tokens': 0, 'audio_tokens': 0, 'reasoning_tokens': 0, 'rejected_prediction_tokens': 0}, 'prompt_tokens_details': {'audio_tokens': 0, 'cached_tokens': 0}}, 'model_name': 'gpt-4o-mini-2024-07-18', 'system_fingerprint': 'fp_f2cd28694a', 'finish_reason': 'tool_calls', 'logprobs': None}, id='run-22d3df00-befd-41d2-9fea-ef72831c3e1a-0', tool_calls=[{'name': 'tavily_web_search', 'args': {'query': '소놀코딩 유튜브'}, 'id': 'call_iCDjy1YHjxeXcSX19hKk2Htj', 'type': 'tool_call'}], usage_metadata={'input_tokens': 221, 'output_tokens': 24, 'total_tokens': 245, 'input_token_details': {'audio': 0, 'cache_read': 0}, 'output_token_details': {'audio': 0, 'reasoning': 0}}),\n",
       " ToolMessage(content='[\"<document><title>소놀코딩 유튜브 채널로 코딩 배워보세요 : 네이버 블로그</title><url>https://m.blog.naver.com/nasu0210/222428706773</url><content>소놀코딩 유튜브 채널로 코딩 배워보세요 : 네이버 블로그 소놀코딩 유튜브 채널로 코딩 배워보세요 소놀코딩과 함께 하시는 많은 분들이 코딩 학습을 통해 문제해결력과 창의력을 키워 4차 산업혁명시대의 필수 인재로 성장할 수 있도록 돕고자 합니다. 소놀코딩 유튜브 채널에는 다양한 강의가 있습니다. 파이썬 강의입니다. 파이썬 왕기초, 기초, 중급 강의가 있습니다. C언어 강의입니다. 아두이노 강의입니다. 앱인벤터 강의입니다. 여러가지 메이커 프로젝트를 진행하면 코딩에 더욱 재미를 느낄 수 있습니다. 매주 금요일 7시에는 파이썬 왕기초 문제 풀이 강의를 업로드 하고 있습니다. 소프트웨어놀이터(코딩&메이커) : 네이버 카페코딩콘텐츠,SW,스크래치,앱인벤터2,아두이노,C언어, C#, 파이썬,IoT,사물인터넷, 클라우드, 빅데이터,웹 cafe.naver.com 소놀코딩_Sonol Coding소놀코딩은 코딩을 연구하고 공부하며 그 내용을 많은 분들과 나누고자 하는 채널입니다. 소놀코딩과 함께 하시는 많은 분들이 코딩 학습을 통해 문제해결력과 창의력을 키워 4차 산업혁명시대(인공지능, 사물인터넷, 빅데이터, 클라우드 등)의 필수 인재로 성장 할 수 있도록 돕고자 합니다. {\\\\\\\\\\\\\"title\\\\\\\\\\\\\":\\\\\\\\\\\\\"소놀코딩 유튜브 채널로 코딩 배워보세요\\\\\\\\\\\\\",\\\\\\\\\\\\\"source\\\\\\\\\\\\\":\\\\\\\\\\\\\"https://blog.naver.com/nasu0210/222428706773\\\\\\\\\\\\\",\\\\\\\\\\\\\"blogName\\\\\\\\\\\\\":\\\\\\\\\\\\\"소놀코딩[..\\\\\\\\\\\\\",\\\\\\\\\\\\\"domainIdOrBlogId\\\\\\\\\\\\\":\\\\\\\\\\\\\"nasu0210\\\\\\\\\\\\\",\\\\\\\\\\\\\"nicknameOrBlogId\\\\\\\\\\\\\":\\\\\\\\\\\\\"복쌤\\\\\\\\\\\\\",\\\\\\\\\\\\\"logNo\\\\\\\\\\\\\":222428706773,\\\\\\\\\\\\\"smartEditorVersion\\\\\\\\\\\\\":4,\\\\\\\\\\\\\"meDisplay\\\\\\\\\\\\\":true,\\\\\\\\\\\\\"lineDisplay\\\\\\\\\\\\\":true,\\\\\\\\\\\\\"outsideDisplay\\\\\\\\\\\\\":true,\\\\\\\\\\\\\"cafeDisplay\\\\\\\\\\\\\":true,\\\\\\\\\\\\\"blogDisplay\\\\\\\\\\\\\":true}</content><raw>소놀코딩 유튜브 채널로 코딩 배워보세요 : 네이버 블로그\\\\n \\\\n본문 바로가기\\\\n블로그\\\\n카테고리 이동 소놀코딩[개발자 실무교육 전문]\\\\n\\\\n검색 MY메뉴 열기\\\\nSW교육 소식공간\\\\n소놀코딩 유튜브 채널로 코딩 배워보세요\\\\n\\\\n복쌤\\\\n2021. 7. 12. 14:58\\\\n이웃추가\\\\n본문 기타 기능\\\\n\\\\n본문 폰트 크기 조정 본문 폰트 크기 작게 보기 본문 폰트 크기 크게 보기 가\\\\n\\\\n공감하기\\\\n\\\\n\\\\n공유하기\\\\n\\\\nURL복사\\\\n신고하기\\\\n\\\\n\\u200b\\\\n안녕하세요.\\\\n장마가 끝나고 본격적으로 찜통 더위가 시작되었습니다.\\\\n전국에 폭염 특보가 내려졌는데요.\\\\n밤 사이에도 열대야가 지속된다고 합니다.\\\\n건강 관리에 각별히 신경쓰시기 바랍니다.\\\\n\\u200b\\\\n\\\\n\\u200b\\\\n코딩에 대한 관심과 인기가 날이 갈수록 상승하고 있습니다.\\\\n그래서 전공자 뿐만 아니라 비전공자도 코딩을 배웁니다.\\\\n코딩 교육이 의무화 되면서 초등학생, 중학생, 고등학생도 코딩을 배우는데요.\\\\n오늘은 소프트웨어놀이터에서 운영하고 있는 소놀코딩 유튜브 채널을 소개시켜 드리겠습니다.\\\\n\\u200b\\\\n\\\\n\\u200b\\\\n소놀코딩은 코딩을 연구하고 공부하며 그 내용을 많은 분들과 나누고자 개설한 채널입니다.\\\\n소놀코딩과 함께 하시는 많은 분들이 코딩 학습을 통해 문제해결력과 창의력을 키워 4차 산업혁명시대의 필수 인재로 성장할 수 있도록 돕고자 합니다.\\\\n우리나라 모든 사람들이 코딩이 기본소양이 되는 그 날까지 소놀코딩은 끊임없이 연구하고 공부하고 공유할 것입니다.\\\\n\\u200b\\\\n\\\\n\\u200b\\\\n소놀코딩 유튜브 채널에는 다양한 강의가 있습니다.\\\\n여러가지 생생한 줌 라이브 영상이 있습니다.\\\\n\\u200b\\\\n\\\\n\\u200b\\\\n파이썬 강의입니다.\\\\n파이썬은 요즘 빅데이터 분석도 가능하기 때문에 인기있는 언어입니다.\\\\n파이썬은 텍스트 코딩을 처음으로 접하는 사람들이 가장 먼저 배우기 좋은 언어입니다.\\\\n파이썬 왕기초, 기초, 중급 강의가 있습니다.\\\\n왕기초 강의는 코딩에 입문하는 사람들에게 추천드립니다.\\\\n\\u200b\\\\n\\\\n\\u200b\\\\nC언어 강의입니다.\\\\nC언어는 코딩 언어 중 가장 먼저 개발된 언어입니다.\\\\n어렵고 까다롭지만 거의 모든 다른 언어들이 C언어에서 파생된 것이기 때문에 학습해둔다면 다른 언어를 공부할 때도 많은 도움이 될 것입니다.\\\\nC언어는 운영체제를 개발할 때 사용됩니다.\\\\n\\u200b\\\\n\\\\n\\u200b\\\\n자바 강의입니다.\\\\n자바는 C언어보다는 늦게 나왔지만 간략하고 쉬워 현재 세계에서 가장 많이 쓰이고 있는 언어입니다.\\\\n그리고 호환성과 생산성도 좋습니다.\\\\n자바는 웹, 앱 개발에 많이 사용하고 있습니다.\\\\n\\u200b\\\\n\\\\n\\u200b\\\\n아두이노 강의입니다.\\\\n아두이노는 다양한 부품과 센서를 연결하고 소프트웨어를 로드해 동작을 하게 합니다.\\\\n아두이노 보드는 저렴한 편이고 초보자들이 사용하기 쉽습니다.\\\\n아두이노를 활용해 로봇, IoT 제품들도 만들 수 있습니다.\\\\n\\u200b\\\\n\\\\n\\u200b\\\\n앱인벤터 강의입니다.\\\\n코딩을 처음 접하는 초등학생이나 중학생이 처음부터 프로그래밍 언어를 이해하는 것은 어려울 수 있습니다.\\\\n그래서 블록 코딩인 앱인벤터나 스크래치, 마이크로비트를 배우게 됩니다.\\\\n앱인벤터는 화면을 디자인하고 블럭을 끼워넣어 프로그램을 만들고 안드로이드 폰으로 확인할 수 있습니다.\\\\n\\u200b\\\\n\\\\n\\u200b\\\\n메이커 활동 강의입니다.\\\\n아두이노와 IoT 프로젝트 등의 메이커 과목은 회로와 코드 2가지를 다 알아야합니다.\\\\n여러가지 메이커 프로젝트를 진행하면 코딩에 더욱 재미를 느낄 수 있습니다.\\\\n\\u200b\\\\n\\\\n\\u200b\\\\n지금도 계속 업로드 되고 있는 강의는 두 개 있습니다.\\\\n매주 월요일, 수요일 7시에는 스크래치 3.0 버전 게임 만들기 강의가 업로드 됩니다.\\\\n스크래치는 블록 코딩이라 쉽고 게임까지 만들 수 있으니 재미는 두 배가 됩니다.\\\\n이 강의를 듣기 전에 스크래치 기초 강의를 먼저 듣는 것을 추천합니다.\\\\n\\u200b\\\\n\\\\n\\u200b\\\\n매주 금요일 7시에는 파이썬 왕기초 문제 풀이 강의를 업로드 하고 있습니다.\\\\n이 문제들은 정올 홈페이지에 있는 문제들입니다.\\\\n이 강의를 듣기 전에 파이썬 기초 강의를 먼저 듣는 것을 추천합니다.\\\\n\\u200b\\\\n이 외에 다른 강의들도 많이 있습니다.\\\\n\\u200b\\\\n소프트웨어놀이터(코딩&메이커) : 네이버 카페코딩콘텐츠,SW,스크래치,앱인벤터2,아두이노,C언어, C#, 파이썬,IoT,사물인터넷, 클라우드, 빅데이터,웹 cafe.naver.com\\\\n\\u200b\\\\n유튜브에 올라온 강의의 교재는 소프트웨어놀이터 카페에 전부 올라가있습니다.\\\\n\\u200b\\\\n소놀코딩_Sonol Coding소놀코딩은 코딩을 연구하고 공부하며 그 내용을 많은 분들과 나누고자 하는 채널입니다. 소놀코딩과 함께 하시는 많은 분들이 코딩 학습을 통해 문제해결력과 창의력을 키워 4차 산업혁명시대(인공지능, 사물인터넷, 빅데이터, 클라우드 등)의 필수 인재로 성장 할 수 있도록 돕고자 합니다. 그럼 우리나라 모든 사람들이 코딩이 기본소양이 될 그날까지 저희 소놀코딩도 끊임없이 연구하고 공부하고 공유하겠습니다. www.youtube.com\\\\n\\u200b\\\\n\\\\n#코딩\\\\n#코딩독학\\\\n#코딩유튜브\\\\n#파이썬\\\\n#C언어\\\\n#자바\\\\n#아두이노\\\\n#앱인벤터\\\\n#메이커활동\\\\n#스크래치\\\\n#소놀코딩\\\\n#소프트웨어놀이터\\\\n\\\\n\\\\n공감한 사람 보러가기\\\\n댓글 6 공유하기\\\\n{\\\\\"title\\\\\":\\\\\"소놀코딩 유튜브 채널로 코딩 배워보세요\\\\\",\\\\\"source\\\\\":\\\\\"https://blog.naver.com/nasu0210/222428706773\\\\\",\\\\\"blogName\\\\\":\\\\\"소놀코딩[..\\\\\",\\\\\"domainIdOrBlogId\\\\\":\\\\\"nasu0210\\\\\",\\\\\"nicknameOrBlogId\\\\\":\\\\\"복쌤\\\\\",\\\\\"logNo\\\\\":222428706773,\\\\\"smartEditorVersion\\\\\":4,\\\\\"meDisplay\\\\\":true,\\\\\"lineDisplay\\\\\":true,\\\\\"outsideDisplay\\\\\":true,\\\\\"cafeDisplay\\\\\":true,\\\\\"blogDisplay\\\\\":true}\\\\n닫기\\\\n카테고리\\\\n이 블로그 홈\\\\n\\\\n공감한 사람 보러가기\\\\n댓글 6 공유하기\\\\n복쌤(nasu0210) 님을 이웃추가하고 새글을 받아보세요\\\\n취소 이웃추가</raw></document>\", \"<document><title>소놀코딩_Sonol Coding | 두런 - DoLearn | 유튜브 채널소개</title><url>https://www.dolearn.ai/etc/user_introduction?type=youtuber&channel_id=UC576all-JloCWvzLrc2QZxw</url><content>소놀코딩_Sonol Coding | 두런 - DoLearn | 유튜브 채널소개 더 탄탄한 커리어 더 즐거운 키즈 로그인 로그인 창 닫기 *1* 스크래치 예제 강의.3강-무지개 펜 만들기 (SONOL.마술같은 코딩) Play 유튜브 조회수 30711회 두런 좋아요 0회 #스크래치 #국기 *2* [파이썬 기초 강의/20강 완성] 1강 다운로드 및 설치 Play 유튜브 조회수 38915회 두런 좋아요 0회 #파이썬 #설치 *3* [파이썬 기초 강의] 32강 json 다루기 Play 유튜브 조회수 6125회 두런 좋아요 0회 태그없음 10강 mysql활용 조회수 201 두런 좋아요 0 11강 mysql우편번호 넣기 조회수 245 두런 좋아요 0 6강 alter문과 기타 조회수 338 두런 좋아요 0 9강 mysql 관리하기 조회수 357 두런 좋아요 0 [자바 기초 강의] 29강 향상된 for 조회수 369 두런 좋아요 0 5강 delete문과 update문 조회수 370 두런 좋아요 0</content><raw>소놀코딩_Sonol Coding | 두런 - DoLearn | 유튜브 채널소개\\\\n\\\\n본문 바로가기\\\\n주 메뉴 바로가기\\\\n\\\\n\\\\n\\\\n상단 메뉴\\\\n주 메뉴\\\\n주 메뉴 여닫기\\\\n주 메뉴 닫기\\\\n\\\\n\\\\n클래스\\\\n\\\\n\\\\n라이프스타일\\\\n\\\\n재테크\\\\n집·가족\\\\n요리·여행\\\\n뷰티·헬스\\\\n공예·취미\\\\n더 색다른 라이프\\\\n\\\\n\\\\n\\\\nIT개발\\\\n\\\\n웹개발\\\\n모바일개발\\\\n프로그래밍 언어\\\\n데이터사이언스\\\\n더 새로운 개발\\\\n\\\\n\\\\n\\\\n커리어\\\\n\\\\n경영·HR\\\\n창업·마케팅\\\\n직무스킬\\\\n영상제작\\\\n디자인\\\\n더 탄탄한 커리어\\\\n\\\\n\\\\n\\\\n키즈\\\\n\\\\n유아교육\\\\n초등 주요과목\\\\n초등 예체능\\\\n더 즐거운 키즈\\\\n\\\\n\\\\n\\\\n\\\\n\\\\n동영상\\\\n\\\\n\\\\n커뮤니티\\\\n\\\\n공지사항\\\\n두런 트렌드\\\\n두런 랭킹\\\\nFAQ\\\\n수강후기 모아보기\\\\n\\\\n\\\\n\\\\n주 메뉴 닫기\\\\n검색하기 (검색 박스 여닫기)\\\\nSEARCH\\\\n통합 검색  검색\\\\n검색 박스 닫기\\\\n로그인\\\\n회원가입\\\\n로그인 창 닫기\\\\n\\\\n일반회원\\\\n유튜브회원\\\\n\\\\n두런을 찾아주신 여러분! ⭐대환영⭐\\\\n일반회원 로그인   로그인 하기\\\\n비밀번호 찾기 회원가입하기\\\\nSNS계정으로 간편 로그인/회원가입 구글 로그인창 이동 카톡 로그인창 이동\\\\n구글로 로그인 하기\\\\n비밀번호 찾기 회원가입하기\\\\n※ 강사계정은 로그인 후 신청이 가능합니다. Learn More\\\\n설정\\\\n관심분야 설정\\\\n꼭 맞는 클래스와 동영상을 추천해드릴게요!\\\\n관심있는 분야를 최소 3개 이상 선택하고 별점을 매겨주세요. 관심분야는 대시보드에서 언제든지 수정이 가능해요.\\\\n\\\\n\\\\n재테크\\\\n별 1점 별 2점 별 3점 별 4점 별 5점 \\\\n\\\\n\\\\n집·가족\\\\n별 1점 별 2점 별 3점 별 4점 별 5점 \\\\n\\\\n\\\\n요리·여행\\\\n별 1점 별 2점 별 3점 별 4점 별 5점 \\\\n\\\\n\\\\n뷰티·헬스\\\\n별 1점 별 2점 별 3점 별 4점 별 5점 \\\\n\\\\n\\\\n공예·취미\\\\n별 1점 별 2점 별 3점 별 4점 별 5점 \\\\n\\\\n\\\\n웹개발\\\\n별 1점 별 2점 별 3점 별 4점 별 5점 \\\\n\\\\n\\\\n모바일개발\\\\n별 1점 별 2점 별 3점 별 4점 별 5점 \\\\n\\\\n\\\\n프로그래밍 언어\\\\n별 1점 별 2점 별 3점 별 4점 별 5점 \\\\n\\\\n\\\\n데이터사이언스\\\\n별 1점 별 2점 별 3점 별 4점 별 5점 \\\\n\\\\n\\\\n경영·HR\\\\n별 1점 별 2점 별 3점 별 4점 별 5점 \\\\n\\\\n\\\\n창업·마케팅\\\\n별 1점 별 2점 별 3점 별 4점 별 5점 \\\\n\\\\n\\\\n직무스킬\\\\n별 1점 별 2점 별 3점 별 4점 별 5점 \\\\n\\\\n\\\\n영상제작\\\\n별 1점 별 2점 별 3점 별 4점 별 5점 \\\\n\\\\n\\\\n디자인\\\\n별 1점 별 2점 별 3점 별 4점 별 5점 \\\\n\\\\n\\\\n유아교육\\\\n별 1점 별 2점 별 3점 별 4점 별 5점 \\\\n\\\\n\\\\n초등 주요과목\\\\n별 1점 별 2점 별 3점 별 4점 별 5점 \\\\n\\\\n\\\\n초등 예체능\\\\n별 1점 별 2점 별 3점 별 4점 별 5점 \\\\n\\\\n\\\\n설정완료\\\\n\\\\n\\\\n소놀코딩_Sonol Coding 유튜브 채널\\\\n소놀코딩은 코딩을 연구하고 공부하며 그 내용을 많은 분들과 나누고자 하는 채널입니다. 소놀코딩과 함께 하시는 많은 분들이 코딩 학습을 통해 문제해결력과 창의력을 키워 4차 산업혁명시대(인공지능, 사물인터넷, 빅데이터, 클라우드 등)의 필수 인재로 성장 할 수 있도록 돕고자 합니다. 그럼 우리나라 모든 사람들이 코딩이 기본소양이 될 그날까지 저희 소놀코딩도 끊임없이 연구하고 공부하고 공유하겠습니다.\\\\n2024-05-17 업데이트\\\\n\\\\n유튜브에서 집계되는\\\\n정보입니다.\\\\n유튜브 구독자 2.7 만 순위 366th\\\\n유튜브 조회수 4.23 백만 순위 371th\\\\n유튜브 동영상 737\\\\nDoLearn\\\\n두런에서 집계되는\\\\n정보입니다.\\\\n두런 Pick 영상 두런 AI가 선별한 해당 채널의 영상입니다. 185\\\\n두런 좋아요 0 순위 255th\\\\n두런 연관 클래스 해당 유튜브 채널의 동영상이 포함된 클래스입니다.8\\\\n두런 좋아요 Top 3 영상\\\\n*1* 스크래치 예제 강의.3강-무지개 펜 만들기 (SONOL.마술같은 코딩) Play 유튜브 조회수 30711회 두런 좋아요 0회 #스크래치 #국기\\\\n*2* [파이썬 기초 강의/20강 완성] 1강 다운로드 및 설치 Play 유튜브 조회수 38915회 두런 좋아요 0회 #파이썬 #설치\\\\n*3* [파이썬 기초 강의] 32강 json 다루기 Play 유튜브 조회수 6125회 두런 좋아요 0회 태그없음\\\\n소놀코딩_Sonol Coding 인기 동영상\\\\n 10강 mysql활용 조회수 201 두런 좋아요 0\\\\n 11강 mysql우편번호 넣기 조회수 245 두런 좋아요 0\\\\n 6강 alter문과 기타 조회수 338 두런 좋아요 0\\\\n 9강 mysql 관리하기 조회수 357 두런 좋아요 0\\\\n [자바 기초 강의] 29강 향상된 for 조회수 369 두런 좋아요 0\\\\n 5강 delete문과 update문 조회수 370 두런 좋아요 0\\\\n더보기\\\\n\\\\n하단 정보\\\\n\\\\n두런소개\\\\n이용약관\\\\n콘텐츠공급자 이용약관\\\\n개인정보처리방침\\\\n강사 가이드\\\\n\\\\n유튜브 회원 가이드\\\\n\\\\n\\\\n강사계정 신청하기\\\\n\\\\n\\\\ndolearn sns\\\\n\\\\n두런 유튜브채널 바로가기\\\\n두런 인스타그램 바로가기\\\\n두런 페이스북 바로가기\\\\n두런 카카오채널 바로가기\\\\n\\\\n작성자 (연락처/저작권)\\\\n두런 사업자 정보\\\\n| 대표자 : 윤종식 | 사업자번호 : 801-87-01650 | 개인정보보호책임자 : 정대석 | 이메일 : dolearn@dolearn.ai | 주소 : 서울특별시 중구 퇴계로36길 2, 11층 1113호 (필동2가, 동국대학교 충무로관 본관)\\\\n©DoLearn. ALL RIGHTS RESERVED.\\\\n\\\\n홈\\\\n클래스\\\\n동영상\\\\n커뮤니티\\\\n\\\\n\\\\nTOP\\\\n공유하기\\\\n공유하기 창 닫기\\\\n\\\\nEmail\\\\n카카오톡\\\\n링크복사하기\\\\n</raw></document>\", \"<document><title>[유튜브 소놀코딩] 3강.선, 도형 그리기 - 개발자입니다</title><url>https://breakthedays.tistory.com/277</url><content>[유튜브 소놀코딩] 3강.선, 도형 그리기 본문 pygame.draw.line(화면, 색, 시작 위치, 끝 위치, [선 굵기]) 로 선을 그린다. # pygame.draw.line(화면, 색, 시작 위치, 끝 위치, 선 굵기) # pygame.draw.line(background, (0,0,0), (240,0), (240,360)) # pygame.draw.line(background, (0,0,0), (0,180), (480,180)) # pygame.draw.line(background, (0,0,0), (0,0), (480,360), 5) # pygame.draw.line(background, (0,0,0), (0,360), (480,0), 5) pygame.draw.line(background, (0,0,0), (i,0), (i,360)) pygame.draw.line(background, (0,0,0), (0,i), (480,i)) pygame.draw.circle(background, (255,0,0), (240,180), 50) # pygame.draw.circle(background, (255,0,0), (240,180), 50, 5) # pygame.draw.rect(화면, 색, 위치와 크기, 선 굵기) pygame.draw.rect(background, (0,255,0), (240,180,100,50)) # pygame.draw.rect(background, (0,255,0), (240,180,100,50), 5) # pygame.draw.ellipse(화면, 색, 위치와 크기, 선 굵기) # pygame.draw.ellipse(background, (0,0,255), (240,180,100,50)) pygame.draw.ellipse(background, (0,0,255), (240,180,100,50), 5) # pygame.draw.polygon(화면, 색, 점들의 위치, 선 굵기) # pygame.draw.polygon(background, (255,255,0), [[100,100],[0,200],[200,200]]) # pygame.draw.polygon(background, (255,255,0), [[100,100],[0,200],[200,200]], 5) # pygame.draw.polygon(background, (255,255,0), ((146,0),(291,106),(236,277),(56,277),(0,106))) pygame.draw.polygon(background, (255,255,0), ((146,0),(291,106),(236,277),(56,277),(0,106)), 5)</content><raw>본문 바로가기\\\\n개발자입니다\\\\n카테고리\\\\n검색하기\\\\n개발자입니다\\\\n끈기JK\\\\n관리 메뉴\\\\n글쓰기\\\\n방명록\\\\nRSS\\\\n관리\\\\n[유튜브 소놀코딩] 3강.선, 도형 그리기 본문\\\\n파이게임/파이썬 게임 만들기 강의(유튜브 소놀코딩)\\\\n[유튜브 소놀코딩] 3강.선, 도형 그리기\\\\n끈기JK 2023. 8. 30. 19:25\\\\npygame09.py\\\\n선 그리기\\\\npygame.draw.line(화면, 색, 시작 위치, 끝 위치, [선 굵기]) 로 선을 그린다.\\\\nimport pygame\\\\npygame.init()\\\\nbackground = pygame.display.set_mode((480, 360))\\\\npygame.display.set_caption(\\\\\"SONOL\\\\\")\\\\nplay = True\\\\nwhile play:\\\\n    for event in pygame.event.get():\\\\n        if event.type == pygame.QUIT:\\\\n            play = False\\\\n    background.fill((255, 255, 255))\\\\n    # 선\\\\n    # pygame.draw.line(화면, 색, 시작 위치, 끝 위치, 선 굵기)\\\\n    # pygame.draw.line(surface, color, start_pos, end_pos)\\\\n    # pygame.draw.line(background, (0,0,0), (240,0), (240,360))\\\\n    # pygame.draw.line(background, (0,0,0), (0,180), (480,180))\\\\n    # pygame.draw.line(background, (0,0,0), (0,0), (480,360), 5)\\\\n    # pygame.draw.line(background, (0,0,0), (0,360), (480,0), 5)\\\\n\\\\n    for i in range(0,480,30):\\\\n        pygame.draw.line(background, (0,0,0), (i,0), (i,360))\\\\n    for i in range(0,480,30):\\\\n        pygame.draw.line(background, (0,0,0), (0,i), (480,i))\\\\n\\\\npygame.display.update()\\\\n\\\\npygame.quit()\\\\npygame10.py\\\\n도형 그리기\\\\n모든 도형은 굵기를 입력하면 색깔을 채우지 않고 테두리만 그린다.\\\\n원은 중심좌표, 반지름으로 그린다.\\\\n사각형에서 위치와 크기는 (사각형 좌측 위치, 사각형 상단 위치, 가로 크기, 세로 크기) 로 그린다.\\\\n타원은 사각형 그리기와 입력이 유사하나 사각형에 내접한 타원을 그린다.\\\\n다각형은 각 꼭지점의 좌표를 리스트나 튜플로 입력한다.\\\\nimport pygame\\\\npygame.init()\\\\nbackground = pygame.display.set_mode((480, 360))\\\\npygame.display.set_caption(\\\\\"SONOL\\\\\")\\\\nx = background.get_size()[0]//2 #240\\\\ny = background.get_size()[1]//2 #180\\\\nplay = True\\\\nwhile play:\\\\n    for event in pygame.event.get():\\\\n        if event.type == pygame.QUIT:\\\\n            play = False\\\\n    background.fill((255, 255, 255))\\\\n\\\\n    # 원\\\\n    # pygame.draw.circle(화면, 색, 중심 좌표, 반지름, 선 굵기)\\\\n    pygame.draw.circle(background, (255,0,0), (240,180), 50)\\\\n    # pygame.draw.circle(background, (255,0,0), (240,180), 50, 5)\\\\n\\\\n    # 사각형\\\\n    # pygame.draw.rect(화면, 색, 위치와 크기, 선 굵기)\\\\n    pygame.draw.rect(background, (0,255,0), (240,180,100,50))\\\\n    # pygame.draw.rect(background, (0,255,0), (240,180,100,50), 5)\\\\n\\\\n    # 타원\\\\n    # pygame.draw.ellipse(화면, 색, 위치와 크기, 선 굵기)\\\\n    # pygame.draw.ellipse(background, (0,0,255), (240,180,100,50))\\\\n    pygame.draw.ellipse(background, (0,0,255), (240,180,100,50), 5)\\\\n\\\\n    # 다각형\\\\n    # pygame.draw.polygon(화면, 색, 점들의 위치, 선 굵기)\\\\n    # pygame.draw.polygon(background, (255,255,0), [[100,100],[0,200],[200,200]])\\\\n    # pygame.draw.polygon(background, (255,255,0), [[100,100],[0,200],[200,200]], 5)\\\\n    # pygame.draw.polygon(background, (255,255,0), ((146,0),(291,106),(236,277),(56,277),(0,106)))\\\\n    pygame.draw.polygon(background, (255,255,0), ((146,0),(291,106),(236,277),(56,277),(0,106)), 5)\\\\n\\\\n    pygame.draw.line(background, (0,0,0), (x,0), (x,y*2))\\\\n    pygame.draw.line(background, (0,0,0), (0,y), (x*2,y))\\\\n    pygame.display.update()\\\\n\\\\npygame.quit()\\\\n공유하기\\\\n게시글 관리\\\\n저작자표시\\\\n\\'파이게임 > 파이썬 게임 만들기 강의(유튜브 소놀코딩)\\' 카테고리의 다른 글\\\\n[유튜브 소놀코딩] 8강.캐릭터 충돌하기 / 9강.점수 만들기 / 10강.게임 종료하기\\xa0\\xa0(0)   2023.08.31\\\\n[유튜브 소놀코딩] 6강.벽에 닿았을 때 튕기기 / 7강.캐릭터 추가하기\\xa0\\xa0(0)   2023.08.31\\\\n[유튜브 소놀코딩] 4강.이미지 사용하기 / 5강.키보드+마우스+이미지 적용하기\\xa0\\xa0(0)   2023.08.31\\\\n[유튜브 소놀코딩] 2강.마우스로 조종하기\\xa0\\xa0(0)    2023.08.30\\\\n[유튜브 소놀코딩] 1강.키보드로 조종하기\\xa0\\xa0(0)    2023.08.29\\\\n\\'파이게임/파이썬 게임 만들기 강의(유튜브 소놀코딩)\\' Related Articles\\\\n[유튜브 소놀코딩] 6강.벽에 닿았을 때 튕기기 / 7강.캐릭터 추가하기\\\\n2023.08.31\\\\n[유튜브 소놀코딩] 4강.이미지 사용하기 / 5강.키보드+마우스+이미지 적용하기\\\\n2023.08.31\\\\n[유튜브 소놀코딩] 2강.마우스로 조종하기\\\\n2023.08.30\\\\n[유튜브 소놀코딩] 1강.키보드로 조종하기\\\\n2023.08.29\\\\nmore\\\\nBlog is powered by kakao / Designed by Tistory</raw></document>\"]', name='tavily_web_search', id='d00f4ce0-dfac-4066-ac27-e0da30412ecc', tool_call_id='call_iCDjy1YHjxeXcSX19hKk2Htj'),\n",
       " AIMessage(content='소놀코딩 유튜브 채널에 대한 정보는 다음과 같습니다:\\n\\n1. **소놀코딩 유튜브 채널 소개**:\\n   - 소놀코딩은 코딩을 연구하고 공부하며 그 내용을 많은 사람들과 나누고자 하는 채널입니다. 이 채널은 코딩 학습을 통해 문제 해결력과 창의력을 키우고, 4차 산업혁명 시대의 필수 인재로 성장할 수 있도록 돕고자 합니다.\\n   - 다양한 강의가 제공되며, 파이썬, C언어, 자바, 아두이노, 앱인벤터 등 여러 언어와 주제를 다룹니다.\\n   - 매주 금요일 7시에는 파이썬 왕기초 문제 풀이 강의가 업로드됩니다.\\n   - [자세한 내용은 여기에서 확인할 수 있습니다.](https://m.blog.naver.com/nasu0210/222428706773)\\n\\n2. **두런 - DoLearn에서의 소놀코딩**:\\n   - 소놀코딩은 유튜브에서 2.7만 구독자를 보유하고 있으며, 총 조회수는 4.23백만에 달합니다. 다양한 강의가 포함되어 있으며, 스크래치, 파이썬 기초 강의 등이 인기를 끌고 있습니다.\\n   - [더 많은 정보는 여기에서 확인할 수 있습니다.](https://www.dolearn.ai/etc/user_introduction?type=youtuber&channel_id=UC576all-JloCWvzLrc2QZxw)\\n\\n3. **특정 강의 예시**:\\n   - 예를 들어, \"선, 도형 그리기\"와 같은 강의가 있으며, 파이게임을 사용하여 다양한 도형을 그리는 방법을 배울 수 있습니다.\\n   - [해당 강의에 대한 블로그 포스트는 여기에서 확인할 수 있습니다.](https://breakthedays.tistory.com/277)\\n\\n소놀코딩 채널은 코딩을 배우고자 하는 많은 사람들에게 유용한 자료를 제공하고 있습니다. 관심 있는 주제를 찾아보시면 좋을 것 같습니다!', additional_kwargs={'refusal': None}, response_metadata={'token_usage': {'completion_tokens': 465, 'prompt_tokens': 6953, 'total_tokens': 7418, 'completion_tokens_details': {'accepted_prediction_tokens': 0, 'audio_tokens': 0, 'reasoning_tokens': 0, 'rejected_prediction_tokens': 0}, 'prompt_tokens_details': {'audio_tokens': 0, 'cached_tokens': 0}}, 'model_name': 'gpt-4o-mini-2024-07-18', 'system_fingerprint': 'fp_f2cd28694a', 'finish_reason': 'stop', 'logprobs': None}, id='run-9c5f541f-633e-4b4f-8bef-e0cf7f2cabfb-0', usage_metadata={'input_tokens': 6953, 'output_tokens': 465, 'total_tokens': 7418, 'input_token_details': {'audio': 0, 'cache_read': 0}, 'output_token_details': {'audio': 0, 'reasoning': 0}}),\n",
       " HumanMessage(content='방금 내가 뭐라고 물었지?', additional_kwargs={}, response_metadata={}, id='a2bfb6ce-eae5-4369-a0c8-9ec67e67a195'),\n",
       " AIMessage(content='당신은 \"소놀코딩 유튜브에 대해서 검색해주세요\"라고 물으셨습니다.', additional_kwargs={'refusal': None}, response_metadata={'token_usage': {'completion_tokens': 23, 'prompt_tokens': 7433, 'total_tokens': 7456, 'completion_tokens_details': {'accepted_prediction_tokens': 0, 'audio_tokens': 0, 'reasoning_tokens': 0, 'rejected_prediction_tokens': 0}, 'prompt_tokens_details': {'audio_tokens': 0, 'cached_tokens': 0}}, 'model_name': 'gpt-4o-mini-2024-07-18', 'system_fingerprint': 'fp_f2cd28694a', 'finish_reason': 'stop', 'logprobs': None}, id='run-72183168-eda5-4ba9-a4b7-c8485ed7dd70-0', usage_metadata={'input_tokens': 7433, 'output_tokens': 23, 'total_tokens': 7456, 'input_token_details': {'audio': 0, 'cache_read': 0}, 'output_token_details': {'audio': 0, 'reasoning': 0}})]"
      ]
     },
     "execution_count": 26,
     "metadata": {},
     "output_type": "execute_result"
    }
   ],
   "source": [
    "from langchain_core.runnables import RunnableConfig\n",
    "\n",
    "config = RunnableConfig(\n",
    "    configurable={\"thread_id\": \"1\"},  # 스레드 ID 설정\n",
    ")\n",
    "\n",
    "# 그래프 상태 스냅샷 생성\n",
    "snapshot = graph.get_state(config)\n",
    "snapshot.values[\"messages\"]"
   ]
  },
  {
   "cell_type": "code",
   "execution_count": 27,
   "metadata": {},
   "outputs": [
    {
     "data": {
      "text/plain": [
       "{'configurable': {'thread_id': '1',\n",
       "  'checkpoint_ns': '',\n",
       "  'checkpoint_id': '1efcf251-b938-6b4d-800c-e8bcaf92ddd2'}}"
      ]
     },
     "execution_count": 27,
     "metadata": {},
     "output_type": "execute_result"
    }
   ],
   "source": [
    "# 설정된 config 정보\n",
    "snapshot.config"
   ]
  },
  {
   "cell_type": "code",
   "execution_count": 28,
   "metadata": {},
   "outputs": [
    {
     "data": {
      "text/plain": [
       "{'messages': [HumanMessage(content='내 이름은 `이인환` 입니다. 학생들에게 코딩을 가르칩니다. 만나서 반가워요', additional_kwargs={}, response_metadata={}, id='e188f712-21fb-41fb-bf56-bb71186666b4'),\n",
       "  AIMessage(content='안녕하세요, 이인환님! 만나서 반갑습니다. 코딩을 가르치시는 일은 정말 멋진 일입니다. 학생들에게 어떤 언어를 주로 가르치시나요? 또는 특별히 가르치고 싶은 주제가 있으신가요?', additional_kwargs={'refusal': None}, response_metadata={'token_usage': {'completion_tokens': 61, 'prompt_tokens': 117, 'total_tokens': 178, 'completion_tokens_details': {'accepted_prediction_tokens': 0, 'audio_tokens': 0, 'reasoning_tokens': 0, 'rejected_prediction_tokens': 0}, 'prompt_tokens_details': {'audio_tokens': 0, 'cached_tokens': 0}}, 'model_name': 'gpt-4o-mini-2024-07-18', 'system_fingerprint': 'fp_f2cd28694a', 'finish_reason': 'stop', 'logprobs': None}, id='run-cbd97a11-bf47-496d-a8f3-953c50fc9e31-0', usage_metadata={'input_tokens': 117, 'output_tokens': 61, 'total_tokens': 178, 'input_token_details': {'audio': 0, 'cache_read': 0}, 'output_token_details': {'audio': 0, 'reasoning': 0}}),\n",
       "  HumanMessage(content='내 이름이 뭐라고 했지?', additional_kwargs={}, response_metadata={}, id='5d01d7af-b2a6-48b5-9749-14ba058a1791'),\n",
       "  AIMessage(content='당신의 이름은 이인환입니다.', additional_kwargs={'refusal': None}, response_metadata={'token_usage': {'completion_tokens': 12, 'prompt_tokens': 192, 'total_tokens': 204, 'completion_tokens_details': {'accepted_prediction_tokens': 0, 'audio_tokens': 0, 'reasoning_tokens': 0, 'rejected_prediction_tokens': 0}, 'prompt_tokens_details': {'audio_tokens': 0, 'cached_tokens': 0}}, 'model_name': 'gpt-4o-mini-2024-07-18', 'system_fingerprint': 'fp_f2cd28694a', 'finish_reason': 'stop', 'logprobs': None}, id='run-5f4395d6-81c5-481e-84e6-215d6d1a0f29-0', usage_metadata={'input_tokens': 192, 'output_tokens': 12, 'total_tokens': 204, 'input_token_details': {'audio': 0, 'cache_read': 0}, 'output_token_details': {'audio': 0, 'reasoning': 0}}),\n",
       "  HumanMessage(content='소놀코딩 유튜브에 대해서 검색해주세요', additional_kwargs={}, response_metadata={}, id='1ead41fb-b55d-4bee-b6f5-dc89830bd834'),\n",
       "  AIMessage(content='', additional_kwargs={'tool_calls': [{'id': 'call_iCDjy1YHjxeXcSX19hKk2Htj', 'function': {'arguments': '{\"query\":\"소놀코딩 유튜브\"}', 'name': 'tavily_web_search'}, 'type': 'function'}], 'refusal': None}, response_metadata={'token_usage': {'completion_tokens': 24, 'prompt_tokens': 221, 'total_tokens': 245, 'completion_tokens_details': {'accepted_prediction_tokens': 0, 'audio_tokens': 0, 'reasoning_tokens': 0, 'rejected_prediction_tokens': 0}, 'prompt_tokens_details': {'audio_tokens': 0, 'cached_tokens': 0}}, 'model_name': 'gpt-4o-mini-2024-07-18', 'system_fingerprint': 'fp_f2cd28694a', 'finish_reason': 'tool_calls', 'logprobs': None}, id='run-22d3df00-befd-41d2-9fea-ef72831c3e1a-0', tool_calls=[{'name': 'tavily_web_search', 'args': {'query': '소놀코딩 유튜브'}, 'id': 'call_iCDjy1YHjxeXcSX19hKk2Htj', 'type': 'tool_call'}], usage_metadata={'input_tokens': 221, 'output_tokens': 24, 'total_tokens': 245, 'input_token_details': {'audio': 0, 'cache_read': 0}, 'output_token_details': {'audio': 0, 'reasoning': 0}}),\n",
       "  ToolMessage(content='[\"<document><title>소놀코딩 유튜브 채널로 코딩 배워보세요 : 네이버 블로그</title><url>https://m.blog.naver.com/nasu0210/222428706773</url><content>소놀코딩 유튜브 채널로 코딩 배워보세요 : 네이버 블로그 소놀코딩 유튜브 채널로 코딩 배워보세요 소놀코딩과 함께 하시는 많은 분들이 코딩 학습을 통해 문제해결력과 창의력을 키워 4차 산업혁명시대의 필수 인재로 성장할 수 있도록 돕고자 합니다. 소놀코딩 유튜브 채널에는 다양한 강의가 있습니다. 파이썬 강의입니다. 파이썬 왕기초, 기초, 중급 강의가 있습니다. C언어 강의입니다. 아두이노 강의입니다. 앱인벤터 강의입니다. 여러가지 메이커 프로젝트를 진행하면 코딩에 더욱 재미를 느낄 수 있습니다. 매주 금요일 7시에는 파이썬 왕기초 문제 풀이 강의를 업로드 하고 있습니다. 소프트웨어놀이터(코딩&메이커) : 네이버 카페코딩콘텐츠,SW,스크래치,앱인벤터2,아두이노,C언어, C#, 파이썬,IoT,사물인터넷, 클라우드, 빅데이터,웹 cafe.naver.com 소놀코딩_Sonol Coding소놀코딩은 코딩을 연구하고 공부하며 그 내용을 많은 분들과 나누고자 하는 채널입니다. 소놀코딩과 함께 하시는 많은 분들이 코딩 학습을 통해 문제해결력과 창의력을 키워 4차 산업혁명시대(인공지능, 사물인터넷, 빅데이터, 클라우드 등)의 필수 인재로 성장 할 수 있도록 돕고자 합니다. {\\\\\\\\\\\\\"title\\\\\\\\\\\\\":\\\\\\\\\\\\\"소놀코딩 유튜브 채널로 코딩 배워보세요\\\\\\\\\\\\\",\\\\\\\\\\\\\"source\\\\\\\\\\\\\":\\\\\\\\\\\\\"https://blog.naver.com/nasu0210/222428706773\\\\\\\\\\\\\",\\\\\\\\\\\\\"blogName\\\\\\\\\\\\\":\\\\\\\\\\\\\"소놀코딩[..\\\\\\\\\\\\\",\\\\\\\\\\\\\"domainIdOrBlogId\\\\\\\\\\\\\":\\\\\\\\\\\\\"nasu0210\\\\\\\\\\\\\",\\\\\\\\\\\\\"nicknameOrBlogId\\\\\\\\\\\\\":\\\\\\\\\\\\\"복쌤\\\\\\\\\\\\\",\\\\\\\\\\\\\"logNo\\\\\\\\\\\\\":222428706773,\\\\\\\\\\\\\"smartEditorVersion\\\\\\\\\\\\\":4,\\\\\\\\\\\\\"meDisplay\\\\\\\\\\\\\":true,\\\\\\\\\\\\\"lineDisplay\\\\\\\\\\\\\":true,\\\\\\\\\\\\\"outsideDisplay\\\\\\\\\\\\\":true,\\\\\\\\\\\\\"cafeDisplay\\\\\\\\\\\\\":true,\\\\\\\\\\\\\"blogDisplay\\\\\\\\\\\\\":true}</content><raw>소놀코딩 유튜브 채널로 코딩 배워보세요 : 네이버 블로그\\\\n \\\\n본문 바로가기\\\\n블로그\\\\n카테고리 이동 소놀코딩[개발자 실무교육 전문]\\\\n\\\\n검색 MY메뉴 열기\\\\nSW교육 소식공간\\\\n소놀코딩 유튜브 채널로 코딩 배워보세요\\\\n\\\\n복쌤\\\\n2021. 7. 12. 14:58\\\\n이웃추가\\\\n본문 기타 기능\\\\n\\\\n본문 폰트 크기 조정 본문 폰트 크기 작게 보기 본문 폰트 크기 크게 보기 가\\\\n\\\\n공감하기\\\\n\\\\n\\\\n공유하기\\\\n\\\\nURL복사\\\\n신고하기\\\\n\\\\n\\u200b\\\\n안녕하세요.\\\\n장마가 끝나고 본격적으로 찜통 더위가 시작되었습니다.\\\\n전국에 폭염 특보가 내려졌는데요.\\\\n밤 사이에도 열대야가 지속된다고 합니다.\\\\n건강 관리에 각별히 신경쓰시기 바랍니다.\\\\n\\u200b\\\\n\\\\n\\u200b\\\\n코딩에 대한 관심과 인기가 날이 갈수록 상승하고 있습니다.\\\\n그래서 전공자 뿐만 아니라 비전공자도 코딩을 배웁니다.\\\\n코딩 교육이 의무화 되면서 초등학생, 중학생, 고등학생도 코딩을 배우는데요.\\\\n오늘은 소프트웨어놀이터에서 운영하고 있는 소놀코딩 유튜브 채널을 소개시켜 드리겠습니다.\\\\n\\u200b\\\\n\\\\n\\u200b\\\\n소놀코딩은 코딩을 연구하고 공부하며 그 내용을 많은 분들과 나누고자 개설한 채널입니다.\\\\n소놀코딩과 함께 하시는 많은 분들이 코딩 학습을 통해 문제해결력과 창의력을 키워 4차 산업혁명시대의 필수 인재로 성장할 수 있도록 돕고자 합니다.\\\\n우리나라 모든 사람들이 코딩이 기본소양이 되는 그 날까지 소놀코딩은 끊임없이 연구하고 공부하고 공유할 것입니다.\\\\n\\u200b\\\\n\\\\n\\u200b\\\\n소놀코딩 유튜브 채널에는 다양한 강의가 있습니다.\\\\n여러가지 생생한 줌 라이브 영상이 있습니다.\\\\n\\u200b\\\\n\\\\n\\u200b\\\\n파이썬 강의입니다.\\\\n파이썬은 요즘 빅데이터 분석도 가능하기 때문에 인기있는 언어입니다.\\\\n파이썬은 텍스트 코딩을 처음으로 접하는 사람들이 가장 먼저 배우기 좋은 언어입니다.\\\\n파이썬 왕기초, 기초, 중급 강의가 있습니다.\\\\n왕기초 강의는 코딩에 입문하는 사람들에게 추천드립니다.\\\\n\\u200b\\\\n\\\\n\\u200b\\\\nC언어 강의입니다.\\\\nC언어는 코딩 언어 중 가장 먼저 개발된 언어입니다.\\\\n어렵고 까다롭지만 거의 모든 다른 언어들이 C언어에서 파생된 것이기 때문에 학습해둔다면 다른 언어를 공부할 때도 많은 도움이 될 것입니다.\\\\nC언어는 운영체제를 개발할 때 사용됩니다.\\\\n\\u200b\\\\n\\\\n\\u200b\\\\n자바 강의입니다.\\\\n자바는 C언어보다는 늦게 나왔지만 간략하고 쉬워 현재 세계에서 가장 많이 쓰이고 있는 언어입니다.\\\\n그리고 호환성과 생산성도 좋습니다.\\\\n자바는 웹, 앱 개발에 많이 사용하고 있습니다.\\\\n\\u200b\\\\n\\\\n\\u200b\\\\n아두이노 강의입니다.\\\\n아두이노는 다양한 부품과 센서를 연결하고 소프트웨어를 로드해 동작을 하게 합니다.\\\\n아두이노 보드는 저렴한 편이고 초보자들이 사용하기 쉽습니다.\\\\n아두이노를 활용해 로봇, IoT 제품들도 만들 수 있습니다.\\\\n\\u200b\\\\n\\\\n\\u200b\\\\n앱인벤터 강의입니다.\\\\n코딩을 처음 접하는 초등학생이나 중학생이 처음부터 프로그래밍 언어를 이해하는 것은 어려울 수 있습니다.\\\\n그래서 블록 코딩인 앱인벤터나 스크래치, 마이크로비트를 배우게 됩니다.\\\\n앱인벤터는 화면을 디자인하고 블럭을 끼워넣어 프로그램을 만들고 안드로이드 폰으로 확인할 수 있습니다.\\\\n\\u200b\\\\n\\\\n\\u200b\\\\n메이커 활동 강의입니다.\\\\n아두이노와 IoT 프로젝트 등의 메이커 과목은 회로와 코드 2가지를 다 알아야합니다.\\\\n여러가지 메이커 프로젝트를 진행하면 코딩에 더욱 재미를 느낄 수 있습니다.\\\\n\\u200b\\\\n\\\\n\\u200b\\\\n지금도 계속 업로드 되고 있는 강의는 두 개 있습니다.\\\\n매주 월요일, 수요일 7시에는 스크래치 3.0 버전 게임 만들기 강의가 업로드 됩니다.\\\\n스크래치는 블록 코딩이라 쉽고 게임까지 만들 수 있으니 재미는 두 배가 됩니다.\\\\n이 강의를 듣기 전에 스크래치 기초 강의를 먼저 듣는 것을 추천합니다.\\\\n\\u200b\\\\n\\\\n\\u200b\\\\n매주 금요일 7시에는 파이썬 왕기초 문제 풀이 강의를 업로드 하고 있습니다.\\\\n이 문제들은 정올 홈페이지에 있는 문제들입니다.\\\\n이 강의를 듣기 전에 파이썬 기초 강의를 먼저 듣는 것을 추천합니다.\\\\n\\u200b\\\\n이 외에 다른 강의들도 많이 있습니다.\\\\n\\u200b\\\\n소프트웨어놀이터(코딩&메이커) : 네이버 카페코딩콘텐츠,SW,스크래치,앱인벤터2,아두이노,C언어, C#, 파이썬,IoT,사물인터넷, 클라우드, 빅데이터,웹 cafe.naver.com\\\\n\\u200b\\\\n유튜브에 올라온 강의의 교재는 소프트웨어놀이터 카페에 전부 올라가있습니다.\\\\n\\u200b\\\\n소놀코딩_Sonol Coding소놀코딩은 코딩을 연구하고 공부하며 그 내용을 많은 분들과 나누고자 하는 채널입니다. 소놀코딩과 함께 하시는 많은 분들이 코딩 학습을 통해 문제해결력과 창의력을 키워 4차 산업혁명시대(인공지능, 사물인터넷, 빅데이터, 클라우드 등)의 필수 인재로 성장 할 수 있도록 돕고자 합니다. 그럼 우리나라 모든 사람들이 코딩이 기본소양이 될 그날까지 저희 소놀코딩도 끊임없이 연구하고 공부하고 공유하겠습니다. www.youtube.com\\\\n\\u200b\\\\n\\\\n#코딩\\\\n#코딩독학\\\\n#코딩유튜브\\\\n#파이썬\\\\n#C언어\\\\n#자바\\\\n#아두이노\\\\n#앱인벤터\\\\n#메이커활동\\\\n#스크래치\\\\n#소놀코딩\\\\n#소프트웨어놀이터\\\\n\\\\n\\\\n공감한 사람 보러가기\\\\n댓글 6 공유하기\\\\n{\\\\\"title\\\\\":\\\\\"소놀코딩 유튜브 채널로 코딩 배워보세요\\\\\",\\\\\"source\\\\\":\\\\\"https://blog.naver.com/nasu0210/222428706773\\\\\",\\\\\"blogName\\\\\":\\\\\"소놀코딩[..\\\\\",\\\\\"domainIdOrBlogId\\\\\":\\\\\"nasu0210\\\\\",\\\\\"nicknameOrBlogId\\\\\":\\\\\"복쌤\\\\\",\\\\\"logNo\\\\\":222428706773,\\\\\"smartEditorVersion\\\\\":4,\\\\\"meDisplay\\\\\":true,\\\\\"lineDisplay\\\\\":true,\\\\\"outsideDisplay\\\\\":true,\\\\\"cafeDisplay\\\\\":true,\\\\\"blogDisplay\\\\\":true}\\\\n닫기\\\\n카테고리\\\\n이 블로그 홈\\\\n\\\\n공감한 사람 보러가기\\\\n댓글 6 공유하기\\\\n복쌤(nasu0210) 님을 이웃추가하고 새글을 받아보세요\\\\n취소 이웃추가</raw></document>\", \"<document><title>소놀코딩_Sonol Coding | 두런 - DoLearn | 유튜브 채널소개</title><url>https://www.dolearn.ai/etc/user_introduction?type=youtuber&channel_id=UC576all-JloCWvzLrc2QZxw</url><content>소놀코딩_Sonol Coding | 두런 - DoLearn | 유튜브 채널소개 더 탄탄한 커리어 더 즐거운 키즈 로그인 로그인 창 닫기 *1* 스크래치 예제 강의.3강-무지개 펜 만들기 (SONOL.마술같은 코딩) Play 유튜브 조회수 30711회 두런 좋아요 0회 #스크래치 #국기 *2* [파이썬 기초 강의/20강 완성] 1강 다운로드 및 설치 Play 유튜브 조회수 38915회 두런 좋아요 0회 #파이썬 #설치 *3* [파이썬 기초 강의] 32강 json 다루기 Play 유튜브 조회수 6125회 두런 좋아요 0회 태그없음 10강 mysql활용 조회수 201 두런 좋아요 0 11강 mysql우편번호 넣기 조회수 245 두런 좋아요 0 6강 alter문과 기타 조회수 338 두런 좋아요 0 9강 mysql 관리하기 조회수 357 두런 좋아요 0 [자바 기초 강의] 29강 향상된 for 조회수 369 두런 좋아요 0 5강 delete문과 update문 조회수 370 두런 좋아요 0</content><raw>소놀코딩_Sonol Coding | 두런 - DoLearn | 유튜브 채널소개\\\\n\\\\n본문 바로가기\\\\n주 메뉴 바로가기\\\\n\\\\n\\\\n\\\\n상단 메뉴\\\\n주 메뉴\\\\n주 메뉴 여닫기\\\\n주 메뉴 닫기\\\\n\\\\n\\\\n클래스\\\\n\\\\n\\\\n라이프스타일\\\\n\\\\n재테크\\\\n집·가족\\\\n요리·여행\\\\n뷰티·헬스\\\\n공예·취미\\\\n더 색다른 라이프\\\\n\\\\n\\\\n\\\\nIT개발\\\\n\\\\n웹개발\\\\n모바일개발\\\\n프로그래밍 언어\\\\n데이터사이언스\\\\n더 새로운 개발\\\\n\\\\n\\\\n\\\\n커리어\\\\n\\\\n경영·HR\\\\n창업·마케팅\\\\n직무스킬\\\\n영상제작\\\\n디자인\\\\n더 탄탄한 커리어\\\\n\\\\n\\\\n\\\\n키즈\\\\n\\\\n유아교육\\\\n초등 주요과목\\\\n초등 예체능\\\\n더 즐거운 키즈\\\\n\\\\n\\\\n\\\\n\\\\n\\\\n동영상\\\\n\\\\n\\\\n커뮤니티\\\\n\\\\n공지사항\\\\n두런 트렌드\\\\n두런 랭킹\\\\nFAQ\\\\n수강후기 모아보기\\\\n\\\\n\\\\n\\\\n주 메뉴 닫기\\\\n검색하기 (검색 박스 여닫기)\\\\nSEARCH\\\\n통합 검색  검색\\\\n검색 박스 닫기\\\\n로그인\\\\n회원가입\\\\n로그인 창 닫기\\\\n\\\\n일반회원\\\\n유튜브회원\\\\n\\\\n두런을 찾아주신 여러분! ⭐대환영⭐\\\\n일반회원 로그인   로그인 하기\\\\n비밀번호 찾기 회원가입하기\\\\nSNS계정으로 간편 로그인/회원가입 구글 로그인창 이동 카톡 로그인창 이동\\\\n구글로 로그인 하기\\\\n비밀번호 찾기 회원가입하기\\\\n※ 강사계정은 로그인 후 신청이 가능합니다. Learn More\\\\n설정\\\\n관심분야 설정\\\\n꼭 맞는 클래스와 동영상을 추천해드릴게요!\\\\n관심있는 분야를 최소 3개 이상 선택하고 별점을 매겨주세요. 관심분야는 대시보드에서 언제든지 수정이 가능해요.\\\\n\\\\n\\\\n재테크\\\\n별 1점 별 2점 별 3점 별 4점 별 5점 \\\\n\\\\n\\\\n집·가족\\\\n별 1점 별 2점 별 3점 별 4점 별 5점 \\\\n\\\\n\\\\n요리·여행\\\\n별 1점 별 2점 별 3점 별 4점 별 5점 \\\\n\\\\n\\\\n뷰티·헬스\\\\n별 1점 별 2점 별 3점 별 4점 별 5점 \\\\n\\\\n\\\\n공예·취미\\\\n별 1점 별 2점 별 3점 별 4점 별 5점 \\\\n\\\\n\\\\n웹개발\\\\n별 1점 별 2점 별 3점 별 4점 별 5점 \\\\n\\\\n\\\\n모바일개발\\\\n별 1점 별 2점 별 3점 별 4점 별 5점 \\\\n\\\\n\\\\n프로그래밍 언어\\\\n별 1점 별 2점 별 3점 별 4점 별 5점 \\\\n\\\\n\\\\n데이터사이언스\\\\n별 1점 별 2점 별 3점 별 4점 별 5점 \\\\n\\\\n\\\\n경영·HR\\\\n별 1점 별 2점 별 3점 별 4점 별 5점 \\\\n\\\\n\\\\n창업·마케팅\\\\n별 1점 별 2점 별 3점 별 4점 별 5점 \\\\n\\\\n\\\\n직무스킬\\\\n별 1점 별 2점 별 3점 별 4점 별 5점 \\\\n\\\\n\\\\n영상제작\\\\n별 1점 별 2점 별 3점 별 4점 별 5점 \\\\n\\\\n\\\\n디자인\\\\n별 1점 별 2점 별 3점 별 4점 별 5점 \\\\n\\\\n\\\\n유아교육\\\\n별 1점 별 2점 별 3점 별 4점 별 5점 \\\\n\\\\n\\\\n초등 주요과목\\\\n별 1점 별 2점 별 3점 별 4점 별 5점 \\\\n\\\\n\\\\n초등 예체능\\\\n별 1점 별 2점 별 3점 별 4점 별 5점 \\\\n\\\\n\\\\n설정완료\\\\n\\\\n\\\\n소놀코딩_Sonol Coding 유튜브 채널\\\\n소놀코딩은 코딩을 연구하고 공부하며 그 내용을 많은 분들과 나누고자 하는 채널입니다. 소놀코딩과 함께 하시는 많은 분들이 코딩 학습을 통해 문제해결력과 창의력을 키워 4차 산업혁명시대(인공지능, 사물인터넷, 빅데이터, 클라우드 등)의 필수 인재로 성장 할 수 있도록 돕고자 합니다. 그럼 우리나라 모든 사람들이 코딩이 기본소양이 될 그날까지 저희 소놀코딩도 끊임없이 연구하고 공부하고 공유하겠습니다.\\\\n2024-05-17 업데이트\\\\n\\\\n유튜브에서 집계되는\\\\n정보입니다.\\\\n유튜브 구독자 2.7 만 순위 366th\\\\n유튜브 조회수 4.23 백만 순위 371th\\\\n유튜브 동영상 737\\\\nDoLearn\\\\n두런에서 집계되는\\\\n정보입니다.\\\\n두런 Pick 영상 두런 AI가 선별한 해당 채널의 영상입니다. 185\\\\n두런 좋아요 0 순위 255th\\\\n두런 연관 클래스 해당 유튜브 채널의 동영상이 포함된 클래스입니다.8\\\\n두런 좋아요 Top 3 영상\\\\n*1* 스크래치 예제 강의.3강-무지개 펜 만들기 (SONOL.마술같은 코딩) Play 유튜브 조회수 30711회 두런 좋아요 0회 #스크래치 #국기\\\\n*2* [파이썬 기초 강의/20강 완성] 1강 다운로드 및 설치 Play 유튜브 조회수 38915회 두런 좋아요 0회 #파이썬 #설치\\\\n*3* [파이썬 기초 강의] 32강 json 다루기 Play 유튜브 조회수 6125회 두런 좋아요 0회 태그없음\\\\n소놀코딩_Sonol Coding 인기 동영상\\\\n 10강 mysql활용 조회수 201 두런 좋아요 0\\\\n 11강 mysql우편번호 넣기 조회수 245 두런 좋아요 0\\\\n 6강 alter문과 기타 조회수 338 두런 좋아요 0\\\\n 9강 mysql 관리하기 조회수 357 두런 좋아요 0\\\\n [자바 기초 강의] 29강 향상된 for 조회수 369 두런 좋아요 0\\\\n 5강 delete문과 update문 조회수 370 두런 좋아요 0\\\\n더보기\\\\n\\\\n하단 정보\\\\n\\\\n두런소개\\\\n이용약관\\\\n콘텐츠공급자 이용약관\\\\n개인정보처리방침\\\\n강사 가이드\\\\n\\\\n유튜브 회원 가이드\\\\n\\\\n\\\\n강사계정 신청하기\\\\n\\\\n\\\\ndolearn sns\\\\n\\\\n두런 유튜브채널 바로가기\\\\n두런 인스타그램 바로가기\\\\n두런 페이스북 바로가기\\\\n두런 카카오채널 바로가기\\\\n\\\\n작성자 (연락처/저작권)\\\\n두런 사업자 정보\\\\n| 대표자 : 윤종식 | 사업자번호 : 801-87-01650 | 개인정보보호책임자 : 정대석 | 이메일 : dolearn@dolearn.ai | 주소 : 서울특별시 중구 퇴계로36길 2, 11층 1113호 (필동2가, 동국대학교 충무로관 본관)\\\\n©DoLearn. ALL RIGHTS RESERVED.\\\\n\\\\n홈\\\\n클래스\\\\n동영상\\\\n커뮤니티\\\\n\\\\n\\\\nTOP\\\\n공유하기\\\\n공유하기 창 닫기\\\\n\\\\nEmail\\\\n카카오톡\\\\n링크복사하기\\\\n</raw></document>\", \"<document><title>[유튜브 소놀코딩] 3강.선, 도형 그리기 - 개발자입니다</title><url>https://breakthedays.tistory.com/277</url><content>[유튜브 소놀코딩] 3강.선, 도형 그리기 본문 pygame.draw.line(화면, 색, 시작 위치, 끝 위치, [선 굵기]) 로 선을 그린다. # pygame.draw.line(화면, 색, 시작 위치, 끝 위치, 선 굵기) # pygame.draw.line(background, (0,0,0), (240,0), (240,360)) # pygame.draw.line(background, (0,0,0), (0,180), (480,180)) # pygame.draw.line(background, (0,0,0), (0,0), (480,360), 5) # pygame.draw.line(background, (0,0,0), (0,360), (480,0), 5) pygame.draw.line(background, (0,0,0), (i,0), (i,360)) pygame.draw.line(background, (0,0,0), (0,i), (480,i)) pygame.draw.circle(background, (255,0,0), (240,180), 50) # pygame.draw.circle(background, (255,0,0), (240,180), 50, 5) # pygame.draw.rect(화면, 색, 위치와 크기, 선 굵기) pygame.draw.rect(background, (0,255,0), (240,180,100,50)) # pygame.draw.rect(background, (0,255,0), (240,180,100,50), 5) # pygame.draw.ellipse(화면, 색, 위치와 크기, 선 굵기) # pygame.draw.ellipse(background, (0,0,255), (240,180,100,50)) pygame.draw.ellipse(background, (0,0,255), (240,180,100,50), 5) # pygame.draw.polygon(화면, 색, 점들의 위치, 선 굵기) # pygame.draw.polygon(background, (255,255,0), [[100,100],[0,200],[200,200]]) # pygame.draw.polygon(background, (255,255,0), [[100,100],[0,200],[200,200]], 5) # pygame.draw.polygon(background, (255,255,0), ((146,0),(291,106),(236,277),(56,277),(0,106))) pygame.draw.polygon(background, (255,255,0), ((146,0),(291,106),(236,277),(56,277),(0,106)), 5)</content><raw>본문 바로가기\\\\n개발자입니다\\\\n카테고리\\\\n검색하기\\\\n개발자입니다\\\\n끈기JK\\\\n관리 메뉴\\\\n글쓰기\\\\n방명록\\\\nRSS\\\\n관리\\\\n[유튜브 소놀코딩] 3강.선, 도형 그리기 본문\\\\n파이게임/파이썬 게임 만들기 강의(유튜브 소놀코딩)\\\\n[유튜브 소놀코딩] 3강.선, 도형 그리기\\\\n끈기JK 2023. 8. 30. 19:25\\\\npygame09.py\\\\n선 그리기\\\\npygame.draw.line(화면, 색, 시작 위치, 끝 위치, [선 굵기]) 로 선을 그린다.\\\\nimport pygame\\\\npygame.init()\\\\nbackground = pygame.display.set_mode((480, 360))\\\\npygame.display.set_caption(\\\\\"SONOL\\\\\")\\\\nplay = True\\\\nwhile play:\\\\n    for event in pygame.event.get():\\\\n        if event.type == pygame.QUIT:\\\\n            play = False\\\\n    background.fill((255, 255, 255))\\\\n    # 선\\\\n    # pygame.draw.line(화면, 색, 시작 위치, 끝 위치, 선 굵기)\\\\n    # pygame.draw.line(surface, color, start_pos, end_pos)\\\\n    # pygame.draw.line(background, (0,0,0), (240,0), (240,360))\\\\n    # pygame.draw.line(background, (0,0,0), (0,180), (480,180))\\\\n    # pygame.draw.line(background, (0,0,0), (0,0), (480,360), 5)\\\\n    # pygame.draw.line(background, (0,0,0), (0,360), (480,0), 5)\\\\n\\\\n    for i in range(0,480,30):\\\\n        pygame.draw.line(background, (0,0,0), (i,0), (i,360))\\\\n    for i in range(0,480,30):\\\\n        pygame.draw.line(background, (0,0,0), (0,i), (480,i))\\\\n\\\\npygame.display.update()\\\\n\\\\npygame.quit()\\\\npygame10.py\\\\n도형 그리기\\\\n모든 도형은 굵기를 입력하면 색깔을 채우지 않고 테두리만 그린다.\\\\n원은 중심좌표, 반지름으로 그린다.\\\\n사각형에서 위치와 크기는 (사각형 좌측 위치, 사각형 상단 위치, 가로 크기, 세로 크기) 로 그린다.\\\\n타원은 사각형 그리기와 입력이 유사하나 사각형에 내접한 타원을 그린다.\\\\n다각형은 각 꼭지점의 좌표를 리스트나 튜플로 입력한다.\\\\nimport pygame\\\\npygame.init()\\\\nbackground = pygame.display.set_mode((480, 360))\\\\npygame.display.set_caption(\\\\\"SONOL\\\\\")\\\\nx = background.get_size()[0]//2 #240\\\\ny = background.get_size()[1]//2 #180\\\\nplay = True\\\\nwhile play:\\\\n    for event in pygame.event.get():\\\\n        if event.type == pygame.QUIT:\\\\n            play = False\\\\n    background.fill((255, 255, 255))\\\\n\\\\n    # 원\\\\n    # pygame.draw.circle(화면, 색, 중심 좌표, 반지름, 선 굵기)\\\\n    pygame.draw.circle(background, (255,0,0), (240,180), 50)\\\\n    # pygame.draw.circle(background, (255,0,0), (240,180), 50, 5)\\\\n\\\\n    # 사각형\\\\n    # pygame.draw.rect(화면, 색, 위치와 크기, 선 굵기)\\\\n    pygame.draw.rect(background, (0,255,0), (240,180,100,50))\\\\n    # pygame.draw.rect(background, (0,255,0), (240,180,100,50), 5)\\\\n\\\\n    # 타원\\\\n    # pygame.draw.ellipse(화면, 색, 위치와 크기, 선 굵기)\\\\n    # pygame.draw.ellipse(background, (0,0,255), (240,180,100,50))\\\\n    pygame.draw.ellipse(background, (0,0,255), (240,180,100,50), 5)\\\\n\\\\n    # 다각형\\\\n    # pygame.draw.polygon(화면, 색, 점들의 위치, 선 굵기)\\\\n    # pygame.draw.polygon(background, (255,255,0), [[100,100],[0,200],[200,200]])\\\\n    # pygame.draw.polygon(background, (255,255,0), [[100,100],[0,200],[200,200]], 5)\\\\n    # pygame.draw.polygon(background, (255,255,0), ((146,0),(291,106),(236,277),(56,277),(0,106)))\\\\n    pygame.draw.polygon(background, (255,255,0), ((146,0),(291,106),(236,277),(56,277),(0,106)), 5)\\\\n\\\\n    pygame.draw.line(background, (0,0,0), (x,0), (x,y*2))\\\\n    pygame.draw.line(background, (0,0,0), (0,y), (x*2,y))\\\\n    pygame.display.update()\\\\n\\\\npygame.quit()\\\\n공유하기\\\\n게시글 관리\\\\n저작자표시\\\\n\\'파이게임 > 파이썬 게임 만들기 강의(유튜브 소놀코딩)\\' 카테고리의 다른 글\\\\n[유튜브 소놀코딩] 8강.캐릭터 충돌하기 / 9강.점수 만들기 / 10강.게임 종료하기\\xa0\\xa0(0)   2023.08.31\\\\n[유튜브 소놀코딩] 6강.벽에 닿았을 때 튕기기 / 7강.캐릭터 추가하기\\xa0\\xa0(0)   2023.08.31\\\\n[유튜브 소놀코딩] 4강.이미지 사용하기 / 5강.키보드+마우스+이미지 적용하기\\xa0\\xa0(0)   2023.08.31\\\\n[유튜브 소놀코딩] 2강.마우스로 조종하기\\xa0\\xa0(0)    2023.08.30\\\\n[유튜브 소놀코딩] 1강.키보드로 조종하기\\xa0\\xa0(0)    2023.08.29\\\\n\\'파이게임/파이썬 게임 만들기 강의(유튜브 소놀코딩)\\' Related Articles\\\\n[유튜브 소놀코딩] 6강.벽에 닿았을 때 튕기기 / 7강.캐릭터 추가하기\\\\n2023.08.31\\\\n[유튜브 소놀코딩] 4강.이미지 사용하기 / 5강.키보드+마우스+이미지 적용하기\\\\n2023.08.31\\\\n[유튜브 소놀코딩] 2강.마우스로 조종하기\\\\n2023.08.30\\\\n[유튜브 소놀코딩] 1강.키보드로 조종하기\\\\n2023.08.29\\\\nmore\\\\nBlog is powered by kakao / Designed by Tistory</raw></document>\"]', name='tavily_web_search', id='d00f4ce0-dfac-4066-ac27-e0da30412ecc', tool_call_id='call_iCDjy1YHjxeXcSX19hKk2Htj'),\n",
       "  AIMessage(content='소놀코딩 유튜브 채널에 대한 정보는 다음과 같습니다:\\n\\n1. **소놀코딩 유튜브 채널 소개**:\\n   - 소놀코딩은 코딩을 연구하고 공부하며 그 내용을 많은 사람들과 나누고자 하는 채널입니다. 이 채널은 코딩 학습을 통해 문제 해결력과 창의력을 키우고, 4차 산업혁명 시대의 필수 인재로 성장할 수 있도록 돕고자 합니다.\\n   - 다양한 강의가 제공되며, 파이썬, C언어, 자바, 아두이노, 앱인벤터 등 여러 언어와 주제를 다룹니다.\\n   - 매주 금요일 7시에는 파이썬 왕기초 문제 풀이 강의가 업로드됩니다.\\n   - [자세한 내용은 여기에서 확인할 수 있습니다.](https://m.blog.naver.com/nasu0210/222428706773)\\n\\n2. **두런 - DoLearn에서의 소놀코딩**:\\n   - 소놀코딩은 유튜브에서 2.7만 구독자를 보유하고 있으며, 총 조회수는 4.23백만에 달합니다. 다양한 강의가 포함되어 있으며, 스크래치, 파이썬 기초 강의 등이 인기를 끌고 있습니다.\\n   - [더 많은 정보는 여기에서 확인할 수 있습니다.](https://www.dolearn.ai/etc/user_introduction?type=youtuber&channel_id=UC576all-JloCWvzLrc2QZxw)\\n\\n3. **특정 강의 예시**:\\n   - 예를 들어, \"선, 도형 그리기\"와 같은 강의가 있으며, 파이게임을 사용하여 다양한 도형을 그리는 방법을 배울 수 있습니다.\\n   - [해당 강의에 대한 블로그 포스트는 여기에서 확인할 수 있습니다.](https://breakthedays.tistory.com/277)\\n\\n소놀코딩 채널은 코딩을 배우고자 하는 많은 사람들에게 유용한 자료를 제공하고 있습니다. 관심 있는 주제를 찾아보시면 좋을 것 같습니다!', additional_kwargs={'refusal': None}, response_metadata={'token_usage': {'completion_tokens': 465, 'prompt_tokens': 6953, 'total_tokens': 7418, 'completion_tokens_details': {'accepted_prediction_tokens': 0, 'audio_tokens': 0, 'reasoning_tokens': 0, 'rejected_prediction_tokens': 0}, 'prompt_tokens_details': {'audio_tokens': 0, 'cached_tokens': 0}}, 'model_name': 'gpt-4o-mini-2024-07-18', 'system_fingerprint': 'fp_f2cd28694a', 'finish_reason': 'stop', 'logprobs': None}, id='run-9c5f541f-633e-4b4f-8bef-e0cf7f2cabfb-0', usage_metadata={'input_tokens': 6953, 'output_tokens': 465, 'total_tokens': 7418, 'input_token_details': {'audio': 0, 'cache_read': 0}, 'output_token_details': {'audio': 0, 'reasoning': 0}}),\n",
       "  HumanMessage(content='방금 내가 뭐라고 물었지?', additional_kwargs={}, response_metadata={}, id='a2bfb6ce-eae5-4369-a0c8-9ec67e67a195'),\n",
       "  AIMessage(content='당신은 \"소놀코딩 유튜브에 대해서 검색해주세요\"라고 물으셨습니다.', additional_kwargs={'refusal': None}, response_metadata={'token_usage': {'completion_tokens': 23, 'prompt_tokens': 7433, 'total_tokens': 7456, 'completion_tokens_details': {'accepted_prediction_tokens': 0, 'audio_tokens': 0, 'reasoning_tokens': 0, 'rejected_prediction_tokens': 0}, 'prompt_tokens_details': {'audio_tokens': 0, 'cached_tokens': 0}}, 'model_name': 'gpt-4o-mini-2024-07-18', 'system_fingerprint': 'fp_f2cd28694a', 'finish_reason': 'stop', 'logprobs': None}, id='run-72183168-eda5-4ba9-a4b7-c8485ed7dd70-0', usage_metadata={'input_tokens': 7433, 'output_tokens': 23, 'total_tokens': 7456, 'input_token_details': {'audio': 0, 'cache_read': 0}, 'output_token_details': {'audio': 0, 'reasoning': 0}})]}"
      ]
     },
     "execution_count": 28,
     "metadata": {},
     "output_type": "execute_result"
    }
   ],
   "source": [
    "# 저장된 값(values)\n",
    "snapshot.values"
   ]
  },
  {
   "cell_type": "code",
   "execution_count": 29,
   "metadata": {},
   "outputs": [
    {
     "data": {
      "text/plain": [
       "AIMessage(content='당신은 \"소놀코딩 유튜브에 대해서 검색해주세요\"라고 물으셨습니다.', additional_kwargs={'refusal': None}, response_metadata={'token_usage': {'completion_tokens': 23, 'prompt_tokens': 7433, 'total_tokens': 7456, 'completion_tokens_details': {'accepted_prediction_tokens': 0, 'audio_tokens': 0, 'reasoning_tokens': 0, 'rejected_prediction_tokens': 0}, 'prompt_tokens_details': {'audio_tokens': 0, 'cached_tokens': 0}}, 'model_name': 'gpt-4o-mini-2024-07-18', 'system_fingerprint': 'fp_f2cd28694a', 'finish_reason': 'stop', 'logprobs': None}, id='run-72183168-eda5-4ba9-a4b7-c8485ed7dd70-0', usage_metadata={'input_tokens': 7433, 'output_tokens': 23, 'total_tokens': 7456, 'input_token_details': {'audio': 0, 'cache_read': 0}, 'output_token_details': {'audio': 0, 'reasoning': 0}})"
      ]
     },
     "execution_count": 29,
     "metadata": {},
     "output_type": "execute_result"
    }
   ],
   "source": [
    "snapshot.metadata[\"writes\"][\"chatbot\"][\"messages\"][0]"
   ]
  },
  {
   "cell_type": "code",
   "execution_count": 30,
   "metadata": {},
   "outputs": [
    {
     "name": "stdout",
     "output_type": "stream",
     "text": [
      "    \u001b[93msource\u001b[0m: \"loop\"\n",
      "    \u001b[93mwrites\u001b[0m:\n",
      "        \u001b[94mchatbot\u001b[0m:\n",
      "            \u001b[95mmessages\u001b[0m:\n",
      "                \u001b[95mindex [0]\u001b[0m\n",
      "                    \u001b[96mcontent\u001b[0m: \"당신은 \"소놀코딩 유튜브에 대해서 검색해주세요\"라고 물으셨습니다.\"\n",
      "                    \u001b[96madditional_kwargs\u001b[0m: {\"refusal\": None}\n",
      "                    \u001b[96mresponse_metadata\u001b[0m:\n",
      "                        \u001b[96mtoken_usage\u001b[0m:\n",
      "                            \u001b[96mcompletion_tokens\u001b[0m: 23\n",
      "                            \u001b[96mprompt_tokens\u001b[0m: 7433\n",
      "                            \u001b[96mtotal_tokens\u001b[0m: 7456\n",
      "                            \u001b[96mcompletion_tokens_details\u001b[0m: {\"accepted_prediction_tokens\": 0, \"audio_tokens\": 0, \"reasoning_tokens\": 0, \"rejected_prediction_tokens\": 0}\n",
      "                            \u001b[96mprompt_tokens_details\u001b[0m: {\"audio_tokens\": 0, \"cached_tokens\": 0}\n",
      "                        \u001b[96mmodel_name\u001b[0m: \"gpt-4o-mini-2024-07-18\"\n",
      "                        \u001b[96msystem_fingerprint\u001b[0m: \"fp_f2cd28694a\"\n",
      "                        \u001b[96mfinish_reason\u001b[0m: \"stop\"\n",
      "                        \u001b[96mlogprobs\u001b[0m: None\n",
      "                    \u001b[96mtype\u001b[0m: \"ai\"\n",
      "                    \u001b[96mname\u001b[0m: None\n",
      "                    \u001b[96mid\u001b[0m: \"run-72183168-eda5-4ba9-a4b7-c8485ed7dd70-0\"\n",
      "                    \u001b[96mexample\u001b[0m: False\n",
      "                    \u001b[96mtool_calls\u001b[0m:\n",
      "                    \u001b[96minvalid_tool_calls\u001b[0m:\n",
      "                    \u001b[96musage_metadata\u001b[0m:\n",
      "                        \u001b[96minput_tokens\u001b[0m: 7433\n",
      "                        \u001b[96moutput_tokens\u001b[0m: 23\n",
      "                        \u001b[96mtotal_tokens\u001b[0m: 7456\n",
      "                        \u001b[96minput_token_details\u001b[0m: {\"audio\": 0, \"cache_read\": 0}\n",
      "                        \u001b[96moutput_token_details\u001b[0m: {\"audio\": 0, \"reasoning\": 0}\n",
      "    \u001b[93mthread_id\u001b[0m: \"1\"\n",
      "    \u001b[93mstep\u001b[0m: 12\n",
      "    \u001b[93mparents\u001b[0m: {}\n"
     ]
    }
   ],
   "source": [
    "from langchain_teddynote.messages import display_message_tree\n",
    "\n",
    "# 메타데이터(tree 형태로 출력)\n",
    "display_message_tree(snapshot.metadata)"
   ]
  }
 ],
 "metadata": {
  "kernelspec": {
   "display_name": "venv",
   "language": "python",
   "name": "python3"
  },
  "language_info": {
   "codemirror_mode": {
    "name": "ipython",
    "version": 3
   },
   "file_extension": ".py",
   "mimetype": "text/x-python",
   "name": "python",
   "nbconvert_exporter": "python",
   "pygments_lexer": "ipython3",
   "version": "3.11.9"
  }
 },
 "nbformat": 4,
 "nbformat_minor": 2
}
