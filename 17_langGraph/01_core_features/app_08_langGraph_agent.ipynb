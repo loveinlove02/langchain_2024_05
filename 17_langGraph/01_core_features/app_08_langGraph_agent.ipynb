{
 "cells": [
  {
   "cell_type": "code",
   "execution_count": 1,
   "metadata": {},
   "outputs": [],
   "source": [
    "from dotenv import load_dotenv\n",
    "import os\n",
    "\n",
    "load_dotenv(verbose=True)\n",
    "key = os.getenv('OPENAI_API_KEY')"
   ]
  },
  {
   "cell_type": "markdown",
   "metadata": {},
   "source": [
    "### LangGraph 활용 Agent 구축"
   ]
  },
  {
   "cell_type": "code",
   "execution_count": 3,
   "metadata": {},
   "outputs": [],
   "source": [
    "from langchain_teddynote.tools.tavily import TavilySearch"
   ]
  },
  {
   "cell_type": "code",
   "execution_count": 5,
   "metadata": {},
   "outputs": [],
   "source": [
    "# 검색 도구 생성\n",
    "tool = TavilySearch(max_results=3)      \n",
    "\n",
    "# 도구 목록에 추가\n",
    "tools = [tool]      "
   ]
  },
  {
   "cell_type": "code",
   "execution_count": 6,
   "metadata": {},
   "outputs": [
    {
     "name": "stdout",
     "output_type": "stream",
     "text": [
      "[\"<document><title>소놀코딩_Sonol Coding - YouTube</title><url>https://www.youtube.com/@SONOL_FUN</url><content>소놀코딩은 코딩을 연구하고 공부하며 그 내용을 많은 분들과 나누고자 하는 채널입니다.소놀코딩과 함께 하시는 많은 분들이 코딩 학습을 통해</content></document>\", \"<document><title>소놀코딩 유튜브 채널로 코딩 배워보세요 : 네이버 블로그</title><url>https://m.blog.naver.com/nasu0210/222428706773</url><content>소놀코딩 유튜브 채널로 코딩 배워보세요 : 네이버 블로그 소놀코딩 유튜브 채널로 코딩 배워보세요 소놀코딩과 함께 하시는 많은 분들이 코딩 학습을 통해 문제해결력과 창의력을 키워 4차 산업혁명시대의 필수 인재로 성장할 수 있도록 돕고자 합니다. 소놀코딩 유튜브 채널에는 다양한 강의가 있습니다. 파이썬 강의입니다. 파이썬 왕기초, 기초, 중급 강의가 있습니다. C언어 강의입니다. 아두이노 강의입니다. 앱인벤터 강의입니다. 여러가지 메이커 프로젝트를 진행하면 코딩에 더욱 재미를 느낄 수 있습니다. 매주 금요일 7시에는 파이썬 왕기초 문제 풀이 강의를 업로드 하고 있습니다. 소프트웨어놀이터(코딩&메이커) : 네이버 카페코딩콘텐츠,SW,스크래치,앱인벤터2,아두이노,C언어, C#, 파이썬,IoT,사물인터넷, 클라우드, 빅데이터,웹 cafe.naver.com 소놀코딩_Sonol Coding소놀코딩은 코딩을 연구하고 공부하며 그 내용을 많은 분들과 나누고자 하는 채널입니다. 소놀코딩과 함께 하시는 많은 분들이 코딩 학습을 통해 문제해결력과 창의력을 키워 4차 산업혁명시대(인공지능, 사물인터넷, 빅데이터, 클라우드 등)의 필수 인재로 성장 할 수 있도록 돕고자 합니다. {\\\\\\\"title\\\\\\\":\\\\\\\"소놀코딩 유튜브 채널로 코딩 배워보세요\\\\\\\",\\\\\\\"source\\\\\\\":\\\\\\\"https://blog.naver.com/nasu0210/222428706773\\\\\\\",\\\\\\\"blogName\\\\\\\":\\\\\\\"소놀코딩[..\\\\\\\",\\\\\\\"domainIdOrBlogId\\\\\\\":\\\\\\\"nasu0210\\\\\\\",\\\\\\\"nicknameOrBlogId\\\\\\\":\\\\\\\"복쌤\\\\\\\",\\\\\\\"logNo\\\\\\\":222428706773,\\\\\\\"smartEditorVersion\\\\\\\":4,\\\\\\\"meDisplay\\\\\\\":true,\\\\\\\"lineDisplay\\\\\\\":true,\\\\\\\"outsideDisplay\\\\\\\":true,\\\\\\\"cafeDisplay\\\\\\\":true,\\\\\\\"blogDisplay\\\\\\\":true}</content><raw>소놀코딩 유튜브 채널로 코딩 배워보세요 : 네이버 블로그\\n \\n본문 바로가기\\n블로그\\n카테고리 이동 소놀코딩[개발자 실무교육 전문]\\n\\n검색 MY메뉴 열기\\nSW교육 소식공간\\n소놀코딩 유튜브 채널로 코딩 배워보세요\\n\\n복쌤\\n2021. 7. 12. 14:58\\n이웃추가\\n본문 기타 기능\\n\\n본문 폰트 크기 조정 본문 폰트 크기 작게 보기 본문 폰트 크기 크게 보기 가\\n\\n공감하기\\n\\n\\n공유하기\\n\\nURL복사\\n신고하기\\n\\n​\\n안녕하세요.\\n장마가 끝나고 본격적으로 찜통 더위가 시작되었습니다.\\n전국에 폭염 특보가 내려졌는데요.\\n밤 사이에도 열대야가 지속된다고 합니다.\\n건강 관리에 각별히 신경쓰시기 바랍니다.\\n​\\n\\n​\\n코딩에 대한 관심과 인기가 날이 갈수록 상승하고 있습니다.\\n그래서 전공자 뿐만 아니라 비전공자도 코딩을 배웁니다.\\n코딩 교육이 의무화 되면서 초등학생, 중학생, 고등학생도 코딩을 배우는데요.\\n오늘은 소프트웨어놀이터에서 운영하고 있는 소놀코딩 유튜브 채널을 소개시켜 드리겠습니다.\\n​\\n\\n​\\n소놀코딩은 코딩을 연구하고 공부하며 그 내용을 많은 분들과 나누고자 개설한 채널입니다.\\n소놀코딩과 함께 하시는 많은 분들이 코딩 학습을 통해 문제해결력과 창의력을 키워 4차 산업혁명시대의 필수 인재로 성장할 수 있도록 돕고자 합니다.\\n우리나라 모든 사람들이 코딩이 기본소양이 되는 그 날까지 소놀코딩은 끊임없이 연구하고 공부하고 공유할 것입니다.\\n​\\n\\n​\\n소놀코딩 유튜브 채널에는 다양한 강의가 있습니다.\\n여러가지 생생한 줌 라이브 영상이 있습니다.\\n​\\n\\n​\\n파이썬 강의입니다.\\n파이썬은 요즘 빅데이터 분석도 가능하기 때문에 인기있는 언어입니다.\\n파이썬은 텍스트 코딩을 처음으로 접하는 사람들이 가장 먼저 배우기 좋은 언어입니다.\\n파이썬 왕기초, 기초, 중급 강의가 있습니다.\\n왕기초 강의는 코딩에 입문하는 사람들에게 추천드립니다.\\n​\\n\\n​\\nC언어 강의입니다.\\nC언어는 코딩 언어 중 가장 먼저 개발된 언어입니다.\\n어렵고 까다롭지만 거의 모든 다른 언어들이 C언어에서 파생된 것이기 때문에 학습해둔다면 다른 언어를 공부할 때도 많은 도움이 될 것입니다.\\nC언어는 운영체제를 개발할 때 사용됩니다.\\n​\\n\\n​\\n자바 강의입니다.\\n자바는 C언어보다는 늦게 나왔지만 간략하고 쉬워 현재 세계에서 가장 많이 쓰이고 있는 언어입니다.\\n그리고 호환성과 생산성도 좋습니다.\\n자바는 웹, 앱 개발에 많이 사용하고 있습니다.\\n​\\n\\n​\\n아두이노 강의입니다.\\n아두이노는 다양한 부품과 센서를 연결하고 소프트웨어를 로드해 동작을 하게 합니다.\\n아두이노 보드는 저렴한 편이고 초보자들이 사용하기 쉽습니다.\\n아두이노를 활용해 로봇, IoT 제품들도 만들 수 있습니다.\\n​\\n\\n​\\n앱인벤터 강의입니다.\\n코딩을 처음 접하는 초등학생이나 중학생이 처음부터 프로그래밍 언어를 이해하는 것은 어려울 수 있습니다.\\n그래서 블록 코딩인 앱인벤터나 스크래치, 마이크로비트를 배우게 됩니다.\\n앱인벤터는 화면을 디자인하고 블럭을 끼워넣어 프로그램을 만들고 안드로이드 폰으로 확인할 수 있습니다.\\n​\\n\\n​\\n메이커 활동 강의입니다.\\n아두이노와 IoT 프로젝트 등의 메이커 과목은 회로와 코드 2가지를 다 알아야합니다.\\n여러가지 메이커 프로젝트를 진행하면 코딩에 더욱 재미를 느낄 수 있습니다.\\n​\\n\\n​\\n지금도 계속 업로드 되고 있는 강의는 두 개 있습니다.\\n매주 월요일, 수요일 7시에는 스크래치 3.0 버전 게임 만들기 강의가 업로드 됩니다.\\n스크래치는 블록 코딩이라 쉽고 게임까지 만들 수 있으니 재미는 두 배가 됩니다.\\n이 강의를 듣기 전에 스크래치 기초 강의를 먼저 듣는 것을 추천합니다.\\n​\\n\\n​\\n매주 금요일 7시에는 파이썬 왕기초 문제 풀이 강의를 업로드 하고 있습니다.\\n이 문제들은 정올 홈페이지에 있는 문제들입니다.\\n이 강의를 듣기 전에 파이썬 기초 강의를 먼저 듣는 것을 추천합니다.\\n​\\n이 외에 다른 강의들도 많이 있습니다.\\n​\\n소프트웨어놀이터(코딩&메이커) : 네이버 카페코딩콘텐츠,SW,스크래치,앱인벤터2,아두이노,C언어, C#, 파이썬,IoT,사물인터넷, 클라우드, 빅데이터,웹 cafe.naver.com\\n​\\n유튜브에 올라온 강의의 교재는 소프트웨어놀이터 카페에 전부 올라가있습니다.\\n​\\n소놀코딩_Sonol Coding소놀코딩은 코딩을 연구하고 공부하며 그 내용을 많은 분들과 나누고자 하는 채널입니다. 소놀코딩과 함께 하시는 많은 분들이 코딩 학습을 통해 문제해결력과 창의력을 키워 4차 산업혁명시대(인공지능, 사물인터넷, 빅데이터, 클라우드 등)의 필수 인재로 성장 할 수 있도록 돕고자 합니다. 그럼 우리나라 모든 사람들이 코딩이 기본소양이 될 그날까지 저희 소놀코딩도 끊임없이 연구하고 공부하고 공유하겠습니다. www.youtube.com\\n​\\n\\n#코딩\\n#코딩독학\\n#코딩유튜브\\n#파이썬\\n#C언어\\n#자바\\n#아두이노\\n#앱인벤터\\n#메이커활동\\n#스크래치\\n#소놀코딩\\n#소프트웨어놀이터\\n\\n\\n공감한 사람 보러가기\\n댓글 6 공유하기\\n{\\\"title\\\":\\\"소놀코딩 유튜브 채널로 코딩 배워보세요\\\",\\\"source\\\":\\\"https://blog.naver.com/nasu0210/222428706773\\\",\\\"blogName\\\":\\\"소놀코딩[..\\\",\\\"domainIdOrBlogId\\\":\\\"nasu0210\\\",\\\"nicknameOrBlogId\\\":\\\"복쌤\\\",\\\"logNo\\\":222428706773,\\\"smartEditorVersion\\\":4,\\\"meDisplay\\\":true,\\\"lineDisplay\\\":true,\\\"outsideDisplay\\\":true,\\\"cafeDisplay\\\":true,\\\"blogDisplay\\\":true}\\n닫기\\n카테고리\\n이 블로그 홈\\n\\n공감한 사람 보러가기\\n댓글 6 공유하기\\n복쌤(nasu0210) 님을 이웃추가하고 새글을 받아보세요\\n취소 이웃추가</raw></document>\", \"<document><title>[파이썬 기초] 파이썬 설치 및 실행하기 : 네이버 블로그</title><url>https://m.blog.naver.com/nasu0210/222276262754</url><content>카테고리 이동 소놀코딩[개발자 실무교육 전문] ... 소놀코딩의 파이썬 기초 강의인 파이썬 설치 및 실행 유튜브 채널을 참고하시기 바랍니다. 다음 시간에는 주석 처리하기에 대해 알아보겠습니다.</content><raw>\\n블로그\\n\\n\\n\\n\\n\\n카테고리 이동\\n\\n\\n\\n\\n소놀코딩[개발자 실무교육 전문]\\n\\n\\n\\n\\n[파이썬 기초] 파이썬 설치 및 실행하기\\n2021. 3. 15. 17:56\\n\\t\\n파이썬 소개\\n​\\n안녕하세요.\\n앞으로 파이썬 기초에 대해 배워보도록 하겠습니다.\\n오늘은 파이썬에 대해 알아보고 파이썬 설치 및 실행을 하는 시간을 가져보겠습니다.\\n파이썬(Python)은 현재 전 세계적으로 가장 많이 학습하는 프로그래밍 언어입니다.\\n다른 언어와 달리 문법이 쉬워 빠르게 배울 수 있고 무료로 사용이 가능합니다.\\n특히, 구글의 프로그램 50% 이상이 파이썬으로 개발되어 있습니다.\\n전공자 뿐만 아니라 비전공자의 컴퓨팅 사고력을 길러내기 위한 프로그래밍 입문 언어로도 많이 활용되고 있습니다.\\n그래서 프로그래밍 교육 분야 및 실무에서도 사용이 늘어나고 있습니다.\\n​\\n파이썬 설치\\n​\\n파이썬 기초 공부를 하기 위해서는 파이썬을 설치해야 합니다.\\n웹 브라우저에서 파이썬 공식 홈페이지(python.org)에 접속합니다.\\n​\\nThe official home of the Python Programming Language\\nwww.python.org\\n​\\n​\\n[Downloads] 탭에서 Python 3.x.x를 클릭합니다.\\n그러면 화면의 왼쪽 아래쪽에 다운로드 상태가 표시됩니다.\\n​\\n​\\n다운로드가 완료되면 폴더 열기(S)를 클릭합니다.\\n​\\n​\\n다운로드 된 파일을 클릭해 설치를 진행합니다.\\n​\\n​\\nAdd Python 3.x to PATH를 체크한 뒤 Install Now를 클릭합니다.\\nAdd Python 3.x to PATH를 선택해야 Windows의 환경 변수에 자동으로 등록이 가능해 따로 환경 변수를 설정할 필요는 없습니다.\\n​\\n​\\n그러면 설치가 진행됩니다.\\n​\\n​\\n설치가 완료되면 Close 버튼을 눌러 설치를 종료합니다.\\n설치는 생각보다 정말 간단합니다.\\n​\\n파이썬 쉘 사용하기\\n​\\n작업표시줄의 윈도우 버튼을 클릭한 뒤, 다음과 같이 설치된 파이썬 쉘 IDLE을 클릭합니다.\\n​\\n​\\n그러면 파이썬 쉘 IDLE이 실행됩니다.\\n​\\n​\\n파이썬 쉘에서 print('안녕하세요') 또는 print(\\\"안녕하세요\\\")를 작성하고 Enter를 눌러서 실행 결과를 확인합니다.\\n파이썬 쉘에서는 파이썬 명령어를 한 줄 한 줄 입력하면서 실행 결과를 확인할 수 있습니다.\\n​\\n파이썬 편집기에서 코드 작성 및 실행하기\\n​\\n파이썬 쉘에서 [File] 메뉴에서  [New File]을 클릭해 새로운 편집창을 열어줍니다.\\n그러면 untitled라는 창이 띄어집니다.\\n​\\n​\\n print('안녕하세요')\\nprint('반갑습니다')\\n편집기에서 다음과 같이 코드를 작성합니다.\\n파이썬 편집기에서는 파이썬 쉘과 달리 여러 줄의 소스 코드를 작성하고 실행할 수 있습니다.\\n​\\n​\\n실행을 하기 위해서는 우선 작성한 소스 파일을 저장해야 합니다.\\n[File] 메뉴에서  [Save]를 선택해 저장하고 싶은 경로를 설정해 저장합니다.\\n​\\n​\\n[Run] 메뉴에서 [Run Module]을 선택해서 실행합니다.\\n혹은 단축키 F5를 눌러도 실행 가능합니다.\\n​\\n​\\n안녕하세요\\n반갑습니다\\n그러면 다음과 같이 파이썬 쉘에 실행 결과가 나타납니다.\\n​\\n​\\n소놀코딩의 파이썬 기초 강의인 파이썬 설치 및 실행 유튜브 채널을 참고하시기 바랍니다.\\n다음 시간에는 주석 처리하기에 대해 알아보겠습니다.\\n​\\n대구광역시 수성구 달구벌대로526길 14 3층 소프트웨어놀이터\\n​\\n카테고리\\n</raw></document>\"]\n"
     ]
    }
   ],
   "source": [
    "print(tool.invoke(\"소놀코딩\"))"
   ]
  },
  {
   "cell_type": "code",
   "execution_count": 7,
   "metadata": {},
   "outputs": [],
   "source": [
    "from typing import Annotated\n",
    "from typing_extensions import TypedDict\n",
    "from langgraph.graph.message import add_messages"
   ]
  },
  {
   "cell_type": "code",
   "execution_count": 8,
   "metadata": {},
   "outputs": [],
   "source": [
    "class State(TypedDict):\n",
    "    messages: Annotated[list, add_messages]"
   ]
  },
  {
   "cell_type": "code",
   "execution_count": 9,
   "metadata": {},
   "outputs": [],
   "source": [
    "from langchain_openai import ChatOpenAI"
   ]
  },
  {
   "cell_type": "code",
   "execution_count": 10,
   "metadata": {},
   "outputs": [],
   "source": [
    "llm = ChatOpenAI(\n",
    "    api_key=key, \n",
    "    model_name='gpt-4o-mini',\n",
    "    temperature=0.1\n",
    ")"
   ]
  },
  {
   "cell_type": "code",
   "execution_count": 12,
   "metadata": {},
   "outputs": [],
   "source": [
    "llm_with_tools = llm.bind_tools(tools)"
   ]
  },
  {
   "cell_type": "code",
   "execution_count": 13,
   "metadata": {},
   "outputs": [],
   "source": [
    "def chatbot(state: State):\n",
    "    answer = llm_with_tools.invoke(state[\"messages\"])\n",
    "\n",
    "    return {\"messages\": [answer]}"
   ]
  },
  {
   "cell_type": "code",
   "execution_count": 14,
   "metadata": {},
   "outputs": [],
   "source": [
    "from langgraph.graph import StateGraph"
   ]
  },
  {
   "cell_type": "code",
   "execution_count": 15,
   "metadata": {},
   "outputs": [],
   "source": [
    "# 상태 그래프 초기화\n",
    "graph_builder = StateGraph(State)"
   ]
  },
  {
   "cell_type": "code",
   "execution_count": 16,
   "metadata": {},
   "outputs": [
    {
     "data": {
      "text/plain": [
       "<langgraph.graph.state.StateGraph at 0x1d174382a10>"
      ]
     },
     "execution_count": 16,
     "metadata": {},
     "output_type": "execute_result"
    }
   ],
   "source": [
    "# 노드 추가\n",
    "graph_builder.add_node(\"chatbot\", chatbot)"
   ]
  },
  {
   "cell_type": "code",
   "execution_count": 17,
   "metadata": {},
   "outputs": [],
   "source": [
    "import json\n",
    "from langchain_core.messages import ToolMessage\n",
    "\n",
    "\n",
    "class BasicToolNode:\n",
    "    \"\"\"Run tools requested in the last AIMessage node\"\"\"\n",
    "\n",
    "    def __init__(self, tools: list) -> None:\n",
    "        # 도구 리스트\n",
    "        self.tools_list = {tool.name: tool for tool in tools}\n",
    "\n",
    "    def __call__(self, inputs: dict):\n",
    "        # 메시지가 존재할 경우 가장 최근 메시지 1개 추출\n",
    "        if messages := inputs.get(\"messages\", []):\n",
    "            message = messages[-1]\n",
    "        else:\n",
    "            raise ValueError(\"No message found in input\")\n",
    "\n",
    "        # 도구 호출 결과\n",
    "        outputs = []\n",
    "\n",
    "        for tool_call in message.tool_calls:\n",
    "            # 도구 호출 후 결과 저장\n",
    "            tool_result = self.tools_list[tool_call[\"name\"]].invoke(tool_call[\"args\"])\n",
    "\n",
    "            outputs.append(\n",
    "                \n",
    "                ToolMessage(\n",
    "                    content=json.dumps(tool_result, ensure_ascii=False),  # 도구 호출 결과를 문자열로 변환\n",
    "                    name=tool_call[\"name\"],\n",
    "                    tool_call_id=tool_call[\"id\"],\n",
    "                )\n",
    "            )\n",
    "\n",
    "        return {\"messages\": outputs}"
   ]
  },
  {
   "cell_type": "code",
   "execution_count": 18,
   "metadata": {},
   "outputs": [],
   "source": [
    "# 도구 노드 생성\n",
    "tool_node = BasicToolNode(tools=[tool])"
   ]
  },
  {
   "cell_type": "code",
   "execution_count": 19,
   "metadata": {},
   "outputs": [
    {
     "data": {
      "text/plain": [
       "<langgraph.graph.state.StateGraph at 0x1d174382a10>"
      ]
     },
     "execution_count": 19,
     "metadata": {},
     "output_type": "execute_result"
    }
   ],
   "source": [
    "# 그래프에 도구 노드 추가\n",
    "graph_builder.add_node(\"tools\", tool_node)"
   ]
  },
  {
   "cell_type": "code",
   "execution_count": 20,
   "metadata": {},
   "outputs": [],
   "source": [
    "from langgraph.graph import START, END"
   ]
  },
  {
   "cell_type": "code",
   "execution_count": 22,
   "metadata": {},
   "outputs": [],
   "source": [
    "def route_tools(state: State,):\n",
    "    if messages := state.get(\"messages\", []):\n",
    "        ai_message = messages[-1]\n",
    "    else:\n",
    "        raise ValueError(f\"No messages found in input state to tool_edge: {state}\")\n",
    "\n",
    "\n",
    "    if hasattr(ai_message, \"tool_calls\") and len(ai_message.tool_calls) > 0:     # 도구 호출이 있는 경우 \"tools\" 반환       \n",
    "        return \"tools\"     \n",
    "\n",
    "    return END              # 도구 호출이 없는 경우 \"END\" 반환"
   ]
  },
  {
   "cell_type": "code",
   "execution_count": 23,
   "metadata": {},
   "outputs": [
    {
     "data": {
      "text/plain": [
       "<langgraph.graph.state.StateGraph at 0x1d174382a10>"
      ]
     },
     "execution_count": 23,
     "metadata": {},
     "output_type": "execute_result"
    }
   ],
   "source": [
    "graph_builder.add_conditional_edges(\n",
    "    source=\"chatbot\",\n",
    "    path=route_tools,    \n",
    "    path_map={\"tools\": \"tools\", END: END},      # route_tools 의 반환값이 \"tools\" 인 경우 \"tools\" 노드로, 그렇지 않으면 END 노드로 라우팅\n",
    ")"
   ]
  },
  {
   "cell_type": "code",
   "execution_count": 24,
   "metadata": {},
   "outputs": [
    {
     "data": {
      "text/plain": [
       "<langgraph.graph.state.StateGraph at 0x1d174382a10>"
      ]
     },
     "execution_count": 24,
     "metadata": {},
     "output_type": "execute_result"
    }
   ],
   "source": [
    "# tools > chatbot\n",
    "graph_builder.add_edge(\"tools\", \"chatbot\")"
   ]
  },
  {
   "cell_type": "code",
   "execution_count": 25,
   "metadata": {},
   "outputs": [
    {
     "data": {
      "text/plain": [
       "<langgraph.graph.state.StateGraph at 0x1d174382a10>"
      ]
     },
     "execution_count": 25,
     "metadata": {},
     "output_type": "execute_result"
    }
   ],
   "source": [
    "# START > chatbot\n",
    "graph_builder.add_edge(START, \"chatbot\")"
   ]
  },
  {
   "cell_type": "code",
   "execution_count": 26,
   "metadata": {},
   "outputs": [],
   "source": [
    "# 그래프 컴파일\n",
    "graph = graph_builder.compile()"
   ]
  },
  {
   "cell_type": "code",
   "execution_count": 27,
   "metadata": {},
   "outputs": [
    {
     "data": {
      "image/png": "[encoded data removed]",
      "text/plain": [
       "<IPython.core.display.Image object>"
      ]
     },
     "metadata": {},
     "output_type": "display_data"
    }
   ],
   "source": [
    "from langchain_teddynote.graphs import visualize_graph\n",
    "\n",
    "visualize_graph(graph)"
   ]
  },
  {
   "cell_type": "code",
   "execution_count": 28,
   "metadata": {},
   "outputs": [
    {
     "name": "stdout",
     "output_type": "stream",
     "text": [
      "\n",
      "==============\n",
      "STEP: messages\n",
      "==============\n",
      "\n",
      "content='소놀코딩 YouTube 채널에 대해서 검색해 줘' additional_kwargs={} response_metadata={} id='20ea5d72-7dbc-4525-8571-d3393fe50498'\n",
      "\n",
      "==============\n",
      "STEP: messages\n",
      "==============\n",
      "\n",
      "content='' additional_kwargs={'tool_calls': [{'id': 'call_CVs0k2smmC1MZCHH2nhl0Koj', 'function': {'arguments': '{\"query\":\"소놀코딩 YouTube 채널\"}', 'name': 'tavily_web_search'}, 'type': 'function'}], 'refusal': None} response_metadata={'token_usage': {'completion_tokens': 25, 'prompt_tokens': 105, 'total_tokens': 130, 'completion_tokens_details': {'accepted_prediction_tokens': 0, 'audio_tokens': 0, 'reasoning_tokens': 0, 'rejected_prediction_tokens': 0}, 'prompt_tokens_details': {'audio_tokens': 0, 'cached_tokens': 0}}, 'model_name': 'gpt-4o-mini-2024-07-18', 'system_fingerprint': 'fp_d02d531b47', 'finish_reason': 'tool_calls', 'logprobs': None} id='run-a8ab061d-1e1e-4c8b-bb03-ea36473a8b84-0' tool_calls=[{'name': 'tavily_web_search', 'args': {'query': '소놀코딩 YouTube 채널'}, 'id': 'call_CVs0k2smmC1MZCHH2nhl0Koj', 'type': 'tool_call'}] usage_metadata={'input_tokens': 105, 'output_tokens': 25, 'total_tokens': 130, 'input_token_details': {'audio': 0, 'cache_read': 0}, 'output_token_details': {'audio': 0, 'reasoning': 0}}\n",
      "\n",
      "==============\n",
      "STEP: messages\n",
      "==============\n",
      "\n",
      "content='\"[\\\\\"<document><title>소놀코딩 유튜브 채널로 코딩 배워보세요 - 네이버 블로그</title><url>https://m.blog.naver.com/nasu0210/222428706773</url><content>소놀코딩 유튜브 채널로 코딩 배워보세요 : 네이버 블로그 소놀코딩 유튜브 채널로 코딩 배워보세요 소놀코딩과 함께 하시는 많은 분들이 코딩 학습을 통해 문제해결력과 창의력을 키워 4차 산업혁명시대의 필수 인재로 성장할 수 있도록 돕고자 합니다. 소놀코딩 유튜브 채널에는 다양한 강의가 있습니다. 파이썬 강의입니다. 파이썬 왕기초, 기초, 중급 강의가 있습니다. C언어 강의입니다. 아두이노 강의입니다. 앱인벤터 강의입니다. 여러가지 메이커 프로젝트를 진행하면 코딩에 더욱 재미를 느낄 수 있습니다. 매주 금요일 7시에는 파이썬 왕기초 문제 풀이 강의를 업로드 하고 있습니다. 소프트웨어놀이터(코딩&메이커) : 네이버 카페코딩콘텐츠,SW,스크래치,앱인벤터2,아두이노,C언어, C#, 파이썬,IoT,사물인터넷, 클라우드, 빅데이터,웹 cafe.naver.com 소놀코딩_Sonol Coding소놀코딩은 코딩을 연구하고 공부하며 그 내용을 많은 분들과 나누고자 하는 채널입니다. 소놀코딩과 함께 하시는 많은 분들이 코딩 학습을 통해 문제해결력과 창의력을 키워 4차 산업혁명시대(인공지능, 사물인터넷, 빅데이터, 클라우드 등)의 필수 인재로 성장 할 수 있도록 돕고자 합니다. {\\\\\\\\\\\\\\\\\\\\\\\\\\\\\"title\\\\\\\\\\\\\\\\\\\\\\\\\\\\\":\\\\\\\\\\\\\\\\\\\\\\\\\\\\\"소놀코딩 유튜브 채널로 코딩 배워보세요\\\\\\\\\\\\\\\\\\\\\\\\\\\\\",\\\\\\\\\\\\\\\\\\\\\\\\\\\\\"source\\\\\\\\\\\\\\\\\\\\\\\\\\\\\":\\\\\\\\\\\\\\\\\\\\\\\\\\\\\"https://blog.naver.com/nasu0210/222428706773\\\\\\\\\\\\\\\\\\\\\\\\\\\\\",\\\\\\\\\\\\\\\\\\\\\\\\\\\\\"blogName\\\\\\\\\\\\\\\\\\\\\\\\\\\\\":\\\\\\\\\\\\\\\\\\\\\\\\\\\\\"소놀코딩[..\\\\\\\\\\\\\\\\\\\\\\\\\\\\\",\\\\\\\\\\\\\\\\\\\\\\\\\\\\\"domainIdOrBlogId\\\\\\\\\\\\\\\\\\\\\\\\\\\\\":\\\\\\\\\\\\\\\\\\\\\\\\\\\\\"nasu0210\\\\\\\\\\\\\\\\\\\\\\\\\\\\\",\\\\\\\\\\\\\\\\\\\\\\\\\\\\\"nicknameOrBlogId\\\\\\\\\\\\\\\\\\\\\\\\\\\\\":\\\\\\\\\\\\\\\\\\\\\\\\\\\\\"복쌤\\\\\\\\\\\\\\\\\\\\\\\\\\\\\",\\\\\\\\\\\\\\\\\\\\\\\\\\\\\"logNo\\\\\\\\\\\\\\\\\\\\\\\\\\\\\":222428706773,\\\\\\\\\\\\\\\\\\\\\\\\\\\\\"smartEditorVersion\\\\\\\\\\\\\\\\\\\\\\\\\\\\\":4,\\\\\\\\\\\\\\\\\\\\\\\\\\\\\"meDisplay\\\\\\\\\\\\\\\\\\\\\\\\\\\\\":true,\\\\\\\\\\\\\\\\\\\\\\\\\\\\\"lineDisplay\\\\\\\\\\\\\\\\\\\\\\\\\\\\\":true,\\\\\\\\\\\\\\\\\\\\\\\\\\\\\"outsideDisplay\\\\\\\\\\\\\\\\\\\\\\\\\\\\\":true,\\\\\\\\\\\\\\\\\\\\\\\\\\\\\"cafeDisplay\\\\\\\\\\\\\\\\\\\\\\\\\\\\\":true,\\\\\\\\\\\\\\\\\\\\\\\\\\\\\"blogDisplay\\\\\\\\\\\\\\\\\\\\\\\\\\\\\":true}</content><raw>소놀코딩 유튜브 채널로 코딩 배워보세요 : 네이버 블로그\\\\\\\\n \\\\\\\\n본문 바로가기\\\\\\\\n블로그\\\\\\\\n카테고리 이동 소놀코딩[개발자 실무교육 전문]\\\\\\\\n\\\\\\\\n검색 MY메뉴 열기\\\\\\\\nSW교육 소식공간\\\\\\\\n소놀코딩 유튜브 채널로 코딩 배워보세요\\\\\\\\n\\\\\\\\n복쌤\\\\\\\\n2021. 7. 12. 14:58\\\\\\\\n이웃추가\\\\\\\\n본문 기타 기능\\\\\\\\n\\\\\\\\n본문 폰트 크기 조정 본문 폰트 크기 작게 보기 본문 폰트 크기 크게 보기 가\\\\\\\\n\\\\\\\\n공감하기\\\\\\\\n\\\\\\\\n\\\\\\\\n공유하기\\\\\\\\n\\\\\\\\nURL복사\\\\\\\\n신고하기\\\\\\\\n\\\\\\\\n\\u200b\\\\\\\\n안녕하세요.\\\\\\\\n장마가 끝나고 본격적으로 찜통 더위가 시작되었습니다.\\\\\\\\n전국에 폭염 특보가 내려졌는데요.\\\\\\\\n밤 사이에도 열대야가 지속된다고 합니다.\\\\\\\\n건강 관리에 각별히 신경쓰시기 바랍니다.\\\\\\\\n\\u200b\\\\\\\\n\\\\\\\\n\\u200b\\\\\\\\n코딩에 대한 관심과 인기가 날이 갈수록 상승하고 있습니다.\\\\\\\\n그래서 전공자 뿐만 아니라 비전공자도 코딩을 배웁니다.\\\\\\\\n코딩 교육이 의무화 되면서 초등학생, 중학생, 고등학생도 코딩을 배우는데요.\\\\\\\\n오늘은 소프트웨어놀이터에서 운영하고 있는 소놀코딩 유튜브 채널을 소개시켜 드리겠습니다.\\\\\\\\n\\u200b\\\\\\\\n\\\\\\\\n\\u200b\\\\\\\\n소놀코딩은 코딩을 연구하고 공부하며 그 내용을 많은 분들과 나누고자 개설한 채널입니다.\\\\\\\\n소놀코딩과 함께 하시는 많은 분들이 코딩 학습을 통해 문제해결력과 창의력을 키워 4차 산업혁명시대의 필수 인재로 성장할 수 있도록 돕고자 합니다.\\\\\\\\n우리나라 모든 사람들이 코딩이 기본소양이 되는 그 날까지 소놀코딩은 끊임없이 연구하고 공부하고 공유할 것입니다.\\\\\\\\n\\u200b\\\\\\\\n\\\\\\\\n\\u200b\\\\\\\\n소놀코딩 유튜브 채널에는 다양한 강의가 있습니다.\\\\\\\\n여러가지 생생한 줌 라이브 영상이 있습니다.\\\\\\\\n\\u200b\\\\\\\\n\\\\\\\\n\\u200b\\\\\\\\n파이썬 강의입니다.\\\\\\\\n파이썬은 요즘 빅데이터 분석도 가능하기 때문에 인기있는 언어입니다.\\\\\\\\n파이썬은 텍스트 코딩을 처음으로 접하는 사람들이 가장 먼저 배우기 좋은 언어입니다.\\\\\\\\n파이썬 왕기초, 기초, 중급 강의가 있습니다.\\\\\\\\n왕기초 강의는 코딩에 입문하는 사람들에게 추천드립니다.\\\\\\\\n\\u200b\\\\\\\\n\\\\\\\\n\\u200b\\\\\\\\nC언어 강의입니다.\\\\\\\\nC언어는 코딩 언어 중 가장 먼저 개발된 언어입니다.\\\\\\\\n어렵고 까다롭지만 거의 모든 다른 언어들이 C언어에서 파생된 것이기 때문에 학습해둔다면 다른 언어를 공부할 때도 많은 도움이 될 것입니다.\\\\\\\\nC언어는 운영체제를 개발할 때 사용됩니다.\\\\\\\\n\\u200b\\\\\\\\n\\\\\\\\n\\u200b\\\\\\\\n자바 강의입니다.\\\\\\\\n자바는 C언어보다는 늦게 나왔지만 간략하고 쉬워 현재 세계에서 가장 많이 쓰이고 있는 언어입니다.\\\\\\\\n그리고 호환성과 생산성도 좋습니다.\\\\\\\\n자바는 웹, 앱 개발에 많이 사용하고 있습니다.\\\\\\\\n\\u200b\\\\\\\\n\\\\\\\\n\\u200b\\\\\\\\n아두이노 강의입니다.\\\\\\\\n아두이노는 다양한 부품과 센서를 연결하고 소프트웨어를 로드해 동작을 하게 합니다.\\\\\\\\n아두이노 보드는 저렴한 편이고 초보자들이 사용하기 쉽습니다.\\\\\\\\n아두이노를 활용해 로봇, IoT 제품들도 만들 수 있습니다.\\\\\\\\n\\u200b\\\\\\\\n\\\\\\\\n\\u200b\\\\\\\\n앱인벤터 강의입니다.\\\\\\\\n코딩을 처음 접하는 초등학생이나 중학생이 처음부터 프로그래밍 언어를 이해하는 것은 어려울 수 있습니다.\\\\\\\\n그래서 블록 코딩인 앱인벤터나 스크래치, 마이크로비트를 배우게 됩니다.\\\\\\\\n앱인벤터는 화면을 디자인하고 블럭을 끼워넣어 프로그램을 만들고 안드로이드 폰으로 확인할 수 있습니다.\\\\\\\\n\\u200b\\\\\\\\n\\\\\\\\n\\u200b\\\\\\\\n메이커 활동 강의입니다.\\\\\\\\n아두이노와 IoT 프로젝트 등의 메이커 과목은 회로와 코드 2가지를 다 알아야합니다.\\\\\\\\n여러가지 메이커 프로젝트를 진행하면 코딩에 더욱 재미를 느낄 수 있습니다.\\\\\\\\n\\u200b\\\\\\\\n\\\\\\\\n\\u200b\\\\\\\\n지금도 계속 업로드 되고 있는 강의는 두 개 있습니다.\\\\\\\\n매주 월요일, 수요일 7시에는 스크래치 3.0 버전 게임 만들기 강의가 업로드 됩니다.\\\\\\\\n스크래치는 블록 코딩이라 쉽고 게임까지 만들 수 있으니 재미는 두 배가 됩니다.\\\\\\\\n이 강의를 듣기 전에 스크래치 기초 강의를 먼저 듣는 것을 추천합니다.\\\\\\\\n\\u200b\\\\\\\\n\\\\\\\\n\\u200b\\\\\\\\n매주 금요일 7시에는 파이썬 왕기초 문제 풀이 강의를 업로드 하고 있습니다.\\\\\\\\n이 문제들은 정올 홈페이지에 있는 문제들입니다.\\\\\\\\n이 강의를 듣기 전에 파이썬 기초 강의를 먼저 듣는 것을 추천합니다.\\\\\\\\n\\u200b\\\\\\\\n이 외에 다른 강의들도 많이 있습니다.\\\\\\\\n\\u200b\\\\\\\\n소프트웨어놀이터(코딩&메이커) : 네이버 카페코딩콘텐츠,SW,스크래치,앱인벤터2,아두이노,C언어, C#, 파이썬,IoT,사물인터넷, 클라우드, 빅데이터,웹 cafe.naver.com\\\\\\\\n\\u200b\\\\\\\\n유튜브에 올라온 강의의 교재는 소프트웨어놀이터 카페에 전부 올라가있습니다.\\\\\\\\n\\u200b\\\\\\\\n소놀코딩_Sonol Coding소놀코딩은 코딩을 연구하고 공부하며 그 내용을 많은 분들과 나누고자 하는 채널입니다. 소놀코딩과 함께 하시는 많은 분들이 코딩 학습을 통해 문제해결력과 창의력을 키워 4차 산업혁명시대(인공지능, 사물인터넷, 빅데이터, 클라우드 등)의 필수 인재로 성장 할 수 있도록 돕고자 합니다. 그럼 우리나라 모든 사람들이 코딩이 기본소양이 될 그날까지 저희 소놀코딩도 끊임없이 연구하고 공부하고 공유하겠습니다. www.youtube.com\\\\\\\\n\\u200b\\\\\\\\n\\\\\\\\n#코딩\\\\\\\\n#코딩독학\\\\\\\\n#코딩유튜브\\\\\\\\n#파이썬\\\\\\\\n#C언어\\\\\\\\n#자바\\\\\\\\n#아두이노\\\\\\\\n#앱인벤터\\\\\\\\n#메이커활동\\\\\\\\n#스크래치\\\\\\\\n#소놀코딩\\\\\\\\n#소프트웨어놀이터\\\\\\\\n\\\\\\\\n\\\\\\\\n공감한 사람 보러가기\\\\\\\\n댓글 6 공유하기\\\\\\\\n{\\\\\\\\\\\\\"title\\\\\\\\\\\\\":\\\\\\\\\\\\\"소놀코딩 유튜브 채널로 코딩 배워보세요\\\\\\\\\\\\\",\\\\\\\\\\\\\"source\\\\\\\\\\\\\":\\\\\\\\\\\\\"https://blog.naver.com/nasu0210/222428706773\\\\\\\\\\\\\",\\\\\\\\\\\\\"blogName\\\\\\\\\\\\\":\\\\\\\\\\\\\"소놀코딩[..\\\\\\\\\\\\\",\\\\\\\\\\\\\"domainIdOrBlogId\\\\\\\\\\\\\":\\\\\\\\\\\\\"nasu0210\\\\\\\\\\\\\",\\\\\\\\\\\\\"nicknameOrBlogId\\\\\\\\\\\\\":\\\\\\\\\\\\\"복쌤\\\\\\\\\\\\\",\\\\\\\\\\\\\"logNo\\\\\\\\\\\\\":222428706773,\\\\\\\\\\\\\"smartEditorVersion\\\\\\\\\\\\\":4,\\\\\\\\\\\\\"meDisplay\\\\\\\\\\\\\":true,\\\\\\\\\\\\\"lineDisplay\\\\\\\\\\\\\":true,\\\\\\\\\\\\\"outsideDisplay\\\\\\\\\\\\\":true,\\\\\\\\\\\\\"cafeDisplay\\\\\\\\\\\\\":true,\\\\\\\\\\\\\"blogDisplay\\\\\\\\\\\\\":true}\\\\\\\\n닫기\\\\\\\\n카테고리\\\\\\\\n이 블로그 홈\\\\\\\\n\\\\\\\\n공감한 사람 보러가기\\\\\\\\n댓글 6 공유하기\\\\\\\\n복쌤(nasu0210) 님을 이웃추가하고 새글을 받아보세요\\\\\\\\n취소 이웃추가</raw></document>\\\\\", \\\\\"<document><title>소놀코딩_Sonol Coding - YouTube</title><url>https://www.youtube.com/c/SONOL_FUN/videos</url><content>소놀코딩_Sonol Coding. @SONOL_FUN. 28.3K subscribers•737 videos. 소놀코딩은 코딩을 연구하고 공부하며 그 내용을 많은 분들과 나누고자 하는 채널입니다. ...more</content></document>\\\\\", \\\\\"<document><title>소놀코딩_Sonol Coding - YouTube</title><url>https://www.youtube.com/c/SONOL_FUN</url><content>소놀코딩_Sonol Coding. @SONOL_FUN. 29.2K subscribers•737 videos. 소놀코딩은 코딩을 연구하고 공부하며 그 내용을 많은 분들과 나누고자 하는 채널입니다. ...more</content></document>\\\\\"]\"' name='tavily_web_search' id='6fd0e7b2-aff9-42b5-a484-7a9b347b131c' tool_call_id='call_CVs0k2smmC1MZCHH2nhl0Koj'\n",
      "\n",
      "==============\n",
      "STEP: messages\n",
      "==============\n",
      "\n",
      "content='소놀코딩(Sonol Coding) 유튜브 채널은 코딩을 연구하고 공부하며 그 내용을 많은 사람들과 나누기 위해 개설된 채널입니다. 이 채널은 다양한 프로그래밍 언어와 기술에 대한 강의를 제공합니다. 주요 내용은 다음과 같습니다:\\n\\n1. **강의 내용**:\\n   - **파이썬**: 왕기초, 기초, 중급 강의가 있으며, 빅데이터 분석에도 사용되는 인기 있는 언어입니다.\\n   - **C언어**: 코딩 언어 중 가장 먼저 개발된 언어로, 다른 언어를 배우는 데 도움이 됩니다.\\n   - **자바**: 웹 및 앱 개발에 많이 사용되는 언어입니다.\\n   - **아두이노**: 다양한 부품과 센서를 연결하여 로봇 및 IoT 제품을 만드는 데 사용됩니다.\\n   - **앱인벤터**: 블록 코딩을 통해 프로그래밍을 배우는 데 적합한 도구입니다.\\n   - **메이커 활동**: 아두이노와 IoT 프로젝트를 통해 코딩의 재미를 느낄 수 있습니다.\\n\\n2. **업로드 일정**:\\n   - 매주 월요일, 수요일 7시에 스크래치 3.0 버전 게임 만들기 강의가 업로드됩니다.\\n   - 매주 금요일 7시에 파이썬 왕기초 문제 풀이 강의가 업로드됩니다.\\n\\n3. **구독자 수**: 약 28.3K ~ 29.2K명의 구독자를 보유하고 있으며, 737개의 비디오가 업로드되어 있습니다.\\n\\n4. **링크**: [소놀코딩 유튜브 채널](https://www.youtube.com/c/SONOL_FUN)\\n\\n더 자세한 정보는 [네이버 블로그](https://blog.naver.com/nasu0210/222428706773)에서도 확인할 수 있습니다.' additional_kwargs={'refusal': None} response_metadata={'token_usage': {'completion_tokens': 419, 'prompt_tokens': 2838, 'total_tokens': 3257, 'completion_tokens_details': {'accepted_prediction_tokens': 0, 'audio_tokens': 0, 'reasoning_tokens': 0, 'rejected_prediction_tokens': 0}, 'prompt_tokens_details': {'audio_tokens': 0, 'cached_tokens': 0}}, 'model_name': 'gpt-4o-mini-2024-07-18', 'system_fingerprint': 'fp_0aa8d3e20b', 'finish_reason': 'stop', 'logprobs': None} id='run-4ecc6551-9ef6-423a-8d26-d987e2c190ad-0' usage_metadata={'input_tokens': 2838, 'output_tokens': 419, 'total_tokens': 3257, 'input_token_details': {'audio': 0, 'cache_read': 0}, 'output_token_details': {'audio': 0, 'reasoning': 0}}\n"
     ]
    }
   ],
   "source": [
    "inputs = {\"messages\": \"소놀코딩 YouTube 채널에 대해서 검색해 줘\"}\n",
    "\n",
    "for event in graph.stream(inputs, stream_mode=\"values\"):\n",
    "    for key, value in event.items():\n",
    "        print(f\"\\n==============\\nSTEP: {key}\\n==============\\n\")\n",
    "        # display_message_tree(value[\"messages\"][-1])\n",
    "        print(value[-1])"
   ]
  }
 ],
 "metadata": {
  "kernelspec": {
   "display_name": "venv",
   "language": "python",
   "name": "python3"
  },
  "language_info": {
   "codemirror_mode": {
    "name": "ipython",
    "version": 3
   },
   "file_extension": ".py",
   "mimetype": "text/x-python",
   "name": "python",
   "nbconvert_exporter": "python",
   "pygments_lexer": "ipython3",
   "version": "3.11.9"
  }
 },
 "nbformat": 4,
 "nbformat_minor": 2
}
