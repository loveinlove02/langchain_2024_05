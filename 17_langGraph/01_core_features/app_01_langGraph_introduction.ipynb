{
 "cells": [
  {
   "cell_type": "code",
   "execution_count": 1,
   "metadata": {},
   "outputs": [],
   "source": [
    "from dotenv import load_dotenv\n",
    "import os\n",
    "\n",
    "load_dotenv(verbose=True)\n",
    "key = os.getenv('OPENAI_API_KEY')"
   ]
  },
  {
   "cell_type": "markdown",
   "metadata": {},
   "source": [
    "TypedDict"
   ]
  },
  {
   "cell_type": "code",
   "execution_count": 2,
   "metadata": {},
   "outputs": [],
   "source": [
    "from typing import Dict, TypedDict\n",
    "\n",
    "class Person(TypedDict):\n",
    "    name: str\n",
    "    age: int    # int 타입으로 넣기\n",
    "    job: str"
   ]
  },
  {
   "cell_type": "code",
   "execution_count": 3,
   "metadata": {},
   "outputs": [
    {
     "data": {
      "text/plain": [
       "{'name': '홍길동', 'age': 20, 'job': '프로그래머'}"
      ]
     },
     "execution_count": 3,
     "metadata": {},
     "output_type": "execute_result"
    }
   ],
   "source": [
    "hong: Person = {'name': '홍길동', 'age': 20, 'job': '프로그래머'}\n",
    "hong"
   ]
  },
  {
   "cell_type": "code",
   "execution_count": 4,
   "metadata": {},
   "outputs": [
    {
     "data": {
      "text/plain": [
       "'홍길동'"
      ]
     },
     "execution_count": 4,
     "metadata": {},
     "output_type": "execute_result"
    }
   ],
   "source": [
    "hong['name']"
   ]
  },
  {
   "cell_type": "code",
   "execution_count": 5,
   "metadata": {},
   "outputs": [
    {
     "data": {
      "text/plain": [
       "20"
      ]
     },
     "execution_count": 5,
     "metadata": {},
     "output_type": "execute_result"
    }
   ],
   "source": [
    "hong['age']"
   ]
  },
  {
   "cell_type": "markdown",
   "metadata": {},
   "source": [
    "Annotated"
   ]
  },
  {
   "cell_type": "code",
   "execution_count": 6,
   "metadata": {},
   "outputs": [],
   "source": [
    "from typing import Annotated\n",
    "\n",
    "name: Annotated[str, \"사용자 이름\"]\n",
    "age: Annotated[int, \"사용자 나이 (0-150)\"]"
   ]
  },
  {
   "cell_type": "code",
   "execution_count": 7,
   "metadata": {},
   "outputs": [],
   "source": [
    "from typing import Annotated, List\n",
    "from pydantic import Field, BaseModel, ValidationError\n",
    "\n",
    "class Employee(BaseModel):\n",
    "    id: Annotated[int, Field(..., description=\"직원 ID\")]\n",
    "    name: Annotated[str, Field(..., min_length=3, max_length=50, description=\"이름\")]\n",
    "    age: Annotated[int, Field(gt=18, lt=65, description=\"나이 (19-99세)\")]\n",
    "    salary: Annotated[float, Field(gt=0, lt=10000, description=\"연봉 (단위: 만원, 최대 10억)\")]\n",
    "    skills: Annotated[List[str], Field(min_items=1, max_items=10, description=\"보유 기술 (1-10개)\")]"
   ]
  },
  {
   "cell_type": "code",
   "execution_count": 8,
   "metadata": {},
   "outputs": [
    {
     "name": "stdout",
     "output_type": "stream",
     "text": [
      "유효한 직원 데이터: id=1 name='홍길동' age=30 salary=8000.0 skills=['Python', 'LangChain']\n"
     ]
    }
   ],
   "source": [
    "# 유효한 데이터로 인스턴스 생성\n",
    "try:\n",
    "    valid_employee = Employee(\n",
    "        id=1, \n",
    "        name=\"홍길동\", \n",
    "        age=30, \n",
    "        salary=8000, \n",
    "        skills=[\"Python\", \"LangChain\"]\n",
    "    )\n",
    "\n",
    "    print(\"유효한 직원 데이터:\", valid_employee)    \n",
    "except ValidationError as e:\n",
    "    print(\"유효성 검사 오류:\", e)"
   ]
  },
  {
   "cell_type": "code",
   "execution_count": 9,
   "metadata": {},
   "outputs": [
    {
     "name": "stdout",
     "output_type": "stream",
     "text": [
      "유효성 검사 오류:\n",
      "- id: Field required\n",
      "- name: String should have at least 3 characters\n",
      "- age: Input should be greater than 18\n",
      "- salary: Input should be less than 10000\n",
      "- skills: Input should be a valid list\n"
     ]
    }
   ],
   "source": [
    "# 유효하지 않은 데이터로 인스턴스 생성 시도\n",
    "try:\n",
    "    invalid_employee = Employee(\n",
    "        name=\"윤정\",        # 이름이 너무 짧음\n",
    "        age=9,              # 나이가 범위를 벗어남\n",
    "        salary=20000,       # 급여가 범위를 벗어남\n",
    "        skills=\"Python\",    # 리스트가 아님\n",
    "    )\n",
    "except ValidationError as e:\n",
    "    print(\"유효성 검사 오류:\")\n",
    "    for error in e.errors():\n",
    "        print(f\"- {error['loc'][0]}: {error['msg']}\")"
   ]
  },
  {
   "cell_type": "markdown",
   "metadata": {},
   "source": [
    "### LangGraph에서의 사용(add_messages)\n",
    "\n",
    "`add_messages` 는 LangGraph 에서 메시지를 리스트에 추가하는 함수입니다."
   ]
  },
  {
   "cell_type": "code",
   "execution_count": 10,
   "metadata": {},
   "outputs": [],
   "source": [
    "from typing import Annotated, TypedDict\n",
    "from langgraph.graph import add_messages\n",
    "\n",
    "class MyData(TypedDict):\n",
    "    messages: Annotated[list, add_messages]"
   ]
  },
  {
   "cell_type": "markdown",
   "metadata": {},
   "source": [
    "### add_messages\n",
    "\n",
    "`messages` 키는 `add_messages` 리듀서 함수로 주석이 달려 있으며, 이는 LangGraph에게 기존 목록에 새 메시지를 추가하도록 지시합니다. <br>\n",
    "\n",
    "주석이 없는 상태 키는 각 업데이트에 의해 덮어쓰여져 가장 최근의 값이 저장됩니다. <br>\n",
    "\n",
    "`add_messages` 함수는 2개의 인자(left, right)를 받으며 좌, 우 메시지를 병합하는 방식으로 동작합니다."
   ]
  },
  {
   "cell_type": "code",
   "execution_count": 11,
   "metadata": {},
   "outputs": [
    {
     "name": "stdout",
     "output_type": "stream",
     "text": [
      "[HumanMessage(content='안녕하세요?', additional_kwargs={}, response_metadata={}, id='1'), AIMessage(content='반갑습니다~', additional_kwargs={}, response_metadata={}, id='2')]\n"
     ]
    }
   ],
   "source": [
    "from langchain_core.messages import AIMessage, HumanMessage\n",
    "from langgraph.graph import add_messages\n",
    "\n",
    "# 기본 사용 예시\n",
    "msgs1 = [HumanMessage(content=\"안녕하세요?\", id=\"1\")]\n",
    "msgs2 = [AIMessage(content=\"반갑습니다~\",    id=\"2\")]\n",
    "\n",
    "result1 = add_messages(msgs1, msgs2)\n",
    "print(result1)"
   ]
  }
 ],
 "metadata": {
  "kernelspec": {
   "display_name": "venv",
   "language": "python",
   "name": "python3"
  },
  "language_info": {
   "codemirror_mode": {
    "name": "ipython",
    "version": 3
   },
   "file_extension": ".py",
   "mimetype": "text/x-python",
   "name": "python",
   "nbconvert_exporter": "python",
   "pygments_lexer": "ipython3",
   "version": "3.11.9"
  }
 },
 "nbformat": 4,
 "nbformat_minor": 2
}
