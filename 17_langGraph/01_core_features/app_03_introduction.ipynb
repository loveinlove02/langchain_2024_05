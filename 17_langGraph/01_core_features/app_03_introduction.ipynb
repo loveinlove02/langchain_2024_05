{
 "cells": [
  {
   "cell_type": "code",
   "execution_count": 1,
   "metadata": {},
   "outputs": [],
   "source": [
    "from typing import Annotated, TypedDict\n",
    "from langgraph.graph.message import add_messages\n",
    "\n",
    "class State(TypedDict):\n",
    "    messages: Annotated[list, add_messages]"
   ]
  },
  {
   "cell_type": "code",
   "execution_count": 2,
   "metadata": {},
   "outputs": [],
   "source": [
    "def chatbot(state: State):\n",
    "    return {\"messages\": [state[\"messages\"]]}"
   ]
  },
  {
   "cell_type": "code",
   "execution_count": 3,
   "metadata": {},
   "outputs": [],
   "source": [
    "empty_state = State(messages=[])"
   ]
  },
  {
   "cell_type": "code",
   "execution_count": 4,
   "metadata": {},
   "outputs": [],
   "source": [
    "initial_state = State(messages=[\n",
    "    {\"role\": \"user\", \"content\": \"안녕하세요! 오늘 날씨가 어떤가요?\"}\n",
    "])"
   ]
  },
  {
   "cell_type": "code",
   "execution_count": 10,
   "metadata": {},
   "outputs": [
    {
     "name": "stdout",
     "output_type": "stream",
     "text": [
      "안녕하세요! 오늘 날씨가 어떤가요?\n"
     ]
    }
   ],
   "source": [
    "print(initial_state['messages'][0]['content'])"
   ]
  },
  {
   "cell_type": "code",
   "execution_count": 11,
   "metadata": {},
   "outputs": [],
   "source": [
    "conversation_state = State(messages=[\n",
    "    {\"role\": \"user\", \"content\": \"인공지능에 대해 설명해주세요.\"},\n",
    "    {\"role\": \"assistant\", \"content\": \"인공지능(AI)은 인간의 학습능력, 추론능력, 지각능력을 인공적으로 구현한 컴퓨터 시스템을 말합니다.\"}\n",
    "])"
   ]
  },
  {
   "cell_type": "code",
   "execution_count": 12,
   "metadata": {},
   "outputs": [],
   "source": [
    "updated_state = State(messages=add_messages(initial_state['messages'], conversation_state['messages']))"
   ]
  },
  {
   "cell_type": "code",
   "execution_count": 13,
   "metadata": {},
   "outputs": [
    {
     "data": {
      "text/plain": [
       "{'messages': [HumanMessage(content='안녕하세요! 오늘 날씨가 어떤가요?', additional_kwargs={}, response_metadata={}, id='8c3cac65-6f85-4823-b097-34151b0fe957'),\n",
       "  HumanMessage(content='인공지능에 대해 설명해주세요.', additional_kwargs={}, response_metadata={}, id='bffcf0aa-b5df-44c9-a497-4560f6b2b5f2'),\n",
       "  AIMessage(content='인공지능(AI)은 인간의 학습능력, 추론능력, 지각능력을 인공적으로 구현한 컴퓨터 시스템을 말합니다.', additional_kwargs={}, response_metadata={}, id='dd44d4a9-0d28-4332-ab11-56528b799011')]}"
      ]
     },
     "execution_count": 13,
     "metadata": {},
     "output_type": "execute_result"
    }
   ],
   "source": [
    "updated_state"
   ]
  },
  {
   "cell_type": "code",
   "execution_count": 14,
   "metadata": {},
   "outputs": [],
   "source": [
    "conversation_state2 = State(messages=[\n",
    "    {\"role\": \"user\", \"content\": \"다음 질문에 답변해주세요.\"}\n",
    "])"
   ]
  },
  {
   "cell_type": "code",
   "execution_count": 15,
   "metadata": {},
   "outputs": [],
   "source": [
    "updated_state = State(messages=add_messages(updated_state['messages'], conversation_state2['messages']))"
   ]
  },
  {
   "cell_type": "code",
   "execution_count": 16,
   "metadata": {},
   "outputs": [
    {
     "data": {
      "text/plain": [
       "{'messages': [HumanMessage(content='안녕하세요! 오늘 날씨가 어떤가요?', additional_kwargs={}, response_metadata={}, id='8c3cac65-6f85-4823-b097-34151b0fe957'),\n",
       "  HumanMessage(content='인공지능에 대해 설명해주세요.', additional_kwargs={}, response_metadata={}, id='bffcf0aa-b5df-44c9-a497-4560f6b2b5f2'),\n",
       "  AIMessage(content='인공지능(AI)은 인간의 학습능력, 추론능력, 지각능력을 인공적으로 구현한 컴퓨터 시스템을 말합니다.', additional_kwargs={}, response_metadata={}, id='dd44d4a9-0d28-4332-ab11-56528b799011'),\n",
       "  HumanMessage(content='다음 질문에 답변해주세요.', additional_kwargs={}, response_metadata={}, id='6d62fd10-8dc2-4675-ad86-fb3d0bbd5a7b')]}"
      ]
     },
     "execution_count": 16,
     "metadata": {},
     "output_type": "execute_result"
    }
   ],
   "source": [
    "updated_state"
   ]
  }
 ],
 "metadata": {
  "kernelspec": {
   "display_name": "venv",
   "language": "python",
   "name": "python3"
  },
  "language_info": {
   "codemirror_mode": {
    "name": "ipython",
    "version": 3
   },
   "file_extension": ".py",
   "mimetype": "text/x-python",
   "name": "python",
   "nbconvert_exporter": "python",
   "pygments_lexer": "ipython3",
   "version": "3.11.9"
  }
 },
 "nbformat": 4,
 "nbformat_minor": 2
}
