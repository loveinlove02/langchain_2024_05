{
 "cells": [
  {
   "cell_type": "code",
   "execution_count": 1,
   "metadata": {},
   "outputs": [],
   "source": [
    "from typing import Annotated, TypedDict\n",
    "from langgraph.graph.message import add_messages\n",
    "\n",
    "class State(TypedDict):\n",
    "    messages: Annotated[list, add_messages]"
   ]
  },
  {
   "cell_type": "code",
   "execution_count": 2,
   "metadata": {},
   "outputs": [],
   "source": [
    "def chatbot(state: State):\n",
    "    return {\"messages\": [state[\"messages\"]]}"
   ]
  },
  {
   "cell_type": "code",
   "execution_count": 3,
   "metadata": {},
   "outputs": [],
   "source": [
    "empty_state = State(messages=[])"
   ]
  },
  {
   "cell_type": "code",
   "execution_count": 17,
   "metadata": {},
   "outputs": [
    {
     "data": {
      "text/plain": [
       "{'messages': [[]]}"
      ]
     },
     "execution_count": 17,
     "metadata": {},
     "output_type": "execute_result"
    }
   ],
   "source": [
    "chatbot(empty_state)"
   ]
  },
  {
   "cell_type": "code",
   "execution_count": 4,
   "metadata": {},
   "outputs": [],
   "source": [
    "initial_state = State(messages=[\n",
    "    {\"role\": \"user\", \"content\": \"안녕하세요! 오늘 날씨가 어떤가요?\"}\n",
    "])"
   ]
  },
  {
   "cell_type": "code",
   "execution_count": 5,
   "metadata": {},
   "outputs": [
    {
     "name": "stdout",
     "output_type": "stream",
     "text": [
      "안녕하세요! 오늘 날씨가 어떤가요?\n"
     ]
    }
   ],
   "source": [
    "print(initial_state['messages'][0]['content'])"
   ]
  },
  {
   "cell_type": "code",
   "execution_count": 6,
   "metadata": {},
   "outputs": [],
   "source": [
    "conversation_state = State(messages=[\n",
    "    {\"role\": \"user\", \"content\": \"인공지능에 대해 설명해주세요.\"},\n",
    "    {\"role\": \"assistant\", \"content\": \"인공지능(AI)은 인간의 학습능력, 추론능력, 지각능력을 인공적으로 구현한 컴퓨터 시스템을 말합니다.\"}\n",
    "])"
   ]
  },
  {
   "cell_type": "code",
   "execution_count": 7,
   "metadata": {},
   "outputs": [],
   "source": [
    "updated_state = State(messages=add_messages(initial_state['messages'], conversation_state['messages']))"
   ]
  },
  {
   "cell_type": "code",
   "execution_count": 8,
   "metadata": {},
   "outputs": [
    {
     "data": {
      "text/plain": [
       "{'messages': [HumanMessage(content='안녕하세요! 오늘 날씨가 어떤가요?', additional_kwargs={}, response_metadata={}, id='b2773dff-dd10-485f-bf16-b1d0cef789c4'),\n",
       "  HumanMessage(content='인공지능에 대해 설명해주세요.', additional_kwargs={}, response_metadata={}, id='bf16a864-292f-4336-9c41-9e99d99c7b88'),\n",
       "  AIMessage(content='인공지능(AI)은 인간의 학습능력, 추론능력, 지각능력을 인공적으로 구현한 컴퓨터 시스템을 말합니다.', additional_kwargs={}, response_metadata={}, id='02d07c1f-6798-4e16-a449-2d40016ae1d7')]}"
      ]
     },
     "execution_count": 8,
     "metadata": {},
     "output_type": "execute_result"
    }
   ],
   "source": [
    "updated_state"
   ]
  },
  {
   "cell_type": "code",
   "execution_count": 9,
   "metadata": {},
   "outputs": [],
   "source": [
    "conversation_state2 = State(messages=[\n",
    "    {\"role\": \"user\", \"content\": \"다음 질문에 답변해주세요.\"}\n",
    "])"
   ]
  },
  {
   "cell_type": "code",
   "execution_count": 10,
   "metadata": {},
   "outputs": [],
   "source": [
    "updated_state = State(messages=add_messages(updated_state['messages'], conversation_state2['messages']))"
   ]
  },
  {
   "cell_type": "code",
   "execution_count": 11,
   "metadata": {},
   "outputs": [
    {
     "data": {
      "text/plain": [
       "{'messages': [HumanMessage(content='안녕하세요! 오늘 날씨가 어떤가요?', additional_kwargs={}, response_metadata={}, id='b2773dff-dd10-485f-bf16-b1d0cef789c4'),\n",
       "  HumanMessage(content='인공지능에 대해 설명해주세요.', additional_kwargs={}, response_metadata={}, id='bf16a864-292f-4336-9c41-9e99d99c7b88'),\n",
       "  AIMessage(content='인공지능(AI)은 인간의 학습능력, 추론능력, 지각능력을 인공적으로 구현한 컴퓨터 시스템을 말합니다.', additional_kwargs={}, response_metadata={}, id='02d07c1f-6798-4e16-a449-2d40016ae1d7'),\n",
       "  HumanMessage(content='다음 질문에 답변해주세요.', additional_kwargs={}, response_metadata={}, id='9a9d7532-ff46-4a58-9ba5-541906bad97a')]}"
      ]
     },
     "execution_count": 11,
     "metadata": {},
     "output_type": "execute_result"
    }
   ],
   "source": [
    "updated_state"
   ]
  }
 ],
 "metadata": {
  "kernelspec": {
   "display_name": "venv",
   "language": "python",
   "name": "python3"
  },
  "language_info": {
   "codemirror_mode": {
    "name": "ipython",
    "version": 3
   },
   "file_extension": ".py",
   "mimetype": "text/x-python",
   "name": "python",
   "nbconvert_exporter": "python",
   "pygments_lexer": "ipython3",
   "version": "3.11.9"
  }
 },
 "nbformat": 4,
 "nbformat_minor": 2
}
