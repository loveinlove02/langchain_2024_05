{
 "cells": [
  {
   "cell_type": "code",
   "execution_count": 1,
   "id": "5bca7c03",
   "metadata": {},
   "outputs": [],
   "source": [
    "from dotenv import load_dotenv\n",
    "import os\n",
    "\n",
    "load_dotenv(verbose=True)\n",
    "key = os.getenv('OPENAI_API_KEY')"
   ]
  },
  {
   "cell_type": "code",
   "execution_count": 2,
   "id": "358e4845",
   "metadata": {},
   "outputs": [],
   "source": [
    "if not os.path.exists('temp'):\n",
    "    os.mkdir('temp')"
   ]
  },
  {
   "cell_type": "code",
   "execution_count": 3,
   "id": "1067d3d1",
   "metadata": {},
   "outputs": [],
   "source": [
    "from langchain.tools import tool\n",
    "from typing import List, Dict\n",
    "from langchain_teddynote.tools import GoogleNews\n",
    "from langchain_community.agent_toolkits import FileManagementToolkit\n",
    "\n",
    "from langchain_openai import ChatOpenAI\n",
    "from langchain_core.prompts import ChatPromptTemplate\n",
    "\n",
    "from langchain.agents import create_tool_calling_agent, AgentExecutor\n",
    "from langchain_teddynote.messages import AgentStreamParser\n",
    "\n",
    "from langchain_community.chat_message_histories import ChatMessageHistory\n",
    "from langchain_core.runnables.history import RunnableWithMessageHistory"
   ]
  },
  {
   "cell_type": "code",
   "execution_count": 12,
   "id": "306beefc",
   "metadata": {},
   "outputs": [],
   "source": [
    "@tool\n",
    "def lastest_news(k: int = 5) -> List[Dict[str, str]]:\n",
    "    \"\"\"Look up latest news\"\"\"\n",
    "\n",
    "    news_tool = GoogleNews()\n",
    "    \n",
    "    return news_tool.search_latest(k=k) "
   ]
  },
  {
   "cell_type": "code",
   "execution_count": 17,
   "id": "7201093d",
   "metadata": {},
   "outputs": [
    {
     "name": "stdout",
     "output_type": "stream",
     "text": [
      "{'url': 'https://news.google.com/rss/articles/CBMiakFVX3lxTE5HZzhGT2pHMmo1d0tkeTJRdmlLMl9pM2diSW5RYjJkWWhGNWQ0aGp1RHgzWXFlektOTjdBYXZyV2pWZ1dfbnN2WDZZTlFWTmxmMzYzNW1LRGRfLWtvbzB4QlN6dTdrdUxqZUE?oc=5', 'content': '‘배우자 토론’ 제안에 “김건희는?…국힘 경선 때도 하지 그랬나” - 한겨레'}\n",
      "{'url': 'https://news.google.com/rss/articles/CBMiUkFVX3lxTE11akFsVk1DWnI5UVBLTXhIdy1hRTQ5MjhLSG1OZXZzTTN6UDZPYy11bVV6QV95TTA1eEF4TmZEYTlHYUhTUjF3THdVT1NUZkh6bGc?oc=5', 'content': '장윤미 \"품위 없이 토론한 이준석, 말싸움만 능했다\" [한판승부] - 노컷뉴스'}\n"
     ]
    }
   ],
   "source": [
    "answer = lastest_news.invoke({'k': 2})\n",
    "\n",
    "for ans in answer:\n",
    "    print(ans)"
   ]
  },
  {
   "cell_type": "code",
   "execution_count": 24,
   "id": "135d0706",
   "metadata": {},
   "outputs": [],
   "source": [
    "working_directory = 'temp'\n",
    "\n",
    "toolkit = FileManagementToolkit(root_dir=str(working_directory))\n",
    "tools = toolkit.get_tools()"
   ]
  },
  {
   "cell_type": "code",
   "execution_count": 25,
   "id": "878eae87",
   "metadata": {},
   "outputs": [],
   "source": [
    "tools.append(lastest_news)"
   ]
  },
  {
   "cell_type": "code",
   "execution_count": 26,
   "id": "3a92ebe8",
   "metadata": {},
   "outputs": [
    {
     "data": {
      "text/plain": [
       "[CopyFileTool(root_dir='temp'),\n",
       " DeleteFileTool(root_dir='temp'),\n",
       " FileSearchTool(root_dir='temp'),\n",
       " MoveFileTool(root_dir='temp'),\n",
       " ReadFileTool(root_dir='temp'),\n",
       " WriteFileTool(root_dir='temp'),\n",
       " ListDirectoryTool(root_dir='temp'),\n",
       " StructuredTool(name='lastest_news', description='Look up latest news', args_schema=<class 'langchain_core.utils.pydantic.lastest_news'>, func=<function lastest_news at 0x0000021D8731B420>)]"
      ]
     },
     "execution_count": 26,
     "metadata": {},
     "output_type": "execute_result"
    }
   ],
   "source": [
    "tools"
   ]
  }
 ],
 "metadata": {
  "kernelspec": {
   "display_name": "venv",
   "language": "python",
   "name": "python3"
  },
  "language_info": {
   "codemirror_mode": {
    "name": "ipython",
    "version": 3
   },
   "file_extension": ".py",
   "mimetype": "text/x-python",
   "name": "python",
   "nbconvert_exporter": "python",
   "pygments_lexer": "ipython3",
   "version": "3.11.9"
  }
 },
 "nbformat": 4,
 "nbformat_minor": 5
}
