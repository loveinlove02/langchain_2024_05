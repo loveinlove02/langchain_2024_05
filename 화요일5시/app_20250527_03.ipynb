{
 "cells": [
  {
   "cell_type": "code",
   "execution_count": 1,
   "id": "5bca7c03",
   "metadata": {},
   "outputs": [],
   "source": [
    "from dotenv import load_dotenv\n",
    "import os\n",
    "\n",
    "load_dotenv(verbose=True)\n",
    "key = os.getenv('OPENAI_API_KEY')"
   ]
  },
  {
   "cell_type": "code",
   "execution_count": 2,
   "id": "358e4845",
   "metadata": {},
   "outputs": [],
   "source": [
    "if not os.path.exists('temp'):\n",
    "    os.mkdir('temp')"
   ]
  },
  {
   "cell_type": "code",
   "execution_count": 3,
   "id": "1067d3d1",
   "metadata": {},
   "outputs": [],
   "source": [
    "from langchain.tools import tool\n",
    "from typing import List, Dict\n",
    "from langchain_teddynote.tools import GoogleNews\n",
    "from langchain_community.agent_toolkits import FileManagementToolkit\n",
    "\n",
    "from langchain_openai import ChatOpenAI\n",
    "from langchain_core.prompts import ChatPromptTemplate\n",
    "\n",
    "from langchain.agents import create_tool_calling_agent, AgentExecutor\n",
    "from langchain_teddynote.messages import AgentStreamParser\n",
    "\n",
    "from langchain_community.chat_message_histories import ChatMessageHistory\n",
    "from langchain_core.runnables.history import RunnableWithMessageHistory"
   ]
  },
  {
   "cell_type": "code",
   "execution_count": 4,
   "id": "306beefc",
   "metadata": {},
   "outputs": [],
   "source": [
    "@tool\n",
    "def lastest_news(k: int = 5) -> List[Dict[str, str]]:\n",
    "    \"\"\"Look up latest news\"\"\"\n",
    "\n",
    "    news_tool = GoogleNews()\n",
    "    \n",
    "    return news_tool.search_latest(k=k) "
   ]
  },
  {
   "cell_type": "code",
   "execution_count": 5,
   "id": "7201093d",
   "metadata": {},
   "outputs": [
    {
     "name": "stdout",
     "output_type": "stream",
     "text": [
      "{'url': 'https://news.google.com/rss/articles/CBMiakFVX3lxTFBlSENJVkpsQWNyMnI4bFdabUJ6SDdHSWFtNXVlSmdHOENENVhKazB5YzhfdVhyZFJ4TFZ2OUpYZHZFaXVIYzVIdVRwVWJvUXlMZXJyVWY3U3dNRGxSWEFwdEhUWlhoVmRVWEE?oc=5', 'content': '[속보] 이준석 “후보 단일화, 이번 선거에 없다…김문수로 못 이겨” - 한겨레'}\n",
      "{'url': 'https://news.google.com/rss/articles/CBMikAFBVV95cUxNY0JvTFRUOWZzSmJCREhUUnlLU0o2LVZCb1UtNGFhdWRWcTRJeGgwRGU4cUxPVExxN0ZZQnItcnNfWm5fTDZVMTZGQVRESUxJRXBKd3JZNGNIU25qYkJmbDNBelU1OHhtLXVJVGJUREdESE5MMnViOVB4UzdFZWc0cHdOMTRWNzNZVkhPVW9aZGLSAaQBQVVfeXFMUEF5UExlWlRqbkxsVllTU0ppb1IzdnZ1WTBlaWdQZUJqdUhvOXc5LWNWNFFVRUNzTnJ5TEVUN05lZ3ZsWjhKS2RNYVRpUC1tbTlCVzVYWlZzSEowRGNwbDJkemxaYy14eDRQbWVIa3Q4c1J3UTF4MTBmYXpjcnZGS2MxZ2s0V0o5QnlETnZXa0JwY1d4UUY2aFB4U3o5QVRzQzVUTVI?oc=5', 'content': '[속보] 경찰, ‘내란 혐의’ 한덕수·최상목 출국금지 - 조선일보'}\n"
     ]
    }
   ],
   "source": [
    "answer = lastest_news.invoke({'k': 2})\n",
    "\n",
    "for ans in answer:\n",
    "    print(ans)"
   ]
  },
  {
   "cell_type": "code",
   "execution_count": 6,
   "id": "135d0706",
   "metadata": {},
   "outputs": [],
   "source": [
    "working_directory = 'temp'\n",
    "\n",
    "toolkit = FileManagementToolkit(root_dir=str(working_directory))\n",
    "tools = toolkit.get_tools()"
   ]
  },
  {
   "cell_type": "code",
   "execution_count": 7,
   "id": "8ffce0c3",
   "metadata": {},
   "outputs": [
    {
     "data": {
      "text/plain": [
       "[CopyFileTool(root_dir='temp'),\n",
       " DeleteFileTool(root_dir='temp'),\n",
       " FileSearchTool(root_dir='temp'),\n",
       " MoveFileTool(root_dir='temp'),\n",
       " ReadFileTool(root_dir='temp'),\n",
       " WriteFileTool(root_dir='temp'),\n",
       " ListDirectoryTool(root_dir='temp')]"
      ]
     },
     "execution_count": 7,
     "metadata": {},
     "output_type": "execute_result"
    }
   ],
   "source": [
    "tools"
   ]
  },
  {
   "cell_type": "code",
   "execution_count": 8,
   "id": "878eae87",
   "metadata": {},
   "outputs": [],
   "source": [
    "tools.append(lastest_news)"
   ]
  },
  {
   "cell_type": "code",
   "execution_count": 9,
   "id": "a68deaff",
   "metadata": {},
   "outputs": [
    {
     "data": {
      "text/plain": [
       "[CopyFileTool(root_dir='temp'),\n",
       " DeleteFileTool(root_dir='temp'),\n",
       " FileSearchTool(root_dir='temp'),\n",
       " MoveFileTool(root_dir='temp'),\n",
       " ReadFileTool(root_dir='temp'),\n",
       " WriteFileTool(root_dir='temp'),\n",
       " ListDirectoryTool(root_dir='temp'),\n",
       " StructuredTool(name='lastest_news', description='Look up latest news', args_schema=<class 'langchain_core.utils.pydantic.lastest_news'>, func=<function lastest_news at 0x000002254E21EF20>)]"
      ]
     },
     "execution_count": 9,
     "metadata": {},
     "output_type": "execute_result"
    }
   ],
   "source": [
    "tools"
   ]
  },
  {
   "cell_type": "code",
   "execution_count": 10,
   "id": "3a92ebe8",
   "metadata": {},
   "outputs": [
    {
     "name": "stdout",
     "output_type": "stream",
     "text": [
      "copy_file : Create a copy of a file in a specified location\n",
      "file_delete : Delete a file\n",
      "file_search : Recursively search for files in a subdirectory that match the regex pattern\n",
      "move_file : Move or rename a file from one location to another\n",
      "read_file : Read file from disk\n",
      "write_file : Write file to disk\n",
      "list_directory : List files and directories in a specified folder\n",
      "lastest_news : Look up latest news\n"
     ]
    }
   ],
   "source": [
    "for tool in tools:\n",
    "    print(f'{tool.name} : {tool.description}')"
   ]
  },
  {
   "cell_type": "code",
   "execution_count": 11,
   "id": "ddb5ace8",
   "metadata": {},
   "outputs": [],
   "source": [
    "llm = ChatOpenAI(\n",
    "    api_key=key, \n",
    "    model='gpt-4o-mini'\n",
    ")"
   ]
  },
  {
   "cell_type": "code",
   "execution_count": 12,
   "id": "47dfd583",
   "metadata": {},
   "outputs": [],
   "source": [
    "prompt = ChatPromptTemplate.from_messages(\n",
    "    [\n",
    "        (\n",
    "            'system', \n",
    "            'You are a helpful assistant. '\n",
    "            'Make sure to use the `lastest_news` tool to find lastest news. '\n",
    "            'Make sure to use the `file_managent` tool to manage files. '\n",
    "        ),\n",
    "        ('placeholder', '{chat_history}'),\n",
    "        ('human', '{input}'),\n",
    "        ('placeholder', '{agent_scratchpad}')\n",
    "    ]\n",
    ")"
   ]
  },
  {
   "cell_type": "code",
   "execution_count": null,
   "id": "d36e160d",
   "metadata": {},
   "outputs": [],
   "source": [
    "agent = create_tool_calling_agent(llm, tools, prompt)      "
   ]
  },
  {
   "cell_type": "code",
   "execution_count": 14,
   "id": "4f24fa08",
   "metadata": {},
   "outputs": [],
   "source": [
    "agent_executor = AgentExecutor(\n",
    "    agent=agent, \n",
    "    tools=tools, \n",
    "    verbose=False, \n",
    "    max_iterations=10, \n",
    "    max_execution_time=10, \n",
    "    handle_parsing_errors=True\n",
    ")"
   ]
  },
  {
   "cell_type": "code",
   "execution_count": 16,
   "id": "b2e4f04f",
   "metadata": {},
   "outputs": [],
   "source": [
    "store = {}\n",
    "\n",
    "def get_session_history(session_ids):  # session_ids ->'abc123'\n",
    "    if session_ids not in store:\n",
    "        store[session_ids] = ChatMessageHistory()\n",
    "    \n",
    "    return store[session_ids]"
   ]
  },
  {
   "cell_type": "code",
   "execution_count": 18,
   "id": "70f356f9",
   "metadata": {},
   "outputs": [
    {
     "data": {
      "text/plain": [
       "InMemoryChatMessageHistory(messages=[])"
      ]
     },
     "execution_count": 18,
     "metadata": {},
     "output_type": "execute_result"
    }
   ],
   "source": [
    "get_session_history('abc123')"
   ]
  }
 ],
 "metadata": {
  "kernelspec": {
   "display_name": "venv",
   "language": "python",
   "name": "python3"
  },
  "language_info": {
   "codemirror_mode": {
    "name": "ipython",
    "version": 3
   },
   "file_extension": ".py",
   "mimetype": "text/x-python",
   "name": "python",
   "nbconvert_exporter": "python",
   "pygments_lexer": "ipython3",
   "version": "3.11.9"
  }
 },
 "nbformat": 4,
 "nbformat_minor": 5
}
