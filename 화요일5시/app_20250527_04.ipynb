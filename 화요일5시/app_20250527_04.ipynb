{
 "cells": [
  {
   "cell_type": "code",
   "execution_count": 5,
   "id": "5989f70c",
   "metadata": {},
   "outputs": [],
   "source": [
    "from typing import Annotated, TypedDict\n",
    "from langchain_core.messages import HumanMessage, AIMessage\n",
    "from langgraph.graph.message import add_messages"
   ]
  },
  {
   "cell_type": "code",
   "execution_count": null,
   "id": "37e7f332",
   "metadata": {},
   "outputs": [],
   "source": [
    "class State(TypedDict):\n",
    "    messages: Annotated[list, add_messages]"
   ]
  },
  {
   "cell_type": "code",
   "execution_count": 7,
   "id": "96e484b6",
   "metadata": {},
   "outputs": [],
   "source": [
    "state1 = State(messages=[])"
   ]
  },
  {
   "cell_type": "code",
   "execution_count": 8,
   "id": "ed0f421a",
   "metadata": {},
   "outputs": [
    {
     "data": {
      "text/plain": [
       "{'messages': []}"
      ]
     },
     "execution_count": 8,
     "metadata": {},
     "output_type": "execute_result"
    }
   ],
   "source": [
    "state1"
   ]
  },
  {
   "cell_type": "code",
   "execution_count": 13,
   "id": "53b98c79",
   "metadata": {},
   "outputs": [
    {
     "data": {
      "text/plain": [
       "HumanMessage(content='안녕?', additional_kwargs={}, response_metadata={}, id='1')"
      ]
     },
     "execution_count": 13,
     "metadata": {},
     "output_type": "execute_result"
    }
   ],
   "source": [
    "message_user = HumanMessage(content='안녕?', id='1')\n",
    "message_user"
   ]
  },
  {
   "cell_type": "code",
   "execution_count": 16,
   "id": "ced37571",
   "metadata": {},
   "outputs": [
    {
     "data": {
      "text/plain": [
       "AIMessage(content='안녕하세요', additional_kwargs={}, response_metadata={}, id='2')"
      ]
     },
     "execution_count": 16,
     "metadata": {},
     "output_type": "execute_result"
    }
   ],
   "source": [
    "message_ai = AIMessage(content='안녕하세요', id='2')\n",
    "message_ai"
   ]
  },
  {
   "cell_type": "code",
   "execution_count": 17,
   "id": "295b5885",
   "metadata": {},
   "outputs": [],
   "source": [
    "state1['messages'] = add_messages(state1['messages'], message_user)\n",
    "state1['messages'] = add_messages(state1['messages'], message_ai)"
   ]
  },
  {
   "cell_type": "code",
   "execution_count": 18,
   "id": "ff77c27b",
   "metadata": {},
   "outputs": [
    {
     "data": {
      "text/plain": [
       "{'messages': [HumanMessage(content='안녕?', additional_kwargs={}, response_metadata={}, id='1'),\n",
       "  AIMessage(content='안녕하세요', additional_kwargs={}, response_metadata={}, id='2')]}"
      ]
     },
     "execution_count": 18,
     "metadata": {},
     "output_type": "execute_result"
    }
   ],
   "source": [
    "state1"
   ]
  }
 ],
 "metadata": {
  "kernelspec": {
   "display_name": "venv",
   "language": "python",
   "name": "python3"
  },
  "language_info": {
   "codemirror_mode": {
    "name": "ipython",
    "version": 3
   },
   "file_extension": ".py",
   "mimetype": "text/x-python",
   "name": "python",
   "nbconvert_exporter": "python",
   "pygments_lexer": "ipython3",
   "version": "3.11.9"
  }
 },
 "nbformat": 4,
 "nbformat_minor": 5
}
