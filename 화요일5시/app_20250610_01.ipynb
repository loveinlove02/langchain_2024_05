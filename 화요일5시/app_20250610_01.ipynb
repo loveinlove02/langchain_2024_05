{
 "cells": [
  {
   "cell_type": "code",
   "execution_count": 45,
   "id": "7b6d15fe",
   "metadata": {},
   "outputs": [],
   "source": [
    "from dotenv import load_dotenv\n",
    "import os\n",
    "\n",
    "load_dotenv(verbose=True)\n",
    "\n",
    "key = os.getenv('OPENAI_API_KEY')\n",
    "tavily_key = os.getenv('TAVILY_API_KEY')"
   ]
  },
  {
   "cell_type": "code",
   "execution_count": 46,
   "id": "c61bac13",
   "metadata": {},
   "outputs": [],
   "source": [
    "from typing import Annotated, TypedDict\n",
    "from langgraph.graph.message import add_messages"
   ]
  },
  {
   "cell_type": "code",
   "execution_count": 47,
   "id": "721e0aad",
   "metadata": {},
   "outputs": [],
   "source": [
    "from langchain_openai import ChatOpenAI\n",
    "from langgraph.graph import StateGraph, START, END"
   ]
  },
  {
   "cell_type": "code",
   "execution_count": 48,
   "id": "a5819c52",
   "metadata": {},
   "outputs": [],
   "source": [
    "from langgraph.prebuilt import ToolNode, tools_condition\n",
    "from langchain_teddynote.tools.tavily import TavilySearch"
   ]
  },
  {
   "cell_type": "code",
   "execution_count": 49,
   "id": "08419f3f",
   "metadata": {},
   "outputs": [],
   "source": [
    "from langchain_core.messages import HumanMessage, AIMessage, ToolMessage\n",
    "import json"
   ]
  },
  {
   "cell_type": "code",
   "execution_count": 50,
   "id": "82b21e00",
   "metadata": {},
   "outputs": [],
   "source": [
    "##### 1. 상태 정의 #####\n",
    "class State(TypedDict):\n",
    "    messages: Annotated[list, add_messages]"
   ]
  },
  {
   "cell_type": "code",
   "execution_count": 51,
   "id": "54f212b5",
   "metadata": {},
   "outputs": [],
   "source": [
    "##### 2. 도구 정의 및 바인딩 #####\n",
    "tool = TavilySearch(max_results=1)      # 검색 도구\n",
    "tools = [tool]                          # 도구 목록에 넣기"
   ]
  },
  {
   "cell_type": "code",
   "execution_count": 52,
   "id": "1c776404",
   "metadata": {},
   "outputs": [],
   "source": [
    "##### 3. LLM을 도구와 결합 #####\n",
    "llm = ChatOpenAI(\n",
    "    api_key=key, \n",
    "    model='gpt-4o-mini'\n",
    ")\n",
    "\n",
    "llm_with_tools = llm.bind_tools(tools)  # 도구를 사용할 수 있는 llm"
   ]
  },
  {
   "cell_type": "code",
   "execution_count": 53,
   "id": "b8c665f4",
   "metadata": {},
   "outputs": [],
   "source": [
    "def chatbot(state: State):\n",
    "    answer = llm_with_tools.invoke(state['messages'])\n",
    "    return {'messages': [answer]}"
   ]
  }
 ],
 "metadata": {
  "kernelspec": {
   "display_name": "venv",
   "language": "python",
   "name": "python3"
  },
  "language_info": {
   "codemirror_mode": {
    "name": "ipython",
    "version": 3
   },
   "file_extension": ".py",
   "mimetype": "text/x-python",
   "name": "python",
   "nbconvert_exporter": "python",
   "pygments_lexer": "ipython3",
   "version": "3.11.9"
  }
 },
 "nbformat": 4,
 "nbformat_minor": 5
}
