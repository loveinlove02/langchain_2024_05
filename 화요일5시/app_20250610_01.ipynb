{
 "cells": [
  {
   "cell_type": "code",
   "execution_count": 45,
   "id": "7b6d15fe",
   "metadata": {},
   "outputs": [],
   "source": [
    "from dotenv import load_dotenv\n",
    "import os\n",
    "\n",
    "load_dotenv(verbose=True)\n",
    "\n",
    "key = os.getenv('OPENAI_API_KEY')\n",
    "tavily_key = os.getenv('TAVILY_API_KEY')"
   ]
  },
  {
   "cell_type": "code",
   "execution_count": 46,
   "id": "c61bac13",
   "metadata": {},
   "outputs": [],
   "source": [
    "from typing import Annotated, TypedDict\n",
    "from langgraph.graph.message import add_messages"
   ]
  },
  {
   "cell_type": "code",
   "execution_count": 47,
   "id": "721e0aad",
   "metadata": {},
   "outputs": [],
   "source": [
    "from langchain_openai import ChatOpenAI\n",
    "from langgraph.graph import StateGraph, START, END"
   ]
  },
  {
   "cell_type": "code",
   "execution_count": 48,
   "id": "a5819c52",
   "metadata": {},
   "outputs": [],
   "source": [
    "from langgraph.prebuilt import ToolNode, tools_condition\n",
    "from langchain_teddynote.tools.tavily import TavilySearch"
   ]
  },
  {
   "cell_type": "code",
   "execution_count": 49,
   "id": "08419f3f",
   "metadata": {},
   "outputs": [],
   "source": [
    "from langchain_core.messages import HumanMessage, AIMessage, ToolMessage\n",
    "import json"
   ]
  },
  {
   "cell_type": "code",
   "execution_count": 50,
   "id": "82b21e00",
   "metadata": {},
   "outputs": [],
   "source": [
    "##### 1. 상태 정의 #####\n",
    "class State(TypedDict):\n",
    "    messages: Annotated[list, add_messages]"
   ]
  },
  {
   "cell_type": "code",
   "execution_count": 51,
   "id": "54f212b5",
   "metadata": {},
   "outputs": [],
   "source": [
    "##### 2. 도구 정의 및 바인딩 #####\n",
    "tool = TavilySearch(max_results=1)      # 검색 도구\n",
    "tools = [tool]                          # 도구 목록에 넣기"
   ]
  },
  {
   "cell_type": "code",
   "execution_count": 52,
   "id": "1c776404",
   "metadata": {},
   "outputs": [],
   "source": [
    "##### 3. LLM을 도구와 결합 #####\n",
    "llm = ChatOpenAI(\n",
    "    api_key=key, \n",
    "    model='gpt-4o-mini'\n",
    ")\n",
    "\n",
    "llm_with_tools = llm.bind_tools(tools)  # 도구를 사용할 수 있는 llm"
   ]
  },
  {
   "cell_type": "code",
   "execution_count": 53,
   "id": "b8c665f4",
   "metadata": {},
   "outputs": [],
   "source": [
    "def chatbot(state: State):\n",
    "    answer = llm_with_tools.invoke(state['messages'])\n",
    "    return {'messages': [answer]}"
   ]
  },
  {
   "cell_type": "code",
   "execution_count": 56,
   "id": "6b0ecf40",
   "metadata": {},
   "outputs": [
    {
     "name": "stdout",
     "output_type": "stream",
     "text": [
      "{'messages': [HumanMessage(content='대한민국 수도는 어디야?', additional_kwargs={}, response_metadata={})]}\n",
      "{'messages': [AIMessage(content='대한민국의 수도는 서울입니다.', additional_kwargs={'refusal': None}, response_metadata={'token_usage': {'completion_tokens': 9, 'prompt_tokens': 98, 'total_tokens': 107, 'completion_tokens_details': {'accepted_prediction_tokens': 0, 'audio_tokens': 0, 'reasoning_tokens': 0, 'rejected_prediction_tokens': 0}, 'prompt_tokens_details': {'audio_tokens': 0, 'cached_tokens': 0}}, 'model_name': 'gpt-4o-mini-2024-07-18', 'system_fingerprint': 'fp_34a54ae93c', 'id': 'chatcmpl-BgpCj7yD8qjoVar9bUloopw34AgeJ', 'service_tier': 'default', 'finish_reason': 'stop', 'logprobs': None}, id='run--b2ad430e-9258-4a53-b735-6afaa2c1dda9-0', usage_metadata={'input_tokens': 98, 'output_tokens': 9, 'total_tokens': 107, 'input_token_details': {'audio': 0, 'cache_read': 0}, 'output_token_details': {'audio': 0, 'reasoning': 0}})]}\n"
     ]
    }
   ],
   "source": [
    "# 테스트\n",
    "quesiton = HumanMessage(content='대한민국 수도는 어디야?')\n",
    "state1 = State(messages=[quesiton])\n",
    "print(state1)\n",
    "\n",
    "answer = chatbot(state1)\n",
    "print(answer)"
   ]
  }
 ],
 "metadata": {
  "kernelspec": {
   "display_name": "venv",
   "language": "python",
   "name": "python3"
  },
  "language_info": {
   "codemirror_mode": {
    "name": "ipython",
    "version": 3
   },
   "file_extension": ".py",
   "mimetype": "text/x-python",
   "name": "python",
   "nbconvert_exporter": "python",
   "pygments_lexer": "ipython3",
   "version": "3.11.9"
  }
 },
 "nbformat": 4,
 "nbformat_minor": 5
}
