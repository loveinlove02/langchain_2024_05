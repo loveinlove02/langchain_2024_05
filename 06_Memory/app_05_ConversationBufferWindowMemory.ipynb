{
 "cells": [
  {
   "cell_type": "code",
   "execution_count": 1,
   "metadata": {},
   "outputs": [],
   "source": [
    "from dotenv import load_dotenv\n",
    "import os\n",
    "\n",
    "load_dotenv(verbose=True)\n",
    "key = os.getenv('OPENAI_API_KEY')"
   ]
  },
  {
   "cell_type": "code",
   "execution_count": 2,
   "metadata": {},
   "outputs": [],
   "source": [
    "from langchain_openai import ChatOpenAI\n",
    "from langchain.memory import ConversationBufferWindowMemory\n",
    "from langchain.chains import ConversationChain"
   ]
  },
  {
   "cell_type": "code",
   "execution_count": 3,
   "metadata": {},
   "outputs": [],
   "source": [
    "llm = ChatOpenAI(api_key=key, model_name=\"gpt-4o-mini\", temperature=0)      # LLM 모델을 생성합니다."
   ]
  },
  {
   "cell_type": "code",
   "execution_count": 4,
   "metadata": {},
   "outputs": [
    {
     "name": "stderr",
     "output_type": "stream",
     "text": [
      "C:\\Users\\lee\\AppData\\Local\\Temp\\ipykernel_14160\\2249236332.py:4: LangChainDeprecationWarning: Please see the migration guide at: https://python.langchain.com/docs/versions/migrating_memory/\n",
      "  memory=ConversationBufferWindowMemory(k=2, return_messages=True)\n",
      "C:\\Users\\lee\\AppData\\Local\\Temp\\ipykernel_14160\\2249236332.py:2: LangChainDeprecationWarning: The class `ConversationChain` was deprecated in LangChain 0.2.7 and will be removed in 1.0. Use :meth:`~RunnableWithMessageHistory: https://python.langchain.com/v0.2/api_reference/core/runnables/langchain_core.runnables.history.RunnableWithMessageHistory.html` instead.\n",
      "  conversation = ConversationChain(\n"
     ]
    }
   ],
   "source": [
    "# ConversationChain을 생성합니다. \n",
    "conversation = ConversationChain(\n",
    "    llm=llm,                            \n",
    "    memory=ConversationBufferWindowMemory(k=2, return_messages=True)\n",
    ")"
   ]
  },
  {
   "cell_type": "code",
   "execution_count": 5,
   "metadata": {},
   "outputs": [],
   "source": [
    "response = conversation.predict(    \n",
    "    input=\"안녕하세요, 비대면으로 은행 계좌를 개설하고 싶습니다. 어떻게 시작해야 하나요?\"\n",
    ")"
   ]
  },
  {
   "cell_type": "code",
   "execution_count": 6,
   "metadata": {},
   "outputs": [
    {
     "name": "stdout",
     "output_type": "stream",
     "text": [
      "안녕하세요! 비대면으로 은행 계좌를 개설하는 것은 요즘 많은 사람들이 선호하는 방법이에요. 일반적으로 다음과 같은 단계로 진행할 수 있습니다:\n",
      "\n",
      "1. **은행 선택**: 먼저, 어떤 은행에서 계좌를 개설할지 결정해야 해요. 각 은행마다 제공하는 서비스나 수수료가 다르니, 비교해보는 것이 좋습니다.\n",
      "\n",
      "2. **온라인 신청**: 선택한 은행의 웹사이트나 모바일 앱에 접속하여 계좌 개설 신청서를 작성합니다. 이때 필요한 개인 정보(이름, 주민등록번호, 연락처 등)를 입력해야 해요.\n",
      "\n",
      "3. **신분증 확인**: 대부분의 은행에서는 신분증(주민등록증, 운전면허증 등)의 사진을 업로드하거나, 비대면 인증을 위한 방법(예: 생체 인식)을 제공해요.\n",
      "\n",
      "4. **계좌 유형 선택**: 원하는 계좌 유형(예: 일반 예금, 적금 등)을 선택하고, 필요한 경우 초기 입금액을 설정합니다.\n",
      "\n",
      "5. **약관 동의**: 계좌 개설에 필요한 약관을 읽고 동의해야 해요.\n",
      "\n",
      "6. **계좌 개설 완료**: 모든 절차가 완료되면, 은행에서 계좌 개설 완료 통지를 받을 거예요. 이후에는 인터넷 뱅킹이나 모바일 뱅킹을 통해 계좌를 관리할 수 있습니다.\n",
      "\n",
      "각 은행마다 세부 절차가 조금씩 다를 수 있으니, 선택한 은행의 공식 웹사이트에서 구체적인 정보를 확인하는 것이 좋습니다. 추가로 궁금한 점이 있으면 언제든지 물어보세요!\n"
     ]
    }
   ],
   "source": [
    "print(response)"
   ]
  },
  {
   "cell_type": "code",
   "execution_count": 7,
   "metadata": {},
   "outputs": [],
   "source": [
    "response = conversation.predict(    \n",
    "    input=\"네, 신분증을 준비했습니다. 이제 무엇을 해야 하나요?\"\n",
    ")"
   ]
  },
  {
   "cell_type": "code",
   "execution_count": 8,
   "metadata": {},
   "outputs": [
    {
     "name": "stdout",
     "output_type": "stream",
     "text": [
      "좋아요! 신분증을 준비하셨다면, 다음 단계로 넘어가시면 됩니다. 일반적으로 신분증 확인을 위한 절차는 다음과 같습니다:\n",
      "\n",
      "1. **신분증 사진 업로드**: 선택한 은행의 온라인 신청서에서 신분증 사진을 업로드하는 옵션이 있을 거예요. 주민등록증이나 운전면허증의 앞면과 뒷면을 촬영하여 업로드하세요.\n",
      "\n",
      "2. **비대면 인증 방법 선택**: 일부 은행에서는 비대면 인증을 위해 생체 인식(예: 얼굴 인식, 지문 인식)이나 다른 인증 방법을 제공할 수 있어요. 이 경우, 해당 방법을 선택하고 안내에 따라 진행하세요.\n",
      "\n",
      "3. **신분증 정보 입력**: 신분증의 정보를 입력하는 단계가 있을 수 있습니다. 주민등록번호, 발급일자, 유효기간 등을 정확히 입력하세요.\n",
      "\n",
      "4. **신분증 확인 완료**: 모든 정보를 입력하고 업로드한 후, 은행에서 신분증 확인을 진행합니다. 이 과정은 몇 분에서 몇 시간이 걸릴 수 있어요.\n",
      "\n",
      "이후에는 계좌 유형 선택 및 약관 동의 단계로 넘어가시면 됩니다. 추가로 궁금한 점이 있으면 언제든지 말씀해 주세요!\n"
     ]
    }
   ],
   "source": [
    "print(response)"
   ]
  },
  {
   "cell_type": "code",
   "execution_count": 9,
   "metadata": {},
   "outputs": [],
   "source": [
    "response = conversation.predict(    \n",
    "    input=\"네, 계좌 유형 선택했습니다. 이제 무엇을 해야 하나요?\"\n",
    ")"
   ]
  },
  {
   "cell_type": "code",
   "execution_count": 10,
   "metadata": {},
   "outputs": [
    {
     "name": "stdout",
     "output_type": "stream",
     "text": [
      "좋아요! 계좌 유형을 선택하셨다면, 이제 다음 단계로 넘어가시면 됩니다. 일반적으로 계좌 개설 과정에서 해야 할 일은 다음과 같습니다:\n",
      "\n",
      "1. **초기 입금액 설정**: 선택한 계좌 유형에 따라 초기 입금액을 설정해야 할 수 있습니다. 일부 은행에서는 최소 입금액이 정해져 있으니, 해당 금액을 준비하세요.\n",
      "\n",
      "2. **약관 동의**: 계좌 개설에 필요한 약관을 읽고 동의해야 합니다. 약관에는 수수료, 이자율, 계좌 관리 방법 등에 대한 정보가 포함되어 있으니, 잘 확인해보세요.\n",
      "\n",
      "3. **신청서 제출**: 모든 정보를 입력하고 약관에 동의한 후, 계좌 개설 신청서를 제출합니다. 이 단계에서 제출한 정보가 정확한지 다시 한 번 확인하는 것이 좋습니다.\n",
      "\n",
      "4. **계좌 개설 완료 통지**: 신청서가 제출되면, 은행에서 계좌 개설 절차를 진행합니다. 이 과정이 완료되면, 계좌 개설 완료 통지를 받을 거예요. 통지 방법은 이메일, 문자 메시지 등으로 이루어질 수 있습니다.\n",
      "\n",
      "5. **인터넷 뱅킹 설정**: 계좌가 개설되면, 인터넷 뱅킹이나 모바일 뱅킹을 통해 계좌를 관리할 수 있습니다. 이때, 별도의 비밀번호 설정이나 보안 인증 절차가 있을 수 있으니, 안내에 따라 진행하세요.\n",
      "\n",
      "이제 거의 다 왔네요! 추가로 궁금한 점이 있으면 언제든지 말씀해 주세요!\n"
     ]
    }
   ],
   "source": [
    "print(response)"
   ]
  },
  {
   "cell_type": "code",
   "execution_count": 11,
   "metadata": {},
   "outputs": [
    {
     "data": {
      "text/plain": [
       "[HumanMessage(content='네, 신분증을 준비했습니다. 이제 무엇을 해야 하나요?', additional_kwargs={}, response_metadata={}),\n",
       " AIMessage(content='좋아요! 신분증을 준비하셨다면, 다음 단계로 넘어가시면 됩니다. 일반적으로 신분증 확인을 위한 절차는 다음과 같습니다:\\n\\n1. **신분증 사진 업로드**: 선택한 은행의 온라인 신청서에서 신분증 사진을 업로드하는 옵션이 있을 거예요. 주민등록증이나 운전면허증의 앞면과 뒷면을 촬영하여 업로드하세요.\\n\\n2. **비대면 인증 방법 선택**: 일부 은행에서는 비대면 인증을 위해 생체 인식(예: 얼굴 인식, 지문 인식)이나 다른 인증 방법을 제공할 수 있어요. 이 경우, 해당 방법을 선택하고 안내에 따라 진행하세요.\\n\\n3. **신분증 정보 입력**: 신분증의 정보를 입력하는 단계가 있을 수 있습니다. 주민등록번호, 발급일자, 유효기간 등을 정확히 입력하세요.\\n\\n4. **신분증 확인 완료**: 모든 정보를 입력하고 업로드한 후, 은행에서 신분증 확인을 진행합니다. 이 과정은 몇 분에서 몇 시간이 걸릴 수 있어요.\\n\\n이후에는 계좌 유형 선택 및 약관 동의 단계로 넘어가시면 됩니다. 추가로 궁금한 점이 있으면 언제든지 말씀해 주세요!', additional_kwargs={}, response_metadata={}),\n",
       " HumanMessage(content='네, 계좌 유형 선택했습니다. 이제 무엇을 해야 하나요?', additional_kwargs={}, response_metadata={}),\n",
       " AIMessage(content='좋아요! 계좌 유형을 선택하셨다면, 이제 다음 단계로 넘어가시면 됩니다. 일반적으로 계좌 개설 과정에서 해야 할 일은 다음과 같습니다:\\n\\n1. **초기 입금액 설정**: 선택한 계좌 유형에 따라 초기 입금액을 설정해야 할 수 있습니다. 일부 은행에서는 최소 입금액이 정해져 있으니, 해당 금액을 준비하세요.\\n\\n2. **약관 동의**: 계좌 개설에 필요한 약관을 읽고 동의해야 합니다. 약관에는 수수료, 이자율, 계좌 관리 방법 등에 대한 정보가 포함되어 있으니, 잘 확인해보세요.\\n\\n3. **신청서 제출**: 모든 정보를 입력하고 약관에 동의한 후, 계좌 개설 신청서를 제출합니다. 이 단계에서 제출한 정보가 정확한지 다시 한 번 확인하는 것이 좋습니다.\\n\\n4. **계좌 개설 완료 통지**: 신청서가 제출되면, 은행에서 계좌 개설 절차를 진행합니다. 이 과정이 완료되면, 계좌 개설 완료 통지를 받을 거예요. 통지 방법은 이메일, 문자 메시지 등으로 이루어질 수 있습니다.\\n\\n5. **인터넷 뱅킹 설정**: 계좌가 개설되면, 인터넷 뱅킹이나 모바일 뱅킹을 통해 계좌를 관리할 수 있습니다. 이때, 별도의 비밀번호 설정이나 보안 인증 절차가 있을 수 있으니, 안내에 따라 진행하세요.\\n\\n이제 거의 다 왔네요! 추가로 궁금한 점이 있으면 언제든지 말씀해 주세요!', additional_kwargs={}, response_metadata={})]"
      ]
     },
     "execution_count": 11,
     "metadata": {},
     "output_type": "execute_result"
    }
   ],
   "source": [
    "# 대화기록을 확인해 보면 최근 2개의 메시지만 가져온다.\n",
    "conversation.memory.load_memory_variables({})[\"history\"]"
   ]
  }
 ],
 "metadata": {
  "kernelspec": {
   "display_name": "venv",
   "language": "python",
   "name": "python3"
  },
  "language_info": {
   "codemirror_mode": {
    "name": "ipython",
    "version": 3
   },
   "file_extension": ".py",
   "mimetype": "text/x-python",
   "name": "python",
   "nbconvert_exporter": "python",
   "pygments_lexer": "ipython3",
   "version": "3.11.9"
  }
 },
 "nbformat": 4,
 "nbformat_minor": 2
}
