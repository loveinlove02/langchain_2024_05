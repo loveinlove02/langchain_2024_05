{
 "cells": [
  {
   "cell_type": "code",
   "execution_count": 1,
   "metadata": {},
   "outputs": [],
   "source": [
    "from dotenv import load_dotenv\n",
    "import os\n",
    "\n",
    "load_dotenv(verbose=True)\n",
    "key = os.getenv('OPENAI_API_KEY')"
   ]
  },
  {
   "cell_type": "code",
   "execution_count": 3,
   "metadata": {},
   "outputs": [],
   "source": [
    "from langchain_openai import ChatOpenAI\n",
    "from langchain.memory import ConversationBufferMemory\n",
    "from langchain.chains import ConversationChain"
   ]
  },
  {
   "cell_type": "code",
   "execution_count": 7,
   "metadata": {},
   "outputs": [],
   "source": [
    "llm = ChatOpenAI(api_key=key, model_name=\"gpt-4o-mini\", temperature=0)      # LLM 모델을 생성합니다."
   ]
  },
  {
   "cell_type": "code",
   "execution_count": 10,
   "metadata": {},
   "outputs": [],
   "source": [
    "# ConversationChain을 생성합니다. \n",
    "conversation = ConversationChain(\n",
    "    llm=llm,                            \n",
    "    memory=ConversationBufferMemory(),  # ConversationBufferMemory를 사용합니다.\n",
    ")"
   ]
  },
  {
   "cell_type": "code",
   "execution_count": 11,
   "metadata": {},
   "outputs": [],
   "source": [
    "response = conversation.predict(    \n",
    "    input=\"안녕하세요, 비대면으로 은행 계좌를 개설하고 싶습니다. 어떻게 시작해야 하나요?\"\n",
    ")"
   ]
  },
  {
   "cell_type": "code",
   "execution_count": 12,
   "metadata": {},
   "outputs": [
    {
     "name": "stdout",
     "output_type": "stream",
     "text": [
      "안녕하세요! 비대면으로 은행 계좌를 개설하는 것은 요즘 매우 편리한 방법입니다. 일반적으로 다음과 같은 단계로 진행할 수 있습니다:\n",
      "\n",
      "1. **은행 선택**: 먼저, 어떤 은행에서 계좌를 개설할지 결정해야 합니다. 각 은행마다 제공하는 서비스와 수수료가 다르니, 비교해보는 것이 좋습니다.\n",
      "\n",
      "2. **온라인 신청**: 선택한 은행의 웹사이트나 모바일 앱에 접속하여 계좌 개설 신청서를 작성합니다. 이때, 개인 정보와 연락처를 입력해야 합니다.\n",
      "\n",
      "3. **신분증 확인**: 대부분의 은행에서는 신분증(주민등록증, 운전면허증 등)의 사진을 업로드하거나, 비대면 인증을 위한 방법(예: 생체 인식, 영상 통화 등)을 요구합니다.\n",
      "\n",
      "4. **계좌 유형 선택**: 일반 예금 계좌, 적금 계좌 등 원하는 계좌 유형을 선택합니다. 각 계좌의 조건과 이자율을 확인해보세요.\n",
      "\n",
      "5. **약관 동의**: 계좌 개설에 필요한 약관을 읽고 동의합니다. 이 단계에서 수수료, 이자율, 서비스 조건 등을 잘 확인하는 것이 중요합니다.\n",
      "\n",
      "6. **최종 확인 및 개설 완료**: 모든 정보를 입력하고 제출하면, 은행에서 확인 후 계좌가 개설됩니다. 보통 몇 분에서 몇 시간 내에 완료됩니다.\n",
      "\n",
      "7. **카드 및 인터넷 뱅킹 설정**: 계좌가 개설되면, 카드 발급 신청이나 인터넷 뱅킹 설정을 진행할 수 있습니다.\n",
      "\n",
      "각 은행마다 세부 절차가 다를 수 있으니, 선택한 은행의 공식 웹사이트에서 구체적인 정보를 확인하는 것이 좋습니다. 추가로 궁금한 점이 있으면 언제든지 물어보세요!\n"
     ]
    }
   ],
   "source": [
    "print(response)"
   ]
  },
  {
   "cell_type": "code",
   "execution_count": 13,
   "metadata": {},
   "outputs": [],
   "source": [
    "# 이전 대화 내용을 불렛포인트로 정리해 달라는 요청을 보냅니다.\n",
    "response = conversation.predict(\n",
    "    input=\"이전 답변을 불렛포인트 형식으로 정리하여 알려주세요.\"\n",
    ")"
   ]
  },
  {
   "cell_type": "code",
   "execution_count": 14,
   "metadata": {},
   "outputs": [
    {
     "name": "stdout",
     "output_type": "stream",
     "text": [
      "물론입니다! 비대면으로 은행 계좌를 개설하는 단계는 다음과 같습니다:\n",
      "\n",
      "- **은행 선택**: 원하는 은행을 결정하고 서비스 및 수수료 비교.\n",
      "- **온라인 신청**: 은행 웹사이트나 모바일 앱에서 계좌 개설 신청서 작성.\n",
      "- **신분증 확인**: 신분증 사진 업로드 또는 비대면 인증 방법 사용.\n",
      "- **계좌 유형 선택**: 일반 예금 계좌, 적금 계좌 등 원하는 계좌 유형 선택.\n",
      "- **약관 동의**: 계좌 개설에 필요한 약관 읽고 동의.\n",
      "- **최종 확인 및 개설 완료**: 모든 정보 제출 후 은행에서 확인하여 계좌 개설.\n",
      "- **카드 및 인터넷 뱅킹 설정**: 계좌 개설 후 카드 발급 신청 및 인터넷 뱅킹 설정.\n",
      "\n",
      "각 은행마다 세부 절차가 다를 수 있으니, 공식 웹사이트에서 확인하는 것이 좋습니다. 추가 질문이 있으면 언제든지 말씀해 주세요!\n"
     ]
    }
   ],
   "source": [
    "print(response)"
   ]
  },
  {
   "cell_type": "code",
   "execution_count": null,
   "metadata": {},
   "outputs": [
    {
     "name": "stdout",
     "output_type": "stream",
     "text": [
      "Human: 안녕하세요, 비대면으로 은행 계좌를 개설하고 싶습니다. 어떻게 시작해야 하나요?\n",
      "AI: 안녕하세요! 비대면으로 은행 계좌를 개설하는 것은 요즘 매우 편리한 방법입니다. 일반적으로 다음과 같은 단계로 진행할 수 있습니다:\n",
      "\n",
      "1. **은행 선택**: 먼저, 어떤 은행에서 계좌를 개설할지 결정해야 합니다. 각 은행마다 제공하는 서비스와 수수료가 다르니, 비교해보는 것이 좋습니다.\n",
      "\n",
      "2. **온라인 신청**: 선택한 은행의 웹사이트나 모바일 앱에 접속하여 계좌 개설 신청서를 작성합니다. 이때, 개인 정보와 연락처를 입력해야 합니다.\n",
      "\n",
      "3. **신분증 확인**: 대부분의 은행에서는 신분증(주민등록증, 운전면허증 등)의 사진을 업로드하거나, 비대면 인증을 위한 방법(예: 생체 인식, 영상 통화 등)을 요구합니다.\n",
      "\n",
      "4. **계좌 유형 선택**: 일반 예금 계좌, 적금 계좌 등 원하는 계좌 유형을 선택합니다. 각 계좌의 조건과 이자율을 확인해보세요.\n",
      "\n",
      "5. **약관 동의**: 계좌 개설에 필요한 약관을 읽고 동의합니다. 이 단계에서 수수료, 이자율, 서비스 조건 등을 잘 확인하는 것이 중요합니다.\n",
      "\n",
      "6. **최종 확인 및 개설 완료**: 모든 정보를 입력하고 제출하면, 은행에서 확인 후 계좌가 개설됩니다. 보통 몇 분에서 몇 시간 내에 완료됩니다.\n",
      "\n",
      "7. **카드 및 인터넷 뱅킹 설정**: 계좌가 개설되면, 카드 발급 신청이나 인터넷 뱅킹 설정을 진행할 수 있습니다.\n",
      "\n",
      "각 은행마다 세부 절차가 다를 수 있으니, 선택한 은행의 공식 웹사이트에서 구체적인 정보를 확인하는 것이 좋습니다. 추가로 궁금한 점이 있으면 언제든지 물어보세요!\n",
      "Human: 이전 답변을 불렛포인트 형식으로 정리하여 알려주세요.\n",
      "AI: 물론입니다! 비대면으로 은행 계좌를 개설하는 단계는 다음과 같습니다:\n",
      "\n",
      "- **은행 선택**: 원하는 은행을 결정하고 서비스 및 수수료 비교.\n",
      "- **온라인 신청**: 은행 웹사이트나 모바일 앱에서 계좌 개설 신청서 작성.\n",
      "- **신분증 확인**: 신분증 사진 업로드 또는 비대면 인증 방법 사용.\n",
      "- **계좌 유형 선택**: 일반 예금 계좌, 적금 계좌 등 원하는 계좌 유형 선택.\n",
      "- **약관 동의**: 계좌 개설에 필요한 약관 읽고 동의.\n",
      "- **최종 확인 및 개설 완료**: 모든 정보 제출 후 은행에서 확인하여 계좌 개설.\n",
      "- **카드 및 인터넷 뱅킹 설정**: 계좌 개설 후 카드 발급 신청 및 인터넷 뱅킹 설정.\n",
      "\n",
      "각 은행마다 세부 절차가 다를 수 있으니, 공식 웹사이트에서 확인하는 것이 좋습니다. 추가 질문이 있으면 언제든지 말씀해 주세요!\n"
     ]
    }
   ],
   "source": [
    "print(conversation.memory.load_memory_variables({})[\"history\"])"
   ]
  }
 ],
 "metadata": {
  "kernelspec": {
   "display_name": "venv",
   "language": "python",
   "name": "python3"
  },
  "language_info": {
   "codemirror_mode": {
    "name": "ipython",
    "version": 3
   },
   "file_extension": ".py",
   "mimetype": "text/x-python",
   "name": "python",
   "nbconvert_exporter": "python",
   "pygments_lexer": "ipython3",
   "version": "3.11.9"
  }
 },
 "nbformat": 4,
 "nbformat_minor": 2
}
