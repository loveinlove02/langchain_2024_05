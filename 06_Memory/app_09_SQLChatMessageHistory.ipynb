{
 "cells": [
  {
   "cell_type": "code",
   "execution_count": 1,
   "metadata": {},
   "outputs": [],
   "source": [
    "from dotenv import load_dotenv\n",
    "import os\n",
    "\n",
    "load_dotenv(verbose=True)\n",
    "key = os.getenv('OPENAI_API_KEY')"
   ]
  },
  {
   "cell_type": "markdown",
   "metadata": {},
   "source": [
    "storage를 사용하려면 다음 2가지를 제공하면 됩니다. <br>\n",
    "1. `session_id` : 사용자 이름, 이메일, 채팅 ID 등과 같은 세션의 고유 식별자입니다.\n",
    "2. `connection` : 데이터베이스 연결을 지정하는 문자열입니다. 이 문자열은 SQLAlchemy의 create_engine 함수에 전달됩니다."
   ]
  },
  {
   "cell_type": "code",
   "execution_count": 3,
   "metadata": {},
   "outputs": [],
   "source": [
    "from langchain_community.chat_message_histories import SQLChatMessageHistory"
   ]
  },
  {
   "cell_type": "code",
   "execution_count": 7,
   "metadata": {},
   "outputs": [],
   "source": [
    "# SQLChatMessageHistory 객체를 생성하고 세션 ID와 데이터베이스 연결 파일을 설정\n",
    "chat_message_history = SQLChatMessageHistory(\n",
    "    session_id=\"sql_history\", \t\t\t        # session_id의 기본 값으로 sql_history을 넣는다\n",
    "    connection=\"sqlite:///sqlite.db\"\t        # 데이터베이스 경로 지정 (sqlite.db는 파일 이름)\n",
    ")"
   ]
  },
  {
   "cell_type": "code",
   "execution_count": 5,
   "metadata": {},
   "outputs": [],
   "source": [
    "# 사용자 메시지를 추가합니다.\n",
    "chat_message_history.add_user_message(\"안녕? 만나서 반가워. 내 이름은 이인환이야. 나는 파이썬 개발자야. 앞으로 잘 부탁해!\")\n",
    "\n",
    "# AI 메시지를 추가합니다.\n",
    "chat_message_history.add_ai_message(\"안녕 이인환, 만나서 반가워. 나도 잘 부탁해!\")"
   ]
  },
  {
   "cell_type": "markdown",
   "metadata": {},
   "source": [
    "`chat_message_history.messages` : 저장된 대화내용 확인."
   ]
  },
  {
   "cell_type": "code",
   "execution_count": null,
   "metadata": {},
   "outputs": [
    {
     "name": "stdout",
     "output_type": "stream",
     "text": [
      "[HumanMessage(content='안녕? 만나서 반가워. 내 이름은 이인환이야. 나는 파이썬 개발자야. 앞으로 잘 부탁해!', additional_kwargs={}, response_metadata={}), AIMessage(content='안녕 이인환, 만나서 반가워. 나도 잘 부탁해!', additional_kwargs={}, response_metadata={}), HumanMessage(content='안녕? 만나서 반가워. 내 이름은 이인환이야. 나는 파이썬 개발자야. 앞으로 잘 부탁해!', additional_kwargs={}, response_metadata={}), AIMessage(content='안녕 이인환, 만나서 반가워. 나도 잘 부탁해!', additional_kwargs={}, response_metadata={})]\n"
     ]
    }
   ],
   "source": [
    "print(chat_message_history.messages)          "
   ]
  }
 ],
 "metadata": {
  "kernelspec": {
   "display_name": "venv",
   "language": "python",
   "name": "python3"
  },
  "language_info": {
   "codemirror_mode": {
    "name": "ipython",
    "version": 3
   },
   "file_extension": ".py",
   "mimetype": "text/x-python",
   "name": "python",
   "nbconvert_exporter": "python",
   "pygments_lexer": "ipython3",
   "version": "3.11.9"
  }
 },
 "nbformat": 4,
 "nbformat_minor": 2
}
