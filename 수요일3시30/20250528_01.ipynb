{
 "cells": [
  {
   "cell_type": "code",
   "execution_count": 2,
   "id": "1f4e4b3e",
   "metadata": {},
   "outputs": [],
   "source": [
    "from dotenv import load_dotenv\n",
    "import os\n",
    "\n",
    "load_dotenv(verbose=True)\n",
    "key = os.getenv('OPENAI_API_KEY')"
   ]
  },
  {
   "cell_type": "code",
   "execution_count": 3,
   "id": "d3de9c2f",
   "metadata": {},
   "outputs": [],
   "source": [
    "from langgraph.graph import StateGraph, START, END\n",
    "from typing import TypedDict"
   ]
  },
  {
   "cell_type": "code",
   "execution_count": 17,
   "id": "328c595c",
   "metadata": {},
   "outputs": [],
   "source": [
    "class InputState(TypedDict):\n",
    "    question: str\n",
    "\n",
    "class OutputState(TypedDict):\n",
    "    answer: str\n",
    "\n",
    "class OverallState(InputState, OutputState):\n",
    "    pass"
   ]
  },
  {
   "cell_type": "code",
   "execution_count": 18,
   "id": "cf8c2d0d",
   "metadata": {},
   "outputs": [],
   "source": [
    "def answer_node(state: InputState):\n",
    "    print(f\"state : {state['question']}\")\n",
    "    return {'answer': '답변입니다.', 'question': state['question']}"
   ]
  },
  {
   "cell_type": "code",
   "execution_count": 19,
   "id": "7c64257f",
   "metadata": {},
   "outputs": [],
   "source": [
    "graph_builder = StateGraph(OverallState, input=InputState, output=OutputState)"
   ]
  },
  {
   "cell_type": "code",
   "execution_count": 20,
   "id": "0796ee6e",
   "metadata": {},
   "outputs": [
    {
     "data": {
      "text/plain": [
       "<langgraph.graph.state.StateGraph at 0x11740202350>"
      ]
     },
     "execution_count": 20,
     "metadata": {},
     "output_type": "execute_result"
    }
   ],
   "source": [
    "graph_builder.add_node('answer_node', answer_node)"
   ]
  },
  {
   "cell_type": "code",
   "execution_count": 22,
   "id": "63284fbf",
   "metadata": {},
   "outputs": [
    {
     "data": {
      "text/plain": [
       "<langgraph.graph.state.StateGraph at 0x11740202350>"
      ]
     },
     "execution_count": 22,
     "metadata": {},
     "output_type": "execute_result"
    }
   ],
   "source": [
    "graph_builder.add_edge(START, 'answer_node')    # START(시작) -> answer_node"
   ]
  },
  {
   "cell_type": "code",
   "execution_count": 23,
   "id": "ad95ca76",
   "metadata": {},
   "outputs": [
    {
     "data": {
      "text/plain": [
       "<langgraph.graph.state.StateGraph at 0x11740202350>"
      ]
     },
     "execution_count": 23,
     "metadata": {},
     "output_type": "execute_result"
    }
   ],
   "source": [
    "graph_builder.add_edge('answer_node', END)      # answer_node -> END"
   ]
  },
  {
   "cell_type": "code",
   "execution_count": 24,
   "id": "e076fb4c",
   "metadata": {},
   "outputs": [],
   "source": [
    "graph = graph_builder.compile()                 # 그래프 컴파일"
   ]
  },
  {
   "cell_type": "code",
   "execution_count": 25,
   "id": "62e27e74",
   "metadata": {},
   "outputs": [
    {
     "data": {
      "text/plain": [
       "<langgraph.graph.state.CompiledStateGraph at 0x11740802250>"
      ]
     },
     "execution_count": 25,
     "metadata": {},
     "output_type": "execute_result"
    }
   ],
   "source": [
    "graph"
   ]
  }
 ],
 "metadata": {
  "kernelspec": {
   "display_name": "venv",
   "language": "python",
   "name": "python3"
  },
  "language_info": {
   "codemirror_mode": {
    "name": "ipython",
    "version": 3
   },
   "file_extension": ".py",
   "mimetype": "text/x-python",
   "name": "python",
   "nbconvert_exporter": "python",
   "pygments_lexer": "ipython3",
   "version": "3.11.9"
  }
 },
 "nbformat": 4,
 "nbformat_minor": 5
}
