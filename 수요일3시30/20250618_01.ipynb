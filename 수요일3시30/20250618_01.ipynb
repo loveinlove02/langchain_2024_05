{
 "cells": [
  {
   "cell_type": "code",
   "execution_count": 94,
   "id": "9f408d97",
   "metadata": {},
   "outputs": [],
   "source": [
    "from dotenv import load_dotenv\n",
    "import os\n",
    "\n",
    "load_dotenv(verbose=True)\n",
    "key = os.getenv('OPENAI_API_KEY')\n",
    "tavily_key = os.getenv('TAVILY_API_KEY')"
   ]
  },
  {
   "cell_type": "code",
   "execution_count": 95,
   "id": "677f8558",
   "metadata": {},
   "outputs": [],
   "source": [
    "from typing import Annotated, TypedDict\n",
    "from langgraph.graph import StateGraph, START, END\n",
    "from langgraph.graph.message import add_messages"
   ]
  },
  {
   "cell_type": "code",
   "execution_count": 96,
   "id": "45c8adc2",
   "metadata": {},
   "outputs": [],
   "source": [
    "from langchain_openai import ChatOpenAI\n",
    "from langchain_core.messages import HumanMessage, AIMessage\n",
    "from langchain_teddynote.tools.tavily import TavilySearch\n",
    "from langgraph.prebuilt import ToolNode, tools_condition"
   ]
  },
  {
   "cell_type": "code",
   "execution_count": 97,
   "id": "952ffb4e",
   "metadata": {},
   "outputs": [],
   "source": [
    "class State(TypedDict):\n",
    "    messages: Annotated[list, add_messages]"
   ]
  },
  {
   "cell_type": "code",
   "execution_count": 98,
   "id": "6857eeff",
   "metadata": {},
   "outputs": [],
   "source": [
    "tool = TavilySearch(api_key=tavily_key, max_results=1)\n",
    "tools = [tool]"
   ]
  },
  {
   "cell_type": "code",
   "execution_count": 99,
   "id": "f733ecaf",
   "metadata": {},
   "outputs": [],
   "source": [
    "llm = ChatOpenAI(\n",
    "    api_key=key, \n",
    "    model='gpt-4o-mini'\n",
    ")"
   ]
  },
  {
   "cell_type": "code",
   "execution_count": 100,
   "id": "e3625080",
   "metadata": {},
   "outputs": [],
   "source": [
    "llm_with_tools = llm.bind_tools(tools=tools)"
   ]
  },
  {
   "cell_type": "code",
   "execution_count": 101,
   "id": "46b6a4fe",
   "metadata": {},
   "outputs": [],
   "source": [
    "def chatbot(state: State):\n",
    "    answer = llm_with_tools.invoke(state['messages'])\n",
    "    return {'messages': [answer]}"
   ]
  },
  {
   "cell_type": "code",
   "execution_count": 102,
   "id": "e042e4e4",
   "metadata": {},
   "outputs": [],
   "source": [
    "question = HumanMessage(content='2025년 이란과 이스라엘 전쟁')\n",
    "state1 = State(messages=[question])\n",
    "result = chatbot(state1)"
   ]
  },
  {
   "cell_type": "code",
   "execution_count": 103,
   "id": "3b4fb485",
   "metadata": {},
   "outputs": [
    {
     "data": {
      "text/plain": [
       "AIMessage(content='', additional_kwargs={'tool_calls': [{'id': 'call_CgPa3YGNpEuv31RK6o3YQtbN', 'function': {'arguments': '{\"query\":\"2025 Iran Israel war\"}', 'name': 'tavily_web_search'}, 'type': 'function'}], 'refusal': None}, response_metadata={'token_usage': {'completion_tokens': 21, 'prompt_tokens': 103, 'total_tokens': 124, 'completion_tokens_details': {'accepted_prediction_tokens': 0, 'audio_tokens': 0, 'reasoning_tokens': 0, 'rejected_prediction_tokens': 0}, 'prompt_tokens_details': {'audio_tokens': 0, 'cached_tokens': 0}}, 'model_name': 'gpt-4o-mini-2024-07-18', 'system_fingerprint': 'fp_34a54ae93c', 'finish_reason': 'tool_calls', 'logprobs': None}, id='run-4db8a878-eebd-420f-a983-da7e25470854-0', tool_calls=[{'name': 'tavily_web_search', 'args': {'query': '2025 Iran Israel war'}, 'id': 'call_CgPa3YGNpEuv31RK6o3YQtbN', 'type': 'tool_call'}], usage_metadata={'input_tokens': 103, 'output_tokens': 21, 'total_tokens': 124, 'input_token_details': {'audio': 0, 'cache_read': 0}, 'output_token_details': {'audio': 0, 'reasoning': 0}})"
      ]
     },
     "execution_count": 103,
     "metadata": {},
     "output_type": "execute_result"
    }
   ],
   "source": [
    "result['messages'][0]"
   ]
  },
  {
   "cell_type": "code",
   "execution_count": 104,
   "id": "b3568061",
   "metadata": {},
   "outputs": [
    {
     "data": {
      "text/plain": [
       "''"
      ]
     },
     "execution_count": 104,
     "metadata": {},
     "output_type": "execute_result"
    }
   ],
   "source": [
    "result['messages'][0].content"
   ]
  },
  {
   "cell_type": "code",
   "execution_count": 105,
   "id": "3746108a",
   "metadata": {},
   "outputs": [
    {
     "data": {
      "text/plain": [
       "{'tool_calls': [{'id': 'call_CgPa3YGNpEuv31RK6o3YQtbN',\n",
       "   'function': {'arguments': '{\"query\":\"2025 Iran Israel war\"}',\n",
       "    'name': 'tavily_web_search'},\n",
       "   'type': 'function'}],\n",
       " 'refusal': None}"
      ]
     },
     "execution_count": 105,
     "metadata": {},
     "output_type": "execute_result"
    }
   ],
   "source": [
    "result['messages'][0].additional_kwargs"
   ]
  },
  {
   "cell_type": "code",
   "execution_count": 106,
   "id": "f6bddc11",
   "metadata": {},
   "outputs": [
    {
     "data": {
      "text/plain": [
       "{'token_usage': {'completion_tokens': 21,\n",
       "  'prompt_tokens': 103,\n",
       "  'total_tokens': 124,\n",
       "  'completion_tokens_details': {'accepted_prediction_tokens': 0,\n",
       "   'audio_tokens': 0,\n",
       "   'reasoning_tokens': 0,\n",
       "   'rejected_prediction_tokens': 0},\n",
       "  'prompt_tokens_details': {'audio_tokens': 0, 'cached_tokens': 0}},\n",
       " 'model_name': 'gpt-4o-mini-2024-07-18',\n",
       " 'system_fingerprint': 'fp_34a54ae93c',\n",
       " 'finish_reason': 'tool_calls',\n",
       " 'logprobs': None}"
      ]
     },
     "execution_count": 106,
     "metadata": {},
     "output_type": "execute_result"
    }
   ],
   "source": [
    "result['messages'][0].response_metadata"
   ]
  },
  {
   "cell_type": "code",
   "execution_count": 107,
   "id": "e1c18cc6",
   "metadata": {},
   "outputs": [
    {
     "data": {
      "text/plain": [
       "[{'name': 'tavily_web_search',\n",
       "  'args': {'query': '2025 Iran Israel war'},\n",
       "  'id': 'call_CgPa3YGNpEuv31RK6o3YQtbN',\n",
       "  'type': 'tool_call'}]"
      ]
     },
     "execution_count": 107,
     "metadata": {},
     "output_type": "execute_result"
    }
   ],
   "source": [
    "result['messages'][0].tool_calls"
   ]
  },
  {
   "cell_type": "code",
   "execution_count": 108,
   "id": "193e855d",
   "metadata": {},
   "outputs": [
    {
     "data": {
      "text/plain": [
       "'tavily_web_search'"
      ]
     },
     "execution_count": 108,
     "metadata": {},
     "output_type": "execute_result"
    }
   ],
   "source": [
    "result['messages'][0].tool_calls[0]['name']"
   ]
  },
  {
   "cell_type": "code",
   "execution_count": 109,
   "id": "4fd4bda1",
   "metadata": {},
   "outputs": [
    {
     "data": {
      "text/plain": [
       "{'query': '2025 Iran Israel war'}"
      ]
     },
     "execution_count": 109,
     "metadata": {},
     "output_type": "execute_result"
    }
   ],
   "source": [
    "result['messages'][0].tool_calls[0]['args']"
   ]
  },
  {
   "cell_type": "code",
   "execution_count": 110,
   "id": "eef74afd",
   "metadata": {},
   "outputs": [],
   "source": [
    "graph_builder = StateGraph(State)"
   ]
  },
  {
   "cell_type": "code",
   "execution_count": 111,
   "id": "9a181928",
   "metadata": {},
   "outputs": [
    {
     "data": {
      "text/plain": [
       "<langgraph.graph.state.StateGraph at 0x2a0e77190d0>"
      ]
     },
     "execution_count": 111,
     "metadata": {},
     "output_type": "execute_result"
    }
   ],
   "source": [
    "graph_builder.add_node('chatbot', chatbot)      # 챗봇 노드 추가"
   ]
  },
  {
   "cell_type": "code",
   "execution_count": 112,
   "id": "c13ce6b9",
   "metadata": {},
   "outputs": [],
   "source": [
    "tool_node = ToolNode(tools=[tool])              # 도구 노드 생성"
   ]
  },
  {
   "cell_type": "code",
   "execution_count": 113,
   "id": "92d49b60",
   "metadata": {},
   "outputs": [
    {
     "data": {
      "text/plain": [
       "<langgraph.graph.state.StateGraph at 0x2a0e77190d0>"
      ]
     },
     "execution_count": 113,
     "metadata": {},
     "output_type": "execute_result"
    }
   ],
   "source": [
    "graph_builder.add_node('tools', tool_node)      # 도구 노드 추가"
   ]
  },
  {
   "cell_type": "code",
   "execution_count": 114,
   "id": "e31b5d6e",
   "metadata": {},
   "outputs": [
    {
     "data": {
      "text/plain": [
       "<langgraph.graph.state.StateGraph at 0x2a0e77190d0>"
      ]
     },
     "execution_count": 114,
     "metadata": {},
     "output_type": "execute_result"
    }
   ],
   "source": [
    "graph_builder.add_conditional_edges(\n",
    "    'chatbot', \n",
    "    tools_condition\n",
    ")"
   ]
  },
  {
   "cell_type": "code",
   "execution_count": 115,
   "id": "c02f8c08",
   "metadata": {},
   "outputs": [
    {
     "data": {
      "text/plain": [
       "<langgraph.graph.state.StateGraph at 0x2a0e77190d0>"
      ]
     },
     "execution_count": 115,
     "metadata": {},
     "output_type": "execute_result"
    }
   ],
   "source": [
    "graph_builder.add_edge(START, 'chatbot')"
   ]
  },
  {
   "cell_type": "code",
   "execution_count": 116,
   "id": "31da7ec9",
   "metadata": {},
   "outputs": [
    {
     "data": {
      "text/plain": [
       "<langgraph.graph.state.StateGraph at 0x2a0e77190d0>"
      ]
     },
     "execution_count": 116,
     "metadata": {},
     "output_type": "execute_result"
    }
   ],
   "source": [
    "graph_builder.add_edge('tools', 'chatbot')"
   ]
  },
  {
   "cell_type": "code",
   "execution_count": 117,
   "id": "b6bac309",
   "metadata": {},
   "outputs": [
    {
     "data": {
      "text/plain": [
       "<langgraph.graph.state.StateGraph at 0x2a0e77190d0>"
      ]
     },
     "execution_count": 117,
     "metadata": {},
     "output_type": "execute_result"
    }
   ],
   "source": [
    "graph_builder.add_edge('chatbot', END)"
   ]
  },
  {
   "cell_type": "code",
   "execution_count": 118,
   "id": "5aa4c675",
   "metadata": {},
   "outputs": [],
   "source": [
    "graph = graph_builder.compile()"
   ]
  },
  {
   "cell_type": "code",
   "execution_count": 119,
   "id": "03199910",
   "metadata": {},
   "outputs": [
    {
     "data": {
      "image/png": "[encoded data removed]",
      "text/plain": [
       "<IPython.core.display.Image object>"
      ]
     },
     "metadata": {},
     "output_type": "display_data"
    }
   ],
   "source": [
    "from IPython.display import Image, display\n",
    "\n",
    "display(Image(graph.get_graph().draw_mermaid_png()))"
   ]
  },
  {
   "cell_type": "code",
   "execution_count": 120,
   "id": "baf75e6e",
   "metadata": {},
   "outputs": [],
   "source": [
    "input_message = HumanMessage(content='대한민국의 수도는 어디야?')\n",
    "answer = graph.invoke({'messages': [input_message]})"
   ]
  },
  {
   "cell_type": "code",
   "execution_count": 121,
   "id": "4132a2e2",
   "metadata": {},
   "outputs": [
    {
     "data": {
      "text/plain": [
       "{'messages': [HumanMessage(content='대한민국의 수도는 어디야?', additional_kwargs={}, response_metadata={}, id='cc343f58-282a-444a-9af8-e856c875c08b'),\n",
       "  AIMessage(content='대한민국의 수도는 서울입니다.', additional_kwargs={'refusal': None}, response_metadata={'token_usage': {'completion_tokens': 9, 'prompt_tokens': 99, 'total_tokens': 108, 'completion_tokens_details': {'accepted_prediction_tokens': 0, 'audio_tokens': 0, 'reasoning_tokens': 0, 'rejected_prediction_tokens': 0}, 'prompt_tokens_details': {'audio_tokens': 0, 'cached_tokens': 0}}, 'model_name': 'gpt-4o-mini-2024-07-18', 'system_fingerprint': 'fp_34a54ae93c', 'finish_reason': 'stop', 'logprobs': None}, id='run-c74f14d6-1ba2-4118-abcf-258d77b43cf9-0', usage_metadata={'input_tokens': 99, 'output_tokens': 9, 'total_tokens': 108, 'input_token_details': {'audio': 0, 'cache_read': 0}, 'output_token_details': {'audio': 0, 'reasoning': 0}})]}"
      ]
     },
     "execution_count": 121,
     "metadata": {},
     "output_type": "execute_result"
    }
   ],
   "source": [
    "answer"
   ]
  },
  {
   "cell_type": "code",
   "execution_count": 123,
   "id": "8f529251",
   "metadata": {},
   "outputs": [],
   "source": [
    "input_message = HumanMessage(content='대구 동성로 떡볶이')\n",
    "answer = graph.invoke({'messages': [input_message]})"
   ]
  },
  {
   "cell_type": "code",
   "execution_count": 124,
   "id": "d0ff38db",
   "metadata": {},
   "outputs": [
    {
     "data": {
      "text/plain": [
       "{'messages': [HumanMessage(content='대구 동성로 떡볶이', additional_kwargs={}, response_metadata={}, id='fac3bb20-3da6-4731-bef6-f5dcf7f746a2'),\n",
       "  AIMessage(content='', additional_kwargs={'tool_calls': [{'id': 'call_xGwMMvCBtZ0TOmYSvmCoAwzX', 'function': {'arguments': '{\"query\":\"대구 동성로 떡볶이\"}', 'name': 'tavily_web_search'}, 'type': 'function'}], 'refusal': None}, response_metadata={'token_usage': {'completion_tokens': 26, 'prompt_tokens': 101, 'total_tokens': 127, 'completion_tokens_details': {'accepted_prediction_tokens': 0, 'audio_tokens': 0, 'reasoning_tokens': 0, 'rejected_prediction_tokens': 0}, 'prompt_tokens_details': {'audio_tokens': 0, 'cached_tokens': 0}}, 'model_name': 'gpt-4o-mini-2024-07-18', 'system_fingerprint': 'fp_34a54ae93c', 'finish_reason': 'tool_calls', 'logprobs': None}, id='run-aa4ac514-8ce8-4575-bc55-636751d64595-0', tool_calls=[{'name': 'tavily_web_search', 'args': {'query': '대구 동성로 떡볶이'}, 'id': 'call_xGwMMvCBtZ0TOmYSvmCoAwzX', 'type': 'tool_call'}], usage_metadata={'input_tokens': 101, 'output_tokens': 26, 'total_tokens': 127, 'input_token_details': {'audio': 0, 'cache_read': 0}, 'output_token_details': {'audio': 0, 'reasoning': 0}}),\n",
       "  ToolMessage(content='[{\"title\": \"대구 동성로 즉석떡볶이 맛집 \\\\\"동성로 떡볶이\\\\\"\", \"url\": \"https://zmxm2001.tistory.com/entry/대구-동성로-즉석떡볶이-맛집-동성로-떡볶이\", \"content\": \"학교다닐때 자주 갔었던 동성로 떡볶이 오랜만에 추억여행 겸 다녀왔답니다 30년이 넘은 즉석떡볶이의 원조맛집이에요 동성로 떡볶이 주소 : 대구광역시 중구 동성로 19-7 전화 : 053-424-8716 영업시간 : 10:00-21:00 주차는 영스퀘어 주차장을 이용하시면 가까워요 중앙로역에서도 가깝고 동성로에 새로\", \"score\": 0.8773195, \"raw_content\": \"# [영대영심](https://zmxm2001.tistory.com/)\\\\n\\\\n# 대구 동성로 즉석떡볶이 맛집 \\\\\"동성로 떡볶이\\\\\"\\\\n\\\\n학교다닐때 자주 갔었던 동성로 떡볶이\\\\n\\\\n오랜만에 추억여행 겸 다녀왔답니다\\\\n\\\\n30년이 넘은 즉석떡볶이의 원조맛집이에요\\\\n\\\\n![](https://blog.kakaocdn.net/dn/JRNr5/btsCZ7fxJkX/SrEq1aT4PigNf38EKx9LQ1/img.jpg)\\\\n\\\\n![](https://blog.kakaocdn.net/dn/JRNr5/btsCZ7fxJkX/SrEq1aT4PigNf38EKx9LQ1/img.jpg)\\\\n\\\\n주차는 영스퀘어 주차장을 이용하시면 가까워요\\\\n\\\\n![](https://blog.kakaocdn.net/dn/bBPXxH/btsCSBCeA8X/ltXUsYTG65jBNL6xXEU5sK/img.jpg)\\\\n\\\\n![](https://blog.kakaocdn.net/dn/bBPXxH/btsCSBCeA8X/ltXUsYTG65jBNL6xXEU5sK/img.jpg)\\\\n\\\\n중앙로역에서도 가깝고\\\\n\\\\n동성로에 새로생긴 무신사 골목으로 들어오시면 바로 있어서\\\\n\\\\n찾기도 쉬우실 거에요\\\\n\\\\n오래된 곳이긴 하지만 여전히 손님이 많은듯 했어요\\\\n\\\\n![](https://blog.kakaocdn.net/dn/C51vf/btsCQ5wTSa7/HwFZhSZMqg4HTq4LdM37S0/img.png)![](https://blog.kakaocdn.net/dn/6mnwT/btsCOA46wCN/6kMSRDJ5E2P9TQWs7KRA80/img.jpg)\\\\n\\\\n![](https://blog.kakaocdn.net/dn/C51vf/btsCQ5wTSa7/HwFZhSZMqg4HTq4LdM37S0/img.png)\\\\n![](https://blog.kakaocdn.net/dn/6mnwT/btsCOA46wCN/6kMSRDJ5E2P9TQWs7KRA80/img.jpg)\\\\n\\\\n내부는 테이블이나 분위기나 올드한느낌이긴한데\\\\n\\\\n어릴때 많이 가던 분식집+돈까스 집 느낌이라\\\\n\\\\n정감가고 오힐혀 좋았어요\\\\n\\\\n![](https://blog.kakaocdn.net/dn/bSgJ7u/btsCQ4rd2SG/uunhCZ7axdxUXEhq4tsfuK/img.png)\\\\n\\\\n![](https://blog.kakaocdn.net/dn/bSgJ7u/btsCQ4rd2SG/uunhCZ7axdxUXEhq4tsfuK/img.png)\\\\n\\\\n가게내부는 테이블도 꽤 많고 넓었어요\\\\n\\\\n자리마다 휴대용 가스버너가 하나씩 있고\\\\n\\\\n주문하면 재료위에 양념장 올려서 나오는데\\\\n\\\\n살짝 졸이기만 해서 바로 먹을 수 있답니다\\\\n\\\\n그리고 비조리로 모두 포장도 가능해서 집에가서 물만 살짝 넣으면\\\\n\\\\n떡볶이 완성!\\\\n\\\\n저희 먹는동안에도 포장손님도 많더라구요\\\\n\\\\n![](https://blog.kakaocdn.net/dn/0EVBm/btsCOBXfvna/9Rgvgptb6krQIoWzPUlgik/img.jpg)\\\\n\\\\n![](https://blog.kakaocdn.net/dn/0EVBm/btsCOBXfvna/9Rgvgptb6krQIoWzPUlgik/img.jpg)\\\\n\\\\n떡볶이 종류는 기본 동성로떡볶이, 순대떡볶이,모듬떡볶이,피자떡볶이등 다양해서\\\\n\\\\n자기 스타일대로 주문해서 먹으면 됩니다\\\\n\\\\n이색적인 피자느낌도 좋지만 이런 맛집에 오면\\\\n\\\\n기본으로 주문해주는게 국룰이쥬\\\\n\\\\n![](https://blog.kakaocdn.net/dn/bouQbz/btsCZ2k0abD/0KETV4FFLPkvwIHLTXvui1/img.jpg)\\\\n\\\\n![](https://blog.kakaocdn.net/dn/bouQbz/btsCZ2k0abD/0KETV4FFLPkvwIHLTXvui1/img.jpg)\\\\n\\\\n그리고 즉석 떡볶이의 꽃인 사리추가\\\\n\\\\n라면 , 쫄면, 오뎅, 우동, 떡, 만두,치즈 등\\\\n\\\\n다양하게 추가해서 먹을 수 있어요\\\\n\\\\n가격도 1000원이라 부담없이 마구마구 추가가능\\\\n\\\\n![](https://blog.kakaocdn.net/dn/cCzu48/btsCRfMT4mU/ZW6Du2M4wztTHqmZep24Nk/img.jpg)![](https://blog.kakaocdn.net/dn/z5wuE/btsCZi9k2yi/6AZKGzkICvDP9rkn9f4Zyk/img.jpg)\\\\n\\\\n![](https://blog.kakaocdn.net/dn/cCzu48/btsCRfMT4mU/ZW6Du2M4wztTHqmZep24Nk/img.jpg)\\\\n![](https://blog.kakaocdn.net/dn/z5wuE/btsCZi9k2yi/6AZKGzkICvDP9rkn9f4Zyk/img.jpg)\\\\n\\\\n그외에도 만두, 납작만두, 야채튀김, 김말이도 추가가능하고\\\\n\\\\n튀김류는 2-3천원대입니다\\\\n\\\\n종이주문서에 먹고싶은거 체크하고 사장님이나 직원분 부르면\\\\n\\\\n체크한다음 가져다 주세요\\\\n\\\\n저희는 기본떡볶이 2인에 라면 , 순대 ,계란, 김말이튀김을 추가해서 주문했어요\\\\n\\\\n![](https://blog.kakaocdn.net/dn/Rfp3a/btsCVHPdtKV/k6TzbrNU0KPe6lmKka3zKk/img.jpg)\\\\n\\\\n![](https://blog.kakaocdn.net/dn/Rfp3a/btsCVHPdtKV/k6TzbrNU0KPe6lmKka3zKk/img.jpg)\\\\n\\\\n처음에 이게 2인분인가..?\\\\n\\\\n양이 적어보였는데 먹다보니 또 많더라구요\\\\n\\\\n집에서 넣는 재료랑 같은데 왜 집에서는 이런맛이 나지 않는지..\\\\n\\\\n아무래도 비법 양념장 때문이겠죠?\\\\n\\\\n이제 끓이기만 하면 떡볶이 완성\\\\n\\\\n정말 살짝만 끓여주면 되요\\\\n\\\\n떡 중간에 구멍이 뚫려있는데 그래서 그런지\\\\n\\\\n짧게 끓였는데도 소스가\\\\n\\\\n잘베여있어서 맛있더라구요\\\\n\\\\n![](https://blog.kakaocdn.net/dn/bpeKpQ/btsCQslsae2/LKHsi5JhQK07qskXlwjvK0/img.jpg)\\\\n\\\\n![](https://blog.kakaocdn.net/dn/bpeKpQ/btsCQslsae2/LKHsi5JhQK07qskXlwjvK0/img.jpg)\\\\n\\\\n추가로 주문한 김말이도 떡볶이 국물에 퐁당..!\\\\n\\\\n오랜만에 먹는 즉석떡볶이라 그런지\\\\n\\\\n너무 맛있었어요\\\\n\\\\n소스가 맵지도 않아서 부담없이 먹을 수 있었고\\\\n\\\\n라면사리는 꼭 추가해서 먹읍시다 우리!\\\\n\\\\n![](https://blog.kakaocdn.net/dn/bnKVNS/btsCTWFZqZM/ewbWldOaqGbVSIWBUxB0gK/img.jpg)\\\\n\\\\n![](https://blog.kakaocdn.net/dn/bnKVNS/btsCTWFZqZM/ewbWldOaqGbVSIWBUxB0gK/img.jpg)\\\\n\\\\n마지막으로 떡볶이를 어느정도 다 먹었으면\\\\n\\\\n볶음밥 추가주문해야되요\\\\n\\\\n남은 떡볶이 국물베이스에 김가루 넣어서 밥을 볶아주시는데\\\\n\\\\n요것이 또 별미입니다\\\\n\\\\n어딜가나 실패없는 볶음밥!\\\\n\\\\n물론 예전에 비해 가격이 오르긴 했지만\\\\n\\\\n아직은 맘껏추가해도 2만원이하로 배부르게 먹을 수 있는 곳이에요\\\\n\\\\n학창시절 추억의 맛집 동성로 떡볶이!\\\\n\\\\n## 태그\\\\n\\\\n## **\\'맛집-카페\\'** Related Articles\\\\n\\\\n![](//i1.daumcdn.net/thumb/C200x200/?fname=https%3A%2F%2Fblog.kakaocdn.net%2Fdn%2F8UiXL%2FbtsC4wByHa4%2F9beUjvDd0pboFuWf12PN21%2Fimg.jpg)\\\\n![](//i1.daumcdn.net/thumb/C200x200/?fname=https%3A%2F%2Fblog.kakaocdn.net%2Fdn%2FCBQfi%2FbtsC9BOFEC2%2Fuz1yszuKyiN2drP8SpOdQK%2Fimg.png)\\\\n![](//i1.daumcdn.net/thumb/C200x200/?fname=https%3A%2F%2Fblog.kakaocdn.net%2Fdn%2FFVe8b%2FbtsCOBvUjQT%2F09SqSQ5LoZaB5kXbitLbM1%2Fimg.jpg)\\\\n![](//i1.daumcdn.net/thumb/C200x200/?fname=https%3A%2F%2Fblog.kakaocdn.net%2Fdn%2FY85Vx%2FbtsCKqVY87u%2Fkvk2YiNIBqD3EGXrTJC7m0%2Fimg.png)\\\\n\\\\nDESIGN BY [TISTORY](#) [관리자](https://zmxm2001.tistory.com/manage)\\\\n\\\\n## 티스토리툴바\"}]', name='tavily_web_search', id='141473ac-e72d-4bf7-822f-c6a7f9b08a21', tool_call_id='call_xGwMMvCBtZ0TOmYSvmCoAwzX'),\n",
       "  AIMessage(content='대구 동성로에 위치한 떡볶이 맛집에 대한 정보입니다.\\n\\n### 동성로 떡볶이\\n- **주소**: 대구광역시 중구 동성로 19-7\\n- **전화**: 053-424-8716\\n- **영업시간**: 10:00 - 21:00\\n- **주차**: 영스퀘어 주차장을 이용 가능\\n- **특징**: 30년이 넘은 즉석떡볶이의 원조 맛집으로, 다양한 떡볶이 종류와 추가 메뉴가 있습니다. \\n\\n#### 메뉴\\n- 기본 동성로 떡볶이, 순대떡볶이, 모듬떡볶이, 피자떡볶이 등\\n- 사리 추가 (라면, 쫄면, 오뎅, 우동 등) 가능\\n- 가격은 약 1,000원으로 부담 없이 추가 가능\\n\\n#### 분위기\\n가게 내부는 넓고 테이블도 많으며, 각 자리에는 휴대용 가스버너가 있어 즉석에서 조리해 먹을 수 있습니다. 오래된 분식집의 정감을 느낄 수 있는 분위기입니다.\\n\\n자세한 내용은 [여기](https://zmxm2001.tistory.com/entry/대구-동성로-즉석떡볶이-맛집-동성로-떡볶이)에서 확인하실 수 있습니다.', additional_kwargs={'refusal': None}, response_metadata={'token_usage': {'completion_tokens': 332, 'prompt_tokens': 2794, 'total_tokens': 3126, 'completion_tokens_details': {'accepted_prediction_tokens': 0, 'audio_tokens': 0, 'reasoning_tokens': 0, 'rejected_prediction_tokens': 0}, 'prompt_tokens_details': {'audio_tokens': 0, 'cached_tokens': 0}}, 'model_name': 'gpt-4o-mini-2024-07-18', 'system_fingerprint': 'fp_34a54ae93c', 'finish_reason': 'stop', 'logprobs': None}, id='run-ef9e948f-f78c-4d38-9fe9-cb855c65954b-0', usage_metadata={'input_tokens': 2794, 'output_tokens': 332, 'total_tokens': 3126, 'input_token_details': {'audio': 0, 'cache_read': 0}, 'output_token_details': {'audio': 0, 'reasoning': 0}})]}"
      ]
     },
     "execution_count": 124,
     "metadata": {},
     "output_type": "execute_result"
    }
   ],
   "source": [
    "answer"
   ]
  },
  {
   "cell_type": "code",
   "execution_count": 125,
   "id": "e8d40a2a",
   "metadata": {},
   "outputs": [],
   "source": [
    "input_message = HumanMessage(content='2025 g7 정상회의')\n",
    "answer = graph.invoke({'messages': [input_message]})"
   ]
  },
  {
   "cell_type": "code",
   "execution_count": 126,
   "id": "2bb5a33c",
   "metadata": {},
   "outputs": [
    {
     "data": {
      "text/plain": [
       "{'messages': [HumanMessage(content='2025 g7 정상회의', additional_kwargs={}, response_metadata={}, id='0c5b2ab0-9a6c-4f9d-a648-1ffcc858363e'),\n",
       "  AIMessage(content='', additional_kwargs={'tool_calls': [{'id': 'call_xfTalpyeexWz09Q039R1TAAI', 'function': {'arguments': '{\"query\":\"2025 G7 정상회의\"}', 'name': 'tavily_web_search'}, 'type': 'function'}], 'refusal': None}, response_metadata={'token_usage': {'completion_tokens': 22, 'prompt_tokens': 97, 'total_tokens': 119, 'completion_tokens_details': {'accepted_prediction_tokens': 0, 'audio_tokens': 0, 'reasoning_tokens': 0, 'rejected_prediction_tokens': 0}, 'prompt_tokens_details': {'audio_tokens': 0, 'cached_tokens': 0}}, 'model_name': 'gpt-4o-mini-2024-07-18', 'system_fingerprint': 'fp_34a54ae93c', 'finish_reason': 'tool_calls', 'logprobs': None}, id='run-df906550-45dd-4c85-a40d-001c473c9fb9-0', tool_calls=[{'name': 'tavily_web_search', 'args': {'query': '2025 G7 정상회의'}, 'id': 'call_xfTalpyeexWz09Q039R1TAAI', 'type': 'tool_call'}], usage_metadata={'input_tokens': 97, 'output_tokens': 22, 'total_tokens': 119, 'input_token_details': {'audio': 0, 'cache_read': 0}, 'output_token_details': {'audio': 0, 'reasoning': 0}}),\n",
       "  ToolMessage(content='[{\"title\": \"2025 G7 정상회의 초청국·참가국 일정 총정리\", \"url\": \"https://ha.ggiovaraca.com/entry/2025-G7-정상회의-초청국·참가국-일정-총정리\", \"content\": \"2025 G7 정상회의 초청국·참가국 일정 총정리 전 세계 주요 7개국(G7)이 모이는 **2025 G7 정상회의**가 캐나다 앨버타주 **카나나스키스**에서 개최됩니다. Image 4: 2025 G7 정상회의 초청국·참가국 일정 총정리 Image 5: 2025 G7 정상회의 초청국&middot;참가국 일정 총정리Image 6Image 7 *   🇮🇳 인도 – 총리 나렌드라 모디 (G7 + 4 선진국 구도 강화 차원) Image 8Image 9: 2025 G7 정상회의 초청국&middot;참가국 일정 총정리Image 10 Image 11: 2025 G7 정상회의 초청국&middot;참가국 일정 총정리Image 12Image 13 Image 14: 2025 G7 정상회의 초청국&middot;참가국 일정 총정리Image 15Image 16 Image 17: 2025 G7 정상회의 초청국&middot;참가국 일정 총정리Image 18Image 19 Image 20: 2025 G7 정상회의 초청국&middot;참가국 일정 총정리Image 21 2025 g7 정상회의 일정, g7 의장국 캐나다, G7 초청국, g7 초청국 명단, 이재명 g7 참석, 인도 모디 g7 초청, 카나나스키스 g7\", \"score\": 0.854509, \"raw_content\": \"Published Time: 2025-06-09T03:03:02+09:00\\\\n\\\\n2025 G7 정상회의 초청국·참가국 일정 총정리\\\\n\\\\n===============\\\\n\\\\n[본문 바로가기](https://ha.ggiovaraca.com/entry/2025-G7-%EC%A0%95%EC%83%81%ED%9A%8C%EC%9D%98-%EC%B4%88%EC%B2%AD%EA%B5%AD%C2%B7%EC%B0%B8%EA%B0%80%EA%B5%AD-%EC%9D%BC%EC%A0%95-%EC%B4%9D%EC%A0%95%EB%A6%AC#content)\\\\n\\\\n[정보 계곡](https://ha.ggiovaraca.com/)\\\\n===================================\\\\n\\\\n블로그 내 검색 검색\\\\n\\\\n![Image 1: 블로그 이미지](https://t1.daumcdn.net/tistory_admin/static/manage/images/r3/default_L.png)\\\\n*   [관리](https://wjdqhrprrhr.tistory.com/manage)\\\\n*   [글쓰기](https://wjdqhrprrhr.tistory.com/manage/entry/post)\\\\n*   [로그인](https://ha.ggiovaraca.com/entry/2025-G7-%EC%A0%95%EC%83%81%ED%9A%8C%EC%9D%98-%EC%B4%88%EC%B2%AD%EA%B5%AD%C2%B7%EC%B0%B8%EA%B0%80%EA%B5%AD-%EC%9D%BC%EC%A0%95-%EC%B4%9D%EC%A0%95%EB%A6%AC#)\\\\n*   [로그아웃](https://ha.ggiovaraca.com/entry/2025-G7-%EC%A0%95%EC%83%81%ED%9A%8C%EC%9D%98-%EC%B4%88%EC%B2%AD%EA%B5%AD%C2%B7%EC%B0%B8%EA%B0%80%EA%B5%AD-%EC%9D%BC%EC%A0%95-%EC%B4%9D%EC%A0%95%EB%A6%AC#)\\\\n\\\\n메뉴\\\\n\\\\n*   [홈](https://ha.ggiovaraca.com/)\\\\n*   [태그](https://ha.ggiovaraca.com/tag)\\\\n*   [방명록](https://ha.ggiovaraca.com/guestbook)\\\\n\\\\n카테고리 없음\\\\n2025 G7 정상회의 초청국·참가국 일정 총정리\\\\n===========================\\\\n\\\\nby 정보 계곡 주인 2025. 6. 9.\\\\n\\\\n목차\\\\n\\\\n*   [📌 G7 기본 정보](https://ha.ggiovaraca.com/entry/2025-G7-%EC%A0%95%EC%83%81%ED%9A%8C%EC%9D%98-%EC%B4%88%EC%B2%AD%EA%B5%AD%C2%B7%EC%B0%B8%EA%B0%80%EA%B5%AD-%EC%9D%BC%EC%A0%95-%EC%B4%9D%EC%A0%95%EB%A6%AC#toc-heading-0)\\\\n*   [🧭 참가 구성](https://ha.ggiovaraca.com/entry/2025-G7-%EC%A0%95%EC%83%81%ED%9A%8C%EC%9D%98-%EC%B4%88%EC%B2%AD%EA%B5%AD%C2%B7%EC%B0%B8%EA%B0%80%EA%B5%AD-%EC%9D%BC%EC%A0%95-%EC%B4%9D%EC%A0%95%EB%A6%AC#toc-heading-1)\\\\n    *   [1. G7 정회원 (정상급)](https://ha.ggiovaraca.com/entry/2025-G7-%EC%A0%95%EC%83%81%ED%9A%8C%EC%9D%98-%EC%B4%88%EC%B2%AD%EA%B5%AD%C2%B7%EC%B0%B8%EA%B0%80%EA%B5%AD-%EC%9D%BC%EC%A0%95-%EC%B4%9D%EC%A0%95%EB%A6%AC#toc-heading-2)\\\\n    *   [2. 초청국 (비회원 정상급)](https://ha.ggiovaraca.com/entry/2025-G7-%EC%A0%95%EC%83%81%ED%9A%8C%EC%9D%98-%EC%B4%88%EC%B2%AD%EA%B5%AD%C2%B7%EC%B0%B8%EA%B0%80%EA%B5%AD-%EC%9D%BC%EC%A0%95-%EC%B4%9D%EC%A0%95%EB%A6%AC#toc-heading-3)\\\\n\\\\n*   [📅 일정 개요](https://ha.ggiovaraca.com/entry/2025-G7-%EC%A0%95%EC%83%81%ED%9A%8C%EC%9D%98-%EC%B4%88%EC%B2%AD%EA%B5%AD%C2%B7%EC%B0%B8%EA%B0%80%EA%B5%AD-%EC%9D%BC%EC%A0%95-%EC%B4%9D%EC%A0%95%EB%A6%AC#toc-heading-4)\\\\n*   [🎯 한국의 의미](https://ha.ggiovaraca.com/entry/2025-G7-%EC%A0%95%EC%83%81%ED%9A%8C%EC%9D%98-%EC%B4%88%EC%B2%AD%EA%B5%AD%C2%B7%EC%B0%B8%EA%B0%80%EA%B5%AD-%EC%9D%BC%EC%A0%95-%EC%B4%9D%EC%A0%95%EB%A6%AC#toc-heading-5)\\\\n*   [🌏 인도 초청 배경 및 논란](https://ha.ggiovaraca.com/entry/2025-G7-%EC%A0%95%EC%83%81%ED%9A%8C%EC%9D%98-%EC%B4%88%EC%B2%AD%EA%B5%AD%C2%B7%EC%B0%B8%EA%B0%80%EA%B5%AD-%EC%9D%BC%EC%A0%95-%EC%B4%9D%EC%A0%95%EB%A6%AC#toc-heading-6)\\\\n*   [✅ 요약 정리](https://ha.ggiovaraca.com/entry/2025-G7-%EC%A0%95%EC%83%81%ED%9A%8C%EC%9D%98-%EC%B4%88%EC%B2%AD%EA%B5%AD%C2%B7%EC%B0%B8%EA%B0%80%EA%B5%AD-%EC%9D%BC%EC%A0%95-%EC%B4%9D%EC%A0%95%EB%A6%AC#toc-heading-7)\\\\n*   [✅ 결론](https://ha.ggiovaraca.com/entry/2025-G7-%EC%A0%95%EC%83%81%ED%9A%8C%EC%9D%98-%EC%B4%88%EC%B2%AD%EA%B5%AD%C2%B7%EC%B0%B8%EA%B0%80%EA%B5%AD-%EC%9D%BC%EC%A0%95-%EC%B4%9D%EC%A0%95%EB%A6%AC#toc-heading-8)\\\\n\\\\n[http://smartstore.naver.com/comlandsys](https://ader.naver.com/v1/kqDj_byA-NP-6UWNhc4wpEtBEGboKgpjDKnsym1LTq8Dbe_cBkHjBLrOXfOO_TC7Eud9z_FHYFMMyMWF1YyFpnog1iyypnD1f00_DfuS-vcbEZGv-i0OPYZK7_pCyPEUzW_MkGi2_FWe_CzM--Gk8s5D0tgdUT-l6fV__Gz69R2BSf8zIsLAMBk1_UpY08Oxopsmwi5GqnmYX7H2A06aBc8XI1fc4S8uPEMcCyAoJ6azk8spjEc6XaxzPG-k0gGF0hBPCsZf4Oc2i-oNN3JKqK7fnq-0GUxoIRmez64y5TU=?c=tistory.ch1&t=0)광고\\\\n\\\\n[나스 컴랜드시스템 기업견적/초기설정 무료서비스](https://ader.naver.com/v1/kqDj_byA-NP-6UWNhc4wpEtBEGboKgpjDKnsym1LTq8Dbe_cBkHjBLrOXfOO_TC7Eud9z_FHYFMMyMWF1YyFpnog1iyypnD1f00_DfuS-vcbEZGv-i0OPYZK7_pCyPEUzW_MkGi2_FWe_CzM--Gk8s5D0tgdUT-l6fV__Gz69R2BSf8zIsLAMBk1_UpY08Oxopsmwi5GqnmYX7H2A06aBc8XI1fc4S8uPEMcCyAoJ6azk8spjEc6XaxzPG-k0gGF0hBPCsZf4Oc2i-oNN3JKqK7fnq-0GUxoIRmez64y5TU=?c=tistory.ch1&t=0)[나스, NAS 견적문의! 컴랜드에서만 받을 수 있는 특별한 혜택!](https://ader.naver.com/v1/kqDj_byA-NP-6UWNhc4wpEtBEGboKgpjDKnsym1LTq8Dbe_cBkHjBLrOXfOO_TC7Eud9z_FHYFMMyMWF1YyFpnog1iyypnD1f00_DfuS-vcbEZGv-i0OPYZK7_pCyPEUzW_MkGi2_FWe_CzM--Gk8s5D0tgdUT-l6fV__Gz69R2BSf8zIsLAMBk1_UpY08Oxopsmwi5GqnmYX7H2A06aBc8XI1fc4S8uPEMcCyAoJ6azk8spjEc6XaxzPG-k0gGF0hBPCsZf4Oc2i-oNN3JKqK7fnq-0GUxoIRmez64y5TU=?c=tistory.ch1&t=0)\\\\n\\\\n[![Image 2](https://searchad-phinf.pstatic.net/MjAyMzA2MTJfOTkg/MDAxNjg2NTQwNTk1MDgw.YMrGalUx1GMkEvgrIji823oCSCHowVa1BntdII1DHScg.976XHM1xT7tRxHMGZs2vh05Cz4-a2Gt0djKUEaafSI8g.PNG/771724-3b00c09b-3ec5-4990-ba79-ddeb63b78842.png)](https://ader.naver.com/v1/Lo2HZKj-WCfEYh9kIZtPDI34PnZzIGsfaaJUsDejiT6_YErEtIpgJgiEYTLEeVhoxM0IVy6lXdAGJ7w7LA2YS6xdYXLX4TFUq_seha0u3b3WDHS6QcjNgSMVQ2kUrxC-w-BIWbHu_-UT2ZIqRyHbbriPtvRTMXRYs1QHo3QOfM3MKmGxmjvsRNIMCXsZmavKYbZn3d-rXCO8qQK4OYebsE6eoriT_b9cVQ6kp4FfK7Ymcu0B2xsdotHDSCNr_fNWaEeuDBXic-XA6u2jhqZTiqA2lTRVOJweImB_RzCCSFbe9AfqjVd9h4iQQlg4kUBM?c=tistory.ch1&t=0)\\\\n\\\\n[https://www.lotteon.com](https://ader.naver.com/v1/H9kNg89FvJ7SzaEs3kwO0vbV4BhUPsamyaJdQd48rngUi5Pb7f5mwGA8TgjDi-H6WU5eTorr_NXYtmmgzvogsZet5-_NUOmKld6TskBRevmV0Q556ViAaZxkJFZR8z8evQDtvmcdUggHiOuFylkRW78K-bgcudWuOMdkFEecyAJh1D4qA59UBFuJR3gdrMKsddkqb7yub8kxHPvvPObrxEHOECMo37S0oEtB-_H3cYQKofY_vtZMbcmvqY9t4SlZNz9Xe7ViMIyLTwNzn2Nk5D60gEuXSJDXZWeX583lfM45cAhdcRMvVF-y6taY3_VEwJLn3K3NI7Bwt1v0zfzyREWsGPT8W5bTAXU2bbK7iipGnx7WqOKA-8i2XMVk75ioTg0H8xGmzvQ2Q4XHR_y00L3RfHzurCsE4IgURp-HWSMqKfQkUzFz7BSiCeFRLgcYyxUc0kk8G3XiLwL7CvPaTK6zamvlrq7Yk1Z35u7puiWBtnDPPFj-P_pwJ4law07Q1AdcX3iX6oWzxF5PbmK6OuUhybgRg7b8Bh6S3AHT175v7onWCCbRZ0MSBL5SERo2n95DPrlg1It0W7wCzoDTvyEhD7bhg-w9IxQr-LXVwgyMiDmn6dIpkksfXwdSxK-wPA2C-Dksrj19pWanVwvyPREsAIwVRioPQDZPJp2z-Qn9XUKYGktpW8zTnLVppCTQAnqlBp__PntjWqiB_7kUwid3Uqxunwx_VGRAf3AGPnWLwji2CMfluQjJ_f-XOtoio_KsM1GalM4-tc_u2Iil9A==?c=tistory.ch1&t=0)광고\\\\n\\\\n[나스 X 롯데ON](https://ader.naver.com/v1/H9kNg89FvJ7SzaEs3kwO0vbV4BhUPsamyaJdQd48rngUi5Pb7f5mwGA8TgjDi-H6WU5eTorr_NXYtmmgzvogsZet5-_NUOmKld6TskBRevmV0Q556ViAaZxkJFZR8z8evQDtvmcdUggHiOuFylkRW78K-bgcudWuOMdkFEecyAJh1D4qA59UBFuJR3gdrMKsddkqb7yub8kxHPvvPObrxEHOECMo37S0oEtB-_H3cYQKofY_vtZMbcmvqY9t4SlZNz9Xe7ViMIyLTwNzn2Nk5D60gEuXSJDXZWeX583lfM45cAhdcRMvVF-y6taY3_VEwJLn3K3NI7Bwt1v0zfzyREWsGPT8W5bTAXU2bbK7iipGnx7WqOKA-8i2XMVk75ioTg0H8xGmzvQ2Q4XHR_y00L3RfHzurCsE4IgURp-HWSMqKfQkUzFz7BSiCeFRLgcYyxUc0kk8G3XiLwL7CvPaTK6zamvlrq7Yk1Z35u7puiWBtnDPPFj-P_pwJ4law07Q1AdcX3iX6oWzxF5PbmK6OuUhybgRg7b8Bh6S3AHT175v7onWCCbRZ0MSBL5SERo2n95DPrlg1It0W7wCzoDTvyEhD7bhg-w9IxQr-LXVwgyMiDmn6dIpkksfXwdSxK-wPA2C-Dksrj19pWanVwvyPREsAIwVRioPQDZPJp2z-Qn9XUKYGktpW8zTnLVppCTQAnqlBp__PntjWqiB_7kUwid3Uqxunwx_VGRAf3AGPnWLwji2CMfluQjJ_f-XOtoio_KsM1GalM4-tc_u2Iil9A==?c=tistory.ch1&t=0)[롯데온 X 나스, 신상품부터 사랑받는 베스트아이템까지 지금 만나보세요!](https://ader.naver.com/v1/H9kNg89FvJ7SzaEs3kwO0vbV4BhUPsamyaJdQd48rngUi5Pb7f5mwGA8TgjDi-H6WU5eTorr_NXYtmmgzvogsZet5-_NUOmKld6TskBRevmV0Q556ViAaZxkJFZR8z8evQDtvmcdUggHiOuFylkRW78K-bgcudWuOMdkFEecyAJh1D4qA59UBFuJR3gdrMKsddkqb7yub8kxHPvvPObrxEHOECMo37S0oEtB-_H3cYQKofY_vtZMbcmvqY9t4SlZNz9Xe7ViMIyLTwNzn2Nk5D60gEuXSJDXZWeX583lfM45cAhdcRMvVF-y6taY3_VEwJLn3K3NI7Bwt1v0zfzyREWsGPT8W5bTAXU2bbK7iipGnx7WqOKA-8i2XMVk75ioTg0H8xGmzvQ2Q4XHR_y00L3RfHzurCsE4IgURp-HWSMqKfQkUzFz7BSiCeFRLgcYyxUc0kk8G3XiLwL7CvPaTK6zamvlrq7Yk1Z35u7puiWBtnDPPFj-P_pwJ4law07Q1AdcX3iX6oWzxF5PbmK6OuUhybgRg7b8Bh6S3AHT175v7onWCCbRZ0MSBL5SERo2n95DPrlg1It0W7wCzoDTvyEhD7bhg-w9IxQr-LXVwgyMiDmn6dIpkksfXwdSxK-wPA2C-Dksrj19pWanVwvyPREsAIwVRioPQDZPJp2z-Qn9XUKYGktpW8zTnLVppCTQAnqlBp__PntjWqiB_7kUwid3Uqxunwx_VGRAf3AGPnWLwji2CMfluQjJ_f-XOtoio_KsM1GalM4-tc_u2Iil9A==?c=tistory.ch1&t=0)\\\\n\\\\n[![Image 3](https://searchad-phinf.pstatic.net/MjAyMzEyMjBfMjAx/MDAxNzAzMDQ5NTk2OTcz.T5tpD-T5H9JXHgoYhuWP7B-effJlJZ398nv6EUlkE8Mg.t-WLULZJkXAQekn62gFHRtjFttt4Or7w-Tu58IQyMG0g.JPEG/1754907-855bcfaf-508f-4026-99cc-74e926ab1e5b.JPG)](https://ader.naver.com/v1/UHdbZdTZwcVygAy8ovRQ0qXukZu7y6V7ApU1w2Pz1UIrQQKnmoETvArp8vC_abHcRZsDEKOWRjMeG-yS_jGyXSmk4fWi0dISsT3AeOUJxczXNwmKqQmpc_tKMoTHMpX_YbLf1PrbPUy0KF4snHVU614EGBa4b6soo1cjnHH_GC-VEZF5kp2ypxa75IGpT2t-YPh7NLxcqObVkM40VXKGI8uX9BqTTw35i6qucoqFbbvBC8Gi_Uamj4M3neILAWNHkjN5K3jpHhqnZxffLdCZ4EsGatt9caHpPpYIz4wG4JEri6cBKwe28HgB4z5xvqxyW3_naF4F-g1-N77gIyDF4WzemIKxwe3hspH3eHuzMIg7dyztSLhN63wi1sJf1uZalHUPx1v2ssaJGnjENGFj0BNvC_N4tt-YkSyJL7rO9hxQkLCjJ0b33ap8Xt-xkDYAPk5Rdfrb4zcZ28DZvV18qFLiAPAJdX_faMTspLnwst2vTWk4aEwVHrrtbFpAYntqN1joNxMEb5e8g5VW-LCnXtUlHwLf13iS7d9NdzX7xjngbfj02cT1-M1Tq7Q8Qh58yJXH0kVgPZQ6LsnZot2FeCIwRqDSoL9DCz1XUHyWW94y6f5UAO16YJ3cg6wWXTUcgEBqNGpp3A1QXwdDXtBFE64UJgJ-fzRIBcNqgGkwZBHbAjCGMB3qvkER8tdwf2Fy7DX63DXQSXxIvJfusSjxQq4Valc8OagLbTUlbObOVKe_xIhvn-mY31qclKeNfyB6Qx1aBVI-MZVDObhJv_nunQ==?c=tistory.ch1&t=0)\\\\n\\\\n반응형\\\\n\\\\n전 세계 주요 7개국(G7)이 모이는 **2025 G7 정상회의**가 캐나다 앨버타주 **카나나스키스**에서 개최됩니다. 이번 회의는 글로벌 경제 회복, AI 규범 설정, 기후위기 대응, 공급망 안정 등 세계 질서를 재편할 핵심 의제를 다루며, 그 어느 때보다 큰 주목을 받고 있습니다.\\\\n\\\\n특히 이번 G7에는 정회원국 외에도 **대한민국, 인도, 브라질 등 주요 신흥국들이 초청국 자격으로 참가**하며, 국제 외교 무대에서의 새로운 균형이 기대됩니다. G7의 외교·안보·경제 전략과 한국의 외교적 입지 변화를 이해하는 데 중요한 분기점이 될 것입니다.\\\\n\\\\n![Image 4: 2025 G7 정상회의 초청국·참가국 일정 총정리](https://blog.kakaocdn.net/dn/r2Rgo/btsOsfnYRZ4/Q1GcgqyPfFm6ntXoMiNvm0/img.jpg)\\\\n\\\\n2025 G7 정상회의 초청국·참가국 일정 총정리\\\\n\\\\n목차\\\\n\\\\n*   [📌 G7 기본 정보](https://ha.ggiovaraca.com/entry/2025-G7-%EC%A0%95%EC%83%81%ED%9A%8C%EC%9D%98-%EC%B4%88%EC%B2%AD%EA%B5%AD%C2%B7%EC%B0%B8%EA%B0%80%EA%B5%AD-%EC%9D%BC%EC%A0%95-%EC%B4%9D%EC%A0%95%EB%A6%AC#toc-heading-0)\\\\n*   [🧭 참가 구성](https://ha.ggiovaraca.com/entry/2025-G7-%EC%A0%95%EC%83%81%ED%9A%8C%EC%9D%98-%EC%B4%88%EC%B2%AD%EA%B5%AD%C2%B7%EC%B0%B8%EA%B0%80%EA%B5%AD-%EC%9D%BC%EC%A0%95-%EC%B4%9D%EC%A0%95%EB%A6%AC#toc-heading-1)\\\\n    *   [1. G7 정회원 (정상급)](https://ha.ggiovaraca.com/entry/2025-G7-%EC%A0%95%EC%83%81%ED%9A%8C%EC%9D%98-%EC%B4%88%EC%B2%AD%EA%B5%AD%C2%B7%EC%B0%B8%EA%B0%80%EA%B5%AD-%EC%9D%BC%EC%A0%95-%EC%B4%9D%EC%A0%95%EB%A6%AC#toc-heading-2)\\\\n    *   [2. 초청국 (비회원 정상급)](https://ha.ggiovaraca.com/entry/2025-G7-%EC%A0%95%EC%83%81%ED%9A%8C%EC%9D%98-%EC%B4%88%EC%B2%AD%EA%B5%AD%C2%B7%EC%B0%B8%EA%B0%80%EA%B5%AD-%EC%9D%BC%EC%A0%95-%EC%B4%9D%EC%A0%95%EB%A6%AC#toc-heading-3)\\\\n\\\\n*   [📅 일정 개요](https://ha.ggiovaraca.com/entry/2025-G7-%EC%A0%95%EC%83%81%ED%9A%8C%EC%9D%98-%EC%B4%88%EC%B2%AD%EA%B5%AD%C2%B7%EC%B0%B8%EA%B0%80%EA%B5%AD-%EC%9D%BC%EC%A0%95-%EC%B4%9D%EC%A0%95%EB%A6%AC#toc-heading-4)\\\\n*   [🎯 한국의 의미](https://ha.ggiovaraca.com/entry/2025-G7-%EC%A0%95%EC%83%81%ED%9A%8C%EC%9D%98-%EC%B4%88%EC%B2%AD%EA%B5%AD%C2%B7%EC%B0%B8%EA%B0%80%EA%B5%AD-%EC%9D%BC%EC%A0%95-%EC%B4%9D%EC%A0%95%EB%A6%AC#toc-heading-5)\\\\n*   [🌏 인도 초청 배경 및 논란](https://ha.ggiovaraca.com/entry/2025-G7-%EC%A0%95%EC%83%81%ED%9A%8C%EC%9D%98-%EC%B4%88%EC%B2%AD%EA%B5%AD%C2%B7%EC%B0%B8%EA%B0%80%EA%B5%AD-%EC%9D%BC%EC%A0%95-%EC%B4%9D%EC%A0%95%EB%A6%AC#toc-heading-6)\\\\n*   [✅ 요약 정리](https://ha.ggiovaraca.com/entry/2025-G7-%EC%A0%95%EC%83%81%ED%9A%8C%EC%9D%98-%EC%B4%88%EC%B2%AD%EA%B5%AD%C2%B7%EC%B0%B8%EA%B0%80%EA%B5%AD-%EC%9D%BC%EC%A0%95-%EC%B4%9D%EC%A0%95%EB%A6%AC#toc-heading-7)\\\\n*   [✅ 결론](https://ha.ggiovaraca.com/entry/2025-G7-%EC%A0%95%EC%83%81%ED%9A%8C%EC%9D%98-%EC%B4%88%EC%B2%AD%EA%B5%AD%C2%B7%EC%B0%B8%EA%B0%80%EA%B5%AD-%EC%9D%BC%EC%A0%95-%EC%B4%9D%EC%A0%95%EB%A6%AC#toc-heading-8)\\\\n\\\\n📌 G7 기본 정보\\\\n-----------\\\\n\\\\n*   **회의명**: 제51차 G7 정상회의\\\\n*   **기간**: 2025년 6월 15일(일) ~ 17일(화)\\\\n*   **장소**: 캐나다 앨버타주 카나나스키스(Kananaskis)\\\\n*   **의장국**: 캐나다 (총리 마크 카니)\\\\n\\\\n![Image 5: 2025 G7 정상회의 초청국&middot;참가국 일정 총정리](https://blog.kakaocdn.net/dn/bie8qc/btsOrufauWg/XEaIJTefMRqbxWqqSt2Lck/img.jpg)![Image 6](https://blog.kakaocdn.net/dn/bsplJu/btsOt3l8foo/nLpEhLs3dlcNiCZwSCMYXk/img.jpg)![Image 7](https://blog.kakaocdn.net/dn/dawvqD/btsOt72898T/CCoHJ9RHadkCsKwHrKDcf1/img.jpg)\\\\n\\\\n2025 G7 정상회의 초청국·참가국 일정 총정리\\\\n\\\\n* * *\\\\n\\\\n🧭 참가 구성\\\\n--------\\\\n\\\\n### 1. G7 정회원 (정상급)\\\\n\\\\n*   🇨🇦 캐나다 (의장국) – 총리 마크 카니\\\\n*   🇺🇸 미국 – 대통령 도널드 트럼프\\\\n*   🇬🇧 영국 – 총리 키어 스타머\\\\n*   🇫🇷 프랑스 – 대통령 에마뉘엘 마크롱\\\\n*   🇩🇪 독일 – 총리 프리드리히 메르츠\\\\n*   🇮🇹 이탈리아 – 총리 조르자 멜로니\\\\n*   🇯🇵 일본 – 총리 이시바 시게루\\\\n*   🇪🇺 EU: 우르줄라 폰데어라이엔(위원장), 안토니우스 코스타(의장)\\\\n\\\\n### 2. 초청국 (비회원 정상급)\\\\n\\\\n*   ✅ **필수 초청국**: \\\\n    *   🇦🇺 호주 – 총리 앤서니 알바네제\\\\n    *   🇺🇦 우크라이나 – 대통령 볼로디미르 젤렌스키\\\\n\\\\n*   ✅ **새롭게 포함된 초청국**:\\\\n    *   🇰🇷 한국 – 대통령 이재명 (취임 11일 만에 정상회의 데뷔)\\\\n    *   🇮🇳 인도 – 총리 나렌드라 모디 (G7 + 4 선진국 구도 강화 차원)\\\\n    *   🇧🇷 브라질 – 대통령 루이스 이나시우 룰라 다 실바 (5월 최종 확정)\\\\n    *   🇲🇽 멕시코 – 대통령 클라우디아 셰인바움 (확정 여부 비공개/5월 말 논의)\\\\n    *   🇿🇦 남아프리카공화국 – 대통령 시릴 라마포사 (공식 초청)\\\\n\\\\n![Image 8](https://blog.kakaocdn.net/dn/b6JS3y/btsOt3GqFmK/062olAqIs5ifEg021kxm3k/img.jpg)![Image 9: 2025 G7 정상회의 초청국&middot;참가국 일정 총정리](https://blog.kakaocdn.net/dn/bICo91/btsOskizjlJ/GIpEWMGizH7CItCst9EKXK/img.png)![Image 10](https://blog.kakaocdn.net/dn/Cc0yG/btsOtsfCFrn/9kj6zXtE60XAKn2SIpEwA0/img.jpg)\\\\n\\\\n2025 G7 정상회의 초청국·참가국 일정 총정리\\\\n\\\\n* * *\\\\n\\\\n📅 일정 개요\\\\n--------\\\\n\\\\n구분일정 및 장소 \\\\n외교장관 회의 3월 12~14일, 퀘벡 샤를부아 (Charlevoix)\\\\n재무장관 회의 5월 20~22일, 앨버타 밴프 (Banff)\\\\n정상회의 6월 15~17일, 카나나스키스\\\\n\\\\n정상회의는 기후변화·AI·경제·공급망·보건 등 핵심 의제를 논의하며, 주로 **중앙선언문(Final Communiqué)** 형태로 종료됩니다.\\\\n\\\\n![Image 11: 2025 G7 정상회의 초청국&middot;참가국 일정 총정리](https://blog.kakaocdn.net/dn/l23Sg/btsOskbMxkG/G3QUYxGK0Rk2TMjJiKpViK/img.jpg)![Image 12](https://blog.kakaocdn.net/dn/tl3PN/btsOt8gFFMC/9hdMQmVlkfHfZiXtVd7SF0/img.jpg)![Image 13](https://blog.kakaocdn.net/dn/CGRvd/btsOrYmvRsN/mwibk9kVDDjZ6VPhLr4YOK/img.jpg)\\\\n\\\\n2025 G7 정상회의 초청국·참가국 일정 총정리\\\\n\\\\n* * *\\\\n\\\\n🎯 한국의 의미\\\\n---------\\\\n\\\\n*   **이재명 대통령의 G7 정상 무대 공식 데뷔**: 취임 11일 만에 참석, 다자외교 재개 신호\\\\n*   **한미·한일 및 지역 전략 협의 강화**: 트럼프·이시바 총리 등과 양자·다자 회담 예고\\\\n*   **기본 세부 의제**: 반도체·기후·AI 공급망 협력, 안보·디지털 협력 등 다각적 협력 추진\\\\n\\\\n![Image 14: 2025 G7 정상회의 초청국&middot;참가국 일정 총정리](https://blog.kakaocdn.net/dn/emayVF/btsOtGxWtNd/Ka55eW8Hnb9dbYSN9tkrPk/img.jpg)![Image 15](https://blog.kakaocdn.net/dn/VFEVS/btsOtKUEIeo/XYqfix18Hx3V7nSnRxQTK1/img.jpg)![Image 16](https://blog.kakaocdn.net/dn/dAL0hX/btsOtMLG04v/sG5xmS6p48VZ7VunxVDET1/img.jpg)\\\\n\\\\n2025 G7 정상회의 초청국·참가국 일정 총정리\\\\n\\\\n* * *\\\\n\\\\n🌏 인도 초청 배경 및 논란\\\\n----------------\\\\n\\\\n*   초청 배경: \\\\n    *   **5위 경제 대국**, 글로벌 가치사슬 중심\\\\n    *   인도와 캐나다 G6국가들의 **공동 요청 및 지지**\\\\n\\\\n*   논란 요인: \\\\n    *   캐나다 내 **시크교 단체 시위 예고**, **니자르 암살 사건 연루 의혹** 논란에도 초청 감행\\\\n    *   **캐리언 총리와 모디 정상 간 G7 계기 회동** 중요 외교 이벤트로 기대\\\\n\\\\n![Image 17: 2025 G7 정상회의 초청국&middot;참가국 일정 총정리](https://blog.kakaocdn.net/dn/bSMAqL/btsOtLeVWRp/CP5CVgw2AUkzLhvSq0gfT1/img.jpg)![Image 18](https://blog.kakaocdn.net/dn/brxLzI/btsOtuYNl9n/NFOF8iQL4NC9rOIx1zevqk/img.jpg)![Image 19](https://blog.kakaocdn.net/dn/bf0Uu5/btsOsynkI8n/fgEs9YjWBmadNhh8UrYlE0/img.jpg)\\\\n\\\\n2025 G7 정상회의 초청국·참가국 일정 총정리\\\\n\\\\n* * *\\\\n\\\\n✅ 요약 정리\\\\n-------\\\\n\\\\n*   **정상회의 일정**: 6/15-17, 캐나다 앨버타 카나나스키스\\\\n*   **정상 참석자**: G7 회원 + EU 대표 + 호주·우크라·한국·인도(확정) + 브라질·멕시코·남아공\\\\n*   **한국 대표성**: 이재명 대통령의 첫 G7 정상외교\\\\n*   **인도 초청 이유**: 경제·공급망·에너지 협력 중심\\\\n*   **논란 사안**: 캐나다 내 정치·외교 갈등 요소\\\\n\\\\n![Image 20: 2025 G7 정상회의 초청국&middot;참가국 일정 총정리](https://blog.kakaocdn.net/dn/v2Vxd/btsOskQpTTO/BnuSvOFfADdBJizQZPsMuk/img.jpg)![Image 21](https://blog.kakaocdn.net/dn/bcfGgd/btsOtqWpnaR/QG495dgbmjNEUk3iK7nIbk/img.jpg)\\\\n\\\\n2025 G7 정상회의 초청국·참가국 일정 총정리\\\\n\\\\n* * *\\\\n\\\\n✅ 결론\\\\n----\\\\n\\\\n2025 G7 정상회의는 세계 질서의 방향성을 결정짓는 중요한 국제 무대입니다. 미국, 일본, 독일 등 기존 G7 회원국뿐 아니라 한국, 인도, 브라질 등 초청국들의 참여는 향후 글로벌 협력 체계에 큰 영향을 미칠 전망입니다.\\\\n\\\\n특히 **대한민국의 G7 연속 초청**은 외교적 위상 강화를 보여주는 상징적 장면으로 평가되며, 경제·기술·안보 협력의 중심국으로서의 역할을 기대하게 만듭니다.\\\\n\\\\n이번 회의를 계기로 전 세계가 주목하는 이슈와 한국의 외교 행보를 함께 지켜보며, 글로벌 흐름을 이해하고 대비하는 인사이트를 갖추시기 바랍니다.\\\\n\\\\n반응형\\\\n\\\\n좋아요 3\\\\n\\\\n공유하기\\\\n\\\\nURL 복사 카카오톡 공유 페이스북 공유 엑스 공유\\\\n\\\\n게시글 관리\\\\n\\\\n_구독하기_**정보 계곡**\\\\n\\\\n태그\\\\n--\\\\n\\\\n[2025 g7 정상회의 일정](https://ha.ggiovaraca.com/tag/2025%20g7%20%EC%A0%95%EC%83%81%ED%9A%8C%EC%9D%98%20%EC%9D%BC%EC%A0%95), [g7 의장국 캐나다](https://ha.ggiovaraca.com/tag/g7%20%EC%9D%98%EC%9E%A5%EA%B5%AD%20%EC%BA%90%EB%82%98%EB%8B%A4), [G7 초청국](https://ha.ggiovaraca.com/tag/G7%20%EC%B4%88%EC%B2%AD%EA%B5%AD), [g7 초청국 명단](https://ha.ggiovaraca.com/tag/g7%20%EC%B4%88%EC%B2%AD%EA%B5%AD%20%EB%AA%85%EB%8B%A8), [이재명 g7 참석](https://ha.ggiovaraca.com/tag/%EC%9D%B4%EC%9E%AC%EB%AA%85%20g7%20%EC%B0%B8%EC%84%9D), [인도 모디 g7 초청](https://ha.ggiovaraca.com/tag/%EC%9D%B8%EB%8F%84%20%EB%AA%A8%EB%94%94%20g7%20%EC%B4%88%EC%B2%AD), [카나나스키스 g7](https://ha.ggiovaraca.com/tag/%EC%B9%B4%EB%82%98%EB%82%98%EC%8A%A4%ED%82%A4%EC%8A%A4%20g7)\\\\n\\\\n[정보 계곡](https://ha.ggiovaraca.com/)[계곡같은 정보를 공유합니다.](https://ha.ggiovaraca.com/)구독하기\\\\n\\\\n[](https://ha.ggiovaraca.com/)\\\\n\\\\n댓글 2\\\\n\\\\n*   \\\\n[](https://essay0408.tistory.com/) \\\\n\\\\n[essay0408](https://essay0408.tistory.com/) 정보 계곡 주인님 좋은글 잘 봤습니다 좋은하루 되세요!@ 2025. 6. 9. 06:34[답글](https://ha.ggiovaraca.com/entry/2025-G7-%EC%A0%95%EC%83%81%ED%9A%8C%EC%9D%98-%EC%B4%88%EC%B2%AD%EA%B5%AD%C2%B7%EC%B0%B8%EA%B0%80%EA%B5%AD-%EC%9D%BC%EC%A0%95-%EC%B4%9D%EC%A0%95%EB%A6%AC#) \\\\n\\\\n더보기\\\\n    *   [신고](https://ha.ggiovaraca.com/entry/2025-G7-%EC%A0%95%EC%83%81%ED%9A%8C%EC%9D%98-%EC%B4%88%EC%B2%AD%EA%B5%AD%C2%B7%EC%B0%B8%EA%B0%80%EA%B5%AD-%EC%9D%BC%EC%A0%95-%EC%B4%9D%EC%A0%95%EB%A6%AC#)\\\\n    *   [링크복사](https://ha.ggiovaraca.com/entry/2025-G7-%EC%A0%95%EC%83%81%ED%9A%8C%EC%9D%98-%EC%B4%88%EC%B2%AD%EA%B5%AD%C2%B7%EC%B0%B8%EA%B0%80%EA%B5%AD-%EC%9D%BC%EC%A0%95-%EC%B4%9D%EC%A0%95%EB%A6%AC#)\\\\n\\\\n비밀번호 입력 입력하기\\\\n\\\\n*   \\\\n[](https://aboutautomobile.tistory.com/) \\\\n\\\\n[잡소](https://aboutautomobile.tistory.com/) 정보 계곡 주인님 좋은 글 잘 보고 갑니다! 2025. 6. 10. 14:22[답글](https://ha.ggiovaraca.com/entry/2025-G7-%EC%A0%95%EC%83%81%ED%9A%8C%EC%9D%98-%EC%B4%88%EC%B2%AD%EA%B5%AD%C2%B7%EC%B0%B8%EA%B0%80%EA%B5%AD-%EC%9D%BC%EC%A0%95-%EC%B4%9D%EC%A0%95%EB%A6%AC#) \\\\n\\\\n더보기\\\\n    *   [신고](https://ha.ggiovaraca.com/entry/2025-G7-%EC%A0%95%EC%83%81%ED%9A%8C%EC%9D%98-%EC%B4%88%EC%B2%AD%EA%B5%AD%C2%B7%EC%B0%B8%EA%B0%80%EA%B5%AD-%EC%9D%BC%EC%A0%95-%EC%B4%9D%EC%A0%95%EB%A6%AC#)\\\\n    *   [링크복사](https://ha.ggiovaraca.com/entry/2025-G7-%EC%A0%95%EC%83%81%ED%9A%8C%EC%9D%98-%EC%B4%88%EC%B2%AD%EA%B5%AD%C2%B7%EC%B0%B8%EA%B0%80%EA%B5%AD-%EC%9D%BC%EC%A0%95-%EC%B4%9D%EC%A0%95%EB%A6%AC#)\\\\n\\\\n비밀번호 입력 입력하기\\\\n\\\\n- [x] 비밀글 등록\\\\n\\\\n반응형\\\\n\\\\n* * *\\\\n\\\\n[Copyrights © 2024 All Rights Reserved by 애드센스팜](https://adsensefarm.kr/)\\\\n\\\\n[TOP](https://ha.ggiovaraca.com/entry/2025-G7-%EC%A0%95%EC%83%81%ED%9A%8C%EC%9D%98-%EC%B4%88%EC%B2%AD%EA%B5%AD%C2%B7%EC%B0%B8%EA%B0%80%EA%B5%AD-%EC%9D%BC%EC%A0%95-%EC%B4%9D%EC%A0%95%EB%A6%AC#)\\\\nDesigned by 티스토리\\\\n\\\\n© Kakao Corp.\\\\n\\\\n닫기\\\\n단축키\\\\n---\\\\n\\\\n### 내 블로그\\\\n\\\\n| 내 블로그 - 관리자 홈 전환 | Q Q |\\\\n| --- |\\\\n| 새 글 쓰기 | W W |\\\\n\\\\n### 블로그 게시글\\\\n\\\\n| 글 수정 (권한 있는 경우) | E E |\\\\n| --- |\\\\n| 댓글 영역으로 이동 | C C |\\\\n\\\\n### 모든 영역\\\\n\\\\n| 이 페이지의 URL 복사 | S S |\\\\n| --- |\\\\n| 맨 위로 이동 | T T |\\\\n| 티스토리 홈 이동 | H H |\\\\n| 단축키 안내 | Shift + / ⇧ + / |\\\\n\\\\n* 단축키는 한글/영문 대소문자로 이용 가능하며, 티스토리 기본 도메인에서만 동작합니다.\\\\n\"}]', name='tavily_web_search', id='97d294d6-63bb-4d9f-9c3a-c031137791b3', tool_call_id='call_xfTalpyeexWz09Q039R1TAAI'),\n",
       "  AIMessage(content='2025 G7 정상회의는 캐나다 앨버타주 카나나스키스에서 개최될 예정입니다. 이 회의는 2025년 6월 15일부터 17일까지 진행되며, 글로벌 경제 회복, 인공지능 규범 설정, 기후 변화 대응, 공급망 안정 등 다양한 주요 의제를 다룰 계획입니다.\\n\\n정상회의에는 G7 정회원국 외에도 대한민국, 인도, 브라질 등의 주요 신흥국이 초청국으로 참여합니다. 이로 인해 국제 외교 무대에서 새로운 균형을 기대할 수 있습니다. 특히, 이재명 대통령의 첫 G7 정상 무대 데뷔가 예정되어 있어 한국의 외교적 위상 강화를 나타내는 중요한 기회가 될 것입니다.\\n\\n자세한 내용은 [여기서 확인하실 수 있습니다](https://ha.ggiovaraca.com/entry/2025-G7-정상회의-초청국·참가국-일정-총정리).', additional_kwargs={'refusal': None}, response_metadata={'token_usage': {'completion_tokens': 219, 'prompt_tokens': 11429, 'total_tokens': 11648, 'completion_tokens_details': {'accepted_prediction_tokens': 0, 'audio_tokens': 0, 'reasoning_tokens': 0, 'rejected_prediction_tokens': 0}, 'prompt_tokens_details': {'audio_tokens': 0, 'cached_tokens': 0}}, 'model_name': 'gpt-4o-mini-2024-07-18', 'system_fingerprint': 'fp_34a54ae93c', 'finish_reason': 'stop', 'logprobs': None}, id='run-49521dae-462e-4ae2-9ba9-70a4b1c48cec-0', usage_metadata={'input_tokens': 11429, 'output_tokens': 219, 'total_tokens': 11648, 'input_token_details': {'audio': 0, 'cache_read': 0}, 'output_token_details': {'audio': 0, 'reasoning': 0}})]}"
      ]
     },
     "execution_count": 126,
     "metadata": {},
     "output_type": "execute_result"
    }
   ],
   "source": [
    "answer"
   ]
  },
  {
   "cell_type": "code",
   "execution_count": 129,
   "id": "c2048b61",
   "metadata": {},
   "outputs": [
    {
     "data": {
      "text/plain": [
       "'2025 G7 정상회의는 캐나다 앨버타주 카나나스키스에서 개최될 예정입니다. 이 회의는 2025년 6월 15일부터 17일까지 진행되며, 글로벌 경제 회복, 인공지능 규범 설정, 기후 변화 대응, 공급망 안정 등 다양한 주요 의제를 다룰 계획입니다.\\n\\n정상회의에는 G7 정회원국 외에도 대한민국, 인도, 브라질 등의 주요 신흥국이 초청국으로 참여합니다. 이로 인해 국제 외교 무대에서 새로운 균형을 기대할 수 있습니다. 특히, 이재명 대통령의 첫 G7 정상 무대 데뷔가 예정되어 있어 한국의 외교적 위상 강화를 나타내는 중요한 기회가 될 것입니다.\\n\\n자세한 내용은 [여기서 확인하실 수 있습니다](https://ha.ggiovaraca.com/entry/2025-G7-정상회의-초청국·참가국-일정-총정리).'"
      ]
     },
     "execution_count": 129,
     "metadata": {},
     "output_type": "execute_result"
    }
   ],
   "source": [
    "answer['messages'][-1].content"
   ]
  },
  {
   "cell_type": "code",
   "execution_count": 130,
   "id": "0b036059",
   "metadata": {},
   "outputs": [
    {
     "name": "stdout",
     "output_type": "stream",
     "text": [
      "================================\u001b[1m Human Message \u001b[0m=================================\n",
      "\n",
      "2025 g7 정상회의\n",
      "==================================\u001b[1m Ai Message \u001b[0m==================================\n",
      "Tool Calls:\n",
      "  tavily_web_search (call_fi27S6IRzC7RGrZCbzGJMAYT)\n",
      " Call ID: call_fi27S6IRzC7RGrZCbzGJMAYT\n",
      "  Args:\n",
      "    query: 2025 G7 정상회의\n",
      "=================================\u001b[1m Tool Message \u001b[0m=================================\n",
      "Name: tavily_web_search\n",
      "\n",
      "[{\"title\": \"2025 G7 정상회의 초청국·참가국 일정 총정리\", \"url\": \"https://ha.ggiovaraca.com/entry/2025-G7-정상회의-초청국·참가국-일정-총정리\", \"content\": \"2025 G7 정상회의 초청국·참가국 일정 총정리 전 세계 주요 7개국(G7)이 모이는 **2025 G7 정상회의**가 캐나다 앨버타주 **카나나스키스**에서 개최됩니다. Image 4: 2025 G7 정상회의 초청국·참가국 일정 총정리 Image 5: 2025 G7 정상회의 초청국&middot;참가국 일정 총정리Image 6Image 7 *   🇮🇳 인도 – 총리 나렌드라 모디 (G7 + 4 선진국 구도 강화 차원) Image 8Image 9: 2025 G7 정상회의 초청국&middot;참가국 일정 총정리Image 10 Image 11: 2025 G7 정상회의 초청국&middot;참가국 일정 총정리Image 12Image 13 Image 14: 2025 G7 정상회의 초청국&middot;참가국 일정 총정리Image 15Image 16 Image 17: 2025 G7 정상회의 초청국&middot;참가국 일정 총정리Image 18Image 19 Image 20: 2025 G7 정상회의 초청국&middot;참가국 일정 총정리Image 21 2025 g7 정상회의 일정, g7 의장국 캐나다, G7 초청국, g7 초청국 명단, 이재명 g7 참석, 인도 모디 g7 초청, 카나나스키스 g7\", \"score\": 0.854509, \"raw_content\": \"Published Time: 2025-06-09T03:03:02+09:00\\n\\n2025 G7 정상회의 초청국·참가국 일정 총정리\\n\\n===============\\n\\n[본문 바로가기](https://ha.ggiovaraca.com/entry/2025-G7-%EC%A0%95%EC%83%81%ED%9A%8C%EC%9D%98-%EC%B4%88%EC%B2%AD%EA%B5%AD%C2%B7%EC%B0%B8%EA%B0%80%EA%B5%AD-%EC%9D%BC%EC%A0%95-%EC%B4%9D%EC%A0%95%EB%A6%AC#content)\\n\\n[정보 계곡](https://ha.ggiovaraca.com/)\\n===================================\\n\\n블로그 내 검색 검색\\n\\n![Image 1: 블로그 이미지](https://t1.daumcdn.net/tistory_admin/static/manage/images/r3/default_L.png)\\n*   [관리](https://wjdqhrprrhr.tistory.com/manage)\\n*   [글쓰기](https://wjdqhrprrhr.tistory.com/manage/entry/post)\\n*   [로그인](https://ha.ggiovaraca.com/entry/2025-G7-%EC%A0%95%EC%83%81%ED%9A%8C%EC%9D%98-%EC%B4%88%EC%B2%AD%EA%B5%AD%C2%B7%EC%B0%B8%EA%B0%80%EA%B5%AD-%EC%9D%BC%EC%A0%95-%EC%B4%9D%EC%A0%95%EB%A6%AC#)\\n*   [로그아웃](https://ha.ggiovaraca.com/entry/2025-G7-%EC%A0%95%EC%83%81%ED%9A%8C%EC%9D%98-%EC%B4%88%EC%B2%AD%EA%B5%AD%C2%B7%EC%B0%B8%EA%B0%80%EA%B5%AD-%EC%9D%BC%EC%A0%95-%EC%B4%9D%EC%A0%95%EB%A6%AC#)\\n\\n메뉴\\n\\n*   [홈](https://ha.ggiovaraca.com/)\\n*   [태그](https://ha.ggiovaraca.com/tag)\\n*   [방명록](https://ha.ggiovaraca.com/guestbook)\\n\\n카테고리 없음\\n2025 G7 정상회의 초청국·참가국 일정 총정리\\n===========================\\n\\nby 정보 계곡 주인 2025. 6. 9.\\n\\n목차\\n\\n*   [📌 G7 기본 정보](https://ha.ggiovaraca.com/entry/2025-G7-%EC%A0%95%EC%83%81%ED%9A%8C%EC%9D%98-%EC%B4%88%EC%B2%AD%EA%B5%AD%C2%B7%EC%B0%B8%EA%B0%80%EA%B5%AD-%EC%9D%BC%EC%A0%95-%EC%B4%9D%EC%A0%95%EB%A6%AC#toc-heading-0)\\n*   [🧭 참가 구성](https://ha.ggiovaraca.com/entry/2025-G7-%EC%A0%95%EC%83%81%ED%9A%8C%EC%9D%98-%EC%B4%88%EC%B2%AD%EA%B5%AD%C2%B7%EC%B0%B8%EA%B0%80%EA%B5%AD-%EC%9D%BC%EC%A0%95-%EC%B4%9D%EC%A0%95%EB%A6%AC#toc-heading-1)\\n    *   [1. G7 정회원 (정상급)](https://ha.ggiovaraca.com/entry/2025-G7-%EC%A0%95%EC%83%81%ED%9A%8C%EC%9D%98-%EC%B4%88%EC%B2%AD%EA%B5%AD%C2%B7%EC%B0%B8%EA%B0%80%EA%B5%AD-%EC%9D%BC%EC%A0%95-%EC%B4%9D%EC%A0%95%EB%A6%AC#toc-heading-2)\\n    *   [2. 초청국 (비회원 정상급)](https://ha.ggiovaraca.com/entry/2025-G7-%EC%A0%95%EC%83%81%ED%9A%8C%EC%9D%98-%EC%B4%88%EC%B2%AD%EA%B5%AD%C2%B7%EC%B0%B8%EA%B0%80%EA%B5%AD-%EC%9D%BC%EC%A0%95-%EC%B4%9D%EC%A0%95%EB%A6%AC#toc-heading-3)\\n\\n*   [📅 일정 개요](https://ha.ggiovaraca.com/entry/2025-G7-%EC%A0%95%EC%83%81%ED%9A%8C%EC%9D%98-%EC%B4%88%EC%B2%AD%EA%B5%AD%C2%B7%EC%B0%B8%EA%B0%80%EA%B5%AD-%EC%9D%BC%EC%A0%95-%EC%B4%9D%EC%A0%95%EB%A6%AC#toc-heading-4)\\n*   [🎯 한국의 의미](https://ha.ggiovaraca.com/entry/2025-G7-%EC%A0%95%EC%83%81%ED%9A%8C%EC%9D%98-%EC%B4%88%EC%B2%AD%EA%B5%AD%C2%B7%EC%B0%B8%EA%B0%80%EA%B5%AD-%EC%9D%BC%EC%A0%95-%EC%B4%9D%EC%A0%95%EB%A6%AC#toc-heading-5)\\n*   [🌏 인도 초청 배경 및 논란](https://ha.ggiovaraca.com/entry/2025-G7-%EC%A0%95%EC%83%81%ED%9A%8C%EC%9D%98-%EC%B4%88%EC%B2%AD%EA%B5%AD%C2%B7%EC%B0%B8%EA%B0%80%EA%B5%AD-%EC%9D%BC%EC%A0%95-%EC%B4%9D%EC%A0%95%EB%A6%AC#toc-heading-6)\\n*   [✅ 요약 정리](https://ha.ggiovaraca.com/entry/2025-G7-%EC%A0%95%EC%83%81%ED%9A%8C%EC%9D%98-%EC%B4%88%EC%B2%AD%EA%B5%AD%C2%B7%EC%B0%B8%EA%B0%80%EA%B5%AD-%EC%9D%BC%EC%A0%95-%EC%B4%9D%EC%A0%95%EB%A6%AC#toc-heading-7)\\n*   [✅ 결론](https://ha.ggiovaraca.com/entry/2025-G7-%EC%A0%95%EC%83%81%ED%9A%8C%EC%9D%98-%EC%B4%88%EC%B2%AD%EA%B5%AD%C2%B7%EC%B0%B8%EA%B0%80%EA%B5%AD-%EC%9D%BC%EC%A0%95-%EC%B4%9D%EC%A0%95%EB%A6%AC#toc-heading-8)\\n\\n[http://smartstore.naver.com/comlandsys](https://ader.naver.com/v1/kqDj_byA-NP-6UWNhc4wpEtBEGboKgpjDKnsym1LTq8Dbe_cBkHjBLrOXfOO_TC7Eud9z_FHYFMMyMWF1YyFpnog1iyypnD1f00_DfuS-vcbEZGv-i0OPYZK7_pCyPEUzW_MkGi2_FWe_CzM--Gk8s5D0tgdUT-l6fV__Gz69R2BSf8zIsLAMBk1_UpY08Oxopsmwi5GqnmYX7H2A06aBc8XI1fc4S8uPEMcCyAoJ6azk8spjEc6XaxzPG-k0gGF0hBPCsZf4Oc2i-oNN3JKqK7fnq-0GUxoIRmez64y5TU=?c=tistory.ch1&t=0)광고\\n\\n[나스 컴랜드시스템 기업견적/초기설정 무료서비스](https://ader.naver.com/v1/kqDj_byA-NP-6UWNhc4wpEtBEGboKgpjDKnsym1LTq8Dbe_cBkHjBLrOXfOO_TC7Eud9z_FHYFMMyMWF1YyFpnog1iyypnD1f00_DfuS-vcbEZGv-i0OPYZK7_pCyPEUzW_MkGi2_FWe_CzM--Gk8s5D0tgdUT-l6fV__Gz69R2BSf8zIsLAMBk1_UpY08Oxopsmwi5GqnmYX7H2A06aBc8XI1fc4S8uPEMcCyAoJ6azk8spjEc6XaxzPG-k0gGF0hBPCsZf4Oc2i-oNN3JKqK7fnq-0GUxoIRmez64y5TU=?c=tistory.ch1&t=0)[나스, NAS 견적문의! 컴랜드에서만 받을 수 있는 특별한 혜택!](https://ader.naver.com/v1/kqDj_byA-NP-6UWNhc4wpEtBEGboKgpjDKnsym1LTq8Dbe_cBkHjBLrOXfOO_TC7Eud9z_FHYFMMyMWF1YyFpnog1iyypnD1f00_DfuS-vcbEZGv-i0OPYZK7_pCyPEUzW_MkGi2_FWe_CzM--Gk8s5D0tgdUT-l6fV__Gz69R2BSf8zIsLAMBk1_UpY08Oxopsmwi5GqnmYX7H2A06aBc8XI1fc4S8uPEMcCyAoJ6azk8spjEc6XaxzPG-k0gGF0hBPCsZf4Oc2i-oNN3JKqK7fnq-0GUxoIRmez64y5TU=?c=tistory.ch1&t=0)\\n\\n[![Image 2](https://searchad-phinf.pstatic.net/MjAyMzA2MTJfOTkg/MDAxNjg2NTQwNTk1MDgw.YMrGalUx1GMkEvgrIji823oCSCHowVa1BntdII1DHScg.976XHM1xT7tRxHMGZs2vh05Cz4-a2Gt0djKUEaafSI8g.PNG/771724-3b00c09b-3ec5-4990-ba79-ddeb63b78842.png)](https://ader.naver.com/v1/Lo2HZKj-WCfEYh9kIZtPDI34PnZzIGsfaaJUsDejiT6_YErEtIpgJgiEYTLEeVhoxM0IVy6lXdAGJ7w7LA2YS6xdYXLX4TFUq_seha0u3b3WDHS6QcjNgSMVQ2kUrxC-w-BIWbHu_-UT2ZIqRyHbbriPtvRTMXRYs1QHo3QOfM3MKmGxmjvsRNIMCXsZmavKYbZn3d-rXCO8qQK4OYebsE6eoriT_b9cVQ6kp4FfK7Ymcu0B2xsdotHDSCNr_fNWaEeuDBXic-XA6u2jhqZTiqA2lTRVOJweImB_RzCCSFbe9AfqjVd9h4iQQlg4kUBM?c=tistory.ch1&t=0)\\n\\n[https://www.lotteon.com](https://ader.naver.com/v1/H9kNg89FvJ7SzaEs3kwO0vbV4BhUPsamyaJdQd48rngUi5Pb7f5mwGA8TgjDi-H6WU5eTorr_NXYtmmgzvogsZet5-_NUOmKld6TskBRevmV0Q556ViAaZxkJFZR8z8evQDtvmcdUggHiOuFylkRW78K-bgcudWuOMdkFEecyAJh1D4qA59UBFuJR3gdrMKsddkqb7yub8kxHPvvPObrxEHOECMo37S0oEtB-_H3cYQKofY_vtZMbcmvqY9t4SlZNz9Xe7ViMIyLTwNzn2Nk5D60gEuXSJDXZWeX583lfM45cAhdcRMvVF-y6taY3_VEwJLn3K3NI7Bwt1v0zfzyREWsGPT8W5bTAXU2bbK7iipGnx7WqOKA-8i2XMVk75ioTg0H8xGmzvQ2Q4XHR_y00L3RfHzurCsE4IgURp-HWSMqKfQkUzFz7BSiCeFRLgcYyxUc0kk8G3XiLwL7CvPaTK6zamvlrq7Yk1Z35u7puiWBtnDPPFj-P_pwJ4law07Q1AdcX3iX6oWzxF5PbmK6OuUhybgRg7b8Bh6S3AHT175v7onWCCbRZ0MSBL5SERo2n95DPrlg1It0W7wCzoDTvyEhD7bhg-w9IxQr-LXVwgyMiDmn6dIpkksfXwdSxK-wPA2C-Dksrj19pWanVwvyPREsAIwVRioPQDZPJp2z-Qn9XUKYGktpW8zTnLVppCTQAnqlBp__PntjWqiB_7kUwid3Uqxunwx_VGRAf3AGPnWLwji2CMfluQjJ_f-XOtoio_KsM1GalM4-tc_u2Iil9A==?c=tistory.ch1&t=0)광고\\n\\n[나스 X 롯데ON](https://ader.naver.com/v1/H9kNg89FvJ7SzaEs3kwO0vbV4BhUPsamyaJdQd48rngUi5Pb7f5mwGA8TgjDi-H6WU5eTorr_NXYtmmgzvogsZet5-_NUOmKld6TskBRevmV0Q556ViAaZxkJFZR8z8evQDtvmcdUggHiOuFylkRW78K-bgcudWuOMdkFEecyAJh1D4qA59UBFuJR3gdrMKsddkqb7yub8kxHPvvPObrxEHOECMo37S0oEtB-_H3cYQKofY_vtZMbcmvqY9t4SlZNz9Xe7ViMIyLTwNzn2Nk5D60gEuXSJDXZWeX583lfM45cAhdcRMvVF-y6taY3_VEwJLn3K3NI7Bwt1v0zfzyREWsGPT8W5bTAXU2bbK7iipGnx7WqOKA-8i2XMVk75ioTg0H8xGmzvQ2Q4XHR_y00L3RfHzurCsE4IgURp-HWSMqKfQkUzFz7BSiCeFRLgcYyxUc0kk8G3XiLwL7CvPaTK6zamvlrq7Yk1Z35u7puiWBtnDPPFj-P_pwJ4law07Q1AdcX3iX6oWzxF5PbmK6OuUhybgRg7b8Bh6S3AHT175v7onWCCbRZ0MSBL5SERo2n95DPrlg1It0W7wCzoDTvyEhD7bhg-w9IxQr-LXVwgyMiDmn6dIpkksfXwdSxK-wPA2C-Dksrj19pWanVwvyPREsAIwVRioPQDZPJp2z-Qn9XUKYGktpW8zTnLVppCTQAnqlBp__PntjWqiB_7kUwid3Uqxunwx_VGRAf3AGPnWLwji2CMfluQjJ_f-XOtoio_KsM1GalM4-tc_u2Iil9A==?c=tistory.ch1&t=0)[롯데온 X 나스, 신상품부터 사랑받는 베스트아이템까지 지금 만나보세요!](https://ader.naver.com/v1/H9kNg89FvJ7SzaEs3kwO0vbV4BhUPsamyaJdQd48rngUi5Pb7f5mwGA8TgjDi-H6WU5eTorr_NXYtmmgzvogsZet5-_NUOmKld6TskBRevmV0Q556ViAaZxkJFZR8z8evQDtvmcdUggHiOuFylkRW78K-bgcudWuOMdkFEecyAJh1D4qA59UBFuJR3gdrMKsddkqb7yub8kxHPvvPObrxEHOECMo37S0oEtB-_H3cYQKofY_vtZMbcmvqY9t4SlZNz9Xe7ViMIyLTwNzn2Nk5D60gEuXSJDXZWeX583lfM45cAhdcRMvVF-y6taY3_VEwJLn3K3NI7Bwt1v0zfzyREWsGPT8W5bTAXU2bbK7iipGnx7WqOKA-8i2XMVk75ioTg0H8xGmzvQ2Q4XHR_y00L3RfHzurCsE4IgURp-HWSMqKfQkUzFz7BSiCeFRLgcYyxUc0kk8G3XiLwL7CvPaTK6zamvlrq7Yk1Z35u7puiWBtnDPPFj-P_pwJ4law07Q1AdcX3iX6oWzxF5PbmK6OuUhybgRg7b8Bh6S3AHT175v7onWCCbRZ0MSBL5SERo2n95DPrlg1It0W7wCzoDTvyEhD7bhg-w9IxQr-LXVwgyMiDmn6dIpkksfXwdSxK-wPA2C-Dksrj19pWanVwvyPREsAIwVRioPQDZPJp2z-Qn9XUKYGktpW8zTnLVppCTQAnqlBp__PntjWqiB_7kUwid3Uqxunwx_VGRAf3AGPnWLwji2CMfluQjJ_f-XOtoio_KsM1GalM4-tc_u2Iil9A==?c=tistory.ch1&t=0)\\n\\n[![Image 3](https://searchad-phinf.pstatic.net/MjAyMzEyMjBfMjAx/MDAxNzAzMDQ5NTk2OTcz.T5tpD-T5H9JXHgoYhuWP7B-effJlJZ398nv6EUlkE8Mg.t-WLULZJkXAQekn62gFHRtjFttt4Or7w-Tu58IQyMG0g.JPEG/1754907-855bcfaf-508f-4026-99cc-74e926ab1e5b.JPG)](https://ader.naver.com/v1/UHdbZdTZwcVygAy8ovRQ0qXukZu7y6V7ApU1w2Pz1UIrQQKnmoETvArp8vC_abHcRZsDEKOWRjMeG-yS_jGyXSmk4fWi0dISsT3AeOUJxczXNwmKqQmpc_tKMoTHMpX_YbLf1PrbPUy0KF4snHVU614EGBa4b6soo1cjnHH_GC-VEZF5kp2ypxa75IGpT2t-YPh7NLxcqObVkM40VXKGI8uX9BqTTw35i6qucoqFbbvBC8Gi_Uamj4M3neILAWNHkjN5K3jpHhqnZxffLdCZ4EsGatt9caHpPpYIz4wG4JEri6cBKwe28HgB4z5xvqxyW3_naF4F-g1-N77gIyDF4WzemIKxwe3hspH3eHuzMIg7dyztSLhN63wi1sJf1uZalHUPx1v2ssaJGnjENGFj0BNvC_N4tt-YkSyJL7rO9hxQkLCjJ0b33ap8Xt-xkDYAPk5Rdfrb4zcZ28DZvV18qFLiAPAJdX_faMTspLnwst2vTWk4aEwVHrrtbFpAYntqN1joNxMEb5e8g5VW-LCnXtUlHwLf13iS7d9NdzX7xjngbfj02cT1-M1Tq7Q8Qh58yJXH0kVgPZQ6LsnZot2FeCIwRqDSoL9DCz1XUHyWW94y6f5UAO16YJ3cg6wWXTUcgEBqNGpp3A1QXwdDXtBFE64UJgJ-fzRIBcNqgGkwZBHbAjCGMB3qvkER8tdwf2Fy7DX63DXQSXxIvJfusSjxQq4Valc8OagLbTUlbObOVKe_xIhvn-mY31qclKeNfyB6Qx1aBVI-MZVDObhJv_nunQ==?c=tistory.ch1&t=0)\\n\\n반응형\\n\\n전 세계 주요 7개국(G7)이 모이는 **2025 G7 정상회의**가 캐나다 앨버타주 **카나나스키스**에서 개최됩니다. 이번 회의는 글로벌 경제 회복, AI 규범 설정, 기후위기 대응, 공급망 안정 등 세계 질서를 재편할 핵심 의제를 다루며, 그 어느 때보다 큰 주목을 받고 있습니다.\\n\\n특히 이번 G7에는 정회원국 외에도 **대한민국, 인도, 브라질 등 주요 신흥국들이 초청국 자격으로 참가**하며, 국제 외교 무대에서의 새로운 균형이 기대됩니다. G7의 외교·안보·경제 전략과 한국의 외교적 입지 변화를 이해하는 데 중요한 분기점이 될 것입니다.\\n\\n![Image 4: 2025 G7 정상회의 초청국·참가국 일정 총정리](https://blog.kakaocdn.net/dn/r2Rgo/btsOsfnYRZ4/Q1GcgqyPfFm6ntXoMiNvm0/img.jpg)\\n\\n2025 G7 정상회의 초청국·참가국 일정 총정리\\n\\n목차\\n\\n*   [📌 G7 기본 정보](https://ha.ggiovaraca.com/entry/2025-G7-%EC%A0%95%EC%83%81%ED%9A%8C%EC%9D%98-%EC%B4%88%EC%B2%AD%EA%B5%AD%C2%B7%EC%B0%B8%EA%B0%80%EA%B5%AD-%EC%9D%BC%EC%A0%95-%EC%B4%9D%EC%A0%95%EB%A6%AC#toc-heading-0)\\n*   [🧭 참가 구성](https://ha.ggiovaraca.com/entry/2025-G7-%EC%A0%95%EC%83%81%ED%9A%8C%EC%9D%98-%EC%B4%88%EC%B2%AD%EA%B5%AD%C2%B7%EC%B0%B8%EA%B0%80%EA%B5%AD-%EC%9D%BC%EC%A0%95-%EC%B4%9D%EC%A0%95%EB%A6%AC#toc-heading-1)\\n    *   [1. G7 정회원 (정상급)](https://ha.ggiovaraca.com/entry/2025-G7-%EC%A0%95%EC%83%81%ED%9A%8C%EC%9D%98-%EC%B4%88%EC%B2%AD%EA%B5%AD%C2%B7%EC%B0%B8%EA%B0%80%EA%B5%AD-%EC%9D%BC%EC%A0%95-%EC%B4%9D%EC%A0%95%EB%A6%AC#toc-heading-2)\\n    *   [2. 초청국 (비회원 정상급)](https://ha.ggiovaraca.com/entry/2025-G7-%EC%A0%95%EC%83%81%ED%9A%8C%EC%9D%98-%EC%B4%88%EC%B2%AD%EA%B5%AD%C2%B7%EC%B0%B8%EA%B0%80%EA%B5%AD-%EC%9D%BC%EC%A0%95-%EC%B4%9D%EC%A0%95%EB%A6%AC#toc-heading-3)\\n\\n*   [📅 일정 개요](https://ha.ggiovaraca.com/entry/2025-G7-%EC%A0%95%EC%83%81%ED%9A%8C%EC%9D%98-%EC%B4%88%EC%B2%AD%EA%B5%AD%C2%B7%EC%B0%B8%EA%B0%80%EA%B5%AD-%EC%9D%BC%EC%A0%95-%EC%B4%9D%EC%A0%95%EB%A6%AC#toc-heading-4)\\n*   [🎯 한국의 의미](https://ha.ggiovaraca.com/entry/2025-G7-%EC%A0%95%EC%83%81%ED%9A%8C%EC%9D%98-%EC%B4%88%EC%B2%AD%EA%B5%AD%C2%B7%EC%B0%B8%EA%B0%80%EA%B5%AD-%EC%9D%BC%EC%A0%95-%EC%B4%9D%EC%A0%95%EB%A6%AC#toc-heading-5)\\n*   [🌏 인도 초청 배경 및 논란](https://ha.ggiovaraca.com/entry/2025-G7-%EC%A0%95%EC%83%81%ED%9A%8C%EC%9D%98-%EC%B4%88%EC%B2%AD%EA%B5%AD%C2%B7%EC%B0%B8%EA%B0%80%EA%B5%AD-%EC%9D%BC%EC%A0%95-%EC%B4%9D%EC%A0%95%EB%A6%AC#toc-heading-6)\\n*   [✅ 요약 정리](https://ha.ggiovaraca.com/entry/2025-G7-%EC%A0%95%EC%83%81%ED%9A%8C%EC%9D%98-%EC%B4%88%EC%B2%AD%EA%B5%AD%C2%B7%EC%B0%B8%EA%B0%80%EA%B5%AD-%EC%9D%BC%EC%A0%95-%EC%B4%9D%EC%A0%95%EB%A6%AC#toc-heading-7)\\n*   [✅ 결론](https://ha.ggiovaraca.com/entry/2025-G7-%EC%A0%95%EC%83%81%ED%9A%8C%EC%9D%98-%EC%B4%88%EC%B2%AD%EA%B5%AD%C2%B7%EC%B0%B8%EA%B0%80%EA%B5%AD-%EC%9D%BC%EC%A0%95-%EC%B4%9D%EC%A0%95%EB%A6%AC#toc-heading-8)\\n\\n📌 G7 기본 정보\\n-----------\\n\\n*   **회의명**: 제51차 G7 정상회의\\n*   **기간**: 2025년 6월 15일(일) ~ 17일(화)\\n*   **장소**: 캐나다 앨버타주 카나나스키스(Kananaskis)\\n*   **의장국**: 캐나다 (총리 마크 카니)\\n\\n![Image 5: 2025 G7 정상회의 초청국&middot;참가국 일정 총정리](https://blog.kakaocdn.net/dn/bie8qc/btsOrufauWg/XEaIJTefMRqbxWqqSt2Lck/img.jpg)![Image 6](https://blog.kakaocdn.net/dn/bsplJu/btsOt3l8foo/nLpEhLs3dlcNiCZwSCMYXk/img.jpg)![Image 7](https://blog.kakaocdn.net/dn/dawvqD/btsOt72898T/CCoHJ9RHadkCsKwHrKDcf1/img.jpg)\\n\\n2025 G7 정상회의 초청국·참가국 일정 총정리\\n\\n* * *\\n\\n🧭 참가 구성\\n--------\\n\\n### 1. G7 정회원 (정상급)\\n\\n*   🇨🇦 캐나다 (의장국) – 총리 마크 카니\\n*   🇺🇸 미국 – 대통령 도널드 트럼프\\n*   🇬🇧 영국 – 총리 키어 스타머\\n*   🇫🇷 프랑스 – 대통령 에마뉘엘 마크롱\\n*   🇩🇪 독일 – 총리 프리드리히 메르츠\\n*   🇮🇹 이탈리아 – 총리 조르자 멜로니\\n*   🇯🇵 일본 – 총리 이시바 시게루\\n*   🇪🇺 EU: 우르줄라 폰데어라이엔(위원장), 안토니우스 코스타(의장)\\n\\n### 2. 초청국 (비회원 정상급)\\n\\n*   ✅ **필수 초청국**: \\n    *   🇦🇺 호주 – 총리 앤서니 알바네제\\n    *   🇺🇦 우크라이나 – 대통령 볼로디미르 젤렌스키\\n\\n*   ✅ **새롭게 포함된 초청국**:\\n    *   🇰🇷 한국 – 대통령 이재명 (취임 11일 만에 정상회의 데뷔)\\n    *   🇮🇳 인도 – 총리 나렌드라 모디 (G7 + 4 선진국 구도 강화 차원)\\n    *   🇧🇷 브라질 – 대통령 루이스 이나시우 룰라 다 실바 (5월 최종 확정)\\n    *   🇲🇽 멕시코 – 대통령 클라우디아 셰인바움 (확정 여부 비공개/5월 말 논의)\\n    *   🇿🇦 남아프리카공화국 – 대통령 시릴 라마포사 (공식 초청)\\n\\n![Image 8](https://blog.kakaocdn.net/dn/b6JS3y/btsOt3GqFmK/062olAqIs5ifEg021kxm3k/img.jpg)![Image 9: 2025 G7 정상회의 초청국&middot;참가국 일정 총정리](https://blog.kakaocdn.net/dn/bICo91/btsOskizjlJ/GIpEWMGizH7CItCst9EKXK/img.png)![Image 10](https://blog.kakaocdn.net/dn/Cc0yG/btsOtsfCFrn/9kj6zXtE60XAKn2SIpEwA0/img.jpg)\\n\\n2025 G7 정상회의 초청국·참가국 일정 총정리\\n\\n* * *\\n\\n📅 일정 개요\\n--------\\n\\n구분일정 및 장소 \\n외교장관 회의 3월 12~14일, 퀘벡 샤를부아 (Charlevoix)\\n재무장관 회의 5월 20~22일, 앨버타 밴프 (Banff)\\n정상회의 6월 15~17일, 카나나스키스\\n\\n정상회의는 기후변화·AI·경제·공급망·보건 등 핵심 의제를 논의하며, 주로 **중앙선언문(Final Communiqué)** 형태로 종료됩니다.\\n\\n![Image 11: 2025 G7 정상회의 초청국&middot;참가국 일정 총정리](https://blog.kakaocdn.net/dn/l23Sg/btsOskbMxkG/G3QUYxGK0Rk2TMjJiKpViK/img.jpg)![Image 12](https://blog.kakaocdn.net/dn/tl3PN/btsOt8gFFMC/9hdMQmVlkfHfZiXtVd7SF0/img.jpg)![Image 13](https://blog.kakaocdn.net/dn/CGRvd/btsOrYmvRsN/mwibk9kVDDjZ6VPhLr4YOK/img.jpg)\\n\\n2025 G7 정상회의 초청국·참가국 일정 총정리\\n\\n* * *\\n\\n🎯 한국의 의미\\n---------\\n\\n*   **이재명 대통령의 G7 정상 무대 공식 데뷔**: 취임 11일 만에 참석, 다자외교 재개 신호\\n*   **한미·한일 및 지역 전략 협의 강화**: 트럼프·이시바 총리 등과 양자·다자 회담 예고\\n*   **기본 세부 의제**: 반도체·기후·AI 공급망 협력, 안보·디지털 협력 등 다각적 협력 추진\\n\\n![Image 14: 2025 G7 정상회의 초청국&middot;참가국 일정 총정리](https://blog.kakaocdn.net/dn/emayVF/btsOtGxWtNd/Ka55eW8Hnb9dbYSN9tkrPk/img.jpg)![Image 15](https://blog.kakaocdn.net/dn/VFEVS/btsOtKUEIeo/XYqfix18Hx3V7nSnRxQTK1/img.jpg)![Image 16](https://blog.kakaocdn.net/dn/dAL0hX/btsOtMLG04v/sG5xmS6p48VZ7VunxVDET1/img.jpg)\\n\\n2025 G7 정상회의 초청국·참가국 일정 총정리\\n\\n* * *\\n\\n🌏 인도 초청 배경 및 논란\\n----------------\\n\\n*   초청 배경: \\n    *   **5위 경제 대국**, 글로벌 가치사슬 중심\\n    *   인도와 캐나다 G6국가들의 **공동 요청 및 지지**\\n\\n*   논란 요인: \\n    *   캐나다 내 **시크교 단체 시위 예고**, **니자르 암살 사건 연루 의혹** 논란에도 초청 감행\\n    *   **캐리언 총리와 모디 정상 간 G7 계기 회동** 중요 외교 이벤트로 기대\\n\\n![Image 17: 2025 G7 정상회의 초청국&middot;참가국 일정 총정리](https://blog.kakaocdn.net/dn/bSMAqL/btsOtLeVWRp/CP5CVgw2AUkzLhvSq0gfT1/img.jpg)![Image 18](https://blog.kakaocdn.net/dn/brxLzI/btsOtuYNl9n/NFOF8iQL4NC9rOIx1zevqk/img.jpg)![Image 19](https://blog.kakaocdn.net/dn/bf0Uu5/btsOsynkI8n/fgEs9YjWBmadNhh8UrYlE0/img.jpg)\\n\\n2025 G7 정상회의 초청국·참가국 일정 총정리\\n\\n* * *\\n\\n✅ 요약 정리\\n-------\\n\\n*   **정상회의 일정**: 6/15-17, 캐나다 앨버타 카나나스키스\\n*   **정상 참석자**: G7 회원 + EU 대표 + 호주·우크라·한국·인도(확정) + 브라질·멕시코·남아공\\n*   **한국 대표성**: 이재명 대통령의 첫 G7 정상외교\\n*   **인도 초청 이유**: 경제·공급망·에너지 협력 중심\\n*   **논란 사안**: 캐나다 내 정치·외교 갈등 요소\\n\\n![Image 20: 2025 G7 정상회의 초청국&middot;참가국 일정 총정리](https://blog.kakaocdn.net/dn/v2Vxd/btsOskQpTTO/BnuSvOFfADdBJizQZPsMuk/img.jpg)![Image 21](https://blog.kakaocdn.net/dn/bcfGgd/btsOtqWpnaR/QG495dgbmjNEUk3iK7nIbk/img.jpg)\\n\\n2025 G7 정상회의 초청국·참가국 일정 총정리\\n\\n* * *\\n\\n✅ 결론\\n----\\n\\n2025 G7 정상회의는 세계 질서의 방향성을 결정짓는 중요한 국제 무대입니다. 미국, 일본, 독일 등 기존 G7 회원국뿐 아니라 한국, 인도, 브라질 등 초청국들의 참여는 향후 글로벌 협력 체계에 큰 영향을 미칠 전망입니다.\\n\\n특히 **대한민국의 G7 연속 초청**은 외교적 위상 강화를 보여주는 상징적 장면으로 평가되며, 경제·기술·안보 협력의 중심국으로서의 역할을 기대하게 만듭니다.\\n\\n이번 회의를 계기로 전 세계가 주목하는 이슈와 한국의 외교 행보를 함께 지켜보며, 글로벌 흐름을 이해하고 대비하는 인사이트를 갖추시기 바랍니다.\\n\\n반응형\\n\\n좋아요 3\\n\\n공유하기\\n\\nURL 복사 카카오톡 공유 페이스북 공유 엑스 공유\\n\\n게시글 관리\\n\\n_구독하기_**정보 계곡**\\n\\n태그\\n--\\n\\n[2025 g7 정상회의 일정](https://ha.ggiovaraca.com/tag/2025%20g7%20%EC%A0%95%EC%83%81%ED%9A%8C%EC%9D%98%20%EC%9D%BC%EC%A0%95), [g7 의장국 캐나다](https://ha.ggiovaraca.com/tag/g7%20%EC%9D%98%EC%9E%A5%EA%B5%AD%20%EC%BA%90%EB%82%98%EB%8B%A4), [G7 초청국](https://ha.ggiovaraca.com/tag/G7%20%EC%B4%88%EC%B2%AD%EA%B5%AD), [g7 초청국 명단](https://ha.ggiovaraca.com/tag/g7%20%EC%B4%88%EC%B2%AD%EA%B5%AD%20%EB%AA%85%EB%8B%A8), [이재명 g7 참석](https://ha.ggiovaraca.com/tag/%EC%9D%B4%EC%9E%AC%EB%AA%85%20g7%20%EC%B0%B8%EC%84%9D), [인도 모디 g7 초청](https://ha.ggiovaraca.com/tag/%EC%9D%B8%EB%8F%84%20%EB%AA%A8%EB%94%94%20g7%20%EC%B4%88%EC%B2%AD), [카나나스키스 g7](https://ha.ggiovaraca.com/tag/%EC%B9%B4%EB%82%98%EB%82%98%EC%8A%A4%ED%82%A4%EC%8A%A4%20g7)\\n\\n[정보 계곡](https://ha.ggiovaraca.com/)[계곡같은 정보를 공유합니다.](https://ha.ggiovaraca.com/)구독하기\\n\\n[](https://ha.ggiovaraca.com/)\\n\\n댓글 2\\n\\n*   \\n[](https://essay0408.tistory.com/) \\n\\n[essay0408](https://essay0408.tistory.com/) 정보 계곡 주인님 좋은글 잘 봤습니다 좋은하루 되세요!@ 2025. 6. 9. 06:34[답글](https://ha.ggiovaraca.com/entry/2025-G7-%EC%A0%95%EC%83%81%ED%9A%8C%EC%9D%98-%EC%B4%88%EC%B2%AD%EA%B5%AD%C2%B7%EC%B0%B8%EA%B0%80%EA%B5%AD-%EC%9D%BC%EC%A0%95-%EC%B4%9D%EC%A0%95%EB%A6%AC#) \\n\\n더보기\\n    *   [신고](https://ha.ggiovaraca.com/entry/2025-G7-%EC%A0%95%EC%83%81%ED%9A%8C%EC%9D%98-%EC%B4%88%EC%B2%AD%EA%B5%AD%C2%B7%EC%B0%B8%EA%B0%80%EA%B5%AD-%EC%9D%BC%EC%A0%95-%EC%B4%9D%EC%A0%95%EB%A6%AC#)\\n    *   [링크복사](https://ha.ggiovaraca.com/entry/2025-G7-%EC%A0%95%EC%83%81%ED%9A%8C%EC%9D%98-%EC%B4%88%EC%B2%AD%EA%B5%AD%C2%B7%EC%B0%B8%EA%B0%80%EA%B5%AD-%EC%9D%BC%EC%A0%95-%EC%B4%9D%EC%A0%95%EB%A6%AC#)\\n\\n비밀번호 입력 입력하기\\n\\n*   \\n[](https://aboutautomobile.tistory.com/) \\n\\n[잡소](https://aboutautomobile.tistory.com/) 정보 계곡 주인님 좋은 글 잘 보고 갑니다! 2025. 6. 10. 14:22[답글](https://ha.ggiovaraca.com/entry/2025-G7-%EC%A0%95%EC%83%81%ED%9A%8C%EC%9D%98-%EC%B4%88%EC%B2%AD%EA%B5%AD%C2%B7%EC%B0%B8%EA%B0%80%EA%B5%AD-%EC%9D%BC%EC%A0%95-%EC%B4%9D%EC%A0%95%EB%A6%AC#) \\n\\n더보기\\n    *   [신고](https://ha.ggiovaraca.com/entry/2025-G7-%EC%A0%95%EC%83%81%ED%9A%8C%EC%9D%98-%EC%B4%88%EC%B2%AD%EA%B5%AD%C2%B7%EC%B0%B8%EA%B0%80%EA%B5%AD-%EC%9D%BC%EC%A0%95-%EC%B4%9D%EC%A0%95%EB%A6%AC#)\\n    *   [링크복사](https://ha.ggiovaraca.com/entry/2025-G7-%EC%A0%95%EC%83%81%ED%9A%8C%EC%9D%98-%EC%B4%88%EC%B2%AD%EA%B5%AD%C2%B7%EC%B0%B8%EA%B0%80%EA%B5%AD-%EC%9D%BC%EC%A0%95-%EC%B4%9D%EC%A0%95%EB%A6%AC#)\\n\\n비밀번호 입력 입력하기\\n\\n- [x] 비밀글 등록\\n\\n반응형\\n\\n* * *\\n\\n[Copyrights © 2024 All Rights Reserved by 애드센스팜](https://adsensefarm.kr/)\\n\\n[TOP](https://ha.ggiovaraca.com/entry/2025-G7-%EC%A0%95%EC%83%81%ED%9A%8C%EC%9D%98-%EC%B4%88%EC%B2%AD%EA%B5%AD%C2%B7%EC%B0%B8%EA%B0%80%EA%B5%AD-%EC%9D%BC%EC%A0%95-%EC%B4%9D%EC%A0%95%EB%A6%AC#)\\nDesigned by 티스토리\\n\\n© Kakao Corp.\\n\\n닫기\\n단축키\\n---\\n\\n### 내 블로그\\n\\n| 내 블로그 - 관리자 홈 전환 | Q Q |\\n| --- |\\n| 새 글 쓰기 | W W |\\n\\n### 블로그 게시글\\n\\n| 글 수정 (권한 있는 경우) | E E |\\n| --- |\\n| 댓글 영역으로 이동 | C C |\\n\\n### 모든 영역\\n\\n| 이 페이지의 URL 복사 | S S |\\n| --- |\\n| 맨 위로 이동 | T T |\\n| 티스토리 홈 이동 | H H |\\n| 단축키 안내 | Shift + / ⇧ + / |\\n\\n* 단축키는 한글/영문 대소문자로 이용 가능하며, 티스토리 기본 도메인에서만 동작합니다.\\n\"}]\n",
      "==================================\u001b[1m Ai Message \u001b[0m==================================\n",
      "\n",
      "2025 G7 정상회의는 캐나다 앨버타주 카나나스키스에서 2025년 6월 15일부터 17일까지 개최됩니다. 이번 회의는 글로벌 경제 회복, 인공지능 규범 설정, 기후 위기 대응, 공급망 안정 등 중요한 의제를 다룰 예정입니다.\n",
      "\n",
      "### 주요 정보:\n",
      "- **의장국**: 캐나다 (총리 마크 카니)\n",
      "- **정회원국**: 캐나다, 미국, 영국, 프랑스, 독일, 이탈리아, 일본, 유럽연합\n",
      "- **초청국**: 한국, 인도, 브라질, 멕시코, 남아프리카공화국, 우크라이나, 호주\n",
      "\n",
      "특히 한국은 이재명 대통령이 취임 11일 만에 G7 정상무대에 공식 데뷔하는 중요한 기회가 됩니다. 이번 회의는 한국의 외교적 입지를 강화하는 계기가 될 것으로 기대되고 있습니다.\n",
      "\n",
      "더 자세한 내용은 [여기서 확인](https://ha.ggiovaraca.com/entry/2025-G7-정상회의-초청국·참가국-일정-총정리)할 수 있습니다.\n"
     ]
    }
   ],
   "source": [
    "input_message = HumanMessage(content='2025 g7 정상회의')\n",
    "\n",
    "for chunk in graph.stream({'messages': [input_message]}, stream_mode='values'):\n",
    "    # 각 단계의 현재 상태 값 출력\n",
    "    # print(chunk)\n",
    "\n",
    "    for state_key, state_value in chunk.items():\n",
    "        if state_key == \"messages\":\n",
    "            state_value[-1].pretty_print()"
   ]
  }
 ],
 "metadata": {
  "kernelspec": {
   "display_name": "venv",
   "language": "python",
   "name": "python3"
  },
  "language_info": {
   "codemirror_mode": {
    "name": "ipython",
    "version": 3
   },
   "file_extension": ".py",
   "mimetype": "text/x-python",
   "name": "python",
   "nbconvert_exporter": "python",
   "pygments_lexer": "ipython3",
   "version": "3.11.9"
  }
 },
 "nbformat": 4,
 "nbformat_minor": 5
}
