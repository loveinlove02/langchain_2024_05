{
 "cells": [
  {
   "cell_type": "code",
   "execution_count": 29,
   "metadata": {},
   "outputs": [],
   "source": [
    "from dotenv import load_dotenv\n",
    "import os\n",
    "\n",
    "load_dotenv(verbose=True)\n",
    "key = os.getenv('OPENAI_API_KEY')"
   ]
  },
  {
   "cell_type": "code",
   "execution_count": 30,
   "metadata": {},
   "outputs": [],
   "source": [
    "from langchain_community.document_loaders import TextLoader\n",
    "from langchain_openai.embeddings import OpenAIEmbeddings\n",
    "from langchain.text_splitter import RecursiveCharacterTextSplitter"
   ]
  },
  {
   "cell_type": "code",
   "execution_count": 31,
   "metadata": {},
   "outputs": [],
   "source": [
    "import faiss\n",
    "from langchain_community.vectorstores import FAISS\n",
    "from langchain_community.docstore.in_memory import InMemoryDocstore\n",
    "from langchain_core.documents import Document"
   ]
  },
  {
   "cell_type": "code",
   "execution_count": 32,
   "metadata": {},
   "outputs": [],
   "source": [
    "loader1 = TextLoader(\"./data/nlp-keywords.txt\", encoding='utf-8')\n",
    "loader2 = TextLoader(\"./data/book_document.txt\", encoding='utf-8')"
   ]
  },
  {
   "cell_type": "code",
   "execution_count": 33,
   "metadata": {},
   "outputs": [],
   "source": [
    "text_splitter = RecursiveCharacterTextSplitter(chunk_size=600, chunk_overlap=0)"
   ]
  },
  {
   "cell_type": "code",
   "execution_count": 34,
   "metadata": {},
   "outputs": [],
   "source": [
    "# 문서 분할\n",
    "split_doc1 = loader1.load_and_split(text_splitter)\n",
    "split_doc2 = loader2.load_and_split(text_splitter)"
   ]
  },
  {
   "cell_type": "code",
   "execution_count": 35,
   "metadata": {},
   "outputs": [],
   "source": [
    "# 임베딩\n",
    "embeddings = OpenAIEmbeddings(model=\"text-embedding-3-small\")"
   ]
  },
  {
   "cell_type": "code",
   "execution_count": 36,
   "metadata": {},
   "outputs": [],
   "source": [
    "# DB 생성\n",
    "db = FAISS.from_documents(\n",
    "    documents=split_doc1+split_doc2, \n",
    "    embedding=OpenAIEmbeddings(model=\"text-embedding-3-small\")\n",
    ")"
   ]
  },
  {
   "cell_type": "markdown",
   "metadata": {},
   "source": [
    "### **문서(Document)로부터 추가 (add_documents)**\n",
    "\n",
    "`add_documents()` 메서드는 벡터 저장소에 문서를 추가하거나 업데이트하는 기능을 제공합니다.\n",
    "<br>\n",
    "\n",
    "**매개변수**\n",
    "\n",
    "- `documents` (List[Document]): 벡터 저장소에 추가할 문서 리스트\n",
    "- **kwargs: 추가 키워드 인자"
   ]
  },
  {
   "cell_type": "code",
   "execution_count": 37,
   "metadata": {},
   "outputs": [
    {
     "data": {
      "text/plain": [
       "['new_doc1']"
      ]
     },
     "execution_count": 37,
     "metadata": {},
     "output_type": "execute_result"
    }
   ],
   "source": [
    "# page_content, metadata 지정\n",
    "db.add_documents(\n",
    "    [\n",
    "        Document(\n",
    "            page_content=\"안녕하세요! 도큐먼트를 새로 추가해 보겠습니다.\",\n",
    "            metadata={\"source\": \"mydata.txt\"},\n",
    "        )\n",
    "    ],\n",
    "    ids=[\"new_doc1\"],\n",
    ")"
   ]
  },
  {
   "cell_type": "code",
   "execution_count": 38,
   "metadata": {},
   "outputs": [
    {
     "data": {
      "text/plain": [
       "[Document(metadata={'source': 'mydata.txt'}, page_content='안녕하세요! 도큐먼트를 새로 추가해 보겠습니다.')]"
      ]
     },
     "execution_count": 38,
     "metadata": {},
     "output_type": "execute_result"
    }
   ],
   "source": [
    "# 추가된 데이터를 확인\n",
    "db.similarity_search(\"안녕하세요\", k=1)"
   ]
  },
  {
   "cell_type": "code",
   "execution_count": 39,
   "metadata": {},
   "outputs": [
    {
     "data": {
      "text/plain": [
       "{0: 'f976feb7-a57d-4d11-bb1c-565e9534c69d',\n",
       " 1: 'bc7f1667-7e32-4a4f-8873-70241b87415c',\n",
       " 2: '6ce3e6fb-7b7b-44f1-ad80-5604a6eadee8',\n",
       " 3: '9f849899-2b4a-4174-8945-c997b0131e87',\n",
       " 4: '3ecc373a-110d-47a0-bcd7-7cb4bc160656',\n",
       " 5: '34a34471-a926-4413-a013-42e3429c73f9',\n",
       " 6: '85223029-4483-4b65-82ba-86db7c3ccbf3',\n",
       " 7: '4e7b04cd-4d5c-4d32-add4-674f58aa8e36',\n",
       " 8: '74aab1d2-cd35-424c-a7cf-c8cb2ea048b2',\n",
       " 9: '8d19783d-9518-4747-848b-3bfd28dcceb4',\n",
       " 10: 'b661227e-68b2-4af0-b2bf-5db8bb2f320b',\n",
       " 11: 'fdc7eb7a-3f99-4466-9bd6-b3f634931b38',\n",
       " 12: 'b56e27df-de37-426b-b469-6dc82a0a3edb',\n",
       " 13: '2df43a16-2f15-436e-8d87-6a8f601f0ca2',\n",
       " 14: 'f6582ad2-0491-4953-ad13-2dd4920ba020',\n",
       " 15: 'new_doc1'}"
      ]
     },
     "execution_count": 39,
     "metadata": {},
     "output_type": "execute_result"
    }
   ],
   "source": [
    "# 추가된 데이터를 확인\n",
    "db.index_to_docstore_id"
   ]
  },
  {
   "cell_type": "code",
   "execution_count": 40,
   "metadata": {},
   "outputs": [
    {
     "data": {
      "text/plain": [
       "True"
      ]
     },
     "execution_count": 40,
     "metadata": {},
     "output_type": "execute_result"
    }
   ],
   "source": [
    "# id 로 삭제\n",
    "db.delete(['new_doc1'])"
   ]
  },
  {
   "cell_type": "code",
   "execution_count": 41,
   "metadata": {},
   "outputs": [
    {
     "data": {
      "text/plain": [
       "{0: 'f976feb7-a57d-4d11-bb1c-565e9534c69d',\n",
       " 1: 'bc7f1667-7e32-4a4f-8873-70241b87415c',\n",
       " 2: '6ce3e6fb-7b7b-44f1-ad80-5604a6eadee8',\n",
       " 3: '9f849899-2b4a-4174-8945-c997b0131e87',\n",
       " 4: '3ecc373a-110d-47a0-bcd7-7cb4bc160656',\n",
       " 5: '34a34471-a926-4413-a013-42e3429c73f9',\n",
       " 6: '85223029-4483-4b65-82ba-86db7c3ccbf3',\n",
       " 7: '4e7b04cd-4d5c-4d32-add4-674f58aa8e36',\n",
       " 8: '74aab1d2-cd35-424c-a7cf-c8cb2ea048b2',\n",
       " 9: '8d19783d-9518-4747-848b-3bfd28dcceb4',\n",
       " 10: 'b661227e-68b2-4af0-b2bf-5db8bb2f320b',\n",
       " 11: 'fdc7eb7a-3f99-4466-9bd6-b3f634931b38',\n",
       " 12: 'b56e27df-de37-426b-b469-6dc82a0a3edb',\n",
       " 13: '2df43a16-2f15-436e-8d87-6a8f601f0ca2',\n",
       " 14: 'f6582ad2-0491-4953-ad13-2dd4920ba020'}"
      ]
     },
     "execution_count": 41,
     "metadata": {},
     "output_type": "execute_result"
    }
   ],
   "source": [
    "# 삭제된 결과를 출력\n",
    "db.index_to_docstore_id"
   ]
  },
  {
   "cell_type": "code",
   "execution_count": 42,
   "metadata": {},
   "outputs": [],
   "source": [
    "# 저장\n",
    "db.save_local(folder_path=\"./faiss_db2\", index_name=\"faiss_index2\")"
   ]
  },
  {
   "cell_type": "code",
   "execution_count": 43,
   "metadata": {},
   "outputs": [],
   "source": [
    "# 저장된 데이터를 로드\n",
    "loaded_db = FAISS.load_local(\n",
    "    folder_path=\"./faiss_db2\",\n",
    "    index_name=\"faiss_index2\",\n",
    "    embeddings=OpenAIEmbeddings(model=\"text-embedding-3-small\"),\n",
    "    allow_dangerous_deserialization=True,\n",
    ")"
   ]
  },
  {
   "cell_type": "code",
   "execution_count": 44,
   "metadata": {},
   "outputs": [
    {
     "data": {
      "text/plain": [
       "{0: 'f976feb7-a57d-4d11-bb1c-565e9534c69d',\n",
       " 1: 'bc7f1667-7e32-4a4f-8873-70241b87415c',\n",
       " 2: '6ce3e6fb-7b7b-44f1-ad80-5604a6eadee8',\n",
       " 3: '9f849899-2b4a-4174-8945-c997b0131e87',\n",
       " 4: '3ecc373a-110d-47a0-bcd7-7cb4bc160656',\n",
       " 5: '34a34471-a926-4413-a013-42e3429c73f9',\n",
       " 6: '85223029-4483-4b65-82ba-86db7c3ccbf3',\n",
       " 7: '4e7b04cd-4d5c-4d32-add4-674f58aa8e36',\n",
       " 8: '74aab1d2-cd35-424c-a7cf-c8cb2ea048b2',\n",
       " 9: '8d19783d-9518-4747-848b-3bfd28dcceb4',\n",
       " 10: 'b661227e-68b2-4af0-b2bf-5db8bb2f320b',\n",
       " 11: 'fdc7eb7a-3f99-4466-9bd6-b3f634931b38',\n",
       " 12: 'b56e27df-de37-426b-b469-6dc82a0a3edb',\n",
       " 13: '2df43a16-2f15-436e-8d87-6a8f601f0ca2',\n",
       " 14: 'f6582ad2-0491-4953-ad13-2dd4920ba020'}"
      ]
     },
     "execution_count": 44,
     "metadata": {},
     "output_type": "execute_result"
    }
   ],
   "source": [
    "# 로드된 데이터를 확인\n",
    "loaded_db.index_to_docstore_id"
   ]
  },
  {
   "cell_type": "code",
   "execution_count": 45,
   "metadata": {},
   "outputs": [],
   "source": [
    "# 검색기로 변환\n",
    "retriever = loaded_db.as_retriever()"
   ]
  },
  {
   "cell_type": "code",
   "execution_count": 46,
   "metadata": {},
   "outputs": [
    {
     "data": {
      "text/plain": [
       "[Document(metadata={'source': './data/book_document.txt'}, page_content='### 제목 : 숫자는 거짓말을 한다\\n- 저자 : 알베르토 카이로\\n- 발행처 : 웅진지식하우스 20201013\\n- isbn : 9788901245591\\n- 청구기호 : 일 310.1-알848ㅅ\\n- 등록번호 : CLP000184432\\n- 소장위치 : 첫 번째 책장 첫 번째 열\\n\\n\\n### 제목 : 피노자의 형이상학\\n- 저자 : 김은주\\n- 발행처 : 민음사 20240503\\n- isbn : 9788937446009\\n- 청구기호 : 일 166.2-김68ㅅ\\n- 등록번호 : CLP000299472\\n- 소장위치 : 첫 번째 책장 첫 번째 열\\n\\n\\n### 제목 : 파이썬 머신러닝 판다스 데이터 분석 (개정판)\\n- 저자 : 오승환\\n- 발행처 : 정보문화사 20240625\\n- isbn : 9788956749808\\n- 청구기호 : 일 001.12-오98o\\n- 등록번호 : CLP000178599\\n- 소장위치 : 두 번재 책장 첫 번째 열\\n\\n\\n### 제목 : 모두의 파이썬\\n- 저자 : 이승찬\\n- 발행처 : 길벗 2017\\n- isbn : 9791160505856\\n- 청구기호 : 일 005.12-이58ㅁ\\n- 등록번호 : CRX000029216\\n- 소장위치 : 첫 번째 책장 두 번 째 열'),\n",
       " Document(metadata={'source': './data/book_document.txt'}, page_content='### 제목 : 손에잡히는 파이썬\\n- 저자 : 문용준\\n- 발행처 : BJpublic(비제이퍼블릭) 2018\\n- isbn : 9791186697726\\n- 청구기호 : 일 005.133-문66ㅅ\\n- 등록번호 : CLP000178588\\n- 소장위치 : 세 번째 책장 두 번 째 열\\n\\n\\n### 제목 : 작심 3일 파이썬 Python\\n- 저자 : 황덕창\\n- 발행처 : 스포트라잇북 20190425\\n- isbn : 9791187431169\\n- 청구기호 : abc\\n- 등록번호 : CLP000178589\\n- 소장위치 : 두 번째 책장 세 번 째 열\\n\\n\\n### 제목 : 돈의 속성 (300쇄 리커버에디션)\\n- 저자 : 김승호\\n- 발행처 : 스노우폭스북스 20200615\\n- isbn : 9791188331796\\n- 청구기호 : 일 001.12-김58ㅁ\\n- 등록번호 : SBBB000029216\\n- 소장위치 : 두 번째 책장 세 번째 열'),\n",
       " Document(metadata={'source': './data/book_document.txt'}, page_content='### 제목 : 철학의 쓸모\\n- 저자 : 로랑스 드빌레르\\n- 발행처 : 피카(FIKA) 20240820\\n- isbn : 9791193866146\\n- 청구기호 : 일 100-로835ㅊ\\n- 등록번호 : CRX000037713\\n- 소장위치 : 첫 번째 책장 첫 번째 열\\n\\n\\n### 제목 : 명품 HTML5+CSS3+Javascript 웹 프로그래밍 (개정판)\\n- 저자 : 황기태\\n- 발행처 : 생능출판 20220210\\n- isbn : 9788970505459\\n- 청구기호 : 일 100.5 황\\n- 등록번호 : CAX12345\\n- 소장위치 : 최신자료실\\n\\n\\n### 제목 : 드라마 만드는 여자들 : 드라마 피디 인터뷰집 (컷 : 그 뒤의 이야기를 묻다)\\n- 저자 : 백시원^이정림^이나정^박보람^정지인^이윤정\\n- 발행처 : 느린서재 20240809\\n- isbn : 9791193749029\\n- 청구기호 : 일 900.0이ㄴ\\n- 등록번호 : CGR12345\\n- 소장위치 : 최신 자료실'),\n",
       " Document(metadata={'source': './data/book_document.txt'}, page_content='### 제목 : 자바 웹을 다루는 기술\\n- 저자 : 이병승\\n- 발행처 : 길벗 2019\\n- isbn : 9791160506822\\n- 청구기호 : 일 005.138-이44ㅈ\\n- 등록번호 : CLP000197301\\n- 소장위치 : 첫 번째 책장 두 번 째 열\\n\\n\\n### 제목 : 이것이 자바 스크립트다\\n- 저자 : 이우진\\n- 발행처 : 한빛미디어 20220905\\n- isbn : 9791169210028\\n- 청구기호 : sfsdf\\n- 등록번호 : abcde\\n- 소장위치 : 두 번째 책장 세 번 째 열\\n\\n\\n### 제목 : 혼자 공부하는 자바\\n- 저자 : 신용권\\n- 발행처 : 한빛미디어 2019\\n- isbn : 9791169211901\\n- 청구기호 : 일 005.138-신66ㅎ\\n- 등록번호 : CLP000204092\\n- 소장위치 : 세 번째 책장 두 번 째 열\\n\\n\\n### 제목 : 이것이 자바다\\n- 저자 : 신용권\\n- 발행처 : 한빛미디어 2015\\n- isbn : 9791169212274\\n- 청구기호 : 일 005.133-신66ㅇ\\n- 등록번호 : CLP000116210\\n- 소장위치 : 첫 번째 책장 세 번 째 열')]"
      ]
     },
     "execution_count": 46,
     "metadata": {},
     "output_type": "execute_result"
    }
   ],
   "source": [
    "retriever.invoke('파이썬 책이 있나요?')"
   ]
  },
  {
   "cell_type": "code",
   "execution_count": 53,
   "metadata": {},
   "outputs": [],
   "source": [
    "# MMR 검색 수행\n",
    "retriever = db.as_retriever(\n",
    "    search_type=\"mmr\", \n",
    "    search_kwargs={\"k\": 6, \"lambda_mult\": 0.25, \"fetch_k\": 10}\n",
    ")"
   ]
  },
  {
   "cell_type": "code",
   "execution_count": 48,
   "metadata": {},
   "outputs": [
    {
     "data": {
      "text/plain": [
       "[Document(metadata={'source': './data/book_document.txt'}, page_content='### 제목 : 숫자는 거짓말을 한다\\n- 저자 : 알베르토 카이로\\n- 발행처 : 웅진지식하우스 20201013\\n- isbn : 9788901245591\\n- 청구기호 : 일 310.1-알848ㅅ\\n- 등록번호 : CLP000184432\\n- 소장위치 : 첫 번째 책장 첫 번째 열\\n\\n\\n### 제목 : 피노자의 형이상학\\n- 저자 : 김은주\\n- 발행처 : 민음사 20240503\\n- isbn : 9788937446009\\n- 청구기호 : 일 166.2-김68ㅅ\\n- 등록번호 : CLP000299472\\n- 소장위치 : 첫 번째 책장 첫 번째 열\\n\\n\\n### 제목 : 파이썬 머신러닝 판다스 데이터 분석 (개정판)\\n- 저자 : 오승환\\n- 발행처 : 정보문화사 20240625\\n- isbn : 9788956749808\\n- 청구기호 : 일 001.12-오98o\\n- 등록번호 : CLP000178599\\n- 소장위치 : 두 번재 책장 첫 번째 열\\n\\n\\n### 제목 : 모두의 파이썬\\n- 저자 : 이승찬\\n- 발행처 : 길벗 2017\\n- isbn : 9791160505856\\n- 청구기호 : 일 005.12-이58ㅁ\\n- 등록번호 : CRX000029216\\n- 소장위치 : 첫 번째 책장 두 번 째 열'),\n",
       " Document(metadata={'source': './data/nlp-keywords.txt'}, page_content='GPT (Generative Pretrained Transformer)\\n\\n정의: GPT는 대규모의 데이터셋으로 사전 훈련된 생성적 언어 모델로, 다양한 텍스트 기반 작업에 활용됩니다. 이는 입력된 텍스트에 기반하여 자연스러운 언어를 생성할 수 있습니다.\\n예시: 사용자가 제공한 질문에 대해 자세한 답변을 생성하는 챗봇은 GPT 모델을 사용할 수 있습니다.\\n연관키워드: 자연어 처리, 텍스트 생성, 딥러닝\\n\\nInstructGPT\\n\\n정의: InstructGPT는 사용자의 지시에 따라 특정한 작업을 수행하기 위해 최적화된 GPT 모델입니다. 이 모델은 보다 정확하고 관련성 높은 결과를 생성하도록 설계되었습니다.\\n예시: 사용자가 \"이메일 초안 작성\"과 같은 특정 지시를 제공하면, InstructGPT는 관련 내용을 기반으로 이메일을 작성합니다.\\n연관키워드: 인공지능, 자연어 이해, 명령 기반 처리\\n\\nKeyword Search'),\n",
       " Document(metadata={'source': './data/nlp-keywords.txt'}, page_content=\"정의: DataFrame은 행과 열로 이루어진 테이블 형태의 데이터 구조로, 주로 데이터 분석 및 처리에 사용됩니다.\\n예시: 판다스 라이브러리에서 DataFrame은 다양한 데이터 타입의 열을 가질 수 있으며, 데이터 조작과 분석을 용이하게 합니다.\\n연관키워드: 데이터 분석, 판다스, 데이터 처리\\n\\nAttention 메커니즘\\n\\n정의: Attention 메커니즘은 딥러닝에서 중요한 정보에 더 많은 '주의'를 기울이도록 하는 기법입니다. 이는 주로 시퀀스 데이터(예: 텍스트, 시계열 데이터)에서 사용됩니다.\\n예시: 번역 모델에서 Attention 메커니즘은 입력 문장의 중요한 부분에 더 집중하여 정확한 번역을 생성합니다.\\n연관키워드: 딥러닝, 자연어 처리, 시퀀스 모델링\\n\\n판다스 (Pandas)\\n\\n정의: 판다스는 파이썬 프로그래밍 언어를 위한 데이터 분석 및 조작 도구를 제공하는 라이브러리입니다. 이는 데이터 분석 작업을 효율적으로 수행할 수 있게 합니다.\\n예시: 판다스를 사용하여 CSV 파일을 읽고, 데이터를 정제하며, 다양한 분석을 수행할 수 있습니다.\\n연관키워드: 데이터 분석, 파이썬, 데이터 처리\"),\n",
       " Document(metadata={'source': './data/nlp-keywords.txt'}, page_content='정의: Word2Vec은 단어를 벡터 공간에 매핑하여 단어 간의 의미적 관계를 나타내는 자연어 처리 기술입니다. 이는 단어의 문맥적 유사성을 기반으로 벡터를 생성합니다.\\n예시: Word2Vec 모델에서 \"왕\"과 \"여왕\"은 서로 가까운 위치에 벡터로 표현됩니다.\\n연관키워드: 자연어 처리, 임베딩, 의미론적 유사성\\nLLM (Large Language Model)\\n\\n정의: LLM은 대규모의 텍스트 데이터로 훈련된 큰 규모의 언어 모델을 의미합니다. 이러한 모델은 다양한 자연어 이해 및 생성 작업에 사용됩니다.\\n예시: OpenAI의 GPT 시리즈는 대표적인 대규모 언어 모델입니다.\\n연관키워드: 자연어 처리, 딥러닝, 텍스트 생성\\n\\nFAISS (Facebook AI Similarity Search)\\n\\n정의: FAISS는 페이스북에서 개발한 고속 유사성 검색 라이브러리로, 특히 대규모 벡터 집합에서 유사 벡터를 효과적으로 검색할 수 있도록 설계되었습니다.\\n예시: 수백만 개의 이미지 벡터 중에서 비슷한 이미지를 빠르게 찾는 데 FAISS가 사용될 수 있습니다.\\n연관키워드: 벡터 검색, 머신러닝, 데이터베이스 최적화\\n\\nOpen Source'),\n",
       " Document(metadata={'source': './data/book_document.txt'}, page_content='### 제목 : 자바 웹을 다루는 기술\\n- 저자 : 이병승\\n- 발행처 : 길벗 2019\\n- isbn : 9791160506822\\n- 청구기호 : 일 005.138-이44ㅈ\\n- 등록번호 : CLP000197301\\n- 소장위치 : 첫 번째 책장 두 번 째 열\\n\\n\\n### 제목 : 이것이 자바 스크립트다\\n- 저자 : 이우진\\n- 발행처 : 한빛미디어 20220905\\n- isbn : 9791169210028\\n- 청구기호 : sfsdf\\n- 등록번호 : abcde\\n- 소장위치 : 두 번째 책장 세 번 째 열\\n\\n\\n### 제목 : 혼자 공부하는 자바\\n- 저자 : 신용권\\n- 발행처 : 한빛미디어 2019\\n- isbn : 9791169211901\\n- 청구기호 : 일 005.138-신66ㅎ\\n- 등록번호 : CLP000204092\\n- 소장위치 : 세 번째 책장 두 번 째 열\\n\\n\\n### 제목 : 이것이 자바다\\n- 저자 : 신용권\\n- 발행처 : 한빛미디어 2015\\n- isbn : 9791169212274\\n- 청구기호 : 일 005.133-신66ㅇ\\n- 등록번호 : CLP000116210\\n- 소장위치 : 첫 번째 책장 세 번 째 열'),\n",
       " Document(metadata={'source': './data/book_document.txt'}, page_content='### 제목 : 철학의 쓸모\\n- 저자 : 로랑스 드빌레르\\n- 발행처 : 피카(FIKA) 20240820\\n- isbn : 9791193866146\\n- 청구기호 : 일 100-로835ㅊ\\n- 등록번호 : CRX000037713\\n- 소장위치 : 첫 번째 책장 첫 번째 열\\n\\n\\n### 제목 : 명품 HTML5+CSS3+Javascript 웹 프로그래밍 (개정판)\\n- 저자 : 황기태\\n- 발행처 : 생능출판 20220210\\n- isbn : 9788970505459\\n- 청구기호 : 일 100.5 황\\n- 등록번호 : CAX12345\\n- 소장위치 : 최신자료실\\n\\n\\n### 제목 : 드라마 만드는 여자들 : 드라마 피디 인터뷰집 (컷 : 그 뒤의 이야기를 묻다)\\n- 저자 : 백시원^이정림^이나정^박보람^정지인^이윤정\\n- 발행처 : 느린서재 20240809\\n- isbn : 9791193749029\\n- 청구기호 : 일 900.0이ㄴ\\n- 등록번호 : CGR12345\\n- 소장위치 : 최신 자료실')]"
      ]
     },
     "execution_count": 48,
     "metadata": {},
     "output_type": "execute_result"
    }
   ],
   "source": [
    "retriever.invoke(\"파이썬 책이 있나요?\")"
   ]
  },
  {
   "cell_type": "code",
   "execution_count": null,
   "metadata": {},
   "outputs": [],
   "source": [
    "# MMR 검색 수행. 상위 2개만 반환\n",
    "retriever = db.as_retriever(search_type=\"mmr\", search_kwargs={\"k\": 2, \"fetch_k\": 10})"
   ]
  },
  {
   "cell_type": "code",
   "execution_count": 50,
   "metadata": {},
   "outputs": [
    {
     "data": {
      "text/plain": [
       "[Document(metadata={'source': './data/book_document.txt'}, page_content='### 제목 : 숫자는 거짓말을 한다\\n- 저자 : 알베르토 카이로\\n- 발행처 : 웅진지식하우스 20201013\\n- isbn : 9788901245591\\n- 청구기호 : 일 310.1-알848ㅅ\\n- 등록번호 : CLP000184432\\n- 소장위치 : 첫 번째 책장 첫 번째 열\\n\\n\\n### 제목 : 피노자의 형이상학\\n- 저자 : 김은주\\n- 발행처 : 민음사 20240503\\n- isbn : 9788937446009\\n- 청구기호 : 일 166.2-김68ㅅ\\n- 등록번호 : CLP000299472\\n- 소장위치 : 첫 번째 책장 첫 번째 열\\n\\n\\n### 제목 : 파이썬 머신러닝 판다스 데이터 분석 (개정판)\\n- 저자 : 오승환\\n- 발행처 : 정보문화사 20240625\\n- isbn : 9788956749808\\n- 청구기호 : 일 001.12-오98o\\n- 등록번호 : CLP000178599\\n- 소장위치 : 두 번재 책장 첫 번째 열\\n\\n\\n### 제목 : 모두의 파이썬\\n- 저자 : 이승찬\\n- 발행처 : 길벗 2017\\n- isbn : 9791160505856\\n- 청구기호 : 일 005.12-이58ㅁ\\n- 등록번호 : CRX000029216\\n- 소장위치 : 첫 번째 책장 두 번 째 열'),\n",
       " Document(metadata={'source': './data/nlp-keywords.txt'}, page_content='GPT (Generative Pretrained Transformer)\\n\\n정의: GPT는 대규모의 데이터셋으로 사전 훈련된 생성적 언어 모델로, 다양한 텍스트 기반 작업에 활용됩니다. 이는 입력된 텍스트에 기반하여 자연스러운 언어를 생성할 수 있습니다.\\n예시: 사용자가 제공한 질문에 대해 자세한 답변을 생성하는 챗봇은 GPT 모델을 사용할 수 있습니다.\\n연관키워드: 자연어 처리, 텍스트 생성, 딥러닝\\n\\nInstructGPT\\n\\n정의: InstructGPT는 사용자의 지시에 따라 특정한 작업을 수행하기 위해 최적화된 GPT 모델입니다. 이 모델은 보다 정확하고 관련성 높은 결과를 생성하도록 설계되었습니다.\\n예시: 사용자가 \"이메일 초안 작성\"과 같은 특정 지시를 제공하면, InstructGPT는 관련 내용을 기반으로 이메일을 작성합니다.\\n연관키워드: 인공지능, 자연어 이해, 명령 기반 처리\\n\\nKeyword Search')]"
      ]
     },
     "execution_count": 50,
     "metadata": {},
     "output_type": "execute_result"
    }
   ],
   "source": [
    "retriever.invoke(\"파이썬 책이 있나요?\")"
   ]
  },
  {
   "cell_type": "code",
   "execution_count": 51,
   "metadata": {},
   "outputs": [],
   "source": [
    "# 가장 유사한 단일 문서만 검색\n",
    "# k=1 로 설정하여 가장 유사한 문서만 검색\n",
    "retriever = db.as_retriever(search_kwargs={\"k\": 1})"
   ]
  },
  {
   "cell_type": "code",
   "execution_count": 52,
   "metadata": {},
   "outputs": [
    {
     "data": {
      "text/plain": [
       "[Document(metadata={'source': './data/book_document.txt'}, page_content='### 제목 : 숫자는 거짓말을 한다\\n- 저자 : 알베르토 카이로\\n- 발행처 : 웅진지식하우스 20201013\\n- isbn : 9788901245591\\n- 청구기호 : 일 310.1-알848ㅅ\\n- 등록번호 : CLP000184432\\n- 소장위치 : 첫 번째 책장 첫 번째 열\\n\\n\\n### 제목 : 피노자의 형이상학\\n- 저자 : 김은주\\n- 발행처 : 민음사 20240503\\n- isbn : 9788937446009\\n- 청구기호 : 일 166.2-김68ㅅ\\n- 등록번호 : CLP000299472\\n- 소장위치 : 첫 번째 책장 첫 번째 열\\n\\n\\n### 제목 : 파이썬 머신러닝 판다스 데이터 분석 (개정판)\\n- 저자 : 오승환\\n- 발행처 : 정보문화사 20240625\\n- isbn : 9788956749808\\n- 청구기호 : 일 001.12-오98o\\n- 등록번호 : CLP000178599\\n- 소장위치 : 두 번재 책장 첫 번째 열\\n\\n\\n### 제목 : 모두의 파이썬\\n- 저자 : 이승찬\\n- 발행처 : 길벗 2017\\n- isbn : 9791160505856\\n- 청구기호 : 일 005.12-이58ㅁ\\n- 등록번호 : CRX000029216\\n- 소장위치 : 첫 번째 책장 두 번 째 열')]"
      ]
     },
     "execution_count": 52,
     "metadata": {},
     "output_type": "execute_result"
    }
   ],
   "source": [
    "retriever.invoke(\"파이썬 책이 있나요?\")"
   ]
  }
 ],
 "metadata": {
  "kernelspec": {
   "display_name": "venv",
   "language": "python",
   "name": "python3"
  },
  "language_info": {
   "codemirror_mode": {
    "name": "ipython",
    "version": 3
   },
   "file_extension": ".py",
   "mimetype": "text/x-python",
   "name": "python",
   "nbconvert_exporter": "python",
   "pygments_lexer": "ipython3",
   "version": "3.11.9"
  }
 },
 "nbformat": 4,
 "nbformat_minor": 2
}
