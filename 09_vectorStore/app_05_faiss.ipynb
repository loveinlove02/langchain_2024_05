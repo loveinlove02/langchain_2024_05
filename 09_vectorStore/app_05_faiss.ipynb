{
 "cells": [
  {
   "cell_type": "code",
   "execution_count": 21,
   "metadata": {},
   "outputs": [],
   "source": [
    "from dotenv import load_dotenv\n",
    "import os\n",
    "\n",
    "load_dotenv(verbose=True)\n",
    "key = os.getenv('OPENAI_API_KEY')"
   ]
  },
  {
   "cell_type": "code",
   "execution_count": 22,
   "metadata": {},
   "outputs": [],
   "source": [
    "import faiss\n",
    "from langchain_community.vectorstores import FAISS\n",
    "from langchain_community.docstore.in_memory import InMemoryDocstore\n",
    "from langchain_openai.embeddings import OpenAIEmbeddings"
   ]
  },
  {
   "cell_type": "code",
   "execution_count": 23,
   "metadata": {},
   "outputs": [],
   "source": [
    "# 문자열 리스트로 생성\n",
    "db = FAISS.from_texts(\n",
    "    [\"제 이름은 이인환입니다.\", \"저는 컴퓨터프로그래밍을 교육하는 강사입니다.\"],\n",
    "    embedding=OpenAIEmbeddings(model=\"text-embedding-3-small\"),\n",
    "    metadatas=[{\"source\": \"텍스트문서\"}, {\"source\": \"텍스트문서\"}],\n",
    "    ids=[\"doc1\", \"doc2\"],\n",
    ")"
   ]
  },
  {
   "cell_type": "code",
   "execution_count": 24,
   "metadata": {},
   "outputs": [
    {
     "data": {
      "text/plain": [
       "{'doc1': Document(metadata={'source': '텍스트문서'}, page_content='제 이름은 이인환입니다.'),\n",
       " 'doc2': Document(metadata={'source': '텍스트문서'}, page_content='저는 컴퓨터프로그래밍을 교육하는 강사입니다.')}"
      ]
     },
     "execution_count": 24,
     "metadata": {},
     "output_type": "execute_result"
    }
   ],
   "source": [
    "# 저장된 결과를 확인합니다. id 값은 지정한 id 값이 잘 들어가 있는지 확인합니다.\n",
    "# 저장된 내용\n",
    "db.docstore._dict"
   ]
  },
  {
   "cell_type": "code",
   "execution_count": 26,
   "metadata": {},
   "outputs": [],
   "source": [
    "# 텍스트로부터 추가 (add_texts)"
   ]
  },
  {
   "cell_type": "code",
   "execution_count": 29,
   "metadata": {},
   "outputs": [],
   "source": [
    "# add_texts() 텍스트를 임베딩하고 벡터 저장소에 추가하는 기능을 제공합니다.\n",
    "\n",
    "# 매개변수\n",
    "# \n",
    "# . texts (Iterable[str])               : 벡터 저장소에 추가할 텍스트 이터러블\n",
    "# . metadatas (Optional[List[dict]])    : 텍스트와 연관된 메타데이터 리스트 (선택적)\n",
    "# . ids (Optional[List[str]])           : 텍스트의 고유 식별자 리스트 (선택적)\n",
    "# . **kwargs                            : 추가 키워드 인자"
   ]
  },
  {
   "cell_type": "code",
   "execution_count": 30,
   "metadata": {},
   "outputs": [
    {
     "data": {
      "text/plain": [
       "['new_doc2', 'new_doc3']"
      ]
     },
     "execution_count": 30,
     "metadata": {},
     "output_type": "execute_result"
    }
   ],
   "source": [
    "# 데이터 추가\n",
    "db.add_texts(\n",
    "    [\"이번엔 텍스트 데이터를 추가합니다.\", \"추가한 2번째 텍스트 데이터 입니다.\"],\n",
    "    metadatas=[{\"source\": \"mydata.txt\"}, {\"source\": \"mydata.txt\"}],\n",
    "    ids=[\"new_doc2\", \"new_doc3\"],\n",
    ")"
   ]
  },
  {
   "cell_type": "code",
   "execution_count": 32,
   "metadata": {},
   "outputs": [
    {
     "data": {
      "text/plain": [
       "{0: 'doc1', 1: 'doc2', 2: 'new_doc2', 3: 'new_doc3'}"
      ]
     },
     "execution_count": 32,
     "metadata": {},
     "output_type": "execute_result"
    }
   ],
   "source": [
    "# 데이터 아이디\n",
    "db.index_to_docstore_id"
   ]
  },
  {
   "cell_type": "code",
   "execution_count": 33,
   "metadata": {},
   "outputs": [],
   "source": [
    "# 문서 삭제 (Delete Documents)"
   ]
  },
  {
   "cell_type": "code",
   "execution_count": 35,
   "metadata": {},
   "outputs": [],
   "source": [
    "# delete() 벡터 저장소에서 지정된 ID에 해당하는 문서를 삭제하는 기능을 제공합니다.\n",
    "\n",
    "# 매개변수\n",
    "# . ids (Optional[List[str]]): 삭제할 문서의 ID 리스트\n",
    "# . **kwargs: 추가 키워드 인자 (이 메서드에서는 사용되지 않음)"
   ]
  },
  {
   "cell_type": "code",
   "execution_count": 36,
   "metadata": {},
   "outputs": [],
   "source": [
    "# 삭제할 데이터를 추가\n",
    "ids = db.add_texts(\n",
    "    [\"삭제용 데이터를 추가합니다.\", \"2번째 삭제용 데이터입니다.\"],\n",
    "    metadatas=[{\"source\": \"mydata.txt\"}, {\"source\": \"mydata.txt\"}],\n",
    "    ids=[\"delete_doc1\", \"delete_doc2\"],\n",
    ")"
   ]
  },
  {
   "cell_type": "code",
   "execution_count": 37,
   "metadata": {},
   "outputs": [
    {
     "name": "stdout",
     "output_type": "stream",
     "text": [
      "['delete_doc1', 'delete_doc2']\n"
     ]
    }
   ],
   "source": [
    "# 삭제할 id 를 확인\n",
    "print(ids)"
   ]
  },
  {
   "cell_type": "code",
   "execution_count": 38,
   "metadata": {},
   "outputs": [
    {
     "data": {
      "text/plain": [
       "True"
      ]
     },
     "execution_count": 38,
     "metadata": {},
     "output_type": "execute_result"
    }
   ],
   "source": [
    "# id 로 삭제\n",
    "db.delete(ids)"
   ]
  },
  {
   "cell_type": "code",
   "execution_count": 40,
   "metadata": {},
   "outputs": [
    {
     "data": {
      "text/plain": [
       "{0: 'doc1', 1: 'doc2', 2: 'new_doc2', 3: 'new_doc3'}"
      ]
     },
     "execution_count": 40,
     "metadata": {},
     "output_type": "execute_result"
    }
   ],
   "source": [
    "# 삭제된 결과를 출력\n",
    "db.index_to_docstore_id"
   ]
  },
  {
   "cell_type": "code",
   "execution_count": 43,
   "metadata": {},
   "outputs": [],
   "source": [
    "# 저장\n",
    "db.save_local(folder_path=\"./faiss_db\", index_name=\"faiss_index\")"
   ]
  },
  {
   "cell_type": "code",
   "execution_count": 44,
   "metadata": {},
   "outputs": [],
   "source": [
    "# 저장된 데이터를 로드\n",
    "loaded_db = FAISS.load_local(\n",
    "    folder_path=\"./faiss_db\",\n",
    "    index_name=\"faiss_index\",\n",
    "    embeddings=OpenAIEmbeddings(model=\"text-embedding-3-small\"),\n",
    "    allow_dangerous_deserialization=True,\n",
    ")"
   ]
  },
  {
   "cell_type": "code",
   "execution_count": 45,
   "metadata": {},
   "outputs": [
    {
     "data": {
      "text/plain": [
       "{0: 'doc1', 1: 'doc2', 2: 'new_doc2', 3: 'new_doc3'}"
      ]
     },
     "execution_count": 45,
     "metadata": {},
     "output_type": "execute_result"
    }
   ],
   "source": [
    "# 로드된 데이터를 확인\n",
    "loaded_db.index_to_docstore_id"
   ]
  },
  {
   "cell_type": "code",
   "execution_count": 46,
   "metadata": {},
   "outputs": [],
   "source": [
    "# 검색기로 변환\n",
    "retriever = loaded_db.as_retriever()"
   ]
  },
  {
   "cell_type": "code",
   "execution_count": 47,
   "metadata": {},
   "outputs": [
    {
     "data": {
      "text/plain": [
       "[Document(metadata={'source': '텍스트문서'}, page_content='저는 컴퓨터프로그래밍을 교육하는 강사입니다.'),\n",
       " Document(metadata={'source': 'mydata.txt'}, page_content='이번엔 텍스트 데이터를 추가합니다.'),\n",
       " Document(metadata={'source': 'mydata.txt'}, page_content='추가한 2번째 텍스트 데이터 입니다.'),\n",
       " Document(metadata={'source': '텍스트문서'}, page_content='제 이름은 이인환입니다.')]"
      ]
     },
     "execution_count": 47,
     "metadata": {},
     "output_type": "execute_result"
    }
   ],
   "source": [
    "retriever.invoke('컴퓨터프로그래밍?')"
   ]
  }
 ],
 "metadata": {
  "kernelspec": {
   "display_name": "venv",
   "language": "python",
   "name": "python3"
  },
  "language_info": {
   "codemirror_mode": {
    "name": "ipython",
    "version": 3
   },
   "file_extension": ".py",
   "mimetype": "text/x-python",
   "name": "python",
   "nbconvert_exporter": "python",
   "pygments_lexer": "ipython3",
   "version": "3.11.9"
  }
 },
 "nbformat": 4,
 "nbformat_minor": 2
}
