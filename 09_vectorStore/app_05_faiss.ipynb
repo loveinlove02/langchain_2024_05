{
 "cells": [
  {
   "cell_type": "code",
   "execution_count": 2,
   "metadata": {},
   "outputs": [],
   "source": [
    "from dotenv import load_dotenv\n",
    "import os\n",
    "\n",
    "load_dotenv(verbose=True)\n",
    "key = os.getenv('OPENAI_API_KEY')"
   ]
  },
  {
   "cell_type": "code",
   "execution_count": 3,
   "metadata": {},
   "outputs": [],
   "source": [
    "import faiss\n",
    "from langchain_community.vectorstores import FAISS\n",
    "from langchain_community.docstore.in_memory import InMemoryDocstore\n",
    "from langchain_openai.embeddings import OpenAIEmbeddings"
   ]
  },
  {
   "cell_type": "markdown",
   "metadata": {},
   "source": [
    "### FAISS 벡터 저장소 생성 (from_texts)\n",
    "\n",
    "`from_texts()`  텍스트 리스트와 임베딩 함수를 사용하여 FAISS 벡터 저장소를 생성합니다. \n",
    "\n",
    "**매개변수**\n",
    "\n",
    "- texts (List[str]): 벡터 저장소에 추가할 텍스트 리스트\n",
    "- embedding (Embeddings): 사용할 임베딩 함수\n",
    "- metadatas (Optional[List[dict]]): 메타데이터 리스트. 기본값은 None\n",
    "- ids (Optional[List[str]]): 문서 ID 리스트. 기본값은 None\n",
    "- **kwargs: 추가 키워드 인자"
   ]
  },
  {
   "cell_type": "code",
   "execution_count": 4,
   "metadata": {},
   "outputs": [],
   "source": [
    "# 리스트에 데이터로 문자열 텍스트를 넣어서 만든다.\n",
    "db = FAISS.from_texts(\n",
    "    [\"제 이름은 이인환입니다.\", \"저는 컴퓨터프로그래밍을 교육하는 강사입니다.\"],\n",
    "    embedding=OpenAIEmbeddings(model=\"text-embedding-3-small\"),\n",
    "    metadatas=[{\"source\": \"텍스트문서\"}, {\"source\": \"텍스트문서\"}],\n",
    "    ids=[\"doc1\", \"doc2\"],\n",
    ")"
   ]
  },
  {
   "cell_type": "code",
   "execution_count": 5,
   "metadata": {},
   "outputs": [
    {
     "data": {
      "text/plain": [
       "{'doc1': Document(metadata={'source': '텍스트문서'}, page_content='제 이름은 이인환입니다.'),\n",
       " 'doc2': Document(metadata={'source': '텍스트문서'}, page_content='저는 컴퓨터프로그래밍을 교육하는 강사입니다.')}"
      ]
     },
     "execution_count": 5,
     "metadata": {},
     "output_type": "execute_result"
    }
   ],
   "source": [
    "db.docstore._dict"
   ]
  },
  {
   "cell_type": "markdown",
   "metadata": {},
   "source": [
    "### **텍스트로부터 추가 (add_texts)**\n",
    "\n",
    "add_texts() 텍스트를 임베딩하고 벡터 저장소에 추가하는 기능을 제공합니다.\n",
    "<br>\n",
    "\n",
    "**매개변수**\n",
    "\n",
    "- texts (Iterable[str])               : 벡터 저장소에 추가할 텍스트 이터러블\n",
    "- metadatas (Optional[List[dict]])    : 텍스트와 연관된 메타데이터 리스트 (선택적)\n",
    "- **kwargs                            : 추가 키워드 인자\n",
    "\n",
    "**동작**\n",
    "<br>\n",
    "\n",
    "1. 입력받은 텍스트 이터러블을 리스트로 변환합니다.\n",
    "2. _embed_documents 메서드를 사용하여 텍스트를 임베딩합니다.\n",
    "3. __add 메서드를 호출하여 임베딩된 텍스트를 벡터 저장소에 추가합니다.\n"
   ]
  },
  {
   "cell_type": "code",
   "execution_count": 6,
   "metadata": {},
   "outputs": [
    {
     "data": {
      "text/plain": [
       "['new_doc2', 'new_doc3']"
      ]
     },
     "execution_count": 6,
     "metadata": {},
     "output_type": "execute_result"
    }
   ],
   "source": [
    "# 데이터 추가\n",
    "db.add_texts(\n",
    "    [\"이번엔 텍스트 데이터를 추가합니다.\", \"추가한 2번째 텍스트 데이터 입니다.\"],\n",
    "    metadatas=[{\"source\": \"mydata.txt\"}, {\"source\": \"mydata.txt\"}],\n",
    "    ids=[\"new_doc2\", \"new_doc3\"],\n",
    ")"
   ]
  },
  {
   "cell_type": "code",
   "execution_count": 7,
   "metadata": {},
   "outputs": [
    {
     "data": {
      "text/plain": [
       "{0: 'doc1', 1: 'doc2', 2: 'new_doc2', 3: 'new_doc3'}"
      ]
     },
     "execution_count": 7,
     "metadata": {},
     "output_type": "execute_result"
    }
   ],
   "source": [
    "# 데이터 아이디\n",
    "db.index_to_docstore_id"
   ]
  },
  {
   "cell_type": "markdown",
   "metadata": {},
   "source": [
    "### **문서 삭제 (Delete Documents)**\n",
    "\n",
    "`delete()` 벡터 저장소에서 지정된 ID에 해당하는 문서를 삭제하는 기능을 제공합니다.\n",
    "<br>\n",
    "\n",
    "**매개변수**\n",
    "\n",
    "- ids (Optional[List[str]]): 삭제할 문서의 ID 리스트\n",
    "- **kwargs: 추가 키워드 인자 (이 메서드에서는 사용되지 않음)"
   ]
  },
  {
   "cell_type": "code",
   "execution_count": 8,
   "metadata": {},
   "outputs": [],
   "source": [
    "# 삭제할 데이터를 추가\n",
    "ids = db.add_texts(\n",
    "    [\"삭제용 데이터를 추가합니다.\", \"2번째 삭제용 데이터입니다.\"],\n",
    "    metadatas=[{\"source\": \"mydata.txt\"}, {\"source\": \"mydata.txt\"}],\n",
    "    ids=[\"delete_doc1\", \"delete_doc2\"],\n",
    ")"
   ]
  },
  {
   "cell_type": "code",
   "execution_count": 10,
   "metadata": {},
   "outputs": [
    {
     "name": "stdout",
     "output_type": "stream",
     "text": [
      "['delete_doc1', 'delete_doc2']\n"
     ]
    }
   ],
   "source": [
    "print(ids)  # 삭제할 id 를 확인"
   ]
  },
  {
   "cell_type": "code",
   "execution_count": 11,
   "metadata": {},
   "outputs": [
    {
     "data": {
      "text/plain": [
       "True"
      ]
     },
     "execution_count": 11,
     "metadata": {},
     "output_type": "execute_result"
    }
   ],
   "source": [
    "db.delete(ids)  # id 로 삭제"
   ]
  },
  {
   "cell_type": "code",
   "execution_count": 12,
   "metadata": {},
   "outputs": [
    {
     "data": {
      "text/plain": [
       "{0: 'doc1', 1: 'doc2', 2: 'new_doc2', 3: 'new_doc3'}"
      ]
     },
     "execution_count": 12,
     "metadata": {},
     "output_type": "execute_result"
    }
   ],
   "source": [
    "# 삭제된 결과를 출력\n",
    "db.index_to_docstore_id"
   ]
  },
  {
   "cell_type": "markdown",
   "metadata": {},
   "source": [
    "### **로컬 저장 (Save Local)**\n",
    "\n",
    "`save_local()` FAISS 인덱스, 문서 저장소, 그리고 인덱스-문서 ID 매핑을 로컬 디스크에 저장하는 기능을 제공합니다.\n",
    "<br>\n",
    "\n",
    "**매개변수**\n",
    "\n",
    "- `folder_path` (str): 저장할 폴더 경로\n",
    "- `index_name` (str): 저장할 인덱스 파일 이름 (기본값: \"index\")\n",
    "\n",
    "**동작**\n",
    "\n",
    "1. 지정된 폴더 경로를 생성합니다 (이미 존재하는 경우 무시).\n",
    "2. FAISS 인덱스를 별도의 파일로 저장합니다.\n",
    "3. 문서 저장소와 인덱스-문서 ID 매핑을 pickle 형식으로 저장합니다."
   ]
  },
  {
   "cell_type": "code",
   "execution_count": 13,
   "metadata": {},
   "outputs": [],
   "source": [
    "# 저장\n",
    "db.save_local(folder_path=\"./faiss_db\", index_name=\"faiss_index\")"
   ]
  },
  {
   "cell_type": "markdown",
   "metadata": {},
   "source": [
    "### **로컬에서 불러오기 (Load Local)**\n",
    "\n",
    "`load_local()` 로컬 디스크에 저장된 FAISS 인덱스, 문서 저장소, 그리고 인덱스-문서 ID 매핑을 불러오는 기능을 제공합니다.\n",
    "<br>\n",
    "\n",
    "**매개변수**\n",
    "\n",
    "- `folder_path` (str): 불러올 파일들이 저장된 폴더 경로\n",
    "- `embeddings` (Embeddings): 쿼리 생성에 사용할 임베딩 객체\n",
    "- `index_name` (str): 불러올 인덱스 파일 이름 (기본값: \"index\")\n",
    "- `allow_dangerous_deserialization` (bool): pickle 파일 역직렬화 허용 여부 (기본값: False)"
   ]
  },
  {
   "cell_type": "code",
   "execution_count": 15,
   "metadata": {},
   "outputs": [],
   "source": [
    "# 저장된 데이터를 로드\n",
    "loaded_db = FAISS.load_local(\n",
    "    folder_path=\"./faiss_db\",                                           # 불러올 파일들이 저장된 폴더 경로\n",
    "    index_name=\"faiss_index\",                                           # 불러올 인덱스 파일 이름\n",
    "    embeddings=OpenAIEmbeddings(model=\"text-embedding-3-small\"),        # 임베딩 객체\n",
    "    allow_dangerous_deserialization=True,                               # pickle 파일 역직렬화 허용\n",
    ")"
   ]
  },
  {
   "cell_type": "code",
   "execution_count": 20,
   "metadata": {},
   "outputs": [
    {
     "name": "stdout",
     "output_type": "stream",
     "text": [
      "{0: 'doc1', 1: 'doc2', 2: 'new_doc2', 3: 'new_doc3'}\n"
     ]
    }
   ],
   "source": [
    "print(loaded_db.index_to_docstore_id)       # 로드된 데이터를 확인"
   ]
  },
  {
   "cell_type": "code",
   "execution_count": 21,
   "metadata": {},
   "outputs": [],
   "source": [
    "retriever = loaded_db.as_retriever()        # 검색기로 변환"
   ]
  },
  {
   "cell_type": "code",
   "execution_count": 24,
   "metadata": {},
   "outputs": [
    {
     "data": {
      "text/plain": [
       "[Document(metadata={'source': '텍스트문서'}, page_content='저는 컴퓨터프로그래밍을 교육하는 강사입니다.'),\n",
       " Document(metadata={'source': 'mydata.txt'}, page_content='이번엔 텍스트 데이터를 추가합니다.'),\n",
       " Document(metadata={'source': 'mydata.txt'}, page_content='추가한 2번째 텍스트 데이터 입니다.'),\n",
       " Document(metadata={'source': '텍스트문서'}, page_content='제 이름은 이인환입니다.')]"
      ]
     },
     "execution_count": 24,
     "metadata": {},
     "output_type": "execute_result"
    }
   ],
   "source": [
    "retriever.invoke('컴퓨터프로그래밍?')"
   ]
  }
 ],
 "metadata": {
  "kernelspec": {
   "display_name": "venv",
   "language": "python",
   "name": "python3"
  },
  "language_info": {
   "codemirror_mode": {
    "name": "ipython",
    "version": 3
   },
   "file_extension": ".py",
   "mimetype": "text/x-python",
   "name": "python",
   "nbconvert_exporter": "python",
   "pygments_lexer": "ipython3",
   "version": "3.11.9"
  }
 },
 "nbformat": 4,
 "nbformat_minor": 2
}
