{
 "cells": [
  {
   "cell_type": "code",
   "execution_count": 27,
   "metadata": {},
   "outputs": [],
   "source": [
    "class ChatMessages:\n",
    "    def __init__(self, role, content):\n",
    "        self.role = role\n",
    "        self.content = content"
   ]
  },
  {
   "cell_type": "code",
   "execution_count": 28,
   "metadata": {},
   "outputs": [],
   "source": [
    "session_state = {}"
   ]
  },
  {
   "cell_type": "code",
   "execution_count": 29,
   "metadata": {},
   "outputs": [],
   "source": [
    "session_state['messages'] = []"
   ]
  },
  {
   "cell_type": "code",
   "execution_count": 30,
   "metadata": {},
   "outputs": [
    {
     "name": "stdout",
     "output_type": "stream",
     "text": [
      "{'messages': []}\n"
     ]
    }
   ],
   "source": [
    "print(session_state)"
   ]
  },
  {
   "cell_type": "code",
   "execution_count": 31,
   "metadata": {},
   "outputs": [],
   "source": [
    "session_state['messages'].append(ChatMessages(role='user', content='안녕. 나는 홍길동이야'))"
   ]
  },
  {
   "cell_type": "code",
   "execution_count": 32,
   "metadata": {},
   "outputs": [],
   "source": [
    "session_state['messages'].append(ChatMessages(role='assistant', content='안녕하세요. 무엇을 도와드릴까요?'))"
   ]
  },
  {
   "cell_type": "code",
   "execution_count": 33,
   "metadata": {},
   "outputs": [
    {
     "name": "stdout",
     "output_type": "stream",
     "text": [
      "{'messages': [<__main__.ChatMessages object at 0x0000011115504110>, <__main__.ChatMessages object at 0x0000011115694690>]}\n"
     ]
    }
   ],
   "source": [
    "print(session_state)"
   ]
  },
  {
   "cell_type": "code",
   "execution_count": 34,
   "metadata": {},
   "outputs": [
    {
     "name": "stdout",
     "output_type": "stream",
     "text": [
      "<__main__.ChatMessages object at 0x0000011115504110>\n",
      "<__main__.ChatMessages object at 0x0000011115694690>\n"
     ]
    }
   ],
   "source": [
    "for i in session_state['messages']:\n",
    "    print(i)"
   ]
  },
  {
   "cell_type": "code",
   "execution_count": 35,
   "metadata": {},
   "outputs": [
    {
     "name": "stdout",
     "output_type": "stream",
     "text": [
      "<__main__.ChatMessages object at 0x0000011115504110>\n",
      "<__main__.ChatMessages object at 0x0000011115694690>\n"
     ]
    }
   ],
   "source": [
    "for chat_message in session_state['messages']:\n",
    "    print(chat_message)"
   ]
  },
  {
   "cell_type": "code",
   "execution_count": 36,
   "metadata": {},
   "outputs": [
    {
     "name": "stdout",
     "output_type": "stream",
     "text": [
      "user 안녕. 나는 홍길동이야\n",
      "assistant 안녕하세요. 무엇을 도와드릴까요?\n"
     ]
    }
   ],
   "source": [
    "for chat_message in session_state['messages']:\n",
    "    print(chat_message.role, chat_message.content)"
   ]
  },
  {
   "cell_type": "code",
   "execution_count": 37,
   "metadata": {},
   "outputs": [
    {
     "name": "stdout",
     "output_type": "stream",
     "text": [
      "user: 안녕. 나는 홍길동이야\n",
      "ai: 안녕하세요. 무엇을 도와드릴까요?\n"
     ]
    }
   ],
   "source": [
    "for chat_message in session_state['messages']:\n",
    "    if chat_message.role == 'user':\n",
    "        print('user:', chat_message.content)\n",
    "    elif chat_message.role == 'assistant':\n",
    "        print('ai:', chat_message.content)    "
   ]
  },
  {
   "cell_type": "code",
   "execution_count": 38,
   "metadata": {},
   "outputs": [],
   "source": [
    "def add_message(role, message):\n",
    "    session_state['messages'].append(ChatMessages(role=role, content=message))"
   ]
  },
  {
   "cell_type": "code",
   "execution_count": 40,
   "metadata": {},
   "outputs": [],
   "source": [
    "message = '안녕. 나는 홍길동이야'\n",
    "add_message(role='user', message=message)"
   ]
  },
  {
   "cell_type": "code",
   "execution_count": 42,
   "metadata": {},
   "outputs": [],
   "source": [
    "def print_messages():\n",
    "    for chat_message in session_state['messages']:\n",
    "        if chat_message.role == 'user':\n",
    "            print('user:', chat_message.content)\n",
    "        elif chat_message.role == 'assistant':\n",
    "            print('ai:', chat_message.content)    "
   ]
  },
  {
   "cell_type": "code",
   "execution_count": 43,
   "metadata": {},
   "outputs": [
    {
     "name": "stdout",
     "output_type": "stream",
     "text": [
      "user: 안녕. 나는 홍길동이야\n",
      "ai: 안녕하세요. 무엇을 도와드릴까요?\n",
      "user: 안녕. 나는 홍길동이야\n"
     ]
    }
   ],
   "source": [
    "print_messages()"
   ]
  }
 ],
 "metadata": {
  "kernelspec": {
   "display_name": "venv",
   "language": "python",
   "name": "python3"
  },
  "language_info": {
   "codemirror_mode": {
    "name": "ipython",
    "version": 3
   },
   "file_extension": ".py",
   "mimetype": "text/x-python",
   "name": "python",
   "nbconvert_exporter": "python",
   "pygments_lexer": "ipython3",
   "version": "3.11.9"
  }
 },
 "nbformat": 4,
 "nbformat_minor": 2
}
