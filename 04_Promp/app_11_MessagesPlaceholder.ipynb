{
 "cells": [
  {
   "cell_type": "code",
   "execution_count": 1,
   "metadata": {},
   "outputs": [],
   "source": [
    "from langchain_core.output_parsers import StrOutputParser\n",
    "from langchain_core.prompts import ChatPromptTemplate, MessagesPlaceholder"
   ]
  },
  {
   "cell_type": "markdown",
   "metadata": {},
   "source": [
    "아직 확정된 메시지는 아니 지만 나중에 채워질 메시지를 `MessagePlaceholder`로 잡아둡니다.<br>\n",
    "이렇게 `MessagePlaceholder`로 잡아두는 경우는 챗봇을 만들 때 대화를 주고받을 때 이 대화 내용을 기록하고자 할 때 이 MessagePlaceholder를 사용합니다. <br><br>\n",
    "\n",
    "대화 기록이라는 것은 우리가 대화를 하는 과정에서 계속 쌓여나가는데요 이 쌓여나가는 대화도 결국 나중에 프롬프트 입력으로 넣어줘야 됩니다.<br>\n",
    "그런데 중간 부분에 넣어주고 싶을 때.. 대화 기록이란 것이 아직 확정이 안 된 상태입니다. (대화하는 도중이라서..) <br>\n",
    "그래서 `MessagePlaceholder`에 `history`라는 변수로 잡아둡니다. <br>\n",
    "잡아둔 다음에 나중에 또 이 대화 기록을 보고, 또 질문이 들어왔을 때 대처를 해주는 방식으로 구성해 나갈 수 있습니다.<br>\n",
    "위치를 잡아둘 때는 키값이 필요합니다. `variable_name=\"conversation\"` 과 같이 잡아둘 수 있습니다."
   ]
  },
  {
   "cell_type": "code",
   "execution_count": null,
   "metadata": {},
   "outputs": [],
   "source": [
    "prompt = ChatPromptTemplate.from_messages(\n",
    "    [\n",
    "        (\n",
    "            \"system\",\n",
    "            \"당신은 요약 전문 AI 어시스턴트입니다. 당신의 임무는 주요 키워드로 대화를 요약하는 것입니다.\"\n",
    "        ),\n",
    "        MessagesPlaceholder(variable_name=\"conversation\"),\n",
    "        (\"human\", \"지금까지의 대화를 {word_count} 단어로 요약합니다.\"),\n",
    "    ]\n",
    ")\n",
    "\n",
    "# conversation 대화목록을 나중에 추가하고자 할 때 MessagesPlaceholder를 사용할 수 있습니다.\n",
    "formatted_prompt = prompt.format(\n",
    "    word_count=5,\n",
    "    conversation=[\n",
    "        (\"human\", \"안녕하세요! 저는 오늘 새로 입사한 홍길동입니다. 만나서 반갑습니다.\"),\n",
    "        (\"ai\", \"반가워요! 앞으로 잘 부탁드립니다.\"),\n",
    "    ],\n",
    ")"
   ]
  },
  {
   "cell_type": "code",
   "execution_count": 7,
   "metadata": {},
   "outputs": [
    {
     "name": "stdout",
     "output_type": "stream",
     "text": [
      "System: 당신은 요약 전문 AI 어시스턴트입니다. 당신의 임무는 주요 키워드로 대화를 요약하는 것입니다.\n",
      "Human: 안녕하세요! 저는 오늘 새로 입사한 홍길동입니다. 만나서 반갑습니다.\n",
      "AI: 반가워요! 앞으로 잘 부탁드립니다.\n",
      "Human: 지금까지의 대화를 5 단어로 요약합니다.\n"
     ]
    }
   ],
   "source": [
    "print(formatted_prompt)"
   ]
  }
 ],
 "metadata": {
  "kernelspec": {
   "display_name": "venv",
   "language": "python",
   "name": "python3"
  },
  "language_info": {
   "codemirror_mode": {
    "name": "ipython",
    "version": 3
   },
   "file_extension": ".py",
   "mimetype": "text/x-python",
   "name": "python",
   "nbconvert_exporter": "python",
   "pygments_lexer": "ipython3",
   "version": "3.11.9"
  }
 },
 "nbformat": 4,
 "nbformat_minor": 2
}
