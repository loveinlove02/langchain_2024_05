{
 "cells": [
  {
   "cell_type": "code",
   "execution_count": 1,
   "metadata": {},
   "outputs": [],
   "source": [
    "from dotenv import load_dotenv\n",
    "import os\n",
    "\n",
    "load_dotenv(verbose=True)\n",
    "key = os.getenv('OPENAI_API_KEY')"
   ]
  },
  {
   "cell_type": "code",
   "execution_count": 2,
   "metadata": {},
   "outputs": [],
   "source": [
    "from langchain_community.document_loaders import PyMuPDFLoader"
   ]
  },
  {
   "cell_type": "code",
   "execution_count": 3,
   "metadata": {},
   "outputs": [],
   "source": [
    "loader = PyMuPDFLoader(\"./data/SPRI_AI_Brief_2023년12월호_F.pdf\")\n",
    "docs = loader.load()"
   ]
  },
  {
   "cell_type": "code",
   "execution_count": 4,
   "metadata": {},
   "outputs": [
    {
     "name": "stdout",
     "output_type": "stream",
     "text": [
      "Please summarize the sentence according to the following REQUEST.\n",
      "REQUEST:\n",
      "1. Summarize the main points in bullet points in KOREAN.\n",
      "2. Each summarized sentence must start with an emoji that fits the meaning of the each sentence.\n",
      "3. Use various emojis to make the summary more interesting.\n",
      "4. Translate the summary into KOREAN if it is written in ENGLISH.\n",
      "5. DO NOT translate any technical terms.\n",
      "6. DO NOT include any unnecessary information.\n",
      "\n",
      "CONTEXT:\n",
      "\u001b[33;1m\u001b[1;3m{context}\u001b[0m\n",
      "\n",
      "SUMMARY:\"\n",
      "\n"
     ]
    }
   ],
   "source": [
    "from langchain import hub\n",
    "\n",
    "# 한국어로 요약을 작성하라는 문구가 추가된 prompt 입니다.\n",
    "prompt = hub.pull(\"teddynote/summary-stuff-documents-korean\")\n",
    "prompt.pretty_print()"
   ]
  },
  {
   "cell_type": "code",
   "execution_count": 5,
   "metadata": {},
   "outputs": [],
   "source": [
    "from langchain_openai import ChatOpenAI\n",
    "from langchain.chains.combine_documents import create_stuff_documents_chain\n",
    "from langchain_teddynote.callbacks import StreamingCallback"
   ]
  },
  {
   "cell_type": "code",
   "execution_count": 6,
   "metadata": {},
   "outputs": [],
   "source": [
    "llm = ChatOpenAI(\n",
    "    api_key=key, \n",
    "    model_name='gpt-4o-mini',\n",
    "    temperature=0.1, \n",
    "    streaming=True,\n",
    "    callbacks=[StreamingCallback()]\n",
    ")"
   ]
  },
  {
   "cell_type": "code",
   "execution_count": 7,
   "metadata": {},
   "outputs": [],
   "source": [
    "stuff_chain = create_stuff_documents_chain(llm, prompt)"
   ]
  },
  {
   "cell_type": "code",
   "execution_count": 8,
   "metadata": {},
   "outputs": [
    {
     "name": "stdout",
     "output_type": "stream",
     "text": [
      "- 🏛️ 미국, 안전하고 신뢰할 수 있는 AI 개발과 사용에 관한 행정명령 발표\n",
      "- 🌍 G7, AI 기업 대상 국제 행동강령에 합의\n",
      "- 🤝 영국 AI 안전성 정상회의에 참가한 28개국, AI 위험에 공동 대응 선언\n",
      "- ⚖️ 미국 법원, 예술가들이 생성 AI 기업에 제기한 저작권 소송 기각\n",
      "- 📄 미국 연방거래위원회, 저작권청에 소비자 보호와 경쟁 측면의 AI 의견서 제출\n",
      "- 🇪🇺 EU AI 법 3자 협상, 기반모델 규제 관련 견해차로 난항\n",
      "- 💰 미국 프런티어 모델 포럼, 1,000만 달러 규모의 AI 안전 기금 조성\n",
      "- 🔍 코히어, 데이터 투명성 확보를 위한 데이터 출처 탐색기 공개\n",
      "- 🆕 알리바바 클라우드, 최신 LLM ‘통이치엔원 2.0’ 공개\n",
      "- 🤖 삼성전자, 자체 개발 생성 AI ‘삼성 가우스’ 공개\n",
      "- 💵 구글, 앤스로픽에 20억 달러 투자로 생성 AI 협력 강화\n",
      "- 📈 IDC, 2027년 AI 소프트웨어 매출 2,500억 달러 돌파 전망\n",
      "- 🔮 빌 게이츠, AI 에이전트로 인한 컴퓨터 사용의 패러다임 변화 전망\n",
      "- 📺 유튜브, 2024년부터 AI 생성 콘텐츠 표시 의무화\n",
      "- 🏢 영국 과학혁신기술부, AI 안전 연구소 설립 발표\n",
      "- 📊 구글 딥마인드, 범용 AI 모델의 기능과 동작에 대한 분류 체계 발표\n",
      "- 🌟 갈릴레오의 LLM 환각 지수 평가에서 GPT-4가 가장 우수\n",
      "- 💼 영국 옥스퍼드 인터넷 연구소, AI 기술자의 임금이 평균 21% 높아\n",
      "\n",
      "---\n",
      "\n",
      "- 🏛️ 미국, 안전하고 신뢰할 수 있는 AI 개발과 사용에 관한 행정명령 발표\n",
      "- 🌍 G7, AI 기업 대상 국제 행동강령에 합의\n",
      "- 🤝 영국 AI 안전성 정상회의에 참가한 28개국, AI 위험에 공동 대응 선언\n",
      "- ⚖️ 미국 법원, 예술가들이 생성 AI 기업에 제기한 저작권 소송 기각\n",
      "- 📄 미국 연방거래위원회, 저작권청에 소비자 보호와 경쟁 측면의 AI 의견서 제출\n",
      "- 🇪🇺 EU AI 법 3자 협상, 기반모델 규제 관련 견해차로 난항\n",
      "- 💰 미국 프런티어 모델 포럼, 1,000만 달러 규모의 AI 안전 기금 조성\n",
      "- 🔍 코히어, 데이터 투명성 확보를 위한 데이터 출처 탐색기 공개\n",
      "- 🆕 알리바바 클라우드, 최신 LLM ‘통이치엔원 2.0’ 공개\n",
      "- 🤖 삼성전자, 자체 개발 생성 AI ‘삼성 가우스’ 공개\n",
      "- 💵 구글, 앤스로픽에 20억 달러 투자로 생성 AI 협력 강화\n",
      "- 📈 IDC, 2027년 AI 소프트웨어 매출 2,500억 달러 돌파 전망\n",
      "- 🔮 빌 게이츠, AI 에이전트로 인한 컴퓨터 사용의 패러다임 변화 전망\n",
      "- 📺 유튜브, 2024년부터 AI 생성 콘텐츠 표시 의무화\n",
      "- 🏢 영국 과학혁신기술부, AI 안전 연구소 설립 발표\n",
      "- 📊 구글 딥마인드, 범용 AI 모델의 기능과 동작에 대한 분류 체계 발표\n",
      "- 🌟 갈릴레오의 LLM 환각 지수 평가에서 GPT-4가 가장 우수\n",
      "- 💼 영국 옥스퍼드 인터넷 연구소, AI 기술자의 임금이 평균 21% 높아"
     ]
    }
   ],
   "source": [
    "answer = stuff_chain.invoke({\"context\": docs})"
   ]
  }
 ],
 "metadata": {
  "kernelspec": {
   "display_name": "venv",
   "language": "python",
   "name": "python3"
  },
  "language_info": {
   "codemirror_mode": {
    "name": "ipython",
    "version": 3
   },
   "file_extension": ".py",
   "mimetype": "text/x-python",
   "name": "python",
   "nbconvert_exporter": "python",
   "pygments_lexer": "ipython3",
   "version": "3.11.9"
  }
 },
 "nbformat": 4,
 "nbformat_minor": 2
}
