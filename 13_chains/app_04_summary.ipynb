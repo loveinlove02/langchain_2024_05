{
 "cells": [
  {
   "cell_type": "code",
   "execution_count": 1,
   "metadata": {},
   "outputs": [],
   "source": [
    "from dotenv import load_dotenv\n",
    "import os\n",
    "\n",
    "load_dotenv(verbose=True)\n",
    "key = os.getenv('OPENAI_API_KEY')"
   ]
  },
  {
   "cell_type": "code",
   "execution_count": 7,
   "metadata": {},
   "outputs": [],
   "source": [
    "from langchain_community.document_loaders import PyPDFLoader\n",
    "from langchain_openai import ChatOpenAI\n",
    "from langchain import hub\n",
    "from langchain_core.runnables import chain\n",
    "from langchain_core.output_parsers import StrOutputParser\n",
    "from langchain_teddynote.callbacks import StreamingCallback"
   ]
  },
  {
   "cell_type": "code",
   "execution_count": 6,
   "metadata": {},
   "outputs": [],
   "source": [
    "loader = PyPDFLoader(\"./data/SPRI_AI_Brief_2023년12월호_F.pdf\")\n",
    "docs = loader.load()"
   ]
  },
  {
   "cell_type": "code",
   "execution_count": 8,
   "metadata": {},
   "outputs": [],
   "source": [
    "@chain\n",
    "def map_reduce_chain(docs):\n",
    "    map_llm = ChatOpenAI(\n",
    "        model_name=\"gpt-4o-mini\",\n",
    "        temperature=0        \n",
    "    )\n",
    "\n",
    "    # map prompt 다운로드\n",
    "    map_prompt = hub.pull(\"teddynote/map-prompt\")\n",
    "\n",
    "    # map chain 생성\n",
    "    map_chain = map_prompt | map_llm | StrOutputParser()\n",
    "\n",
    "    # 첫 번째 프롬프트, ChatOpenAI, 문자열 출력 파서를 연결하여 체인을 생성합니다.\n",
    "    doc_summaries = map_chain.batch(docs)\n",
    "\n",
    "    # reduce prompt 다운로드\n",
    "    reduce_prompt = hub.pull(\"teddynote/reduce-prompt\")\n",
    "\n",
    "    reduce_llm = ChatOpenAI(\n",
    "        model_name=\"gpt-4o\",\n",
    "        temperature=0,\n",
    "        callbacks=[StreamingCallback()],\n",
    "        streaming=True,\n",
    "    )\n",
    "\n",
    "\n",
    "    output_parser = StrOutputParser()\n",
    "\n",
    "    reduce_chain = reduce_prompt | reduce_llm | output_parser\n",
    "\n",
    "    return reduce_chain.invoke(\n",
    "        {\"doc_summaries\": \"\\n\".join(doc_summaries), \"language\": \"Korean\"}\n",
    "    )"
   ]
  },
  {
   "cell_type": "code",
   "execution_count": 9,
   "metadata": {},
   "outputs": [
    {
     "name": "stdout",
     "output_type": "stream",
     "text": [
      "- 2023년 12월호는 AI 기술의 최신 동향, 사회적 영향, 윤리적 문제 및 해결 방안을 다루고 있다.\n",
      "- 미국은 안전하고 신뢰할 수 있는 AI 개발을 위한 행정명령을 발표했으며, G7은 AI 기업을 위한 국제 행동강령에 합의하였다.\n",
      "- 영국 AI 안전성 정상회의에서는 AI 위험에 대한 공동 대응을 선언하고, AI 안전 연구소 설립을 발표하였다.\n",
      "- 미국 법원은 예술가들이 제기한 생성 AI 관련 저작권 소송을 기각하였으며, FTC는 생성 AI의 위험성을 경고했다.\n",
      "- EU AI 법 협상은 기반모델 규제 관련 견해차로 난항을 겪고 있다.\n",
      "- 프런티어 모델 포럼은 AI 안전 연구를 위한 기금을 조성하고, 데이터 출처 탐색기 플랫폼이 출시되었다.\n",
      "- 알리바바 클라우드와 삼성전자는 새로운 AI 모델을 공개하며, AI 개발을 촉진하고 있다.\n",
      "- 구글과 마이크로소프트, 아마존은 AI 관련 기업에 대규모 투자를 진행 중이다.\n",
      "- AI 소프트웨어 시장은 2027년까지 급성장할 것으로 예상되며, AI 에이전트의 보급이 컴퓨터 사용 방식을 변화시킬 전망이다.\n",
      "- 유튜브는 AI 생성 콘텐츠에 AI 라벨 표시를 의무화할 계획이다.\n",
      "- 영국 과학혁신기술부는 AI 안전 연구소를 설립하여 AI 시스템의 안전성을 보장할 예정이다.\n",
      "- 구글 딥마인드는 AGI 성능 평가를 위한 프레임워크를 발표하였다.\n",
      "- AI 기술을 가진 근로자는 높은 임금을 받을 수 있으며, 기술의 경제적 가치는 상보성에 의해 결정된다.\n",
      "- CES 2024와 AIMLA 2024, AAAI 컨퍼런스는 AI 및 기술 관련 주요 행사를 개최할 예정이다."
     ]
    }
   ],
   "source": [
    "answer = map_reduce_chain.invoke(docs)"
   ]
  }
 ],
 "metadata": {
  "kernelspec": {
   "display_name": "venv",
   "language": "python",
   "name": "python3"
  },
  "language_info": {
   "codemirror_mode": {
    "name": "ipython",
    "version": 3
   },
   "file_extension": ".py",
   "mimetype": "text/x-python",
   "name": "python",
   "nbconvert_exporter": "python",
   "pygments_lexer": "ipython3",
   "version": "3.11.9"
  }
 },
 "nbformat": 4,
 "nbformat_minor": 2
}
