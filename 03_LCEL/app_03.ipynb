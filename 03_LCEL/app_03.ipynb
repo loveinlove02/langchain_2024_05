{
 "cells": [
  {
   "cell_type": "code",
   "execution_count": 1,
   "metadata": {},
   "outputs": [],
   "source": [
    "from dotenv import load_dotenv\n",
    "import os\n",
    "\n",
    "load_dotenv(verbose=True)\n",
    "key = os.getenv('OPENAI_API_KEY')"
   ]
  },
  {
   "cell_type": "code",
   "execution_count": 2,
   "metadata": {},
   "outputs": [],
   "source": [
    "from langchain_openai import ChatOpenAI\n",
    "from langchain_core.prompts import PromptTemplate\n",
    "from langchain_core.output_parsers import StrOutputParser"
   ]
  },
  {
   "cell_type": "code",
   "execution_count": 3,
   "metadata": {},
   "outputs": [],
   "source": [
    "llm = ChatOpenAI(\n",
    "    api_key=key, \n",
    "    model_name='gpt-4o-mini',\n",
    "    temperature=0.1\n",
    ")"
   ]
  },
  {
   "cell_type": "code",
   "execution_count": 4,
   "metadata": {},
   "outputs": [],
   "source": [
    "template = \"\"\"\n",
    "당신은 영어를 가르치는 영어 교사입니다. 상황에 맞는 영어 회화를 작성해 주세요.\n",
    "약식은 [FORMAT]을 참고하여 작성해 주세요.\n",
    "\n",
    "#상황:\n",
    "{question}\n",
    "\n",
    "#FORMAT:\n",
    "- 영어회화\n",
    "- 한글해석\n",
    "\"\"\""
   ]
  },
  {
   "cell_type": "code",
   "execution_count": 5,
   "metadata": {},
   "outputs": [],
   "source": [
    "# 프롬프트 템플릿을 이용하여 프롬프트를 생성\n",
    "prompt = PromptTemplate.from_template(template)"
   ]
  },
  {
   "cell_type": "code",
   "execution_count": 7,
   "metadata": {},
   "outputs": [],
   "source": [
    "# 문자열 출력 파서를 초기화\n",
    "output_parser = StrOutputParser()"
   ]
  },
  {
   "cell_type": "code",
   "execution_count": 8,
   "metadata": {},
   "outputs": [],
   "source": [
    "# 체인\n",
    "chain = prompt | llm | output_parser"
   ]
  },
  {
   "cell_type": "code",
   "execution_count": 9,
   "metadata": {},
   "outputs": [],
   "source": [
    "answer = chain.invoke({'question': '서점에 가서 파이썬 책을 구입하고 싶어요.'})"
   ]
  },
  {
   "cell_type": "code",
   "execution_count": 10,
   "metadata": {},
   "outputs": [
    {
     "name": "stdout",
     "output_type": "stream",
     "text": [
      "**영어회화:**\n",
      "\n",
      "**Customer:** Hi, excuse me. Do you have any books on Python programming?  \n",
      "**고객:** 안녕하세요, 실례합니다. 파이썬 프로그래밍에 관한 책이 있나요?\n",
      "\n",
      "**Bookstore Staff:** Yes, we do! We have a few options. Are you looking for a beginner's book or something more advanced?  \n",
      "**서점 직원:** 네, 있습니다! 몇 가지 옵션이 있어요. 초보자를 위한 책을 찾고 계신가요, 아니면 좀 더 고급 책을 원하시나요?\n",
      "\n",
      "**Customer:** I'm a beginner, so I need something that starts from the basics.  \n",
      "**고객:** 저는 초보자라서 기본부터 시작하는 책이 필요해요.\n",
      "\n",
      "**Bookstore Staff:** Great! This one is very popular among beginners. It covers all the fundamentals and has plenty of exercises.  \n",
      "**서점 직원:** 좋습니다! 이 책은 초보자들 사이에서 매우 인기가 많아요. 기본 개념을 모두 다루고 있고 연습문제도 많이 포함되어 있어요.\n",
      "\n",
      "**Customer:** That sounds perfect! How much is it?  \n",
      "**고객:** 그거 정말 좋네요! 가격이 얼마인가요?\n",
      "\n",
      "**Bookstore Staff:** It's $29.99. Would you like to buy it?  \n",
      "**서점 직원:** 가격은 29.99달러입니다. 구매하시겠어요?\n",
      "\n",
      "**Customer:** Yes, I'll take it! Thank you!  \n",
      "**고객:** 네, 그걸로 할게요! 감사합니다!\n",
      "\n",
      "**Bookstore Staff:** You're welcome! Enjoy your learning!  \n",
      "**서점 직원:** 천만에요! 학습을 즐기세요!\n"
     ]
    }
   ],
   "source": [
    "print(answer)"
   ]
  }
 ],
 "metadata": {
  "kernelspec": {
   "display_name": "venv",
   "language": "python",
   "name": "python3"
  },
  "language_info": {
   "codemirror_mode": {
    "name": "ipython",
    "version": 3
   },
   "file_extension": ".py",
   "mimetype": "text/x-python",
   "name": "python",
   "nbconvert_exporter": "python",
   "pygments_lexer": "ipython3",
   "version": "3.11.9"
  }
 },
 "nbformat": 4,
 "nbformat_minor": 2
}
