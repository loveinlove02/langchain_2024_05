{
 "cells": [
  {
   "cell_type": "code",
   "execution_count": 3,
   "metadata": {},
   "outputs": [],
   "source": [
    "from dotenv import load_dotenv\n",
    "import os\n",
    "\n",
    "load_dotenv(verbose=True)\n",
    "key = os.getenv('OPENAI_API_KEY')"
   ]
  },
  {
   "cell_type": "code",
   "execution_count": 4,
   "metadata": {},
   "outputs": [],
   "source": [
    "from langchain_openai import ChatOpenAI\n",
    "from langchain_core.prompts import PromptTemplate"
   ]
  },
  {
   "cell_type": "code",
   "execution_count": 5,
   "metadata": {},
   "outputs": [],
   "source": [
    "llm = ChatOpenAI(\n",
    "    api_key=key, \n",
    "    model_name='gpt-4o-mini',\n",
    "    temperature=0.1,\n",
    "    max_tokens=2048,\n",
    ")"
   ]
  },
  {
   "cell_type": "code",
   "execution_count": 14,
   "metadata": {},
   "outputs": [],
   "source": [
    "# 프로그램에서 언어 모듈을 호출할 때 미리 준비된 프롬프트와 파이썬의 입력을 결합해서 사용합니다.\n",
    "# Prompts 모듈에서 PromptTemplate이 기본적인 모듈입니다.\n",
    "\n",
    "# PromptTemplate 은 사용자의 입력 변수를 사용하여 완전한 프롬프트 문자열을 만드는 데 사용되는 템플릿입니다.\n",
    "# · template: 템플릿 문자열입니다. 이 문자열 내에서 중괄호 {}는 변수를 나타냅니다.\n",
    "# · input_variables: 중괄호 안에 들어갈 변수의 이름을 리스트로 정의합니다. "
   ]
  },
  {
   "cell_type": "code",
   "execution_count": 6,
   "metadata": {},
   "outputs": [],
   "source": [
    "# prompt를 PromptTemplate 객체로 생성.\n",
    "prompt = PromptTemplate.from_template(\"{pruduct}는 어느 회사에서 개발한 제품인가요?\")"
   ]
  },
  {
   "cell_type": "code",
   "execution_count": 9,
   "metadata": {},
   "outputs": [],
   "source": [
    "# LCEL을 사용하여 다양한 구성 요소를 단일 체인으로 결합합니다. prompt와 llm(모델)을 결합.\n",
    "# 이 체인에서 사용자 입력은 프롬프트 템플릿으로 전달되고, \n",
    "# 그런 다음 프롬프트 템플릿 출력은 모델로 전달됩니다. \n",
    "chain = prompt | llm"
   ]
  },
  {
   "cell_type": "code",
   "execution_count": 10,
   "metadata": {},
   "outputs": [],
   "source": [
    "# 파이썬 딕셔너리 형태로 입력값을 전달합니다. (키: 값)\n",
    "# invoke() 함수 호출 시, 입력값을 전달합니다.\n",
    "answer = chain.invoke({'pruduct': '겔럭시폰'})"
   ]
  },
  {
   "cell_type": "code",
   "execution_count": 11,
   "metadata": {},
   "outputs": [
    {
     "name": "stdout",
     "output_type": "stream",
     "text": [
      "겔럭시폰은 삼성전자(Samsung Electronics)에서 개발한 스마트폰 브랜드입니다. 삼성전자는 다양한 모델의 겔럭시폰을 출시하고 있으며, 이 제품들은 안드로이드 운영체제를 기반으로 하고 있습니다.\n"
     ]
    }
   ],
   "source": [
    "print(answer.content)"
   ]
  }
 ],
 "metadata": {
  "kernelspec": {
   "display_name": "venv",
   "language": "python",
   "name": "python3"
  },
  "language_info": {
   "codemirror_mode": {
    "name": "ipython",
    "version": 3
   },
   "file_extension": ".py",
   "mimetype": "text/x-python",
   "name": "python",
   "nbconvert_exporter": "python",
   "pygments_lexer": "ipython3",
   "version": "3.11.9"
  }
 },
 "nbformat": 4,
 "nbformat_minor": 2
}
