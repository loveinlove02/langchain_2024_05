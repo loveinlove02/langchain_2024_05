{
 "cells": [
  {
   "cell_type": "code",
   "execution_count": 1,
   "metadata": {},
   "outputs": [],
   "source": [
    "from dotenv import load_dotenv\n",
    "import os\n",
    "\n",
    "load_dotenv(verbose=True)\n",
    "key = os.getenv('OPENAI_API_KEY')"
   ]
  },
  {
   "cell_type": "code",
   "execution_count": 7,
   "metadata": {},
   "outputs": [],
   "source": [
    "from typing import Annotated, TypedDict\n",
    "from langgraph.graph.message import add_messages\n",
    "\n",
    "from langgraph.graph import StateGraph, START, END\n",
    "from IPython.display import Image, display\n",
    "from langchain_openai import ChatOpenAI"
   ]
  },
  {
   "cell_type": "code",
   "execution_count": 9,
   "metadata": {},
   "outputs": [],
   "source": [
    "class State(TypedDict):                         # State 클래스 정의\n",
    "    messages: Annotated[list, add_messages]"
   ]
  },
  {
   "cell_type": "code",
   "execution_count": 10,
   "metadata": {},
   "outputs": [],
   "source": [
    "llm = ChatOpenAI(                               # LLM\n",
    "    api_key=key,\n",
    "    model='gpt-4o-mini'\n",
    ")"
   ]
  },
  {
   "cell_type": "code",
   "execution_count": 11,
   "metadata": {},
   "outputs": [],
   "source": [
    "def chatbot(state: State):                      # chatbot() 노드 함수\n",
    "    print('===== chatbot() 노드 실행 =====')\n",
    "    print(f\"state : {state['messages']}\")\n",
    "    answer = llm.invoke(state['messages'])\n",
    "    print(f\"결과: {answer}\")\n",
    "    print('===== chatbot() 노드   끝 =====')\n",
    "\n",
    "    return {'messages': answer}"
   ]
  },
  {
   "cell_type": "code",
   "execution_count": null,
   "metadata": {},
   "outputs": [],
   "source": [
    "graph = StateGraph(State)                       # State 그래프 생성"
   ]
  },
  {
   "cell_type": "code",
   "execution_count": 19,
   "metadata": {},
   "outputs": [
    {
     "data": {
      "text/plain": [
       "<langgraph.graph.state.StateGraph at 0x1e2b8237c90>"
      ]
     },
     "execution_count": 19,
     "metadata": {},
     "output_type": "execute_result"
    }
   ],
   "source": [
    "graph.add_node('chatbot', chatbot)              # chatbot 노드 추가"
   ]
  },
  {
   "cell_type": "code",
   "execution_count": 20,
   "metadata": {},
   "outputs": [
    {
     "data": {
      "text/plain": [
       "<langgraph.graph.state.StateGraph at 0x1e2b8237c90>"
      ]
     },
     "execution_count": 20,
     "metadata": {},
     "output_type": "execute_result"
    }
   ],
   "source": [
    "graph.add_edge(START, 'chatbot')                # START --> chatbot 노드"
   ]
  },
  {
   "cell_type": "code",
   "execution_count": 21,
   "metadata": {},
   "outputs": [
    {
     "data": {
      "text/plain": [
       "<langgraph.graph.state.StateGraph at 0x1e2b8237c90>"
      ]
     },
     "execution_count": 21,
     "metadata": {},
     "output_type": "execute_result"
    }
   ],
   "source": [
    "graph.add_edge('chatbot', END)                  # chatbot 노드 --> END"
   ]
  },
  {
   "cell_type": "code",
   "execution_count": 22,
   "metadata": {},
   "outputs": [],
   "source": [
    "app = graph.compile()"
   ]
  },
  {
   "cell_type": "code",
   "execution_count": 23,
   "metadata": {},
   "outputs": [
    {
     "data": {
      "image/jpeg": "[encoded data removed]",
      "text/plain": [
       "<IPython.core.display.Image object>"
      ]
     },
     "metadata": {},
     "output_type": "display_data"
    }
   ],
   "source": [
    "display(Image(app.get_graph().draw_mermaid_png()))"
   ]
  },
  {
   "cell_type": "code",
   "execution_count": 24,
   "metadata": {},
   "outputs": [
    {
     "name": "stdout",
     "output_type": "stream",
     "text": [
      "===== chatbot() 노드 실행 =====\n",
      "state : [HumanMessage(content='대구 교보문고', additional_kwargs={}, response_metadata={}, id='1')]\n",
      "결과: content='대구 교보문고는 대구광역시에 위치한 대형 서점으로, 다양한 책과 문구류를 판매하는 곳입니다. 이곳은 독서 공간과 카페도 갖추고 있어, 방문객들이 편안하게 책을 읽거나 공부할 수 있는 환경을 제공합니다. 교보문고는 한국 전역에 여러 지점을 두고 있으며, 대구 지점 역시 많은 독자들에게 사랑받고 있습니다. 서적뿐만 아니라 문화 행사나 강연 등도 종종 개최되어 지역 문화 활동의 중심지 역할을 하기도 합니다. 대구 교보문고에 대해 더 궁금한 점이 있으시면 말씀해 주세요!' additional_kwargs={'refusal': None} response_metadata={'token_usage': {'completion_tokens': 144, 'prompt_tokens': 13, 'total_tokens': 157, 'completion_tokens_details': {'audio_tokens': 0, 'reasoning_tokens': 0, 'accepted_prediction_tokens': 0, 'rejected_prediction_tokens': 0}, 'prompt_tokens_details': {'audio_tokens': 0, 'cached_tokens': 0}}, 'model_name': 'gpt-4o-mini-2024-07-18', 'system_fingerprint': 'fp_b376dfbbd5', 'finish_reason': 'stop', 'logprobs': None} id='run-b6f6ebf3-100e-46de-bc97-47b93130a4cb-0' usage_metadata={'input_tokens': 13, 'output_tokens': 144, 'total_tokens': 157, 'input_token_details': {'audio': 0, 'cache_read': 0}, 'output_token_details': {'audio': 0, 'reasoning': 0}}\n",
      "===== chatbot() 노드   끝 =====\n"
     ]
    }
   ],
   "source": [
    "from langchain_core.messages import HumanMessage\n",
    "\n",
    "message1 = HumanMessage(content='대구 교보문고', id='1')\n",
    "\n",
    "state = State(messages=[message1])\n",
    "\n",
    "result = app.invoke(state)"
   ]
  },
  {
   "cell_type": "code",
   "execution_count": 25,
   "metadata": {},
   "outputs": [
    {
     "name": "stdout",
     "output_type": "stream",
     "text": [
      "{'messages': [HumanMessage(content='대구 교보문고', additional_kwargs={}, response_metadata={}, id='1'), AIMessage(content='대구 교보문고는 대구광역시에 위치한 대형 서점으로, 다양한 책과 문구류를 판매하는 곳입니다. 이곳은 독서 공간과 카페도 갖추고 있어, 방문객들이 편안하게 책을 읽거나 공부할 수 있는 환경을 제공합니다. 교보문고는 한국 전역에 여러 지점을 두고 있으며, 대구 지점 역시 많은 독자들에게 사랑받고 있습니다. 서적뿐만 아니라 문화 행사나 강연 등도 종종 개최되어 지역 문화 활동의 중심지 역할을 하기도 합니다. 대구 교보문고에 대해 더 궁금한 점이 있으시면 말씀해 주세요!', additional_kwargs={'refusal': None}, response_metadata={'token_usage': {'completion_tokens': 144, 'prompt_tokens': 13, 'total_tokens': 157, 'completion_tokens_details': {'audio_tokens': 0, 'reasoning_tokens': 0, 'accepted_prediction_tokens': 0, 'rejected_prediction_tokens': 0}, 'prompt_tokens_details': {'audio_tokens': 0, 'cached_tokens': 0}}, 'model_name': 'gpt-4o-mini-2024-07-18', 'system_fingerprint': 'fp_b376dfbbd5', 'finish_reason': 'stop', 'logprobs': None}, id='run-b6f6ebf3-100e-46de-bc97-47b93130a4cb-0', usage_metadata={'input_tokens': 13, 'output_tokens': 144, 'total_tokens': 157, 'input_token_details': {'audio': 0, 'cache_read': 0}, 'output_token_details': {'audio': 0, 'reasoning': 0}})]}\n"
     ]
    }
   ],
   "source": [
    "print(result)"
   ]
  }
 ],
 "metadata": {
  "kernelspec": {
   "display_name": "venv",
   "language": "python",
   "name": "python3"
  },
  "language_info": {
   "codemirror_mode": {
    "name": "ipython",
    "version": 3
   },
   "file_extension": ".py",
   "mimetype": "text/x-python",
   "name": "python",
   "nbconvert_exporter": "python",
   "pygments_lexer": "ipython3",
   "version": "3.11.9"
  }
 },
 "nbformat": 4,
 "nbformat_minor": 2
}
