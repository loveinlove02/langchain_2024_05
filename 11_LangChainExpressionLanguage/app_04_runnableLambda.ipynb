{
 "cells": [
  {
   "cell_type": "code",
   "execution_count": 2,
   "metadata": {},
   "outputs": [],
   "source": [
    "from dotenv import load_dotenv\n",
    "import os\n",
    "\n",
    "load_dotenv(verbose=True)\n",
    "key = os.getenv('OPENAI_API_KEY')"
   ]
  },
  {
   "cell_type": "code",
   "execution_count": 3,
   "metadata": {},
   "outputs": [],
   "source": [
    "from langchain_openai import ChatOpenAI\n",
    "from langchain_core.prompts import PromptTemplate\n",
    "from langchain_core.output_parsers import StrOutputParser\n",
    "from langchain_core.runnables import RunnableLambda\n",
    "from operator import itemgetter"
   ]
  },
  {
   "cell_type": "code",
   "execution_count": 4,
   "metadata": {},
   "outputs": [],
   "source": [
    "llm = ChatOpenAI(\n",
    "    api_key=key, \n",
    "    model_name='gpt-4o-mini',\n",
    "    temperature=0.1\n",
    ")"
   ]
  },
  {
   "cell_type": "markdown",
   "metadata": {},
   "source": [
    "### 질문이 수학, 과학, 또는 기타 중 하나로 분류하는 Chain을 생성."
   ]
  },
  {
   "cell_type": "code",
   "execution_count": 5,
   "metadata": {},
   "outputs": [],
   "source": [
    "prompt = PromptTemplate.from_template(\n",
    "    \"\"\"주어진 사용자 질문을 `수학`, `과학`, 또는 `기타` 중 하나로 분류하세요. 한 단어 이상으로 응답하지 마세요.\n",
    "\n",
    "<question>\n",
    "{question}\n",
    "</question>\n",
    "\n",
    "Classification:\"\"\"\n",
    ")"
   ]
  },
  {
   "cell_type": "code",
   "execution_count": 6,
   "metadata": {},
   "outputs": [],
   "source": [
    "output_parser = StrOutputParser()"
   ]
  },
  {
   "cell_type": "code",
   "execution_count": 7,
   "metadata": {},
   "outputs": [],
   "source": [
    "# 체인\n",
    "chain = prompt | llm | output_parser"
   ]
  },
  {
   "cell_type": "code",
   "execution_count": 8,
   "metadata": {},
   "outputs": [
    {
     "data": {
      "text/plain": [
       "'수학'"
      ]
     },
     "execution_count": 8,
     "metadata": {},
     "output_type": "execute_result"
    }
   ],
   "source": [
    "# 질문을 입력하여 체인을 호출합니다.\n",
    "chain.invoke({\"question\": \"2+2 는 무엇인가요?\"})"
   ]
  },
  {
   "cell_type": "code",
   "execution_count": 9,
   "metadata": {},
   "outputs": [
    {
     "data": {
      "text/plain": [
       "'과학'"
      ]
     },
     "execution_count": 9,
     "metadata": {},
     "output_type": "execute_result"
    }
   ],
   "source": [
    "# 질문을 입력하여 체인을 호출합니다.\n",
    "chain.invoke({\"question\": \"작용 반작용의 법칙은 무엇인가요?\"})"
   ]
  },
  {
   "cell_type": "code",
   "execution_count": 10,
   "metadata": {},
   "outputs": [
    {
     "data": {
      "text/plain": [
       "'기타'"
      ]
     },
     "execution_count": 10,
     "metadata": {},
     "output_type": "execute_result"
    }
   ],
   "source": [
    "# 질문을 입력하여 체인을 호출합니다.\n",
    "chain.invoke({\"question\": \"소놀코딩은 어떤 회사인가요?\"})"
   ]
  },
  {
   "cell_type": "code",
   "execution_count": 1,
   "metadata": {},
   "outputs": [],
   "source": [
    "# 세 개의 하위체인을 생성합니다."
   ]
  },
  {
   "cell_type": "code",
   "execution_count": 11,
   "metadata": {},
   "outputs": [],
   "source": [
    "math_chain = (\n",
    "    PromptTemplate.from_template(\n",
    "        \"\"\"You are an expert in math. \\\n",
    "Always answer questions starting with \"깨봉선생님께서 말씀하시기를..\". \\\n",
    "Respond to the following question:\n",
    "\n",
    "Question: {question}\n",
    "Answer:\"\"\"\n",
    "    )\n",
    "    | ChatOpenAI(model=\"gpt-4o-mini\")\n",
    ")"
   ]
  },
  {
   "cell_type": "code",
   "execution_count": 12,
   "metadata": {},
   "outputs": [],
   "source": [
    "science_chain = (\n",
    "    PromptTemplate.from_template(\n",
    "        \"\"\"You are an expert in science. \\\n",
    "Always answer questions starting with \"아이작 뉴턴 선생님께서 말씀하시기를..\". \\\n",
    "Respond to the following question:\n",
    "\n",
    "Question: {question}\n",
    "Answer:\"\"\"\n",
    "    )\n",
    "    | ChatOpenAI(model=\"gpt-4o-mini\")\n",
    ")"
   ]
  },
  {
   "cell_type": "code",
   "execution_count": 13,
   "metadata": {},
   "outputs": [],
   "source": [
    "general_chain = (\n",
    "    PromptTemplate.from_template(\n",
    "        \"\"\"Respond to the following question concisely:\n",
    "\n",
    "Question: {question}\n",
    "Answer:\"\"\"\n",
    "    )\n",
    "    | ChatOpenAI(model=\"gpt-4o-mini\")\n",
    ")"
   ]
  },
  {
   "cell_type": "markdown",
   "metadata": {},
   "source": [
    "### 사용자 정의 함수 사용하기\n",
    "서로 다른 출력 간의 라우팅을 위해 사용자 정의 함수를 `RunnableLambda` 로 래핑하여 활용할 수도 있습니다."
   ]
  },
  {
   "cell_type": "code",
   "execution_count": 15,
   "metadata": {},
   "outputs": [],
   "source": [
    "def route(info):\n",
    "    if \"수학\" in info[\"topic\"].lower():     # 주제에 \"수학\"이 포함되어 있는 경우\n",
    "        return math_chain                   # math_chain 리턴\n",
    "                                            \n",
    "    elif \"과학\" in info[\"topic\"].lower():   # 주제에 \"과학\"이 포함되어 있는 경우        \n",
    "        return science_chain                # science_chain 리턴\n",
    "    \n",
    "    else:                                   # 그 외의 경우        \n",
    "        return general_chain                # general_chain 리턴"
   ]
  },
  {
   "cell_type": "code",
   "execution_count": 16,
   "metadata": {},
   "outputs": [],
   "source": [
    "full_chain = (\n",
    "    {\"topic\": chain, \"question\": itemgetter(\"question\")}\n",
    "    | RunnableLambda(        \n",
    "        route           # 경로를 지정하는 함수를 인자로 넣는다.\n",
    "    )   \n",
    "    | StrOutputParser()\n",
    ")"
   ]
  },
  {
   "cell_type": "code",
   "execution_count": 17,
   "metadata": {},
   "outputs": [
    {
     "data": {
      "text/plain": [
       "'깨봉선생님께서 말씀하시기를, 미적분은 수학의 한 분야로, 함수의 변화와 그에 따른 면적, 기울기 등을 다루는 학문입니다. 미적분은 크게 두 가지 주요 개념으로 나눌 수 있습니다: 미분과 적분입니다.\\n\\n미분은 함수의 변화율을 측정하는 방법으로, 특정 점에서의 기울기를 나타냅니다. 즉, 함수의 입력값이 조금 변할 때, 그에 따른 출력값의 변화를 분석하여 함수의 순간적인 변화 속도를 구하는 것입니다.\\n\\n반면, 적분은 주어진 구간에서 함수의 면적을 구하는 방법입니다. 이는 미분의 역과정으로 볼 수 있으며, 특정 함수 아래의 면적을 계산하여 전체적인 합을 구하는 데에 사용됩니다.\\n\\n미적분은 물리학, 공학, 경제학 등 다양한 분야에서 응용되며, 실생활의 여러 문제를 해결하는 데 필수적인 도구입니다.'"
      ]
     },
     "execution_count": 17,
     "metadata": {},
     "output_type": "execute_result"
    }
   ],
   "source": [
    "# 수학과 관련된 질문을 입력하여 체인을 호출합니다.\n",
    "full_chain.invoke({\"question\": \"미적분의 개념에 대해 말씀해 주세요.\"})"
   ]
  },
  {
   "cell_type": "code",
   "execution_count": 34,
   "metadata": {},
   "outputs": [
    {
     "data": {
      "text/plain": [
       "'아이작 뉴턴 선생님께서 말씀하시기를, 중력은 물체 간의 인력으로, 모든 물체는 그 질량에 비례하여 서로를 끌어당기는 힘이 작용한다고 하셨습니다. 이 힘은 물체의 질량이 클수록, 그리고 물체 간의 거리가 가까울수록 강해집니다. 뉴턴의 만유인력 법칙에 따르면, 두 물체 사이의 중력은 두 물체의 질량의 곱에 비례하고, 그들 사이의 거리의 제곱에 반비례합니다. 이 원리는 지구가 사물과 사람을 끌어당기는 이유를 설명하며, 우주에서 행성들이 궤도를 유지하는 원리이기도 합니다.'"
      ]
     },
     "execution_count": 34,
     "metadata": {},
     "output_type": "execute_result"
    }
   ],
   "source": [
    "# 과학과 관련된 질문을 입력하여 체인을 호출합니다.\n",
    "full_chain.invoke({\"question\": \"중력은 어떻게 작용하나요?\"})"
   ]
  },
  {
   "cell_type": "code",
   "execution_count": 36,
   "metadata": {},
   "outputs": [
    {
     "data": {
      "text/plain": [
       "'서울입니다.'"
      ]
     },
     "execution_count": 36,
     "metadata": {},
     "output_type": "execute_result"
    }
   ],
   "source": [
    "\n",
    "# 기타 질문을 입력하여 체인을 호출합니다.\n",
    "full_chain.invoke({\"question\": \"대한민국의 수도는?\"})"
   ]
  }
 ],
 "metadata": {
  "kernelspec": {
   "display_name": "venv",
   "language": "python",
   "name": "python3"
  },
  "language_info": {
   "codemirror_mode": {
    "name": "ipython",
    "version": 3
   },
   "file_extension": ".py",
   "mimetype": "text/x-python",
   "name": "python",
   "nbconvert_exporter": "python",
   "pygments_lexer": "ipython3",
   "version": "3.11.9"
  }
 },
 "nbformat": 4,
 "nbformat_minor": 2
}
