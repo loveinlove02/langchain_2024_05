{
 "cells": [
  {
   "cell_type": "code",
   "execution_count": 2,
   "metadata": {},
   "outputs": [],
   "source": [
    "from dotenv import load_dotenv\n",
    "import os\n",
    "\n",
    "load_dotenv(verbose=True)\n",
    "key = os.getenv('OPENAI_API_KEY')"
   ]
  },
  {
   "cell_type": "code",
   "execution_count": 3,
   "metadata": {},
   "outputs": [],
   "source": [
    "from langchain_openai import ChatOpenAI\n",
    "from langchain_core.prompts import PromptTemplate\n",
    "from langchain_core.output_parsers import StrOutputParser"
   ]
  },
  {
   "cell_type": "code",
   "execution_count": 4,
   "metadata": {},
   "outputs": [],
   "source": [
    "from langchain_core.runnables import RunnablePassthrough\n",
    "from langchain_core.runnables import RunnableLambda"
   ]
  },
  {
   "cell_type": "code",
   "execution_count": 5,
   "metadata": {},
   "outputs": [],
   "source": [
    "from datetime import datetime"
   ]
  },
  {
   "cell_type": "code",
   "execution_count": 6,
   "metadata": {},
   "outputs": [],
   "source": [
    "def get_today(a):\n",
    "    return datetime.today().strftime(\"%b-%d\")"
   ]
  },
  {
   "cell_type": "code",
   "execution_count": 7,
   "metadata": {},
   "outputs": [],
   "source": [
    "llm = ChatOpenAI(\n",
    "    api_key=key, \n",
    "    model_name='gpt-4o-mini',\n",
    "    temperature=0.1\n",
    ")"
   ]
  },
  {
   "cell_type": "code",
   "execution_count": 8,
   "metadata": {},
   "outputs": [],
   "source": [
    "prompt = PromptTemplate.from_template(\n",
    "    \"대한민국에서 {today} 가 기념일인 것을 {n}개 나열하세요. 년월일을 표기해 주세요.\"\n",
    ")"
   ]
  },
  {
   "cell_type": "code",
   "execution_count": 9,
   "metadata": {},
   "outputs": [],
   "source": [
    "output_parser = StrOutputParser()"
   ]
  },
  {
   "cell_type": "code",
   "execution_count": 10,
   "metadata": {},
   "outputs": [],
   "source": [
    "# RunnableLambda는 사용자 정의 함수를 맵핑 해주는 역할을 하는 Runnalbe 객체입니다.\n",
    "\n",
    "# 파이썬으로 함수를 만듭니다.\n",
    "# 프롬프트 입력으로 들어가기 전에 함수를 실행시켜 그 결과값을 프롬프트의 입력으로 넣을 수 있습니다. "
   ]
  },
  {
   "cell_type": "code",
   "execution_count": 11,
   "metadata": {},
   "outputs": [],
   "source": [
    "# 파이썬으로 작성한 함수를 RunnableLambda로 감싸서 먼저 호출해서 답을 얻습니다.\n",
    "# 그렇게 얻은 결과값을 프롬프트에 있는 특정 변수의 입력값으로 넣어줄 수 있다는 것입니다."
   ]
  },
  {
   "cell_type": "code",
   "execution_count": 12,
   "metadata": {},
   "outputs": [],
   "source": [
    "chain = (\n",
    "    {\"today\": RunnableLambda(get_today), \"n\": RunnablePassthrough()} \n",
    "    | prompt\n",
    "    | llm \n",
    "    | output_parser\n",
    ")"
   ]
  },
  {
   "cell_type": "code",
   "execution_count": 13,
   "metadata": {},
   "outputs": [],
   "source": [
    "answer = chain.invoke(3)"
   ]
  },
  {
   "cell_type": "code",
   "execution_count": 14,
   "metadata": {},
   "outputs": [
    {
     "name": "stdout",
     "output_type": "stream",
     "text": [
      "대한민국에서 11월 25일에 기념일로 지정된 날은 다음과 같습니다:\n",
      "\n",
      "1. **11월 25일 - 국제 폭력 근절의 날**: 이 날은 전 세계적으로 여성에 대한 폭력을 근절하기 위한 인식을 높이고자 하는 날입니다.\n",
      "  \n",
      "2. **11월 25일 - 성폭력 예방의 날**: 성폭력에 대한 경각심을 높이고 예방을 위한 다양한 활동을 촉진하기 위해 제정된 날입니다.\n",
      "\n",
      "3. **11월 25일 - 한국의 날**: 한국의 역사와 문화를 기념하고 알리기 위한 날로, 다양한 행사와 프로그램이 진행됩니다.\n",
      "\n",
      "이 외에도 특정 지역이나 단체에서 기념하는 날이 있을 수 있습니다.\n"
     ]
    }
   ],
   "source": [
    "print(answer)"
   ]
  }
 ],
 "metadata": {
  "kernelspec": {
   "display_name": "venv",
   "language": "python",
   "name": "python3"
  },
  "language_info": {
   "codemirror_mode": {
    "name": "ipython",
    "version": 3
   },
   "file_extension": ".py",
   "mimetype": "text/x-python",
   "name": "python",
   "nbconvert_exporter": "python",
   "pygments_lexer": "ipython3",
   "version": "3.11.9"
  }
 },
 "nbformat": 4,
 "nbformat_minor": 2
}
