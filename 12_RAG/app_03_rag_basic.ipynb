{
 "cells": [
  {
   "cell_type": "code",
   "execution_count": 3,
   "metadata": {},
   "outputs": [],
   "source": [
    "from dotenv import load_dotenv\n",
    "import os\n",
    "\n",
    "load_dotenv(verbose=True)\n",
    "key = os.getenv('OPENAI_API_KEY')"
   ]
  },
  {
   "cell_type": "code",
   "execution_count": 1,
   "metadata": {},
   "outputs": [],
   "source": [
    "from langchain_openai import ChatOpenAI\n",
    "from langchain_core.prompts import PromptTemplate\n",
    "from langchain_core.output_parsers import StrOutputParser\n",
    "from langchain_core.runnables import RunnablePassthrough"
   ]
  },
  {
   "cell_type": "code",
   "execution_count": 2,
   "metadata": {},
   "outputs": [],
   "source": [
    "from langchain.text_splitter import RecursiveCharacterTextSplitter\n",
    "from langchain_community.document_loaders import PyMuPDFLoader\n",
    "from langchain_community.document_loaders import TextLoader\n",
    "from langchain_openai.embeddings import OpenAIEmbeddings\n",
    "from langchain_chroma import Chroma"
   ]
  },
  {
   "cell_type": "code",
   "execution_count": 4,
   "metadata": {},
   "outputs": [],
   "source": [
    "# 단계 1: 문서 로드(Load Documents)\n",
    "loader = TextLoader(\"data/book_document.txt\", encoding='utf-8')\n",
    "docs = loader.load()"
   ]
  },
  {
   "cell_type": "code",
   "execution_count": 5,
   "metadata": {},
   "outputs": [
    {
     "name": "stdout",
     "output_type": "stream",
     "text": [
      "문서의 페이지수: 1\n"
     ]
    }
   ],
   "source": [
    "print(f\"문서의 페이지수: {len(docs)}\")"
   ]
  },
  {
   "cell_type": "code",
   "execution_count": 7,
   "metadata": {},
   "outputs": [],
   "source": [
    "# 단계 2: 문서 분할(Split Documents)\n",
    "text_splitter = RecursiveCharacterTextSplitter(chunk_size=500, chunk_overlap=50)\n",
    "split_documents = text_splitter.split_documents(docs)"
   ]
  },
  {
   "cell_type": "code",
   "execution_count": 8,
   "metadata": {},
   "outputs": [
    {
     "name": "stdout",
     "output_type": "stream",
     "text": [
      "분할된 청크의수: 5\n"
     ]
    }
   ],
   "source": [
    "print(f\"분할된 청크의수: {len(split_documents)}\")"
   ]
  },
  {
   "cell_type": "code",
   "execution_count": 9,
   "metadata": {},
   "outputs": [],
   "source": [
    "# 단계 3: 임베딩(Embedding) 생성\n",
    "embeddings = OpenAIEmbeddings(model=\"text-embedding-3-small\")"
   ]
  },
  {
   "cell_type": "code",
   "execution_count": 10,
   "metadata": {},
   "outputs": [],
   "source": [
    "# 단계 4: DB 생성(Create DB) 및 저장"
   ]
  },
  {
   "cell_type": "code",
   "execution_count": 11,
   "metadata": {},
   "outputs": [],
   "source": [
    "DB_PATH = \"./chroma_db\"     # 저장 경로\n",
    "\n",
    "# DB 생성\n",
    "db = Chroma.from_documents(\n",
    "    documents=split_documents, \n",
    "    embedding=embeddings,\n",
    "    persist_directory=DB_PATH,\n",
    "    collection_name='my_db2'\n",
    ")"
   ]
  },
  {
   "cell_type": "code",
   "execution_count": 12,
   "metadata": {},
   "outputs": [
    {
     "name": "stdout",
     "output_type": "stream",
     "text": [
      "### 제목 : 작심 3일 파이썬 Python\n",
      "- 저자 : 황덕창\n",
      "- 발행처 : 스포트라잇북 20190425\n",
      "- isbn : 9791187431169\n",
      "- 청구기호 : abc\n",
      "- 등록번호 : CLP000178589\n",
      "- 소장위치 : 두 번째 책장 세 번 째 열\n",
      "\n",
      "\n",
      "### 제목 : 돈의 속성 (300쇄 리커버에디션)\n",
      "- 저자 : 김승호\n",
      "- 발행처 : 스노우폭스북스 20200615\n",
      "- isbn : 9791188331796\n",
      "- 청구기호 : 일 001.12-김58ㅁ\n",
      "- 등록번호 : SBBB000029216\n",
      "- 소장위치 : 두 번째 책장 세 번째 열\n",
      "\n",
      "\n",
      "### 제목 : 철학의 쓸모\n",
      "- 저자 : 로랑스 드빌레르\n",
      "- 발행처 : 피카(FIKA) 20240820\n",
      "- isbn : 9791193866146\n",
      "- 청구기호 : 일 100-로835ㅊ\n",
      "- 등록번호 : CRX000037713\n",
      "- 소장위치 : 첫 번째 책장 첫 번째 열\n",
      "### 제목 : 혼자 공부하는 자바\n",
      "- 저자 : 신용권\n",
      "- 발행처 : 한빛미디어 2019\n",
      "- isbn : 9791169211901\n",
      "- 청구기호 : 일 005.138-신66ㅎ\n",
      "- 등록번호 : CLP000204092\n",
      "- 소장위치 : 세 번째 책장 두 번 째 열\n",
      "\n",
      "\n",
      "### 제목 : 이것이 자바다\n",
      "- 저자 : 신용권\n",
      "- 발행처 : 한빛미디어 2015\n",
      "- isbn : 9791169212274\n",
      "- 청구기호 : 일 005.133-신66ㅇ\n",
      "- 등록번호 : CLP000116210\n",
      "- 소장위치 : 첫 번째 책장 세 번 째 열\n",
      "\n",
      "\n",
      "### 제목 : 손에잡히는 파이썬\n",
      "- 저자 : 문용준\n",
      "- 발행처 : BJpublic(비제이퍼블릭) 2018\n",
      "- isbn : 9791186697726\n",
      "- 청구기호 : 일 005.133-문66ㅅ\n",
      "- 등록번호 : CLP000178588\n",
      "- 소장위치 : 세 번째 책장 두 번 째 열\n",
      "### 제목 : 숫자는 거짓말을 한다\n",
      "- 저자 : 알베르토 카이로\n",
      "- 발행처 : 웅진지식하우스 20201013\n",
      "- isbn : 9788901245591\n",
      "- 청구기호 : 일 310.1-알848ㅅ\n",
      "- 등록번호 : CLP000184432\n",
      "- 소장위치 : 첫 번째 책장 첫 번째 열\n",
      "\n",
      "\n",
      "### 제목 : 피노자의 형이상학\n",
      "- 저자 : 김은주\n",
      "- 발행처 : 민음사 20240503\n",
      "- isbn : 9788937446009\n",
      "- 청구기호 : 일 166.2-김68ㅅ\n",
      "- 등록번호 : CLP000299472\n",
      "- 소장위치 : 첫 번째 책장 첫 번째 열\n",
      "\n",
      "\n",
      "### 제목 : 파이썬 머신러닝 판다스 데이터 분석 (개정판)\n",
      "- 저자 : 오승환\n",
      "- 발행처 : 정보문화사 20240625\n",
      "- isbn : 9788956749808\n",
      "- 청구기호 : 일 001.12-오98o\n",
      "- 등록번호 : CLP000178599\n",
      "- 소장위치 : 두 번재 책장 첫 번째 열\n",
      "### 제목 : 명품 HTML5+CSS3+Javascript 웹 프로그래밍 (개정판)\n",
      "- 저자 : 황기태\n",
      "- 발행처 : 생능출판 20220210\n",
      "- isbn : 9788970505459\n",
      "- 청구기호 : 일 100.5 황\n",
      "- 등록번호 : CAX12345\n",
      "- 소장위치 : 최신자료실\n",
      "\n",
      "\n",
      "### 제목 : 드라마 만드는 여자들 : 드라마 피디 인터뷰집 (컷 : 그 뒤의 이야기를 묻다)\n",
      "- 저자 : 백시원^이정림^이나정^박보람^정지인^이윤정\n",
      "- 발행처 : 느린서재 20240809\n",
      "- isbn : 9791193749029\n",
      "- 청구기호 : 일 900.0이ㄴ\n",
      "- 등록번호 : CGR12345\n",
      "- 소장위치 : 최신 자료실\n"
     ]
    }
   ],
   "source": [
    "for doc in db.similarity_search(\"돈에 대한 책\"):\n",
    "    print(doc.page_content)"
   ]
  },
  {
   "cell_type": "code",
   "execution_count": 13,
   "metadata": {},
   "outputs": [],
   "source": [
    "# 단계 5: 검색기(Retriever) 생성\n",
    "# 문서에 포함되어 있는 정보를 검색하고 생성합니다.\n",
    "retriever = db.as_retriever()"
   ]
  },
  {
   "cell_type": "code",
   "execution_count": 14,
   "metadata": {},
   "outputs": [
    {
     "data": {
      "text/plain": [
       "[Document(metadata={'source': 'data/book_document.txt'}, page_content='### 제목 : 모두의 파이썬\\n- 저자 : 이승찬\\n- 발행처 : 길벗 2017\\n- isbn : 9791160505856\\n- 청구기호 : 일 005.12-이58ㅁ\\n- 등록번호 : CRX000029216\\n- 소장위치 : 첫 번째 책장 두 번 째 열\\n\\n\\n### 제목 : 자바 웹을 다루는 기술\\n- 저자 : 이병승\\n- 발행처 : 길벗 2019\\n- isbn : 9791160506822\\n- 청구기호 : 일 005.138-이44ㅈ\\n- 등록번호 : CLP000197301\\n- 소장위치 : 첫 번째 책장 두 번 째 열\\n\\n\\n### 제목 : 이것이 자바 스크립트다\\n- 저자 : 이우진\\n- 발행처 : 한빛미디어 20220905\\n- isbn : 9791169210028\\n- 청구기호 : sfsdf\\n- 등록번호 : abcde\\n- 소장위치 : 두 번째 책장 세 번 째 열'),\n",
       " Document(metadata={'source': 'data/book_document.txt'}, page_content='### 제목 : 작심 3일 파이썬 Python\\n- 저자 : 황덕창\\n- 발행처 : 스포트라잇북 20190425\\n- isbn : 9791187431169\\n- 청구기호 : abc\\n- 등록번호 : CLP000178589\\n- 소장위치 : 두 번째 책장 세 번 째 열\\n\\n\\n### 제목 : 돈의 속성 (300쇄 리커버에디션)\\n- 저자 : 김승호\\n- 발행처 : 스노우폭스북스 20200615\\n- isbn : 9791188331796\\n- 청구기호 : 일 001.12-김58ㅁ\\n- 등록번호 : SBBB000029216\\n- 소장위치 : 두 번째 책장 세 번째 열\\n\\n\\n### 제목 : 철학의 쓸모\\n- 저자 : 로랑스 드빌레르\\n- 발행처 : 피카(FIKA) 20240820\\n- isbn : 9791193866146\\n- 청구기호 : 일 100-로835ㅊ\\n- 등록번호 : CRX000037713\\n- 소장위치 : 첫 번째 책장 첫 번째 열'),\n",
       " Document(metadata={'source': 'data/book_document.txt'}, page_content='### 제목 : 명품 HTML5+CSS3+Javascript 웹 프로그래밍 (개정판)\\n- 저자 : 황기태\\n- 발행처 : 생능출판 20220210\\n- isbn : 9788970505459\\n- 청구기호 : 일 100.5 황\\n- 등록번호 : CAX12345\\n- 소장위치 : 최신자료실\\n\\n\\n### 제목 : 드라마 만드는 여자들 : 드라마 피디 인터뷰집 (컷 : 그 뒤의 이야기를 묻다)\\n- 저자 : 백시원^이정림^이나정^박보람^정지인^이윤정\\n- 발행처 : 느린서재 20240809\\n- isbn : 9791193749029\\n- 청구기호 : 일 900.0이ㄴ\\n- 등록번호 : CGR12345\\n- 소장위치 : 최신 자료실'),\n",
       " Document(metadata={'source': 'data/book_document.txt'}, page_content='### 제목 : 숫자는 거짓말을 한다\\n- 저자 : 알베르토 카이로\\n- 발행처 : 웅진지식하우스 20201013\\n- isbn : 9788901245591\\n- 청구기호 : 일 310.1-알848ㅅ\\n- 등록번호 : CLP000184432\\n- 소장위치 : 첫 번째 책장 첫 번째 열\\n\\n\\n### 제목 : 피노자의 형이상학\\n- 저자 : 김은주\\n- 발행처 : 민음사 20240503\\n- isbn : 9788937446009\\n- 청구기호 : 일 166.2-김68ㅅ\\n- 등록번호 : CLP000299472\\n- 소장위치 : 첫 번째 책장 첫 번째 열\\n\\n\\n### 제목 : 파이썬 머신러닝 판다스 데이터 분석 (개정판)\\n- 저자 : 오승환\\n- 발행처 : 정보문화사 20240625\\n- isbn : 9788956749808\\n- 청구기호 : 일 001.12-오98o\\n- 등록번호 : CLP000178599\\n- 소장위치 : 두 번재 책장 첫 번째 열')]"
      ]
     },
     "execution_count": 14,
     "metadata": {},
     "output_type": "execute_result"
    }
   ],
   "source": [
    "# 검색기에 쿼리를 날려 검색된 chunk 결과를 확인합니다.\n",
    "retriever.invoke(\"파이썬\")"
   ]
  },
  {
   "cell_type": "code",
   "execution_count": 15,
   "metadata": {},
   "outputs": [],
   "source": [
    "# 단계 6: 프롬프트 생성(Create Prompt)\n",
    "# 프롬프트를 생성합니다.\n",
    "prompt = PromptTemplate.from_template(\n",
    "    \"\"\"You are an assistant for question-answering tasks. \n",
    "Use the following pieces of retrieved context to answer the question. \n",
    "If you don't know the answer, just say that you don't know. \n",
    "Answer in Korean.\n",
    "\n",
    "#Context: \n",
    "{context}\n",
    "\n",
    "#Question:\n",
    "{question}\n",
    "\n",
    "#Answer:\"\"\"\n",
    ")"
   ]
  },
  {
   "cell_type": "code",
   "execution_count": 16,
   "metadata": {},
   "outputs": [],
   "source": [
    "# 단계 7: 언어모델(LLM) 생성\n",
    "# 모델(LLM) 을 생성합니다.\n",
    "llm = ChatOpenAI(model_name=\"gpt-4o-mini\", temperature=0)"
   ]
  },
  {
   "cell_type": "code",
   "execution_count": 17,
   "metadata": {},
   "outputs": [],
   "source": [
    "# 단계 8: 체인(Chain) 생성\n",
    "chain = (\n",
    "    {\"context\": retriever, \"question\": RunnablePassthrough()}\n",
    "    | prompt\n",
    "    | llm\n",
    "    | StrOutputParser()\n",
    ")"
   ]
  },
  {
   "cell_type": "code",
   "execution_count": 18,
   "metadata": {},
   "outputs": [],
   "source": [
    "# 체인 실행(Run Chain)\n",
    "# 문서에 대한 질의를 입력하고, 답변을 출력합니다.\n",
    "question = \"파이썬에 대한 책이 있나요?\"\n",
    "response = chain.invoke(question)"
   ]
  },
  {
   "cell_type": "code",
   "execution_count": 19,
   "metadata": {},
   "outputs": [
    {
     "name": "stdout",
     "output_type": "stream",
     "text": [
      "네, 파이썬에 대한 책이 있습니다. 예를 들어, \"작심 3일 파이썬 Python\"과 \"모두의 파이썬\", \"손에잡히는 파이썬\" 등이 있습니다.\n"
     ]
    }
   ],
   "source": [
    "print(response)"
   ]
  }
 ],
 "metadata": {
  "kernelspec": {
   "display_name": "venv",
   "language": "python",
   "name": "python3"
  },
  "language_info": {
   "codemirror_mode": {
    "name": "ipython",
    "version": 3
   },
   "file_extension": ".py",
   "mimetype": "text/x-python",
   "name": "python",
   "nbconvert_exporter": "python",
   "pygments_lexer": "ipython3",
   "version": "3.11.9"
  }
 },
 "nbformat": 4,
 "nbformat_minor": 2
}
